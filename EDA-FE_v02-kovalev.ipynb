{
 "cells": [
  {
   "cell_type": "code",
   "execution_count": 1,
   "id": "3723b173",
   "metadata": {},
   "outputs": [],
   "source": [
    "from pathlib import Path\n",
    "import pandas as pd\n",
    "import numpy as np\n",
    "import os\n",
    "import scipy.stats\n",
    "import seaborn as sns\n",
    "import matplotlib.pyplot as plt\n",
    "\n",
    "INPUT_PATH = Path('../input')\n",
    "OUTPUT_PATH = Path('../output')\n",
    "pd.set_option('display.float_format', str)"
   ]
  },
  {
   "cell_type": "code",
   "execution_count": 2,
   "id": "6e6f729a",
   "metadata": {},
   "outputs": [
    {
     "name": "stderr",
     "output_type": "stream",
     "text": [
      "/opt/conda/lib/python3.7/site-packages/decorator.py:231: DtypeWarning: Columns (10) have mixed types.Specify dtype option on import or set low_memory=False.\n",
      "  return caller(func, *(extras + args), **kw)\n"
     ]
    },
    {
     "name": "stdout",
     "output_type": "stream",
     "text": [
      "CPU times: user 7.18 s, sys: 485 ms, total: 7.66 s\n",
      "Wall time: 7.66 s\n"
     ]
    }
   ],
   "source": [
    "%%time\n",
    "\n",
    "transactions = pd.read_csv(INPUT_PATH / 'trxn.csv')\n",
    "assets_under_management = pd.read_csv(INPUT_PATH / 'aum.csv')\n",
    "balance = pd.read_csv(INPUT_PATH / 'balance.csv')\n",
    "client = pd.read_csv(INPUT_PATH / 'client.csv')\n",
    "campaigns = pd.read_csv(INPUT_PATH / 'com.csv')\n",
    "deals = pd.read_csv(INPUT_PATH / 'deals.csv')\n",
    "dict_merchant_category_code = pd.read_csv(INPUT_PATH / 'dict_mcc.csv')\n",
    "payments = pd.read_csv(INPUT_PATH / 'payments.csv')\n",
    "funnel = pd.read_csv(INPUT_PATH / 'funnel.csv')\n",
    "appl = pd.read_csv(INPUT_PATH / 'appl.csv')\n",
    "\n",
    "data = funnel.copy()"
   ]
  },
  {
   "cell_type": "code",
   "execution_count": 3,
   "id": "d258186b",
   "metadata": {},
   "outputs": [],
   "source": [
    "def get_feature_diff(df, col_name1, col_name2, fill_na_value):\n",
    "    return data['client_id'].map(df.groupby('client_id')[col_name1].sum() - df.groupby('client_id')[col_name2].sum()).fillna(fill_na_value)\n",
    "\n",
    "\n",
    "def get_feature_rate(df, col_name1, col_name2, fill_na_value):\n",
    "    return data['client_id'].map(df.groupby('client_id')[col_name1].sum() / (df.groupby('client_id')[col_name2].sum() + 1e-12)).fillna(fill_na_value)"
   ]
  },
  {
   "cell_type": "code",
   "execution_count": 4,
   "id": "7d62179a",
   "metadata": {},
   "outputs": [
    {
     "data": {
      "text/plain": [
       "client_id            0\n",
       "agr_flg              0\n",
       "otkaz                0\n",
       "dumaet               0\n",
       "ring_up_flg          0\n",
       "not_ring_up_flg      0\n",
       "count_comm           0\n",
       "month_end_dt         0\n",
       "channel              0\n",
       "prod               180\n",
       "dtype: int64"
      ]
     },
     "execution_count": 4,
     "metadata": {},
     "output_type": "execute_result"
    }
   ],
   "source": [
    "campaigns.isnull().sum()"
   ]
  },
  {
   "cell_type": "code",
   "execution_count": 5,
   "id": "a077967a",
   "metadata": {},
   "outputs": [
    {
     "data": {
      "text/plain": [
       "0.0       7551\n",
       "-999.0    4982\n",
       "1.0       4653\n",
       "2.0       2264\n",
       "3.0        943\n",
       "-1.0       591\n",
       "4.0        318\n",
       "-2.0        98\n",
       "5.0         61\n",
       "-3.0        20\n",
       "6.0          9\n",
       "-4.0         6\n",
       "-5.0         1\n",
       "7.0          1\n",
       "Name: diff_campaigns_otkaz-agr_flg, dtype: int64"
      ]
     },
     "execution_count": 5,
     "metadata": {},
     "output_type": "execute_result"
    }
   ],
   "source": [
    "data['diff_campaigns_otkaz-agr_flg'] = get_feature_diff(campaigns, 'otkaz', 'agr_flg', -999)\n",
    "data['diff_campaigns_otkaz-agr_flg'].value_counts()"
   ]
  },
  {
   "cell_type": "code",
   "execution_count": 6,
   "id": "4efb04e0",
   "metadata": {},
   "outputs": [
    {
     "data": {
      "text/plain": [
       "0.0                     7710\n",
       "-999.0                  4982\n",
       "0.0624999999999961       301\n",
       "0.08333333333332639      299\n",
       "0.12499999999998437      293\n",
       "                        ... \n",
       "0.0299999999999997         1\n",
       "0.2499999999999844         1\n",
       "0.07317073170731618        1\n",
       "0.030612244897958874       1\n",
       "0.020408163265305916       1\n",
       "Name: rate_campaigns_otkaz-count_comm, Length: 224, dtype: int64"
      ]
     },
     "execution_count": 6,
     "metadata": {},
     "output_type": "execute_result"
    }
   ],
   "source": [
    "data['rate_campaigns_otkaz-count_comm'] = get_feature_rate(campaigns, 'otkaz', 'count_comm', -999)\n",
    "data['rate_campaigns_otkaz-count_comm'].value_counts()"
   ]
  },
  {
   "cell_type": "code",
   "execution_count": 7,
   "id": "583ddf6d",
   "metadata": {},
   "outputs": [
    {
     "data": {
      "text/plain": [
       "0.0                     14916\n",
       "-999.0                   4982\n",
       "0.03571428571428444        77\n",
       "0.03124999999999902        73\n",
       "0.049999999999997505       70\n",
       "                        ...  \n",
       "0.04411764705882289         1\n",
       "0.026315789473683866        1\n",
       "0.027027027027026664        1\n",
       "0.499999999999875           1\n",
       "0.025641025641025314        1\n",
       "Name: rate_campaigns_agr_flg-count_comm, Length: 123, dtype: int64"
      ]
     },
     "execution_count": 7,
     "metadata": {},
     "output_type": "execute_result"
    }
   ],
   "source": [
    "data['rate_campaigns_agr_flg-count_comm'] = get_feature_rate(campaigns, 'agr_flg', 'count_comm', -999)\n",
    "data['rate_campaigns_agr_flg-count_comm'].value_counts()"
   ]
  },
  {
   "cell_type": "code",
   "execution_count": 8,
   "id": "3f30f89e",
   "metadata": {},
   "outputs": [
    {
     "data": {
      "text/plain": [
       "0.0                    10446\n",
       "-999.0                  4982\n",
       "0.12499999999999609      125\n",
       "0.11111111111110802      118\n",
       "0.19999999999999002      117\n",
       "                       ...  \n",
       "0.8235294117646978         1\n",
       "0.19230769230769046        1\n",
       "0.3111111111111077         1\n",
       "0.624999999999987          1\n",
       "0.4390243902438971         1\n",
       "Name: rate_campaigns_not_ring_up_flg-count_comm, Length: 560, dtype: int64"
      ]
     },
     "execution_count": 8,
     "metadata": {},
     "output_type": "execute_result"
    }
   ],
   "source": [
    "data['rate_campaigns_not_ring_up_flg-count_comm'] = get_feature_rate(campaigns, 'not_ring_up_flg', 'count_comm', -999)\n",
    "data['rate_campaigns_not_ring_up_flg-count_comm'].value_counts()"
   ]
  },
  {
   "cell_type": "code",
   "execution_count": 9,
   "id": "031da180",
   "metadata": {},
   "outputs": [
    {
     "data": {
      "text/plain": [
       "-999.0                  4982\n",
       "0.0                     3916\n",
       "0.4999999999999375       453\n",
       "0.33333333333330556      383\n",
       "0.2499999999999844       345\n",
       "                        ... \n",
       "0.039999999999999605       1\n",
       "0.1960784313725471         1\n",
       "0.18421052631578705        1\n",
       "0.03921568627450942        1\n",
       "0.11627906976744051        1\n",
       "Name: rate_campaigns_ring_up_flg-count_comm, Length: 434, dtype: int64"
      ]
     },
     "execution_count": 9,
     "metadata": {},
     "output_type": "execute_result"
    }
   ],
   "source": [
    "data['rate_campaigns_ring_up_flg-count_comm'] = get_feature_rate(campaigns, 'ring_up_flg', 'count_comm', -999)\n",
    "data['rate_campaigns_ring_up_flg-count_comm'].value_counts()"
   ]
  },
  {
   "cell_type": "code",
   "execution_count": 12,
   "id": "f16860ed",
   "metadata": {},
   "outputs": [
    {
     "data": {
      "text/html": [
       "<div>\n",
       "<style scoped>\n",
       "    .dataframe tbody tr th:only-of-type {\n",
       "        vertical-align: middle;\n",
       "    }\n",
       "\n",
       "    .dataframe tbody tr th {\n",
       "        vertical-align: top;\n",
       "    }\n",
       "\n",
       "    .dataframe thead th {\n",
       "        text-align: right;\n",
       "    }\n",
       "</style>\n",
       "<table border=\"1\" class=\"dataframe\">\n",
       "  <thead>\n",
       "    <tr style=\"text-align: right;\">\n",
       "      <th></th>\n",
       "      <th>client_id</th>\n",
       "      <th>gender</th>\n",
       "      <th>age</th>\n",
       "      <th>region</th>\n",
       "      <th>city</th>\n",
       "      <th>citizenship</th>\n",
       "      <th>education</th>\n",
       "      <th>job_type</th>\n",
       "    </tr>\n",
       "  </thead>\n",
       "  <tbody>\n",
       "    <tr>\n",
       "      <th>0</th>\n",
       "      <td>7513301859607023584</td>\n",
       "      <td>F</td>\n",
       "      <td>33.0</td>\n",
       "      <td>0</td>\n",
       "      <td>115</td>\n",
       "      <td>RUSSIA</td>\n",
       "      <td>NaN</td>\n",
       "      <td>NaN</td>\n",
       "    </tr>\n",
       "    <tr>\n",
       "      <th>1</th>\n",
       "      <td>9157009756404187626</td>\n",
       "      <td>F</td>\n",
       "      <td>59.0</td>\n",
       "      <td>17</td>\n",
       "      <td>668</td>\n",
       "      <td>RUSSIA</td>\n",
       "      <td>NaN</td>\n",
       "      <td>NaN</td>\n",
       "    </tr>\n",
       "    <tr>\n",
       "      <th>2</th>\n",
       "      <td>-1893104556496814867</td>\n",
       "      <td>M</td>\n",
       "      <td>51.0</td>\n",
       "      <td>28</td>\n",
       "      <td>65</td>\n",
       "      <td>RUSSIA</td>\n",
       "      <td>NaN</td>\n",
       "      <td>NaN</td>\n",
       "    </tr>\n",
       "    <tr>\n",
       "      <th>3</th>\n",
       "      <td>6886062013213911831</td>\n",
       "      <td>F</td>\n",
       "      <td>56.0</td>\n",
       "      <td>0</td>\n",
       "      <td>40</td>\n",
       "      <td>RUSSIA</td>\n",
       "      <td>NaN</td>\n",
       "      <td>NaN</td>\n",
       "    </tr>\n",
       "    <tr>\n",
       "      <th>4</th>\n",
       "      <td>-8156468515495593794</td>\n",
       "      <td>F</td>\n",
       "      <td>34.0</td>\n",
       "      <td>-1</td>\n",
       "      <td>-1</td>\n",
       "      <td>RUSSIA</td>\n",
       "      <td>HIGHER_PROFESSIONAL</td>\n",
       "      <td>NaN</td>\n",
       "    </tr>\n",
       "    <tr>\n",
       "      <th>...</th>\n",
       "      <td>...</td>\n",
       "      <td>...</td>\n",
       "      <td>...</td>\n",
       "      <td>...</td>\n",
       "      <td>...</td>\n",
       "      <td>...</td>\n",
       "      <td>...</td>\n",
       "      <td>...</td>\n",
       "    </tr>\n",
       "    <tr>\n",
       "      <th>21493</th>\n",
       "      <td>4662551505651924284</td>\n",
       "      <td>M</td>\n",
       "      <td>31.0</td>\n",
       "      <td>0</td>\n",
       "      <td>14</td>\n",
       "      <td>RUSSIA</td>\n",
       "      <td>NaN</td>\n",
       "      <td>NaN</td>\n",
       "    </tr>\n",
       "    <tr>\n",
       "      <th>21494</th>\n",
       "      <td>-8968737688687691353</td>\n",
       "      <td>M</td>\n",
       "      <td>53.0</td>\n",
       "      <td>25</td>\n",
       "      <td>33</td>\n",
       "      <td>RUSSIA</td>\n",
       "      <td>NaN</td>\n",
       "      <td>NaN</td>\n",
       "    </tr>\n",
       "    <tr>\n",
       "      <th>21495</th>\n",
       "      <td>-5799097497074119478</td>\n",
       "      <td>F</td>\n",
       "      <td>57.0</td>\n",
       "      <td>12</td>\n",
       "      <td>225</td>\n",
       "      <td>RUSSIA</td>\n",
       "      <td>NaN</td>\n",
       "      <td>NaN</td>\n",
       "    </tr>\n",
       "    <tr>\n",
       "      <th>21496</th>\n",
       "      <td>-2264802671063321355</td>\n",
       "      <td>M</td>\n",
       "      <td>37.0</td>\n",
       "      <td>37</td>\n",
       "      <td>368</td>\n",
       "      <td>RUSSIA</td>\n",
       "      <td>MIDDLE_PROFESSIONAL</td>\n",
       "      <td>NaN</td>\n",
       "    </tr>\n",
       "    <tr>\n",
       "      <th>21497</th>\n",
       "      <td>-174115151336149439</td>\n",
       "      <td>M</td>\n",
       "      <td>33.0</td>\n",
       "      <td>7</td>\n",
       "      <td>13</td>\n",
       "      <td>RUSSIA</td>\n",
       "      <td>NaN</td>\n",
       "      <td>NaN</td>\n",
       "    </tr>\n",
       "  </tbody>\n",
       "</table>\n",
       "<p>21498 rows × 8 columns</p>\n",
       "</div>"
      ],
      "text/plain": [
       "                 client_id gender  age  region  city citizenship  \\\n",
       "0      7513301859607023584      F 33.0       0   115      RUSSIA   \n",
       "1      9157009756404187626      F 59.0      17   668      RUSSIA   \n",
       "2     -1893104556496814867      M 51.0      28    65      RUSSIA   \n",
       "3      6886062013213911831      F 56.0       0    40      RUSSIA   \n",
       "4     -8156468515495593794      F 34.0      -1    -1      RUSSIA   \n",
       "...                    ...    ...  ...     ...   ...         ...   \n",
       "21493  4662551505651924284      M 31.0       0    14      RUSSIA   \n",
       "21494 -8968737688687691353      M 53.0      25    33      RUSSIA   \n",
       "21495 -5799097497074119478      F 57.0      12   225      RUSSIA   \n",
       "21496 -2264802671063321355      M 37.0      37   368      RUSSIA   \n",
       "21497  -174115151336149439      M 33.0       7    13      RUSSIA   \n",
       "\n",
       "                 education job_type  \n",
       "0                      NaN      NaN  \n",
       "1                      NaN      NaN  \n",
       "2                      NaN      NaN  \n",
       "3                      NaN      NaN  \n",
       "4      HIGHER_PROFESSIONAL      NaN  \n",
       "...                    ...      ...  \n",
       "21493                  NaN      NaN  \n",
       "21494                  NaN      NaN  \n",
       "21495                  NaN      NaN  \n",
       "21496  MIDDLE_PROFESSIONAL      NaN  \n",
       "21497                  NaN      NaN  \n",
       "\n",
       "[21498 rows x 8 columns]"
      ]
     },
     "execution_count": 12,
     "metadata": {},
     "output_type": "execute_result"
    }
   ],
   "source": [
    "client"
   ]
  },
  {
   "cell_type": "code",
   "execution_count": null,
   "id": "f005ab1f",
   "metadata": {},
   "outputs": [],
   "source": []
  }
 ],
 "metadata": {
  "environment": {
   "name": "common-cpu.m65",
   "type": "gcloud",
   "uri": "gcr.io/deeplearning-platform-release/base-cpu:m65"
  },
  "kernelspec": {
   "display_name": "Python 3",
   "language": "python",
   "name": "python3"
  },
  "language_info": {
   "codemirror_mode": {
    "name": "ipython",
    "version": 3
   },
   "file_extension": ".py",
   "mimetype": "text/x-python",
   "name": "python",
   "nbconvert_exporter": "python",
   "pygments_lexer": "ipython3",
   "version": "3.7.10"
  }
 },
 "nbformat": 4,
 "nbformat_minor": 5
}
