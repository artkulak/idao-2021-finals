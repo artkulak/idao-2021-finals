{
 "cells": [
  {
   "cell_type": "code",
   "execution_count": 1,
   "id": "4c360e70",
   "metadata": {},
   "outputs": [],
   "source": [
    "#####################\n",
    "# IMPORT LIBS\n",
    "#####################\n",
    "\n",
    "import pandas as pd\n",
    "import numpy as np\n",
    "from pathlib import Path\n",
    "import wandb\n",
    "import datetime\n",
    "import os\n",
    "import random\n",
    "import joblib\n",
    "import shutil\n",
    "\n",
    "from sklearn.model_selection import KFold\n",
    "from sklearn.model_selection import train_test_split\n",
    "from sklearn.metrics import accuracy_score\n",
    "from sklearn.preprocessing import LabelEncoder\n",
    "from scoring import local_scorer\n",
    "\n",
    "from lightgbm import LGBMClassifier\n",
    "\n",
    "\n",
    "#####################\n",
    "# SET CONSTANTS\n",
    "#####################\n",
    "\n",
    "INPUT_PATH = Path('../input')\n",
    "OUTPUT_PATH = Path('../output')\n",
    "TRAIN_PATH = INPUT_PATH \n",
    "\n",
    "TARGET_COLUMNS = ['sale_flg', 'sale_amount', 'contacts']\n",
    "FIXED_SEEDS = [948, 534, 432, 597, 103, 21, 2242, 17, 20, 29]\n",
    "\n",
    "RANDOM_SEED = 4444\n",
    "USE_WANDB = False\n",
    "CURRENT_TIME = str(datetime.datetime.now()).replace(' ', '_').split('.')[0]\n",
    "\n",
    "def seed_everything(seed=1234):\n",
    "    random.seed(seed)\n",
    "    os.environ['PYTHONHASHSEED'] = str(seed)\n",
    "    np.random.seed(seed)\n",
    "seed_everything(RANDOM_SEED)"
   ]
  },
  {
   "cell_type": "code",
   "execution_count": 2,
   "id": "1d5588a2",
   "metadata": {},
   "outputs": [],
   "source": [
    "###############\n",
    "# Config\n",
    "###############\n",
    "\n",
    "n_seed = 3\n",
    "n_fold = 3\n",
    "prediction_threshold = 0.2\n",
    "retrain_after_valid = True\n",
    "make_submission = True"
   ]
  },
  {
   "cell_type": "code",
   "execution_count": 3,
   "id": "b1174f7a",
   "metadata": {},
   "outputs": [],
   "source": [
    "if USE_WANDB:\n",
    "    wandb.login()\n",
    "    run = wandb.init(project=\"idao-2021-finals\", name = f'{CURRENT_TIME}') # todo add config here"
   ]
  },
  {
   "cell_type": "code",
   "execution_count": 4,
   "id": "a4e224a4",
   "metadata": {},
   "outputs": [],
   "source": [
    "%%time\n",
    "\n",
    "transactions = pd.read_csv(INPUT_PATH / 'trxn.csv')\n",
    "assets_under_management = pd.read_csv(INPUT_PATH / 'aum.csv')\n",
    "balance = pd.read_csv(INPUT_PATH / 'balance.csv')\n",
    "client = pd.read_csv(INPUT_PATH / 'client.csv')\n",
    "campaigns = pd.read_csv(INPUT_PATH / 'com.csv')\n",
    "deals = pd.read_csv(INPUT_PATH / 'deals.csv')\n",
    "dict_merchant_category_code = pd.read_csv(INPUT_PATH / 'dict_mcc.csv')\n",
    "payments = pd.read_csv(INPUT_PATH / 'payments.csv')\n",
    "funnel = pd.read_csv(INPUT_PATH / 'funnel.csv')\n",
    "appl = pd.read_csv(INPUT_PATH / 'appl.csv')"
   ]
  },
  {
   "cell_type": "code",
   "execution_count": 5,
   "id": "410e8533",
   "metadata": {},
   "outputs": [],
   "source": [
    "payments = payments.sort_values(by='day_dt', ascending = False).reset_index(drop = True)"
   ]
  },
  {
   "cell_type": "code",
   "execution_count": 6,
   "id": "80221132",
   "metadata": {},
   "outputs": [],
   "source": [
    "def most_common(x, default='unknown'):\n",
    "    try:\n",
    "        return x.value_counts().index[0] \n",
    "    except: \n",
    "        return default\n",
    "\n",
    "\n",
    "def create_features_transactions(data):\n",
    "    \n",
    "    data = data.copy()\n",
    "    \n",
    "    # transaction features\n",
    "    data['cards_count'] = data['client_id'].map(transactions.groupby('client_id')['card_id'].count()).fillna(0)\n",
    "    data['total_transaction_amount'] = data['client_id'].map(transactions.groupby('client_id')['tran_amt_rur'].sum()).fillna(0) # add monthly, daily, etc\n",
    "    data['mean_transaction_amount'] = data['client_id'].map(transactions.groupby('client_id')['tran_amt_rur'].mean()).fillna(0) # add monthly, daily, etc\n",
    "    data['std_transaction_amount'] = data['client_id'].map(transactions.groupby('client_id')['tran_amt_rur'].std()).fillna(0) # add monthly, daily, etc\n",
    "    \n",
    "    data['most_common_mcc_cd'] = data['client_id'].map(transactions.groupby('client_id')['mcc_cd'].agg(lambda x:most_common(x))).fillna(-1)\n",
    "    data['most_common_txn_comment_1'] = data['client_id'].map(transactions.groupby('client_id')['txn_comment_1'].agg(lambda x:most_common(x, 'unknown'))).fillna('unknown')\n",
    "    data['most_common_txn_city'] = data['client_id'].map(transactions.groupby('client_id')['txn_city'].agg(lambda x: most_common(x, 'unknown'))).fillna('unknown')\n",
    "    data['most_common_txn_country'] = data['client_id'].map(transactions.groupby('client_id')['txn_country'].agg(lambda x:most_common(x, 'unknown'))).fillna('unknown')\n",
    "    \n",
    "    data['number_of_transaction_countries'] = data['client_id'].map(transactions.groupby('client_id')['txn_city'].agg(lambda x:x.value_counts().shape[0]))\n",
    "    data['number_of_transaction_cities'] = data['client_id'].map(transactions.groupby('client_id')['txn_country'].agg(lambda x:x.value_counts().shape[0]))\n",
    "    \n",
    "    return data\n",
    "\n",
    "def create_feautures_payments(data):\n",
    "    data = data.copy()\n",
    "    \n",
    "    # payments \n",
    "    data['last_known_salary'] = data['client_id'].map(payments.groupby('client_id').apply(lambda x: x['sum_rur'].iloc[0])).fillna(-1)\n",
    "    data['total_recieved_salary'] = data['client_id'].map(payments.groupby('client_id').apply(lambda x: x['sum_rur'].sum())).fillna(-1)\n",
    "    \n",
    "    return data\n",
    "\n",
    "def create_features_deals(data):\n",
    "    data = data.copy()\n",
    "    \n",
    "    data['number_of_deals'] = data['client_id'].map(deals.groupby('client_id')['crncy_cd'].count()).fillna(0)\n",
    "    data['mean_deal_sum'] = data['client_id'].map(deals.groupby('client_id')['agrmnt_sum_rur'].mean()).fillna(0)\n",
    "    \n",
    "    return data"
   ]
  },
  {
   "cell_type": "code",
   "execution_count": 7,
   "id": "c430f049",
   "metadata": {},
   "outputs": [],
   "source": [
    "# data merge\n",
    "data = funnel.copy()\n",
    "data = funnel.merge(client, on=['client_id'])"
   ]
  },
  {
   "cell_type": "code",
   "execution_count": 8,
   "id": "5e4d6331",
   "metadata": {},
   "outputs": [],
   "source": [
    "%%time\n",
    "# create features\n",
    "\n",
    "# data = create_features_transactions(data)\n",
    "# data = create_feautures_payments(data)\n",
    "# data = create_features_deals(data)"
   ]
  },
  {
   "cell_type": "code",
   "execution_count": 9,
   "id": "65a10f96",
   "metadata": {},
   "outputs": [],
   "source": [
    "try:\n",
    "    os.mkdir(OUTPUT_PATH / 'preprocessors')\n",
    "except:\n",
    "    shutil.rmtree(OUTPUT_PATH / 'preprocessors')\n",
    "    os.mkdir(OUTPUT_PATH / 'preprocessors')"
   ]
  },
  {
   "cell_type": "code",
   "execution_count": 10,
   "id": "dc10f70d",
   "metadata": {},
   "outputs": [
    {
     "name": "stdout",
     "output_type": "stream",
     "text": [
      "                 client_id  sale_flg  sale_amount  contacts  feature_1  \\\n",
      "0      7513301859607023584         0          NaN         1          7   \n",
      "1      9157009756404187626         0          NaN         1          3   \n",
      "2     -1893104556496814867         0          NaN         1          5   \n",
      "3      6886062013213911831         0          NaN         1          4   \n",
      "4     -8156468515495593794         1    138018.05         1          7   \n",
      "...                    ...       ...          ...       ...        ...   \n",
      "21493  4662551505651924284         0          NaN         2          3   \n",
      "21494 -8968737688687691353         0          NaN         1          9   \n",
      "21495 -5799097497074119478         0          NaN         1          2   \n",
      "21496 -2264802671063321355         1     43882.85         2          8   \n",
      "21497  -174115151336149439         0          NaN         1          3   \n",
      "\n",
      "       client_segment  feature_2  feature_3  feature_4  feature_5  ...  \\\n",
      "0                13.0   571533.0    15717.0        0.0        0.0  ...   \n",
      "1                13.0  3642369.0    94787.0        0.0        0.0  ...   \n",
      "2                16.0   352826.0     5500.0        0.0     6822.0  ...   \n",
      "3                 3.0  6070615.0    40580.0        0.0    30401.0  ...   \n",
      "4                14.0  3642369.0    97156.0    81488.0        0.0  ...   \n",
      "...               ...        ...        ...        ...        ...  ...   \n",
      "21493             3.0  6070615.0    97616.0    21921.0    85635.0  ...   \n",
      "21494            14.0  1821184.0     2428.0     3952.0        0.0  ...   \n",
      "21495            16.0  6070615.0    64991.0        0.0    13450.0  ...   \n",
      "21496             4.0  2282408.0     5832.0    16185.0        0.0  ...   \n",
      "21497             3.0  6070615.0  1014167.0        0.0  1053209.0  ...   \n",
      "\n",
      "       feature_9  feature_10  region_cd  gender   age  region city  \\\n",
      "0           10.4     12548.0       86.0       F  33.0       0  115   \n",
      "1            8.9     77210.0        2.0       F  59.0      17  668   \n",
      "2            8.9      5508.0       52.0       M  51.0      28   65   \n",
      "3            7.9     40583.0       86.0       F  56.0       0   40   \n",
      "4           10.4     78108.0       27.0       F  34.0      -1   -1   \n",
      "...          ...         ...        ...     ...   ...     ...  ...   \n",
      "21493        7.9     97626.0       86.0       M  31.0       0   14   \n",
      "21494       19.9      2440.0       78.0       M  53.0      25   33   \n",
      "21495        7.9     64998.0       69.0       F  57.0      12  225   \n",
      "21496       17.9      5845.0       59.0       M  37.0      37  368   \n",
      "21497        9.9    128684.0       77.0       M  33.0       7   13   \n",
      "\n",
      "       citizenship            education  job_type  \n",
      "0           RUSSIA                  NaN       NaN  \n",
      "1           RUSSIA                  NaN       NaN  \n",
      "2           RUSSIA                  NaN       NaN  \n",
      "3           RUSSIA                  NaN       NaN  \n",
      "4           RUSSIA  HIGHER_PROFESSIONAL       NaN  \n",
      "...            ...                  ...       ...  \n",
      "21493       RUSSIA                  NaN       NaN  \n",
      "21494       RUSSIA                  NaN       NaN  \n",
      "21495       RUSSIA                  NaN       NaN  \n",
      "21496       RUSSIA  MIDDLE_PROFESSIONAL       NaN  \n",
      "21497       RUSSIA                  NaN       NaN  \n",
      "\n",
      "[21498 rows x 23 columns]"
     ]
    }
   ],
   "source": [
    "data"
   ]
  },
  {
   "cell_type": "code",
   "execution_count": 11,
   "id": "5c547000",
   "metadata": {},
   "outputs": [],
   "source": [
    "for c in fill_cols:\n",
    "    col_type = data[c].dtype\n",
    "    print(col_type)"
   ]
  },
  {
   "cell_type": "code",
   "execution_count": 12,
   "id": "20e270f2",
   "metadata": {},
   "outputs": [],
   "source": [
    "fill_cols = ['gender', 'citizenship', 'education', 'job_type']\n",
    "for c in fill_cols:\n",
    "    col_type = data[c].dtype\n",
    "    print(col_type)"
   ]
  },
  {
   "cell_type": "code",
   "execution_count": 13,
   "id": "20f68291",
   "metadata": {},
   "outputs": [],
   "source": [
    "fill_cols = ['gender', 'citizenship', 'education', 'job_type']\n",
    "for c in data.columns:\n",
    "    col_type = data[c].dtype\n",
    "    print(col_type)"
   ]
  },
  {
   "cell_type": "code",
   "execution_count": 14,
   "id": "0325655d",
   "metadata": {},
   "outputs": [],
   "source": [
    "#####################\n",
    "# IMPORT LIBS\n",
    "#####################\n",
    "\n",
    "import pandas as pd\n",
    "import numpy as np\n",
    "from pathlib import Path\n",
    "import wandb\n",
    "import datetime\n",
    "import os\n",
    "import random\n",
    "import joblib\n",
    "import shutil\n",
    "\n",
    "from sklearn.model_selection import KFold\n",
    "from sklearn.model_selection import train_test_split\n",
    "from sklearn.metrics import accuracy_score\n",
    "from sklearn.preprocessing import LabelEncoder\n",
    "from scoring import local_scorer\n",
    "\n",
    "from lightgbm import LGBMClassifier\n",
    "\n",
    "\n",
    "#####################\n",
    "# SET CONSTANTS\n",
    "#####################\n",
    "\n",
    "INPUT_PATH = Path('../input')\n",
    "OUTPUT_PATH = Path('../output')\n",
    "TRAIN_PATH = INPUT_PATH \n",
    "\n",
    "TARGET_COLUMNS = ['sale_flg', 'sale_amount', 'contacts']\n",
    "FIXED_SEEDS = [948, 534, 432, 597, 103, 21, 2242, 17, 20, 29]\n",
    "\n",
    "RANDOM_SEED = 4444\n",
    "USE_WANDB = True\n",
    "CURRENT_TIME = str(datetime.datetime.now()).replace(' ', '_').split('.')[0]\n",
    "\n",
    "def seed_everything(seed=1234):\n",
    "    random.seed(seed)\n",
    "    os.environ['PYTHONHASHSEED'] = str(seed)\n",
    "    np.random.seed(seed)\n",
    "seed_everything(RANDOM_SEED)"
   ]
  },
  {
   "cell_type": "code",
   "execution_count": 15,
   "id": "c07a035a",
   "metadata": {},
   "outputs": [],
   "source": [
    "###############\n",
    "# Config\n",
    "###############\n",
    "\n",
    "n_seed = 3\n",
    "n_fold = 3\n",
    "prediction_threshold = 0.2\n",
    "retrain_after_valid = True\n",
    "make_submission = True"
   ]
  },
  {
   "cell_type": "code",
   "execution_count": 16,
   "id": "fb8b4480",
   "metadata": {},
   "outputs": [],
   "source": [
    "if USE_WANDB:\n",
    "    wandb.login()\n",
    "    run = wandb.init(project=\"idao-2021-finals\", name = f'{CURRENT_TIME}') # todo add config here"
   ]
  },
  {
   "cell_type": "code",
   "execution_count": 17,
   "id": "6e01426f",
   "metadata": {},
   "outputs": [],
   "source": [
    "%%time\n",
    "\n",
    "transactions = pd.read_csv(INPUT_PATH / 'trxn.csv')\n",
    "assets_under_management = pd.read_csv(INPUT_PATH / 'aum.csv')\n",
    "balance = pd.read_csv(INPUT_PATH / 'balance.csv')\n",
    "client = pd.read_csv(INPUT_PATH / 'client.csv')\n",
    "campaigns = pd.read_csv(INPUT_PATH / 'com.csv')\n",
    "deals = pd.read_csv(INPUT_PATH / 'deals.csv')\n",
    "dict_merchant_category_code = pd.read_csv(INPUT_PATH / 'dict_mcc.csv')\n",
    "payments = pd.read_csv(INPUT_PATH / 'payments.csv')\n",
    "funnel = pd.read_csv(INPUT_PATH / 'funnel.csv')\n",
    "appl = pd.read_csv(INPUT_PATH / 'appl.csv')"
   ]
  },
  {
   "cell_type": "code",
   "execution_count": 18,
   "id": "d872c92c",
   "metadata": {},
   "outputs": [],
   "source": [
    "payments = payments.sort_values(by='day_dt', ascending = False).reset_index(drop = True)"
   ]
  },
  {
   "cell_type": "code",
   "execution_count": 19,
   "id": "f28e6545",
   "metadata": {},
   "outputs": [],
   "source": [
    "def most_common(x, default='unknown'):\n",
    "    try:\n",
    "        return x.value_counts().index[0] \n",
    "    except: \n",
    "        return default\n",
    "\n",
    "\n",
    "def create_features_transactions(data):\n",
    "    \n",
    "    data = data.copy()\n",
    "    \n",
    "    # transaction features\n",
    "    data['cards_count'] = data['client_id'].map(transactions.groupby('client_id')['card_id'].count()).fillna(0)\n",
    "    data['total_transaction_amount'] = data['client_id'].map(transactions.groupby('client_id')['tran_amt_rur'].sum()).fillna(0) # add monthly, daily, etc\n",
    "    data['mean_transaction_amount'] = data['client_id'].map(transactions.groupby('client_id')['tran_amt_rur'].mean()).fillna(0) # add monthly, daily, etc\n",
    "    data['std_transaction_amount'] = data['client_id'].map(transactions.groupby('client_id')['tran_amt_rur'].std()).fillna(0) # add monthly, daily, etc\n",
    "    \n",
    "    data['most_common_mcc_cd'] = data['client_id'].map(transactions.groupby('client_id')['mcc_cd'].agg(lambda x:most_common(x))).fillna(-1)\n",
    "    data['most_common_txn_comment_1'] = data['client_id'].map(transactions.groupby('client_id')['txn_comment_1'].agg(lambda x:most_common(x, 'unknown'))).fillna('unknown')\n",
    "    data['most_common_txn_city'] = data['client_id'].map(transactions.groupby('client_id')['txn_city'].agg(lambda x: most_common(x, 'unknown'))).fillna('unknown')\n",
    "    data['most_common_txn_country'] = data['client_id'].map(transactions.groupby('client_id')['txn_country'].agg(lambda x:most_common(x, 'unknown'))).fillna('unknown')\n",
    "    \n",
    "    data['number_of_transaction_countries'] = data['client_id'].map(transactions.groupby('client_id')['txn_city'].agg(lambda x:x.value_counts().shape[0]))\n",
    "    data['number_of_transaction_cities'] = data['client_id'].map(transactions.groupby('client_id')['txn_country'].agg(lambda x:x.value_counts().shape[0]))\n",
    "    \n",
    "    return data\n",
    "\n",
    "def create_feautures_payments(data):\n",
    "    data = data.copy()\n",
    "    \n",
    "    # payments \n",
    "    data['last_known_salary'] = data['client_id'].map(payments.groupby('client_id').apply(lambda x: x['sum_rur'].iloc[0])).fillna(-1)\n",
    "    data['total_recieved_salary'] = data['client_id'].map(payments.groupby('client_id').apply(lambda x: x['sum_rur'].sum())).fillna(-1)\n",
    "    \n",
    "    return data\n",
    "\n",
    "def create_features_deals(data):\n",
    "    data = data.copy()\n",
    "    \n",
    "    data['number_of_deals'] = data['client_id'].map(deals.groupby('client_id')['crncy_cd'].count()).fillna(0)\n",
    "    data['mean_deal_sum'] = data['client_id'].map(deals.groupby('client_id')['agrmnt_sum_rur'].mean()).fillna(0)\n",
    "    \n",
    "    return data"
   ]
  },
  {
   "cell_type": "code",
   "execution_count": 20,
   "id": "26706523",
   "metadata": {},
   "outputs": [],
   "source": [
    "# data merge\n",
    "data = funnel.copy()\n",
    "data = funnel.merge(client, on=['client_id'])"
   ]
  },
  {
   "cell_type": "code",
   "execution_count": 21,
   "id": "a248d6c4",
   "metadata": {},
   "outputs": [],
   "source": [
    "%%time\n",
    "# create features\n",
    "\n",
    "# data = create_features_transactions(data)\n",
    "# data = create_feautures_payments(data)\n",
    "# data = create_features_deals(data)"
   ]
  },
  {
   "cell_type": "code",
   "execution_count": 22,
   "id": "ed394170",
   "metadata": {},
   "outputs": [],
   "source": [
    "try:\n",
    "    os.mkdir(OUTPUT_PATH / 'preprocessors')\n",
    "except:\n",
    "    shutil.rmtree(OUTPUT_PATH / 'preprocessors')\n",
    "    os.mkdir(OUTPUT_PATH / 'preprocessors')"
   ]
  },
  {
   "cell_type": "code",
   "execution_count": 23,
   "id": "efb80cd8",
   "metadata": {},
   "outputs": [],
   "source": [
    "# data encode\n",
    "\n",
    "fill_cols = ['gender', 'citizenship', 'education', 'job_type']\n",
    "for c in fill_cols:\n",
    "    col_type = data[c].dtype\n",
    "    if col_type == 'object' or col_type.name == 'category':\n",
    "        data[c] = data[c].astype('category')\n",
    "# for col in fill_cols:\n",
    "#     try:\n",
    "#         le = LabelEncoder()\n",
    "#         data[col] = le.fit_transform(data[col].astype(str))\n",
    "#         joblib.dump(le, OUTPUT_PATH / 'preprocessors' / f'{col}.pkl')\n",
    "#     except:\n",
    "#         print(f'{col} is missing')"
   ]
  },
  {
   "cell_type": "code",
   "execution_count": 24,
   "id": "339dc537",
   "metadata": {},
   "outputs": [],
   "source": [
    "X = data.drop(columns = TARGET_COLUMNS + ['client_id'])\n",
    "Y = data[TARGET_COLUMNS[0]]"
   ]
  },
  {
   "cell_type": "code",
   "execution_count": 25,
   "id": "5e7cdd6a",
   "metadata": {},
   "outputs": [],
   "source": [
    "import shutil\n",
    "try:\n",
    "    os.mkdir(OUTPUT_PATH / 'models')\n",
    "except:\n",
    "    shutil.rmtree(OUTPUT_PATH / 'models')\n",
    "    os.mkdir(OUTPUT_PATH / 'models')"
   ]
  },
  {
   "cell_type": "code",
   "execution_count": 26,
   "id": "577201b5",
   "metadata": {},
   "outputs": [],
   "source": [
    "def running_train(X_train, Y_train, X_val, Y_val, i_fold=None, seed=None, params = None):\n",
    "    # prepare for train\n",
    "    \n",
    "    params = {\n",
    "              \"n_jobs\":-1,\n",
    "              \"random_state\": seed,\n",
    "              }\n",
    "    \n",
    "    \n",
    "    model = LGBMClassifier(**params) # define model here\n",
    "    \n",
    "    # Fit and save model\n",
    "    \n",
    "    if X_val is None:\n",
    "        model.fit(X_train, Y_train, verbose=False)\n",
    "    else:\n",
    "        model.fit(X_train, Y_train,   eval_set=(X_val, Y_val), early_stopping_rounds=500, verbose=False)\n",
    "    joblib.dump(model, OUTPUT_PATH / 'models' / f'lightgbm_{i_fold}_{seed}_{CURRENT_TIME}.pkl')"
   ]
  },
  {
   "cell_type": "code",
   "execution_count": 27,
   "id": "83e86e8a",
   "metadata": {},
   "outputs": [],
   "source": [
    "oof = np.zeros((X.shape[0], n_seed)) # cv_score\n",
    "seeds = []\n",
    "for i_seed in range(n_seed):\n",
    "    seed = FIXED_SEEDS[i_seed]\n",
    "    seed_everything(seed)\n",
    "\n",
    "    seeds.append(seed)\n",
    "    print('Seed: {}, {}/{}'.format(seed, i_seed + 1, n_seed))\n",
    "    \n",
    "    if n_fold != 1:\n",
    "        kf = KFold(n_splits=n_fold, random_state=seed, shuffle=True)\n",
    "        split_indexes = kf.split(X, Y)\n",
    "    else:\n",
    "        split_indexes = [train_test_split(np.arange(X.shape[0]), random_state=seed, shuffle = True)]\n",
    "    \n",
    "    for i_fold, (train_idx, val_idx) in enumerate(split_indexes):\n",
    "        print(\"# Fold: {}/{} (seed: {}/{})\".format(i_fold + 1, n_fold, i_seed + 1, n_seed))\n",
    "\n",
    "        # dataset\n",
    "        X_train, Y_train = X.iloc[train_idx], Y[train_idx]\n",
    "        X_val, Y_val = X.iloc[val_idx], Y[val_idx]\n",
    "\n",
    "\n",
    "        # train\n",
    "        running_train(X_train, Y_train, X_val, Y_val, i_fold=i_fold, seed=seed)\n",
    "\n",
    "        # predict on oof\n",
    "        print('predict on oof...', end='')\n",
    "        model = joblib.load( OUTPUT_PATH / 'models' / f'lightgbm_{i_fold}_{seed}_{CURRENT_TIME}.pkl')\n",
    "\n",
    "        prediction = model.predict_proba(X_val)[:, 1]\n",
    "\n",
    "        oof[val_idx, i_seed] = prediction\n",
    "        print('  done.')"
   ]
  },
  {
   "cell_type": "code",
   "execution_count": 28,
   "id": "b6aedc18",
   "metadata": {},
   "outputs": [],
   "source": [
    "if n_fold != 1:\n",
    "    Y_predicted = (np.mean(oof, axis = 1) > prediction_threshold).astype(int)\n",
    "    Y_test = funnel[['client_id', 'sale_flg']].set_index('client_id')\n",
    "    test_funnel =  funnel.set_index('client_id')\n",
    "if n_fold == 1 and n_seed == 1:\n",
    "    Y_predicted = (prediction > prediction_threshold).astype(int)\n",
    "    Y_test = funnel[['client_id', 'sale_flg']].iloc[split_indexes[0][1]].set_index('client_id')\n",
    "    test_funnel = funnel.iloc[split_indexes[0][1]].set_index('client_id')"
   ]
  },
  {
   "cell_type": "code",
   "execution_count": 29,
   "id": "ff272dec",
   "metadata": {},
   "outputs": [],
   "source": [
    "try: \n",
    "    os.mkdir(OUTPUT_PATH / 'scoring')\n",
    "except:\n",
    "    shutil.rmtree(OUTPUT_PATH / 'scoring')\n",
    "    os.mkdir(OUTPUT_PATH / 'scoring')"
   ]
  },
  {
   "cell_type": "code",
   "execution_count": 30,
   "id": "30750a6a",
   "metadata": {},
   "outputs": [],
   "source": [
    "public_score, private_score = local_scorer.get_score(test_funnel, Y_predicted, Y_test)"
   ]
  },
  {
   "cell_type": "code",
   "execution_count": 31,
   "id": "459902c2",
   "metadata": {},
   "outputs": [],
   "source": [
    "validation_accuracy = accuracy_score(Y_test['sale_flg'], Y_predicted)\n",
    "print(f'Public ANIC {public_score} Private ANIC {private_score}')\n",
    "print(f'ANIC {1/3*public_score+ 2/3 * private_score}')\n",
    "print(f'Accuracy score: {validation_accuracy}')"
   ]
  },
  {
   "cell_type": "code",
   "execution_count": 32,
   "id": "1613dc02",
   "metadata": {},
   "outputs": [],
   "source": [
    "if retrain_after_valid:\n",
    "    running_train(X, Y, None, None, i_fold=-1, seed=4444)"
   ]
  },
  {
   "cell_type": "code",
   "execution_count": 33,
   "id": "b89067ec",
   "metadata": {},
   "outputs": [],
   "source": [
    "if USE_WANDB:\n",
    "    wandb.run.summary[\"validation_accuracy\"] = validation_accuracy\n",
    "    wandb.run.summary[\"anic\"] = (public_score + private_score) / 2"
   ]
  },
  {
   "cell_type": "code",
   "execution_count": 34,
   "id": "0ca6fdf3",
   "metadata": {},
   "outputs": [],
   "source": [
    "if make_submission:\n",
    "    public_anic = float(input())\n",
    "    wandb.run.summary[\"public_anic\"] = public_anic"
   ]
  },
  {
   "cell_type": "code",
   "execution_count": 35,
   "id": "6de53780",
   "metadata": {},
   "outputs": [],
   "source": [
    "if USE_WANDB:\n",
    "    run.finish()"
   ]
  },
  {
   "cell_type": "code",
   "execution_count": 36,
   "id": "194beabe",
   "metadata": {},
   "outputs": [],
   "source": [
    "#####################\n",
    "# IMPORT LIBS\n",
    "#####################\n",
    "\n",
    "import pandas as pd\n",
    "import numpy as np\n",
    "from pathlib import Path\n",
    "import wandb\n",
    "import datetime\n",
    "import os\n",
    "import random\n",
    "import joblib\n",
    "import shutil\n",
    "\n",
    "from sklearn.model_selection import KFold\n",
    "from sklearn.model_selection import train_test_split\n",
    "from sklearn.metrics import accuracy_score\n",
    "from sklearn.preprocessing import LabelEncoder\n",
    "from scoring import local_scorer\n",
    "\n",
    "from lightgbm import LGBMClassifier\n",
    "\n",
    "\n",
    "#####################\n",
    "# SET CONSTANTS\n",
    "#####################\n",
    "\n",
    "INPUT_PATH = Path('../input')\n",
    "OUTPUT_PATH = Path('../output')\n",
    "TRAIN_PATH = INPUT_PATH \n",
    "\n",
    "TARGET_COLUMNS = ['sale_flg', 'sale_amount', 'contacts']\n",
    "FIXED_SEEDS = [948, 534, 432, 597, 103, 21, 2242, 17, 20, 29]\n",
    "\n",
    "RANDOM_SEED = 4444\n",
    "USE_WANDB = True\n",
    "CURRENT_TIME = str(datetime.datetime.now()).replace(' ', '_').split('.')[0]\n",
    "\n",
    "def seed_everything(seed=1234):\n",
    "    random.seed(seed)\n",
    "    os.environ['PYTHONHASHSEED'] = str(seed)\n",
    "    np.random.seed(seed)\n",
    "seed_everything(RANDOM_SEED)"
   ]
  },
  {
   "cell_type": "code",
   "execution_count": 37,
   "id": "ae61e1e0",
   "metadata": {},
   "outputs": [],
   "source": [
    "###############\n",
    "# Config\n",
    "###############\n",
    "\n",
    "n_seed = 3\n",
    "n_fold = 3\n",
    "prediction_threshold = 0.1\n",
    "retrain_after_valid = True\n",
    "make_submission = False"
   ]
  },
  {
   "cell_type": "code",
   "execution_count": 38,
   "id": "67cbd426",
   "metadata": {},
   "outputs": [],
   "source": [
    "if USE_WANDB:\n",
    "    wandb.login()\n",
    "    run = wandb.init(project=\"idao-2021-finals\", name = f'{CURRENT_TIME}') # todo add config here"
   ]
  },
  {
   "cell_type": "code",
   "execution_count": 39,
   "id": "88a0f774",
   "metadata": {},
   "outputs": [],
   "source": [
    "%%time\n",
    "\n",
    "transactions = pd.read_csv(INPUT_PATH / 'trxn.csv')\n",
    "assets_under_management = pd.read_csv(INPUT_PATH / 'aum.csv')\n",
    "balance = pd.read_csv(INPUT_PATH / 'balance.csv')\n",
    "client = pd.read_csv(INPUT_PATH / 'client.csv')\n",
    "campaigns = pd.read_csv(INPUT_PATH / 'com.csv')\n",
    "deals = pd.read_csv(INPUT_PATH / 'deals.csv')\n",
    "dict_merchant_category_code = pd.read_csv(INPUT_PATH / 'dict_mcc.csv')\n",
    "payments = pd.read_csv(INPUT_PATH / 'payments.csv')\n",
    "funnel = pd.read_csv(INPUT_PATH / 'funnel.csv')\n",
    "appl = pd.read_csv(INPUT_PATH / 'appl.csv')"
   ]
  },
  {
   "cell_type": "code",
   "execution_count": 40,
   "id": "ddd94f27",
   "metadata": {},
   "outputs": [],
   "source": [
    "payments = payments.sort_values(by='day_dt', ascending = False).reset_index(drop = True)"
   ]
  },
  {
   "cell_type": "code",
   "execution_count": 41,
   "id": "d1157b83",
   "metadata": {},
   "outputs": [],
   "source": [
    "def most_common(x, default='unknown'):\n",
    "    try:\n",
    "        return x.value_counts().index[0] \n",
    "    except: \n",
    "        return default\n",
    "\n",
    "\n",
    "def create_features_transactions(data):\n",
    "    \n",
    "    data = data.copy()\n",
    "    \n",
    "    # transaction features\n",
    "    data['cards_count'] = data['client_id'].map(transactions.groupby('client_id')['card_id'].count()).fillna(0)\n",
    "    data['total_transaction_amount'] = data['client_id'].map(transactions.groupby('client_id')['tran_amt_rur'].sum()).fillna(0) # add monthly, daily, etc\n",
    "    data['mean_transaction_amount'] = data['client_id'].map(transactions.groupby('client_id')['tran_amt_rur'].mean()).fillna(0) # add monthly, daily, etc\n",
    "    data['std_transaction_amount'] = data['client_id'].map(transactions.groupby('client_id')['tran_amt_rur'].std()).fillna(0) # add monthly, daily, etc\n",
    "    \n",
    "    data['most_common_mcc_cd'] = data['client_id'].map(transactions.groupby('client_id')['mcc_cd'].agg(lambda x:most_common(x))).fillna(-1)\n",
    "    data['most_common_txn_comment_1'] = data['client_id'].map(transactions.groupby('client_id')['txn_comment_1'].agg(lambda x:most_common(x, 'unknown'))).fillna('unknown')\n",
    "    data['most_common_txn_city'] = data['client_id'].map(transactions.groupby('client_id')['txn_city'].agg(lambda x: most_common(x, 'unknown'))).fillna('unknown')\n",
    "    data['most_common_txn_country'] = data['client_id'].map(transactions.groupby('client_id')['txn_country'].agg(lambda x:most_common(x, 'unknown'))).fillna('unknown')\n",
    "    \n",
    "    data['number_of_transaction_countries'] = data['client_id'].map(transactions.groupby('client_id')['txn_city'].agg(lambda x:x.value_counts().shape[0]))\n",
    "    data['number_of_transaction_cities'] = data['client_id'].map(transactions.groupby('client_id')['txn_country'].agg(lambda x:x.value_counts().shape[0]))\n",
    "    \n",
    "    return data\n",
    "\n",
    "def create_feautures_payments(data):\n",
    "    data = data.copy()\n",
    "    \n",
    "    # payments \n",
    "    data['last_known_salary'] = data['client_id'].map(payments.groupby('client_id').apply(lambda x: x['sum_rur'].iloc[0])).fillna(-1)\n",
    "    data['total_recieved_salary'] = data['client_id'].map(payments.groupby('client_id').apply(lambda x: x['sum_rur'].sum())).fillna(-1)\n",
    "    \n",
    "    return data\n",
    "\n",
    "def create_features_deals(data):\n",
    "    data = data.copy()\n",
    "    \n",
    "    data['number_of_deals'] = data['client_id'].map(deals.groupby('client_id')['crncy_cd'].count()).fillna(0)\n",
    "    data['mean_deal_sum'] = data['client_id'].map(deals.groupby('client_id')['agrmnt_sum_rur'].mean()).fillna(0)\n",
    "    \n",
    "    return data"
   ]
  },
  {
   "cell_type": "code",
   "execution_count": 42,
   "id": "53d0bb2e",
   "metadata": {},
   "outputs": [],
   "source": [
    "# data merge\n",
    "data = funnel.copy()\n",
    "data = funnel.merge(client, on=['client_id'])"
   ]
  },
  {
   "cell_type": "code",
   "execution_count": 43,
   "id": "10970659",
   "metadata": {},
   "outputs": [],
   "source": [
    "%%time\n",
    "# create features\n",
    "\n",
    "# data = create_features_transactions(data)\n",
    "# data = create_feautures_payments(data)\n",
    "# data = create_features_deals(data)"
   ]
  },
  {
   "cell_type": "code",
   "execution_count": 44,
   "id": "ffbc52b9",
   "metadata": {},
   "outputs": [],
   "source": [
    "try:\n",
    "    os.mkdir(OUTPUT_PATH / 'preprocessors')\n",
    "except:\n",
    "    shutil.rmtree(OUTPUT_PATH / 'preprocessors')\n",
    "    os.mkdir(OUTPUT_PATH / 'preprocessors')"
   ]
  },
  {
   "cell_type": "code",
   "execution_count": 45,
   "id": "16e58764",
   "metadata": {},
   "outputs": [],
   "source": [
    "# data encode\n",
    "\n",
    "fill_cols = ['gender', 'citizenship', 'education', 'job_type']\n",
    "for c in fill_cols:\n",
    "    col_type = data[c].dtype\n",
    "    if col_type == 'object' or col_type.name == 'category':\n",
    "        data[c] = data[c].astype('category')\n",
    "# for col in fill_cols:\n",
    "#     try:\n",
    "#         le = LabelEncoder()\n",
    "#         data[col] = le.fit_transform(data[col].astype(str))\n",
    "#         joblib.dump(le, OUTPUT_PATH / 'preprocessors' / f'{col}.pkl')\n",
    "#     except:\n",
    "#         print(f'{col} is missing')"
   ]
  },
  {
   "cell_type": "code",
   "execution_count": 46,
   "id": "17e0c2ab",
   "metadata": {},
   "outputs": [],
   "source": [
    "X = data.drop(columns = TARGET_COLUMNS + ['client_id'])\n",
    "Y = data[TARGET_COLUMNS[0]]"
   ]
  },
  {
   "cell_type": "code",
   "execution_count": 47,
   "id": "315ee3ee",
   "metadata": {},
   "outputs": [],
   "source": [
    "import shutil\n",
    "try:\n",
    "    os.mkdir(OUTPUT_PATH / 'models')\n",
    "except:\n",
    "    shutil.rmtree(OUTPUT_PATH / 'models')\n",
    "    os.mkdir(OUTPUT_PATH / 'models')"
   ]
  },
  {
   "cell_type": "code",
   "execution_count": 48,
   "id": "c1db4a25",
   "metadata": {},
   "outputs": [],
   "source": [
    "def running_train(X_train, Y_train, X_val, Y_val, i_fold=None, seed=None, params = None):\n",
    "    # prepare for train\n",
    "    \n",
    "    params = {\n",
    "              \"n_jobs\":-1,\n",
    "              \"random_state\": seed,\n",
    "              }\n",
    "    \n",
    "    \n",
    "    model = LGBMClassifier(**params) # define model here\n",
    "    \n",
    "    # Fit and save model\n",
    "    \n",
    "    if X_val is None:\n",
    "        model.fit(X_train, Y_train, verbose=False)\n",
    "    else:\n",
    "        model.fit(X_train, Y_train,   eval_set=(X_val, Y_val), early_stopping_rounds=500, verbose=False)\n",
    "    joblib.dump(model, OUTPUT_PATH / 'models' / f'lightgbm_{i_fold}_{seed}_{CURRENT_TIME}.pkl')"
   ]
  },
  {
   "cell_type": "code",
   "execution_count": 49,
   "id": "6b44bb1f",
   "metadata": {},
   "outputs": [],
   "source": [
    "oof = np.zeros((X.shape[0], n_seed)) # cv_score\n",
    "seeds = []\n",
    "for i_seed in range(n_seed):\n",
    "    seed = FIXED_SEEDS[i_seed]\n",
    "    seed_everything(seed)\n",
    "\n",
    "    seeds.append(seed)\n",
    "    print('Seed: {}, {}/{}'.format(seed, i_seed + 1, n_seed))\n",
    "    \n",
    "    if n_fold != 1:\n",
    "        kf = KFold(n_splits=n_fold, random_state=seed, shuffle=True)\n",
    "        split_indexes = kf.split(X, Y)\n",
    "    else:\n",
    "        split_indexes = [train_test_split(np.arange(X.shape[0]), random_state=seed, shuffle = True)]\n",
    "    \n",
    "    for i_fold, (train_idx, val_idx) in enumerate(split_indexes):\n",
    "        print(\"# Fold: {}/{} (seed: {}/{})\".format(i_fold + 1, n_fold, i_seed + 1, n_seed))\n",
    "\n",
    "        # dataset\n",
    "        X_train, Y_train = X.iloc[train_idx], Y[train_idx]\n",
    "        X_val, Y_val = X.iloc[val_idx], Y[val_idx]\n",
    "\n",
    "\n",
    "        # train\n",
    "        running_train(X_train, Y_train, X_val, Y_val, i_fold=i_fold, seed=seed)\n",
    "\n",
    "        # predict on oof\n",
    "        print('predict on oof...', end='')\n",
    "        model = joblib.load( OUTPUT_PATH / 'models' / f'lightgbm_{i_fold}_{seed}_{CURRENT_TIME}.pkl')\n",
    "\n",
    "        prediction = model.predict_proba(X_val)[:, 1]\n",
    "\n",
    "        oof[val_idx, i_seed] = prediction\n",
    "        print('  done.')"
   ]
  },
  {
   "cell_type": "code",
   "execution_count": 50,
   "id": "7f5a803b",
   "metadata": {},
   "outputs": [],
   "source": [
    "if n_fold != 1:\n",
    "    Y_predicted = (np.mean(oof, axis = 1) > prediction_threshold).astype(int)\n",
    "    Y_test = funnel[['client_id', 'sale_flg']].set_index('client_id')\n",
    "    test_funnel =  funnel.set_index('client_id')\n",
    "if n_fold == 1 and n_seed == 1:\n",
    "    Y_predicted = (prediction > prediction_threshold).astype(int)\n",
    "    Y_test = funnel[['client_id', 'sale_flg']].iloc[split_indexes[0][1]].set_index('client_id')\n",
    "    test_funnel = funnel.iloc[split_indexes[0][1]].set_index('client_id')"
   ]
  },
  {
   "cell_type": "code",
   "execution_count": 51,
   "id": "0717ef59",
   "metadata": {},
   "outputs": [],
   "source": [
    "try: \n",
    "    os.mkdir(OUTPUT_PATH / 'scoring')\n",
    "except:\n",
    "    shutil.rmtree(OUTPUT_PATH / 'scoring')\n",
    "    os.mkdir(OUTPUT_PATH / 'scoring')"
   ]
  },
  {
   "cell_type": "code",
   "execution_count": 52,
   "id": "40716fd7",
   "metadata": {},
   "outputs": [],
   "source": [
    "public_score, private_score = local_scorer.get_score(test_funnel, Y_predicted, Y_test)"
   ]
  },
  {
   "cell_type": "code",
   "execution_count": 53,
   "id": "7fb80470",
   "metadata": {},
   "outputs": [],
   "source": [
    "validation_accuracy = accuracy_score(Y_test['sale_flg'], Y_predicted)\n",
    "print(f'Public ANIC {public_score} Private ANIC {private_score}')\n",
    "print(f'ANIC {1/3*public_score+ 2/3 * private_score}')\n",
    "print(f'Accuracy score: {validation_accuracy}')"
   ]
  },
  {
   "cell_type": "code",
   "execution_count": 54,
   "id": "3bc63c40",
   "metadata": {},
   "outputs": [],
   "source": [
    "if retrain_after_valid:\n",
    "    running_train(X, Y, None, None, i_fold=-1, seed=4444)"
   ]
  },
  {
   "cell_type": "code",
   "execution_count": 55,
   "id": "367c53a9",
   "metadata": {},
   "outputs": [],
   "source": [
    "if USE_WANDB:\n",
    "    wandb.run.summary[\"validation_accuracy\"] = validation_accuracy\n",
    "    wandb.run.summary[\"anic\"] = 1/3*public_score+ 2/3 * private_score"
   ]
  },
  {
   "cell_type": "code",
   "execution_count": 56,
   "id": "b8e6efc1",
   "metadata": {},
   "outputs": [],
   "source": [
    "if make_submission:\n",
    "    public_anic = float(input())\n",
    "    wandb.run.summary[\"public_anic\"] = public_anic"
   ]
  },
  {
   "cell_type": "code",
   "execution_count": 57,
   "id": "6eec5523",
   "metadata": {},
   "outputs": [],
   "source": [
    "if USE_WANDB:\n",
    "    run.finish()"
   ]
  },
  {
   "cell_type": "code",
   "execution_count": 58,
   "id": "7f63f47b",
   "metadata": {},
   "outputs": [],
   "source": [
    "#####################\n",
    "# IMPORT LIBS\n",
    "#####################\n",
    "\n",
    "import pandas as pd\n",
    "import numpy as np\n",
    "from pathlib import Path\n",
    "import wandb\n",
    "import datetime\n",
    "import os\n",
    "import random\n",
    "import joblib\n",
    "import shutil\n",
    "\n",
    "from sklearn.model_selection import KFold\n",
    "from sklearn.model_selection import train_test_split\n",
    "from sklearn.metrics import accuracy_score\n",
    "from sklearn.preprocessing import LabelEncoder\n",
    "from scoring import local_scorer\n",
    "\n",
    "from lightgbm import LGBMClassifier\n",
    "\n",
    "\n",
    "#####################\n",
    "# SET CONSTANTS\n",
    "#####################\n",
    "\n",
    "INPUT_PATH = Path('../input')\n",
    "OUTPUT_PATH = Path('../output')\n",
    "TRAIN_PATH = INPUT_PATH \n",
    "\n",
    "TARGET_COLUMNS = ['sale_flg', 'sale_amount', 'contacts']\n",
    "FIXED_SEEDS = [948, 534, 432, 597, 103, 21, 2242, 17, 20, 29]\n",
    "\n",
    "RANDOM_SEED = 4444\n",
    "USE_WANDB = True\n",
    "CURRENT_TIME = str(datetime.datetime.now()).replace(' ', '_').split('.')[0]\n",
    "\n",
    "def seed_everything(seed=1234):\n",
    "    random.seed(seed)\n",
    "    os.environ['PYTHONHASHSEED'] = str(seed)\n",
    "    np.random.seed(seed)\n",
    "seed_everything(RANDOM_SEED)"
   ]
  },
  {
   "cell_type": "code",
   "execution_count": 59,
   "id": "5297833a",
   "metadata": {},
   "outputs": [],
   "source": [
    "###############\n",
    "# Config\n",
    "###############\n",
    "\n",
    "n_seed = 3\n",
    "n_fold = 3\n",
    "prediction_threshold = 0.3\n",
    "retrain_after_valid = True\n",
    "make_submission = False"
   ]
  },
  {
   "cell_type": "code",
   "execution_count": 60,
   "id": "e5e3e7c6",
   "metadata": {},
   "outputs": [],
   "source": [
    "if USE_WANDB:\n",
    "    wandb.login()\n",
    "    run = wandb.init(project=\"idao-2021-finals\", name = f'{CURRENT_TIME}') # todo add config here"
   ]
  },
  {
   "cell_type": "code",
   "execution_count": 61,
   "id": "858e88e9",
   "metadata": {},
   "outputs": [],
   "source": [
    "%%time\n",
    "\n",
    "transactions = pd.read_csv(INPUT_PATH / 'trxn.csv')\n",
    "assets_under_management = pd.read_csv(INPUT_PATH / 'aum.csv')\n",
    "balance = pd.read_csv(INPUT_PATH / 'balance.csv')\n",
    "client = pd.read_csv(INPUT_PATH / 'client.csv')\n",
    "campaigns = pd.read_csv(INPUT_PATH / 'com.csv')\n",
    "deals = pd.read_csv(INPUT_PATH / 'deals.csv')\n",
    "dict_merchant_category_code = pd.read_csv(INPUT_PATH / 'dict_mcc.csv')\n",
    "payments = pd.read_csv(INPUT_PATH / 'payments.csv')\n",
    "funnel = pd.read_csv(INPUT_PATH / 'funnel.csv')\n",
    "appl = pd.read_csv(INPUT_PATH / 'appl.csv')"
   ]
  },
  {
   "cell_type": "code",
   "execution_count": 62,
   "id": "cd9f2cef",
   "metadata": {},
   "outputs": [],
   "source": [
    "payments = payments.sort_values(by='day_dt', ascending = False).reset_index(drop = True)"
   ]
  },
  {
   "cell_type": "code",
   "execution_count": 63,
   "id": "286f6aea",
   "metadata": {},
   "outputs": [],
   "source": [
    "def most_common(x, default='unknown'):\n",
    "    try:\n",
    "        return x.value_counts().index[0] \n",
    "    except: \n",
    "        return default\n",
    "\n",
    "\n",
    "def create_features_transactions(data):\n",
    "    \n",
    "    data = data.copy()\n",
    "    \n",
    "    # transaction features\n",
    "    data['cards_count'] = data['client_id'].map(transactions.groupby('client_id')['card_id'].count()).fillna(0)\n",
    "    data['total_transaction_amount'] = data['client_id'].map(transactions.groupby('client_id')['tran_amt_rur'].sum()).fillna(0) # add monthly, daily, etc\n",
    "    data['mean_transaction_amount'] = data['client_id'].map(transactions.groupby('client_id')['tran_amt_rur'].mean()).fillna(0) # add monthly, daily, etc\n",
    "    data['std_transaction_amount'] = data['client_id'].map(transactions.groupby('client_id')['tran_amt_rur'].std()).fillna(0) # add monthly, daily, etc\n",
    "    \n",
    "    data['most_common_mcc_cd'] = data['client_id'].map(transactions.groupby('client_id')['mcc_cd'].agg(lambda x:most_common(x))).fillna(-1)\n",
    "    data['most_common_txn_comment_1'] = data['client_id'].map(transactions.groupby('client_id')['txn_comment_1'].agg(lambda x:most_common(x, 'unknown'))).fillna('unknown')\n",
    "    data['most_common_txn_city'] = data['client_id'].map(transactions.groupby('client_id')['txn_city'].agg(lambda x: most_common(x, 'unknown'))).fillna('unknown')\n",
    "    data['most_common_txn_country'] = data['client_id'].map(transactions.groupby('client_id')['txn_country'].agg(lambda x:most_common(x, 'unknown'))).fillna('unknown')\n",
    "    \n",
    "    data['number_of_transaction_countries'] = data['client_id'].map(transactions.groupby('client_id')['txn_city'].agg(lambda x:x.value_counts().shape[0]))\n",
    "    data['number_of_transaction_cities'] = data['client_id'].map(transactions.groupby('client_id')['txn_country'].agg(lambda x:x.value_counts().shape[0]))\n",
    "    \n",
    "    return data\n",
    "\n",
    "def create_feautures_payments(data):\n",
    "    data = data.copy()\n",
    "    \n",
    "    # payments \n",
    "    data['last_known_salary'] = data['client_id'].map(payments.groupby('client_id').apply(lambda x: x['sum_rur'].iloc[0])).fillna(-1)\n",
    "    data['total_recieved_salary'] = data['client_id'].map(payments.groupby('client_id').apply(lambda x: x['sum_rur'].sum())).fillna(-1)\n",
    "    \n",
    "    return data\n",
    "\n",
    "def create_features_deals(data):\n",
    "    data = data.copy()\n",
    "    \n",
    "    data['number_of_deals'] = data['client_id'].map(deals.groupby('client_id')['crncy_cd'].count()).fillna(0)\n",
    "    data['mean_deal_sum'] = data['client_id'].map(deals.groupby('client_id')['agrmnt_sum_rur'].mean()).fillna(0)\n",
    "    \n",
    "    return data"
   ]
  },
  {
   "cell_type": "code",
   "execution_count": 64,
   "id": "c0d5e15d",
   "metadata": {},
   "outputs": [],
   "source": [
    "# data merge\n",
    "data = funnel.copy()\n",
    "data = funnel.merge(client, on=['client_id'])"
   ]
  },
  {
   "cell_type": "code",
   "execution_count": 65,
   "id": "7ba11de9",
   "metadata": {},
   "outputs": [],
   "source": [
    "%%time\n",
    "# create features\n",
    "\n",
    "# data = create_features_transactions(data)\n",
    "# data = create_feautures_payments(data)\n",
    "# data = create_features_deals(data)"
   ]
  },
  {
   "cell_type": "code",
   "execution_count": 66,
   "id": "c2efdc8f",
   "metadata": {},
   "outputs": [],
   "source": [
    "try:\n",
    "    os.mkdir(OUTPUT_PATH / 'preprocessors')\n",
    "except:\n",
    "    shutil.rmtree(OUTPUT_PATH / 'preprocessors')\n",
    "    os.mkdir(OUTPUT_PATH / 'preprocessors')"
   ]
  },
  {
   "cell_type": "code",
   "execution_count": 67,
   "id": "d5e42150",
   "metadata": {},
   "outputs": [],
   "source": [
    "# data encode\n",
    "\n",
    "fill_cols = ['gender', 'citizenship', 'education', 'job_type']\n",
    "for c in fill_cols:\n",
    "    col_type = data[c].dtype\n",
    "    if col_type == 'object' or col_type.name == 'category':\n",
    "        data[c] = data[c].astype('category')\n",
    "# for col in fill_cols:\n",
    "#     try:\n",
    "#         le = LabelEncoder()\n",
    "#         data[col] = le.fit_transform(data[col].astype(str))\n",
    "#         joblib.dump(le, OUTPUT_PATH / 'preprocessors' / f'{col}.pkl')\n",
    "#     except:\n",
    "#         print(f'{col} is missing')"
   ]
  },
  {
   "cell_type": "code",
   "execution_count": 68,
   "id": "a80a2eba",
   "metadata": {},
   "outputs": [],
   "source": [
    "X = data.drop(columns = TARGET_COLUMNS + ['client_id'])\n",
    "Y = data[TARGET_COLUMNS[0]]"
   ]
  },
  {
   "cell_type": "code",
   "execution_count": 69,
   "id": "7e8b734b",
   "metadata": {},
   "outputs": [],
   "source": [
    "import shutil\n",
    "try:\n",
    "    os.mkdir(OUTPUT_PATH / 'models')\n",
    "except:\n",
    "    shutil.rmtree(OUTPUT_PATH / 'models')\n",
    "    os.mkdir(OUTPUT_PATH / 'models')"
   ]
  },
  {
   "cell_type": "code",
   "execution_count": 70,
   "id": "4d847eaa",
   "metadata": {},
   "outputs": [],
   "source": [
    "def running_train(X_train, Y_train, X_val, Y_val, i_fold=None, seed=None, params = None):\n",
    "    # prepare for train\n",
    "    \n",
    "    params = {\n",
    "              \"n_jobs\":-1,\n",
    "              \"random_state\": seed,\n",
    "              }\n",
    "    \n",
    "    \n",
    "    model = LGBMClassifier(**params) # define model here\n",
    "    \n",
    "    # Fit and save model\n",
    "    \n",
    "    if X_val is None:\n",
    "        model.fit(X_train, Y_train, verbose=False)\n",
    "    else:\n",
    "        model.fit(X_train, Y_train,   eval_set=(X_val, Y_val), early_stopping_rounds=500, verbose=False)\n",
    "    joblib.dump(model, OUTPUT_PATH / 'models' / f'lightgbm_{i_fold}_{seed}_{CURRENT_TIME}.pkl')"
   ]
  },
  {
   "cell_type": "code",
   "execution_count": 71,
   "id": "22ef8018",
   "metadata": {},
   "outputs": [],
   "source": [
    "oof = np.zeros((X.shape[0], n_seed)) # cv_score\n",
    "seeds = []\n",
    "for i_seed in range(n_seed):\n",
    "    seed = FIXED_SEEDS[i_seed]\n",
    "    seed_everything(seed)\n",
    "\n",
    "    seeds.append(seed)\n",
    "    print('Seed: {}, {}/{}'.format(seed, i_seed + 1, n_seed))\n",
    "    \n",
    "    if n_fold != 1:\n",
    "        kf = KFold(n_splits=n_fold, random_state=seed, shuffle=True)\n",
    "        split_indexes = kf.split(X, Y)\n",
    "    else:\n",
    "        split_indexes = [train_test_split(np.arange(X.shape[0]), random_state=seed, shuffle = True)]\n",
    "    \n",
    "    for i_fold, (train_idx, val_idx) in enumerate(split_indexes):\n",
    "        print(\"# Fold: {}/{} (seed: {}/{})\".format(i_fold + 1, n_fold, i_seed + 1, n_seed))\n",
    "\n",
    "        # dataset\n",
    "        X_train, Y_train = X.iloc[train_idx], Y[train_idx]\n",
    "        X_val, Y_val = X.iloc[val_idx], Y[val_idx]\n",
    "\n",
    "\n",
    "        # train\n",
    "        running_train(X_train, Y_train, X_val, Y_val, i_fold=i_fold, seed=seed)\n",
    "\n",
    "        # predict on oof\n",
    "        print('predict on oof...', end='')\n",
    "        model = joblib.load( OUTPUT_PATH / 'models' / f'lightgbm_{i_fold}_{seed}_{CURRENT_TIME}.pkl')\n",
    "\n",
    "        prediction = model.predict_proba(X_val)[:, 1]\n",
    "\n",
    "        oof[val_idx, i_seed] = prediction\n",
    "        print('  done.')"
   ]
  },
  {
   "cell_type": "code",
   "execution_count": 72,
   "id": "27b1a2a6",
   "metadata": {},
   "outputs": [],
   "source": [
    "if n_fold != 1:\n",
    "    Y_predicted = (np.mean(oof, axis = 1) > prediction_threshold).astype(int)\n",
    "    Y_test = funnel[['client_id', 'sale_flg']].set_index('client_id')\n",
    "    test_funnel =  funnel.set_index('client_id')\n",
    "if n_fold == 1 and n_seed == 1:\n",
    "    Y_predicted = (prediction > prediction_threshold).astype(int)\n",
    "    Y_test = funnel[['client_id', 'sale_flg']].iloc[split_indexes[0][1]].set_index('client_id')\n",
    "    test_funnel = funnel.iloc[split_indexes[0][1]].set_index('client_id')"
   ]
  },
  {
   "cell_type": "code",
   "execution_count": 73,
   "id": "1832fe4b",
   "metadata": {},
   "outputs": [],
   "source": [
    "try: \n",
    "    os.mkdir(OUTPUT_PATH / 'scoring')\n",
    "except:\n",
    "    shutil.rmtree(OUTPUT_PATH / 'scoring')\n",
    "    os.mkdir(OUTPUT_PATH / 'scoring')"
   ]
  },
  {
   "cell_type": "code",
   "execution_count": 74,
   "id": "b85fbb5b",
   "metadata": {},
   "outputs": [],
   "source": [
    "public_score, private_score = local_scorer.get_score(test_funnel, Y_predicted, Y_test)"
   ]
  },
  {
   "cell_type": "code",
   "execution_count": 75,
   "id": "aba9a47f",
   "metadata": {},
   "outputs": [],
   "source": [
    "validation_accuracy = accuracy_score(Y_test['sale_flg'], Y_predicted)\n",
    "print(f'Public ANIC {public_score} Private ANIC {private_score}')\n",
    "print(f'ANIC {1/3*public_score+ 2/3 * private_score}')\n",
    "print(f'Accuracy score: {validation_accuracy}')"
   ]
  },
  {
   "cell_type": "code",
   "execution_count": 76,
   "id": "f818ccad",
   "metadata": {},
   "outputs": [],
   "source": [
    "if retrain_after_valid:\n",
    "    running_train(X, Y, None, None, i_fold=-1, seed=4444)"
   ]
  },
  {
   "cell_type": "code",
   "execution_count": 77,
   "id": "ac0c8d83",
   "metadata": {},
   "outputs": [],
   "source": [
    "if USE_WANDB:\n",
    "    wandb.run.summary[\"validation_accuracy\"] = validation_accuracy\n",
    "    wandb.run.summary[\"anic\"] = 1/3*public_score+ 2/3 * private_score"
   ]
  },
  {
   "cell_type": "code",
   "execution_count": 78,
   "id": "4357815d",
   "metadata": {},
   "outputs": [],
   "source": [
    "if make_submission:\n",
    "    public_anic = float(input())\n",
    "    wandb.run.summary[\"public_anic\"] = public_anic"
   ]
  },
  {
   "cell_type": "code",
   "execution_count": 79,
   "id": "2a824e65",
   "metadata": {},
   "outputs": [],
   "source": [
    "if USE_WANDB:\n",
    "    run.finish()"
   ]
  },
  {
   "cell_type": "code",
   "execution_count": 80,
   "id": "cde3b988",
   "metadata": {},
   "outputs": [],
   "source": [
    "#####################\n",
    "# IMPORT LIBS\n",
    "#####################\n",
    "\n",
    "import pandas as pd\n",
    "import numpy as np\n",
    "from pathlib import Path\n",
    "import wandb\n",
    "import datetime\n",
    "import os\n",
    "import random\n",
    "import joblib\n",
    "import shutil\n",
    "\n",
    "from sklearn.model_selection import KFold\n",
    "from sklearn.model_selection import train_test_split\n",
    "from sklearn.metrics import accuracy_score\n",
    "from sklearn.preprocessing import LabelEncoder\n",
    "from scoring import local_scorer\n",
    "\n",
    "from lightgbm import LGBMClassifier\n",
    "\n",
    "\n",
    "#####################\n",
    "# SET CONSTANTS\n",
    "#####################\n",
    "\n",
    "INPUT_PATH = Path('../input')\n",
    "OUTPUT_PATH = Path('../output')\n",
    "TRAIN_PATH = INPUT_PATH \n",
    "\n",
    "TARGET_COLUMNS = ['sale_flg', 'sale_amount', 'contacts']\n",
    "FIXED_SEEDS = [948, 534, 432, 597, 103, 21, 2242, 17, 20, 29]\n",
    "\n",
    "RANDOM_SEED = 4444\n",
    "USE_WANDB = True\n",
    "CURRENT_TIME = str(datetime.datetime.now()).replace(' ', '_').split('.')[0]\n",
    "\n",
    "def seed_everything(seed=1234):\n",
    "    random.seed(seed)\n",
    "    os.environ['PYTHONHASHSEED'] = str(seed)\n",
    "    np.random.seed(seed)\n",
    "seed_everything(RANDOM_SEED)"
   ]
  },
  {
   "cell_type": "code",
   "execution_count": 81,
   "id": "9b952329",
   "metadata": {},
   "outputs": [],
   "source": [
    "###############\n",
    "# Config\n",
    "###############\n",
    "\n",
    "n_seed = 3\n",
    "n_fold = 3\n",
    "prediction_threshold = 0.25\n",
    "retrain_after_valid = True\n",
    "make_submission = False"
   ]
  },
  {
   "cell_type": "code",
   "execution_count": 82,
   "id": "15e77691",
   "metadata": {},
   "outputs": [
    {
     "data": {
      "text/html": [
       "\n",
       "                Tracking run with wandb version 0.10.26<br/>\n",
       "                Syncing run <strong style=\"color:#cdcd00\">2021-04-17_15:53:38</strong> to <a href=\"https://wandb.ai\" target=\"_blank\">Weights & Biases</a> <a href=\"https://docs.wandb.com/integrations/jupyter.html\" target=\"_blank\">(Documentation)</a>.<br/>\n",
       "                Project page: <a href=\"https://wandb.ai/artkulak/idao-2021-finals\" target=\"_blank\">https://wandb.ai/artkulak/idao-2021-finals</a><br/>\n",
       "                Run page: <a href=\"https://wandb.ai/artkulak/idao-2021-finals/runs/1btmkefi\" target=\"_blank\">https://wandb.ai/artkulak/idao-2021-finals/runs/1btmkefi</a><br/>\n",
       "                Run data is saved locally in <code>/home/jupyter/idao-2021-finals/wandb/run-20210417_155338-1btmkefi</code><br/><br/>\n",
       "            "
      ],
      "text/plain": [
       "<IPython.core.display.HTML object>"
      ]
     },
     "metadata": {},
     "output_type": "display_data"
    }
   ],
   "source": [
    "if USE_WANDB:\n",
    "    wandb.login()\n",
    "    run = wandb.init(project=\"idao-2021-finals\", name = f'{CURRENT_TIME}') # todo add config here"
   ]
  },
  {
   "cell_type": "code",
   "execution_count": 83,
   "id": "78a6a968",
   "metadata": {},
   "outputs": [],
   "source": [
    "%%time\n",
    "\n",
    "transactions = pd.read_csv(INPUT_PATH / 'trxn.csv')\n",
    "assets_under_management = pd.read_csv(INPUT_PATH / 'aum.csv')\n",
    "balance = pd.read_csv(INPUT_PATH / 'balance.csv')\n",
    "client = pd.read_csv(INPUT_PATH / 'client.csv')\n",
    "campaigns = pd.read_csv(INPUT_PATH / 'com.csv')\n",
    "deals = pd.read_csv(INPUT_PATH / 'deals.csv')\n",
    "dict_merchant_category_code = pd.read_csv(INPUT_PATH / 'dict_mcc.csv')\n",
    "payments = pd.read_csv(INPUT_PATH / 'payments.csv')\n",
    "funnel = pd.read_csv(INPUT_PATH / 'funnel.csv')\n",
    "appl = pd.read_csv(INPUT_PATH / 'appl.csv')"
   ]
  },
  {
   "cell_type": "code",
   "execution_count": 84,
   "id": "a9d66942",
   "metadata": {},
   "outputs": [],
   "source": [
    "payments = payments.sort_values(by='day_dt', ascending = False).reset_index(drop = True)"
   ]
  },
  {
   "cell_type": "code",
   "execution_count": 85,
   "id": "93e61a83",
   "metadata": {},
   "outputs": [],
   "source": [
    "def most_common(x, default='unknown'):\n",
    "    try:\n",
    "        return x.value_counts().index[0] \n",
    "    except: \n",
    "        return default\n",
    "\n",
    "\n",
    "def create_features_transactions(data):\n",
    "    \n",
    "    data = data.copy()\n",
    "    \n",
    "    # transaction features\n",
    "    data['cards_count'] = data['client_id'].map(transactions.groupby('client_id')['card_id'].count()).fillna(0)\n",
    "    data['total_transaction_amount'] = data['client_id'].map(transactions.groupby('client_id')['tran_amt_rur'].sum()).fillna(0) # add monthly, daily, etc\n",
    "    data['mean_transaction_amount'] = data['client_id'].map(transactions.groupby('client_id')['tran_amt_rur'].mean()).fillna(0) # add monthly, daily, etc\n",
    "    data['std_transaction_amount'] = data['client_id'].map(transactions.groupby('client_id')['tran_amt_rur'].std()).fillna(0) # add monthly, daily, etc\n",
    "    \n",
    "    data['most_common_mcc_cd'] = data['client_id'].map(transactions.groupby('client_id')['mcc_cd'].agg(lambda x:most_common(x))).fillna(-1)\n",
    "    data['most_common_txn_comment_1'] = data['client_id'].map(transactions.groupby('client_id')['txn_comment_1'].agg(lambda x:most_common(x, 'unknown'))).fillna('unknown')\n",
    "    data['most_common_txn_city'] = data['client_id'].map(transactions.groupby('client_id')['txn_city'].agg(lambda x: most_common(x, 'unknown'))).fillna('unknown')\n",
    "    data['most_common_txn_country'] = data['client_id'].map(transactions.groupby('client_id')['txn_country'].agg(lambda x:most_common(x, 'unknown'))).fillna('unknown')\n",
    "    \n",
    "    data['number_of_transaction_countries'] = data['client_id'].map(transactions.groupby('client_id')['txn_city'].agg(lambda x:x.value_counts().shape[0]))\n",
    "    data['number_of_transaction_cities'] = data['client_id'].map(transactions.groupby('client_id')['txn_country'].agg(lambda x:x.value_counts().shape[0]))\n",
    "    \n",
    "    return data\n",
    "\n",
    "def create_feautures_payments(data):\n",
    "    data = data.copy()\n",
    "    \n",
    "    # payments \n",
    "    data['last_known_salary'] = data['client_id'].map(payments.groupby('client_id').apply(lambda x: x['sum_rur'].iloc[0])).fillna(-1)\n",
    "    data['total_recieved_salary'] = data['client_id'].map(payments.groupby('client_id').apply(lambda x: x['sum_rur'].sum())).fillna(-1)\n",
    "    \n",
    "    return data\n",
    "\n",
    "def create_features_deals(data):\n",
    "    data = data.copy()\n",
    "    \n",
    "    data['number_of_deals'] = data['client_id'].map(deals.groupby('client_id')['crncy_cd'].count()).fillna(0)\n",
    "    data['mean_deal_sum'] = data['client_id'].map(deals.groupby('client_id')['agrmnt_sum_rur'].mean()).fillna(0)\n",
    "    \n",
    "    return data"
   ]
  },
  {
   "cell_type": "code",
   "execution_count": 86,
   "id": "2914d20d",
   "metadata": {},
   "outputs": [],
   "source": [
    "# data merge\n",
    "data = funnel.copy()\n",
    "data = funnel.merge(client, on=['client_id'])"
   ]
  },
  {
   "cell_type": "code",
   "execution_count": 87,
   "id": "89ddabe4",
   "metadata": {},
   "outputs": [],
   "source": [
    "%%time\n",
    "# create features\n",
    "\n",
    "# data = create_features_transactions(data)\n",
    "# data = create_feautures_payments(data)\n",
    "# data = create_features_deals(data)"
   ]
  },
  {
   "cell_type": "code",
   "execution_count": 88,
   "id": "8386574c",
   "metadata": {},
   "outputs": [],
   "source": [
    "try:\n",
    "    os.mkdir(OUTPUT_PATH / 'preprocessors')\n",
    "except:\n",
    "    shutil.rmtree(OUTPUT_PATH / 'preprocessors')\n",
    "    os.mkdir(OUTPUT_PATH / 'preprocessors')"
   ]
  },
  {
   "cell_type": "code",
   "execution_count": 89,
   "id": "e8150ba6",
   "metadata": {},
   "outputs": [],
   "source": [
    "# data encode\n",
    "\n",
    "fill_cols = ['gender', 'citizenship', 'education', 'job_type']\n",
    "for c in fill_cols:\n",
    "    col_type = data[c].dtype\n",
    "    if col_type == 'object' or col_type.name == 'category':\n",
    "        data[c] = data[c].astype('category')\n",
    "# for col in fill_cols:\n",
    "#     try:\n",
    "#         le = LabelEncoder()\n",
    "#         data[col] = le.fit_transform(data[col].astype(str))\n",
    "#         joblib.dump(le, OUTPUT_PATH / 'preprocessors' / f'{col}.pkl')\n",
    "#     except:\n",
    "#         print(f'{col} is missing')"
   ]
  },
  {
   "cell_type": "code",
   "execution_count": 90,
   "id": "a6654ee6",
   "metadata": {},
   "outputs": [],
   "source": [
    "X = data.drop(columns = TARGET_COLUMNS + ['client_id'])\n",
    "Y = data[TARGET_COLUMNS[0]]"
   ]
  },
  {
   "cell_type": "code",
   "execution_count": 91,
   "id": "633dfab1",
   "metadata": {},
   "outputs": [],
   "source": [
    "import shutil\n",
    "try:\n",
    "    os.mkdir(OUTPUT_PATH / 'models')\n",
    "except:\n",
    "    shutil.rmtree(OUTPUT_PATH / 'models')\n",
    "    os.mkdir(OUTPUT_PATH / 'models')"
   ]
  },
  {
   "cell_type": "code",
   "execution_count": 92,
   "id": "40081dfb",
   "metadata": {},
   "outputs": [],
   "source": [
    "def running_train(X_train, Y_train, X_val, Y_val, i_fold=None, seed=None, params = None):\n",
    "    # prepare for train\n",
    "    \n",
    "    params = {\n",
    "              \"n_jobs\":-1,\n",
    "              \"random_state\": seed,\n",
    "              }\n",
    "    \n",
    "    \n",
    "    model = LGBMClassifier(**params) # define model here\n",
    "    \n",
    "    # Fit and save model\n",
    "    \n",
    "    if X_val is None:\n",
    "        model.fit(X_train, Y_train, verbose=False)\n",
    "    else:\n",
    "        model.fit(X_train, Y_train,   eval_set=(X_val, Y_val), early_stopping_rounds=500, verbose=False)\n",
    "    joblib.dump(model, OUTPUT_PATH / 'models' / f'lightgbm_{i_fold}_{seed}_{CURRENT_TIME}.pkl')"
   ]
  },
  {
   "cell_type": "code",
   "execution_count": 93,
   "id": "fbd287bd",
   "metadata": {},
   "outputs": [],
   "source": [
    "oof = np.zeros((X.shape[0], n_seed)) # cv_score\n",
    "seeds = []\n",
    "for i_seed in range(n_seed):\n",
    "    seed = FIXED_SEEDS[i_seed]\n",
    "    seed_everything(seed)\n",
    "\n",
    "    seeds.append(seed)\n",
    "    print('Seed: {}, {}/{}'.format(seed, i_seed + 1, n_seed))\n",
    "    \n",
    "    if n_fold != 1:\n",
    "        kf = KFold(n_splits=n_fold, random_state=seed, shuffle=True)\n",
    "        split_indexes = kf.split(X, Y)\n",
    "    else:\n",
    "        split_indexes = [train_test_split(np.arange(X.shape[0]), random_state=seed, shuffle = True)]\n",
    "    \n",
    "    for i_fold, (train_idx, val_idx) in enumerate(split_indexes):\n",
    "        print(\"# Fold: {}/{} (seed: {}/{})\".format(i_fold + 1, n_fold, i_seed + 1, n_seed))\n",
    "\n",
    "        # dataset\n",
    "        X_train, Y_train = X.iloc[train_idx], Y[train_idx]\n",
    "        X_val, Y_val = X.iloc[val_idx], Y[val_idx]\n",
    "\n",
    "\n",
    "        # train\n",
    "        running_train(X_train, Y_train, X_val, Y_val, i_fold=i_fold, seed=seed)\n",
    "\n",
    "        # predict on oof\n",
    "        print('predict on oof...', end='')\n",
    "        model = joblib.load( OUTPUT_PATH / 'models' / f'lightgbm_{i_fold}_{seed}_{CURRENT_TIME}.pkl')\n",
    "\n",
    "        prediction = model.predict_proba(X_val)[:, 1]\n",
    "\n",
    "        oof[val_idx, i_seed] = prediction\n",
    "        print('  done.')"
   ]
  },
  {
   "cell_type": "code",
   "execution_count": 94,
   "id": "a14740bb",
   "metadata": {},
   "outputs": [],
   "source": [
    "if n_fold != 1:\n",
    "    Y_predicted = (np.mean(oof, axis = 1) > prediction_threshold).astype(int)\n",
    "    Y_test = funnel[['client_id', 'sale_flg']].set_index('client_id')\n",
    "    test_funnel =  funnel.set_index('client_id')\n",
    "if n_fold == 1 and n_seed == 1:\n",
    "    Y_predicted = (prediction > prediction_threshold).astype(int)\n",
    "    Y_test = funnel[['client_id', 'sale_flg']].iloc[split_indexes[0][1]].set_index('client_id')\n",
    "    test_funnel = funnel.iloc[split_indexes[0][1]].set_index('client_id')"
   ]
  },
  {
   "cell_type": "code",
   "execution_count": 95,
   "id": "19300c20",
   "metadata": {},
   "outputs": [],
   "source": [
    "try: \n",
    "    os.mkdir(OUTPUT_PATH / 'scoring')\n",
    "except:\n",
    "    shutil.rmtree(OUTPUT_PATH / 'scoring')\n",
    "    os.mkdir(OUTPUT_PATH / 'scoring')"
   ]
  },
  {
   "cell_type": "code",
   "execution_count": 96,
   "id": "43841c76",
   "metadata": {},
   "outputs": [],
   "source": [
    "public_score, private_score = local_scorer.get_score(test_funnel, Y_predicted, Y_test)"
   ]
  },
  {
   "cell_type": "code",
   "execution_count": 97,
   "id": "ecb52c43",
   "metadata": {},
   "outputs": [],
   "source": [
    "validation_accuracy = accuracy_score(Y_test['sale_flg'], Y_predicted)\n",
    "print(f'Public ANIC {public_score} Private ANIC {private_score}')\n",
    "print(f'ANIC {1/3*public_score+ 2/3 * private_score}')\n",
    "print(f'Accuracy score: {validation_accuracy}')"
   ]
  },
  {
   "cell_type": "code",
   "execution_count": 98,
   "id": "275eefb5",
   "metadata": {},
   "outputs": [],
   "source": [
    "if retrain_after_valid:\n",
    "    running_train(X, Y, None, None, i_fold=-1, seed=4444)"
   ]
  },
  {
   "cell_type": "code",
   "execution_count": 99,
   "id": "3c69514f",
   "metadata": {},
   "outputs": [],
   "source": [
    "if USE_WANDB:\n",
    "    wandb.run.summary[\"validation_accuracy\"] = validation_accuracy\n",
    "    wandb.run.summary[\"anic\"] = 1/3*public_score+ 2/3 * private_score"
   ]
  },
  {
   "cell_type": "code",
   "execution_count": 100,
   "id": "2fa7b5e0",
   "metadata": {},
   "outputs": [],
   "source": [
    "if make_submission:\n",
    "    public_anic = float(input())\n",
    "    wandb.run.summary[\"public_anic\"] = public_anic"
   ]
  },
  {
   "cell_type": "code",
   "execution_count": 101,
   "id": "e4292fee",
   "metadata": {},
   "outputs": [],
   "source": [
    "if USE_WANDB:\n",
    "    run.finish()"
   ]
  }
 ],
 "metadata": {
  "kernelspec": {
   "display_name": "Python 3",
   "language": "python",
   "name": "python3"
  },
  "language_info": {
   "codemirror_mode": {
    "name": "ipython",
    "version": 3
   },
   "file_extension": ".py",
   "mimetype": "text/x-python",
   "name": "python",
   "nbconvert_exporter": "python",
   "pygments_lexer": "ipython3",
   "version": "3.7.10"
  }
 },
 "nbformat": 4,
 "nbformat_minor": 5
}
