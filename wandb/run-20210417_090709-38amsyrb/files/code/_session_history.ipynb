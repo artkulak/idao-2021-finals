{
 "cells": [
  {
   "cell_type": "code",
   "execution_count": 1,
   "id": "c07dbf41",
   "metadata": {},
   "outputs": [],
   "source": [
    "#####################\n",
    "# IMPORT LIBS\n",
    "#####################\n",
    "\n",
    "import pandas as pd\n",
    "import numpy as np\n",
    "from pathlib import Path\n",
    "import wandb\n",
    "import datetime\n",
    "import os\n",
    "\n",
    "\n",
    "#####################\n",
    "# SET CONSTANTS\n",
    "#####################\n",
    "\n",
    "INPUT_PATH = Path('../input')\n",
    "OUTPUT_PATH = Path('../output')\n",
    "TRAIN_PATH = INPUT_PATH \n",
    "\n",
    "RANDOM_SEED = 4444\n",
    "USE_WANDB = True\n",
    "\n",
    "def seed_everything(seed=1234):\n",
    "    random.seed(seed)\n",
    "    os.environ['PYTHONHASHSEED'] = str(seed)\n",
    "    np.random.seed(seed)\n",
    "seed_everything(RANDOM_SEED)"
   ]
  },
  {
   "cell_type": "code",
   "execution_count": 2,
   "id": "ba702210",
   "metadata": {},
   "outputs": [],
   "source": [
    "#####################\n",
    "# IMPORT LIBS\n",
    "#####################\n",
    "\n",
    "import pandas as pd\n",
    "import numpy as np\n",
    "from pathlib import Path\n",
    "import wandb\n",
    "import datetime\n",
    "import os\n",
    "import random\n",
    "\n",
    "\n",
    "#####################\n",
    "# SET CONSTANTS\n",
    "#####################\n",
    "\n",
    "INPUT_PATH = Path('../input')\n",
    "OUTPUT_PATH = Path('../output')\n",
    "TRAIN_PATH = INPUT_PATH \n",
    "\n",
    "RANDOM_SEED = 4444\n",
    "USE_WANDB = True\n",
    "\n",
    "def seed_everything(seed=1234):\n",
    "    random.seed(seed)\n",
    "    os.environ['PYTHONHASHSEED'] = str(seed)\n",
    "    np.random.seed(seed)\n",
    "seed_everything(RANDOM_SEED)"
   ]
  },
  {
   "cell_type": "code",
   "execution_count": 3,
   "id": "541ee358",
   "metadata": {},
   "outputs": [],
   "source": [
    "###############\n",
    "# Config\n",
    "###############\n",
    "\n",
    "pass"
   ]
  },
  {
   "cell_type": "code",
   "execution_count": 4,
   "id": "4fafbb77",
   "metadata": {},
   "outputs": [],
   "source": [
    "%%time\n",
    "\n",
    "train = pd.read_csv(INPUT_PATH / 'trxn.csv')\n",
    "assets_under_management = pd.read_csv(INPUT_PATH / 'aum.csv')\n",
    "balance = pd.read_csv(INPUT_PATH / 'balance.csv')\n",
    "client = pd.read_csv(INPUT_PATH / 'client.csv')\n",
    "campaigns = pd.read_csv(INPUT_PATH / 'com.csv')\n",
    "deals = pd.read_csv(INPUT_PATH / 'deals.csv')\n",
    "dict_merchant_category_code = pd.read_csv(INPUT_PATH / 'dict_mcc.csv')\n",
    "payments = pd.read_csv(INPUT_PATH / 'payments.csv')\n",
    "funnel = pd.read_csv(INPUT_PATH / 'funnel.csv')"
   ]
  },
  {
   "cell_type": "code",
   "execution_count": 5,
   "id": "1b7818bf",
   "metadata": {},
   "outputs": [],
   "source": [
    "%%time\n",
    "\n",
    "train = pd.read_csv(INPUT_PATH / 'trxn.csv')\n",
    "assets_under_management = pd.read_csv(INPUT_PATH / 'aum.csv')\n",
    "balance = pd.read_csv(INPUT_PATH / 'balance.csv')\n",
    "client = pd.read_csv(INPUT_PATH / 'client.csv')\n",
    "campaigns = pd.read_csv(INPUT_PATH / 'com.csv')\n",
    "deals = pd.read_csv(INPUT_PATH / 'deals.csv')\n",
    "dict_merchant_category_code = pd.read_csv(INPUT_PATH / 'dict_mcc.csv')\n",
    "payments = pd.read_csv(INPUT_PATH / 'payments.csv')\n",
    "funnel = pd.read_csv(INPUT_PATH / 'funnel.csv')\n",
    "appl = pd.read_csv(INPUT_PATH / 'appl.csv')"
   ]
  },
  {
   "cell_type": "code",
   "execution_count": 6,
   "id": "f4aba8db",
   "metadata": {},
   "outputs": [
    {
     "name": "stdout",
     "output_type": "stream",
     "text": [
      "                   client_id              card_id            tran_time  \\\n",
      "0       -1893104556496814867 -6909844117230568380  2019-07-01 00:00:00   \n",
      "1       -1893104556496814867 -6909844117230568380  2019-07-29 00:00:00   \n",
      "2       -1893104556496814867 -6909844117230568380  2019-08-31 00:00:00   \n",
      "3        6886062013213911831  6527755410945490683  2019-08-14 10:38:33   \n",
      "4        6886062013213911831  6527755410945490683  2019-07-17 12:27:58   \n",
      "...                      ...                  ...                  ...   \n",
      "3035700 -3405096435133737788 -1484177776108621230  2018-09-06 07:41:17   \n",
      "3035701  5941620754379828660 -4513708287312715087  2018-12-02 08:16:48   \n",
      "3035702  5941620754379828660 -4513708287312715087  2018-12-28 13:55:12   \n",
      "3035703  2964514409686635938  4497627322591857070  2018-12-21 09:32:26   \n",
      "3035704 -6226831769412580676 -1272519220927585782  2018-10-30 08:11:24   \n",
      "\n",
      "         tran_amt_rur  mcc_cd          merchant_cd txn_country     txn_city  \\\n",
      "0              6071.0  6011.0  3796217713062573289         RUS  N. NOVGOROD   \n",
      "1              6071.0  6011.0  3796217713062573289         RUS  N. NOVGOROD   \n",
      "2              7285.0  6011.0  3796217713062573289         RUS  N. NOVGOROD   \n",
      "3              2428.0  6011.0  -774579209084196290         RUS    RADUZHNYI   \n",
      "4              6071.0  6011.0 -7735007003326589238         RUS    RADUZHNYI   \n",
      "...               ...     ...                  ...         ...          ...   \n",
      "3035700         728.0  6012.0  3967370607447365704         RUS  VISA DIRECT   \n",
      "3035701        2550.0  6012.0  3967370607447365704         RUS  VISA DIRECT   \n",
      "3035702        3642.0  6012.0  3967370607447365704         RUS  VISA DIRECT   \n",
      "3035703        2792.0  6012.0  3967370607447365704         RUS  VISA DIRECT   \n",
      "3035704        1214.0  6536.0  3967370607447365704         RUS       MOSCOW   \n",
      "\n",
      "                     tsp_name                    txn_comment_1  \\\n",
      "0        MOLODEZHNYY PR. DEPO   Cash withdrawal through an ATM   \n",
      "1        MOLODEZHNYY PR. DEPO   Cash withdrawal through an ATM   \n",
      "2        MOLODEZHNYY PR. DEPO   Cash withdrawal through an ATM   \n",
      "3                    TTS SITI   Cash withdrawal through an ATM   \n",
      "4               ODTS AGANGRAD   Cash withdrawal through an ATM   \n",
      "...                       ...                              ...   \n",
      "3035700   VISA MONEY TRANSFER  Payment by card (bank transfer)   \n",
      "3035701   VISA MONEY TRANSFER  Payment by card (bank transfer)   \n",
      "3035702   VISA MONEY TRANSFER  Payment by card (bank transfer)   \n",
      "3035703   VISA MONEY TRANSFER  Payment by card (bank transfer)   \n",
      "3035704  MASTERCARD MONEYSEND  Payment by card (bank transfer)   \n",
      "\n",
      "                txn_comment_2  \n",
      "0                         NaN  \n",
      "1                         NaN  \n",
      "2                         NaN  \n",
      "3                         NaN  \n",
      "4                         NaN  \n",
      "...                       ...  \n",
      "3035700   VISA MONEY TRANSFER  \n",
      "3035701   VISA MONEY TRANSFER  \n",
      "3035702   VISA MONEY TRANSFER  \n",
      "3035703   VISA MONEY TRANSFER  \n",
      "3035704  MASTERCARD MONEYSEND  \n",
      "\n",
      "[3035705 rows x 11 columns]"
     ]
    }
   ],
   "source": [
    "train"
   ]
  },
  {
   "cell_type": "code",
   "execution_count": 7,
   "id": "5861b8ed",
   "metadata": {},
   "outputs": [
    {
     "name": "stdout",
     "output_type": "stream",
     "text": [
      "                 client_id  sale_flg  sale_amount  contacts  feature_1  \\\n",
      "0      7513301859607023584         0          NaN         1          7   \n",
      "1      9157009756404187626         0          NaN         1          3   \n",
      "2     -1893104556496814867         0          NaN         1          5   \n",
      "3      6886062013213911831         0          NaN         1          4   \n",
      "4     -8156468515495593794         1    138018.05         1          7   \n",
      "...                    ...       ...          ...       ...        ...   \n",
      "21493  4662551505651924284         0          NaN         2          3   \n",
      "21494 -8968737688687691353         0          NaN         1          9   \n",
      "21495 -5799097497074119478         0          NaN         1          2   \n",
      "21496 -2264802671063321355         1     43882.85         2          8   \n",
      "21497  -174115151336149439         0          NaN         1          3   \n",
      "\n",
      "       client_segment  feature_2  feature_3  feature_4  feature_5  feature_6  \\\n",
      "0                13.0   571533.0    15717.0        0.0        0.0        0.0   \n",
      "1                13.0  3642369.0    94787.0        0.0        0.0    84823.0   \n",
      "2                16.0   352826.0     5500.0        0.0     6822.0        0.0   \n",
      "3                 3.0  6070615.0    40580.0        0.0    30401.0        0.0   \n",
      "4                14.0  3642369.0    97156.0    81488.0        0.0   160308.0   \n",
      "...               ...        ...        ...        ...        ...        ...   \n",
      "21493             3.0  6070615.0    97616.0    21921.0    85635.0    89802.0   \n",
      "21494            14.0  1821184.0     2428.0     3952.0        0.0    13938.0   \n",
      "21495            16.0  6070615.0    64991.0        0.0    13450.0        0.0   \n",
      "21496             4.0  2282408.0     5832.0    16185.0        0.0    82182.0   \n",
      "21497             3.0  6070615.0  1014167.0        0.0  1053209.0        0.0   \n",
      "\n",
      "       feature_7  feature_8  feature_9  feature_10  region_cd  \n",
      "0       571852.0   472605.0       10.4     12548.0       86.0  \n",
      "1      3642369.0  3314257.0        8.9     77210.0        2.0  \n",
      "2       265893.0   204534.0        8.9      5508.0       52.0  \n",
      "3      2005731.0  1825051.0        7.9     40583.0       86.0  \n",
      "4      3642369.0  3314257.0       10.4     78108.0       27.0  \n",
      "...          ...        ...        ...         ...        ...  \n",
      "21493  4826139.0  4391391.0        7.9     97626.0       86.0  \n",
      "21494    92273.0    71641.0       19.9      2440.0       78.0  \n",
      "21495  3212569.0  2923175.0        7.9     64998.0       69.0  \n",
      "21496   230683.0   177449.0       17.9      5845.0       59.0  \n",
      "21497  6070615.0  5523763.0        9.9    128684.0       77.0  \n",
      "\n",
      "[21498 rows x 16 columns]"
     ]
    }
   ],
   "source": [
    "funnel"
   ]
  },
  {
   "cell_type": "code",
   "execution_count": 8,
   "id": "1dfc4d60",
   "metadata": {},
   "outputs": [
    {
     "name": "stdout",
     "output_type": "stream",
     "text": [
      "                  client_id  agr_flg  otkaz  dumaet  ring_up_flg  \\\n",
      "0       7513301859607023584        0      0       0            0   \n",
      "1       7513301859607023584        0      0       0            0   \n",
      "2      -8079817404148237243        0      0       0            2   \n",
      "3      -8079817404148237243        0      0       0            2   \n",
      "4       2897849887287086776        0      0       0            0   \n",
      "...                     ...      ...    ...     ...          ...   \n",
      "113050  2307145364875101716        0      0       0            0   \n",
      "113051 -2262941530044003186        0      0       0            0   \n",
      "113052 -8788421051454805335        0      0       0            0   \n",
      "113053  -389524536695171379        0      0       0            0   \n",
      "113054 -2700538904239872155        0      0       0            0   \n",
      "\n",
      "        not_ring_up_flg  count_comm month_end_dt channel             prod  \n",
      "0                     2           2   2018-12-31    CALL      Credit Card  \n",
      "1                     2           2   2019-02-28    CALL      Credit Card  \n",
      "2                     0           2   2019-08-31    CALL      Credit Card  \n",
      "3                     0           2   2019-03-31    CALL      Credit Card  \n",
      "4                    16          16   2019-02-28    CALL      Credit Card  \n",
      "...                 ...         ...          ...     ...              ...  \n",
      "113050                0           2   2019-05-31     SMS  Savings account  \n",
      "113051                0           2   2019-05-31     SMS  Savings account  \n",
      "113052                0           2   2019-05-31     SMS  Savings account  \n",
      "113053                0           2   2019-05-31     SMS  Savings account  \n",
      "113054                0           2   2019-05-31     SMS  Savings account  \n",
      "\n",
      "[113055 rows x 10 columns]"
     ]
    }
   ],
   "source": [
    "campaigns"
   ]
  },
  {
   "cell_type": "code",
   "execution_count": 9,
   "id": "2c4ac78a",
   "metadata": {},
   "outputs": [
    {
     "name": "stdout",
     "output_type": "stream",
     "text": [
      "                   client_id  crncy_cd  eop_bal_sum_rur  min_bal_sum_rur  \\\n",
      "0        7513301859607023584     810.0              0.0              0.0   \n",
      "1        7513301859607023584     810.0              0.0              0.0   \n",
      "2        7513301859607023584     810.0              0.0              0.0   \n",
      "3        7513301859607023584     810.0              0.0              0.0   \n",
      "4        7513301859607023584     810.0              0.0              0.0   \n",
      "...                      ...       ...              ...              ...   \n",
      "1194679  8771660346321577665     810.0              0.0              0.0   \n",
      "1194680  8771660346321577665     810.0              0.0              0.0   \n",
      "1194681  8771660346321577665     810.0              0.0              0.0   \n",
      "1194682  8771660346321577665     810.0              0.0              0.0   \n",
      "1194683  8771660346321577665     810.0              0.0              0.0   \n",
      "\n",
      "         max_bal_sum_rur  avg_bal_sum_rur month_end_dt     prod_cat_name  \\\n",
      "0                    0.0              0.0   2018-09-30  CURRENT ACCOUNTS   \n",
      "1                    0.0              0.0   2018-09-30  CURRENT ACCOUNTS   \n",
      "2                    0.0              0.0   2018-09-30  CURRENT ACCOUNTS   \n",
      "3                    0.0              0.0   2018-09-30  CURRENT ACCOUNTS   \n",
      "4                    0.0              0.0   2018-09-30  CURRENT ACCOUNTS   \n",
      "...                  ...              ...          ...               ...   \n",
      "1194679              0.0              0.0   2019-04-30         CAR LOANS   \n",
      "1194680              0.0              0.0   2019-05-31         CAR LOANS   \n",
      "1194681              0.0              0.0   2019-06-30         CAR LOANS   \n",
      "1194682              0.0              0.0   2019-07-31         CAR LOANS   \n",
      "1194683              0.0              0.0   2019-08-31         CAR LOANS   \n",
      "\n",
      "        prod_group_name  \n",
      "0        Cash on demand  \n",
      "1        Cash on demand  \n",
      "2        Cash on demand  \n",
      "3        Cash on demand  \n",
      "4        Cash on demand  \n",
      "...                 ...  \n",
      "1194679       Car loans  \n",
      "1194680       Car loans  \n",
      "1194681       Car loans  \n",
      "1194682       Car loans  \n",
      "1194683       Car loans  \n",
      "\n",
      "[1194684 rows x 9 columns]"
     ]
    }
   ],
   "source": [
    "balance"
   ]
  },
  {
   "cell_type": "code",
   "execution_count": 10,
   "id": "abdb9b39",
   "metadata": {},
   "outputs": [
    {
     "name": "stdout",
     "output_type": "stream",
     "text": [
      "                 client_id gender   age  region  city citizenship  \\\n",
      "0      7513301859607023584      F  33.0       0   115      RUSSIA   \n",
      "1      9157009756404187626      F  59.0      17   668      RUSSIA   \n",
      "2     -1893104556496814867      M  51.0      28    65      RUSSIA   \n",
      "3      6886062013213911831      F  56.0       0    40      RUSSIA   \n",
      "4     -8156468515495593794      F  34.0      -1    -1      RUSSIA   \n",
      "...                    ...    ...   ...     ...   ...         ...   \n",
      "21493  4662551505651924284      M  31.0       0    14      RUSSIA   \n",
      "21494 -8968737688687691353      M  53.0      25    33      RUSSIA   \n",
      "21495 -5799097497074119478      F  57.0      12   225      RUSSIA   \n",
      "21496 -2264802671063321355      M  37.0      37   368      RUSSIA   \n",
      "21497  -174115151336149439      M  33.0       7    13      RUSSIA   \n",
      "\n",
      "                 education job_type  \n",
      "0                      NaN      NaN  \n",
      "1                      NaN      NaN  \n",
      "2                      NaN      NaN  \n",
      "3                      NaN      NaN  \n",
      "4      HIGHER_PROFESSIONAL      NaN  \n",
      "...                    ...      ...  \n",
      "21493                  NaN      NaN  \n",
      "21494                  NaN      NaN  \n",
      "21495                  NaN      NaN  \n",
      "21496  MIDDLE_PROFESSIONAL      NaN  \n",
      "21497                  NaN      NaN  \n",
      "\n",
      "[21498 rows x 8 columns]"
     ]
    }
   ],
   "source": [
    "client"
   ]
  },
  {
   "cell_type": "code",
   "execution_count": 11,
   "id": "3bde7527",
   "metadata": {},
   "outputs": [],
   "source": [
    "X = funnel.drop(columns = TARGET_COLUMNS + ['client_id'])\n",
    "Y = funnel[TARGET_COLUMNS[0]]"
   ]
  },
  {
   "cell_type": "code",
   "execution_count": 12,
   "id": "1c7fc009",
   "metadata": {},
   "outputs": [],
   "source": [
    "#####################\n",
    "# IMPORT LIBS\n",
    "#####################\n",
    "\n",
    "import pandas as pd\n",
    "import numpy as np\n",
    "from pathlib import Path\n",
    "import wandb\n",
    "import datetime\n",
    "import os\n",
    "import random\n",
    "\n",
    "\n",
    "#####################\n",
    "# SET CONSTANTS\n",
    "#####################\n",
    "\n",
    "INPUT_PATH = Path('../input')\n",
    "OUTPUT_PATH = Path('../output')\n",
    "TRAIN_PATH = INPUT_PATH \n",
    "\n",
    "TARGET_COLUMNS = ['sale_flg', 'sale_amount']\n",
    "\n",
    "RANDOM_SEED = 4444\n",
    "USE_WANDB = True\n",
    "\n",
    "def seed_everything(seed=1234):\n",
    "    random.seed(seed)\n",
    "    os.environ['PYTHONHASHSEED'] = str(seed)\n",
    "    np.random.seed(seed)\n",
    "seed_everything(RANDOM_SEED)"
   ]
  },
  {
   "cell_type": "code",
   "execution_count": 13,
   "id": "91d8e211",
   "metadata": {},
   "outputs": [],
   "source": [
    "X = funnel.drop(columns = TARGET_COLUMNS + ['client_id'])\n",
    "Y = funnel[TARGET_COLUMNS[0]]"
   ]
  },
  {
   "cell_type": "code",
   "execution_count": 14,
   "id": "cbb2f778",
   "metadata": {},
   "outputs": [
    {
     "name": "stdout",
     "output_type": "stream",
     "text": [
      "       contacts  feature_1  client_segment  feature_2  feature_3  feature_4  \\\n",
      "0             1          7            13.0   571533.0    15717.0        0.0   \n",
      "1             1          3            13.0  3642369.0    94787.0        0.0   \n",
      "2             1          5            16.0   352826.0     5500.0        0.0   \n",
      "3             1          4             3.0  6070615.0    40580.0        0.0   \n",
      "4             1          7            14.0  3642369.0    97156.0    81488.0   \n",
      "...         ...        ...             ...        ...        ...        ...   \n",
      "21493         2          3             3.0  6070615.0    97616.0    21921.0   \n",
      "21494         1          9            14.0  1821184.0     2428.0     3952.0   \n",
      "21495         1          2            16.0  6070615.0    64991.0        0.0   \n",
      "21496         2          8             4.0  2282408.0     5832.0    16185.0   \n",
      "21497         1          3             3.0  6070615.0  1014167.0        0.0   \n",
      "\n",
      "       feature_5  feature_6  feature_7  feature_8  feature_9  feature_10  \\\n",
      "0            0.0        0.0   571852.0   472605.0       10.4     12548.0   \n",
      "1            0.0    84823.0  3642369.0  3314257.0        8.9     77210.0   \n",
      "2         6822.0        0.0   265893.0   204534.0        8.9      5508.0   \n",
      "3        30401.0        0.0  2005731.0  1825051.0        7.9     40583.0   \n",
      "4            0.0   160308.0  3642369.0  3314257.0       10.4     78108.0   \n",
      "...          ...        ...        ...        ...        ...         ...   \n",
      "21493    85635.0    89802.0  4826139.0  4391391.0        7.9     97626.0   \n",
      "21494        0.0    13938.0    92273.0    71641.0       19.9      2440.0   \n",
      "21495    13450.0        0.0  3212569.0  2923175.0        7.9     64998.0   \n",
      "21496        0.0    82182.0   230683.0   177449.0       17.9      5845.0   \n",
      "21497  1053209.0        0.0  6070615.0  5523763.0        9.9    128684.0   \n",
      "\n",
      "       region_cd  \n",
      "0           86.0  \n",
      "1            2.0  \n",
      "2           52.0  \n",
      "3           86.0  \n",
      "4           27.0  \n",
      "...          ...  \n",
      "21493       86.0  \n",
      "21494       78.0  \n",
      "21495       69.0  \n",
      "21496       59.0  \n",
      "21497       77.0  \n",
      "\n",
      "[21498 rows x 13 columns]"
     ]
    }
   ],
   "source": [
    "X"
   ]
  },
  {
   "cell_type": "code",
   "execution_count": 15,
   "id": "7ec03ee4",
   "metadata": {},
   "outputs": [
    {
     "name": "stdout",
     "output_type": "stream",
     "text": [
      "       contacts  feature_1  client_segment  feature_2  feature_3  feature_4  \\\n",
      "0         False      False           False      False      False      False   \n",
      "1         False      False           False      False      False      False   \n",
      "2         False      False           False      False      False      False   \n",
      "3         False      False           False      False      False      False   \n",
      "4         False      False           False      False      False      False   \n",
      "...         ...        ...             ...        ...        ...        ...   \n",
      "21493     False      False           False      False      False      False   \n",
      "21494     False      False           False      False      False      False   \n",
      "21495     False      False           False      False      False      False   \n",
      "21496     False      False           False      False      False      False   \n",
      "21497     False      False           False      False      False      False   \n",
      "\n",
      "       feature_5  feature_6  feature_7  feature_8  feature_9  feature_10  \\\n",
      "0          False      False      False      False      False       False   \n",
      "1          False      False      False      False      False       False   \n",
      "2          False      False      False      False      False       False   \n",
      "3          False      False      False      False      False       False   \n",
      "4          False      False      False      False      False       False   \n",
      "...          ...        ...        ...        ...        ...         ...   \n",
      "21493      False      False      False      False      False       False   \n",
      "21494      False      False      False      False      False       False   \n",
      "21495      False      False      False      False      False       False   \n",
      "21496      False      False      False      False      False       False   \n",
      "21497      False      False      False      False      False       False   \n",
      "\n",
      "       region_cd  \n",
      "0          False  \n",
      "1          False  \n",
      "2          False  \n",
      "3          False  \n",
      "4          False  \n",
      "...          ...  \n",
      "21493      False  \n",
      "21494      False  \n",
      "21495      False  \n",
      "21496      False  \n",
      "21497      False  \n",
      "\n",
      "[21498 rows x 13 columns]"
     ]
    }
   ],
   "source": [
    "X.isna()"
   ]
  },
  {
   "cell_type": "code",
   "execution_count": 16,
   "id": "3e53c316",
   "metadata": {},
   "outputs": [
    {
     "name": "stdout",
     "output_type": "stream",
     "text": [
      "contacts           0\n",
      "feature_1          0\n",
      "client_segment     0\n",
      "feature_2          0\n",
      "feature_3          0\n",
      "feature_4          0\n",
      "feature_5          0\n",
      "feature_6          0\n",
      "feature_7         11\n",
      "feature_8         11\n",
      "feature_9         11\n",
      "feature_10        11\n",
      "region_cd         34\n",
      "dtype: int64"
     ]
    }
   ],
   "source": [
    "X.isna().sum()"
   ]
  },
  {
   "cell_type": "code",
   "execution_count": 17,
   "id": "2acbf002",
   "metadata": {},
   "outputs": [
    {
     "name": "stdout",
     "output_type": "stream",
     "text": [
      "       contacts  feature_1  client_segment  feature_2  feature_3  feature_4  \\\n",
      "0             1          7            13.0   571533.0    15717.0        0.0   \n",
      "1             1          3            13.0  3642369.0    94787.0        0.0   \n",
      "2             1          5            16.0   352826.0     5500.0        0.0   \n",
      "3             1          4             3.0  6070615.0    40580.0        0.0   \n",
      "4             1          7            14.0  3642369.0    97156.0    81488.0   \n",
      "...         ...        ...             ...        ...        ...        ...   \n",
      "21493         2          3             3.0  6070615.0    97616.0    21921.0   \n",
      "21494         1          9            14.0  1821184.0     2428.0     3952.0   \n",
      "21495         1          2            16.0  6070615.0    64991.0        0.0   \n",
      "21496         2          8             4.0  2282408.0     5832.0    16185.0   \n",
      "21497         1          3             3.0  6070615.0  1014167.0        0.0   \n",
      "\n",
      "       feature_5  feature_6  feature_7  feature_8  feature_9  feature_10  \\\n",
      "0            0.0        0.0   571852.0   472605.0       10.4     12548.0   \n",
      "1            0.0    84823.0  3642369.0  3314257.0        8.9     77210.0   \n",
      "2         6822.0        0.0   265893.0   204534.0        8.9      5508.0   \n",
      "3        30401.0        0.0  2005731.0  1825051.0        7.9     40583.0   \n",
      "4            0.0   160308.0  3642369.0  3314257.0       10.4     78108.0   \n",
      "...          ...        ...        ...        ...        ...         ...   \n",
      "21493    85635.0    89802.0  4826139.0  4391391.0        7.9     97626.0   \n",
      "21494        0.0    13938.0    92273.0    71641.0       19.9      2440.0   \n",
      "21495    13450.0        0.0  3212569.0  2923175.0        7.9     64998.0   \n",
      "21496        0.0    82182.0   230683.0   177449.0       17.9      5845.0   \n",
      "21497  1053209.0        0.0  6070615.0  5523763.0        9.9    128684.0   \n",
      "\n",
      "       region_cd  \n",
      "0           86.0  \n",
      "1            2.0  \n",
      "2           52.0  \n",
      "3           86.0  \n",
      "4           27.0  \n",
      "...          ...  \n",
      "21493       86.0  \n",
      "21494       78.0  \n",
      "21495       69.0  \n",
      "21496       59.0  \n",
      "21497       77.0  \n",
      "\n",
      "[21498 rows x 13 columns]"
     ]
    }
   ],
   "source": [
    "X"
   ]
  },
  {
   "cell_type": "code",
   "execution_count": 18,
   "id": "e22d6561",
   "metadata": {},
   "outputs": [],
   "source": [
    "#####################\n",
    "# IMPORT LIBS\n",
    "#####################\n",
    "\n",
    "import pandas as pd\n",
    "import numpy as np\n",
    "from pathlib import Path\n",
    "import wandb\n",
    "import datetime\n",
    "import os\n",
    "import random\n",
    "\n",
    "from sklearn.model_selection import KFold\n",
    "from sklearn.model_selection import train_test_split\n",
    "\n",
    "\n",
    "#####################\n",
    "# SET CONSTANTS\n",
    "#####################\n",
    "\n",
    "INPUT_PATH = Path('../input')\n",
    "OUTPUT_PATH = Path('../output')\n",
    "TRAIN_PATH = INPUT_PATH \n",
    "\n",
    "TARGET_COLUMNS = ['sale_flg', 'sale_amount']\n",
    "\n",
    "RANDOM_SEED = 4444\n",
    "USE_WANDB = True\n",
    "\n",
    "def seed_everything(seed=1234):\n",
    "    random.seed(seed)\n",
    "    os.environ['PYTHONHASHSEED'] = str(seed)\n",
    "    np.random.seed(seed)\n",
    "seed_everything(RANDOM_SEED)"
   ]
  },
  {
   "cell_type": "code",
   "execution_count": 19,
   "id": "ce1b1c95",
   "metadata": {},
   "outputs": [],
   "source": [
    "#####################\n",
    "# IMPORT LIBS\n",
    "#####################\n",
    "\n",
    "import pandas as pd\n",
    "import numpy as np\n",
    "from pathlib import Path\n",
    "import wandb\n",
    "import datetime\n",
    "import os\n",
    "import random\n",
    "\n",
    "from sklearn.model_selection import KFold\n",
    "from sklearn.model_selection import train_test_split\n",
    "from sklearn.metrics import accuracy_score\n",
    "\n",
    "from lightgbm import LGBMClassifier\n",
    "\n",
    "\n",
    "#####################\n",
    "# SET CONSTANTS\n",
    "#####################\n",
    "\n",
    "INPUT_PATH = Path('../input')\n",
    "OUTPUT_PATH = Path('../output')\n",
    "TRAIN_PATH = INPUT_PATH \n",
    "\n",
    "TARGET_COLUMNS = ['sale_flg', 'sale_amount']\n",
    "\n",
    "RANDOM_SEED = 4444\n",
    "USE_WANDB = True\n",
    "\n",
    "def seed_everything(seed=1234):\n",
    "    random.seed(seed)\n",
    "    os.environ['PYTHONHASHSEED'] = str(seed)\n",
    "    np.random.seed(seed)\n",
    "seed_everything(RANDOM_SEED)"
   ]
  },
  {
   "cell_type": "code",
   "execution_count": 20,
   "id": "921b5522",
   "metadata": {},
   "outputs": [],
   "source": [
    "! pip install lightgbm"
   ]
  },
  {
   "cell_type": "code",
   "execution_count": 21,
   "id": "37493e13",
   "metadata": {},
   "outputs": [],
   "source": [
    "#####################\n",
    "# IMPORT LIBS\n",
    "#####################\n",
    "\n",
    "import pandas as pd\n",
    "import numpy as np\n",
    "from pathlib import Path\n",
    "import wandb\n",
    "import datetime\n",
    "import os\n",
    "import random\n",
    "\n",
    "from sklearn.model_selection import KFold\n",
    "from sklearn.model_selection import train_test_split\n",
    "from sklearn.metrics import accuracy_score\n",
    "\n",
    "from lightgbm import LGBMClassifier\n",
    "\n",
    "\n",
    "#####################\n",
    "# SET CONSTANTS\n",
    "#####################\n",
    "\n",
    "INPUT_PATH = Path('../input')\n",
    "OUTPUT_PATH = Path('../output')\n",
    "TRAIN_PATH = INPUT_PATH \n",
    "\n",
    "TARGET_COLUMNS = ['sale_flg', 'sale_amount']\n",
    "\n",
    "RANDOM_SEED = 4444\n",
    "USE_WANDB = True\n",
    "\n",
    "def seed_everything(seed=1234):\n",
    "    random.seed(seed)\n",
    "    os.environ['PYTHONHASHSEED'] = str(seed)\n",
    "    np.random.seed(seed)\n",
    "seed_everything(RANDOM_SEED)"
   ]
  },
  {
   "cell_type": "code",
   "execution_count": 22,
   "id": "bab44440",
   "metadata": {},
   "outputs": [],
   "source": [
    "model = LGBMClassifier()\n",
    "X_train, X_test, Y_train, Y_test = train_test_split(X, Y, random_state = RANDOM_SEED)\n",
    "model.fit(X_train, Y_train)\n",
    "\n",
    "Y_pred = model.predict(X_test)\n",
    "print(f'Accuracy score {accuracy_score(Y_test, Y_pred)}')"
   ]
  },
  {
   "cell_type": "code",
   "execution_count": 23,
   "id": "817271c0",
   "metadata": {},
   "outputs": [
    {
     "name": "stdout",
     "output_type": "stream",
     "text": [
      "LGBMClassifier()"
     ]
    }
   ],
   "source": [
    "model.fit(X, Y)"
   ]
  },
  {
   "cell_type": "code",
   "execution_count": 24,
   "id": "1844ee33",
   "metadata": {},
   "outputs": [],
   "source": [
    "#####################\n",
    "# IMPORT LIBS\n",
    "#####################\n",
    "\n",
    "import pandas as pd\n",
    "import numpy as np\n",
    "from pathlib import Path\n",
    "import wandb\n",
    "import datetime\n",
    "import os\n",
    "import random\n",
    "import joblib\n",
    "\n",
    "from sklearn.model_selection import KFold\n",
    "from sklearn.model_selection import train_test_split\n",
    "from sklearn.metrics import accuracy_score\n",
    "\n",
    "from lightgbm import LGBMClassifier\n",
    "\n",
    "\n",
    "#####################\n",
    "# SET CONSTANTS\n",
    "#####################\n",
    "\n",
    "INPUT_PATH = Path('../input')\n",
    "OUTPUT_PATH = Path('../output')\n",
    "TRAIN_PATH = INPUT_PATH \n",
    "\n",
    "TARGET_COLUMNS = ['sale_flg', 'sale_amount']\n",
    "\n",
    "RANDOM_SEED = 4444\n",
    "USE_WANDB = True\n",
    "\n",
    "def seed_everything(seed=1234):\n",
    "    random.seed(seed)\n",
    "    os.environ['PYTHONHASHSEED'] = str(seed)\n",
    "    np.random.seed(seed)\n",
    "seed_everything(RANDOM_SEED)"
   ]
  },
  {
   "cell_type": "code",
   "execution_count": 25,
   "id": "f26807ea",
   "metadata": {},
   "outputs": [],
   "source": [
    "try:\n",
    "    os.mkdir(OUTPUT_PATH / 'models')\n",
    "except:\n",
    "    pass\n",
    "\n",
    "# save model\n",
    "joblib.dump(model, OUTPUT_PATH / 'models' / f'lightgbm_{CURRENT_TIME}.pkl')\n",
    "# load model\n",
    "model = joblib.load( OUTPUT_PATH / 'models' / f'lightgbm_{CURRENT_TIME}.pkl')"
   ]
  },
  {
   "cell_type": "code",
   "execution_count": 26,
   "id": "3724f2f3",
   "metadata": {},
   "outputs": [],
   "source": [
    "CURRENT_TIME = str(datetime.datetime.now()).replace(' ', '_').split('.')[0]"
   ]
  },
  {
   "cell_type": "code",
   "execution_count": 27,
   "id": "17b8c5f7",
   "metadata": {},
   "outputs": [],
   "source": [
    "#####################\n",
    "# IMPORT LIBS\n",
    "#####################\n",
    "\n",
    "import pandas as pd\n",
    "import numpy as np\n",
    "from pathlib import Path\n",
    "import wandb\n",
    "import datetime\n",
    "import os\n",
    "import random\n",
    "import joblib\n",
    "\n",
    "from sklearn.model_selection import KFold\n",
    "from sklearn.model_selection import train_test_split\n",
    "from sklearn.metrics import accuracy_score\n",
    "\n",
    "from lightgbm import LGBMClassifier\n",
    "\n",
    "\n",
    "#####################\n",
    "# SET CONSTANTS\n",
    "#####################\n",
    "\n",
    "INPUT_PATH = Path('../input')\n",
    "OUTPUT_PATH = Path('../output')\n",
    "TRAIN_PATH = INPUT_PATH \n",
    "\n",
    "TARGET_COLUMNS = ['sale_flg', 'sale_amount']\n",
    "\n",
    "RANDOM_SEED = 4444\n",
    "USE_WANDB = True\n",
    "CURRENT_TIME = str(datetime.datetime.now()).replace(' ', '_').split('.')[0]\n",
    "\n",
    "def seed_everything(seed=1234):\n",
    "    random.seed(seed)\n",
    "    os.environ['PYTHONHASHSEED'] = str(seed)\n",
    "    np.random.seed(seed)\n",
    "seed_everything(RANDOM_SEED)"
   ]
  },
  {
   "cell_type": "code",
   "execution_count": 28,
   "id": "69c614f1",
   "metadata": {},
   "outputs": [],
   "source": [
    "try:\n",
    "    os.mkdir(OUTPUT_PATH / 'models')\n",
    "except:\n",
    "    pass\n",
    "\n",
    "# save model\n",
    "joblib.dump(model, OUTPUT_PATH / 'models' / f'lightgbm_{CURRENT_TIME}.pkl')\n",
    "# load model\n",
    "model = joblib.load( OUTPUT_PATH / 'models' / f'lightgbm_{CURRENT_TIME}.pkl')"
   ]
  },
  {
   "cell_type": "code",
   "execution_count": 29,
   "id": "6da76aca",
   "metadata": {},
   "outputs": [
    {
     "name": "stdout",
     "output_type": "stream",
     "text": [
      "array([0, 0, 0, ..., 0, 0, 0])"
     ]
    }
   ],
   "source": [
    "model.predict(X)"
   ]
  },
  {
   "cell_type": "code",
   "execution_count": 30,
   "id": "95f1603e",
   "metadata": {},
   "outputs": [
    {
     "name": "stdout",
     "output_type": "stream",
     "text": [
      "1681"
     ]
    }
   ],
   "source": [
    "model.predict(X).sum()"
   ]
  },
  {
   "cell_type": "code",
   "execution_count": 31,
   "id": "3d9af3c6",
   "metadata": {},
   "outputs": [
    {
     "name": "stdout",
     "output_type": "stream",
     "text": [
      "(21498,)"
     ]
    }
   ],
   "source": [
    "model.predict(X).shape"
   ]
  },
  {
   "cell_type": "code",
   "execution_count": 32,
   "id": "0b2e0fcf",
   "metadata": {},
   "outputs": [],
   "source": [
    "#####################\n",
    "# IMPORT LIBS\n",
    "#####################\n",
    "\n",
    "import pandas as pd\n",
    "import numpy as np\n",
    "from pathlib import Path\n",
    "import wandb\n",
    "import datetime\n",
    "import os\n",
    "import random\n",
    "import joblib\n",
    "\n",
    "from sklearn.model_selection import KFold\n",
    "from sklearn.model_selection import train_test_split\n",
    "from sklearn.metrics import accuracy_score\n",
    "\n",
    "from lightgbm import LGBMClassifier\n",
    "\n",
    "\n",
    "#####################\n",
    "# SET CONSTANTS\n",
    "#####################\n",
    "\n",
    "INPUT_PATH = Path('../input')\n",
    "OUTPUT_PATH = Path('../output')\n",
    "TRAIN_PATH = INPUT_PATH \n",
    "\n",
    "TARGET_COLUMNS = ['sale_flg', 'sale_amount']\n",
    "\n",
    "RANDOM_SEED = 4444\n",
    "USE_WANDB = True\n",
    "CURRENT_TIME = str(datetime.datetime.now()).replace(' ', '_').split('.')[0]\n",
    "\n",
    "def seed_everything(seed=1234):\n",
    "    random.seed(seed)\n",
    "    os.environ['PYTHONHASHSEED'] = str(seed)\n",
    "    np.random.seed(seed)\n",
    "seed_everything(RANDOM_SEED)"
   ]
  },
  {
   "cell_type": "code",
   "execution_count": 33,
   "id": "0ba5cccf",
   "metadata": {},
   "outputs": [],
   "source": [
    "###############\n",
    "# Config\n",
    "###############"
   ]
  },
  {
   "cell_type": "code",
   "execution_count": 34,
   "id": "d16681df",
   "metadata": {},
   "outputs": [
    {
     "data": {
      "text/html": [
       "\n",
       "                Tracking run with wandb version 0.10.26<br/>\n",
       "                Syncing run <strong style=\"color:#cdcd00\">2021-04-17_09:06:58</strong> to <a href=\"https://wandb.ai\" target=\"_blank\">Weights & Biases</a> <a href=\"https://docs.wandb.com/integrations/jupyter.html\" target=\"_blank\">(Documentation)</a>.<br/>\n",
       "                Project page: <a href=\"https://wandb.ai/artkulak/idao-2021-finals\" target=\"_blank\">https://wandb.ai/artkulak/idao-2021-finals</a><br/>\n",
       "                Run page: <a href=\"https://wandb.ai/artkulak/idao-2021-finals/runs/38amsyrb\" target=\"_blank\">https://wandb.ai/artkulak/idao-2021-finals/runs/38amsyrb</a><br/>\n",
       "                Run data is saved locally in <code>/home/jupyter/idao-2021-finals/wandb/run-20210417_090709-38amsyrb</code><br/><br/>\n",
       "            "
      ],
      "text/plain": [
       "<IPython.core.display.HTML object>"
      ]
     },
     "metadata": {},
     "output_type": "display_data"
    }
   ],
   "source": [
    "if USE_WANDB:\n",
    "    \n",
    "    wandb.login()\n",
    "    run = wandb.init(project=\"idao-2021-finals\", name = f'{CURRENT_TIME}') # todo add config here"
   ]
  },
  {
   "cell_type": "code",
   "execution_count": 35,
   "id": "2d6d2672",
   "metadata": {},
   "outputs": [],
   "source": [
    "%%time\n",
    "\n",
    "train = pd.read_csv(INPUT_PATH / 'trxn.csv')\n",
    "assets_under_management = pd.read_csv(INPUT_PATH / 'aum.csv')\n",
    "balance = pd.read_csv(INPUT_PATH / 'balance.csv')\n",
    "client = pd.read_csv(INPUT_PATH / 'client.csv')\n",
    "campaigns = pd.read_csv(INPUT_PATH / 'com.csv')\n",
    "deals = pd.read_csv(INPUT_PATH / 'deals.csv')\n",
    "dict_merchant_category_code = pd.read_csv(INPUT_PATH / 'dict_mcc.csv')\n",
    "payments = pd.read_csv(INPUT_PATH / 'payments.csv')\n",
    "funnel = pd.read_csv(INPUT_PATH / 'funnel.csv')\n",
    "appl = pd.read_csv(INPUT_PATH / 'appl.csv')"
   ]
  },
  {
   "cell_type": "code",
   "execution_count": 36,
   "id": "6fb22951",
   "metadata": {},
   "outputs": [],
   "source": [
    "X = funnel.drop(columns = TARGET_COLUMNS + ['client_id'])\n",
    "Y = funnel[TARGET_COLUMNS[0]]"
   ]
  },
  {
   "cell_type": "code",
   "execution_count": 37,
   "id": "e9e29869",
   "metadata": {},
   "outputs": [],
   "source": [
    "model = LGBMClassifier(n_jobs = -1)\n",
    "X_train, X_test, Y_train, Y_test = train_test_split(X, Y, random_state = RANDOM_SEED)\n",
    "model.fit(X_train, Y_train)\n",
    "\n",
    "Y_pred = model.predict(X_test)\n",
    "validation_accuracy = accuracy_score(Y_test, Y_pred)\n",
    "print(f'Accuracy score {validation_accuracy}')\n",
    "\n",
    "validation_accuracy = accuracy_score(Y_test, Y_pred)\n",
    "\n",
    "if USE_WANDB:\n",
    "    run.summary[\"private_test_auc\"] = private_test_auc"
   ]
  },
  {
   "cell_type": "code",
   "execution_count": 38,
   "id": "facd37fc",
   "metadata": {},
   "outputs": [],
   "source": [
    "if USE_WANDB:\n",
    "    run.summary[\"validation_accuracy\"] = validation_accuracy"
   ]
  },
  {
   "cell_type": "code",
   "execution_count": 39,
   "id": "f58cbfe4",
   "metadata": {},
   "outputs": [
    {
     "name": "stdout",
     "output_type": "stream",
     "text": [
      "LGBMClassifier()"
     ]
    }
   ],
   "source": [
    "model.fit(X, Y)"
   ]
  },
  {
   "cell_type": "code",
   "execution_count": 40,
   "id": "8c666448",
   "metadata": {},
   "outputs": [],
   "source": [
    "try:\n",
    "    os.mkdir(OUTPUT_PATH / 'models')\n",
    "except:\n",
    "    pass\n",
    "\n",
    "# save model\n",
    "joblib.dump(model, OUTPUT_PATH / 'models' / f'lightgbm_{CURRENT_TIME}.pkl')\n",
    "# load model\n",
    "model = joblib.load( OUTPUT_PATH / 'models' / f'lightgbm_{CURRENT_TIME}.pkl')"
   ]
  },
  {
   "cell_type": "code",
   "execution_count": 41,
   "id": "41d1647a",
   "metadata": {},
   "outputs": [],
   "source": [
    "if USE_WANDB:\n",
    "    run.finish()"
   ]
  }
 ],
 "metadata": {
  "kernelspec": {
   "display_name": "Python 3",
   "language": "python",
   "name": "python3"
  },
  "language_info": {
   "codemirror_mode": {
    "name": "ipython",
    "version": 3
   },
   "file_extension": ".py",
   "mimetype": "text/x-python",
   "name": "python",
   "nbconvert_exporter": "python",
   "pygments_lexer": "ipython3",
   "version": "3.7.10"
  }
 },
 "nbformat": 4,
 "nbformat_minor": 5
}
