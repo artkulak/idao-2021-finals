{
 "cells": [
  {
   "cell_type": "code",
   "execution_count": 1,
   "id": "ef40a2d6",
   "metadata": {},
   "outputs": [],
   "source": [
    "#####################\n",
    "# IMPORT LIBS\n",
    "#####################\n",
    "\n",
    "import pandas as pd\n",
    "import numpy as np\n",
    "from pathlib import Path\n",
    "import wandb\n",
    "import datetime\n",
    "import os\n",
    "import random\n",
    "import joblib\n",
    "\n",
    "from sklearn.model_selection import KFold\n",
    "from sklearn.model_selection import train_test_split\n",
    "from sklearn.metrics import accuracy_score\n",
    "\n",
    "from lightgbm import LGBMClassifier\n",
    "\n",
    "\n",
    "#####################\n",
    "# SET CONSTANTS\n",
    "#####################\n",
    "\n",
    "INPUT_PATH = Path('../input')\n",
    "OUTPUT_PATH = Path('../output')\n",
    "TRAIN_PATH = INPUT_PATH \n",
    "\n",
    "TARGET_COLUMNS = ['sale_flg', 'sale_amount', 'contacts']\n",
    "\n",
    "RANDOM_SEED = 4444\n",
    "USE_WANDB = True\n",
    "CURRENT_TIME = str(datetime.datetime.now()).replace(' ', '_').split('.')[0]\n",
    "\n",
    "def seed_everything(seed=1234):\n",
    "    random.seed(seed)\n",
    "    os.environ['PYTHONHASHSEED'] = str(seed)\n",
    "    np.random.seed(seed)\n",
    "seed_everything(RANDOM_SEED)"
   ]
  },
  {
   "cell_type": "code",
   "execution_count": 2,
   "id": "769da4fb",
   "metadata": {},
   "outputs": [],
   "source": [
    "###############\n",
    "# Config\n",
    "###############"
   ]
  },
  {
   "cell_type": "code",
   "execution_count": 3,
   "id": "1e6ecb00",
   "metadata": {},
   "outputs": [
    {
     "data": {
      "text/html": [
       "\n",
       "                Tracking run with wandb version 0.10.26<br/>\n",
       "                Syncing run <strong style=\"color:#cdcd00\">2021-04-17_10:03:55</strong> to <a href=\"https://wandb.ai\" target=\"_blank\">Weights & Biases</a> <a href=\"https://docs.wandb.com/integrations/jupyter.html\" target=\"_blank\">(Documentation)</a>.<br/>\n",
       "                Project page: <a href=\"https://wandb.ai/artkulak/idao-2021-finals\" target=\"_blank\">https://wandb.ai/artkulak/idao-2021-finals</a><br/>\n",
       "                Run page: <a href=\"https://wandb.ai/artkulak/idao-2021-finals/runs/1qo0ax9z\" target=\"_blank\">https://wandb.ai/artkulak/idao-2021-finals/runs/1qo0ax9z</a><br/>\n",
       "                Run data is saved locally in <code>/home/jupyter/idao-2021-finals/wandb/run-20210417_100355-1qo0ax9z</code><br/><br/>\n",
       "            "
      ],
      "text/plain": [
       "<IPython.core.display.HTML object>"
      ]
     },
     "metadata": {},
     "output_type": "display_data"
    }
   ],
   "source": [
    "if USE_WANDB:\n",
    "    \n",
    "    wandb.login()\n",
    "    run = wandb.init(project=\"idao-2021-finals\", name = f'{CURRENT_TIME}') # todo add config here"
   ]
  },
  {
   "cell_type": "code",
   "execution_count": 4,
   "id": "8430fe61",
   "metadata": {},
   "outputs": [],
   "source": [
    "%%time\n",
    "\n",
    "train = pd.read_csv(INPUT_PATH / 'trxn.csv')\n",
    "assets_under_management = pd.read_csv(INPUT_PATH / 'aum.csv')\n",
    "balance = pd.read_csv(INPUT_PATH / 'balance.csv')\n",
    "client = pd.read_csv(INPUT_PATH / 'client.csv')\n",
    "campaigns = pd.read_csv(INPUT_PATH / 'com.csv')\n",
    "deals = pd.read_csv(INPUT_PATH / 'deals.csv')\n",
    "dict_merchant_category_code = pd.read_csv(INPUT_PATH / 'dict_mcc.csv')\n",
    "payments = pd.read_csv(INPUT_PATH / 'payments.csv')\n",
    "funnel = pd.read_csv(INPUT_PATH / 'funnel.csv')\n",
    "appl = pd.read_csv(INPUT_PATH / 'appl.csv')"
   ]
  },
  {
   "cell_type": "code",
   "execution_count": 5,
   "id": "eaa5b7be",
   "metadata": {},
   "outputs": [],
   "source": [
    "X = funnel.drop(columns = TARGET_COLUMNS + ['client_id'])\n",
    "Y = funnel[TARGET_COLUMNS[0]]"
   ]
  },
  {
   "cell_type": "code",
   "execution_count": 6,
   "id": "76906c89",
   "metadata": {},
   "outputs": [],
   "source": [
    "model = LGBMClassifier(n_jobs = -1)\n",
    "X_train, X_test, Y_train, Y_test = train_test_split(X, Y, random_state = RANDOM_SEED)\n",
    "model.fit(X_train, Y_train)\n",
    "\n",
    "Y_pred = model.predict(X_test)\n",
    "validation_accuracy = accuracy_score(Y_test, Y_pred)\n",
    "print(f'Accuracy score {validation_accuracy}')\n",
    "\n",
    "validation_accuracy = accuracy_score(Y_test, Y_pred)\n",
    "\n",
    "if USE_WANDB:\n",
    "    run.summary[\"validation_accuracy\"] = validation_accuracy"
   ]
  },
  {
   "cell_type": "code",
   "execution_count": 7,
   "id": "57b9ad07",
   "metadata": {},
   "outputs": [
    {
     "name": "stdout",
     "output_type": "stream",
     "text": [
      "LGBMClassifier()"
     ]
    }
   ],
   "source": [
    "model.fit(X, Y)"
   ]
  },
  {
   "cell_type": "code",
   "execution_count": 8,
   "id": "2377d90a",
   "metadata": {},
   "outputs": [],
   "source": [
    "try:\n",
    "    os.mkdir(OUTPUT_PATH / 'models')\n",
    "except:\n",
    "    pass\n",
    "\n",
    "# save model\n",
    "joblib.dump(model, OUTPUT_PATH / 'models' / f'lightgbm_{CURRENT_TIME}.pkl')\n",
    "# load model\n",
    "model = joblib.load( OUTPUT_PATH / 'models' / f'lightgbm_{CURRENT_TIME}.pkl')"
   ]
  },
  {
   "cell_type": "code",
   "execution_count": 9,
   "id": "2ce08e73",
   "metadata": {},
   "outputs": [],
   "source": [
    "if USE_WANDB:\n",
    "    run.finish()"
   ]
  }
 ],
 "metadata": {
  "kernelspec": {
   "display_name": "Python 3",
   "language": "python",
   "name": "python3"
  },
  "language_info": {
   "codemirror_mode": {
    "name": "ipython",
    "version": 3
   },
   "file_extension": ".py",
   "mimetype": "text/x-python",
   "name": "python",
   "nbconvert_exporter": "python",
   "pygments_lexer": "ipython3",
   "version": "3.7.10"
  }
 },
 "nbformat": 4,
 "nbformat_minor": 5
}
