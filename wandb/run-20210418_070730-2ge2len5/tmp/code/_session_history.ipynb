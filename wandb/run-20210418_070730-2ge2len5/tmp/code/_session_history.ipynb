{
 "cells": [
  {
   "cell_type": "code",
   "execution_count": 1,
   "id": "ddfab1cb",
   "metadata": {},
   "outputs": [],
   "source": [
    "#####################\n",
    "# IMPORT LIBS\n",
    "#####################\n",
    "\n",
    "import pandas as pd\n",
    "import numpy as np\n",
    "from pathlib import Path\n",
    "import wandb\n",
    "import datetime\n",
    "import os\n",
    "import random\n",
    "import joblib\n",
    "import shutil\n",
    "\n",
    "from sklearn.model_selection import KFold\n",
    "from sklearn.model_selection import train_test_split\n",
    "from sklearn.metrics import accuracy_score\n",
    "from sklearn.preprocessing import LabelEncoder\n",
    "from scoring import local_scorer\n",
    "import scipy\n",
    "\n",
    "from lightgbm import LGBMClassifier\n",
    "\n",
    "\n",
    "#####################\n",
    "# SET CONSTANTS\n",
    "#####################\n",
    "\n",
    "INPUT_PATH = Path('../input')\n",
    "OUTPUT_PATH = Path('../output')\n",
    "TRAIN_PATH = INPUT_PATH \n",
    "\n",
    "TARGET_COLUMNS = ['sale_flg', 'sale_amount', 'contacts']\n",
    "FIXED_SEEDS = [948, 534, 432, 597, 103, 21, 2242, 17, 20, 29]\n",
    "\n",
    "RANDOM_SEED = 4444\n",
    "USE_WANDB = False\n",
    "CURRENT_TIME = str(datetime.datetime.now()).replace(' ', '_').split('.')[0]\n",
    "\n",
    "def seed_everything(seed=1234):\n",
    "    random.seed(seed)\n",
    "    os.environ['PYTHONHASHSEED'] = str(seed)\n",
    "    np.random.seed(seed)\n",
    "seed_everything(RANDOM_SEED)"
   ]
  },
  {
   "cell_type": "code",
   "execution_count": 2,
   "id": "11631bfc",
   "metadata": {},
   "outputs": [],
   "source": [
    "###############\n",
    "# Config\n",
    "###############\n",
    "\n",
    "n_seed = 5\n",
    "n_fold = 5\n",
    "prediction_threshold = 0.2\n",
    "retrain_after_valid = True\n",
    "make_submission = False"
   ]
  },
  {
   "cell_type": "code",
   "execution_count": 3,
   "id": "42ffeb49",
   "metadata": {},
   "outputs": [],
   "source": [
    "if USE_WANDB:\n",
    "    wandb.login()\n",
    "    run = wandb.init(project=\"idao-2021-finals\", name = f'{CURRENT_TIME}') # todo add config here"
   ]
  },
  {
   "cell_type": "code",
   "execution_count": 4,
   "id": "bf1566e8",
   "metadata": {},
   "outputs": [],
   "source": [
    "%%time\n",
    "\n",
    "transactions = pd.read_csv(INPUT_PATH / 'trxn.csv')\n",
    "assets_under_management = pd.read_csv(INPUT_PATH / 'aum.csv')\n",
    "balance = pd.read_csv(INPUT_PATH / 'balance.csv')\n",
    "client = pd.read_csv(INPUT_PATH / 'client.csv')\n",
    "campaigns = pd.read_csv(INPUT_PATH / 'com.csv')\n",
    "deals = pd.read_csv(INPUT_PATH / 'deals.csv')\n",
    "dict_merchant_category_code = pd.read_csv(INPUT_PATH / 'dict_mcc.csv')\n",
    "payments = pd.read_csv(INPUT_PATH / 'payments.csv')\n",
    "funnel = pd.read_csv(INPUT_PATH / 'funnel.csv')\n",
    "appl = pd.read_csv(INPUT_PATH / 'appl.csv')"
   ]
  },
  {
   "cell_type": "code",
   "execution_count": 5,
   "id": "10150543",
   "metadata": {},
   "outputs": [],
   "source": [
    "payments = payments.sort_values(by='day_dt', ascending = False).reset_index(drop = True)"
   ]
  },
  {
   "cell_type": "code",
   "execution_count": 6,
   "id": "2727aa5a",
   "metadata": {},
   "outputs": [],
   "source": [
    "transactions['mcc_cd'] = transactions['mcc_cd'].fillna(-2)\n",
    "transactions['txn_city'] = transactions['txn_city'].fillna('<UNK>')\n",
    "transactions['tsp_name'] = transactions['tsp_name'].fillna('<UNK>')\n",
    "transactions['txn_comment_2'] = transactions['txn_comment_2'].fillna('<UNK>')\n",
    "transactions.merge(dict_merchant_category_code, on='mcc_cd', how='left')\n",
    "transactions['brs_mcc_group'] = transactions['brs_mcc_group'].fillna('<UNK>')\n",
    "transactions['brs_mcc_subgroup'] = transactions['brs_mcc_subgroup'].fillna('<UNK>')\n",
    "\n",
    "balance['crncy_cd'] = balance['crncy_cd'].fillna(-2)\n",
    "balance['prod_cat_name'] = balance['prod_cat_name'].fillna('<UNK>')\n",
    "balance['prod_group_name'] = balance['prod_group_name'].fillna('<UNK>')\n",
    "\n",
    "client = client.rename(columns={\n",
    "    'gender': 'client_gender',\n",
    "    'age': 'client_age',\n",
    "    'region': 'client_region',\n",
    "    'city': 'client_city',\n",
    "    'citizenship': 'client_citizenship',\n",
    "    'education': 'client_education',\n",
    "    'job_type': 'client_job_type'\n",
    "})\n",
    "\n",
    "campaigns['prod'] = campaigns['prod'].fillna('<UNK>')\n",
    "\n",
    "deals['crncy_cd'] = deals['crncy_cd'].fillna(-2)\n",
    "deals['agrmnt_rate_active'] = deals['agrmnt_rate_active'].fillna(-2)\n",
    "deals['agrmnt_rate_passive'] = deals['agrmnt_rate_passive'].fillna(-2)\n",
    "deals['agrmnt_sum_rur'] = deals['agrmnt_sum_rur'].fillna(-2)\n",
    "deals['prod_type_name'] = deals['prod_type_name'].fillna('<UNK>')\n",
    "deals['argmnt_close_start_days'] = (pd.to_datetime(deals['agrmnt_close_dt']) - pd.to_datetime(deals['agrmnt_start_dt'])).dt.days.fillna(-2)"
   ]
  },
  {
   "cell_type": "code",
   "execution_count": 7,
   "id": "01473103",
   "metadata": {},
   "outputs": [],
   "source": [
    "# data merge\n",
    "data = funnel.copy()\n",
    "data = funnel.merge(client, on=['client_id'])"
   ]
  },
  {
   "cell_type": "code",
   "execution_count": 8,
   "id": "96b3093f",
   "metadata": {},
   "outputs": [],
   "source": [
    "# for feature_1 in [f'feature_{i}'for i in range(1, 11)]:\n",
    "#     data[f'{feature_1} ** 2'] = data[feature_1] ** 2\n",
    "#     data[f'{feature_1} ** 0.5'] = data[feature_1] ** 0.5\n",
    "#     data[f'{feature_1} log'] = np.log(data[feature_1])"
   ]
  },
  {
   "cell_type": "code",
   "execution_count": 9,
   "id": "f931a229",
   "metadata": {},
   "outputs": [],
   "source": [
    "# for feature_1 in [f'feature_{i}'for i in range(1, 11)]:\n",
    "#     for feature_2 in [f'feature_{i}'for i in range(1, 11)]:\n",
    "#         if feature_1 != feature_2:\n",
    "#             data[f'{feature_1} + {feature_2}'] = data[feature_1] + data[feature_2]\n",
    "#             data[f'{feature_1} * {feature_2}'] = data[feature_1] * data[feature_2]\n",
    "#             data[f'{feature_1} / {feature_2}'] = data[feature_1] / data[feature_2]\n",
    "#             data[f'{feature_1} - {feature_2}'] = data[feature_1] - data[feature_2]"
   ]
  },
  {
   "cell_type": "code",
   "execution_count": 10,
   "id": "532f0608",
   "metadata": {},
   "outputs": [],
   "source": [
    "%%time\n",
    "# create features\n",
    "\n",
    "data = create_features_transactions(data)\n",
    "data = create_features_aum(data)\n",
    "data = create_features_balance(data)\n",
    "data = create_features_client(data)\n",
    "data = create_features_campaigns(data)\n",
    "data = create_features_deals(data)\n",
    "data = create_features_dict_mcc(data)\n",
    "data = create_features_payments(data)\n",
    "data = create_features_appl(data)\n",
    "data = create_features_funnel(data)\n",
    "data = create_features_deals(data)"
   ]
  },
  {
   "cell_type": "code",
   "execution_count": 11,
   "id": "5d06e81a",
   "metadata": {},
   "outputs": [],
   "source": [
    "def most_common(x, default='unknown'):\n",
    "    try:\n",
    "        # works faster then value_counts and pd.Series.mode\n",
    "        return scipy.stats.mode(x)[0][0]\n",
    "    except: \n",
    "        return default\n",
    "\n",
    "\n",
    "def get_feature_total(df, col_name):\n",
    "    return data['client_id'].map(df.groupby(['client_id', col_name]).size().index.get_level_values('client_id').value_counts()).fillna(0)\n",
    "\n",
    "\n",
    "def get_feature_most_common(df, col_name, fill_na_value):\n",
    "    return data['client_id'].map(df.groupby('client_id')[col_name].agg(lambda x: scipy.stats.mode(x)[0][0])).fillna(fill_na_value)\n",
    "\n",
    "\n",
    "def get_feature_max(df, col_name, fill_na_value):\n",
    "    return data['client_id'].map(df.groupby('client_id')[col_name].max()).fillna(fill_na_value)\n",
    "\n",
    "\n",
    "def get_feature_min(df, col_name, fill_na_value):\n",
    "    return data['client_id'].map(df.groupby('client_id')[col_name].min()).fillna(fill_na_value)\n",
    "\n",
    "\n",
    "def get_feature_mean(df, col_name, fill_na_value):\n",
    "    return data['client_id'].map(df.groupby('client_id')[col_name].mean()).fillna(fill_na_value)\n",
    "\n",
    "\n",
    "def get_feature_std(df, col_name, fill_na_value):\n",
    "    return data['client_id'].map(df.groupby('client_id')[col_name].std()).fillna(fill_na_value)\n",
    "\n",
    "\n",
    "def get_feature_max_min(df, col_name, fill_na_value):\n",
    "    return data['client_id'].map(df.groupby('client_id')[col_name].agg(lambda x: x.max() - x.min())).fillna(fill_na_value)\n",
    "\n",
    "\n",
    "def create_features_transactions(data):\n",
    "    \n",
    "    data = data.copy()\n",
    "    \n",
    "    # transaction features\n",
    "    data['total_transactions'] = data['client_id'].map(transactions.groupby('client_id').size()).fillna(0)\n",
    "    data['total_cards'] = get_feature_total(transactions, 'card_id')\n",
    "\n",
    "#     data['total_transaction_amount'] = data['client_id'].map(transactions.groupby('client_id')['tran_amt_rur'].sum()).fillna(0) # add monthly, daily, etc\n",
    "    data['mean_transaction_amt'] = get_feature_mean(transactions, 'tran_amt_rur', -1) # add monthly, daily, etc\n",
    "    data['std_transaction_amount'] = get_feature_std(transactions, 'tran_amt_rur', -1) # add monthly, daily, etc\n",
    "    \n",
    "    data['total_mcc_cd'] = get_feature_total(transactions, 'mcc_cd')\n",
    "    data['total_share_mcc_cd'] = (data['total_mcc_cd'] / data['total_transactions']).fillna(0)\n",
    "    data['most_common_mcc_cd'] = get_feature_most_common(transactions, 'mcc_cd', -1)\n",
    "    \n",
    "    data['total_merchant_cd'] = get_feature_total(transactions, 'merchant_cd')\n",
    "    data['total_share_merchant_cd'] = (data['total_merchant_cd'] / data['total_transactions']).fillna(0)\n",
    "    data['most_common_merchant_cd'] = get_feature_most_common(transactions, 'merchant_cd', -1)\n",
    "    \n",
    "    data['total_txn_city'] = get_feature_total(transactions, 'txn_city')\n",
    "    data['total_share_txn_city'] = (data['total_txn_city'] / data['total_transactions']).fillna(0)\n",
    "    data['most_common_txn_city'] = get_feature_most_common(transactions, 'txn_city', '<unknown>')\n",
    "    \n",
    "    data['total_tsp_name'] = get_feature_total(transactions, 'tsp_name')\n",
    "    data['total_share_tsp_name'] = (data['total_tsp_name'] / data['total_transactions']).fillna(0)\n",
    "    data['most_common_tsp_name'] = get_feature_most_common(transactions, 'tsp_name', '<unknown>')\n",
    "    \n",
    "    data['total_txn_comment_1'] = get_feature_total(transactions, 'txn_comment_1')\n",
    "    data['most_common_txn_comment_1'] = get_feature_most_common(transactions, 'txn_comment_1', '<unknown>')\n",
    "    \n",
    "    data['total_txn_comment_2'] = get_feature_total(transactions, 'txn_comment_2')\n",
    "    data['most_common_txn_comment_2'] = get_feature_most_common(transactions, 'txn_comment_2', '<unknown>')\n",
    "    \n",
    "    data['total_brs_mcc_group'] = get_feature_total(transactions, 'brs_mcc_group')\n",
    "    data['most_common_brs_mcc_group'] = get_feature_most_common(transactions, 'brs_mcc_group', '<unknown>')\n",
    "    \n",
    "    data['total_brs_mcc_subgroup'] = get_feature_total(transactions, 'brs_mcc_subgroup')\n",
    "    data['most_common_brs_mcc_subgroup'] = get_feature_most_common(transactions, 'brs_mcc_subgroup', '<unknown>')\n",
    "    \n",
    "    return data\n",
    "\n",
    "\n",
    "def create_features_aum(data):\n",
    "    data = data.copy()\n",
    "    \n",
    "    data['total_aum'] = data['client_id'].map(assets_under_management.groupby('client_id').size()).fillna(0)\n",
    "    \n",
    "    data['total_product_code'] = get_feature_total(assets_under_management, 'product_code')\n",
    "    data['most_common_product_code'] = get_feature_most_common(assets_under_management, 'product_code', '<unknown>').value_counts()\n",
    "    \n",
    "    data['mean_balance_rur_amt'] = get_feature_mean(assets_under_management, 'balance_rur_amt', -1)\n",
    "    data['std_balance_rur_amt'] = get_feature_std(assets_under_management, 'balance_rur_amt', -1)\n",
    "    data['max_min_balance_rur_amt'] = get_feature_max_min(assets_under_management, 'balance_rur_amt', -1)\n",
    "    \n",
    "    return data\n",
    "\n",
    "\n",
    "def create_features_balance(data):\n",
    "    data = data.copy()\n",
    "    \n",
    "    data['total_balance'] = data['client_id'].map(balance.groupby('client_id').size()).fillna(0)\n",
    "    \n",
    "    data['total_balance_crncy_cd'] = get_feature_total(balance, 'crncy_cd')\n",
    "    data['most_common_balance_crncy_cd'] = get_feature_most_common(balance, 'crncy_cd', -1)\n",
    "    \n",
    "    data['total_eop_bal_sum_rur'] = get_feature_total(balance, 'eop_bal_sum_rur')\n",
    "    data['total_share_eop_bal_sum_rur'] = (data['total_eop_bal_sum_rur'] / data['total_balance']).fillna(0)\n",
    "    data['mean_eop_bal_sum_rur'] = get_feature_mean(balance, 'eop_bal_sum_rur', -9999)\n",
    "    data['std_eop_bal_sum_rur'] = get_feature_std(balance, 'eop_bal_sum_rur', -9999)\n",
    "    \n",
    "    data['total_min_bal_sum_rur'] = get_feature_total(balance, 'min_bal_sum_rur')\n",
    "    data['total_share_min_bal_sum_rur'] = (data['total_min_bal_sum_rur'] / data['total_balance']).fillna(0)\n",
    "    data['mean_min_bal_sum_rur'] = get_feature_mean(balance, 'min_bal_sum_rur', -9999)\n",
    "    data['std_min_bal_sum_rur'] = get_feature_std(balance, 'min_bal_sum_rur', -9999)\n",
    "    \n",
    "    data['total_max_bal_sum_rur'] = get_feature_total(balance, 'max_bal_sum_rur')\n",
    "    data['total_share_max_bal_sum_rur'] = (data['total_max_bal_sum_rur'] / data['total_balance']).fillna(0)\n",
    "    data['mean_max_bal_sum_rur'] = get_feature_mean(balance, 'max_bal_sum_rur', -9999)\n",
    "    data['std_max_bal_sum_rur'] = get_feature_std(balance, 'max_bal_sum_rur', -9999)\n",
    "    \n",
    "    data['total_avg_bal_sum_rur'] = get_feature_total(balance, 'avg_bal_sum_rur')\n",
    "    data['total_share_avg_bal_sum_rur'] = (data['total_avg_bal_sum_rur'] / data['total_balance']).fillna(0)\n",
    "    data['mean_avg_bal_sum_rur'] = get_feature_mean(balance, 'avg_bal_sum_rur', -9999)\n",
    "    data['std_avg_bal_sum_rur'] = get_feature_std(balance, 'avg_bal_sum_rur', -9999)\n",
    "    data['max_min_avg_bal_sum_rur'] = get_feature_max_min(balance, 'avg_bal_sum_rur', -9999)\n",
    "    \n",
    "    data['total_prod_cat_name'] = get_feature_total(balance, 'prod_cat_name')\n",
    "    data['most_common_prod_cat_name'] = get_feature_most_common(balance, 'prod_cat_name', '<unknown>')\n",
    "    \n",
    "    data['total_prod_group_name'] = get_feature_total(balance, 'prod_group_name')\n",
    "    data['most_common_prod_group_name'] = get_feature_most_common(balance, 'prod_group_name', '<unknown>')\n",
    "    \n",
    "    return data\n",
    "\n",
    "\n",
    "def create_features_client(data):\n",
    "    data = data.copy()\n",
    "    \n",
    "    data = data.merge(client, on='client_id')\n",
    "    data['match_client_region-region_cd'] = (data['client_region'] == data['region_cd']).astype(int)\n",
    "    data.drop('client_citizenship', axis=1)\n",
    "    \n",
    "    return data\n",
    "\n",
    "\n",
    "def create_features_campaigns(data):\n",
    "    data = data.copy()\n",
    "    \n",
    "    data['total_campaigns'] = data['client_id'].map(campaigns.groupby('client_id').size()).fillna(0)\n",
    "    \n",
    "    data['total_agr_flg'] = get_feature_total(campaigns, 'agr_flg')\n",
    "    data['mean_agr_flg'] = get_feature_mean(campaigns, 'agr_flg', -1)\n",
    "    \n",
    "    data['total_otkaz'] = get_feature_total(campaigns, 'otkaz')\n",
    "    data['mean_otkaz'] = get_feature_mean(campaigns, 'otkaz', -1)\n",
    "    \n",
    "    data['total_dumaet'] = get_feature_total(campaigns, 'dumaet')\n",
    "    data['mean_dumaet'] = get_feature_mean(campaigns, 'dumaet', -1)\n",
    "    \n",
    "    data['total_ring_up_flg'] = get_feature_total(campaigns, 'ring_up_flg')\n",
    "    data['most_common_ring_up_flg'] = get_feature_most_common(campaigns, 'ring_up_flg', -1)\n",
    "    \n",
    "    data['total_count_comm'] = get_feature_total(campaigns, 'count_comm')\n",
    "    data['most_common_count_comm'] = get_feature_most_common(campaigns, 'count_comm', -1)\n",
    "    \n",
    "    data['total_channel'] = get_feature_total(campaigns, 'channel')\n",
    "    data['most_common_channel'] = get_feature_most_common(campaigns, 'channel', '<unknown>')\n",
    "    \n",
    "    data['total_prod'] = get_feature_total(campaigns, 'prod')\n",
    "    data['most_common_prod'] = get_feature_most_common(campaigns, 'prod', '<unknown>')\n",
    "    \n",
    "    return data\n",
    "\n",
    "\n",
    "def create_features_deals(data):\n",
    "    data = data.copy()\n",
    "    \n",
    "    data['total_deals'] = data['client_id'].map(deals.groupby('client_id').size()).fillna(0)\n",
    "    \n",
    "    data['total_deals_crncy_cd'] = get_feature_total(deals, 'crncy_cd')\n",
    "    data['most_common_deals_crncy_cd'] = get_feature_most_common(deals, 'crncy_cd', -1)\n",
    "    \n",
    "    data['total_agrmnt_rate_active'] = get_feature_total(deals, 'agrmnt_rate_active')\n",
    "    data['max_agrmnt_rate_active'] = get_feature_max(deals, 'agrmnt_rate_active', -1)\n",
    "    \n",
    "    data['total_agrmnt_rate_passive'] = get_feature_total(deals, 'agrmnt_rate_passive')\n",
    "    data['max_agrmnt_rate_passive'] = get_feature_max(deals, 'agrmnt_rate_passive', -1)\n",
    "    \n",
    "    data['total_agrmnt_sum_rur'] = get_feature_total(deals, 'agrmnt_sum_rur')\n",
    "    data['mean_agrmnt_sum_rur'] = get_feature_mean(deals, 'agrmnt_sum_rur', -1)\n",
    "    data['std_agrmnt_sum_rur'] = get_feature_std(deals, 'agrmnt_sum_rur', -1)\n",
    "    \n",
    "    data['total_prod_type_name'] = get_feature_total(deals, 'prod_type_name')\n",
    "    data['most_common_prod_type_name'] = get_feature_most_common(deals, 'prod_type_name', '<unknown>')\n",
    "    \n",
    "    data['total_argmnt_close_start_days'] = get_feature_total(deals, 'argmnt_close_start_days')\n",
    "    data['max_argmnt_close_start_days'] = get_feature_max(deals, 'argmnt_close_start_days', -1)\n",
    "    data['min_argmnt_close_start_days'] = get_feature_min(deals, 'argmnt_close_start_days', -1)\n",
    "    data['mean_argmnt_close_start_days'] = get_feature_mean(deals, 'argmnt_close_start_days', -1)\n",
    "    data['std_argmnt_close_start_days'] = get_feature_std(deals, 'argmnt_close_start_days', -1)\n",
    "    \n",
    "    return data\n",
    "\n",
    "\n",
    "def create_features_dict_mcc(data):\n",
    "    data = data.copy()\n",
    "    \n",
    "    return data\n",
    "\n",
    "\n",
    "def create_features_payments(data):\n",
    "    data = data.copy()\n",
    "    \n",
    "    # payments \n",
    "    data['last_known_salary'] = data['client_id'].map(payments.groupby('client_id').apply(lambda x: x['sum_rur'].iloc[0])).fillna(-1)\n",
    "    data['total_recieved_salary'] = data['client_id'].map(payments.groupby('client_id').apply(lambda x: x['sum_rur'].sum())).fillna(-1)\n",
    "    \n",
    "    return data\n",
    "\n",
    "\n",
    "def create_features_appl(data):\n",
    "    data = data.copy()\n",
    "    \n",
    "    return data\n",
    "\n",
    "\n",
    "def create_features_funnel(data):\n",
    "    data = data.copy()\n",
    "    \n",
    "    return data"
   ]
  },
  {
   "cell_type": "code",
   "execution_count": 12,
   "id": "ce51ec2f",
   "metadata": {},
   "outputs": [],
   "source": [
    "%%time\n",
    "# create features\n",
    "\n",
    "data = create_features_transactions(data)\n",
    "data = create_features_aum(data)\n",
    "data = create_features_balance(data)\n",
    "data = create_features_client(data)\n",
    "data = create_features_campaigns(data)\n",
    "data = create_features_deals(data)\n",
    "data = create_features_dict_mcc(data)\n",
    "data = create_features_payments(data)\n",
    "data = create_features_appl(data)\n",
    "data = create_features_funnel(data)\n",
    "data = create_features_deals(data)"
   ]
  },
  {
   "cell_type": "code",
   "execution_count": 13,
   "id": "a8648fea",
   "metadata": {},
   "outputs": [],
   "source": [
    "transactions['brs_mcc_group'] "
   ]
  },
  {
   "cell_type": "code",
   "execution_count": 14,
   "id": "e37b0483",
   "metadata": {},
   "outputs": [
    {
     "name": "stdout",
     "output_type": "stream",
     "text": [
      "                   client_id              card_id            tran_time  \\\n",
      "0       -1893104556496814867 -6909844117230568380  2019-07-01 00:00:00   \n",
      "1       -1893104556496814867 -6909844117230568380  2019-07-29 00:00:00   \n",
      "2       -1893104556496814867 -6909844117230568380  2019-08-31 00:00:00   \n",
      "3        6886062013213911831  6527755410945490683  2019-08-14 10:38:33   \n",
      "4        6886062013213911831  6527755410945490683  2019-07-17 12:27:58   \n",
      "...                      ...                  ...                  ...   \n",
      "3035700 -3405096435133737788 -1484177776108621230  2018-09-06 07:41:17   \n",
      "3035701  5941620754379828660 -4513708287312715087  2018-12-02 08:16:48   \n",
      "3035702  5941620754379828660 -4513708287312715087  2018-12-28 13:55:12   \n",
      "3035703  2964514409686635938  4497627322591857070  2018-12-21 09:32:26   \n",
      "3035704 -6226831769412580676 -1272519220927585782  2018-10-30 08:11:24   \n",
      "\n",
      "         tran_amt_rur  mcc_cd          merchant_cd txn_country     txn_city  \\\n",
      "0              6071.0  6011.0  3796217713062573289         RUS  N. NOVGOROD   \n",
      "1              6071.0  6011.0  3796217713062573289         RUS  N. NOVGOROD   \n",
      "2              7285.0  6011.0  3796217713062573289         RUS  N. NOVGOROD   \n",
      "3              2428.0  6011.0  -774579209084196290         RUS    RADUZHNYI   \n",
      "4              6071.0  6011.0 -7735007003326589238         RUS    RADUZHNYI   \n",
      "...               ...     ...                  ...         ...          ...   \n",
      "3035700         728.0  6012.0  3967370607447365704         RUS  VISA DIRECT   \n",
      "3035701        2550.0  6012.0  3967370607447365704         RUS  VISA DIRECT   \n",
      "3035702        3642.0  6012.0  3967370607447365704         RUS  VISA DIRECT   \n",
      "3035703        2792.0  6012.0  3967370607447365704         RUS  VISA DIRECT   \n",
      "3035704        1214.0  6536.0  3967370607447365704         RUS       MOSCOW   \n",
      "\n",
      "                     tsp_name                    txn_comment_1  \\\n",
      "0        MOLODEZHNYY PR. DEPO   Cash withdrawal through an ATM   \n",
      "1        MOLODEZHNYY PR. DEPO   Cash withdrawal through an ATM   \n",
      "2        MOLODEZHNYY PR. DEPO   Cash withdrawal through an ATM   \n",
      "3                    TTS SITI   Cash withdrawal through an ATM   \n",
      "4               ODTS AGANGRAD   Cash withdrawal through an ATM   \n",
      "...                       ...                              ...   \n",
      "3035700   VISA MONEY TRANSFER  Payment by card (bank transfer)   \n",
      "3035701   VISA MONEY TRANSFER  Payment by card (bank transfer)   \n",
      "3035702   VISA MONEY TRANSFER  Payment by card (bank transfer)   \n",
      "3035703   VISA MONEY TRANSFER  Payment by card (bank transfer)   \n",
      "3035704  MASTERCARD MONEYSEND  Payment by card (bank transfer)   \n",
      "\n",
      "                txn_comment_2  \n",
      "0                       <UNK>  \n",
      "1                       <UNK>  \n",
      "2                       <UNK>  \n",
      "3                       <UNK>  \n",
      "4                       <UNK>  \n",
      "...                       ...  \n",
      "3035700   VISA MONEY TRANSFER  \n",
      "3035701   VISA MONEY TRANSFER  \n",
      "3035702   VISA MONEY TRANSFER  \n",
      "3035703   VISA MONEY TRANSFER  \n",
      "3035704  MASTERCARD MONEYSEND  \n",
      "\n",
      "[3035705 rows x 11 columns]"
     ]
    }
   ],
   "source": [
    "transactions"
   ]
  },
  {
   "cell_type": "code",
   "execution_count": 15,
   "id": "7b0606f9",
   "metadata": {},
   "outputs": [
    {
     "name": "stdout",
     "output_type": "stream",
     "text": [
      "                   client_id              card_id            tran_time  \\\n",
      "0       -1893104556496814867 -6909844117230568380  2019-07-01 00:00:00   \n",
      "1       -1893104556496814867 -6909844117230568380  2019-07-29 00:00:00   \n",
      "2       -1893104556496814867 -6909844117230568380  2019-08-31 00:00:00   \n",
      "3        6886062013213911831  6527755410945490683  2019-08-14 10:38:33   \n",
      "4        6886062013213911831  6527755410945490683  2019-07-17 12:27:58   \n",
      "...                      ...                  ...                  ...   \n",
      "3035700 -3405096435133737788 -1484177776108621230  2018-09-06 07:41:17   \n",
      "3035701  5941620754379828660 -4513708287312715087  2018-12-02 08:16:48   \n",
      "3035702  5941620754379828660 -4513708287312715087  2018-12-28 13:55:12   \n",
      "3035703  2964514409686635938  4497627322591857070  2018-12-21 09:32:26   \n",
      "3035704 -6226831769412580676 -1272519220927585782  2018-10-30 08:11:24   \n",
      "\n",
      "         tran_amt_rur  mcc_cd          merchant_cd txn_country     txn_city  \\\n",
      "0              6071.0  6011.0  3796217713062573289         RUS  N. NOVGOROD   \n",
      "1              6071.0  6011.0  3796217713062573289         RUS  N. NOVGOROD   \n",
      "2              7285.0  6011.0  3796217713062573289         RUS  N. NOVGOROD   \n",
      "3              2428.0  6011.0  -774579209084196290         RUS    RADUZHNYI   \n",
      "4              6071.0  6011.0 -7735007003326589238         RUS    RADUZHNYI   \n",
      "...               ...     ...                  ...         ...          ...   \n",
      "3035700         728.0  6012.0  3967370607447365704         RUS  VISA DIRECT   \n",
      "3035701        2550.0  6012.0  3967370607447365704         RUS  VISA DIRECT   \n",
      "3035702        3642.0  6012.0  3967370607447365704         RUS  VISA DIRECT   \n",
      "3035703        2792.0  6012.0  3967370607447365704         RUS  VISA DIRECT   \n",
      "3035704        1214.0  6536.0  3967370607447365704         RUS       MOSCOW   \n",
      "\n",
      "                     tsp_name                    txn_comment_1  \\\n",
      "0        MOLODEZHNYY PR. DEPO   Cash withdrawal through an ATM   \n",
      "1        MOLODEZHNYY PR. DEPO   Cash withdrawal through an ATM   \n",
      "2        MOLODEZHNYY PR. DEPO   Cash withdrawal through an ATM   \n",
      "3                    TTS SITI   Cash withdrawal through an ATM   \n",
      "4               ODTS AGANGRAD   Cash withdrawal through an ATM   \n",
      "...                       ...                              ...   \n",
      "3035700   VISA MONEY TRANSFER  Payment by card (bank transfer)   \n",
      "3035701   VISA MONEY TRANSFER  Payment by card (bank transfer)   \n",
      "3035702   VISA MONEY TRANSFER  Payment by card (bank transfer)   \n",
      "3035703   VISA MONEY TRANSFER  Payment by card (bank transfer)   \n",
      "3035704  MASTERCARD MONEYSEND  Payment by card (bank transfer)   \n",
      "\n",
      "                txn_comment_2 brs_mcc_group    brs_mcc_subgroup  \n",
      "0                       <UNK>          Cash                Cash  \n",
      "1                       <UNK>          Cash                Cash  \n",
      "2                       <UNK>          Cash                Cash  \n",
      "3                       <UNK>          Cash                Cash  \n",
      "4                       <UNK>          Cash                Cash  \n",
      "...                       ...           ...                 ...  \n",
      "3035700   VISA MONEY TRANSFER       Finance  Financial services  \n",
      "3035701   VISA MONEY TRANSFER       Finance  Financial services  \n",
      "3035702   VISA MONEY TRANSFER       Finance  Financial services  \n",
      "3035703   VISA MONEY TRANSFER       Finance  Financial services  \n",
      "3035704  MASTERCARD MONEYSEND       Finance      Money transfer  \n",
      "\n",
      "[3035705 rows x 13 columns]"
     ]
    }
   ],
   "source": [
    "transactions.merge(dict_merchant_category_code, on='mcc_cd', how='left')"
   ]
  },
  {
   "cell_type": "code",
   "execution_count": 16,
   "id": "27d17124",
   "metadata": {},
   "outputs": [],
   "source": [
    "transactions['mcc_cd'] = transactions['mcc_cd'].fillna(-2)\n",
    "transactions['txn_city'] = transactions['txn_city'].fillna('<UNK>')\n",
    "transactions['tsp_name'] = transactions['tsp_name'].fillna('<UNK>')\n",
    "transactions['txn_comment_2'] = transactions['txn_comment_2'].fillna('<UNK>')\n",
    "transactions = transactions.merge(dict_merchant_category_code, on='mcc_cd', how='left')\n",
    "transactions['brs_mcc_group'] = transactions['brs_mcc_group'].fillna('<UNK>')\n",
    "transactions['brs_mcc_subgroup'] = transactions['brs_mcc_subgroup'].fillna('<UNK>')\n",
    "\n",
    "balance['crncy_cd'] = balance['crncy_cd'].fillna(-2)\n",
    "balance['prod_cat_name'] = balance['prod_cat_name'].fillna('<UNK>')\n",
    "balance['prod_group_name'] = balance['prod_group_name'].fillna('<UNK>')\n",
    "\n",
    "client = client.rename(columns={\n",
    "    'gender': 'client_gender',\n",
    "    'age': 'client_age',\n",
    "    'region': 'client_region',\n",
    "    'city': 'client_city',\n",
    "    'citizenship': 'client_citizenship',\n",
    "    'education': 'client_education',\n",
    "    'job_type': 'client_job_type'\n",
    "})\n",
    "\n",
    "campaigns['prod'] = campaigns['prod'].fillna('<UNK>')\n",
    "\n",
    "deals['crncy_cd'] = deals['crncy_cd'].fillna(-2)\n",
    "deals['agrmnt_rate_active'] = deals['agrmnt_rate_active'].fillna(-2)\n",
    "deals['agrmnt_rate_passive'] = deals['agrmnt_rate_passive'].fillna(-2)\n",
    "deals['agrmnt_sum_rur'] = deals['agrmnt_sum_rur'].fillna(-2)\n",
    "deals['prod_type_name'] = deals['prod_type_name'].fillna('<UNK>')\n",
    "deals['argmnt_close_start_days'] = (pd.to_datetime(deals['agrmnt_close_dt']) - pd.to_datetime(deals['agrmnt_start_dt'])).dt.days.fillna(-2)"
   ]
  },
  {
   "cell_type": "code",
   "execution_count": 17,
   "id": "206080f2",
   "metadata": {},
   "outputs": [],
   "source": [
    "def most_common(x, default='unknown'):\n",
    "    try:\n",
    "        # works faster then value_counts and pd.Series.mode\n",
    "        return scipy.stats.mode(x)[0][0]\n",
    "    except: \n",
    "        return default\n",
    "\n",
    "\n",
    "def get_feature_total(df, col_name):\n",
    "    return data['client_id'].map(df.groupby(['client_id', col_name]).size().index.get_level_values('client_id').value_counts()).fillna(0)\n",
    "\n",
    "\n",
    "def get_feature_most_common(df, col_name, fill_na_value):\n",
    "    return data['client_id'].map(df.groupby('client_id')[col_name].agg(lambda x: scipy.stats.mode(x)[0][0])).fillna(fill_na_value)\n",
    "\n",
    "\n",
    "def get_feature_max(df, col_name, fill_na_value):\n",
    "    return data['client_id'].map(df.groupby('client_id')[col_name].max()).fillna(fill_na_value)\n",
    "\n",
    "\n",
    "def get_feature_min(df, col_name, fill_na_value):\n",
    "    return data['client_id'].map(df.groupby('client_id')[col_name].min()).fillna(fill_na_value)\n",
    "\n",
    "\n",
    "def get_feature_mean(df, col_name, fill_na_value):\n",
    "    return data['client_id'].map(df.groupby('client_id')[col_name].mean()).fillna(fill_na_value)\n",
    "\n",
    "\n",
    "def get_feature_std(df, col_name, fill_na_value):\n",
    "    return data['client_id'].map(df.groupby('client_id')[col_name].std()).fillna(fill_na_value)\n",
    "\n",
    "\n",
    "def get_feature_max_min(df, col_name, fill_na_value):\n",
    "    return data['client_id'].map(df.groupby('client_id')[col_name].agg(lambda x: x.max() - x.min())).fillna(fill_na_value)\n",
    "\n",
    "\n",
    "def create_features_transactions(data):\n",
    "    \n",
    "    data = data.copy()\n",
    "    \n",
    "    # transaction features\n",
    "    data['total_transactions'] = data['client_id'].map(transactions.groupby('client_id').size()).fillna(0)\n",
    "    data['total_cards'] = get_feature_total(transactions, 'card_id')\n",
    "\n",
    "#     data['total_transaction_amount'] = data['client_id'].map(transactions.groupby('client_id')['tran_amt_rur'].sum()).fillna(0) # add monthly, daily, etc\n",
    "    data['mean_transaction_amt'] = get_feature_mean(transactions, 'tran_amt_rur', -1) # add monthly, daily, etc\n",
    "    data['std_transaction_amount'] = get_feature_std(transactions, 'tran_amt_rur', -1) # add monthly, daily, etc\n",
    "    \n",
    "    data['total_mcc_cd'] = get_feature_total(transactions, 'mcc_cd')\n",
    "    data['total_share_mcc_cd'] = (data['total_mcc_cd'] / data['total_transactions']).fillna(0)\n",
    "    data['most_common_mcc_cd'] = get_feature_most_common(transactions, 'mcc_cd', -1)\n",
    "    \n",
    "    data['total_merchant_cd'] = get_feature_total(transactions, 'merchant_cd')\n",
    "    data['total_share_merchant_cd'] = (data['total_merchant_cd'] / data['total_transactions']).fillna(0)\n",
    "    data['most_common_merchant_cd'] = get_feature_most_common(transactions, 'merchant_cd', -1)\n",
    "    \n",
    "    data['total_txn_city'] = get_feature_total(transactions, 'txn_city')\n",
    "    data['total_share_txn_city'] = (data['total_txn_city'] / data['total_transactions']).fillna(0)\n",
    "    data['most_common_txn_city'] = get_feature_most_common(transactions, 'txn_city', '<unknown>')\n",
    "    \n",
    "    data['total_tsp_name'] = get_feature_total(transactions, 'tsp_name')\n",
    "    data['total_share_tsp_name'] = (data['total_tsp_name'] / data['total_transactions']).fillna(0)\n",
    "    data['most_common_tsp_name'] = get_feature_most_common(transactions, 'tsp_name', '<unknown>')\n",
    "    \n",
    "    data['total_txn_comment_1'] = get_feature_total(transactions, 'txn_comment_1')\n",
    "    data['most_common_txn_comment_1'] = get_feature_most_common(transactions, 'txn_comment_1', '<unknown>')\n",
    "    \n",
    "    data['total_txn_comment_2'] = get_feature_total(transactions, 'txn_comment_2')\n",
    "    data['most_common_txn_comment_2'] = get_feature_most_common(transactions, 'txn_comment_2', '<unknown>')\n",
    "    \n",
    "    data['total_brs_mcc_group'] = get_feature_total(transactions, 'brs_mcc_group')\n",
    "    data['most_common_brs_mcc_group'] = get_feature_most_common(transactions, 'brs_mcc_group', '<unknown>')\n",
    "    \n",
    "    data['total_brs_mcc_subgroup'] = get_feature_total(transactions, 'brs_mcc_subgroup')\n",
    "    data['most_common_brs_mcc_subgroup'] = get_feature_most_common(transactions, 'brs_mcc_subgroup', '<unknown>')\n",
    "    \n",
    "    return data\n",
    "\n",
    "\n",
    "def create_features_aum(data):\n",
    "    data = data.copy()\n",
    "    \n",
    "    data['total_aum'] = data['client_id'].map(assets_under_management.groupby('client_id').size()).fillna(0)\n",
    "    \n",
    "    data['total_product_code'] = get_feature_total(assets_under_management, 'product_code')\n",
    "    data['most_common_product_code'] = get_feature_most_common(assets_under_management, 'product_code', '<unknown>').value_counts()\n",
    "    \n",
    "    data['mean_balance_rur_amt'] = get_feature_mean(assets_under_management, 'balance_rur_amt', -1)\n",
    "    data['std_balance_rur_amt'] = get_feature_std(assets_under_management, 'balance_rur_amt', -1)\n",
    "    data['max_min_balance_rur_amt'] = get_feature_max_min(assets_under_management, 'balance_rur_amt', -1)\n",
    "    \n",
    "    return data\n",
    "\n",
    "\n",
    "def create_features_balance(data):\n",
    "    data = data.copy()\n",
    "    \n",
    "    data['total_balance'] = data['client_id'].map(balance.groupby('client_id').size()).fillna(0)\n",
    "    \n",
    "    data['total_balance_crncy_cd'] = get_feature_total(balance, 'crncy_cd')\n",
    "    data['most_common_balance_crncy_cd'] = get_feature_most_common(balance, 'crncy_cd', -1)\n",
    "    \n",
    "    data['total_eop_bal_sum_rur'] = get_feature_total(balance, 'eop_bal_sum_rur')\n",
    "    data['total_share_eop_bal_sum_rur'] = (data['total_eop_bal_sum_rur'] / data['total_balance']).fillna(0)\n",
    "    data['mean_eop_bal_sum_rur'] = get_feature_mean(balance, 'eop_bal_sum_rur', -9999)\n",
    "    data['std_eop_bal_sum_rur'] = get_feature_std(balance, 'eop_bal_sum_rur', -9999)\n",
    "    \n",
    "    data['total_min_bal_sum_rur'] = get_feature_total(balance, 'min_bal_sum_rur')\n",
    "    data['total_share_min_bal_sum_rur'] = (data['total_min_bal_sum_rur'] / data['total_balance']).fillna(0)\n",
    "    data['mean_min_bal_sum_rur'] = get_feature_mean(balance, 'min_bal_sum_rur', -9999)\n",
    "    data['std_min_bal_sum_rur'] = get_feature_std(balance, 'min_bal_sum_rur', -9999)\n",
    "    \n",
    "    data['total_max_bal_sum_rur'] = get_feature_total(balance, 'max_bal_sum_rur')\n",
    "    data['total_share_max_bal_sum_rur'] = (data['total_max_bal_sum_rur'] / data['total_balance']).fillna(0)\n",
    "    data['mean_max_bal_sum_rur'] = get_feature_mean(balance, 'max_bal_sum_rur', -9999)\n",
    "    data['std_max_bal_sum_rur'] = get_feature_std(balance, 'max_bal_sum_rur', -9999)\n",
    "    \n",
    "    data['total_avg_bal_sum_rur'] = get_feature_total(balance, 'avg_bal_sum_rur')\n",
    "    data['total_share_avg_bal_sum_rur'] = (data['total_avg_bal_sum_rur'] / data['total_balance']).fillna(0)\n",
    "    data['mean_avg_bal_sum_rur'] = get_feature_mean(balance, 'avg_bal_sum_rur', -9999)\n",
    "    data['std_avg_bal_sum_rur'] = get_feature_std(balance, 'avg_bal_sum_rur', -9999)\n",
    "    data['max_min_avg_bal_sum_rur'] = get_feature_max_min(balance, 'avg_bal_sum_rur', -9999)\n",
    "    \n",
    "    data['total_prod_cat_name'] = get_feature_total(balance, 'prod_cat_name')\n",
    "    data['most_common_prod_cat_name'] = get_feature_most_common(balance, 'prod_cat_name', '<unknown>')\n",
    "    \n",
    "    data['total_prod_group_name'] = get_feature_total(balance, 'prod_group_name')\n",
    "    data['most_common_prod_group_name'] = get_feature_most_common(balance, 'prod_group_name', '<unknown>')\n",
    "    \n",
    "    return data\n",
    "\n",
    "\n",
    "def create_features_client(data):\n",
    "    data = data.copy()\n",
    "    \n",
    "    data = data.merge(client, on='client_id')\n",
    "    data['match_client_region-region_cd'] = (data['client_region'] == data['region_cd']).astype(int)\n",
    "    data.drop('client_citizenship', axis=1)\n",
    "    \n",
    "    return data\n",
    "\n",
    "\n",
    "def create_features_campaigns(data):\n",
    "    data = data.copy()\n",
    "    \n",
    "    data['total_campaigns'] = data['client_id'].map(campaigns.groupby('client_id').size()).fillna(0)\n",
    "    \n",
    "    data['total_agr_flg'] = get_feature_total(campaigns, 'agr_flg')\n",
    "    data['mean_agr_flg'] = get_feature_mean(campaigns, 'agr_flg', -1)\n",
    "    \n",
    "    data['total_otkaz'] = get_feature_total(campaigns, 'otkaz')\n",
    "    data['mean_otkaz'] = get_feature_mean(campaigns, 'otkaz', -1)\n",
    "    \n",
    "    data['total_dumaet'] = get_feature_total(campaigns, 'dumaet')\n",
    "    data['mean_dumaet'] = get_feature_mean(campaigns, 'dumaet', -1)\n",
    "    \n",
    "    data['total_ring_up_flg'] = get_feature_total(campaigns, 'ring_up_flg')\n",
    "    data['most_common_ring_up_flg'] = get_feature_most_common(campaigns, 'ring_up_flg', -1)\n",
    "    \n",
    "    data['total_count_comm'] = get_feature_total(campaigns, 'count_comm')\n",
    "    data['most_common_count_comm'] = get_feature_most_common(campaigns, 'count_comm', -1)\n",
    "    \n",
    "    data['total_channel'] = get_feature_total(campaigns, 'channel')\n",
    "    data['most_common_channel'] = get_feature_most_common(campaigns, 'channel', '<unknown>')\n",
    "    \n",
    "    data['total_prod'] = get_feature_total(campaigns, 'prod')\n",
    "    data['most_common_prod'] = get_feature_most_common(campaigns, 'prod', '<unknown>')\n",
    "    \n",
    "    return data\n",
    "\n",
    "\n",
    "def create_features_deals(data):\n",
    "    data = data.copy()\n",
    "    \n",
    "    data['total_deals'] = data['client_id'].map(deals.groupby('client_id').size()).fillna(0)\n",
    "    \n",
    "    data['total_deals_crncy_cd'] = get_feature_total(deals, 'crncy_cd')\n",
    "    data['most_common_deals_crncy_cd'] = get_feature_most_common(deals, 'crncy_cd', -1)\n",
    "    \n",
    "    data['total_agrmnt_rate_active'] = get_feature_total(deals, 'agrmnt_rate_active')\n",
    "    data['max_agrmnt_rate_active'] = get_feature_max(deals, 'agrmnt_rate_active', -1)\n",
    "    \n",
    "    data['total_agrmnt_rate_passive'] = get_feature_total(deals, 'agrmnt_rate_passive')\n",
    "    data['max_agrmnt_rate_passive'] = get_feature_max(deals, 'agrmnt_rate_passive', -1)\n",
    "    \n",
    "    data['total_agrmnt_sum_rur'] = get_feature_total(deals, 'agrmnt_sum_rur')\n",
    "    data['mean_agrmnt_sum_rur'] = get_feature_mean(deals, 'agrmnt_sum_rur', -1)\n",
    "    data['std_agrmnt_sum_rur'] = get_feature_std(deals, 'agrmnt_sum_rur', -1)\n",
    "    \n",
    "    data['total_prod_type_name'] = get_feature_total(deals, 'prod_type_name')\n",
    "    data['most_common_prod_type_name'] = get_feature_most_common(deals, 'prod_type_name', '<unknown>')\n",
    "    \n",
    "    data['total_argmnt_close_start_days'] = get_feature_total(deals, 'argmnt_close_start_days')\n",
    "    data['max_argmnt_close_start_days'] = get_feature_max(deals, 'argmnt_close_start_days', -1)\n",
    "    data['min_argmnt_close_start_days'] = get_feature_min(deals, 'argmnt_close_start_days', -1)\n",
    "    data['mean_argmnt_close_start_days'] = get_feature_mean(deals, 'argmnt_close_start_days', -1)\n",
    "    data['std_argmnt_close_start_days'] = get_feature_std(deals, 'argmnt_close_start_days', -1)\n",
    "    \n",
    "    return data\n",
    "\n",
    "\n",
    "def create_features_dict_mcc(data):\n",
    "    data = data.copy()\n",
    "    \n",
    "    return data\n",
    "\n",
    "\n",
    "def create_features_payments(data):\n",
    "    data = data.copy()\n",
    "    \n",
    "    # payments \n",
    "    data['last_known_salary'] = data['client_id'].map(payments.groupby('client_id').apply(lambda x: x['sum_rur'].iloc[0])).fillna(-1)\n",
    "    data['total_recieved_salary'] = data['client_id'].map(payments.groupby('client_id').apply(lambda x: x['sum_rur'].sum())).fillna(-1)\n",
    "    \n",
    "    return data\n",
    "\n",
    "\n",
    "def create_features_appl(data):\n",
    "    data = data.copy()\n",
    "    \n",
    "    return data\n",
    "\n",
    "\n",
    "def create_features_funnel(data):\n",
    "    data = data.copy()\n",
    "    \n",
    "    return data"
   ]
  },
  {
   "cell_type": "code",
   "execution_count": 18,
   "id": "7ed9bfd3",
   "metadata": {},
   "outputs": [],
   "source": [
    "# data merge\n",
    "data = funnel.copy()\n",
    "data = funnel.merge(client, on=['client_id'])"
   ]
  },
  {
   "cell_type": "code",
   "execution_count": 19,
   "id": "827be95f",
   "metadata": {},
   "outputs": [],
   "source": [
    "# for feature_1 in [f'feature_{i}'for i in range(1, 11)]:\n",
    "#     data[f'{feature_1} ** 2'] = data[feature_1] ** 2\n",
    "#     data[f'{feature_1} ** 0.5'] = data[feature_1] ** 0.5\n",
    "#     data[f'{feature_1} log'] = np.log(data[feature_1])"
   ]
  },
  {
   "cell_type": "code",
   "execution_count": 20,
   "id": "a24b622c",
   "metadata": {},
   "outputs": [],
   "source": [
    "# for feature_1 in [f'feature_{i}'for i in range(1, 11)]:\n",
    "#     for feature_2 in [f'feature_{i}'for i in range(1, 11)]:\n",
    "#         if feature_1 != feature_2:\n",
    "#             data[f'{feature_1} + {feature_2}'] = data[feature_1] + data[feature_2]\n",
    "#             data[f'{feature_1} * {feature_2}'] = data[feature_1] * data[feature_2]\n",
    "#             data[f'{feature_1} / {feature_2}'] = data[feature_1] / data[feature_2]\n",
    "#             data[f'{feature_1} - {feature_2}'] = data[feature_1] - data[feature_2]"
   ]
  },
  {
   "cell_type": "code",
   "execution_count": 21,
   "id": "d6dcb70d",
   "metadata": {},
   "outputs": [],
   "source": [
    "%%time\n",
    "# create features\n",
    "\n",
    "data = create_features_transactions(data)\n",
    "data = create_features_aum(data)\n",
    "data = create_features_balance(data)\n",
    "data = create_features_client(data)\n",
    "data = create_features_campaigns(data)\n",
    "data = create_features_deals(data)\n",
    "data = create_features_dict_mcc(data)\n",
    "data = create_features_payments(data)\n",
    "data = create_features_appl(data)\n",
    "data = create_features_funnel(data)\n",
    "data = create_features_deals(data)"
   ]
  },
  {
   "cell_type": "code",
   "execution_count": 22,
   "id": "6e951e05",
   "metadata": {},
   "outputs": [],
   "source": [
    "def most_common(x, default='unknown'):\n",
    "    try:\n",
    "        # works faster then value_counts and pd.Series.mode\n",
    "        return scipy.stats.mode(x)[0][0]\n",
    "    except: \n",
    "        return default\n",
    "\n",
    "\n",
    "def get_feature_total(df, col_name):\n",
    "    return data['client_id'].map(df.groupby(['client_id', col_name]).size().index.get_level_values('client_id').value_counts()).fillna(0)\n",
    "\n",
    "\n",
    "def get_feature_most_common(df, col_name, fill_na_value):\n",
    "    return data['client_id'].map(df.groupby('client_id')[col_name].agg(lambda x: scipy.stats.mode(x)[0][0])).fillna(fill_na_value)\n",
    "\n",
    "\n",
    "def get_feature_max(df, col_name, fill_na_value):\n",
    "    return data['client_id'].map(df.groupby('client_id')[col_name].max()).fillna(fill_na_value)\n",
    "\n",
    "\n",
    "def get_feature_min(df, col_name, fill_na_value):\n",
    "    return data['client_id'].map(df.groupby('client_id')[col_name].min()).fillna(fill_na_value)\n",
    "\n",
    "\n",
    "def get_feature_mean(df, col_name, fill_na_value):\n",
    "    return data['client_id'].map(df.groupby('client_id')[col_name].mean()).fillna(fill_na_value)\n",
    "\n",
    "\n",
    "def get_feature_std(df, col_name, fill_na_value):\n",
    "    return data['client_id'].map(df.groupby('client_id')[col_name].std()).fillna(fill_na_value)\n",
    "\n",
    "\n",
    "def get_feature_max_min(df, col_name, fill_na_value):\n",
    "    return data['client_id'].map(df.groupby('client_id')[col_name].agg(lambda x: x.max() - x.min())).fillna(fill_na_value)\n",
    "\n",
    "\n",
    "def create_features_transactions(data):\n",
    "    \n",
    "    data = data.copy()\n",
    "    \n",
    "    # transaction features\n",
    "    data['total_transactions'] = data['client_id'].map(transactions.groupby('client_id').size()).fillna(0)\n",
    "    data['total_cards'] = get_feature_total(transactions, 'card_id')\n",
    "\n",
    "#     data['total_transaction_amount'] = data['client_id'].map(transactions.groupby('client_id')['tran_amt_rur'].sum()).fillna(0) # add monthly, daily, etc\n",
    "    data['mean_transaction_amt'] = get_feature_mean(transactions, 'tran_amt_rur', -1) # add monthly, daily, etc\n",
    "    data['std_transaction_amount'] = get_feature_std(transactions, 'tran_amt_rur', -1) # add monthly, daily, etc\n",
    "    \n",
    "    data['total_mcc_cd'] = get_feature_total(transactions, 'mcc_cd')\n",
    "    data['total_share_mcc_cd'] = (data['total_mcc_cd'] / data['total_transactions']).fillna(0)\n",
    "    data['most_common_mcc_cd'] = get_feature_most_common(transactions, 'mcc_cd', -1)\n",
    "    \n",
    "    data['total_merchant_cd'] = get_feature_total(transactions, 'merchant_cd')\n",
    "    data['total_share_merchant_cd'] = (data['total_merchant_cd'] / data['total_transactions']).fillna(0)\n",
    "    data['most_common_merchant_cd'] = get_feature_most_common(transactions, 'merchant_cd', -1)\n",
    "    \n",
    "    data['total_txn_city'] = get_feature_total(transactions, 'txn_city')\n",
    "    data['total_share_txn_city'] = (data['total_txn_city'] / data['total_transactions']).fillna(0)\n",
    "    data['most_common_txn_city'] = get_feature_most_common(transactions, 'txn_city', '<unknown>')\n",
    "    \n",
    "    data['total_tsp_name'] = get_feature_total(transactions, 'tsp_name')\n",
    "    data['total_share_tsp_name'] = (data['total_tsp_name'] / data['total_transactions']).fillna(0)\n",
    "    data['most_common_tsp_name'] = get_feature_most_common(transactions, 'tsp_name', '<unknown>')\n",
    "    \n",
    "    data['total_txn_comment_1'] = get_feature_total(transactions, 'txn_comment_1')\n",
    "    data['most_common_txn_comment_1'] = get_feature_most_common(transactions, 'txn_comment_1', '<unknown>')\n",
    "    \n",
    "    data['total_txn_comment_2'] = get_feature_total(transactions, 'txn_comment_2')\n",
    "    data['most_common_txn_comment_2'] = get_feature_most_common(transactions, 'txn_comment_2', '<unknown>')\n",
    "    \n",
    "    data['total_brs_mcc_group'] = get_feature_total(transactions, 'brs_mcc_group')\n",
    "    data['most_common_brs_mcc_group'] = get_feature_most_common(transactions, 'brs_mcc_group', '<unknown>')\n",
    "    \n",
    "    data['total_brs_mcc_subgroup'] = get_feature_total(transactions, 'brs_mcc_subgroup')\n",
    "    data['most_common_brs_mcc_subgroup'] = get_feature_most_common(transactions, 'brs_mcc_subgroup', '<unknown>')\n",
    "    \n",
    "    return data\n",
    "\n",
    "\n",
    "def create_features_aum(data):\n",
    "    data = data.copy()\n",
    "    \n",
    "    data['total_aum'] = data['client_id'].map(assets_under_management.groupby('client_id').size()).fillna(0)\n",
    "    \n",
    "    data['total_product_code'] = get_feature_total(assets_under_management, 'product_code')\n",
    "    data['most_common_product_code'] = get_feature_most_common(assets_under_management, 'product_code', '<unknown>').value_counts()\n",
    "    \n",
    "    data['mean_balance_rur_amt'] = get_feature_mean(assets_under_management, 'balance_rur_amt', -1)\n",
    "    data['std_balance_rur_amt'] = get_feature_std(assets_under_management, 'balance_rur_amt', -1)\n",
    "    data['max_min_balance_rur_amt'] = get_feature_max_min(assets_under_management, 'balance_rur_amt', -1)\n",
    "    \n",
    "    return data\n",
    "\n",
    "\n",
    "def create_features_balance(data):\n",
    "    data = data.copy()\n",
    "    \n",
    "    data['total_balance'] = data['client_id'].map(balance.groupby('client_id').size()).fillna(0)\n",
    "    \n",
    "    data['total_balance_crncy_cd'] = get_feature_total(balance, 'crncy_cd')\n",
    "    data['most_common_balance_crncy_cd'] = get_feature_most_common(balance, 'crncy_cd', -1)\n",
    "    \n",
    "    data['total_eop_bal_sum_rur'] = get_feature_total(balance, 'eop_bal_sum_rur')\n",
    "    data['total_share_eop_bal_sum_rur'] = (data['total_eop_bal_sum_rur'] / data['total_balance']).fillna(0)\n",
    "    data['mean_eop_bal_sum_rur'] = get_feature_mean(balance, 'eop_bal_sum_rur', -9999)\n",
    "    data['std_eop_bal_sum_rur'] = get_feature_std(balance, 'eop_bal_sum_rur', -9999)\n",
    "    \n",
    "    data['total_min_bal_sum_rur'] = get_feature_total(balance, 'min_bal_sum_rur')\n",
    "    data['total_share_min_bal_sum_rur'] = (data['total_min_bal_sum_rur'] / data['total_balance']).fillna(0)\n",
    "    data['mean_min_bal_sum_rur'] = get_feature_mean(balance, 'min_bal_sum_rur', -9999)\n",
    "    data['std_min_bal_sum_rur'] = get_feature_std(balance, 'min_bal_sum_rur', -9999)\n",
    "    \n",
    "    data['total_max_bal_sum_rur'] = get_feature_total(balance, 'max_bal_sum_rur')\n",
    "    data['total_share_max_bal_sum_rur'] = (data['total_max_bal_sum_rur'] / data['total_balance']).fillna(0)\n",
    "    data['mean_max_bal_sum_rur'] = get_feature_mean(balance, 'max_bal_sum_rur', -9999)\n",
    "    data['std_max_bal_sum_rur'] = get_feature_std(balance, 'max_bal_sum_rur', -9999)\n",
    "    \n",
    "    data['total_avg_bal_sum_rur'] = get_feature_total(balance, 'avg_bal_sum_rur')\n",
    "    data['total_share_avg_bal_sum_rur'] = (data['total_avg_bal_sum_rur'] / data['total_balance']).fillna(0)\n",
    "    data['mean_avg_bal_sum_rur'] = get_feature_mean(balance, 'avg_bal_sum_rur', -9999)\n",
    "    data['std_avg_bal_sum_rur'] = get_feature_std(balance, 'avg_bal_sum_rur', -9999)\n",
    "    data['max_min_avg_bal_sum_rur'] = get_feature_max_min(balance, 'avg_bal_sum_rur', -9999)\n",
    "    \n",
    "    data['total_prod_cat_name'] = get_feature_total(balance, 'prod_cat_name')\n",
    "    data['most_common_prod_cat_name'] = get_feature_most_common(balance, 'prod_cat_name', '<unknown>')\n",
    "    \n",
    "    data['total_prod_group_name'] = get_feature_total(balance, 'prod_group_name')\n",
    "    data['most_common_prod_group_name'] = get_feature_most_common(balance, 'prod_group_name', '<unknown>')\n",
    "    \n",
    "    return data\n",
    "\n",
    "\n",
    "def create_features_client(data):\n",
    "    data = data.copy()\n",
    "    \n",
    "#     data = data.merge(client, on='client_id')\n",
    "    data['match_client_region-region_cd'] = (data['client_region'] == data['region_cd']).astype(int)\n",
    "    data.drop('client_citizenship', axis=1)\n",
    "    \n",
    "    return data\n",
    "\n",
    "\n",
    "def create_features_campaigns(data):\n",
    "    data = data.copy()\n",
    "    \n",
    "    data['total_campaigns'] = data['client_id'].map(campaigns.groupby('client_id').size()).fillna(0)\n",
    "    \n",
    "    data['total_agr_flg'] = get_feature_total(campaigns, 'agr_flg')\n",
    "    data['mean_agr_flg'] = get_feature_mean(campaigns, 'agr_flg', -1)\n",
    "    \n",
    "    data['total_otkaz'] = get_feature_total(campaigns, 'otkaz')\n",
    "    data['mean_otkaz'] = get_feature_mean(campaigns, 'otkaz', -1)\n",
    "    \n",
    "    data['total_dumaet'] = get_feature_total(campaigns, 'dumaet')\n",
    "    data['mean_dumaet'] = get_feature_mean(campaigns, 'dumaet', -1)\n",
    "    \n",
    "    data['total_ring_up_flg'] = get_feature_total(campaigns, 'ring_up_flg')\n",
    "    data['most_common_ring_up_flg'] = get_feature_most_common(campaigns, 'ring_up_flg', -1)\n",
    "    \n",
    "    data['total_count_comm'] = get_feature_total(campaigns, 'count_comm')\n",
    "    data['most_common_count_comm'] = get_feature_most_common(campaigns, 'count_comm', -1)\n",
    "    \n",
    "    data['total_channel'] = get_feature_total(campaigns, 'channel')\n",
    "    data['most_common_channel'] = get_feature_most_common(campaigns, 'channel', '<unknown>')\n",
    "    \n",
    "    data['total_prod'] = get_feature_total(campaigns, 'prod')\n",
    "    data['most_common_prod'] = get_feature_most_common(campaigns, 'prod', '<unknown>')\n",
    "    \n",
    "    return data\n",
    "\n",
    "\n",
    "def create_features_deals(data):\n",
    "    data = data.copy()\n",
    "    \n",
    "    data['total_deals'] = data['client_id'].map(deals.groupby('client_id').size()).fillna(0)\n",
    "    \n",
    "    data['total_deals_crncy_cd'] = get_feature_total(deals, 'crncy_cd')\n",
    "    data['most_common_deals_crncy_cd'] = get_feature_most_common(deals, 'crncy_cd', -1)\n",
    "    \n",
    "    data['total_agrmnt_rate_active'] = get_feature_total(deals, 'agrmnt_rate_active')\n",
    "    data['max_agrmnt_rate_active'] = get_feature_max(deals, 'agrmnt_rate_active', -1)\n",
    "    \n",
    "    data['total_agrmnt_rate_passive'] = get_feature_total(deals, 'agrmnt_rate_passive')\n",
    "    data['max_agrmnt_rate_passive'] = get_feature_max(deals, 'agrmnt_rate_passive', -1)\n",
    "    \n",
    "    data['total_agrmnt_sum_rur'] = get_feature_total(deals, 'agrmnt_sum_rur')\n",
    "    data['mean_agrmnt_sum_rur'] = get_feature_mean(deals, 'agrmnt_sum_rur', -1)\n",
    "    data['std_agrmnt_sum_rur'] = get_feature_std(deals, 'agrmnt_sum_rur', -1)\n",
    "    \n",
    "    data['total_prod_type_name'] = get_feature_total(deals, 'prod_type_name')\n",
    "    data['most_common_prod_type_name'] = get_feature_most_common(deals, 'prod_type_name', '<unknown>')\n",
    "    \n",
    "    data['total_argmnt_close_start_days'] = get_feature_total(deals, 'argmnt_close_start_days')\n",
    "    data['max_argmnt_close_start_days'] = get_feature_max(deals, 'argmnt_close_start_days', -1)\n",
    "    data['min_argmnt_close_start_days'] = get_feature_min(deals, 'argmnt_close_start_days', -1)\n",
    "    data['mean_argmnt_close_start_days'] = get_feature_mean(deals, 'argmnt_close_start_days', -1)\n",
    "    data['std_argmnt_close_start_days'] = get_feature_std(deals, 'argmnt_close_start_days', -1)\n",
    "    \n",
    "    return data\n",
    "\n",
    "\n",
    "def create_features_dict_mcc(data):\n",
    "    data = data.copy()\n",
    "    \n",
    "    return data\n",
    "\n",
    "\n",
    "def create_features_payments(data):\n",
    "    data = data.copy()\n",
    "    \n",
    "    # payments \n",
    "    data['last_known_salary'] = data['client_id'].map(payments.groupby('client_id').apply(lambda x: x['sum_rur'].iloc[0])).fillna(-1)\n",
    "    data['total_recieved_salary'] = data['client_id'].map(payments.groupby('client_id').apply(lambda x: x['sum_rur'].sum())).fillna(-1)\n",
    "    \n",
    "    return data\n",
    "\n",
    "\n",
    "def create_features_appl(data):\n",
    "    data = data.copy()\n",
    "    \n",
    "    return data\n",
    "\n",
    "\n",
    "def create_features_funnel(data):\n",
    "    data = data.copy()\n",
    "    \n",
    "    return data"
   ]
  },
  {
   "cell_type": "code",
   "execution_count": 23,
   "id": "9f9690b7",
   "metadata": {},
   "outputs": [],
   "source": [
    "%%time\n",
    "# create features\n",
    "\n",
    "# data = create_features_transactions(data)\n",
    "# data = create_features_aum(data)\n",
    "# data = create_features_balance(data)\n",
    "data = create_features_client(data)\n",
    "data = create_features_campaigns(data)\n",
    "data = create_features_deals(data)\n",
    "data = create_features_dict_mcc(data)\n",
    "data = create_features_payments(data)\n",
    "data = create_features_appl(data)\n",
    "data = create_features_funnel(data)\n",
    "data = create_features_deals(data)"
   ]
  },
  {
   "cell_type": "code",
   "execution_count": 24,
   "id": "1abccc3a",
   "metadata": {},
   "outputs": [],
   "source": [
    "try:\n",
    "    os.mkdir(OUTPUT_PATH / 'preprocessors')\n",
    "except:\n",
    "    shutil.rmtree(OUTPUT_PATH / 'preprocessors')\n",
    "    os.mkdir(OUTPUT_PATH / 'preprocessors')"
   ]
  },
  {
   "cell_type": "code",
   "execution_count": 25,
   "id": "cd677867",
   "metadata": {},
   "outputs": [],
   "source": [
    "# data encode\n",
    "\n",
    "for c in data.columns:\n",
    "    col_type = data[c].dtype\n",
    "    if col_type == 'object' or col_type.name == 'category':\n",
    "        data[c] = data[c].astype('category')"
   ]
  },
  {
   "cell_type": "code",
   "execution_count": 26,
   "id": "daa61116",
   "metadata": {},
   "outputs": [],
   "source": [
    "TARGET_COLUMNS =  ['sale_flg', 'sale_amount', 'contacts']"
   ]
  },
  {
   "cell_type": "code",
   "execution_count": 27,
   "id": "eca25aea",
   "metadata": {},
   "outputs": [],
   "source": [
    "X = data.drop(columns = TARGET_COLUMNS + ['client_id'])\n",
    "Y = data[TARGET_COLUMNS[0]]"
   ]
  },
  {
   "cell_type": "code",
   "execution_count": 28,
   "id": "b6de0241",
   "metadata": {},
   "outputs": [],
   "source": [
    "import shutil\n",
    "try:\n",
    "    os.mkdir(OUTPUT_PATH / 'models')\n",
    "except:\n",
    "    shutil.rmtree(OUTPUT_PATH / 'models')\n",
    "    os.mkdir(OUTPUT_PATH / 'models')"
   ]
  },
  {
   "cell_type": "code",
   "execution_count": 29,
   "id": "6e51b703",
   "metadata": {},
   "outputs": [],
   "source": [
    "learning_rate = 0.5\n",
    "num_leaves = 50\n",
    "min_data_in_leaf = 1000\n",
    "feature_fraction = 0.9\n",
    "num_boost_round = 3000"
   ]
  },
  {
   "cell_type": "code",
   "execution_count": 30,
   "id": "1b27cc2e",
   "metadata": {},
   "outputs": [],
   "source": [
    "def running_train(X_train, Y_train, X_val, Y_val, i_fold=None, seed=None, params = None):\n",
    "    # prepare for train\n",
    "    params = {\n",
    "#           \"objective\": \"cross_entropy\",\n",
    "#           \"boosting_type\": \"gbdt\",\n",
    "#           \"learning_rate\": learning_rate,\n",
    "#           \"num_leaves\": num_leaves,\n",
    "#            \"max_bin\": 128,\n",
    "#           \"feature_fraction\": feature_fraction,\n",
    "#           \"drop_rate\": 0.05,\n",
    "#           \"is_unbalance\": True,\n",
    "#           \"max_drop\": 20,\n",
    "#           \"min_child_samples\": 5,\n",
    "#           \"min_child_weight\": 50,\n",
    "#           \"min_split_gain\": 0,\n",
    "#           \"subsample\": 0.9,\n",
    "          'n_jobs': -1,\n",
    "          'random_state': seed\n",
    "          }\n",
    "    \n",
    "    params['random_state'] = seed\n",
    "    \n",
    "    \n",
    "    model = LGBMClassifier(**params) # define model here\n",
    "    \n",
    "    # Fit and save model\n",
    "    \n",
    "    if X_val is None:\n",
    "        model.fit(X_train, Y_train, verbose=False)\n",
    "    else:\n",
    "        model.fit(X_train, Y_train,   eval_set=(X_val, Y_val), early_stopping_rounds=500, verbose=False)\n",
    "    joblib.dump(model, OUTPUT_PATH / 'models' / f'lightgbm_{i_fold}_{seed}_{CURRENT_TIME}.pkl')"
   ]
  },
  {
   "cell_type": "code",
   "execution_count": 31,
   "id": "d2f63e63",
   "metadata": {},
   "outputs": [],
   "source": [
    "oof = np.zeros((X.shape[0], n_seed)) # cv_score\n",
    "seeds = []\n",
    "for i_seed in range(n_seed):\n",
    "    seed = FIXED_SEEDS[i_seed]\n",
    "    seed_everything(seed)\n",
    "\n",
    "    seeds.append(seed)\n",
    "    print('Seed: {}, {}/{}'.format(seed, i_seed + 1, n_seed))\n",
    "    \n",
    "    if n_fold != 1:\n",
    "        kf = KFold(n_splits=n_fold, random_state=seed, shuffle=True)\n",
    "        split_indexes = kf.split(X, Y)\n",
    "    else:\n",
    "        split_indexes = [train_test_split(np.arange(X.shape[0]), random_state=seed, shuffle = True)]\n",
    "    \n",
    "    for i_fold, (train_idx, val_idx) in enumerate(split_indexes):\n",
    "        print(\"# Fold: {}/{} (seed: {}/{})\".format(i_fold + 1, n_fold, i_seed + 1, n_seed))\n",
    "\n",
    "        # dataset\n",
    "        X_train, Y_train = X.iloc[train_idx], Y[train_idx]\n",
    "        X_val, Y_val = X.iloc[val_idx], Y[val_idx]\n",
    "\n",
    "\n",
    "        # train\n",
    "        running_train(X_train, Y_train, X_val, Y_val, i_fold=i_fold, seed=seed)\n",
    "\n",
    "        # predict on oof\n",
    "        print('predict on oof...', end='')\n",
    "        model = joblib.load( OUTPUT_PATH / 'models' / f'lightgbm_{i_fold}_{seed}_{CURRENT_TIME}.pkl')\n",
    "\n",
    "        prediction = model.predict_proba(X_val)[:, 1]\n",
    "\n",
    "        oof[val_idx, i_seed] = prediction\n",
    "        print('  done.')"
   ]
  },
  {
   "cell_type": "code",
   "execution_count": 32,
   "id": "ffdbd16b",
   "metadata": {},
   "outputs": [],
   "source": [
    "if n_fold != 1:\n",
    "    Y_predicted = (np.mean(oof, axis = 1) > prediction_threshold).astype(int)\n",
    "    Y_test = funnel[['client_id', 'sale_flg']].set_index('client_id')\n",
    "    test_funnel =  funnel.set_index('client_id')\n",
    "if n_fold == 1 and n_seed == 1:\n",
    "    Y_predicted = (prediction > prediction_threshold).astype(int)\n",
    "    Y_test = funnel[['client_id', 'sale_flg']].iloc[split_indexes[0][1]].set_index('client_id')\n",
    "    test_funnel = funnel.iloc[split_indexes[0][1]].set_index('client_id')"
   ]
  },
  {
   "cell_type": "code",
   "execution_count": 33,
   "id": "c2d2b07d",
   "metadata": {},
   "outputs": [],
   "source": [
    "try: \n",
    "    os.mkdir(OUTPUT_PATH / 'scoring')\n",
    "except:\n",
    "    shutil.rmtree(OUTPUT_PATH / 'scoring')\n",
    "    os.mkdir(OUTPUT_PATH / 'scoring')"
   ]
  },
  {
   "cell_type": "code",
   "execution_count": 34,
   "id": "bf58eb66",
   "metadata": {},
   "outputs": [],
   "source": [
    "public_score, private_score = local_scorer.get_score(test_funnel, Y_predicted, Y_test)"
   ]
  },
  {
   "cell_type": "code",
   "execution_count": 35,
   "id": "ebcdca2a",
   "metadata": {},
   "outputs": [],
   "source": [
    "validation_accuracy = accuracy_score(Y_test['sale_flg'], Y_predicted)\n",
    "print(f'Public ANIC {public_score} Private ANIC {private_score}')\n",
    "print(f'ANIC {1/3*public_score+ 2/3 * private_score}')\n",
    "print(f'Accuracy score: {validation_accuracy}')"
   ]
  },
  {
   "cell_type": "code",
   "execution_count": 36,
   "id": "97e8b0a7",
   "metadata": {},
   "outputs": [],
   "source": [
    "if n_fold != 1:\n",
    "    Y_predicted = (np.mean(oof, axis = 1) > prediction_threshold).astype(int)\n",
    "    Y_test = funnel[['client_id', 'sale_flg']].set_index('client_id')\n",
    "    test_funnel =  funnel.set_index('client_id')\n",
    "if n_fold == 1 and n_seed == 1:\n",
    "    Y_predicted = (prediction > 0.18).astype(int)\n",
    "    Y_test = funnel[['client_id', 'sale_flg']].iloc[split_indexes[0][1]].set_index('client_id')\n",
    "    test_funnel = funnel.iloc[split_indexes[0][1]].set_index('client_id')"
   ]
  },
  {
   "cell_type": "code",
   "execution_count": 37,
   "id": "45513251",
   "metadata": {},
   "outputs": [],
   "source": [
    "try: \n",
    "    os.mkdir(OUTPUT_PATH / 'scoring')\n",
    "except:\n",
    "    shutil.rmtree(OUTPUT_PATH / 'scoring')\n",
    "    os.mkdir(OUTPUT_PATH / 'scoring')"
   ]
  },
  {
   "cell_type": "code",
   "execution_count": 38,
   "id": "58b46ec8",
   "metadata": {},
   "outputs": [],
   "source": [
    "public_score, private_score = local_scorer.get_score(test_funnel, Y_predicted, Y_test)"
   ]
  },
  {
   "cell_type": "code",
   "execution_count": 39,
   "id": "f1f63562",
   "metadata": {},
   "outputs": [],
   "source": [
    "validation_accuracy = accuracy_score(Y_test['sale_flg'], Y_predicted)\n",
    "print(f'Public ANIC {public_score} Private ANIC {private_score}')\n",
    "print(f'ANIC {1/3*public_score+ 2/3 * private_score}')\n",
    "print(f'Accuracy score: {validation_accuracy}')"
   ]
  },
  {
   "cell_type": "code",
   "execution_count": 40,
   "id": "6e66d1ad",
   "metadata": {},
   "outputs": [],
   "source": [
    "if n_fold != 1:\n",
    "    Y_predicted = (np.mean(oof, axis = 1) > 0.13).astype(int)\n",
    "    Y_test = funnel[['client_id', 'sale_flg']].set_index('client_id')\n",
    "    test_funnel =  funnel.set_index('client_id')\n",
    "if n_fold == 1 and n_seed == 1:\n",
    "    Y_predicted = (prediction > 0.18).astype(int)\n",
    "    Y_test = funnel[['client_id', 'sale_flg']].iloc[split_indexes[0][1]].set_index('client_id')\n",
    "    test_funnel = funnel.iloc[split_indexes[0][1]].set_index('client_id')"
   ]
  },
  {
   "cell_type": "code",
   "execution_count": 41,
   "id": "4c4fc28c",
   "metadata": {},
   "outputs": [],
   "source": [
    "try: \n",
    "    os.mkdir(OUTPUT_PATH / 'scoring')\n",
    "except:\n",
    "    shutil.rmtree(OUTPUT_PATH / 'scoring')\n",
    "    os.mkdir(OUTPUT_PATH / 'scoring')"
   ]
  },
  {
   "cell_type": "code",
   "execution_count": 42,
   "id": "f75a6a25",
   "metadata": {},
   "outputs": [],
   "source": [
    "public_score, private_score = local_scorer.get_score(test_funnel, Y_predicted, Y_test)"
   ]
  },
  {
   "cell_type": "code",
   "execution_count": 43,
   "id": "44553378",
   "metadata": {},
   "outputs": [],
   "source": [
    "validation_accuracy = accuracy_score(Y_test['sale_flg'], Y_predicted)\n",
    "print(f'Public ANIC {public_score} Private ANIC {private_score}')\n",
    "print(f'ANIC {1/3*public_score+ 2/3 * private_score}')\n",
    "print(f'Accuracy score: {validation_accuracy}')"
   ]
  },
  {
   "cell_type": "code",
   "execution_count": 44,
   "id": "93c63a4a",
   "metadata": {},
   "outputs": [],
   "source": [
    "if n_fold != 1:\n",
    "    Y_predicted = (np.mean(oof, axis = 1) > prediction_threshold).astype(int)\n",
    "    Y_test = funnel[['client_id', 'sale_flg']].set_index('client_id')\n",
    "    test_funnel =  funnel.set_index('client_id')\n",
    "if n_fold == 1 and n_seed == 1:\n",
    "    Y_predicted = (prediction > prediction_threshold).astype(int)\n",
    "    Y_test = funnel[['client_id', 'sale_flg']].iloc[split_indexes[0][1]].set_index('client_id')\n",
    "    test_funnel = funnel.iloc[split_indexes[0][1]].set_index('client_id')"
   ]
  },
  {
   "cell_type": "code",
   "execution_count": 45,
   "id": "4386bd48",
   "metadata": {},
   "outputs": [],
   "source": [
    "try: \n",
    "    os.mkdir(OUTPUT_PATH / 'scoring')\n",
    "except:\n",
    "    shutil.rmtree(OUTPUT_PATH / 'scoring')\n",
    "    os.mkdir(OUTPUT_PATH / 'scoring')"
   ]
  },
  {
   "cell_type": "code",
   "execution_count": 46,
   "id": "ab3f85e9",
   "metadata": {},
   "outputs": [],
   "source": [
    "public_score, private_score = local_scorer.get_score(test_funnel, Y_predicted, Y_test)"
   ]
  },
  {
   "cell_type": "code",
   "execution_count": 47,
   "id": "8434da6d",
   "metadata": {},
   "outputs": [],
   "source": [
    "validation_accuracy = accuracy_score(Y_test['sale_flg'], Y_predicted)\n",
    "print(f'Public ANIC {public_score} Private ANIC {private_score}')\n",
    "print(f'ANIC {1/3*public_score+ 2/3 * private_score}')\n",
    "print(f'Accuracy score: {validation_accuracy}')"
   ]
  },
  {
   "cell_type": "code",
   "execution_count": 48,
   "id": "118d1bee",
   "metadata": {},
   "outputs": [
    {
     "name": "stdout",
     "output_type": "stream",
     "text": [
      "<AxesSubplot:title={'center':'Feature importance'}, xlabel='Feature importance', ylabel='Features'>"
     ]
    }
   ],
   "source": [
    "import lightgbm\n",
    "import matplotlib.pyplot as plt\n",
    "plt.figure(figsize = (30, 30))\n",
    "lightgbm.plot_importance(model)"
   ]
  },
  {
   "cell_type": "code",
   "execution_count": 49,
   "id": "c7d4927f",
   "metadata": {},
   "outputs": [
    {
     "name": "stdout",
     "output_type": "stream",
     "text": [
      "array(['client_city', 'client_education', 'most_common_txn_city',\n",
      "       'feature_9', 'feature_4'], dtype=object)"
     ]
    }
   ],
   "source": [
    "feature_importance = pd.DataFrame(np.array([list(X.columns),model.feature_importances_]).T)\n",
    "feature_importance.columns = ['column', 'importance']\n",
    "feature_importance['importance'] = feature_importance['importance'].map(int)\n",
    "feature_importance.sort_values(by='importance', ascending = False).iloc[:5, 0].values"
   ]
  },
  {
   "cell_type": "code",
   "execution_count": 50,
   "id": "2de8cffc",
   "metadata": {},
   "outputs": [
    {
     "name": "stdout",
     "output_type": "stream",
     "text": [
      "array(['client_city', 'client_education', 'most_common_txn_city',\n",
      "       'feature_9', 'feature_4', 'feature_6', 'feature_1', 'client_age',\n",
      "       'client_segment', 'last_known_salary',\n",
      "       'most_common_prod_type_name', 'mean_balance_rur_amt', 'feature_2',\n",
      "       'total_share_max_bal_sum_rur', 'feature_3', 'mean_agr_flg',\n",
      "       'most_common_tsp_name', 'max_agrmnt_rate_active',\n",
      "       'mean_min_bal_sum_rur', 'feature_7', 'total_campaigns',\n",
      "       'feature_8', 'client_region', 'total_prod_group_name',\n",
      "       'total_balance'], dtype=object)"
     ]
    }
   ],
   "source": [
    "feature_importance = pd.DataFrame(np.array([list(X.columns),model.feature_importances_]).T)\n",
    "feature_importance.columns = ['column', 'importance']\n",
    "feature_importance['importance'] = feature_importance['importance'].map(int)\n",
    "feature_importance.sort_values(by='importance', ascending = False).iloc[:25, 0].values"
   ]
  },
  {
   "cell_type": "code",
   "execution_count": 51,
   "id": "87d85fea",
   "metadata": {},
   "outputs": [],
   "source": [
    "X = X[['client_city', 'client_education', 'most_common_txn_city',\n",
    "       'feature_9', 'feature_4', 'feature_6', 'feature_1', 'client_age',\n",
    "       'client_segment', 'last_known_salary',\n",
    "       'most_common_prod_type_name', 'mean_balance_rur_amt', 'feature_2',\n",
    "       'total_share_max_bal_sum_rur', 'feature_3', 'mean_agr_flg',\n",
    "       'most_common_tsp_name', 'max_agrmnt_rate_active',\n",
    "       'mean_min_bal_sum_rur', 'feature_7', 'total_campaigns',\n",
    "       'feature_8', 'client_region', 'total_prod_group_name',\n",
    "       'total_balance']]"
   ]
  },
  {
   "cell_type": "code",
   "execution_count": 52,
   "id": "870eba75",
   "metadata": {},
   "outputs": [],
   "source": [
    "import shutil\n",
    "try:\n",
    "    os.mkdir(OUTPUT_PATH / 'models')\n",
    "except:\n",
    "    shutil.rmtree(OUTPUT_PATH / 'models')\n",
    "    os.mkdir(OUTPUT_PATH / 'models')"
   ]
  },
  {
   "cell_type": "code",
   "execution_count": 53,
   "id": "f30483a1",
   "metadata": {},
   "outputs": [],
   "source": [
    "learning_rate = 0.5\n",
    "num_leaves = 50\n",
    "min_data_in_leaf = 1000\n",
    "feature_fraction = 0.9\n",
    "num_boost_round = 3000"
   ]
  },
  {
   "cell_type": "code",
   "execution_count": 54,
   "id": "76837029",
   "metadata": {},
   "outputs": [],
   "source": [
    "def running_train(X_train, Y_train, X_val, Y_val, i_fold=None, seed=None, params = None):\n",
    "    # prepare for train\n",
    "    params = {\n",
    "#           \"objective\": \"cross_entropy\",\n",
    "#           \"boosting_type\": \"gbdt\",\n",
    "#           \"learning_rate\": learning_rate,\n",
    "#           \"num_leaves\": num_leaves,\n",
    "#            \"max_bin\": 128,\n",
    "#           \"feature_fraction\": feature_fraction,\n",
    "#           \"drop_rate\": 0.05,\n",
    "#           \"is_unbalance\": True,\n",
    "#           \"max_drop\": 20,\n",
    "#           \"min_child_samples\": 5,\n",
    "#           \"min_child_weight\": 50,\n",
    "#           \"min_split_gain\": 0,\n",
    "#           \"subsample\": 0.9,\n",
    "          'n_jobs': -1,\n",
    "          'random_state': seed\n",
    "          }\n",
    "    \n",
    "    params['random_state'] = seed\n",
    "    \n",
    "    \n",
    "    model = LGBMClassifier(**params) # define model here\n",
    "    \n",
    "    # Fit and save model\n",
    "    \n",
    "    if X_val is None:\n",
    "        model.fit(X_train, Y_train, verbose=False)\n",
    "    else:\n",
    "        model.fit(X_train, Y_train,   eval_set=(X_val, Y_val), early_stopping_rounds=500, verbose=False)\n",
    "    joblib.dump(model, OUTPUT_PATH / 'models' / f'lightgbm_{i_fold}_{seed}_{CURRENT_TIME}.pkl')"
   ]
  },
  {
   "cell_type": "code",
   "execution_count": 55,
   "id": "1187647f",
   "metadata": {},
   "outputs": [],
   "source": [
    "oof = np.zeros((X.shape[0], n_seed)) # cv_score\n",
    "seeds = []\n",
    "for i_seed in range(n_seed):\n",
    "    seed = FIXED_SEEDS[i_seed]\n",
    "    seed_everything(seed)\n",
    "\n",
    "    seeds.append(seed)\n",
    "    print('Seed: {}, {}/{}'.format(seed, i_seed + 1, n_seed))\n",
    "    \n",
    "    if n_fold != 1:\n",
    "        kf = KFold(n_splits=n_fold, random_state=seed, shuffle=True)\n",
    "        split_indexes = kf.split(X, Y)\n",
    "    else:\n",
    "        split_indexes = [train_test_split(np.arange(X.shape[0]), random_state=seed, shuffle = True)]\n",
    "    \n",
    "    for i_fold, (train_idx, val_idx) in enumerate(split_indexes):\n",
    "        print(\"# Fold: {}/{} (seed: {}/{})\".format(i_fold + 1, n_fold, i_seed + 1, n_seed))\n",
    "\n",
    "        # dataset\n",
    "        X_train, Y_train = X.iloc[train_idx], Y[train_idx]\n",
    "        X_val, Y_val = X.iloc[val_idx], Y[val_idx]\n",
    "\n",
    "\n",
    "        # train\n",
    "        running_train(X_train, Y_train, X_val, Y_val, i_fold=i_fold, seed=seed)\n",
    "\n",
    "        # predict on oof\n",
    "        print('predict on oof...', end='')\n",
    "        model = joblib.load( OUTPUT_PATH / 'models' / f'lightgbm_{i_fold}_{seed}_{CURRENT_TIME}.pkl')\n",
    "\n",
    "        prediction = model.predict_proba(X_val)[:, 1]\n",
    "\n",
    "        oof[val_idx, i_seed] = prediction\n",
    "        print('  done.')"
   ]
  },
  {
   "cell_type": "code",
   "execution_count": 56,
   "id": "06b2c886",
   "metadata": {},
   "outputs": [],
   "source": [
    "if n_fold != 1:\n",
    "    Y_predicted = (np.mean(oof, axis = 1) > prediction_threshold).astype(int)\n",
    "    Y_test = funnel[['client_id', 'sale_flg']].set_index('client_id')\n",
    "    test_funnel =  funnel.set_index('client_id')\n",
    "if n_fold == 1 and n_seed == 1:\n",
    "    Y_predicted = (prediction > prediction_threshold).astype(int)\n",
    "    Y_test = funnel[['client_id', 'sale_flg']].iloc[split_indexes[0][1]].set_index('client_id')\n",
    "    test_funnel = funnel.iloc[split_indexes[0][1]].set_index('client_id')"
   ]
  },
  {
   "cell_type": "code",
   "execution_count": 57,
   "id": "8b50e5ec",
   "metadata": {},
   "outputs": [],
   "source": [
    "if n_fold != 1:\n",
    "    Y_predicted = (np.mean(oof, axis = 1) > prediction_threshold).astype(int)\n",
    "    Y_test = funnel[['client_id', 'sale_flg']].set_index('client_id')\n",
    "    test_funnel =  funnel.set_index('client_id')\n",
    "if n_fold == 1 and n_seed == 1:\n",
    "    Y_predicted = (prediction > prediction_threshold).astype(int)\n",
    "    Y_test = funnel[['client_id', 'sale_flg']].iloc[split_indexes[0][1]].set_index('client_id')\n",
    "    test_funnel = funnel.iloc[split_indexes[0][1]].set_index('client_id')"
   ]
  },
  {
   "cell_type": "code",
   "execution_count": 58,
   "id": "f9da75b5",
   "metadata": {},
   "outputs": [],
   "source": [
    "try: \n",
    "    os.mkdir(OUTPUT_PATH / 'scoring')\n",
    "except:\n",
    "    shutil.rmtree(OUTPUT_PATH / 'scoring')\n",
    "    os.mkdir(OUTPUT_PATH / 'scoring')"
   ]
  },
  {
   "cell_type": "code",
   "execution_count": 59,
   "id": "47659418",
   "metadata": {},
   "outputs": [],
   "source": [
    "public_score, private_score = local_scorer.get_score(test_funnel, Y_predicted, Y_test)"
   ]
  },
  {
   "cell_type": "code",
   "execution_count": 60,
   "id": "a587c12b",
   "metadata": {},
   "outputs": [],
   "source": [
    "validation_accuracy = accuracy_score(Y_test['sale_flg'], Y_predicted)\n",
    "print(f'Public ANIC {public_score} Private ANIC {private_score}')\n",
    "print(f'ANIC {1/3*public_score+ 2/3 * private_score}')\n",
    "print(f'Accuracy score: {validation_accuracy}')"
   ]
  },
  {
   "cell_type": "code",
   "execution_count": 61,
   "id": "a291731f",
   "metadata": {},
   "outputs": [
    {
     "name": "stdout",
     "output_type": "stream",
     "text": [
      "<AxesSubplot:title={'center':'Feature importance'}, xlabel='Feature importance', ylabel='Features'>"
     ]
    }
   ],
   "source": [
    "import lightgbm\n",
    "import matplotlib.pyplot as plt\n",
    "plt.figure(figsize = (30, 30))\n",
    "lightgbm.plot_importance(model)"
   ]
  },
  {
   "cell_type": "code",
   "execution_count": 62,
   "id": "c35f62e3",
   "metadata": {},
   "outputs": [
    {
     "name": "stdout",
     "output_type": "stream",
     "text": [
      "array(['client_city', 'client_education', 'feature_9',\n",
      "       'most_common_txn_city', 'feature_4', 'mean_min_bal_sum_rur',\n",
      "       'total_share_max_bal_sum_rur', 'total_balance', 'client_segment',\n",
      "       'feature_6'], dtype=object)"
     ]
    }
   ],
   "source": [
    "feature_importance = pd.DataFrame(np.array([list(X.columns),model.feature_importances_]).T)\n",
    "feature_importance.columns = ['column', 'importance']\n",
    "feature_importance['importance'] = feature_importance['importance'].map(int)\n",
    "feature_importance.sort_values(by='importance', ascending = False).iloc[:10, 0].values"
   ]
  },
  {
   "cell_type": "code",
   "execution_count": 63,
   "id": "a32085f6",
   "metadata": {},
   "outputs": [],
   "source": [
    "X = X[['client_city', 'client_education', 'feature_9',\n",
    "       'most_common_txn_city', 'feature_4', 'mean_min_bal_sum_rur',\n",
    "       'total_share_max_bal_sum_rur', 'total_balance', 'client_segment',\n",
    "       'feature_6']]"
   ]
  },
  {
   "cell_type": "code",
   "execution_count": 64,
   "id": "e080e7eb",
   "metadata": {},
   "outputs": [],
   "source": [
    "import shutil\n",
    "try:\n",
    "    os.mkdir(OUTPUT_PATH / 'models')\n",
    "except:\n",
    "    shutil.rmtree(OUTPUT_PATH / 'models')\n",
    "    os.mkdir(OUTPUT_PATH / 'models')"
   ]
  },
  {
   "cell_type": "code",
   "execution_count": 65,
   "id": "0e8057b8",
   "metadata": {},
   "outputs": [],
   "source": [
    "learning_rate = 0.5\n",
    "num_leaves = 50\n",
    "min_data_in_leaf = 1000\n",
    "feature_fraction = 0.9\n",
    "num_boost_round = 3000"
   ]
  },
  {
   "cell_type": "code",
   "execution_count": 66,
   "id": "d4625762",
   "metadata": {},
   "outputs": [],
   "source": [
    "def running_train(X_train, Y_train, X_val, Y_val, i_fold=None, seed=None, params = None):\n",
    "    # prepare for train\n",
    "    params = {\n",
    "#           \"objective\": \"cross_entropy\",\n",
    "#           \"boosting_type\": \"gbdt\",\n",
    "#           \"learning_rate\": learning_rate,\n",
    "#           \"num_leaves\": num_leaves,\n",
    "#            \"max_bin\": 128,\n",
    "#           \"feature_fraction\": feature_fraction,\n",
    "#           \"drop_rate\": 0.05,\n",
    "#           \"is_unbalance\": True,\n",
    "#           \"max_drop\": 20,\n",
    "#           \"min_child_samples\": 5,\n",
    "#           \"min_child_weight\": 50,\n",
    "#           \"min_split_gain\": 0,\n",
    "#           \"subsample\": 0.9,\n",
    "          'n_jobs': -1,\n",
    "          'random_state': seed\n",
    "          }\n",
    "    \n",
    "    params['random_state'] = seed\n",
    "    \n",
    "    \n",
    "    model = LGBMClassifier(**params) # define model here\n",
    "    \n",
    "    # Fit and save model\n",
    "    \n",
    "    if X_val is None:\n",
    "        model.fit(X_train, Y_train, verbose=False)\n",
    "    else:\n",
    "        model.fit(X_train, Y_train,   eval_set=(X_val, Y_val), early_stopping_rounds=500, verbose=False)\n",
    "    joblib.dump(model, OUTPUT_PATH / 'models' / f'lightgbm_{i_fold}_{seed}_{CURRENT_TIME}.pkl')"
   ]
  },
  {
   "cell_type": "code",
   "execution_count": 67,
   "id": "b4c11ffd",
   "metadata": {},
   "outputs": [],
   "source": [
    "oof = np.zeros((X.shape[0], n_seed)) # cv_score\n",
    "seeds = []\n",
    "for i_seed in range(n_seed):\n",
    "    seed = FIXED_SEEDS[i_seed]\n",
    "    seed_everything(seed)\n",
    "\n",
    "    seeds.append(seed)\n",
    "    print('Seed: {}, {}/{}'.format(seed, i_seed + 1, n_seed))\n",
    "    \n",
    "    if n_fold != 1:\n",
    "        kf = KFold(n_splits=n_fold, random_state=seed, shuffle=True)\n",
    "        split_indexes = kf.split(X, Y)\n",
    "    else:\n",
    "        split_indexes = [train_test_split(np.arange(X.shape[0]), random_state=seed, shuffle = True)]\n",
    "    \n",
    "    for i_fold, (train_idx, val_idx) in enumerate(split_indexes):\n",
    "        print(\"# Fold: {}/{} (seed: {}/{})\".format(i_fold + 1, n_fold, i_seed + 1, n_seed))\n",
    "\n",
    "        # dataset\n",
    "        X_train, Y_train = X.iloc[train_idx], Y[train_idx]\n",
    "        X_val, Y_val = X.iloc[val_idx], Y[val_idx]\n",
    "\n",
    "\n",
    "        # train\n",
    "        running_train(X_train, Y_train, X_val, Y_val, i_fold=i_fold, seed=seed)\n",
    "\n",
    "        # predict on oof\n",
    "        print('predict on oof...', end='')\n",
    "        model = joblib.load( OUTPUT_PATH / 'models' / f'lightgbm_{i_fold}_{seed}_{CURRENT_TIME}.pkl')\n",
    "\n",
    "        prediction = model.predict_proba(X_val)[:, 1]\n",
    "\n",
    "        oof[val_idx, i_seed] = prediction\n",
    "        print('  done.')"
   ]
  },
  {
   "cell_type": "code",
   "execution_count": 68,
   "id": "f266b850",
   "metadata": {},
   "outputs": [],
   "source": [
    "if n_fold != 1:\n",
    "    Y_predicted = (np.mean(oof, axis = 1) > prediction_threshold).astype(int)\n",
    "    Y_test = funnel[['client_id', 'sale_flg']].set_index('client_id')\n",
    "    test_funnel =  funnel.set_index('client_id')\n",
    "if n_fold == 1 and n_seed == 1:\n",
    "    Y_predicted = (prediction > prediction_threshold).astype(int)\n",
    "    Y_test = funnel[['client_id', 'sale_flg']].iloc[split_indexes[0][1]].set_index('client_id')\n",
    "    test_funnel = funnel.iloc[split_indexes[0][1]].set_index('client_id')"
   ]
  },
  {
   "cell_type": "code",
   "execution_count": 69,
   "id": "fae7a888",
   "metadata": {},
   "outputs": [],
   "source": [
    "try: \n",
    "    os.mkdir(OUTPUT_PATH / 'scoring')\n",
    "except:\n",
    "    shutil.rmtree(OUTPUT_PATH / 'scoring')\n",
    "    os.mkdir(OUTPUT_PATH / 'scoring')"
   ]
  },
  {
   "cell_type": "code",
   "execution_count": 70,
   "id": "cae53305",
   "metadata": {},
   "outputs": [],
   "source": [
    "public_score, private_score = local_scorer.get_score(test_funnel, Y_predicted, Y_test)"
   ]
  },
  {
   "cell_type": "code",
   "execution_count": 71,
   "id": "140ed762",
   "metadata": {},
   "outputs": [],
   "source": [
    "validation_accuracy = accuracy_score(Y_test['sale_flg'], Y_predicted)\n",
    "print(f'Public ANIC {public_score} Private ANIC {private_score}')\n",
    "print(f'ANIC {1/3*public_score+ 2/3 * private_score}')\n",
    "print(f'Accuracy score: {validation_accuracy}')"
   ]
  },
  {
   "cell_type": "code",
   "execution_count": 72,
   "id": "bf4f8117",
   "metadata": {},
   "outputs": [],
   "source": [
    "X = data.drop(columns = TARGET_COLUMNS + ['client_id'])\n",
    "Y = data[TARGET_COLUMNS[0]]"
   ]
  },
  {
   "cell_type": "code",
   "execution_count": 73,
   "id": "05310033",
   "metadata": {},
   "outputs": [],
   "source": [
    "import shutil\n",
    "try:\n",
    "    os.mkdir(OUTPUT_PATH / 'models')\n",
    "except:\n",
    "    shutil.rmtree(OUTPUT_PATH / 'models')\n",
    "    os.mkdir(OUTPUT_PATH / 'models')"
   ]
  },
  {
   "cell_type": "code",
   "execution_count": 74,
   "id": "ee9c40b0",
   "metadata": {},
   "outputs": [],
   "source": [
    "learning_rate = 0.5\n",
    "num_leaves = 50\n",
    "min_data_in_leaf = 1000\n",
    "feature_fraction = 0.9\n",
    "num_boost_round = 3000"
   ]
  },
  {
   "cell_type": "code",
   "execution_count": 75,
   "id": "b08a046c",
   "metadata": {},
   "outputs": [],
   "source": [
    "def running_train(X_train, Y_train, X_val, Y_val, i_fold=None, seed=None, params = None):\n",
    "    # prepare for train\n",
    "    params = {\n",
    "#           \"objective\": \"cross_entropy\",\n",
    "#           \"boosting_type\": \"gbdt\",\n",
    "#           \"learning_rate\": learning_rate,\n",
    "#           \"num_leaves\": num_leaves,\n",
    "#            \"max_bin\": 128,\n",
    "#           \"feature_fraction\": feature_fraction,\n",
    "#           \"drop_rate\": 0.05,\n",
    "#           \"is_unbalance\": True,\n",
    "#           \"max_drop\": 20,\n",
    "#           \"min_child_samples\": 5,\n",
    "#           \"min_child_weight\": 50,\n",
    "#           \"min_split_gain\": 0,\n",
    "#           \"subsample\": 0.9,\n",
    "          'n_jobs': -1,\n",
    "          'random_state': seed\n",
    "          }\n",
    "    \n",
    "    params['random_state'] = seed\n",
    "    \n",
    "    \n",
    "    model = LGBMClassifier(**params) # define model here\n",
    "    \n",
    "    # Fit and save model\n",
    "    \n",
    "    if X_val is None:\n",
    "        model.fit(X_train, Y_train, verbose=False)\n",
    "    else:\n",
    "        model.fit(X_train, Y_train,   eval_set=(X_val, Y_val), early_stopping_rounds=500, verbose=False)\n",
    "    joblib.dump(model, OUTPUT_PATH / 'models' / f'lightgbm_{i_fold}_{seed}_{CURRENT_TIME}.pkl')"
   ]
  },
  {
   "cell_type": "code",
   "execution_count": 76,
   "id": "37f86835",
   "metadata": {},
   "outputs": [],
   "source": [
    "oof = np.zeros((X.shape[0], n_seed)) # cv_score\n",
    "seeds = []\n",
    "for i_seed in range(n_seed):\n",
    "    seed = FIXED_SEEDS[i_seed]\n",
    "    seed_everything(seed)\n",
    "\n",
    "    seeds.append(seed)\n",
    "    print('Seed: {}, {}/{}'.format(seed, i_seed + 1, n_seed))\n",
    "    \n",
    "    if n_fold != 1:\n",
    "        kf = KFold(n_splits=n_fold, random_state=seed, shuffle=True)\n",
    "        split_indexes = kf.split(X, Y)\n",
    "    else:\n",
    "        split_indexes = [train_test_split(np.arange(X.shape[0]), random_state=seed, shuffle = True)]\n",
    "    \n",
    "    for i_fold, (train_idx, val_idx) in enumerate(split_indexes):\n",
    "        print(\"# Fold: {}/{} (seed: {}/{})\".format(i_fold + 1, n_fold, i_seed + 1, n_seed))\n",
    "\n",
    "        # dataset\n",
    "        X_train, Y_train = X.iloc[train_idx], Y[train_idx]\n",
    "        X_val, Y_val = X.iloc[val_idx], Y[val_idx]\n",
    "\n",
    "\n",
    "        # train\n",
    "        running_train(X_train, Y_train, X_val, Y_val, i_fold=i_fold, seed=seed)\n",
    "\n",
    "        # predict on oof\n",
    "        print('predict on oof...', end='')\n",
    "        model = joblib.load( OUTPUT_PATH / 'models' / f'lightgbm_{i_fold}_{seed}_{CURRENT_TIME}.pkl')\n",
    "\n",
    "        prediction = model.predict_proba(X_val)[:, 1]\n",
    "\n",
    "        oof[val_idx, i_seed] = prediction\n",
    "        print('  done.')"
   ]
  },
  {
   "cell_type": "code",
   "execution_count": 77,
   "id": "fe009d63",
   "metadata": {},
   "outputs": [],
   "source": [
    "if n_fold != 1:\n",
    "    Y_predicted = (np.mean(oof, axis = 1) > prediction_threshold).astype(int)\n",
    "    Y_test = funnel[['client_id', 'sale_flg']].set_index('client_id')\n",
    "    test_funnel =  funnel.set_index('client_id')\n",
    "if n_fold == 1 and n_seed == 1:\n",
    "    Y_predicted = (prediction > prediction_threshold).astype(int)\n",
    "    Y_test = funnel[['client_id', 'sale_flg']].iloc[split_indexes[0][1]].set_index('client_id')\n",
    "    test_funnel = funnel.iloc[split_indexes[0][1]].set_index('client_id')"
   ]
  },
  {
   "cell_type": "code",
   "execution_count": 78,
   "id": "3d9054b7",
   "metadata": {},
   "outputs": [],
   "source": [
    "try: \n",
    "    os.mkdir(OUTPUT_PATH / 'scoring')\n",
    "except:\n",
    "    shutil.rmtree(OUTPUT_PATH / 'scoring')\n",
    "    os.mkdir(OUTPUT_PATH / 'scoring')"
   ]
  },
  {
   "cell_type": "code",
   "execution_count": 79,
   "id": "baab21bf",
   "metadata": {},
   "outputs": [],
   "source": [
    "public_score, private_score = local_scorer.get_score(test_funnel, Y_predicted, Y_test)"
   ]
  },
  {
   "cell_type": "code",
   "execution_count": 80,
   "id": "824c2af6",
   "metadata": {},
   "outputs": [],
   "source": [
    "validation_accuracy = accuracy_score(Y_test['sale_flg'], Y_predicted)\n",
    "print(f'Public ANIC {public_score} Private ANIC {private_score}')\n",
    "print(f'ANIC {1/3*public_score+ 2/3 * private_score}')\n",
    "print(f'Accuracy score: {validation_accuracy}')"
   ]
  },
  {
   "cell_type": "code",
   "execution_count": 81,
   "id": "e01cbccd",
   "metadata": {},
   "outputs": [
    {
     "name": "stdout",
     "output_type": "stream",
     "text": [
      "array(['client_city', 'client_education', 'most_common_txn_city',\n",
      "       'feature_9', 'feature_4', 'feature_6', 'feature_1', 'client_age',\n",
      "       'client_segment', 'last_known_salary',\n",
      "       'most_common_prod_type_name', 'mean_balance_rur_amt', 'feature_2',\n",
      "       'total_share_max_bal_sum_rur', 'feature_3', 'mean_agr_flg',\n",
      "       'most_common_tsp_name', 'max_agrmnt_rate_active',\n",
      "       'mean_min_bal_sum_rur', 'feature_7', 'total_campaigns',\n",
      "       'feature_8', 'client_region', 'total_prod_group_name',\n",
      "       'total_balance', 'mean_otkaz', 'total_txn_city', 'feature_5',\n",
      "       'total_share_tsp_name', 'mean_eop_bal_sum_rur'], dtype=object)"
     ]
    }
   ],
   "source": [
    "feature_importance = pd.DataFrame(np.array([list(X.columns),model.feature_importances_]).T)\n",
    "feature_importance.columns = ['column', 'importance']\n",
    "feature_importance['importance'] = feature_importance['importance'].map(int)\n",
    "feature_importance.sort_values(by='importance', ascending = False).iloc[:30, 0].values"
   ]
  },
  {
   "cell_type": "code",
   "execution_count": 82,
   "id": "53826ba3",
   "metadata": {},
   "outputs": [],
   "source": [
    "X = X[['client_city', 'client_education', 'most_common_txn_city',\n",
    "       'feature_9', 'feature_4', 'feature_6', 'feature_1', 'client_age',\n",
    "       'client_segment', 'last_known_salary',\n",
    "       'most_common_prod_type_name', 'mean_balance_rur_amt', 'feature_2',\n",
    "       'total_share_max_bal_sum_rur', 'feature_3', 'mean_agr_flg',\n",
    "       'most_common_tsp_name', 'max_agrmnt_rate_active',\n",
    "       'mean_min_bal_sum_rur', 'feature_7', 'total_campaigns',\n",
    "       'feature_8', 'client_region', 'total_prod_group_name',\n",
    "       'total_balance', 'mean_otkaz', 'total_txn_city', 'feature_5',\n",
    "       'total_share_tsp_name', 'mean_eop_bal_sum_rur']]"
   ]
  },
  {
   "cell_type": "code",
   "execution_count": 83,
   "id": "90026262",
   "metadata": {},
   "outputs": [],
   "source": [
    "import shutil\n",
    "try:\n",
    "    os.mkdir(OUTPUT_PATH / 'models')\n",
    "except:\n",
    "    shutil.rmtree(OUTPUT_PATH / 'models')\n",
    "    os.mkdir(OUTPUT_PATH / 'models')"
   ]
  },
  {
   "cell_type": "code",
   "execution_count": 84,
   "id": "78f7356d",
   "metadata": {},
   "outputs": [],
   "source": [
    "learning_rate = 0.5\n",
    "num_leaves = 50\n",
    "min_data_in_leaf = 1000\n",
    "feature_fraction = 0.9\n",
    "num_boost_round = 3000"
   ]
  },
  {
   "cell_type": "code",
   "execution_count": 85,
   "id": "35244cd0",
   "metadata": {},
   "outputs": [],
   "source": [
    "def running_train(X_train, Y_train, X_val, Y_val, i_fold=None, seed=None, params = None):\n",
    "    # prepare for train\n",
    "    params = {\n",
    "#           \"objective\": \"cross_entropy\",\n",
    "#           \"boosting_type\": \"gbdt\",\n",
    "#           \"learning_rate\": learning_rate,\n",
    "#           \"num_leaves\": num_leaves,\n",
    "#            \"max_bin\": 128,\n",
    "#           \"feature_fraction\": feature_fraction,\n",
    "#           \"drop_rate\": 0.05,\n",
    "#           \"is_unbalance\": True,\n",
    "#           \"max_drop\": 20,\n",
    "#           \"min_child_samples\": 5,\n",
    "#           \"min_child_weight\": 50,\n",
    "#           \"min_split_gain\": 0,\n",
    "#           \"subsample\": 0.9,\n",
    "          'n_jobs': -1,\n",
    "          'random_state': seed\n",
    "          }\n",
    "    \n",
    "    params['random_state'] = seed\n",
    "    \n",
    "    \n",
    "    model = LGBMClassifier(**params) # define model here\n",
    "    \n",
    "    # Fit and save model\n",
    "    \n",
    "    if X_val is None:\n",
    "        model.fit(X_train, Y_train, verbose=False)\n",
    "    else:\n",
    "        model.fit(X_train, Y_train,   eval_set=(X_val, Y_val), early_stopping_rounds=500, verbose=False)\n",
    "    joblib.dump(model, OUTPUT_PATH / 'models' / f'lightgbm_{i_fold}_{seed}_{CURRENT_TIME}.pkl')"
   ]
  },
  {
   "cell_type": "code",
   "execution_count": 86,
   "id": "5454d3c8",
   "metadata": {},
   "outputs": [],
   "source": [
    "oof = np.zeros((X.shape[0], n_seed)) # cv_score\n",
    "seeds = []\n",
    "for i_seed in range(n_seed):\n",
    "    seed = FIXED_SEEDS[i_seed]\n",
    "    seed_everything(seed)\n",
    "\n",
    "    seeds.append(seed)\n",
    "    print('Seed: {}, {}/{}'.format(seed, i_seed + 1, n_seed))\n",
    "    \n",
    "    if n_fold != 1:\n",
    "        kf = KFold(n_splits=n_fold, random_state=seed, shuffle=True)\n",
    "        split_indexes = kf.split(X, Y)\n",
    "    else:\n",
    "        split_indexes = [train_test_split(np.arange(X.shape[0]), random_state=seed, shuffle = True)]\n",
    "    \n",
    "    for i_fold, (train_idx, val_idx) in enumerate(split_indexes):\n",
    "        print(\"# Fold: {}/{} (seed: {}/{})\".format(i_fold + 1, n_fold, i_seed + 1, n_seed))\n",
    "\n",
    "        # dataset\n",
    "        X_train, Y_train = X.iloc[train_idx], Y[train_idx]\n",
    "        X_val, Y_val = X.iloc[val_idx], Y[val_idx]\n",
    "\n",
    "\n",
    "        # train\n",
    "        running_train(X_train, Y_train, X_val, Y_val, i_fold=i_fold, seed=seed)\n",
    "\n",
    "        # predict on oof\n",
    "        print('predict on oof...', end='')\n",
    "        model = joblib.load( OUTPUT_PATH / 'models' / f'lightgbm_{i_fold}_{seed}_{CURRENT_TIME}.pkl')\n",
    "\n",
    "        prediction = model.predict_proba(X_val)[:, 1]\n",
    "\n",
    "        oof[val_idx, i_seed] = prediction\n",
    "        print('  done.')"
   ]
  },
  {
   "cell_type": "code",
   "execution_count": 87,
   "id": "b9af4864",
   "metadata": {},
   "outputs": [],
   "source": [
    "if n_fold != 1:\n",
    "    Y_predicted = (np.mean(oof, axis = 1) > prediction_threshold).astype(int)\n",
    "    Y_test = funnel[['client_id', 'sale_flg']].set_index('client_id')\n",
    "    test_funnel =  funnel.set_index('client_id')\n",
    "if n_fold == 1 and n_seed == 1:\n",
    "    Y_predicted = (prediction > prediction_threshold).astype(int)\n",
    "    Y_test = funnel[['client_id', 'sale_flg']].iloc[split_indexes[0][1]].set_index('client_id')\n",
    "    test_funnel = funnel.iloc[split_indexes[0][1]].set_index('client_id')"
   ]
  },
  {
   "cell_type": "code",
   "execution_count": 88,
   "id": "2a73af0d",
   "metadata": {},
   "outputs": [],
   "source": [
    "try: \n",
    "    os.mkdir(OUTPUT_PATH / 'scoring')\n",
    "except:\n",
    "    shutil.rmtree(OUTPUT_PATH / 'scoring')\n",
    "    os.mkdir(OUTPUT_PATH / 'scoring')"
   ]
  },
  {
   "cell_type": "code",
   "execution_count": 89,
   "id": "2f7a27ca",
   "metadata": {},
   "outputs": [],
   "source": [
    "public_score, private_score = local_scorer.get_score(test_funnel, Y_predicted, Y_test)"
   ]
  },
  {
   "cell_type": "code",
   "execution_count": 90,
   "id": "ff2892f9",
   "metadata": {},
   "outputs": [],
   "source": [
    "validation_accuracy = accuracy_score(Y_test['sale_flg'], Y_predicted)\n",
    "print(f'Public ANIC {public_score} Private ANIC {private_score}')\n",
    "print(f'ANIC {1/3*public_score+ 2/3 * private_score}')\n",
    "print(f'Accuracy score: {validation_accuracy}')"
   ]
  },
  {
   "cell_type": "code",
   "execution_count": 91,
   "id": "0f57061f",
   "metadata": {},
   "outputs": [],
   "source": [
    "if n_fold != 1:\n",
    "    Y_predicted = (np.mean(oof, axis = 1) > 0.18).astype(int)\n",
    "    Y_test = funnel[['client_id', 'sale_flg']].set_index('client_id')\n",
    "    test_funnel =  funnel.set_index('client_id')\n",
    "if n_fold == 1 and n_seed == 1:\n",
    "    Y_predicted = (prediction > prediction_threshold).astype(int)\n",
    "    Y_test = funnel[['client_id', 'sale_flg']].iloc[split_indexes[0][1]].set_index('client_id')\n",
    "    test_funnel = funnel.iloc[split_indexes[0][1]].set_index('client_id')"
   ]
  },
  {
   "cell_type": "code",
   "execution_count": 92,
   "id": "f0b03c58",
   "metadata": {},
   "outputs": [],
   "source": [
    "try: \n",
    "    os.mkdir(OUTPUT_PATH / 'scoring')\n",
    "except:\n",
    "    shutil.rmtree(OUTPUT_PATH / 'scoring')\n",
    "    os.mkdir(OUTPUT_PATH / 'scoring')"
   ]
  },
  {
   "cell_type": "code",
   "execution_count": 93,
   "id": "8e65dc16",
   "metadata": {},
   "outputs": [],
   "source": [
    "public_score, private_score = local_scorer.get_score(test_funnel, Y_predicted, Y_test)"
   ]
  },
  {
   "cell_type": "code",
   "execution_count": 94,
   "id": "381ce903",
   "metadata": {},
   "outputs": [],
   "source": [
    "validation_accuracy = accuracy_score(Y_test['sale_flg'], Y_predicted)\n",
    "print(f'Public ANIC {public_score} Private ANIC {private_score}')\n",
    "print(f'ANIC {1/3*public_score+ 2/3 * private_score}')\n",
    "print(f'Accuracy score: {validation_accuracy}')"
   ]
  },
  {
   "cell_type": "code",
   "execution_count": 95,
   "id": "400467f9",
   "metadata": {},
   "outputs": [
    {
     "name": "stdout",
     "output_type": "stream",
     "text": [
      "                 client_id month_end_dt appl_prod_group_name  \\\n",
      "0      6886062013213911831   2018-10-31                 PILS   \n",
      "1      4497537671718296975   2018-10-31                 PILS   \n",
      "2      1316154201527307743   2018-09-30                 PILS   \n",
      "3      1316154201527307743   2018-09-30                 PILS   \n",
      "4      1316154201527307743   2018-09-30                 PILS   \n",
      "...                    ...          ...                  ...   \n",
      "12025 -7051552770088413806   2019-03-31             Mortgage   \n",
      "12026 -2283863549841851654   2019-02-28             Mortgage   \n",
      "12027  4409001434092016310   2019-03-31             Mortgage   \n",
      "12028 -2119157901008689776   2018-11-30                Cards   \n",
      "12029 -1065664632342440074   2018-12-31                Cards   \n",
      "\n",
      "      appl_prod_type_name         appl_stts_name_dc appl_sale_channel_name  \n",
      "0                    PILS  The consultation is over                Network  \n",
      "1                    PILS  The consultation is over                Network  \n",
      "2                    PILS  The consultation is over                Network  \n",
      "3                    PILS  The consultation is over                Network  \n",
      "4                    PILS  The consultation is over                Network  \n",
      "...                   ...                       ...                    ...  \n",
      "12025            Mortgage                      four                    NaN  \n",
      "12026            Mortgage                      four                    NaN  \n",
      "12027            Mortgage                         2                    NaN  \n",
      "12028        Credit cards            Issuing a card                   UCHK  \n",
      "12029        Credit cards            Issuing a card                   UCHK  \n",
      "\n",
      "[12030 rows x 6 columns]"
     ]
    }
   ],
   "source": [
    "appl"
   ]
  },
  {
   "cell_type": "code",
   "execution_count": 96,
   "id": "6c44e5ef",
   "metadata": {},
   "outputs": [],
   "source": [
    "###############\n",
    "# Config\n",
    "###############\n",
    "\n",
    "n_seed = 10\n",
    "n_fold = 3\n",
    "prediction_threshold = 0.2\n",
    "retrain_after_valid = True\n",
    "make_submission = False"
   ]
  },
  {
   "cell_type": "code",
   "execution_count": 97,
   "id": "f68d16fa",
   "metadata": {},
   "outputs": [],
   "source": [
    "# data merge\n",
    "data = funnel.copy()\n",
    "data = funnel.merge(client, on=['client_id'])"
   ]
  },
  {
   "cell_type": "code",
   "execution_count": 98,
   "id": "be4d3f8d",
   "metadata": {},
   "outputs": [],
   "source": [
    "for feature_1 in [f'feature_{i}'for i in range(1, 11)]:\n",
    "    data[f'{feature_1} ** 2'] = data[feature_1] ** 2\n",
    "    data[f'{feature_1} ** 0.5'] = data[feature_1] ** 0.5\n",
    "    data[f'{feature_1} log'] = np.log(data[feature_1])"
   ]
  },
  {
   "cell_type": "code",
   "execution_count": 99,
   "id": "64c38083",
   "metadata": {},
   "outputs": [],
   "source": [
    "%%time\n",
    "# create features\n",
    "\n",
    "# data = create_features_transactions(data)\n",
    "# data = create_features_aum(data)\n",
    "# data = create_features_balance(data)\n",
    "# data = create_features_client(data)\n",
    "# data = create_features_campaigns(data)\n",
    "# data = create_features_deals(data)\n",
    "# data = create_features_dict_mcc(data)\n",
    "# data = create_features_payments(data)\n",
    "# data = create_features_appl(data)\n",
    "# data = create_features_funnel(data)\n",
    "# data = create_features_deals(data)"
   ]
  },
  {
   "cell_type": "code",
   "execution_count": 100,
   "id": "7ccd4e81",
   "metadata": {},
   "outputs": [],
   "source": [
    "try:\n",
    "    os.mkdir(OUTPUT_PATH / 'preprocessors')\n",
    "except:\n",
    "    shutil.rmtree(OUTPUT_PATH / 'preprocessors')\n",
    "    os.mkdir(OUTPUT_PATH / 'preprocessors')"
   ]
  },
  {
   "cell_type": "code",
   "execution_count": 101,
   "id": "329194dc",
   "metadata": {},
   "outputs": [],
   "source": [
    "# data encode\n",
    "\n",
    "for c in data.columns:\n",
    "    col_type = data[c].dtype\n",
    "    if col_type == 'object' or col_type.name == 'category':\n",
    "        data[c] = data[c].astype('category')"
   ]
  },
  {
   "cell_type": "code",
   "execution_count": 102,
   "id": "126ab695",
   "metadata": {},
   "outputs": [],
   "source": [
    "TARGET_COLUMNS =  ['sale_flg', 'sale_amount', 'contacts']"
   ]
  },
  {
   "cell_type": "code",
   "execution_count": 103,
   "id": "d3bc9466",
   "metadata": {},
   "outputs": [],
   "source": [
    "X = data.drop(columns = TARGET_COLUMNS + ['client_id'])\n",
    "Y = data[TARGET_COLUMNS[0]]"
   ]
  },
  {
   "cell_type": "code",
   "execution_count": 104,
   "id": "07dd5824",
   "metadata": {},
   "outputs": [],
   "source": [
    "import shutil\n",
    "try:\n",
    "    os.mkdir(OUTPUT_PATH / 'models')\n",
    "except:\n",
    "    shutil.rmtree(OUTPUT_PATH / 'models')\n",
    "    os.mkdir(OUTPUT_PATH / 'models')"
   ]
  },
  {
   "cell_type": "code",
   "execution_count": 105,
   "id": "7736dc58",
   "metadata": {},
   "outputs": [],
   "source": [
    "learning_rate = 0.5\n",
    "num_leaves = 50\n",
    "min_data_in_leaf = 1000\n",
    "feature_fraction = 0.9\n",
    "num_boost_round = 3000"
   ]
  },
  {
   "cell_type": "code",
   "execution_count": 106,
   "id": "9f03650e",
   "metadata": {},
   "outputs": [],
   "source": [
    "def running_train(X_train, Y_train, X_val, Y_val, i_fold=None, seed=None, params = None):\n",
    "    # prepare for train\n",
    "    params = {\n",
    "#           \"objective\": \"cross_entropy\",\n",
    "#           \"boosting_type\": \"gbdt\",\n",
    "#           \"learning_rate\": learning_rate,\n",
    "#           \"num_leaves\": num_leaves,\n",
    "#            \"max_bin\": 128,\n",
    "#           \"feature_fraction\": feature_fraction,\n",
    "#           \"drop_rate\": 0.05,\n",
    "#           \"is_unbalance\": True,\n",
    "#           \"max_drop\": 20,\n",
    "#           \"min_child_samples\": 5,\n",
    "#           \"min_child_weight\": 50,\n",
    "#           \"min_split_gain\": 0,\n",
    "#           \"subsample\": 0.9,\n",
    "          'n_jobs': -1,\n",
    "          'random_state': seed\n",
    "          }\n",
    "    \n",
    "    params['random_state'] = seed\n",
    "    \n",
    "    \n",
    "    model = LGBMClassifier(**params) # define model here\n",
    "    \n",
    "    # Fit and save model\n",
    "    \n",
    "    if X_val is None:\n",
    "        model.fit(X_train, Y_train, verbose=False)\n",
    "    else:\n",
    "        model.fit(X_train, Y_train,   eval_set=(X_val, Y_val), early_stopping_rounds=500, verbose=False)\n",
    "    joblib.dump(model, OUTPUT_PATH / 'models' / f'lightgbm_{i_fold}_{seed}_{CURRENT_TIME}.pkl')"
   ]
  },
  {
   "cell_type": "code",
   "execution_count": 107,
   "id": "b2f7e43a",
   "metadata": {},
   "outputs": [],
   "source": [
    "oof = np.zeros((X.shape[0], n_seed)) # cv_score\n",
    "seeds = []\n",
    "for i_seed in range(n_seed):\n",
    "    seed = FIXED_SEEDS[i_seed]\n",
    "    seed_everything(seed)\n",
    "\n",
    "    seeds.append(seed)\n",
    "    print('Seed: {}, {}/{}'.format(seed, i_seed + 1, n_seed))\n",
    "    \n",
    "    if n_fold != 1:\n",
    "        kf = KFold(n_splits=n_fold, random_state=seed, shuffle=True)\n",
    "        split_indexes = kf.split(X, Y)\n",
    "    else:\n",
    "        split_indexes = [train_test_split(np.arange(X.shape[0]), random_state=seed, shuffle = True)]\n",
    "    \n",
    "    for i_fold, (train_idx, val_idx) in enumerate(split_indexes):\n",
    "        print(\"# Fold: {}/{} (seed: {}/{})\".format(i_fold + 1, n_fold, i_seed + 1, n_seed))\n",
    "\n",
    "        # dataset\n",
    "        X_train, Y_train = X.iloc[train_idx], Y[train_idx]\n",
    "        X_val, Y_val = X.iloc[val_idx], Y[val_idx]\n",
    "\n",
    "\n",
    "        # train\n",
    "        running_train(X_train, Y_train, X_val, Y_val, i_fold=i_fold, seed=seed)\n",
    "\n",
    "        # predict on oof\n",
    "        print('predict on oof...', end='')\n",
    "        model = joblib.load( OUTPUT_PATH / 'models' / f'lightgbm_{i_fold}_{seed}_{CURRENT_TIME}.pkl')\n",
    "\n",
    "        prediction = model.predict_proba(X_val)[:, 1]\n",
    "\n",
    "        oof[val_idx, i_seed] = prediction\n",
    "        print('  done.')"
   ]
  },
  {
   "cell_type": "code",
   "execution_count": 108,
   "id": "d7166df2",
   "metadata": {},
   "outputs": [],
   "source": [
    "if n_fold != 1:\n",
    "    Y_predicted = (np.mean(oof, axis = 1) > prediction_threshold).astype(int)\n",
    "    Y_test = funnel[['client_id', 'sale_flg']].set_index('client_id')\n",
    "    test_funnel =  funnel.set_index('client_id')\n",
    "if n_fold == 1 and n_seed == 1:\n",
    "    Y_predicted = (prediction > prediction_threshold).astype(int)\n",
    "    Y_test = funnel[['client_id', 'sale_flg']].iloc[split_indexes[0][1]].set_index('client_id')\n",
    "    test_funnel = funnel.iloc[split_indexes[0][1]].set_index('client_id')"
   ]
  },
  {
   "cell_type": "code",
   "execution_count": 109,
   "id": "f1ae0d1a",
   "metadata": {},
   "outputs": [],
   "source": [
    "try: \n",
    "    os.mkdir(OUTPUT_PATH / 'scoring')\n",
    "except:\n",
    "    shutil.rmtree(OUTPUT_PATH / 'scoring')\n",
    "    os.mkdir(OUTPUT_PATH / 'scoring')"
   ]
  },
  {
   "cell_type": "code",
   "execution_count": 110,
   "id": "3573bf3f",
   "metadata": {},
   "outputs": [],
   "source": [
    "public_score, private_score = local_scorer.get_score(test_funnel, Y_predicted, Y_test)"
   ]
  },
  {
   "cell_type": "code",
   "execution_count": 111,
   "id": "765133fa",
   "metadata": {},
   "outputs": [],
   "source": [
    "validation_accuracy = accuracy_score(Y_test['sale_flg'], Y_predicted)\n",
    "print(f'Public ANIC {public_score} Private ANIC {private_score}')\n",
    "print(f'ANIC {1/3*public_score+ 2/3 * private_score}')\n",
    "print(f'Accuracy score: {validation_accuracy}')"
   ]
  },
  {
   "cell_type": "code",
   "execution_count": 112,
   "id": "1945653c",
   "metadata": {},
   "outputs": [],
   "source": [
    "def running_train(X_train, Y_train, X_val, Y_val, i_fold=None, seed=None, params = None):\n",
    "    # prepare for train\n",
    "    params = {\n",
    "#           \"objective\": \"cross_entropy\",\n",
    "#           \"boosting_type\": \"gbdt\",\n",
    "          \"learning_rate\": learning_rate,\n",
    "          \"num_leaves\": num_leaves,\n",
    "           \"max_bin\": 128,\n",
    "          \"feature_fraction\": feature_fraction,\n",
    "          \"drop_rate\": 0.05,\n",
    "          \"is_unbalance\": True,\n",
    "          \"max_drop\": 20,\n",
    "          \"min_child_samples\": 5,\n",
    "          \"min_child_weight\": 50,\n",
    "          \"min_split_gain\": 0,\n",
    "          \"subsample\": 0.9,\n",
    "          'n_jobs': -1,\n",
    "          'random_state': seed\n",
    "          }\n",
    "    \n",
    "    params['random_state'] = seed\n",
    "    \n",
    "    \n",
    "    model = LGBMClassifier(**params) # define model here\n",
    "    \n",
    "    # Fit and save model\n",
    "    \n",
    "    if X_val is None:\n",
    "        model.fit(X_train, Y_train, verbose=False)\n",
    "    else:\n",
    "        model.fit(X_train, Y_train,   eval_set=(X_val, Y_val), early_stopping_rounds=500, verbose=False)\n",
    "    joblib.dump(model, OUTPUT_PATH / 'models' / f'lightgbm_{i_fold}_{seed}_{CURRENT_TIME}.pkl')"
   ]
  },
  {
   "cell_type": "code",
   "execution_count": 113,
   "id": "a010d1e7",
   "metadata": {},
   "outputs": [],
   "source": [
    "oof = np.zeros((X.shape[0], n_seed)) # cv_score\n",
    "seeds = []\n",
    "for i_seed in range(n_seed):\n",
    "    seed = FIXED_SEEDS[i_seed]\n",
    "    seed_everything(seed)\n",
    "\n",
    "    seeds.append(seed)\n",
    "    print('Seed: {}, {}/{}'.format(seed, i_seed + 1, n_seed))\n",
    "    \n",
    "    if n_fold != 1:\n",
    "        kf = KFold(n_splits=n_fold, random_state=seed, shuffle=True)\n",
    "        split_indexes = kf.split(X, Y)\n",
    "    else:\n",
    "        split_indexes = [train_test_split(np.arange(X.shape[0]), random_state=seed, shuffle = True)]\n",
    "    \n",
    "    for i_fold, (train_idx, val_idx) in enumerate(split_indexes):\n",
    "        print(\"# Fold: {}/{} (seed: {}/{})\".format(i_fold + 1, n_fold, i_seed + 1, n_seed))\n",
    "\n",
    "        # dataset\n",
    "        X_train, Y_train = X.iloc[train_idx], Y[train_idx]\n",
    "        X_val, Y_val = X.iloc[val_idx], Y[val_idx]\n",
    "\n",
    "\n",
    "        # train\n",
    "        running_train(X_train, Y_train, X_val, Y_val, i_fold=i_fold, seed=seed)\n",
    "\n",
    "        # predict on oof\n",
    "        print('predict on oof...', end='')\n",
    "        model = joblib.load( OUTPUT_PATH / 'models' / f'lightgbm_{i_fold}_{seed}_{CURRENT_TIME}.pkl')\n",
    "\n",
    "        prediction = model.predict_proba(X_val)[:, 1]\n",
    "\n",
    "        oof[val_idx, i_seed] = prediction\n",
    "        print('  done.')"
   ]
  },
  {
   "cell_type": "code",
   "execution_count": 114,
   "id": "30d65ade",
   "metadata": {},
   "outputs": [],
   "source": [
    "if n_fold != 1:\n",
    "    Y_predicted = (np.mean(oof, axis = 1) > prediction_threshold).astype(int)\n",
    "    Y_test = funnel[['client_id', 'sale_flg']].set_index('client_id')\n",
    "    test_funnel =  funnel.set_index('client_id')\n",
    "if n_fold == 1 and n_seed == 1:\n",
    "    Y_predicted = (prediction > prediction_threshold).astype(int)\n",
    "    Y_test = funnel[['client_id', 'sale_flg']].iloc[split_indexes[0][1]].set_index('client_id')\n",
    "    test_funnel = funnel.iloc[split_indexes[0][1]].set_index('client_id')"
   ]
  },
  {
   "cell_type": "code",
   "execution_count": 115,
   "id": "1376bb90",
   "metadata": {},
   "outputs": [],
   "source": [
    "if n_fold != 1:\n",
    "    Y_predicted = (np.mean(oof, axis = 1) > prediction_threshold).astype(int)\n",
    "    Y_test = funnel[['client_id', 'sale_flg']].set_index('client_id')\n",
    "    test_funnel =  funnel.set_index('client_id')\n",
    "if n_fold == 1 and n_seed == 1:\n",
    "    Y_predicted = (prediction > prediction_threshold).astype(int)\n",
    "    Y_test = funnel[['client_id', 'sale_flg']].iloc[split_indexes[0][1]].set_index('client_id')\n",
    "    test_funnel = funnel.iloc[split_indexes[0][1]].set_index('client_id')"
   ]
  },
  {
   "cell_type": "code",
   "execution_count": 116,
   "id": "2c60d127",
   "metadata": {},
   "outputs": [],
   "source": [
    "try: \n",
    "    os.mkdir(OUTPUT_PATH / 'scoring')\n",
    "except:\n",
    "    shutil.rmtree(OUTPUT_PATH / 'scoring')\n",
    "    os.mkdir(OUTPUT_PATH / 'scoring')"
   ]
  },
  {
   "cell_type": "code",
   "execution_count": 117,
   "id": "871df62e",
   "metadata": {},
   "outputs": [],
   "source": [
    "public_score, private_score = local_scorer.get_score(test_funnel, Y_predicted, Y_test)"
   ]
  },
  {
   "cell_type": "code",
   "execution_count": 118,
   "id": "9b4f9028",
   "metadata": {},
   "outputs": [],
   "source": [
    "validation_accuracy = accuracy_score(Y_test['sale_flg'], Y_predicted)\n",
    "print(f'Public ANIC {public_score} Private ANIC {private_score}')\n",
    "print(f'ANIC {1/3*public_score+ 2/3 * private_score}')\n",
    "print(f'Accuracy score: {validation_accuracy}')"
   ]
  },
  {
   "cell_type": "code",
   "execution_count": 119,
   "id": "6fe167fc",
   "metadata": {},
   "outputs": [],
   "source": [
    "def running_train(X_train, Y_train, X_val, Y_val, i_fold=None, seed=None, params = None):\n",
    "    # prepare for train\n",
    "    params = {\n",
    "#           \"objective\": \"cross_entropy\",\n",
    "          \"boosting_type\": \"dart\",\n",
    "#           \"learning_rate\": learning_rate,\n",
    "#           \"num_leaves\": num_leaves,\n",
    "#            \"max_bin\": 128,\n",
    "#           \"feature_fraction\": feature_fraction,\n",
    "#           \"min_child_samples\": 5,\n",
    "#           \"min_child_weight\": 50,\n",
    "#           \"min_split_gain\": 0.1,\n",
    "#           \"subsample\": 0.7,\n",
    "          'n_jobs': -1,\n",
    "          'random_state': seed\n",
    "          }\n",
    "    \n",
    "    params['random_state'] = seed\n",
    "    \n",
    "    \n",
    "    model = LGBMClassifier(**params) # define model here\n",
    "    \n",
    "    # Fit and save model\n",
    "    \n",
    "    if X_val is None:\n",
    "        model.fit(X_train, Y_train, verbose=False)\n",
    "    else:\n",
    "        model.fit(X_train, Y_train,   eval_set=(X_val, Y_val), early_stopping_rounds=500, verbose=False)\n",
    "    joblib.dump(model, OUTPUT_PATH / 'models' / f'lightgbm_{i_fold}_{seed}_{CURRENT_TIME}.pkl')"
   ]
  },
  {
   "cell_type": "code",
   "execution_count": 120,
   "id": "ce45ce91",
   "metadata": {},
   "outputs": [],
   "source": [
    "oof = np.zeros((X.shape[0], n_seed)) # cv_score\n",
    "seeds = []\n",
    "for i_seed in range(n_seed):\n",
    "    seed = FIXED_SEEDS[i_seed]\n",
    "    seed_everything(seed)\n",
    "\n",
    "    seeds.append(seed)\n",
    "    print('Seed: {}, {}/{}'.format(seed, i_seed + 1, n_seed))\n",
    "    \n",
    "    if n_fold != 1:\n",
    "        kf = KFold(n_splits=n_fold, random_state=seed, shuffle=True)\n",
    "        split_indexes = kf.split(X, Y)\n",
    "    else:\n",
    "        split_indexes = [train_test_split(np.arange(X.shape[0]), random_state=seed, shuffle = True)]\n",
    "    \n",
    "    for i_fold, (train_idx, val_idx) in enumerate(split_indexes):\n",
    "        print(\"# Fold: {}/{} (seed: {}/{})\".format(i_fold + 1, n_fold, i_seed + 1, n_seed))\n",
    "\n",
    "        # dataset\n",
    "        X_train, Y_train = X.iloc[train_idx], Y[train_idx]\n",
    "        X_val, Y_val = X.iloc[val_idx], Y[val_idx]\n",
    "\n",
    "\n",
    "        # train\n",
    "        running_train(X_train, Y_train, X_val, Y_val, i_fold=i_fold, seed=seed)\n",
    "\n",
    "        # predict on oof\n",
    "        print('predict on oof...', end='')\n",
    "        model = joblib.load( OUTPUT_PATH / 'models' / f'lightgbm_{i_fold}_{seed}_{CURRENT_TIME}.pkl')\n",
    "\n",
    "        prediction = model.predict_proba(X_val)[:, 1]\n",
    "\n",
    "        oof[val_idx, i_seed] = prediction\n",
    "        print('  done.')"
   ]
  },
  {
   "cell_type": "code",
   "execution_count": 121,
   "id": "4891c868",
   "metadata": {},
   "outputs": [],
   "source": [
    "if n_fold != 1:\n",
    "    Y_predicted = (np.mean(oof, axis = 1) > prediction_threshold).astype(int)\n",
    "    Y_test = funnel[['client_id', 'sale_flg']].set_index('client_id')\n",
    "    test_funnel =  funnel.set_index('client_id')\n",
    "if n_fold == 1 and n_seed == 1:\n",
    "    Y_predicted = (prediction > prediction_threshold).astype(int)\n",
    "    Y_test = funnel[['client_id', 'sale_flg']].iloc[split_indexes[0][1]].set_index('client_id')\n",
    "    test_funnel = funnel.iloc[split_indexes[0][1]].set_index('client_id')"
   ]
  },
  {
   "cell_type": "code",
   "execution_count": 122,
   "id": "ac1f80c8",
   "metadata": {},
   "outputs": [],
   "source": [
    "try: \n",
    "    os.mkdir(OUTPUT_PATH / 'scoring')\n",
    "except:\n",
    "    shutil.rmtree(OUTPUT_PATH / 'scoring')\n",
    "    os.mkdir(OUTPUT_PATH / 'scoring')"
   ]
  },
  {
   "cell_type": "code",
   "execution_count": 123,
   "id": "044d4779",
   "metadata": {},
   "outputs": [],
   "source": [
    "public_score, private_score = local_scorer.get_score(test_funnel, Y_predicted, Y_test)"
   ]
  },
  {
   "cell_type": "code",
   "execution_count": 124,
   "id": "34645c81",
   "metadata": {},
   "outputs": [],
   "source": [
    "validation_accuracy = accuracy_score(Y_test['sale_flg'], Y_predicted)\n",
    "print(f'Public ANIC {public_score} Private ANIC {private_score}')\n",
    "print(f'ANIC {1/3*public_score+ 2/3 * private_score}')\n",
    "print(f'Accuracy score: {validation_accuracy}')"
   ]
  },
  {
   "cell_type": "code",
   "execution_count": 125,
   "id": "d89f0e2c",
   "metadata": {},
   "outputs": [],
   "source": [
    "if n_fold != 1:\n",
    "    Y_predicted = (np.mean(oof, axis = 1) > 0.18).astype(int)\n",
    "    Y_test = funnel[['client_id', 'sale_flg']].set_index('client_id')\n",
    "    test_funnel =  funnel.set_index('client_id')\n",
    "if n_fold == 1 and n_seed == 1:\n",
    "    Y_predicted = (prediction > prediction_threshold).astype(int)\n",
    "    Y_test = funnel[['client_id', 'sale_flg']].iloc[split_indexes[0][1]].set_index('client_id')\n",
    "    test_funnel = funnel.iloc[split_indexes[0][1]].set_index('client_id')"
   ]
  },
  {
   "cell_type": "code",
   "execution_count": 126,
   "id": "5f3c6f30",
   "metadata": {},
   "outputs": [],
   "source": [
    "try: \n",
    "    os.mkdir(OUTPUT_PATH / 'scoring')\n",
    "except:\n",
    "    shutil.rmtree(OUTPUT_PATH / 'scoring')\n",
    "    os.mkdir(OUTPUT_PATH / 'scoring')"
   ]
  },
  {
   "cell_type": "code",
   "execution_count": 127,
   "id": "c125092d",
   "metadata": {},
   "outputs": [],
   "source": [
    "public_score, private_score = local_scorer.get_score(test_funnel, Y_predicted, Y_test)"
   ]
  },
  {
   "cell_type": "code",
   "execution_count": 128,
   "id": "fc0146c4",
   "metadata": {},
   "outputs": [],
   "source": [
    "validation_accuracy = accuracy_score(Y_test['sale_flg'], Y_predicted)\n",
    "print(f'Public ANIC {public_score} Private ANIC {private_score}')\n",
    "print(f'ANIC {1/3*public_score+ 2/3 * private_score}')\n",
    "print(f'Accuracy score: {validation_accuracy}')"
   ]
  },
  {
   "cell_type": "code",
   "execution_count": 129,
   "id": "5a78a126",
   "metadata": {},
   "outputs": [],
   "source": [
    "def running_train(X_train, Y_train, X_val, Y_val, i_fold=None, seed=None, params = None):\n",
    "    # prepare for train\n",
    "    params = {\n",
    "#           \"objective\": \"cross_entropy\",\n",
    "          \"boosting_type\": \"goss\",\n",
    "#           \"learning_rate\": learning_rate,\n",
    "#           \"num_leaves\": num_leaves,\n",
    "#            \"max_bin\": 128,\n",
    "#           \"feature_fraction\": feature_fraction,\n",
    "#           \"min_child_samples\": 5,\n",
    "#           \"min_child_weight\": 50,\n",
    "#           \"min_split_gain\": 0.1,\n",
    "#           \"subsample\": 0.7,\n",
    "          'n_jobs': -1,\n",
    "          'random_state': seed\n",
    "          }\n",
    "    \n",
    "    params['random_state'] = seed\n",
    "    \n",
    "    \n",
    "    model = LGBMClassifier(**params) # define model here\n",
    "    \n",
    "    # Fit and save model\n",
    "    \n",
    "    if X_val is None:\n",
    "        model.fit(X_train, Y_train, verbose=False)\n",
    "    else:\n",
    "        model.fit(X_train, Y_train,   eval_set=(X_val, Y_val), early_stopping_rounds=500, verbose=False)\n",
    "    joblib.dump(model, OUTPUT_PATH / 'models' / f'lightgbm_{i_fold}_{seed}_{CURRENT_TIME}.pkl')"
   ]
  },
  {
   "cell_type": "code",
   "execution_count": 130,
   "id": "0990d3e0",
   "metadata": {},
   "outputs": [],
   "source": [
    "oof = np.zeros((X.shape[0], n_seed)) # cv_score\n",
    "seeds = []\n",
    "for i_seed in range(n_seed):\n",
    "    seed = FIXED_SEEDS[i_seed]\n",
    "    seed_everything(seed)\n",
    "\n",
    "    seeds.append(seed)\n",
    "    print('Seed: {}, {}/{}'.format(seed, i_seed + 1, n_seed))\n",
    "    \n",
    "    if n_fold != 1:\n",
    "        kf = KFold(n_splits=n_fold, random_state=seed, shuffle=True)\n",
    "        split_indexes = kf.split(X, Y)\n",
    "    else:\n",
    "        split_indexes = [train_test_split(np.arange(X.shape[0]), random_state=seed, shuffle = True)]\n",
    "    \n",
    "    for i_fold, (train_idx, val_idx) in enumerate(split_indexes):\n",
    "        print(\"# Fold: {}/{} (seed: {}/{})\".format(i_fold + 1, n_fold, i_seed + 1, n_seed))\n",
    "\n",
    "        # dataset\n",
    "        X_train, Y_train = X.iloc[train_idx], Y[train_idx]\n",
    "        X_val, Y_val = X.iloc[val_idx], Y[val_idx]\n",
    "\n",
    "\n",
    "        # train\n",
    "        running_train(X_train, Y_train, X_val, Y_val, i_fold=i_fold, seed=seed)\n",
    "\n",
    "        # predict on oof\n",
    "        print('predict on oof...', end='')\n",
    "        model = joblib.load( OUTPUT_PATH / 'models' / f'lightgbm_{i_fold}_{seed}_{CURRENT_TIME}.pkl')\n",
    "\n",
    "        prediction = model.predict_proba(X_val)[:, 1]\n",
    "\n",
    "        oof[val_idx, i_seed] = prediction\n",
    "        print('  done.')"
   ]
  },
  {
   "cell_type": "code",
   "execution_count": 131,
   "id": "0eca2934",
   "metadata": {},
   "outputs": [],
   "source": [
    "if n_fold != 1:\n",
    "    Y_predicted = (np.mean(oof, axis = 1) > prediction_threshold).astype(int)\n",
    "    Y_test = funnel[['client_id', 'sale_flg']].set_index('client_id')\n",
    "    test_funnel =  funnel.set_index('client_id')\n",
    "if n_fold == 1 and n_seed == 1:\n",
    "    Y_predicted = (prediction > prediction_threshold).astype(int)\n",
    "    Y_test = funnel[['client_id', 'sale_flg']].iloc[split_indexes[0][1]].set_index('client_id')\n",
    "    test_funnel = funnel.iloc[split_indexes[0][1]].set_index('client_id')"
   ]
  },
  {
   "cell_type": "code",
   "execution_count": 132,
   "id": "72f0b830",
   "metadata": {},
   "outputs": [],
   "source": [
    "try: \n",
    "    os.mkdir(OUTPUT_PATH / 'scoring')\n",
    "except:\n",
    "    shutil.rmtree(OUTPUT_PATH / 'scoring')\n",
    "    os.mkdir(OUTPUT_PATH / 'scoring')"
   ]
  },
  {
   "cell_type": "code",
   "execution_count": 133,
   "id": "19d85ba4",
   "metadata": {},
   "outputs": [],
   "source": [
    "public_score, private_score = local_scorer.get_score(test_funnel, Y_predicted, Y_test)"
   ]
  },
  {
   "cell_type": "code",
   "execution_count": 134,
   "id": "a0ff24d7",
   "metadata": {},
   "outputs": [],
   "source": [
    "validation_accuracy = accuracy_score(Y_test['sale_flg'], Y_predicted)\n",
    "print(f'Public ANIC {public_score} Private ANIC {private_score}')\n",
    "print(f'ANIC {1/3*public_score+ 2/3 * private_score}')\n",
    "print(f'Accuracy score: {validation_accuracy}')"
   ]
  },
  {
   "cell_type": "code",
   "execution_count": 135,
   "id": "fa1b602b",
   "metadata": {},
   "outputs": [],
   "source": [
    "def running_train(X_train, Y_train, X_val, Y_val, i_fold=None, seed=None, params = None):\n",
    "    # prepare for train\n",
    "    params = {\n",
    "#           \"objective\": \"cross_entropy\",\n",
    "          \"learning_rate\": 1e-3,\n",
    "#           \"num_leaves\": num_leaves,\n",
    "#            \"max_bin\": 128,\n",
    "#           \"feature_fraction\": feature_fraction,\n",
    "#           \"min_child_samples\": 5,\n",
    "#           \"min_child_weight\": 50,\n",
    "#           \"min_split_gain\": 0.1,\n",
    "#           \"subsample\": 0.7,\n",
    "          'n_jobs': -1,\n",
    "          'random_state': seed\n",
    "          }\n",
    "    \n",
    "    params['random_state'] = seed\n",
    "    \n",
    "    \n",
    "    model = LGBMClassifier(**params) # define model here\n",
    "    \n",
    "    # Fit and save model\n",
    "    \n",
    "    if X_val is None:\n",
    "        model.fit(X_train, Y_train, verbose=False)\n",
    "    else:\n",
    "        model.fit(X_train, Y_train,   eval_set=(X_val, Y_val), early_stopping_rounds=500, verbose=False)\n",
    "    joblib.dump(model, OUTPUT_PATH / 'models' / f'lightgbm_{i_fold}_{seed}_{CURRENT_TIME}.pkl')"
   ]
  },
  {
   "cell_type": "code",
   "execution_count": 136,
   "id": "d4855990",
   "metadata": {},
   "outputs": [],
   "source": [
    "oof = np.zeros((X.shape[0], n_seed)) # cv_score\n",
    "seeds = []\n",
    "for i_seed in range(n_seed):\n",
    "    seed = FIXED_SEEDS[i_seed]\n",
    "    seed_everything(seed)\n",
    "\n",
    "    seeds.append(seed)\n",
    "    print('Seed: {}, {}/{}'.format(seed, i_seed + 1, n_seed))\n",
    "    \n",
    "    if n_fold != 1:\n",
    "        kf = KFold(n_splits=n_fold, random_state=seed, shuffle=True)\n",
    "        split_indexes = kf.split(X, Y)\n",
    "    else:\n",
    "        split_indexes = [train_test_split(np.arange(X.shape[0]), random_state=seed, shuffle = True)]\n",
    "    \n",
    "    for i_fold, (train_idx, val_idx) in enumerate(split_indexes):\n",
    "        print(\"# Fold: {}/{} (seed: {}/{})\".format(i_fold + 1, n_fold, i_seed + 1, n_seed))\n",
    "\n",
    "        # dataset\n",
    "        X_train, Y_train = X.iloc[train_idx], Y[train_idx]\n",
    "        X_val, Y_val = X.iloc[val_idx], Y[val_idx]\n",
    "\n",
    "\n",
    "        # train\n",
    "        running_train(X_train, Y_train, X_val, Y_val, i_fold=i_fold, seed=seed)\n",
    "\n",
    "        # predict on oof\n",
    "        print('predict on oof...', end='')\n",
    "        model = joblib.load( OUTPUT_PATH / 'models' / f'lightgbm_{i_fold}_{seed}_{CURRENT_TIME}.pkl')\n",
    "\n",
    "        prediction = model.predict_proba(X_val)[:, 1]\n",
    "\n",
    "        oof[val_idx, i_seed] = prediction\n",
    "        print('  done.')"
   ]
  },
  {
   "cell_type": "code",
   "execution_count": 137,
   "id": "2b0036d2",
   "metadata": {},
   "outputs": [],
   "source": [
    "if n_fold != 1:\n",
    "    Y_predicted = (np.mean(oof, axis = 1) > prediction_threshold).astype(int)\n",
    "    Y_test = funnel[['client_id', 'sale_flg']].set_index('client_id')\n",
    "    test_funnel =  funnel.set_index('client_id')\n",
    "if n_fold == 1 and n_seed == 1:\n",
    "    Y_predicted = (prediction > prediction_threshold).astype(int)\n",
    "    Y_test = funnel[['client_id', 'sale_flg']].iloc[split_indexes[0][1]].set_index('client_id')\n",
    "    test_funnel = funnel.iloc[split_indexes[0][1]].set_index('client_id')"
   ]
  },
  {
   "cell_type": "code",
   "execution_count": 138,
   "id": "ee344346",
   "metadata": {},
   "outputs": [],
   "source": [
    "try: \n",
    "    os.mkdir(OUTPUT_PATH / 'scoring')\n",
    "except:\n",
    "    shutil.rmtree(OUTPUT_PATH / 'scoring')\n",
    "    os.mkdir(OUTPUT_PATH / 'scoring')"
   ]
  },
  {
   "cell_type": "code",
   "execution_count": 139,
   "id": "9707ddf2",
   "metadata": {},
   "outputs": [],
   "source": [
    "if n_fold != 1:\n",
    "    Y_predicted = (np.mean(oof, axis = 1) > prediction_threshold).astype(int)\n",
    "    Y_test = funnel[['client_id', 'sale_flg']].set_index('client_id')\n",
    "    test_funnel =  funnel.set_index('client_id')\n",
    "if n_fold == 1 and n_seed == 1:\n",
    "    Y_predicted = (prediction > prediction_threshold).astype(int)\n",
    "    Y_test = funnel[['client_id', 'sale_flg']].iloc[split_indexes[0][1]].set_index('client_id')\n",
    "    test_funnel = funnel.iloc[split_indexes[0][1]].set_index('client_id')"
   ]
  },
  {
   "cell_type": "code",
   "execution_count": 140,
   "id": "9b166726",
   "metadata": {},
   "outputs": [],
   "source": [
    "try: \n",
    "    os.mkdir(OUTPUT_PATH / 'scoring')\n",
    "except:\n",
    "    shutil.rmtree(OUTPUT_PATH / 'scoring')\n",
    "    os.mkdir(OUTPUT_PATH / 'scoring')"
   ]
  },
  {
   "cell_type": "code",
   "execution_count": 141,
   "id": "50d9ecbb",
   "metadata": {},
   "outputs": [],
   "source": [
    "public_score, private_score = local_scorer.get_score(test_funnel, Y_predicted, Y_test)"
   ]
  },
  {
   "cell_type": "code",
   "execution_count": 142,
   "id": "b7c07e65",
   "metadata": {},
   "outputs": [],
   "source": [
    "validation_accuracy = accuracy_score(Y_test['sale_flg'], Y_predicted)\n",
    "print(f'Public ANIC {public_score} Private ANIC {private_score}')\n",
    "print(f'ANIC {1/3*public_score+ 2/3 * private_score}')\n",
    "print(f'Accuracy score: {validation_accuracy}')"
   ]
  },
  {
   "cell_type": "code",
   "execution_count": 143,
   "id": "6075814b",
   "metadata": {},
   "outputs": [],
   "source": [
    "if n_fold != 1:\n",
    "    Y_predicted = (np.mean(oof, axis = 1) > 0.5).astype(int)\n",
    "    Y_test = funnel[['client_id', 'sale_flg']].set_index('client_id')\n",
    "    test_funnel =  funnel.set_index('client_id')\n",
    "if n_fold == 1 and n_seed == 1:\n",
    "    Y_predicted = (prediction > prediction_threshold).astype(int)\n",
    "    Y_test = funnel[['client_id', 'sale_flg']].iloc[split_indexes[0][1]].set_index('client_id')\n",
    "    test_funnel = funnel.iloc[split_indexes[0][1]].set_index('client_id')"
   ]
  },
  {
   "cell_type": "code",
   "execution_count": 144,
   "id": "748fb768",
   "metadata": {},
   "outputs": [],
   "source": [
    "try: \n",
    "    os.mkdir(OUTPUT_PATH / 'scoring')\n",
    "except:\n",
    "    shutil.rmtree(OUTPUT_PATH / 'scoring')\n",
    "    os.mkdir(OUTPUT_PATH / 'scoring')"
   ]
  },
  {
   "cell_type": "code",
   "execution_count": 145,
   "id": "8cd6d388",
   "metadata": {},
   "outputs": [],
   "source": [
    "public_score, private_score = local_scorer.get_score(test_funnel, Y_predicted, Y_test)"
   ]
  },
  {
   "cell_type": "code",
   "execution_count": 146,
   "id": "1130fc75",
   "metadata": {},
   "outputs": [],
   "source": [
    "validation_accuracy = accuracy_score(Y_test['sale_flg'], Y_predicted)\n",
    "print(f'Public ANIC {public_score} Private ANIC {private_score}')\n",
    "print(f'ANIC {1/3*public_score+ 2/3 * private_score}')\n",
    "print(f'Accuracy score: {validation_accuracy}')"
   ]
  },
  {
   "cell_type": "code",
   "execution_count": 147,
   "id": "c2b8670f",
   "metadata": {},
   "outputs": [],
   "source": [
    "if n_fold != 1:\n",
    "    Y_predicted = (np.mean(oof, axis = 1) > 0.1).astype(int)\n",
    "    Y_test = funnel[['client_id', 'sale_flg']].set_index('client_id')\n",
    "    test_funnel =  funnel.set_index('client_id')\n",
    "if n_fold == 1 and n_seed == 1:\n",
    "    Y_predicted = (prediction > prediction_threshold).astype(int)\n",
    "    Y_test = funnel[['client_id', 'sale_flg']].iloc[split_indexes[0][1]].set_index('client_id')\n",
    "    test_funnel = funnel.iloc[split_indexes[0][1]].set_index('client_id')"
   ]
  },
  {
   "cell_type": "code",
   "execution_count": 148,
   "id": "06ed1428",
   "metadata": {},
   "outputs": [],
   "source": [
    "try: \n",
    "    os.mkdir(OUTPUT_PATH / 'scoring')\n",
    "except:\n",
    "    shutil.rmtree(OUTPUT_PATH / 'scoring')\n",
    "    os.mkdir(OUTPUT_PATH / 'scoring')"
   ]
  },
  {
   "cell_type": "code",
   "execution_count": 149,
   "id": "f424eda9",
   "metadata": {},
   "outputs": [],
   "source": [
    "public_score, private_score = local_scorer.get_score(test_funnel, Y_predicted, Y_test)"
   ]
  },
  {
   "cell_type": "code",
   "execution_count": 150,
   "id": "9659b8b6",
   "metadata": {},
   "outputs": [],
   "source": [
    "validation_accuracy = accuracy_score(Y_test['sale_flg'], Y_predicted)\n",
    "print(f'Public ANIC {public_score} Private ANIC {private_score}')\n",
    "print(f'ANIC {1/3*public_score+ 2/3 * private_score}')\n",
    "print(f'Accuracy score: {validation_accuracy}')"
   ]
  },
  {
   "cell_type": "code",
   "execution_count": 151,
   "id": "d91ee51a",
   "metadata": {},
   "outputs": [],
   "source": [
    "def running_train(X_train, Y_train, X_val, Y_val, i_fold=None, seed=None, params = None):\n",
    "    # prepare for train\n",
    "    params = {\n",
    "#           \"objective\": \"cross_entropy\",\n",
    "          \"learning_rate\": 1e-1,\n",
    "#           \"num_leaves\": num_leaves,\n",
    "#            \"max_bin\": 128,\n",
    "#           \"feature_fraction\": feature_fraction,\n",
    "#           \"min_child_samples\": 5,\n",
    "#           \"min_child_weight\": 50,\n",
    "#           \"min_split_gain\": 0.1,\n",
    "#           \"subsample\": 0.7,\n",
    "          'n_jobs': -1,\n",
    "          'random_state': seed\n",
    "          }\n",
    "    \n",
    "    params['random_state'] = seed\n",
    "    \n",
    "    \n",
    "    model = LGBMClassifier(**params) # define model here\n",
    "    \n",
    "    # Fit and save model\n",
    "    \n",
    "    if X_val is None:\n",
    "        model.fit(X_train, Y_train, verbose=False)\n",
    "    else:\n",
    "        model.fit(X_train, Y_train,   eval_set=(X_val, Y_val), early_stopping_rounds=500, verbose=False)\n",
    "    joblib.dump(model, OUTPUT_PATH / 'models' / f'lightgbm_{i_fold}_{seed}_{CURRENT_TIME}.pkl')"
   ]
  },
  {
   "cell_type": "code",
   "execution_count": 152,
   "id": "91af9692",
   "metadata": {},
   "outputs": [],
   "source": [
    "oof = np.zeros((X.shape[0], n_seed)) # cv_score\n",
    "seeds = []\n",
    "for i_seed in range(n_seed):\n",
    "    seed = FIXED_SEEDS[i_seed]\n",
    "    seed_everything(seed)\n",
    "\n",
    "    seeds.append(seed)\n",
    "    print('Seed: {}, {}/{}'.format(seed, i_seed + 1, n_seed))\n",
    "    \n",
    "    if n_fold != 1:\n",
    "        kf = KFold(n_splits=n_fold, random_state=seed, shuffle=True)\n",
    "        split_indexes = kf.split(X, Y)\n",
    "    else:\n",
    "        split_indexes = [train_test_split(np.arange(X.shape[0]), random_state=seed, shuffle = True)]\n",
    "    \n",
    "    for i_fold, (train_idx, val_idx) in enumerate(split_indexes):\n",
    "        print(\"# Fold: {}/{} (seed: {}/{})\".format(i_fold + 1, n_fold, i_seed + 1, n_seed))\n",
    "\n",
    "        # dataset\n",
    "        X_train, Y_train = X.iloc[train_idx], Y[train_idx]\n",
    "        X_val, Y_val = X.iloc[val_idx], Y[val_idx]\n",
    "\n",
    "\n",
    "        # train\n",
    "        running_train(X_train, Y_train, X_val, Y_val, i_fold=i_fold, seed=seed)\n",
    "\n",
    "        # predict on oof\n",
    "        print('predict on oof...', end='')\n",
    "        model = joblib.load( OUTPUT_PATH / 'models' / f'lightgbm_{i_fold}_{seed}_{CURRENT_TIME}.pkl')\n",
    "\n",
    "        prediction = model.predict_proba(X_val)[:, 1]\n",
    "\n",
    "        oof[val_idx, i_seed] = prediction\n",
    "        print('  done.')"
   ]
  },
  {
   "cell_type": "code",
   "execution_count": 153,
   "id": "ca741e53",
   "metadata": {},
   "outputs": [],
   "source": [
    "if n_fold != 1:\n",
    "    Y_predicted = (np.mean(oof, axis = 1) > prediction_threshold).astype(int)\n",
    "    Y_test = funnel[['client_id', 'sale_flg']].set_index('client_id')\n",
    "    test_funnel =  funnel.set_index('client_id')\n",
    "if n_fold == 1 and n_seed == 1:\n",
    "    Y_predicted = (prediction > prediction_threshold).astype(int)\n",
    "    Y_test = funnel[['client_id', 'sale_flg']].iloc[split_indexes[0][1]].set_index('client_id')\n",
    "    test_funnel = funnel.iloc[split_indexes[0][1]].set_index('client_id')"
   ]
  },
  {
   "cell_type": "code",
   "execution_count": 154,
   "id": "5aa60fce",
   "metadata": {},
   "outputs": [],
   "source": [
    "try: \n",
    "    os.mkdir(OUTPUT_PATH / 'scoring')\n",
    "except:\n",
    "    shutil.rmtree(OUTPUT_PATH / 'scoring')\n",
    "    os.mkdir(OUTPUT_PATH / 'scoring')"
   ]
  },
  {
   "cell_type": "code",
   "execution_count": 155,
   "id": "d6f26b7a",
   "metadata": {},
   "outputs": [],
   "source": [
    "if n_fold != 1:\n",
    "    Y_predicted = (np.mean(oof, axis = 1) > prediction_threshold).astype(int)\n",
    "    Y_test = funnel[['client_id', 'sale_flg']].set_index('client_id')\n",
    "    test_funnel =  funnel.set_index('client_id')\n",
    "if n_fold == 1 and n_seed == 1:\n",
    "    Y_predicted = (prediction > prediction_threshold).astype(int)\n",
    "    Y_test = funnel[['client_id', 'sale_flg']].iloc[split_indexes[0][1]].set_index('client_id')\n",
    "    test_funnel = funnel.iloc[split_indexes[0][1]].set_index('client_id')"
   ]
  },
  {
   "cell_type": "code",
   "execution_count": 156,
   "id": "5d2aea81",
   "metadata": {},
   "outputs": [],
   "source": [
    "try: \n",
    "    os.mkdir(OUTPUT_PATH / 'scoring')\n",
    "except:\n",
    "    shutil.rmtree(OUTPUT_PATH / 'scoring')\n",
    "    os.mkdir(OUTPUT_PATH / 'scoring')"
   ]
  },
  {
   "cell_type": "code",
   "execution_count": 157,
   "id": "6937d8c2",
   "metadata": {},
   "outputs": [],
   "source": [
    "public_score, private_score = local_scorer.get_score(test_funnel, Y_predicted, Y_test)"
   ]
  },
  {
   "cell_type": "code",
   "execution_count": 158,
   "id": "0bcf5ca7",
   "metadata": {},
   "outputs": [],
   "source": [
    "validation_accuracy = accuracy_score(Y_test['sale_flg'], Y_predicted)\n",
    "print(f'Public ANIC {public_score} Private ANIC {private_score}')\n",
    "print(f'ANIC {1/3*public_score+ 2/3 * private_score}')\n",
    "print(f'Accuracy score: {validation_accuracy}')"
   ]
  },
  {
   "cell_type": "code",
   "execution_count": 159,
   "id": "5169b126",
   "metadata": {},
   "outputs": [],
   "source": [
    "def running_train(X_train, Y_train, X_val, Y_val, i_fold=None, seed=None, params = None):\n",
    "    # prepare for train\n",
    "    params = {\n",
    "#           \"objective\": \"cross_entropy\",\n",
    "          \"learning_rate\": 1e1,\n",
    "#           \"num_leaves\": num_leaves,\n",
    "#            \"max_bin\": 128,\n",
    "#           \"feature_fraction\": feature_fraction,\n",
    "#           \"min_child_samples\": 5,\n",
    "#           \"min_child_weight\": 50,\n",
    "#           \"min_split_gain\": 0.1,\n",
    "#           \"subsample\": 0.7,\n",
    "          'n_jobs': -1,\n",
    "          'random_state': seed\n",
    "          }\n",
    "    \n",
    "    params['random_state'] = seed\n",
    "    \n",
    "    \n",
    "    model = LGBMClassifier(**params) # define model here\n",
    "    \n",
    "    # Fit and save model\n",
    "    \n",
    "    if X_val is None:\n",
    "        model.fit(X_train, Y_train, verbose=False)\n",
    "    else:\n",
    "        model.fit(X_train, Y_train,   eval_set=(X_val, Y_val), early_stopping_rounds=500, verbose=False)\n",
    "    joblib.dump(model, OUTPUT_PATH / 'models' / f'lightgbm_{i_fold}_{seed}_{CURRENT_TIME}.pkl')"
   ]
  },
  {
   "cell_type": "code",
   "execution_count": 160,
   "id": "36dcee86",
   "metadata": {},
   "outputs": [],
   "source": [
    "oof = np.zeros((X.shape[0], n_seed)) # cv_score\n",
    "seeds = []\n",
    "for i_seed in range(n_seed):\n",
    "    seed = FIXED_SEEDS[i_seed]\n",
    "    seed_everything(seed)\n",
    "\n",
    "    seeds.append(seed)\n",
    "    print('Seed: {}, {}/{}'.format(seed, i_seed + 1, n_seed))\n",
    "    \n",
    "    if n_fold != 1:\n",
    "        kf = KFold(n_splits=n_fold, random_state=seed, shuffle=True)\n",
    "        split_indexes = kf.split(X, Y)\n",
    "    else:\n",
    "        split_indexes = [train_test_split(np.arange(X.shape[0]), random_state=seed, shuffle = True)]\n",
    "    \n",
    "    for i_fold, (train_idx, val_idx) in enumerate(split_indexes):\n",
    "        print(\"# Fold: {}/{} (seed: {}/{})\".format(i_fold + 1, n_fold, i_seed + 1, n_seed))\n",
    "\n",
    "        # dataset\n",
    "        X_train, Y_train = X.iloc[train_idx], Y[train_idx]\n",
    "        X_val, Y_val = X.iloc[val_idx], Y[val_idx]\n",
    "\n",
    "\n",
    "        # train\n",
    "        running_train(X_train, Y_train, X_val, Y_val, i_fold=i_fold, seed=seed)\n",
    "\n",
    "        # predict on oof\n",
    "        print('predict on oof...', end='')\n",
    "        model = joblib.load( OUTPUT_PATH / 'models' / f'lightgbm_{i_fold}_{seed}_{CURRENT_TIME}.pkl')\n",
    "\n",
    "        prediction = model.predict_proba(X_val)[:, 1]\n",
    "\n",
    "        oof[val_idx, i_seed] = prediction\n",
    "        print('  done.')"
   ]
  },
  {
   "cell_type": "code",
   "execution_count": 161,
   "id": "329af9b0",
   "metadata": {},
   "outputs": [],
   "source": [
    "if n_fold != 1:\n",
    "    Y_predicted = (np.mean(oof, axis = 1) > prediction_threshold).astype(int)\n",
    "    Y_test = funnel[['client_id', 'sale_flg']].set_index('client_id')\n",
    "    test_funnel =  funnel.set_index('client_id')\n",
    "if n_fold == 1 and n_seed == 1:\n",
    "    Y_predicted = (prediction > prediction_threshold).astype(int)\n",
    "    Y_test = funnel[['client_id', 'sale_flg']].iloc[split_indexes[0][1]].set_index('client_id')\n",
    "    test_funnel = funnel.iloc[split_indexes[0][1]].set_index('client_id')"
   ]
  },
  {
   "cell_type": "code",
   "execution_count": 162,
   "id": "7ed7dede",
   "metadata": {},
   "outputs": [],
   "source": [
    "try: \n",
    "    os.mkdir(OUTPUT_PATH / 'scoring')\n",
    "except:\n",
    "    shutil.rmtree(OUTPUT_PATH / 'scoring')\n",
    "    os.mkdir(OUTPUT_PATH / 'scoring')"
   ]
  },
  {
   "cell_type": "code",
   "execution_count": 163,
   "id": "3faac58a",
   "metadata": {},
   "outputs": [],
   "source": [
    "public_score, private_score = local_scorer.get_score(test_funnel, Y_predicted, Y_test)"
   ]
  },
  {
   "cell_type": "code",
   "execution_count": 164,
   "id": "aa8404a7",
   "metadata": {},
   "outputs": [],
   "source": [
    "validation_accuracy = accuracy_score(Y_test['sale_flg'], Y_predicted)\n",
    "print(f'Public ANIC {public_score} Private ANIC {private_score}')\n",
    "print(f'ANIC {1/3*public_score+ 2/3 * private_score}')\n",
    "print(f'Accuracy score: {validation_accuracy}')"
   ]
  },
  {
   "cell_type": "code",
   "execution_count": 165,
   "id": "9619e038",
   "metadata": {},
   "outputs": [],
   "source": [
    "def running_train(X_train, Y_train, X_val, Y_val, i_fold=None, seed=None, params = None):\n",
    "    # prepare for train\n",
    "    params = {\n",
    "#           \"objective\": \"cross_entropy\",\n",
    "          \"learning_rate\": 3*1e-1,\n",
    "#           \"num_leaves\": num_leaves,\n",
    "#            \"max_bin\": 128,\n",
    "#           \"feature_fraction\": feature_fraction,\n",
    "#           \"min_child_samples\": 5,\n",
    "#           \"min_child_weight\": 50,\n",
    "#           \"min_split_gain\": 0.1,\n",
    "#           \"subsample\": 0.7,\n",
    "          'n_jobs': -1,\n",
    "          'random_state': seed\n",
    "          }\n",
    "    \n",
    "    params['random_state'] = seed\n",
    "    \n",
    "    \n",
    "    model = LGBMClassifier(**params) # define model here\n",
    "    \n",
    "    # Fit and save model\n",
    "    \n",
    "    if X_val is None:\n",
    "        model.fit(X_train, Y_train, verbose=False)\n",
    "    else:\n",
    "        model.fit(X_train, Y_train,   eval_set=(X_val, Y_val), early_stopping_rounds=500, verbose=False)\n",
    "    joblib.dump(model, OUTPUT_PATH / 'models' / f'lightgbm_{i_fold}_{seed}_{CURRENT_TIME}.pkl')"
   ]
  },
  {
   "cell_type": "code",
   "execution_count": 166,
   "id": "bf8f71ca",
   "metadata": {},
   "outputs": [],
   "source": [
    "oof = np.zeros((X.shape[0], n_seed)) # cv_score\n",
    "seeds = []\n",
    "for i_seed in range(n_seed):\n",
    "    seed = FIXED_SEEDS[i_seed]\n",
    "    seed_everything(seed)\n",
    "\n",
    "    seeds.append(seed)\n",
    "    print('Seed: {}, {}/{}'.format(seed, i_seed + 1, n_seed))\n",
    "    \n",
    "    if n_fold != 1:\n",
    "        kf = KFold(n_splits=n_fold, random_state=seed, shuffle=True)\n",
    "        split_indexes = kf.split(X, Y)\n",
    "    else:\n",
    "        split_indexes = [train_test_split(np.arange(X.shape[0]), random_state=seed, shuffle = True)]\n",
    "    \n",
    "    for i_fold, (train_idx, val_idx) in enumerate(split_indexes):\n",
    "        print(\"# Fold: {}/{} (seed: {}/{})\".format(i_fold + 1, n_fold, i_seed + 1, n_seed))\n",
    "\n",
    "        # dataset\n",
    "        X_train, Y_train = X.iloc[train_idx], Y[train_idx]\n",
    "        X_val, Y_val = X.iloc[val_idx], Y[val_idx]\n",
    "\n",
    "\n",
    "        # train\n",
    "        running_train(X_train, Y_train, X_val, Y_val, i_fold=i_fold, seed=seed)\n",
    "\n",
    "        # predict on oof\n",
    "        print('predict on oof...', end='')\n",
    "        model = joblib.load( OUTPUT_PATH / 'models' / f'lightgbm_{i_fold}_{seed}_{CURRENT_TIME}.pkl')\n",
    "\n",
    "        prediction = model.predict_proba(X_val)[:, 1]\n",
    "\n",
    "        oof[val_idx, i_seed] = prediction\n",
    "        print('  done.')"
   ]
  },
  {
   "cell_type": "code",
   "execution_count": 167,
   "id": "49b1cbcf",
   "metadata": {},
   "outputs": [],
   "source": [
    "if n_fold != 1:\n",
    "    Y_predicted = (np.mean(oof, axis = 1) > prediction_threshold).astype(int)\n",
    "    Y_test = funnel[['client_id', 'sale_flg']].set_index('client_id')\n",
    "    test_funnel =  funnel.set_index('client_id')\n",
    "if n_fold == 1 and n_seed == 1:\n",
    "    Y_predicted = (prediction > prediction_threshold).astype(int)\n",
    "    Y_test = funnel[['client_id', 'sale_flg']].iloc[split_indexes[0][1]].set_index('client_id')\n",
    "    test_funnel = funnel.iloc[split_indexes[0][1]].set_index('client_id')"
   ]
  },
  {
   "cell_type": "code",
   "execution_count": 168,
   "id": "42aae767",
   "metadata": {},
   "outputs": [],
   "source": [
    "try: \n",
    "    os.mkdir(OUTPUT_PATH / 'scoring')\n",
    "except:\n",
    "    shutil.rmtree(OUTPUT_PATH / 'scoring')\n",
    "    os.mkdir(OUTPUT_PATH / 'scoring')"
   ]
  },
  {
   "cell_type": "code",
   "execution_count": 169,
   "id": "aa79cc2c",
   "metadata": {},
   "outputs": [],
   "source": [
    "public_score, private_score = local_scorer.get_score(test_funnel, Y_predicted, Y_test)"
   ]
  },
  {
   "cell_type": "code",
   "execution_count": 170,
   "id": "c4cfa881",
   "metadata": {},
   "outputs": [],
   "source": [
    "validation_accuracy = accuracy_score(Y_test['sale_flg'], Y_predicted)\n",
    "print(f'Public ANIC {public_score} Private ANIC {private_score}')\n",
    "print(f'ANIC {1/3*public_score+ 2/3 * private_score}')\n",
    "print(f'Accuracy score: {validation_accuracy}')"
   ]
  },
  {
   "cell_type": "code",
   "execution_count": 171,
   "id": "c61777f4",
   "metadata": {},
   "outputs": [],
   "source": [
    "if n_fold != 1:\n",
    "    Y_predicted = (np.mean(oof, axis = 1) > prediction_threshold).astype(int)\n",
    "    Y_test = funnel[['client_id', 'sale_flg']].set_index('client_id')\n",
    "    test_funnel =  funnel.set_index('client_id')\n",
    "if n_fold == 1 and n_seed == 1:\n",
    "    Y_predicted = (prediction > prediction_threshold).astype(int)\n",
    "    Y_test = funnel[['client_id', 'sale_flg']].iloc[split_indexes[0][1]].set_index('client_id')\n",
    "    test_funnel = funnel.iloc[split_indexes[0][1]].set_index('client_id')"
   ]
  },
  {
   "cell_type": "code",
   "execution_count": 172,
   "id": "faa6ffc6",
   "metadata": {},
   "outputs": [],
   "source": [
    "try: \n",
    "    os.mkdir(OUTPUT_PATH / 'scoring')\n",
    "except:\n",
    "    shutil.rmtree(OUTPUT_PATH / 'scoring')\n",
    "    os.mkdir(OUTPUT_PATH / 'scoring')"
   ]
  },
  {
   "cell_type": "code",
   "execution_count": 173,
   "id": "66fc1b50",
   "metadata": {},
   "outputs": [],
   "source": [
    "public_score, private_score = local_scorer.get_score(test_funnel, Y_predicted, Y_test)"
   ]
  },
  {
   "cell_type": "code",
   "execution_count": 174,
   "id": "92558bed",
   "metadata": {},
   "outputs": [],
   "source": [
    "validation_accuracy = accuracy_score(Y_test['sale_flg'], Y_predicted)\n",
    "print(f'Public ANIC {public_score} Private ANIC {private_score}')\n",
    "print(f'ANIC {1/3*public_score+ 2/3 * private_score}')\n",
    "print(f'Accuracy score: {validation_accuracy}')"
   ]
  },
  {
   "cell_type": "code",
   "execution_count": 175,
   "id": "16653ae0",
   "metadata": {},
   "outputs": [],
   "source": [
    "def running_train(X_train, Y_train, X_val, Y_val, i_fold=None, seed=None, params = None):\n",
    "    # prepare for train\n",
    "    params = {\n",
    "#           \"objective\": \"cross_entropy\",\n",
    "          \"learning_rate\":5 *1e-2,\n",
    "#           \"num_leaves\": num_leaves,\n",
    "#            \"max_bin\": 128,\n",
    "#           \"feature_fraction\": feature_fraction,\n",
    "#           \"min_child_samples\": 5,\n",
    "#           \"min_child_weight\": 50,\n",
    "#           \"min_split_gain\": 0.1,\n",
    "#           \"subsample\": 0.7,\n",
    "          'n_jobs': -1,\n",
    "          'random_state': seed\n",
    "          }\n",
    "    \n",
    "    params['random_state'] = seed\n",
    "    \n",
    "    \n",
    "    model = LGBMClassifier(**params) # define model here\n",
    "    \n",
    "    # Fit and save model\n",
    "    \n",
    "    if X_val is None:\n",
    "        model.fit(X_train, Y_train, verbose=False)\n",
    "    else:\n",
    "        model.fit(X_train, Y_train,   eval_set=(X_val, Y_val), early_stopping_rounds=500, verbose=False)\n",
    "    joblib.dump(model, OUTPUT_PATH / 'models' / f'lightgbm_{i_fold}_{seed}_{CURRENT_TIME}.pkl')"
   ]
  },
  {
   "cell_type": "code",
   "execution_count": 176,
   "id": "380eecec",
   "metadata": {},
   "outputs": [],
   "source": [
    "oof = np.zeros((X.shape[0], n_seed)) # cv_score\n",
    "seeds = []\n",
    "for i_seed in range(n_seed):\n",
    "    seed = FIXED_SEEDS[i_seed]\n",
    "    seed_everything(seed)\n",
    "\n",
    "    seeds.append(seed)\n",
    "    print('Seed: {}, {}/{}'.format(seed, i_seed + 1, n_seed))\n",
    "    \n",
    "    if n_fold != 1:\n",
    "        kf = KFold(n_splits=n_fold, random_state=seed, shuffle=True)\n",
    "        split_indexes = kf.split(X, Y)\n",
    "    else:\n",
    "        split_indexes = [train_test_split(np.arange(X.shape[0]), random_state=seed, shuffle = True)]\n",
    "    \n",
    "    for i_fold, (train_idx, val_idx) in enumerate(split_indexes):\n",
    "        print(\"# Fold: {}/{} (seed: {}/{})\".format(i_fold + 1, n_fold, i_seed + 1, n_seed))\n",
    "\n",
    "        # dataset\n",
    "        X_train, Y_train = X.iloc[train_idx], Y[train_idx]\n",
    "        X_val, Y_val = X.iloc[val_idx], Y[val_idx]\n",
    "\n",
    "\n",
    "        # train\n",
    "        running_train(X_train, Y_train, X_val, Y_val, i_fold=i_fold, seed=seed)\n",
    "\n",
    "        # predict on oof\n",
    "        print('predict on oof...', end='')\n",
    "        model = joblib.load( OUTPUT_PATH / 'models' / f'lightgbm_{i_fold}_{seed}_{CURRENT_TIME}.pkl')\n",
    "\n",
    "        prediction = model.predict_proba(X_val)[:, 1]\n",
    "\n",
    "        oof[val_idx, i_seed] = prediction\n",
    "        print('  done.')"
   ]
  },
  {
   "cell_type": "code",
   "execution_count": 177,
   "id": "1a1a3dbd",
   "metadata": {},
   "outputs": [],
   "source": [
    "if n_fold != 1:\n",
    "    Y_predicted = (np.mean(oof, axis = 1) > prediction_threshold).astype(int)\n",
    "    Y_test = funnel[['client_id', 'sale_flg']].set_index('client_id')\n",
    "    test_funnel =  funnel.set_index('client_id')\n",
    "if n_fold == 1 and n_seed == 1:\n",
    "    Y_predicted = (prediction > prediction_threshold).astype(int)\n",
    "    Y_test = funnel[['client_id', 'sale_flg']].iloc[split_indexes[0][1]].set_index('client_id')\n",
    "    test_funnel = funnel.iloc[split_indexes[0][1]].set_index('client_id')"
   ]
  },
  {
   "cell_type": "code",
   "execution_count": 178,
   "id": "fc8f29ed",
   "metadata": {},
   "outputs": [],
   "source": [
    "try: \n",
    "    os.mkdir(OUTPUT_PATH / 'scoring')\n",
    "except:\n",
    "    shutil.rmtree(OUTPUT_PATH / 'scoring')\n",
    "    os.mkdir(OUTPUT_PATH / 'scoring')"
   ]
  },
  {
   "cell_type": "code",
   "execution_count": 179,
   "id": "dca4e3a9",
   "metadata": {},
   "outputs": [],
   "source": [
    "public_score, private_score = local_scorer.get_score(test_funnel, Y_predicted, Y_test)"
   ]
  },
  {
   "cell_type": "code",
   "execution_count": 180,
   "id": "6817bfcf",
   "metadata": {},
   "outputs": [],
   "source": [
    "validation_accuracy = accuracy_score(Y_test['sale_flg'], Y_predicted)\n",
    "print(f'Public ANIC {public_score} Private ANIC {private_score}')\n",
    "print(f'ANIC {1/3*public_score+ 2/3 * private_score}')\n",
    "print(f'Accuracy score: {validation_accuracy}')"
   ]
  },
  {
   "cell_type": "code",
   "execution_count": 181,
   "id": "5f2bdd61",
   "metadata": {},
   "outputs": [],
   "source": [
    "def running_train(X_train, Y_train, X_val, Y_val, i_fold=None, seed=None, params = None):\n",
    "    # prepare for train\n",
    "    params = {\n",
    "#           \"objective\": \"cross_entropy\",\n",
    "          \"num_leaves\": 256,\n",
    "#            \"max_bin\": 128,\n",
    "#           \"feature_fraction\": feature_fraction,\n",
    "#           \"min_child_samples\": 5,\n",
    "#           \"min_child_weight\": 50,\n",
    "#           \"min_split_gain\": 0.1,\n",
    "#           \"subsample\": 0.7,\n",
    "          'n_jobs': -1,\n",
    "          'random_state': seed\n",
    "          }\n",
    "    \n",
    "    params['random_state'] = seed\n",
    "    \n",
    "    \n",
    "    model = LGBMClassifier(**params) # define model here\n",
    "    \n",
    "    # Fit and save model\n",
    "    \n",
    "    if X_val is None:\n",
    "        model.fit(X_train, Y_train, verbose=False)\n",
    "    else:\n",
    "        model.fit(X_train, Y_train,   eval_set=(X_val, Y_val), early_stopping_rounds=500, verbose=False)\n",
    "    joblib.dump(model, OUTPUT_PATH / 'models' / f'lightgbm_{i_fold}_{seed}_{CURRENT_TIME}.pkl')"
   ]
  },
  {
   "cell_type": "code",
   "execution_count": 182,
   "id": "78efc02c",
   "metadata": {},
   "outputs": [],
   "source": [
    "oof = np.zeros((X.shape[0], n_seed)) # cv_score\n",
    "seeds = []\n",
    "for i_seed in range(n_seed):\n",
    "    seed = FIXED_SEEDS[i_seed]\n",
    "    seed_everything(seed)\n",
    "\n",
    "    seeds.append(seed)\n",
    "    print('Seed: {}, {}/{}'.format(seed, i_seed + 1, n_seed))\n",
    "    \n",
    "    if n_fold != 1:\n",
    "        kf = KFold(n_splits=n_fold, random_state=seed, shuffle=True)\n",
    "        split_indexes = kf.split(X, Y)\n",
    "    else:\n",
    "        split_indexes = [train_test_split(np.arange(X.shape[0]), random_state=seed, shuffle = True)]\n",
    "    \n",
    "    for i_fold, (train_idx, val_idx) in enumerate(split_indexes):\n",
    "        print(\"# Fold: {}/{} (seed: {}/{})\".format(i_fold + 1, n_fold, i_seed + 1, n_seed))\n",
    "\n",
    "        # dataset\n",
    "        X_train, Y_train = X.iloc[train_idx], Y[train_idx]\n",
    "        X_val, Y_val = X.iloc[val_idx], Y[val_idx]\n",
    "\n",
    "\n",
    "        # train\n",
    "        running_train(X_train, Y_train, X_val, Y_val, i_fold=i_fold, seed=seed)\n",
    "\n",
    "        # predict on oof\n",
    "        print('predict on oof...', end='')\n",
    "        model = joblib.load( OUTPUT_PATH / 'models' / f'lightgbm_{i_fold}_{seed}_{CURRENT_TIME}.pkl')\n",
    "\n",
    "        prediction = model.predict_proba(X_val)[:, 1]\n",
    "\n",
    "        oof[val_idx, i_seed] = prediction\n",
    "        print('  done.')"
   ]
  },
  {
   "cell_type": "code",
   "execution_count": 183,
   "id": "6e966a57",
   "metadata": {},
   "outputs": [],
   "source": [
    "if n_fold != 1:\n",
    "    Y_predicted = (np.mean(oof, axis = 1) > prediction_threshold).astype(int)\n",
    "    Y_test = funnel[['client_id', 'sale_flg']].set_index('client_id')\n",
    "    test_funnel =  funnel.set_index('client_id')\n",
    "if n_fold == 1 and n_seed == 1:\n",
    "    Y_predicted = (prediction > prediction_threshold).astype(int)\n",
    "    Y_test = funnel[['client_id', 'sale_flg']].iloc[split_indexes[0][1]].set_index('client_id')\n",
    "    test_funnel = funnel.iloc[split_indexes[0][1]].set_index('client_id')"
   ]
  },
  {
   "cell_type": "code",
   "execution_count": 184,
   "id": "12e2b51f",
   "metadata": {},
   "outputs": [],
   "source": [
    "try: \n",
    "    os.mkdir(OUTPUT_PATH / 'scoring')\n",
    "except:\n",
    "    shutil.rmtree(OUTPUT_PATH / 'scoring')\n",
    "    os.mkdir(OUTPUT_PATH / 'scoring')"
   ]
  },
  {
   "cell_type": "code",
   "execution_count": 185,
   "id": "7d2c8503",
   "metadata": {},
   "outputs": [],
   "source": [
    "public_score, private_score = local_scorer.get_score(test_funnel, Y_predicted, Y_test)"
   ]
  },
  {
   "cell_type": "code",
   "execution_count": 186,
   "id": "f35eef64",
   "metadata": {},
   "outputs": [],
   "source": [
    "validation_accuracy = accuracy_score(Y_test['sale_flg'], Y_predicted)\n",
    "print(f'Public ANIC {public_score} Private ANIC {private_score}')\n",
    "print(f'ANIC {1/3*public_score+ 2/3 * private_score}')\n",
    "print(f'Accuracy score: {validation_accuracy}')"
   ]
  },
  {
   "cell_type": "code",
   "execution_count": 187,
   "id": "b068e3c1",
   "metadata": {},
   "outputs": [],
   "source": [
    "target_ = np.mean(oof, axis = 1)\n",
    "Y_predicted = (target_ > np.quantile(target_, 0.2)).astype(int)\n",
    "if n_fold != 1:\n",
    "    #Y_predicted = (np.mean(oof, axis = 1) > prediction_threshold).astype(int)\n",
    "    Y_test = funnel[['client_id', 'sale_flg']].set_index('client_id')\n",
    "    test_funnel =  funnel.set_index('client_id')\n",
    "if n_fold == 1 and n_seed == 1:\n",
    "    Y_predicted = (prediction > prediction_threshold).astype(int)\n",
    "    Y_test = funnel[['client_id', 'sale_flg']].iloc[split_indexes[0][1]].set_index('client_id')\n",
    "    test_funnel = funnel.iloc[split_indexes[0][1]].set_index('client_id')"
   ]
  },
  {
   "cell_type": "code",
   "execution_count": 188,
   "id": "bae9adb5",
   "metadata": {},
   "outputs": [],
   "source": [
    "try: \n",
    "    os.mkdir(OUTPUT_PATH / 'scoring')\n",
    "except:\n",
    "    shutil.rmtree(OUTPUT_PATH / 'scoring')\n",
    "    os.mkdir(OUTPUT_PATH / 'scoring')"
   ]
  },
  {
   "cell_type": "code",
   "execution_count": 189,
   "id": "c62c3806",
   "metadata": {},
   "outputs": [],
   "source": [
    "public_score, private_score = local_scorer.get_score(test_funnel, Y_predicted, Y_test)"
   ]
  },
  {
   "cell_type": "code",
   "execution_count": 190,
   "id": "ceb2762b",
   "metadata": {},
   "outputs": [],
   "source": [
    "validation_accuracy = accuracy_score(Y_test['sale_flg'], Y_predicted)\n",
    "print(f'Public ANIC {public_score} Private ANIC {private_score}')\n",
    "print(f'ANIC {1/3*public_score+ 2/3 * private_score}')\n",
    "print(f'Accuracy score: {validation_accuracy}')"
   ]
  },
  {
   "cell_type": "code",
   "execution_count": 191,
   "id": "16891ada",
   "metadata": {},
   "outputs": [],
   "source": [
    "target_ = np.mean(oof, axis = 1)\n",
    "Y_predicted = (target_ > np.quantile(target_, 0.4)).astype(int)\n",
    "if n_fold != 1:\n",
    "    #Y_predicted = (np.mean(oof, axis = 1) > prediction_threshold).astype(int)\n",
    "    Y_test = funnel[['client_id', 'sale_flg']].set_index('client_id')\n",
    "    test_funnel =  funnel.set_index('client_id')\n",
    "if n_fold == 1 and n_seed == 1:\n",
    "    Y_predicted = (prediction > prediction_threshold).astype(int)\n",
    "    Y_test = funnel[['client_id', 'sale_flg']].iloc[split_indexes[0][1]].set_index('client_id')\n",
    "    test_funnel = funnel.iloc[split_indexes[0][1]].set_index('client_id')"
   ]
  },
  {
   "cell_type": "code",
   "execution_count": 192,
   "id": "33d6700d",
   "metadata": {},
   "outputs": [],
   "source": [
    "try: \n",
    "    os.mkdir(OUTPUT_PATH / 'scoring')\n",
    "except:\n",
    "    shutil.rmtree(OUTPUT_PATH / 'scoring')\n",
    "    os.mkdir(OUTPUT_PATH / 'scoring')"
   ]
  },
  {
   "cell_type": "code",
   "execution_count": 193,
   "id": "4a1f2efc",
   "metadata": {},
   "outputs": [],
   "source": [
    "public_score, private_score = local_scorer.get_score(test_funnel, Y_predicted, Y_test)"
   ]
  },
  {
   "cell_type": "code",
   "execution_count": 194,
   "id": "775e98be",
   "metadata": {},
   "outputs": [],
   "source": [
    "validation_accuracy = accuracy_score(Y_test['sale_flg'], Y_predicted)\n",
    "print(f'Public ANIC {public_score} Private ANIC {private_score}')\n",
    "print(f'ANIC {1/3*public_score+ 2/3 * private_score}')\n",
    "print(f'Accuracy score: {validation_accuracy}')"
   ]
  },
  {
   "cell_type": "code",
   "execution_count": 195,
   "id": "edfad485",
   "metadata": {},
   "outputs": [],
   "source": [
    "target_ = np.mean(oof, axis = 1)\n",
    "Y_predicted = (target_ > np.quantile(target_, 0.5)).astype(int)\n",
    "if n_fold != 1:\n",
    "    #Y_predicted = (np.mean(oof, axis = 1) > prediction_threshold).astype(int)\n",
    "    Y_test = funnel[['client_id', 'sale_flg']].set_index('client_id')\n",
    "    test_funnel =  funnel.set_index('client_id')\n",
    "if n_fold == 1 and n_seed == 1:\n",
    "    Y_predicted = (prediction > prediction_threshold).astype(int)\n",
    "    Y_test = funnel[['client_id', 'sale_flg']].iloc[split_indexes[0][1]].set_index('client_id')\n",
    "    test_funnel = funnel.iloc[split_indexes[0][1]].set_index('client_id')"
   ]
  },
  {
   "cell_type": "code",
   "execution_count": 196,
   "id": "8ec6a51b",
   "metadata": {},
   "outputs": [],
   "source": [
    "try: \n",
    "    os.mkdir(OUTPUT_PATH / 'scoring')\n",
    "except:\n",
    "    shutil.rmtree(OUTPUT_PATH / 'scoring')\n",
    "    os.mkdir(OUTPUT_PATH / 'scoring')"
   ]
  },
  {
   "cell_type": "code",
   "execution_count": 197,
   "id": "a7890789",
   "metadata": {},
   "outputs": [],
   "source": [
    "public_score, private_score = local_scorer.get_score(test_funnel, Y_predicted, Y_test)"
   ]
  },
  {
   "cell_type": "code",
   "execution_count": 198,
   "id": "97d43b97",
   "metadata": {},
   "outputs": [],
   "source": [
    "validation_accuracy = accuracy_score(Y_test['sale_flg'], Y_predicted)\n",
    "print(f'Public ANIC {public_score} Private ANIC {private_score}')\n",
    "print(f'ANIC {1/3*public_score+ 2/3 * private_score}')\n",
    "print(f'Accuracy score: {validation_accuracy}')"
   ]
  },
  {
   "cell_type": "code",
   "execution_count": 199,
   "id": "29484435",
   "metadata": {},
   "outputs": [],
   "source": [
    "target_ = np.mean(oof, axis = 1)\n",
    "Y_predicted = (target_ > np.quantile(target_, 0.8)).astype(int)\n",
    "if n_fold != 1:\n",
    "    #Y_predicted = (np.mean(oof, axis = 1) > prediction_threshold).astype(int)\n",
    "    Y_test = funnel[['client_id', 'sale_flg']].set_index('client_id')\n",
    "    test_funnel =  funnel.set_index('client_id')\n",
    "if n_fold == 1 and n_seed == 1:\n",
    "    Y_predicted = (prediction > prediction_threshold).astype(int)\n",
    "    Y_test = funnel[['client_id', 'sale_flg']].iloc[split_indexes[0][1]].set_index('client_id')\n",
    "    test_funnel = funnel.iloc[split_indexes[0][1]].set_index('client_id')"
   ]
  },
  {
   "cell_type": "code",
   "execution_count": 200,
   "id": "08bb92e4",
   "metadata": {},
   "outputs": [],
   "source": [
    "try: \n",
    "    os.mkdir(OUTPUT_PATH / 'scoring')\n",
    "except:\n",
    "    shutil.rmtree(OUTPUT_PATH / 'scoring')\n",
    "    os.mkdir(OUTPUT_PATH / 'scoring')"
   ]
  },
  {
   "cell_type": "code",
   "execution_count": 201,
   "id": "c7b2a7a2",
   "metadata": {},
   "outputs": [],
   "source": [
    "public_score, private_score = local_scorer.get_score(test_funnel, Y_predicted, Y_test)"
   ]
  },
  {
   "cell_type": "code",
   "execution_count": 202,
   "id": "67b3a8f7",
   "metadata": {},
   "outputs": [],
   "source": [
    "validation_accuracy = accuracy_score(Y_test['sale_flg'], Y_predicted)\n",
    "print(f'Public ANIC {public_score} Private ANIC {private_score}')\n",
    "print(f'ANIC {1/3*public_score+ 2/3 * private_score}')\n",
    "print(f'Accuracy score: {validation_accuracy}')"
   ]
  },
  {
   "cell_type": "code",
   "execution_count": 203,
   "id": "bfe08b40",
   "metadata": {},
   "outputs": [
    {
     "name": "stdout",
     "output_type": "stream",
     "text": [
      "<AxesSubplot:title={'center':'Feature importance'}, xlabel='Feature importance', ylabel='Features'>"
     ]
    }
   ],
   "source": [
    "import lightgbm\n",
    "import matplotlib.pyplot as plt\n",
    "plt.figure(figsize = (30, 30))\n",
    "lightgbm.plot_importance(model)"
   ]
  },
  {
   "cell_type": "code",
   "execution_count": 204,
   "id": "4099dc6b",
   "metadata": {},
   "outputs": [],
   "source": [
    "target_ = np.mean(oof, axis = 1)\n",
    "Y_predicted = (target_ > np.quantile(target_, 0.1)).astype(int)\n",
    "if n_fold != 1:\n",
    "    #Y_predicted = (np.mean(oof, axis = 1) > prediction_threshold).astype(int)\n",
    "    Y_test = funnel[['client_id', 'sale_flg']].set_index('client_id')\n",
    "    test_funnel =  funnel.set_index('client_id')\n",
    "if n_fold == 1 and n_seed == 1:\n",
    "    Y_predicted = (prediction > prediction_threshold).astype(int)\n",
    "    Y_test = funnel[['client_id', 'sale_flg']].iloc[split_indexes[0][1]].set_index('client_id')\n",
    "    test_funnel = funnel.iloc[split_indexes[0][1]].set_index('client_id')"
   ]
  },
  {
   "cell_type": "code",
   "execution_count": 205,
   "id": "e6ba4cd3",
   "metadata": {},
   "outputs": [],
   "source": [
    "try: \n",
    "    os.mkdir(OUTPUT_PATH / 'scoring')\n",
    "except:\n",
    "    shutil.rmtree(OUTPUT_PATH / 'scoring')\n",
    "    os.mkdir(OUTPUT_PATH / 'scoring')"
   ]
  },
  {
   "cell_type": "code",
   "execution_count": 206,
   "id": "92db37b9",
   "metadata": {},
   "outputs": [],
   "source": [
    "public_score, private_score = local_scorer.get_score(test_funnel, Y_predicted, Y_test)"
   ]
  },
  {
   "cell_type": "code",
   "execution_count": 207,
   "id": "7e560091",
   "metadata": {},
   "outputs": [],
   "source": [
    "validation_accuracy = accuracy_score(Y_test['sale_flg'], Y_predicted)\n",
    "print(f'Public ANIC {public_score} Private ANIC {private_score}')\n",
    "print(f'ANIC {1/3*public_score+ 2/3 * private_score}')\n",
    "print(f'Accuracy score: {validation_accuracy}')"
   ]
  },
  {
   "cell_type": "code",
   "execution_count": 208,
   "id": "7d0a8178",
   "metadata": {},
   "outputs": [],
   "source": [
    "target_ = np.mean(oof, axis = 1)\n",
    "#Y_predicted = (target_ > np.quantile(target_, 0.1)).astype(int)\n",
    "if n_fold != 1:\n",
    "    Y_predicted = (np.mean(oof, axis = 1) > prediction_threshold).astype(int)\n",
    "    Y_test = funnel[['client_id', 'sale_flg']].set_index('client_id')\n",
    "    test_funnel =  funnel.set_index('client_id')\n",
    "if n_fold == 1 and n_seed == 1:\n",
    "    Y_predicted = (prediction > prediction_threshold).astype(int)\n",
    "    Y_test = funnel[['client_id', 'sale_flg']].iloc[split_indexes[0][1]].set_index('client_id')\n",
    "    test_funnel = funnel.iloc[split_indexes[0][1]].set_index('client_id')"
   ]
  },
  {
   "cell_type": "code",
   "execution_count": 209,
   "id": "dcb3c760",
   "metadata": {},
   "outputs": [],
   "source": [
    "try: \n",
    "    os.mkdir(OUTPUT_PATH / 'scoring')\n",
    "except:\n",
    "    shutil.rmtree(OUTPUT_PATH / 'scoring')\n",
    "    os.mkdir(OUTPUT_PATH / 'scoring')"
   ]
  },
  {
   "cell_type": "code",
   "execution_count": 210,
   "id": "205a3c5c",
   "metadata": {},
   "outputs": [],
   "source": [
    "public_score, private_score = local_scorer.get_score(test_funnel, Y_predicted, Y_test)"
   ]
  },
  {
   "cell_type": "code",
   "execution_count": 211,
   "id": "2b57bb26",
   "metadata": {},
   "outputs": [],
   "source": [
    "validation_accuracy = accuracy_score(Y_test['sale_flg'], Y_predicted)\n",
    "print(f'Public ANIC {public_score} Private ANIC {private_score}')\n",
    "print(f'ANIC {1/3*public_score+ 2/3 * private_score}')\n",
    "print(f'Accuracy score: {validation_accuracy}')"
   ]
  },
  {
   "cell_type": "code",
   "execution_count": 212,
   "id": "4c9b7743",
   "metadata": {},
   "outputs": [],
   "source": [
    "target_ = np.mean(oof, axis = 1)\n",
    "Y_predicted = (target_ > np.quantile(target_, 0.8)).astype(int)\n",
    "if n_fold != 1:\n",
    "    #Y_predicted = (np.mean(oof, axis = 1) > prediction_threshold).astype(int)\n",
    "    Y_test = funnel[['client_id', 'sale_flg']].set_index('client_id')\n",
    "    test_funnel =  funnel.set_index('client_id')\n",
    "if n_fold == 1 and n_seed == 1:\n",
    "    Y_predicted = (prediction > prediction_threshold).astype(int)\n",
    "    Y_test = funnel[['client_id', 'sale_flg']].iloc[split_indexes[0][1]].set_index('client_id')\n",
    "    test_funnel = funnel.iloc[split_indexes[0][1]].set_index('client_id')"
   ]
  },
  {
   "cell_type": "code",
   "execution_count": 213,
   "id": "7772a3e5",
   "metadata": {},
   "outputs": [],
   "source": [
    "try: \n",
    "    os.mkdir(OUTPUT_PATH / 'scoring')\n",
    "except:\n",
    "    shutil.rmtree(OUTPUT_PATH / 'scoring')\n",
    "    os.mkdir(OUTPUT_PATH / 'scoring')"
   ]
  },
  {
   "cell_type": "code",
   "execution_count": 214,
   "id": "ca8b3d07",
   "metadata": {},
   "outputs": [],
   "source": [
    "public_score, private_score = local_scorer.get_score(test_funnel, Y_predicted, Y_test)"
   ]
  },
  {
   "cell_type": "code",
   "execution_count": 215,
   "id": "a5b12cbf",
   "metadata": {},
   "outputs": [],
   "source": [
    "validation_accuracy = accuracy_score(Y_test['sale_flg'], Y_predicted)\n",
    "print(f'Public ANIC {public_score} Private ANIC {private_score}')\n",
    "print(f'ANIC {1/3*public_score+ 2/3 * private_score}')\n",
    "print(f'Accuracy score: {validation_accuracy}')"
   ]
  },
  {
   "cell_type": "code",
   "execution_count": 216,
   "id": "68ec8782",
   "metadata": {},
   "outputs": [],
   "source": [
    "target_ = np.mean(oof, axis = 1)\n",
    "Y_predicted = (target_ > np.quantile(target_, 0.95)).astype(int)\n",
    "if n_fold != 1:\n",
    "    #Y_predicted = (np.mean(oof, axis = 1) > prediction_threshold).astype(int)\n",
    "    Y_test = funnel[['client_id', 'sale_flg']].set_index('client_id')\n",
    "    test_funnel =  funnel.set_index('client_id')\n",
    "if n_fold == 1 and n_seed == 1:\n",
    "    Y_predicted = (prediction > prediction_threshold).astype(int)\n",
    "    Y_test = funnel[['client_id', 'sale_flg']].iloc[split_indexes[0][1]].set_index('client_id')\n",
    "    test_funnel = funnel.iloc[split_indexes[0][1]].set_index('client_id')"
   ]
  },
  {
   "cell_type": "code",
   "execution_count": 217,
   "id": "ca9f8ee3",
   "metadata": {},
   "outputs": [],
   "source": [
    "try: \n",
    "    os.mkdir(OUTPUT_PATH / 'scoring')\n",
    "except:\n",
    "    shutil.rmtree(OUTPUT_PATH / 'scoring')\n",
    "    os.mkdir(OUTPUT_PATH / 'scoring')"
   ]
  },
  {
   "cell_type": "code",
   "execution_count": 218,
   "id": "90a50bb3",
   "metadata": {},
   "outputs": [],
   "source": [
    "public_score, private_score = local_scorer.get_score(test_funnel, Y_predicted, Y_test)"
   ]
  },
  {
   "cell_type": "code",
   "execution_count": 219,
   "id": "4dd0a662",
   "metadata": {},
   "outputs": [],
   "source": [
    "validation_accuracy = accuracy_score(Y_test['sale_flg'], Y_predicted)\n",
    "print(f'Public ANIC {public_score} Private ANIC {private_score}')\n",
    "print(f'ANIC {1/3*public_score+ 2/3 * private_score}')\n",
    "print(f'Accuracy score: {validation_accuracy}')"
   ]
  },
  {
   "cell_type": "code",
   "execution_count": 220,
   "id": "7aa8318f",
   "metadata": {},
   "outputs": [],
   "source": [
    "target_ = np.mean(oof, axis = 1)\n",
    "Y_predicted = (target_ > np.quantile(target_, 0.85)).astype(int)\n",
    "if n_fold != 1:\n",
    "    #Y_predicted = (np.mean(oof, axis = 1) > prediction_threshold).astype(int)\n",
    "    Y_test = funnel[['client_id', 'sale_flg']].set_index('client_id')\n",
    "    test_funnel =  funnel.set_index('client_id')\n",
    "if n_fold == 1 and n_seed == 1:\n",
    "    Y_predicted = (prediction > prediction_threshold).astype(int)\n",
    "    Y_test = funnel[['client_id', 'sale_flg']].iloc[split_indexes[0][1]].set_index('client_id')\n",
    "    test_funnel = funnel.iloc[split_indexes[0][1]].set_index('client_id')"
   ]
  },
  {
   "cell_type": "code",
   "execution_count": 221,
   "id": "0c70bb72",
   "metadata": {},
   "outputs": [],
   "source": [
    "try: \n",
    "    os.mkdir(OUTPUT_PATH / 'scoring')\n",
    "except:\n",
    "    shutil.rmtree(OUTPUT_PATH / 'scoring')\n",
    "    os.mkdir(OUTPUT_PATH / 'scoring')"
   ]
  },
  {
   "cell_type": "code",
   "execution_count": 222,
   "id": "9fb5ef68",
   "metadata": {},
   "outputs": [],
   "source": [
    "public_score, private_score = local_scorer.get_score(test_funnel, Y_predicted, Y_test)"
   ]
  },
  {
   "cell_type": "code",
   "execution_count": 223,
   "id": "dcca55f1",
   "metadata": {},
   "outputs": [],
   "source": [
    "validation_accuracy = accuracy_score(Y_test['sale_flg'], Y_predicted)\n",
    "print(f'Public ANIC {public_score} Private ANIC {private_score}')\n",
    "print(f'ANIC {1/3*public_score+ 2/3 * private_score}')\n",
    "print(f'Accuracy score: {validation_accuracy}')"
   ]
  },
  {
   "cell_type": "code",
   "execution_count": 224,
   "id": "18a09803",
   "metadata": {},
   "outputs": [],
   "source": [
    "# data merge\n",
    "data = funnel.copy()\n",
    "data = funnel.merge(client, on=['client_id'])"
   ]
  },
  {
   "cell_type": "code",
   "execution_count": 225,
   "id": "799dcc61",
   "metadata": {},
   "outputs": [],
   "source": [
    "data['sale_flg'] = ((funnel['sale_flg'] * funnel['sale_amount'].fillna(0) - funnel['contacts'].fillna(0)*400/0.1) > -4000).astype(int)"
   ]
  },
  {
   "cell_type": "code",
   "execution_count": 226,
   "id": "ccfa7229",
   "metadata": {},
   "outputs": [],
   "source": [
    "for feature_1 in [f'feature_{i}'for i in range(1, 11)]:\n",
    "    data[f'{feature_1} ** 2'] = data[feature_1] ** 2\n",
    "    data[f'{feature_1} ** 0.5'] = data[feature_1] ** 0.5\n",
    "    data[f'{feature_1} log'] = np.log(data[feature_1])"
   ]
  },
  {
   "cell_type": "code",
   "execution_count": 227,
   "id": "a0b3aa23",
   "metadata": {},
   "outputs": [],
   "source": [
    "# for feature_1 in [f'feature_{i}'for i in range(1, 11)]:\n",
    "#     for feature_2 in [f'feature_{i}'for i in range(1, 11)]:\n",
    "#         if feature_1 != feature_2:\n",
    "#             data[f'{feature_1} + {feature_2}'] = data[feature_1] + data[feature_2]\n",
    "#             data[f'{feature_1} * {feature_2}'] = data[feature_1] * data[feature_2]\n",
    "#             data[f'{feature_1} / {feature_2}'] = data[feature_1] / data[feature_2]\n",
    "#             data[f'{feature_1} - {feature_2}'] = data[feature_1] - data[feature_2]"
   ]
  },
  {
   "cell_type": "code",
   "execution_count": 228,
   "id": "57439eb1",
   "metadata": {},
   "outputs": [],
   "source": [
    "%%time\n",
    "# create features\n",
    "\n",
    "# data = create_features_transactions(data)\n",
    "# data = create_features_aum(data)\n",
    "# data = create_features_balance(data)\n",
    "# data = create_features_client(data)\n",
    "# data = create_features_campaigns(data)\n",
    "# data = create_features_deals(data)\n",
    "# data = create_features_dict_mcc(data)\n",
    "# data = create_features_payments(data)\n",
    "# data = create_features_appl(data)\n",
    "# data = create_features_funnel(data)\n",
    "# data = create_features_deals(data)"
   ]
  },
  {
   "cell_type": "code",
   "execution_count": 229,
   "id": "dd7668c1",
   "metadata": {},
   "outputs": [],
   "source": [
    "try:\n",
    "    os.mkdir(OUTPUT_PATH / 'preprocessors')\n",
    "except:\n",
    "    shutil.rmtree(OUTPUT_PATH / 'preprocessors')\n",
    "    os.mkdir(OUTPUT_PATH / 'preprocessors')"
   ]
  },
  {
   "cell_type": "code",
   "execution_count": 230,
   "id": "021e65ec",
   "metadata": {},
   "outputs": [],
   "source": [
    "# data encode\n",
    "\n",
    "for c in data.columns:\n",
    "    col_type = data[c].dtype\n",
    "    if col_type == 'object' or col_type.name == 'category':\n",
    "        data[c] = data[c].astype('category')"
   ]
  },
  {
   "cell_type": "code",
   "execution_count": 231,
   "id": "fa237d7d",
   "metadata": {},
   "outputs": [],
   "source": [
    "TARGET_COLUMNS =  ['sale_flg', 'sale_amount', 'contacts']"
   ]
  },
  {
   "cell_type": "code",
   "execution_count": 232,
   "id": "78e06c2d",
   "metadata": {},
   "outputs": [],
   "source": [
    "X = data.drop(columns = TARGET_COLUMNS + ['client_id'])\n",
    "Y = data[TARGET_COLUMNS[0]]"
   ]
  },
  {
   "cell_type": "code",
   "execution_count": 233,
   "id": "02780568",
   "metadata": {},
   "outputs": [],
   "source": [
    "import shutil\n",
    "try:\n",
    "    os.mkdir(OUTPUT_PATH / 'models')\n",
    "except:\n",
    "    shutil.rmtree(OUTPUT_PATH / 'models')\n",
    "    os.mkdir(OUTPUT_PATH / 'models')"
   ]
  },
  {
   "cell_type": "code",
   "execution_count": 234,
   "id": "02eab746",
   "metadata": {},
   "outputs": [],
   "source": [
    "learning_rate = 0.5\n",
    "num_leaves = 50\n",
    "min_data_in_leaf = 1000\n",
    "feature_fraction = 0.9\n",
    "num_boost_round = 3000"
   ]
  },
  {
   "cell_type": "code",
   "execution_count": 235,
   "id": "a4f984b0",
   "metadata": {},
   "outputs": [],
   "source": [
    "def running_train(X_train, Y_train, X_val, Y_val, i_fold=None, seed=None, params = None):\n",
    "    # prepare for train\n",
    "    params = {\n",
    "# #           \"objective\": \"cross_entropy\",\n",
    "#           \"num_leaves\": 256,\n",
    "#            \"max_bin\": 128,\n",
    "#           \"feature_fraction\": feature_fraction,\n",
    "#           \"min_child_samples\": 5,\n",
    "#           \"min_child_weight\": 50,\n",
    "#           \"min_split_gain\": 0.1,\n",
    "#           \"subsample\": 0.7,\n",
    "          'n_jobs': -1,\n",
    "          'random_state': seed\n",
    "          }\n",
    "    \n",
    "    params['random_state'] = seed\n",
    "    \n",
    "    \n",
    "    model = LGBMClassifier(**params) # define model here\n",
    "    \n",
    "    # Fit and save model\n",
    "    \n",
    "    if X_val is None:\n",
    "        model.fit(X_train, Y_train, verbose=False)\n",
    "    else:\n",
    "        model.fit(X_train, Y_train,   eval_set=(X_val, Y_val), early_stopping_rounds=500, verbose=False)\n",
    "    joblib.dump(model, OUTPUT_PATH / 'models' / f'lightgbm_{i_fold}_{seed}_{CURRENT_TIME}.pkl')"
   ]
  },
  {
   "cell_type": "code",
   "execution_count": 236,
   "id": "6d395ba7",
   "metadata": {},
   "outputs": [],
   "source": [
    "oof = np.zeros((X.shape[0], n_seed)) # cv_score\n",
    "seeds = []\n",
    "for i_seed in range(n_seed):\n",
    "    seed = FIXED_SEEDS[i_seed]\n",
    "    seed_everything(seed)\n",
    "\n",
    "    seeds.append(seed)\n",
    "    print('Seed: {}, {}/{}'.format(seed, i_seed + 1, n_seed))\n",
    "    \n",
    "    if n_fold != 1:\n",
    "        kf = KFold(n_splits=n_fold, random_state=seed, shuffle=True)\n",
    "        split_indexes = kf.split(X, Y)\n",
    "    else:\n",
    "        split_indexes = [train_test_split(np.arange(X.shape[0]), random_state=seed, shuffle = True)]\n",
    "    \n",
    "    for i_fold, (train_idx, val_idx) in enumerate(split_indexes):\n",
    "        print(\"# Fold: {}/{} (seed: {}/{})\".format(i_fold + 1, n_fold, i_seed + 1, n_seed))\n",
    "\n",
    "        # dataset\n",
    "        X_train, Y_train = X.iloc[train_idx], Y[train_idx]\n",
    "        X_val, Y_val = X.iloc[val_idx], Y[val_idx]\n",
    "\n",
    "\n",
    "        # train\n",
    "        running_train(X_train, Y_train, X_val, Y_val, i_fold=i_fold, seed=seed)\n",
    "\n",
    "        # predict on oof\n",
    "        print('predict on oof...', end='')\n",
    "        model = joblib.load( OUTPUT_PATH / 'models' / f'lightgbm_{i_fold}_{seed}_{CURRENT_TIME}.pkl')\n",
    "\n",
    "        prediction = model.predict_proba(X_val)[:, 1]\n",
    "\n",
    "        oof[val_idx, i_seed] = prediction\n",
    "        print('  done.')"
   ]
  },
  {
   "cell_type": "code",
   "execution_count": 237,
   "id": "2fcafdf0",
   "metadata": {},
   "outputs": [],
   "source": [
    "#target_ = np.mean(oof, axis = 1)\n",
    "#Y_predicted = (target_ > np.quantile(target_, 0.8)).astype(int)\n",
    "if n_fold != 1:\n",
    "    Y_predicted = (np.mean(oof, axis = 1) > prediction_threshold).astype(int)\n",
    "    Y_test = funnel[['client_id', 'sale_flg']].set_index('client_id')\n",
    "    test_funnel =  funnel.set_index('client_id')\n",
    "if n_fold == 1 and n_seed == 1:\n",
    "    Y_predicted = (prediction > prediction_threshold).astype(int)\n",
    "    Y_test = funnel[['client_id', 'sale_flg']].iloc[split_indexes[0][1]].set_index('client_id')\n",
    "    test_funnel = funnel.iloc[split_indexes[0][1]].set_index('client_id')"
   ]
  },
  {
   "cell_type": "code",
   "execution_count": 238,
   "id": "d00dbd27",
   "metadata": {},
   "outputs": [],
   "source": [
    "try: \n",
    "    os.mkdir(OUTPUT_PATH / 'scoring')\n",
    "except:\n",
    "    shutil.rmtree(OUTPUT_PATH / 'scoring')\n",
    "    os.mkdir(OUTPUT_PATH / 'scoring')"
   ]
  },
  {
   "cell_type": "code",
   "execution_count": 239,
   "id": "45e3f2b5",
   "metadata": {},
   "outputs": [],
   "source": [
    "public_score, private_score = local_scorer.get_score(test_funnel, Y_predicted, Y_test)"
   ]
  },
  {
   "cell_type": "code",
   "execution_count": 240,
   "id": "c544feb2",
   "metadata": {},
   "outputs": [],
   "source": [
    "validation_accuracy = accuracy_score(Y_test['sale_flg'], Y_predicted)\n",
    "print(f'Public ANIC {public_score} Private ANIC {private_score}')\n",
    "print(f'ANIC {1/3*public_score+ 2/3 * private_score}')\n",
    "print(f'Accuracy score: {validation_accuracy}')"
   ]
  },
  {
   "cell_type": "code",
   "execution_count": 241,
   "id": "5ae215e6",
   "metadata": {},
   "outputs": [],
   "source": [
    "#target_ = np.mean(oof, axis = 1)\n",
    "#Y_predicted = (target_ > np.quantile(target_, 0.8)).astype(int)\n",
    "if n_fold != 1:\n",
    "    Y_predicted = (np.mean(oof, axis = 1) > 0.1).astype(int)\n",
    "    Y_test = funnel[['client_id', 'sale_flg']].set_index('client_id')\n",
    "    test_funnel =  funnel.set_index('client_id')\n",
    "if n_fold == 1 and n_seed == 1:\n",
    "    Y_predicted = (prediction > prediction_threshold).astype(int)\n",
    "    Y_test = funnel[['client_id', 'sale_flg']].iloc[split_indexes[0][1]].set_index('client_id')\n",
    "    test_funnel = funnel.iloc[split_indexes[0][1]].set_index('client_id')"
   ]
  },
  {
   "cell_type": "code",
   "execution_count": 242,
   "id": "c0355ec4",
   "metadata": {},
   "outputs": [],
   "source": [
    "try: \n",
    "    os.mkdir(OUTPUT_PATH / 'scoring')\n",
    "except:\n",
    "    shutil.rmtree(OUTPUT_PATH / 'scoring')\n",
    "    os.mkdir(OUTPUT_PATH / 'scoring')"
   ]
  },
  {
   "cell_type": "code",
   "execution_count": 243,
   "id": "4eca658c",
   "metadata": {},
   "outputs": [],
   "source": [
    "public_score, private_score = local_scorer.get_score(test_funnel, Y_predicted, Y_test)"
   ]
  },
  {
   "cell_type": "code",
   "execution_count": 244,
   "id": "b2bf240f",
   "metadata": {},
   "outputs": [],
   "source": [
    "validation_accuracy = accuracy_score(Y_test['sale_flg'], Y_predicted)\n",
    "print(f'Public ANIC {public_score} Private ANIC {private_score}')\n",
    "print(f'ANIC {1/3*public_score+ 2/3 * private_score}')\n",
    "print(f'Accuracy score: {validation_accuracy}')"
   ]
  },
  {
   "cell_type": "code",
   "execution_count": 245,
   "id": "5d0b88b8",
   "metadata": {},
   "outputs": [],
   "source": [
    "#target_ = np.mean(oof, axis = 1)\n",
    "#Y_predicted = (target_ > np.quantile(target_, 0.8)).astype(int)\n",
    "if n_fold != 1:\n",
    "    Y_predicted = (np.mean(oof, axis = 1) > 0.3).astype(int)\n",
    "    Y_test = funnel[['client_id', 'sale_flg']].set_index('client_id')\n",
    "    test_funnel =  funnel.set_index('client_id')\n",
    "if n_fold == 1 and n_seed == 1:\n",
    "    Y_predicted = (prediction > prediction_threshold).astype(int)\n",
    "    Y_test = funnel[['client_id', 'sale_flg']].iloc[split_indexes[0][1]].set_index('client_id')\n",
    "    test_funnel = funnel.iloc[split_indexes[0][1]].set_index('client_id')"
   ]
  },
  {
   "cell_type": "code",
   "execution_count": 246,
   "id": "71079819",
   "metadata": {},
   "outputs": [],
   "source": [
    "try: \n",
    "    os.mkdir(OUTPUT_PATH / 'scoring')\n",
    "except:\n",
    "    shutil.rmtree(OUTPUT_PATH / 'scoring')\n",
    "    os.mkdir(OUTPUT_PATH / 'scoring')"
   ]
  },
  {
   "cell_type": "code",
   "execution_count": 247,
   "id": "b53c6678",
   "metadata": {},
   "outputs": [],
   "source": [
    "public_score, private_score = local_scorer.get_score(test_funnel, Y_predicted, Y_test)"
   ]
  },
  {
   "cell_type": "code",
   "execution_count": 248,
   "id": "c37d4a53",
   "metadata": {},
   "outputs": [],
   "source": [
    "validation_accuracy = accuracy_score(Y_test['sale_flg'], Y_predicted)\n",
    "print(f'Public ANIC {public_score} Private ANIC {private_score}')\n",
    "print(f'ANIC {1/3*public_score+ 2/3 * private_score}')\n",
    "print(f'Accuracy score: {validation_accuracy}')"
   ]
  },
  {
   "cell_type": "code",
   "execution_count": 249,
   "id": "84ec3237",
   "metadata": {},
   "outputs": [],
   "source": [
    "#target_ = np.mean(oof, axis = 1)\n",
    "#Y_predicted = (target_ > np.quantile(target_, 0.8)).astype(int)\n",
    "if n_fold != 1:\n",
    "    Y_predicted = (np.mean(oof, axis = 1) > 0.4).astype(int)\n",
    "    Y_test = funnel[['client_id', 'sale_flg']].set_index('client_id')\n",
    "    test_funnel =  funnel.set_index('client_id')\n",
    "if n_fold == 1 and n_seed == 1:\n",
    "    Y_predicted = (prediction > prediction_threshold).astype(int)\n",
    "    Y_test = funnel[['client_id', 'sale_flg']].iloc[split_indexes[0][1]].set_index('client_id')\n",
    "    test_funnel = funnel.iloc[split_indexes[0][1]].set_index('client_id')"
   ]
  },
  {
   "cell_type": "code",
   "execution_count": 250,
   "id": "fab711ae",
   "metadata": {},
   "outputs": [],
   "source": [
    "try: \n",
    "    os.mkdir(OUTPUT_PATH / 'scoring')\n",
    "except:\n",
    "    shutil.rmtree(OUTPUT_PATH / 'scoring')\n",
    "    os.mkdir(OUTPUT_PATH / 'scoring')"
   ]
  },
  {
   "cell_type": "code",
   "execution_count": 251,
   "id": "b485449b",
   "metadata": {},
   "outputs": [],
   "source": [
    "public_score, private_score = local_scorer.get_score(test_funnel, Y_predicted, Y_test)"
   ]
  },
  {
   "cell_type": "code",
   "execution_count": 252,
   "id": "f50db2ed",
   "metadata": {},
   "outputs": [],
   "source": [
    "validation_accuracy = accuracy_score(Y_test['sale_flg'], Y_predicted)\n",
    "print(f'Public ANIC {public_score} Private ANIC {private_score}')\n",
    "print(f'ANIC {1/3*public_score+ 2/3 * private_score}')\n",
    "print(f'Accuracy score: {validation_accuracy}')"
   ]
  },
  {
   "cell_type": "code",
   "execution_count": 253,
   "id": "cfe5028b",
   "metadata": {},
   "outputs": [],
   "source": [
    "#target_ = np.mean(oof, axis = 1)\n",
    "#Y_predicted = (target_ > np.quantile(target_, 0.8)).astype(int)\n",
    "if n_fold != 1:\n",
    "    Y_predicted = (np.mean(oof, axis = 1) > 0.25).astype(int)\n",
    "    Y_test = funnel[['client_id', 'sale_flg']].set_index('client_id')\n",
    "    test_funnel =  funnel.set_index('client_id')\n",
    "if n_fold == 1 and n_seed == 1:\n",
    "    Y_predicted = (prediction > prediction_threshold).astype(int)\n",
    "    Y_test = funnel[['client_id', 'sale_flg']].iloc[split_indexes[0][1]].set_index('client_id')\n",
    "    test_funnel = funnel.iloc[split_indexes[0][1]].set_index('client_id')"
   ]
  },
  {
   "cell_type": "code",
   "execution_count": 254,
   "id": "9c890186",
   "metadata": {},
   "outputs": [],
   "source": [
    "try: \n",
    "    os.mkdir(OUTPUT_PATH / 'scoring')\n",
    "except:\n",
    "    shutil.rmtree(OUTPUT_PATH / 'scoring')\n",
    "    os.mkdir(OUTPUT_PATH / 'scoring')"
   ]
  },
  {
   "cell_type": "code",
   "execution_count": 255,
   "id": "120ee2f9",
   "metadata": {},
   "outputs": [],
   "source": [
    "public_score, private_score = local_scorer.get_score(test_funnel, Y_predicted, Y_test)"
   ]
  },
  {
   "cell_type": "code",
   "execution_count": 256,
   "id": "51161866",
   "metadata": {},
   "outputs": [],
   "source": [
    "validation_accuracy = accuracy_score(Y_test['sale_flg'], Y_predicted)\n",
    "print(f'Public ANIC {public_score} Private ANIC {private_score}')\n",
    "print(f'ANIC {1/3*public_score+ 2/3 * private_score}')\n",
    "print(f'Accuracy score: {validation_accuracy}')"
   ]
  },
  {
   "cell_type": "code",
   "execution_count": 257,
   "id": "8c5e9030",
   "metadata": {},
   "outputs": [],
   "source": [
    "#target_ = np.mean(oof, axis = 1)\n",
    "#Y_predicted = (target_ > np.quantile(target_, 0.8)).astype(int)\n",
    "if n_fold != 1:\n",
    "    Y_predicted = (np.mean(oof, axis = 1) > 0.15\\).astype(int)\n",
    "    Y_test = funnel[['client_id', 'sale_flg']].set_index('client_id')\n",
    "    test_funnel =  funnel.set_index('client_id')\n",
    "if n_fold == 1 and n_seed == 1:\n",
    "    Y_predicted = (prediction > prediction_threshold).astype(int)\n",
    "    Y_test = funnel[['client_id', 'sale_flg']].iloc[split_indexes[0][1]].set_index('client_id')\n",
    "    test_funnel = funnel.iloc[split_indexes[0][1]].set_index('client_id')"
   ]
  },
  {
   "cell_type": "code",
   "execution_count": 258,
   "id": "052c0085",
   "metadata": {},
   "outputs": [],
   "source": [
    "#target_ = np.mean(oof, axis = 1)\n",
    "#Y_predicted = (target_ > np.quantile(target_, 0.8)).astype(int)\n",
    "if n_fold != 1:\n",
    "    Y_predicted = (np.mean(oof, axis = 1) > 0.15).astype(int)\n",
    "    Y_test = funnel[['client_id', 'sale_flg']].set_index('client_id')\n",
    "    test_funnel =  funnel.set_index('client_id')\n",
    "if n_fold == 1 and n_seed == 1:\n",
    "    Y_predicted = (prediction > prediction_threshold).astype(int)\n",
    "    Y_test = funnel[['client_id', 'sale_flg']].iloc[split_indexes[0][1]].set_index('client_id')\n",
    "    test_funnel = funnel.iloc[split_indexes[0][1]].set_index('client_id')"
   ]
  },
  {
   "cell_type": "code",
   "execution_count": 259,
   "id": "dfbb92d5",
   "metadata": {},
   "outputs": [],
   "source": [
    "try: \n",
    "    os.mkdir(OUTPUT_PATH / 'scoring')\n",
    "except:\n",
    "    shutil.rmtree(OUTPUT_PATH / 'scoring')\n",
    "    os.mkdir(OUTPUT_PATH / 'scoring')"
   ]
  },
  {
   "cell_type": "code",
   "execution_count": 260,
   "id": "c1f40c3d",
   "metadata": {},
   "outputs": [],
   "source": [
    "public_score, private_score = local_scorer.get_score(test_funnel, Y_predicted, Y_test)"
   ]
  },
  {
   "cell_type": "code",
   "execution_count": 261,
   "id": "3a11b610",
   "metadata": {},
   "outputs": [],
   "source": [
    "validation_accuracy = accuracy_score(Y_test['sale_flg'], Y_predicted)\n",
    "print(f'Public ANIC {public_score} Private ANIC {private_score}')\n",
    "print(f'ANIC {1/3*public_score+ 2/3 * private_score}')\n",
    "print(f'Accuracy score: {validation_accuracy}')"
   ]
  },
  {
   "cell_type": "code",
   "execution_count": 262,
   "id": "afb95142",
   "metadata": {},
   "outputs": [],
   "source": [
    "#target_ = np.mean(oof, axis = 1)\n",
    "#Y_predicted = (target_ > np.quantile(target_, 0.8)).astype(int)\n",
    "if n_fold != 1:\n",
    "    Y_predicted = (np.mean(oof, axis = 1) > 0.1).astype(int)\n",
    "    Y_test = funnel[['client_id', 'sale_flg']].set_index('client_id')\n",
    "    test_funnel =  funnel.set_index('client_id')\n",
    "if n_fold == 1 and n_seed == 1:\n",
    "    Y_predicted = (prediction > prediction_threshold).astype(int)\n",
    "    Y_test = funnel[['client_id', 'sale_flg']].iloc[split_indexes[0][1]].set_index('client_id')\n",
    "    test_funnel = funnel.iloc[split_indexes[0][1]].set_index('client_id')"
   ]
  },
  {
   "cell_type": "code",
   "execution_count": 263,
   "id": "c2454862",
   "metadata": {},
   "outputs": [],
   "source": [
    "try: \n",
    "    os.mkdir(OUTPUT_PATH / 'scoring')\n",
    "except:\n",
    "    shutil.rmtree(OUTPUT_PATH / 'scoring')\n",
    "    os.mkdir(OUTPUT_PATH / 'scoring')"
   ]
  },
  {
   "cell_type": "code",
   "execution_count": 264,
   "id": "d989f3d9",
   "metadata": {},
   "outputs": [],
   "source": [
    "public_score, private_score = local_scorer.get_score(test_funnel, Y_predicted, Y_test)"
   ]
  },
  {
   "cell_type": "code",
   "execution_count": 265,
   "id": "8884763a",
   "metadata": {},
   "outputs": [],
   "source": [
    "validation_accuracy = accuracy_score(Y_test['sale_flg'], Y_predicted)\n",
    "print(f'Public ANIC {public_score} Private ANIC {private_score}')\n",
    "print(f'ANIC {1/3*public_score+ 2/3 * private_score}')\n",
    "print(f'Accuracy score: {validation_accuracy}')"
   ]
  },
  {
   "cell_type": "code",
   "execution_count": 266,
   "id": "0600a526",
   "metadata": {},
   "outputs": [
    {
     "name": "stdout",
     "output_type": "stream",
     "text": [
      "0        0\n",
      "1        0\n",
      "2        0\n",
      "3        0\n",
      "4        1\n",
      "        ..\n",
      "21493    0\n",
      "21494    0\n",
      "21495    0\n",
      "21496    1\n",
      "21497    0\n",
      "Name: sale_flg, Length: 21498, dtype: int64"
     ]
    }
   ],
   "source": [
    "Y"
   ]
  },
  {
   "cell_type": "code",
   "execution_count": 267,
   "id": "d0616b75",
   "metadata": {},
   "outputs": [],
   "source": [
    "# data merge\n",
    "data = funnel.copy()\n",
    "data = funnel.merge(client, on=['client_id'])"
   ]
  },
  {
   "cell_type": "code",
   "execution_count": 268,
   "id": "c99b6b12",
   "metadata": {},
   "outputs": [],
   "source": [
    "data['sale_flg'] = (funnel['sale_flg'] * funnel['sale_amount'].fillna(0) - funnel['contacts'].fillna(0)*400/0.1)"
   ]
  },
  {
   "cell_type": "code",
   "execution_count": 269,
   "id": "d8a84fe9",
   "metadata": {},
   "outputs": [],
   "source": [
    "for feature_1 in [f'feature_{i}'for i in range(1, 11)]:\n",
    "    data[f'{feature_1} ** 2'] = data[feature_1] ** 2\n",
    "    data[f'{feature_1} ** 0.5'] = data[feature_1] ** 0.5\n",
    "    data[f'{feature_1} log'] = np.log(data[feature_1])"
   ]
  },
  {
   "cell_type": "code",
   "execution_count": 270,
   "id": "afc9fd5a",
   "metadata": {},
   "outputs": [],
   "source": [
    "# for feature_1 in [f'feature_{i}'for i in range(1, 11)]:\n",
    "#     for feature_2 in [f'feature_{i}'for i in range(1, 11)]:\n",
    "#         if feature_1 != feature_2:\n",
    "#             data[f'{feature_1} + {feature_2}'] = data[feature_1] + data[feature_2]\n",
    "#             data[f'{feature_1} * {feature_2}'] = data[feature_1] * data[feature_2]\n",
    "#             data[f'{feature_1} / {feature_2}'] = data[feature_1] / data[feature_2]\n",
    "#             data[f'{feature_1} - {feature_2}'] = data[feature_1] - data[feature_2]"
   ]
  },
  {
   "cell_type": "code",
   "execution_count": 271,
   "id": "7dda9081",
   "metadata": {},
   "outputs": [],
   "source": [
    "%%time\n",
    "# create features\n",
    "\n",
    "# data = create_features_transactions(data)\n",
    "# data = create_features_aum(data)\n",
    "# data = create_features_balance(data)\n",
    "# data = create_features_client(data)\n",
    "# data = create_features_campaigns(data)\n",
    "# data = create_features_deals(data)\n",
    "# data = create_features_dict_mcc(data)\n",
    "# data = create_features_payments(data)\n",
    "# data = create_features_appl(data)\n",
    "# data = create_features_funnel(data)\n",
    "# data = create_features_deals(data)"
   ]
  },
  {
   "cell_type": "code",
   "execution_count": 272,
   "id": "a21d3018",
   "metadata": {},
   "outputs": [],
   "source": [
    "try:\n",
    "    os.mkdir(OUTPUT_PATH / 'preprocessors')\n",
    "except:\n",
    "    shutil.rmtree(OUTPUT_PATH / 'preprocessors')\n",
    "    os.mkdir(OUTPUT_PATH / 'preprocessors')"
   ]
  },
  {
   "cell_type": "code",
   "execution_count": 273,
   "id": "1ded4b4b",
   "metadata": {},
   "outputs": [],
   "source": [
    "# data encode\n",
    "\n",
    "for c in data.columns:\n",
    "    col_type = data[c].dtype\n",
    "    if col_type == 'object' or col_type.name == 'category':\n",
    "        data[c] = data[c].astype('category')"
   ]
  },
  {
   "cell_type": "code",
   "execution_count": 274,
   "id": "bc368acf",
   "metadata": {},
   "outputs": [],
   "source": [
    "TARGET_COLUMNS =  ['sale_flg', 'sale_amount', 'contacts']"
   ]
  },
  {
   "cell_type": "code",
   "execution_count": 275,
   "id": "8d02e4a3",
   "metadata": {},
   "outputs": [],
   "source": [
    "X = data.drop(columns = TARGET_COLUMNS + ['client_id'])\n",
    "Y = data[TARGET_COLUMNS[0]]"
   ]
  },
  {
   "cell_type": "code",
   "execution_count": 276,
   "id": "57706443",
   "metadata": {},
   "outputs": [
    {
     "name": "stdout",
     "output_type": "stream",
     "text": [
      "0         -4000.00\n",
      "1         -4000.00\n",
      "2         -4000.00\n",
      "3         -4000.00\n",
      "4        134018.05\n",
      "           ...    \n",
      "21493     -8000.00\n",
      "21494     -4000.00\n",
      "21495     -4000.00\n",
      "21496     35882.85\n",
      "21497     -4000.00\n",
      "Name: sale_flg, Length: 21498, dtype: float64"
     ]
    }
   ],
   "source": [
    "Y"
   ]
  },
  {
   "cell_type": "code",
   "execution_count": 277,
   "id": "64677208",
   "metadata": {},
   "outputs": [],
   "source": [
    "import shutil\n",
    "try:\n",
    "    os.mkdir(OUTPUT_PATH / 'models')\n",
    "except:\n",
    "    shutil.rmtree(OUTPUT_PATH / 'models')\n",
    "    os.mkdir(OUTPUT_PATH / 'models')"
   ]
  },
  {
   "cell_type": "code",
   "execution_count": 278,
   "id": "5d380e6a",
   "metadata": {},
   "outputs": [],
   "source": [
    "learning_rate = 0.5\n",
    "num_leaves = 50\n",
    "min_data_in_leaf = 1000\n",
    "feature_fraction = 0.9\n",
    "num_boost_round = 3000"
   ]
  },
  {
   "cell_type": "code",
   "execution_count": 279,
   "id": "c5e83cde",
   "metadata": {},
   "outputs": [],
   "source": [
    "def running_train(X_train, Y_train, X_val, Y_val, i_fold=None, seed=None, params = None):\n",
    "    # prepare for train\n",
    "    params = {\n",
    "# #           \"objective\": \"cross_entropy\",\n",
    "#           \"num_leaves\": 256,\n",
    "#            \"max_bin\": 128,\n",
    "#           \"feature_fraction\": feature_fraction,\n",
    "#           \"min_child_samples\": 5,\n",
    "#           \"min_child_weight\": 50,\n",
    "#           \"min_split_gain\": 0.1,\n",
    "#           \"subsample\": 0.7,\n",
    "          'n_jobs': -1,\n",
    "          'random_state': seed\n",
    "          }\n",
    "    \n",
    "    params['random_state'] = seed\n",
    "    \n",
    "    \n",
    "    model = LGBMRegressor(**params) # define model here\n",
    "    \n",
    "    # Fit and save model\n",
    "    \n",
    "    if X_val is None:\n",
    "        model.fit(X_train, Y_train, verbose=False)\n",
    "    else:\n",
    "        model.fit(X_train, Y_train,   eval_set=(X_val, Y_val), early_stopping_rounds=500, verbose=False)\n",
    "    joblib.dump(model, OUTPUT_PATH / 'models' / f'lightgbm_{i_fold}_{seed}_{CURRENT_TIME}.pkl')"
   ]
  },
  {
   "cell_type": "code",
   "execution_count": 280,
   "id": "a68910e3",
   "metadata": {},
   "outputs": [],
   "source": [
    "oof = np.zeros((X.shape[0], n_seed)) # cv_score\n",
    "seeds = []\n",
    "for i_seed in range(n_seed):\n",
    "    seed = FIXED_SEEDS[i_seed]\n",
    "    seed_everything(seed)\n",
    "\n",
    "    seeds.append(seed)\n",
    "    print('Seed: {}, {}/{}'.format(seed, i_seed + 1, n_seed))\n",
    "    \n",
    "    if n_fold != 1:\n",
    "        kf = KFold(n_splits=n_fold, random_state=seed, shuffle=True)\n",
    "        split_indexes = kf.split(X, Y)\n",
    "    else:\n",
    "        split_indexes = [train_test_split(np.arange(X.shape[0]), random_state=seed, shuffle = True)]\n",
    "    \n",
    "    for i_fold, (train_idx, val_idx) in enumerate(split_indexes):\n",
    "        print(\"# Fold: {}/{} (seed: {}/{})\".format(i_fold + 1, n_fold, i_seed + 1, n_seed))\n",
    "\n",
    "        # dataset\n",
    "        X_train, Y_train = X.iloc[train_idx], Y[train_idx]\n",
    "        X_val, Y_val = X.iloc[val_idx], Y[val_idx]\n",
    "\n",
    "\n",
    "        # train\n",
    "        running_train(X_train, Y_train, X_val, Y_val, i_fold=i_fold, seed=seed)\n",
    "\n",
    "        # predict on oof\n",
    "        print('predict on oof...', end='')\n",
    "        model = joblib.load( OUTPUT_PATH / 'models' / f'lightgbm_{i_fold}_{seed}_{CURRENT_TIME}.pkl')\n",
    "\n",
    "        prediction = model.predict_proba(X_val)[:, 1]\n",
    "\n",
    "        oof[val_idx, i_seed] = prediction\n",
    "        print('  done.')"
   ]
  },
  {
   "cell_type": "code",
   "execution_count": 281,
   "id": "3611aa3e",
   "metadata": {},
   "outputs": [],
   "source": [
    "from lightgbm import LGBMRegressor\n",
    "def running_train(X_train, Y_train, X_val, Y_val, i_fold=None, seed=None, params = None):\n",
    "    # prepare for train\n",
    "    params = {\n",
    "# #           \"objective\": \"cross_entropy\",\n",
    "#           \"num_leaves\": 256,\n",
    "#            \"max_bin\": 128,\n",
    "#           \"feature_fraction\": feature_fraction,\n",
    "#           \"min_child_samples\": 5,\n",
    "#           \"min_child_weight\": 50,\n",
    "#           \"min_split_gain\": 0.1,\n",
    "#           \"subsample\": 0.7,\n",
    "          'n_jobs': -1,\n",
    "          'random_state': seed\n",
    "          }\n",
    "    \n",
    "    params['random_state'] = seed\n",
    "    \n",
    "    \n",
    "    model = LGBMRegressor(**params) # define model here\n",
    "    \n",
    "    # Fit and save model\n",
    "    \n",
    "    if X_val is None:\n",
    "        model.fit(X_train, Y_train, verbose=False)\n",
    "    else:\n",
    "        model.fit(X_train, Y_train,   eval_set=(X_val, Y_val), early_stopping_rounds=500, verbose=False)\n",
    "    joblib.dump(model, OUTPUT_PATH / 'models' / f'lightgbm_{i_fold}_{seed}_{CURRENT_TIME}.pkl')"
   ]
  },
  {
   "cell_type": "code",
   "execution_count": 282,
   "id": "483f448c",
   "metadata": {},
   "outputs": [],
   "source": [
    "oof = np.zeros((X.shape[0], n_seed)) # cv_score\n",
    "seeds = []\n",
    "for i_seed in range(n_seed):\n",
    "    seed = FIXED_SEEDS[i_seed]\n",
    "    seed_everything(seed)\n",
    "\n",
    "    seeds.append(seed)\n",
    "    print('Seed: {}, {}/{}'.format(seed, i_seed + 1, n_seed))\n",
    "    \n",
    "    if n_fold != 1:\n",
    "        kf = KFold(n_splits=n_fold, random_state=seed, shuffle=True)\n",
    "        split_indexes = kf.split(X, Y)\n",
    "    else:\n",
    "        split_indexes = [train_test_split(np.arange(X.shape[0]), random_state=seed, shuffle = True)]\n",
    "    \n",
    "    for i_fold, (train_idx, val_idx) in enumerate(split_indexes):\n",
    "        print(\"# Fold: {}/{} (seed: {}/{})\".format(i_fold + 1, n_fold, i_seed + 1, n_seed))\n",
    "\n",
    "        # dataset\n",
    "        X_train, Y_train = X.iloc[train_idx], Y[train_idx]\n",
    "        X_val, Y_val = X.iloc[val_idx], Y[val_idx]\n",
    "\n",
    "\n",
    "        # train\n",
    "        running_train(X_train, Y_train, X_val, Y_val, i_fold=i_fold, seed=seed)\n",
    "\n",
    "        # predict on oof\n",
    "        print('predict on oof...', end='')\n",
    "        model = joblib.load( OUTPUT_PATH / 'models' / f'lightgbm_{i_fold}_{seed}_{CURRENT_TIME}.pkl')\n",
    "\n",
    "        prediction = model.predict_proba(X_val)[:, 1]\n",
    "\n",
    "        oof[val_idx, i_seed] = prediction\n",
    "        print('  done.')"
   ]
  },
  {
   "cell_type": "code",
   "execution_count": 283,
   "id": "98ab1de7",
   "metadata": {},
   "outputs": [],
   "source": [
    "oof = np.zeros((X.shape[0], n_seed)) # cv_score\n",
    "seeds = []\n",
    "for i_seed in range(n_seed):\n",
    "    seed = FIXED_SEEDS[i_seed]\n",
    "    seed_everything(seed)\n",
    "\n",
    "    seeds.append(seed)\n",
    "    print('Seed: {}, {}/{}'.format(seed, i_seed + 1, n_seed))\n",
    "    \n",
    "    if n_fold != 1:\n",
    "        kf = KFold(n_splits=n_fold, random_state=seed, shuffle=True)\n",
    "        split_indexes = kf.split(X, Y)\n",
    "    else:\n",
    "        split_indexes = [train_test_split(np.arange(X.shape[0]), random_state=seed, shuffle = True)]\n",
    "    \n",
    "    for i_fold, (train_idx, val_idx) in enumerate(split_indexes):\n",
    "        print(\"# Fold: {}/{} (seed: {}/{})\".format(i_fold + 1, n_fold, i_seed + 1, n_seed))\n",
    "\n",
    "        # dataset\n",
    "        X_train, Y_train = X.iloc[train_idx], Y[train_idx]\n",
    "        X_val, Y_val = X.iloc[val_idx], Y[val_idx]\n",
    "\n",
    "\n",
    "        # train\n",
    "        running_train(X_train, Y_train, X_val, Y_val, i_fold=i_fold, seed=seed)\n",
    "\n",
    "        # predict on oof\n",
    "        print('predict on oof...', end='')\n",
    "        model = joblib.load( OUTPUT_PATH / 'models' / f'lightgbm_{i_fold}_{seed}_{CURRENT_TIME}.pkl')\n",
    "\n",
    "        #prediction = model.predict_proba(X_val)[:, 1]\n",
    "        prediction = model.predict(X_val)\n",
    "\n",
    "        oof[val_idx, i_seed] = prediction\n",
    "        print('  done.')"
   ]
  },
  {
   "cell_type": "code",
   "execution_count": 284,
   "id": "004aaeca",
   "metadata": {},
   "outputs": [],
   "source": [
    "#target_ = np.mean(oof, axis = 1)\n",
    "#Y_predicted = (target_ > np.quantile(target_, 0.8)).astype(int)\n",
    "if n_fold != 1:\n",
    "    Y_predicted = (np.mean(oof, axis = 1) > prediction_threshold).astype(int)\n",
    "    Y_test = funnel[['client_id', 'sale_flg']].set_index('client_id')\n",
    "    test_funnel =  funnel.set_index('client_id')\n",
    "if n_fold == 1 and n_seed == 1:\n",
    "    Y_predicted = (prediction > prediction_threshold).astype(int)\n",
    "    Y_test = funnel[['client_id', 'sale_flg']].iloc[split_indexes[0][1]].set_index('client_id')\n",
    "    test_funnel = funnel.iloc[split_indexes[0][1]].set_index('client_id')"
   ]
  },
  {
   "cell_type": "code",
   "execution_count": 285,
   "id": "91abdfb1",
   "metadata": {},
   "outputs": [],
   "source": [
    "#target_ = np.mean(oof, axis = 1)\n",
    "#Y_predicted = (target_ > np.quantile(target_, 0.8)).astype(int)\n",
    "if n_fold != 1:\n",
    "    Y_predicted = (np.mean(oof, axis = 1) > prediction_threshold).astype(int)\n",
    "    Y_test = funnel[['client_id', 'sale_flg']].set_index('client_id')\n",
    "    test_funnel =  funnel.set_index('client_id')\n",
    "if n_fold == 1 and n_seed == 1:\n",
    "    Y_predicted = (prediction > prediction_threshold).astype(int)\n",
    "    Y_test = funnel[['client_id', 'sale_flg']].iloc[split_indexes[0][1]].set_index('client_id')\n",
    "    test_funnel = funnel.iloc[split_indexes[0][1]].set_index('client_id')"
   ]
  },
  {
   "cell_type": "code",
   "execution_count": 286,
   "id": "c81017b7",
   "metadata": {},
   "outputs": [],
   "source": [
    "try: \n",
    "    os.mkdir(OUTPUT_PATH / 'scoring')\n",
    "except:\n",
    "    shutil.rmtree(OUTPUT_PATH / 'scoring')\n",
    "    os.mkdir(OUTPUT_PATH / 'scoring')"
   ]
  },
  {
   "cell_type": "code",
   "execution_count": 287,
   "id": "c95233d6",
   "metadata": {},
   "outputs": [],
   "source": [
    "public_score, private_score = local_scorer.get_score(test_funnel, Y_predicted, Y_test)"
   ]
  },
  {
   "cell_type": "code",
   "execution_count": 288,
   "id": "61b9bfdf",
   "metadata": {},
   "outputs": [],
   "source": [
    "validation_accuracy = accuracy_score(Y_test['sale_flg'], Y_predicted)\n",
    "print(f'Public ANIC {public_score} Private ANIC {private_score}')\n",
    "print(f'ANIC {1/3*public_score+ 2/3 * private_score}')\n",
    "print(f'Accuracy score: {validation_accuracy}')"
   ]
  },
  {
   "cell_type": "code",
   "execution_count": 289,
   "id": "082c8087",
   "metadata": {},
   "outputs": [
    {
     "name": "stdout",
     "output_type": "stream",
     "text": [
      "array([-4480.52101442, -4458.95793742, -4327.47530307, ...,\n",
      "       -4483.28201999,  -581.27033875, -4836.61799501])"
     ]
    }
   ],
   "source": [
    "np.mean(oof, axis = 1)"
   ]
  },
  {
   "cell_type": "code",
   "execution_count": 290,
   "id": "9e5d61d9",
   "metadata": {},
   "outputs": [],
   "source": [
    "#target_ = np.mean(oof, axis = 1)\n",
    "#Y_predicted = (target_ > np.quantile(target_, 0.8)).astype(int)\n",
    "if n_fold != 1:\n",
    "    Y_predicted = (np.mean(oof, axis = 1) > -400).astype(int)\n",
    "    Y_test = funnel[['client_id', 'sale_flg']].set_index('client_id')\n",
    "    test_funnel =  funnel.set_index('client_id')\n",
    "if n_fold == 1 and n_seed == 1:\n",
    "    Y_predicted = (prediction > prediction_threshold).astype(int)\n",
    "    Y_test = funnel[['client_id', 'sale_flg']].iloc[split_indexes[0][1]].set_index('client_id')\n",
    "    test_funnel = funnel.iloc[split_indexes[0][1]].set_index('client_id')"
   ]
  },
  {
   "cell_type": "code",
   "execution_count": 291,
   "id": "95c37ad1",
   "metadata": {},
   "outputs": [],
   "source": [
    "try: \n",
    "    os.mkdir(OUTPUT_PATH / 'scoring')\n",
    "except:\n",
    "    shutil.rmtree(OUTPUT_PATH / 'scoring')\n",
    "    os.mkdir(OUTPUT_PATH / 'scoring')"
   ]
  },
  {
   "cell_type": "code",
   "execution_count": 292,
   "id": "f8fb63f1",
   "metadata": {},
   "outputs": [],
   "source": [
    "public_score, private_score = local_scorer.get_score(test_funnel, Y_predicted, Y_test)"
   ]
  },
  {
   "cell_type": "code",
   "execution_count": 293,
   "id": "5f0bf473",
   "metadata": {},
   "outputs": [],
   "source": [
    "validation_accuracy = accuracy_score(Y_test['sale_flg'], Y_predicted)\n",
    "print(f'Public ANIC {public_score} Private ANIC {private_score}')\n",
    "print(f'ANIC {1/3*public_score+ 2/3 * private_score}')\n",
    "print(f'Accuracy score: {validation_accuracy}')"
   ]
  },
  {
   "cell_type": "code",
   "execution_count": 294,
   "id": "432a004c",
   "metadata": {},
   "outputs": [],
   "source": [
    "#target_ = np.mean(oof, axis = 1)\n",
    "#Y_predicted = (target_ > np.quantile(target_, 0.8)).astype(int)\n",
    "if n_fold != 1:\n",
    "    Y_predicted = (np.mean(oof, axis = 1) > -4000).astype(int)\n",
    "    Y_test = funnel[['client_id', 'sale_flg']].set_index('client_id')\n",
    "    test_funnel =  funnel.set_index('client_id')\n",
    "if n_fold == 1 and n_seed == 1:\n",
    "    Y_predicted = (prediction > prediction_threshold).astype(int)\n",
    "    Y_test = funnel[['client_id', 'sale_flg']].iloc[split_indexes[0][1]].set_index('client_id')\n",
    "    test_funnel = funnel.iloc[split_indexes[0][1]].set_index('client_id')"
   ]
  },
  {
   "cell_type": "code",
   "execution_count": 295,
   "id": "90dcd345",
   "metadata": {},
   "outputs": [],
   "source": [
    "try: \n",
    "    os.mkdir(OUTPUT_PATH / 'scoring')\n",
    "except:\n",
    "    shutil.rmtree(OUTPUT_PATH / 'scoring')\n",
    "    os.mkdir(OUTPUT_PATH / 'scoring')"
   ]
  },
  {
   "cell_type": "code",
   "execution_count": 296,
   "id": "0f66e927",
   "metadata": {},
   "outputs": [],
   "source": [
    "public_score, private_score = local_scorer.get_score(test_funnel, Y_predicted, Y_test)"
   ]
  },
  {
   "cell_type": "code",
   "execution_count": 297,
   "id": "4ada86f1",
   "metadata": {},
   "outputs": [],
   "source": [
    "validation_accuracy = accuracy_score(Y_test['sale_flg'], Y_predicted)\n",
    "print(f'Public ANIC {public_score} Private ANIC {private_score}')\n",
    "print(f'ANIC {1/3*public_score+ 2/3 * private_score}')\n",
    "print(f'Accuracy score: {validation_accuracy}')"
   ]
  },
  {
   "cell_type": "code",
   "execution_count": 298,
   "id": "ff4df91c",
   "metadata": {},
   "outputs": [
    {
     "name": "stdout",
     "output_type": "stream",
     "text": [
      "114859.59844903438"
     ]
    }
   ],
   "source": [
    "np.mean(oof, axis = 1).max()"
   ]
  },
  {
   "cell_type": "code",
   "execution_count": 299,
   "id": "89e91b61",
   "metadata": {},
   "outputs": [
    {
     "name": "stdout",
     "output_type": "stream",
     "text": [
      "-8065.480470430508"
     ]
    }
   ],
   "source": [
    "np.mean(oof, axis = 1).min()"
   ]
  },
  {
   "cell_type": "code",
   "execution_count": 300,
   "id": "a155abfb",
   "metadata": {},
   "outputs": [],
   "source": [
    "#target_ = np.mean(oof, axis = 1)\n",
    "#Y_predicted = (target_ > np.quantile(target_, 0.8)).astype(int)\n",
    "if n_fold != 1:\n",
    "    Y_predicted = (np.mean(oof, axis = 1) > -6000).astype(int)\n",
    "    Y_test = funnel[['client_id', 'sale_flg']].set_index('client_id')\n",
    "    test_funnel =  funnel.set_index('client_id')\n",
    "if n_fold == 1 and n_seed == 1:\n",
    "    Y_predicted = (prediction > prediction_threshold).astype(int)\n",
    "    Y_test = funnel[['client_id', 'sale_flg']].iloc[split_indexes[0][1]].set_index('client_id')\n",
    "    test_funnel = funnel.iloc[split_indexes[0][1]].set_index('client_id')"
   ]
  },
  {
   "cell_type": "code",
   "execution_count": 301,
   "id": "8f9e1690",
   "metadata": {},
   "outputs": [],
   "source": [
    "try: \n",
    "    os.mkdir(OUTPUT_PATH / 'scoring')\n",
    "except:\n",
    "    shutil.rmtree(OUTPUT_PATH / 'scoring')\n",
    "    os.mkdir(OUTPUT_PATH / 'scoring')"
   ]
  },
  {
   "cell_type": "code",
   "execution_count": 302,
   "id": "b9893bf4",
   "metadata": {},
   "outputs": [],
   "source": [
    "public_score, private_score = local_scorer.get_score(test_funnel, Y_predicted, Y_test)"
   ]
  },
  {
   "cell_type": "code",
   "execution_count": 303,
   "id": "488e8217",
   "metadata": {},
   "outputs": [],
   "source": [
    "validation_accuracy = accuracy_score(Y_test['sale_flg'], Y_predicted)\n",
    "print(f'Public ANIC {public_score} Private ANIC {private_score}')\n",
    "print(f'ANIC {1/3*public_score+ 2/3 * private_score}')\n",
    "print(f'Accuracy score: {validation_accuracy}')"
   ]
  },
  {
   "cell_type": "code",
   "execution_count": 304,
   "id": "c081c7a5",
   "metadata": {},
   "outputs": [],
   "source": [
    "#target_ = np.mean(oof, axis = 1)\n",
    "#Y_predicted = (target_ > np.quantile(target_, 0.8)).astype(int)\n",
    "if n_fold != 1:\n",
    "    Y_predicted = (np.mean(oof, axis = 1) > -5000).astype(int)\n",
    "    Y_test = funnel[['client_id', 'sale_flg']].set_index('client_id')\n",
    "    test_funnel =  funnel.set_index('client_id')\n",
    "if n_fold == 1 and n_seed == 1:\n",
    "    Y_predicted = (prediction > prediction_threshold).astype(int)\n",
    "    Y_test = funnel[['client_id', 'sale_flg']].iloc[split_indexes[0][1]].set_index('client_id')\n",
    "    test_funnel = funnel.iloc[split_indexes[0][1]].set_index('client_id')"
   ]
  },
  {
   "cell_type": "code",
   "execution_count": 305,
   "id": "a1e69865",
   "metadata": {},
   "outputs": [],
   "source": [
    "try: \n",
    "    os.mkdir(OUTPUT_PATH / 'scoring')\n",
    "except:\n",
    "    shutil.rmtree(OUTPUT_PATH / 'scoring')\n",
    "    os.mkdir(OUTPUT_PATH / 'scoring')"
   ]
  },
  {
   "cell_type": "code",
   "execution_count": 306,
   "id": "3cf7bdb8",
   "metadata": {},
   "outputs": [],
   "source": [
    "public_score, private_score = local_scorer.get_score(test_funnel, Y_predicted, Y_test)"
   ]
  },
  {
   "cell_type": "code",
   "execution_count": 307,
   "id": "0a10fc0f",
   "metadata": {},
   "outputs": [],
   "source": [
    "validation_accuracy = accuracy_score(Y_test['sale_flg'], Y_predicted)\n",
    "print(f'Public ANIC {public_score} Private ANIC {private_score}')\n",
    "print(f'ANIC {1/3*public_score+ 2/3 * private_score}')\n",
    "print(f'Accuracy score: {validation_accuracy}')"
   ]
  },
  {
   "cell_type": "code",
   "execution_count": 308,
   "id": "120af466",
   "metadata": {},
   "outputs": [],
   "source": [
    "#target_ = np.mean(oof, axis = 1)\n",
    "#Y_predicted = (target_ > np.quantile(target_, 0.8)).astype(int)\n",
    "if n_fold != 1:\n",
    "    Y_predicted = (np.mean(oof, axis = 1) > -4_500).astype(int)\n",
    "    Y_test = funnel[['client_id', 'sale_flg']].set_index('client_id')\n",
    "    test_funnel =  funnel.set_index('client_id')\n",
    "if n_fold == 1 and n_seed == 1:\n",
    "    Y_predicted = (prediction > prediction_threshold).astype(int)\n",
    "    Y_test = funnel[['client_id', 'sale_flg']].iloc[split_indexes[0][1]].set_index('client_id')\n",
    "    test_funnel = funnel.iloc[split_indexes[0][1]].set_index('client_id')"
   ]
  },
  {
   "cell_type": "code",
   "execution_count": 309,
   "id": "fd4db7fa",
   "metadata": {},
   "outputs": [],
   "source": [
    "try: \n",
    "    os.mkdir(OUTPUT_PATH / 'scoring')\n",
    "except:\n",
    "    shutil.rmtree(OUTPUT_PATH / 'scoring')\n",
    "    os.mkdir(OUTPUT_PATH / 'scoring')"
   ]
  },
  {
   "cell_type": "code",
   "execution_count": 310,
   "id": "c74f0db9",
   "metadata": {},
   "outputs": [],
   "source": [
    "public_score, private_score = local_scorer.get_score(test_funnel, Y_predicted, Y_test)"
   ]
  },
  {
   "cell_type": "code",
   "execution_count": 311,
   "id": "41659b8e",
   "metadata": {},
   "outputs": [],
   "source": [
    "validation_accuracy = accuracy_score(Y_test['sale_flg'], Y_predicted)\n",
    "print(f'Public ANIC {public_score} Private ANIC {private_score}')\n",
    "print(f'ANIC {1/3*public_score+ 2/3 * private_score}')\n",
    "print(f'Accuracy score: {validation_accuracy}')"
   ]
  },
  {
   "cell_type": "code",
   "execution_count": 312,
   "id": "3be02ea6",
   "metadata": {},
   "outputs": [],
   "source": [
    "#target_ = np.mean(oof, axis = 1)\n",
    "#Y_predicted = (target_ > np.quantile(target_, 0.8)).astype(int)\n",
    "if n_fold != 1:\n",
    "    Y_predicted = (np.mean(oof, axis = 1) > -4_100).astype(int)\n",
    "    Y_test = funnel[['client_id', 'sale_flg']].set_index('client_id')\n",
    "    test_funnel =  funnel.set_index('client_id')\n",
    "if n_fold == 1 and n_seed == 1:\n",
    "    Y_predicted = (prediction > prediction_threshold).astype(int)\n",
    "    Y_test = funnel[['client_id', 'sale_flg']].iloc[split_indexes[0][1]].set_index('client_id')\n",
    "    test_funnel = funnel.iloc[split_indexes[0][1]].set_index('client_id')"
   ]
  },
  {
   "cell_type": "code",
   "execution_count": 313,
   "id": "597b8151",
   "metadata": {},
   "outputs": [],
   "source": [
    "try: \n",
    "    os.mkdir(OUTPUT_PATH / 'scoring')\n",
    "except:\n",
    "    shutil.rmtree(OUTPUT_PATH / 'scoring')\n",
    "    os.mkdir(OUTPUT_PATH / 'scoring')"
   ]
  },
  {
   "cell_type": "code",
   "execution_count": 314,
   "id": "d607f3a2",
   "metadata": {},
   "outputs": [],
   "source": [
    "public_score, private_score = local_scorer.get_score(test_funnel, Y_predicted, Y_test)"
   ]
  },
  {
   "cell_type": "code",
   "execution_count": 315,
   "id": "8b9564eb",
   "metadata": {},
   "outputs": [],
   "source": [
    "validation_accuracy = accuracy_score(Y_test['sale_flg'], Y_predicted)\n",
    "print(f'Public ANIC {public_score} Private ANIC {private_score}')\n",
    "print(f'ANIC {1/3*public_score+ 2/3 * private_score}')\n",
    "print(f'Accuracy score: {validation_accuracy}')"
   ]
  },
  {
   "cell_type": "code",
   "execution_count": 316,
   "id": "2ed650c2",
   "metadata": {},
   "outputs": [],
   "source": [
    "target_ = np.mean(oof, axis = 1)\n",
    "Y_predicted = (target_ > np.quantile(target_, 0.2)).astype(int)\n",
    "if n_fold != 1:\n",
    "    #Y_predicted = (np.mean(oof, axis = 1) > prediction_threshold).astype(int)\n",
    "    Y_test = funnel[['client_id', 'sale_flg']].set_index('client_id')\n",
    "    test_funnel =  funnel.set_index('client_id')\n",
    "if n_fold == 1 and n_seed == 1:\n",
    "    Y_predicted = (prediction > prediction_threshold).astype(int)\n",
    "    Y_test = funnel[['client_id', 'sale_flg']].iloc[split_indexes[0][1]].set_index('client_id')\n",
    "    test_funnel = funnel.iloc[split_indexes[0][1]].set_index('client_id')"
   ]
  },
  {
   "cell_type": "code",
   "execution_count": 317,
   "id": "12e544a2",
   "metadata": {},
   "outputs": [],
   "source": [
    "try: \n",
    "    os.mkdir(OUTPUT_PATH / 'scoring')\n",
    "except:\n",
    "    shutil.rmtree(OUTPUT_PATH / 'scoring')\n",
    "    os.mkdir(OUTPUT_PATH / 'scoring')"
   ]
  },
  {
   "cell_type": "code",
   "execution_count": 318,
   "id": "b911626c",
   "metadata": {},
   "outputs": [],
   "source": [
    "public_score, private_score = local_scorer.get_score(test_funnel, Y_predicted, Y_test)"
   ]
  },
  {
   "cell_type": "code",
   "execution_count": 319,
   "id": "d3c4d803",
   "metadata": {},
   "outputs": [],
   "source": [
    "validation_accuracy = accuracy_score(Y_test['sale_flg'], Y_predicted)\n",
    "print(f'Public ANIC {public_score} Private ANIC {private_score}')\n",
    "print(f'ANIC {1/3*public_score+ 2/3 * private_score}')\n",
    "print(f'Accuracy score: {validation_accuracy}')"
   ]
  },
  {
   "cell_type": "code",
   "execution_count": 320,
   "id": "2467c3bd",
   "metadata": {},
   "outputs": [],
   "source": [
    "target_ = np.mean(oof, axis = 1)\n",
    "Y_predicted = (target_ > np.quantile(target_, 0.1)).astype(int)\n",
    "if n_fold != 1:\n",
    "    #Y_predicted = (np.mean(oof, axis = 1) > prediction_threshold).astype(int)\n",
    "    Y_test = funnel[['client_id', 'sale_flg']].set_index('client_id')\n",
    "    test_funnel =  funnel.set_index('client_id')\n",
    "if n_fold == 1 and n_seed == 1:\n",
    "    Y_predicted = (prediction > prediction_threshold).astype(int)\n",
    "    Y_test = funnel[['client_id', 'sale_flg']].iloc[split_indexes[0][1]].set_index('client_id')\n",
    "    test_funnel = funnel.iloc[split_indexes[0][1]].set_index('client_id')"
   ]
  },
  {
   "cell_type": "code",
   "execution_count": 321,
   "id": "61985602",
   "metadata": {},
   "outputs": [],
   "source": [
    "try: \n",
    "    os.mkdir(OUTPUT_PATH / 'scoring')\n",
    "except:\n",
    "    shutil.rmtree(OUTPUT_PATH / 'scoring')\n",
    "    os.mkdir(OUTPUT_PATH / 'scoring')"
   ]
  },
  {
   "cell_type": "code",
   "execution_count": 322,
   "id": "c544ec8f",
   "metadata": {},
   "outputs": [],
   "source": [
    "public_score, private_score = local_scorer.get_score(test_funnel, Y_predicted, Y_test)"
   ]
  },
  {
   "cell_type": "code",
   "execution_count": 323,
   "id": "9fea8040",
   "metadata": {},
   "outputs": [],
   "source": [
    "validation_accuracy = accuracy_score(Y_test['sale_flg'], Y_predicted)\n",
    "print(f'Public ANIC {public_score} Private ANIC {private_score}')\n",
    "print(f'ANIC {1/3*public_score+ 2/3 * private_score}')\n",
    "print(f'Accuracy score: {validation_accuracy}')"
   ]
  },
  {
   "cell_type": "code",
   "execution_count": 324,
   "id": "e8db8dfe",
   "metadata": {},
   "outputs": [],
   "source": [
    "target_ = np.mean(oof, axis = 1)\n",
    "Y_predicted = (target_ > np.quantile(target_, 0.3)).astype(int)\n",
    "if n_fold != 1:\n",
    "    #Y_predicted = (np.mean(oof, axis = 1) > prediction_threshold).astype(int)\n",
    "    Y_test = funnel[['client_id', 'sale_flg']].set_index('client_id')\n",
    "    test_funnel =  funnel.set_index('client_id')\n",
    "if n_fold == 1 and n_seed == 1:\n",
    "    Y_predicted = (prediction > prediction_threshold).astype(int)\n",
    "    Y_test = funnel[['client_id', 'sale_flg']].iloc[split_indexes[0][1]].set_index('client_id')\n",
    "    test_funnel = funnel.iloc[split_indexes[0][1]].set_index('client_id')"
   ]
  },
  {
   "cell_type": "code",
   "execution_count": 325,
   "id": "4bcaa51d",
   "metadata": {},
   "outputs": [],
   "source": [
    "try: \n",
    "    os.mkdir(OUTPUT_PATH / 'scoring')\n",
    "except:\n",
    "    shutil.rmtree(OUTPUT_PATH / 'scoring')\n",
    "    os.mkdir(OUTPUT_PATH / 'scoring')"
   ]
  },
  {
   "cell_type": "code",
   "execution_count": 326,
   "id": "ba903501",
   "metadata": {},
   "outputs": [],
   "source": [
    "public_score, private_score = local_scorer.get_score(test_funnel, Y_predicted, Y_test)"
   ]
  },
  {
   "cell_type": "code",
   "execution_count": 327,
   "id": "f59bb226",
   "metadata": {},
   "outputs": [],
   "source": [
    "validation_accuracy = accuracy_score(Y_test['sale_flg'], Y_predicted)\n",
    "print(f'Public ANIC {public_score} Private ANIC {private_score}')\n",
    "print(f'ANIC {1/3*public_score+ 2/3 * private_score}')\n",
    "print(f'Accuracy score: {validation_accuracy}')"
   ]
  },
  {
   "cell_type": "code",
   "execution_count": 328,
   "id": "9503f7bd",
   "metadata": {},
   "outputs": [],
   "source": [
    "target_ = np.mean(oof, axis = 1)\n",
    "Y_predicted = (target_ > np.quantile(target_, 0.5)).astype(int)\n",
    "if n_fold != 1:\n",
    "    #Y_predicted = (np.mean(oof, axis = 1) > prediction_threshold).astype(int)\n",
    "    Y_test = funnel[['client_id', 'sale_flg']].set_index('client_id')\n",
    "    test_funnel =  funnel.set_index('client_id')\n",
    "if n_fold == 1 and n_seed == 1:\n",
    "    Y_predicted = (prediction > prediction_threshold).astype(int)\n",
    "    Y_test = funnel[['client_id', 'sale_flg']].iloc[split_indexes[0][1]].set_index('client_id')\n",
    "    test_funnel = funnel.iloc[split_indexes[0][1]].set_index('client_id')"
   ]
  },
  {
   "cell_type": "code",
   "execution_count": 329,
   "id": "db7c6086",
   "metadata": {},
   "outputs": [],
   "source": [
    "try: \n",
    "    os.mkdir(OUTPUT_PATH / 'scoring')\n",
    "except:\n",
    "    shutil.rmtree(OUTPUT_PATH / 'scoring')\n",
    "    os.mkdir(OUTPUT_PATH / 'scoring')"
   ]
  },
  {
   "cell_type": "code",
   "execution_count": 330,
   "id": "741470de",
   "metadata": {},
   "outputs": [],
   "source": [
    "public_score, private_score = local_scorer.get_score(test_funnel, Y_predicted, Y_test)"
   ]
  },
  {
   "cell_type": "code",
   "execution_count": 331,
   "id": "bc5e714e",
   "metadata": {},
   "outputs": [],
   "source": [
    "validation_accuracy = accuracy_score(Y_test['sale_flg'], Y_predicted)\n",
    "print(f'Public ANIC {public_score} Private ANIC {private_score}')\n",
    "print(f'ANIC {1/3*public_score+ 2/3 * private_score}')\n",
    "print(f'Accuracy score: {validation_accuracy}')"
   ]
  },
  {
   "cell_type": "code",
   "execution_count": 332,
   "id": "ef4f47e0",
   "metadata": {},
   "outputs": [],
   "source": [
    "target_ = np.mean(oof, axis = 1)\n",
    "Y_predicted = (target_ > np.quantile(target_, 0.7)).astype(int)\n",
    "if n_fold != 1:\n",
    "    #Y_predicted = (np.mean(oof, axis = 1) > prediction_threshold).astype(int)\n",
    "    Y_test = funnel[['client_id', 'sale_flg']].set_index('client_id')\n",
    "    test_funnel =  funnel.set_index('client_id')\n",
    "if n_fold == 1 and n_seed == 1:\n",
    "    Y_predicted = (prediction > prediction_threshold).astype(int)\n",
    "    Y_test = funnel[['client_id', 'sale_flg']].iloc[split_indexes[0][1]].set_index('client_id')\n",
    "    test_funnel = funnel.iloc[split_indexes[0][1]].set_index('client_id')"
   ]
  },
  {
   "cell_type": "code",
   "execution_count": 333,
   "id": "b07ddc8f",
   "metadata": {},
   "outputs": [],
   "source": [
    "try: \n",
    "    os.mkdir(OUTPUT_PATH / 'scoring')\n",
    "except:\n",
    "    shutil.rmtree(OUTPUT_PATH / 'scoring')\n",
    "    os.mkdir(OUTPUT_PATH / 'scoring')"
   ]
  },
  {
   "cell_type": "code",
   "execution_count": 334,
   "id": "b94e75ee",
   "metadata": {},
   "outputs": [],
   "source": [
    "public_score, private_score = local_scorer.get_score(test_funnel, Y_predicted, Y_test)"
   ]
  },
  {
   "cell_type": "code",
   "execution_count": 335,
   "id": "9b6cfe48",
   "metadata": {},
   "outputs": [],
   "source": [
    "validation_accuracy = accuracy_score(Y_test['sale_flg'], Y_predicted)\n",
    "print(f'Public ANIC {public_score} Private ANIC {private_score}')\n",
    "print(f'ANIC {1/3*public_score+ 2/3 * private_score}')\n",
    "print(f'Accuracy score: {validation_accuracy}')"
   ]
  },
  {
   "cell_type": "code",
   "execution_count": 336,
   "id": "cbfbd965",
   "metadata": {},
   "outputs": [],
   "source": [
    "target_ = np.mean(oof, axis = 1)\n",
    "Y_predicted = (target_ > np.quantile(target_, 0.8)).astype(int)\n",
    "if n_fold != 1:\n",
    "    #Y_predicted = (np.mean(oof, axis = 1) > prediction_threshold).astype(int)\n",
    "    Y_test = funnel[['client_id', 'sale_flg']].set_index('client_id')\n",
    "    test_funnel =  funnel.set_index('client_id')\n",
    "if n_fold == 1 and n_seed == 1:\n",
    "    Y_predicted = (prediction > prediction_threshold).astype(int)\n",
    "    Y_test = funnel[['client_id', 'sale_flg']].iloc[split_indexes[0][1]].set_index('client_id')\n",
    "    test_funnel = funnel.iloc[split_indexes[0][1]].set_index('client_id')"
   ]
  },
  {
   "cell_type": "code",
   "execution_count": 337,
   "id": "6ced5e71",
   "metadata": {},
   "outputs": [],
   "source": [
    "try: \n",
    "    os.mkdir(OUTPUT_PATH / 'scoring')\n",
    "except:\n",
    "    shutil.rmtree(OUTPUT_PATH / 'scoring')\n",
    "    os.mkdir(OUTPUT_PATH / 'scoring')"
   ]
  },
  {
   "cell_type": "code",
   "execution_count": 338,
   "id": "ce86a5c6",
   "metadata": {},
   "outputs": [],
   "source": [
    "public_score, private_score = local_scorer.get_score(test_funnel, Y_predicted, Y_test)"
   ]
  },
  {
   "cell_type": "code",
   "execution_count": 339,
   "id": "b4c8238b",
   "metadata": {},
   "outputs": [],
   "source": [
    "validation_accuracy = accuracy_score(Y_test['sale_flg'], Y_predicted)\n",
    "print(f'Public ANIC {public_score} Private ANIC {private_score}')\n",
    "print(f'ANIC {1/3*public_score+ 2/3 * private_score}')\n",
    "print(f'Accuracy score: {validation_accuracy}')"
   ]
  },
  {
   "cell_type": "code",
   "execution_count": 340,
   "id": "979bbd70",
   "metadata": {},
   "outputs": [],
   "source": [
    "target_ = np.mean(oof, axis = 1)\n",
    "Y_predicted = (target_ > np.quantile(target_, 0.7)).astype(int)\n",
    "if n_fold != 1:\n",
    "    #Y_predicted = (np.mean(oof, axis = 1) > prediction_threshold).astype(int)\n",
    "    Y_test = funnel[['client_id', 'sale_flg']].set_index('client_id')\n",
    "    test_funnel =  funnel.set_index('client_id')\n",
    "if n_fold == 1 and n_seed == 1:\n",
    "    Y_predicted = (prediction > prediction_threshold).astype(int)\n",
    "    Y_test = funnel[['client_id', 'sale_flg']].iloc[split_indexes[0][1]].set_index('client_id')\n",
    "    test_funnel = funnel.iloc[split_indexes[0][1]].set_index('client_id')"
   ]
  },
  {
   "cell_type": "code",
   "execution_count": 341,
   "id": "658025ae",
   "metadata": {},
   "outputs": [],
   "source": [
    "try: \n",
    "    os.mkdir(OUTPUT_PATH / 'scoring')\n",
    "except:\n",
    "    shutil.rmtree(OUTPUT_PATH / 'scoring')\n",
    "    os.mkdir(OUTPUT_PATH / 'scoring')"
   ]
  },
  {
   "cell_type": "code",
   "execution_count": 342,
   "id": "2eb5754e",
   "metadata": {},
   "outputs": [],
   "source": [
    "public_score, private_score = local_scorer.get_score(test_funnel, Y_predicted, Y_test)"
   ]
  },
  {
   "cell_type": "code",
   "execution_count": 343,
   "id": "fac5cc44",
   "metadata": {},
   "outputs": [],
   "source": [
    "validation_accuracy = accuracy_score(Y_test['sale_flg'], Y_predicted)\n",
    "print(f'Public ANIC {public_score} Private ANIC {private_score}')\n",
    "print(f'ANIC {1/3*public_score+ 2/3 * private_score}')\n",
    "print(f'Accuracy score: {validation_accuracy}')"
   ]
  },
  {
   "cell_type": "code",
   "execution_count": 344,
   "id": "b9782ca6",
   "metadata": {},
   "outputs": [],
   "source": [
    "# data merge\n",
    "data = funnel.copy()\n",
    "data = funnel.merge(client, on=['client_id'])"
   ]
  },
  {
   "cell_type": "code",
   "execution_count": 345,
   "id": "5a7a02e9",
   "metadata": {},
   "outputs": [],
   "source": [
    "# data merge\n",
    "data = funnel.copy()\n",
    "data = funnel.merge(client, on=['client_id'])"
   ]
  },
  {
   "cell_type": "code",
   "execution_count": 346,
   "id": "7497e887",
   "metadata": {},
   "outputs": [],
   "source": [
    "for feature_1 in [f'feature_{i}'for i in range(1, 11)]:\n",
    "    data[f'{feature_1} ** 2'] = data[feature_1] ** 2\n",
    "    data[f'{feature_1} ** 0.5'] = data[feature_1] ** 0.5\n",
    "    data[f'{feature_1} log'] = np.log(data[feature_1])"
   ]
  },
  {
   "cell_type": "code",
   "execution_count": 347,
   "id": "bb88a22b",
   "metadata": {},
   "outputs": [
    {
     "name": "stdout",
     "output_type": "stream",
     "text": [
      "                 client_id  sale_flg  sale_amount  contacts  feature_1  \\\n",
      "0      7513301859607023584         0          NaN         1          7   \n",
      "1      9157009756404187626         0          NaN         1          3   \n",
      "2     -1893104556496814867         0          NaN         1          5   \n",
      "3      6886062013213911831         0          NaN         1          4   \n",
      "4     -8156468515495593794         1    138018.05         1          7   \n",
      "...                    ...       ...          ...       ...        ...   \n",
      "21493  4662551505651924284         0          NaN         2          3   \n",
      "21494 -8968737688687691353         0          NaN         1          9   \n",
      "21495 -5799097497074119478         0          NaN         1          2   \n",
      "21496 -2264802671063321355         1     43882.85         2          8   \n",
      "21497  -174115151336149439         0          NaN         1          3   \n",
      "\n",
      "       client_segment  feature_2  feature_3  feature_4  feature_5  ...  \\\n",
      "0                13.0   571533.0    15717.0        0.0        0.0  ...   \n",
      "1                13.0  3642369.0    94787.0        0.0        0.0  ...   \n",
      "2                16.0   352826.0     5500.0        0.0     6822.0  ...   \n",
      "3                 3.0  6070615.0    40580.0        0.0    30401.0  ...   \n",
      "4                14.0  3642369.0    97156.0    81488.0        0.0  ...   \n",
      "...               ...        ...        ...        ...        ...  ...   \n",
      "21493             3.0  6070615.0    97616.0    21921.0    85635.0  ...   \n",
      "21494            14.0  1821184.0     2428.0     3952.0        0.0  ...   \n",
      "21495            16.0  6070615.0    64991.0        0.0    13450.0  ...   \n",
      "21496             4.0  2282408.0     5832.0    16185.0        0.0  ...   \n",
      "21497             3.0  6070615.0  1014167.0        0.0  1053209.0  ...   \n",
      "\n",
      "       feature_7 log  feature_8 ** 2  feature_8 ** 0.5  feature_8 log  \\\n",
      "0          13.256635    2.233555e+11        687.462726      13.066015   \n",
      "1          15.108145    1.098430e+13       1820.510093      15.013744   \n",
      "2          12.490849    4.183416e+10        452.254353      12.228489   \n",
      "3          14.511519    3.330811e+12       1350.944484      14.417118   \n",
      "4          15.108145    1.098430e+13       1820.510093      15.013744   \n",
      "...              ...             ...               ...            ...   \n",
      "21493      15.389557    1.928431e+13       2095.564602      15.295157   \n",
      "21494      11.432507    5.132433e+09        267.658364      11.179423   \n",
      "21495      14.982581    8.544952e+12       1709.729511      14.888181   \n",
      "21496      12.348800    3.148815e+10        421.246958      12.086439   \n",
      "21497      15.618970    3.051196e+13       2350.268708      15.524570   \n",
      "\n",
      "       feature_9 ** 2  feature_9 ** 0.5 feature_9 log  feature_10 ** 2  \\\n",
      "0              108.16          3.224903      2.341806     1.574523e+08   \n",
      "1               79.21          2.983287      2.186051     5.961384e+09   \n",
      "2               79.21          2.983287      2.186051     3.033806e+07   \n",
      "3               62.41          2.810694      2.066863     1.646980e+09   \n",
      "4              108.16          3.224903      2.341806     6.100860e+09   \n",
      "...               ...               ...           ...              ...   \n",
      "21493           62.41          2.810694      2.066863     9.530836e+09   \n",
      "21494          396.01          4.460942      2.990720     5.953600e+06   \n",
      "21495           62.41          2.810694      2.066863     4.224740e+09   \n",
      "21496          320.41          4.230839      2.884801     3.416402e+07   \n",
      "21497           98.01          3.146427      2.292535     1.655957e+10   \n",
      "\n",
      "       feature_10 ** 0.5  feature_10 log  \n",
      "0             112.017856        9.437317  \n",
      "1             277.866875       11.254284  \n",
      "2              74.215901        8.613957  \n",
      "3             201.452228       10.611105  \n",
      "4             279.478085       11.265848  \n",
      "...                  ...             ...  \n",
      "21493         312.451596       11.488899  \n",
      "21494          49.396356        7.799753  \n",
      "21495         254.947053       11.082112  \n",
      "21496          76.452600        8.673342  \n",
      "21497         358.725522       11.765115  \n",
      "\n",
      "[21498 rows x 53 columns]"
     ]
    }
   ],
   "source": [
    "data"
   ]
  },
  {
   "cell_type": "code",
   "execution_count": 348,
   "id": "117a216f",
   "metadata": {},
   "outputs": [
    {
     "name": "stdout",
     "output_type": "stream",
     "text": [
      "       feature_1  feature_2  feature_3  feature_4  feature_5  feature_6  \\\n",
      "0              7   571533.0    15717.0        0.0        0.0        0.0   \n",
      "1              3  3642369.0    94787.0        0.0        0.0    84823.0   \n",
      "2              5   352826.0     5500.0        0.0     6822.0        0.0   \n",
      "3              4  6070615.0    40580.0        0.0    30401.0        0.0   \n",
      "4              7  3642369.0    97156.0    81488.0        0.0   160308.0   \n",
      "...          ...        ...        ...        ...        ...        ...   \n",
      "21493          3  6070615.0    97616.0    21921.0    85635.0    89802.0   \n",
      "21494          9  1821184.0     2428.0     3952.0        0.0    13938.0   \n",
      "21495          2  6070615.0    64991.0        0.0    13450.0        0.0   \n",
      "21496          8  2282408.0     5832.0    16185.0        0.0    82182.0   \n",
      "21497          3  6070615.0  1014167.0        0.0  1053209.0        0.0   \n",
      "\n",
      "       feature_7  feature_8  feature_9  feature_10  \n",
      "0       571852.0   472605.0       10.4     12548.0  \n",
      "1      3642369.0  3314257.0        8.9     77210.0  \n",
      "2       265893.0   204534.0        8.9      5508.0  \n",
      "3      2005731.0  1825051.0        7.9     40583.0  \n",
      "4      3642369.0  3314257.0       10.4     78108.0  \n",
      "...          ...        ...        ...         ...  \n",
      "21493  4826139.0  4391391.0        7.9     97626.0  \n",
      "21494    92273.0    71641.0       19.9      2440.0  \n",
      "21495  3212569.0  2923175.0        7.9     64998.0  \n",
      "21496   230683.0   177449.0       17.9      5845.0  \n",
      "21497  6070615.0  5523763.0        9.9    128684.0  \n",
      "\n",
      "[21498 rows x 10 columns]"
     ]
    }
   ],
   "source": [
    "data[[f'feature_{i}' for i in range(1, 11)]]"
   ]
  },
  {
   "cell_type": "code",
   "execution_count": 349,
   "id": "3fe8647b",
   "metadata": {},
   "outputs": [
    {
     "name": "stdout",
     "output_type": "stream",
     "text": [
      "array([0, 1, 0, ..., 4, 2, 4], dtype=int32)"
     ]
    }
   ],
   "source": [
    "from sklearn.cluster import KMeans\n",
    "# Create cluster feature\n",
    "kmeans = KMeans(n_clusters=6)\n",
    "kmeans.fit_predict(data[[f'feature_{i}' for i in range(1, 11)]].fillna(0))"
   ]
  },
  {
   "cell_type": "code",
   "execution_count": 350,
   "id": "9dd3002b",
   "metadata": {},
   "outputs": [],
   "source": [
    "from sklearn.cluster import KMeans\n",
    "# Create cluster feature\n",
    "kmeans = KMeans(n_clusters=6)\n",
    "data['cluster'] = kmeans.fit_predict(data[[f'feature_{i}' for i in range(1, 11)]].fillna(0))"
   ]
  },
  {
   "cell_type": "code",
   "execution_count": 351,
   "id": "efc5c4b0",
   "metadata": {},
   "outputs": [],
   "source": [
    "# for feature_1 in [f'feature_{i}'for i in range(1, 11)]:\n",
    "#     for feature_2 in [f'feature_{i}'for i in range(1, 11)]:\n",
    "#         if feature_1 != feature_2:\n",
    "#             data[f'{feature_1} + {feature_2}'] = data[feature_1] + data[feature_2]\n",
    "#             data[f'{feature_1} * {feature_2}'] = data[feature_1] * data[feature_2]\n",
    "#             data[f'{feature_1} / {feature_2}'] = data[feature_1] / data[feature_2]\n",
    "#             data[f'{feature_1} - {feature_2}'] = data[feature_1] - data[feature_2]"
   ]
  },
  {
   "cell_type": "code",
   "execution_count": 352,
   "id": "b2be0c34",
   "metadata": {},
   "outputs": [],
   "source": [
    "%%time\n",
    "# create features\n",
    "\n",
    "# data = create_features_transactions(data)\n",
    "# data = create_features_aum(data)\n",
    "# data = create_features_balance(data)\n",
    "# data = create_features_client(data)\n",
    "# data = create_features_campaigns(data)\n",
    "# data = create_features_deals(data)\n",
    "# data = create_features_dict_mcc(data)\n",
    "# data = create_features_payments(data)\n",
    "# data = create_features_appl(data)\n",
    "# data = create_features_funnel(data)\n",
    "# data = create_features_deals(data)"
   ]
  },
  {
   "cell_type": "code",
   "execution_count": 353,
   "id": "28f7b146",
   "metadata": {},
   "outputs": [],
   "source": [
    "try:\n",
    "    os.mkdir(OUTPUT_PATH / 'preprocessors')\n",
    "except:\n",
    "    shutil.rmtree(OUTPUT_PATH / 'preprocessors')\n",
    "    os.mkdir(OUTPUT_PATH / 'preprocessors')"
   ]
  },
  {
   "cell_type": "code",
   "execution_count": 354,
   "id": "00912d3b",
   "metadata": {},
   "outputs": [],
   "source": [
    "# data encode\n",
    "\n",
    "for c in data.columns:\n",
    "    col_type = data[c].dtype\n",
    "    if col_type == 'object' or col_type.name == 'category':\n",
    "        data[c] = data[c].astype('category')"
   ]
  },
  {
   "cell_type": "code",
   "execution_count": 355,
   "id": "7cac0890",
   "metadata": {},
   "outputs": [],
   "source": [
    "TARGET_COLUMNS =  ['sale_flg', 'sale_amount', 'contacts']"
   ]
  },
  {
   "cell_type": "code",
   "execution_count": 356,
   "id": "5d3edba0",
   "metadata": {},
   "outputs": [],
   "source": [
    "X = data.drop(columns = TARGET_COLUMNS + ['client_id'])\n",
    "Y = data[TARGET_COLUMNS[0]]"
   ]
  },
  {
   "cell_type": "code",
   "execution_count": 357,
   "id": "7823ede8",
   "metadata": {},
   "outputs": [],
   "source": [
    "import shutil\n",
    "try:\n",
    "    os.mkdir(OUTPUT_PATH / 'models')\n",
    "except:\n",
    "    shutil.rmtree(OUTPUT_PATH / 'models')\n",
    "    os.mkdir(OUTPUT_PATH / 'models')"
   ]
  },
  {
   "cell_type": "code",
   "execution_count": 358,
   "id": "b6fe762f",
   "metadata": {},
   "outputs": [],
   "source": [
    "learning_rate = 0.5\n",
    "num_leaves = 50\n",
    "min_data_in_leaf = 1000\n",
    "feature_fraction = 0.9\n",
    "num_boost_round = 3000"
   ]
  },
  {
   "cell_type": "code",
   "execution_count": 359,
   "id": "49298784",
   "metadata": {},
   "outputs": [],
   "source": [
    "from lightgbm import LGBMRegressor\n",
    "def running_train(X_train, Y_train, X_val, Y_val, i_fold=None, seed=None, params = None):\n",
    "    # prepare for train\n",
    "    params = {\n",
    "# #           \"objective\": \"cross_entropy\",\n",
    "#           \"num_leaves\": 256,\n",
    "#            \"max_bin\": 128,\n",
    "#           \"feature_fraction\": feature_fraction,\n",
    "#           \"min_child_samples\": 5,\n",
    "#           \"min_child_weight\": 50,\n",
    "#           \"min_split_gain\": 0.1,\n",
    "#           \"subsample\": 0.7,\n",
    "          'n_jobs': -1,\n",
    "          'random_state': seed\n",
    "          }\n",
    "    \n",
    "    params['random_state'] = seed\n",
    "    \n",
    "    \n",
    "    model = LGBMRegressor(**params) # define model here\n",
    "    \n",
    "    # Fit and save model\n",
    "    \n",
    "    if X_val is None:\n",
    "        model.fit(X_train, Y_train, verbose=False)\n",
    "    else:\n",
    "        model.fit(X_train, Y_train,   eval_set=(X_val, Y_val), early_stopping_rounds=500, verbose=False)\n",
    "    joblib.dump(model, OUTPUT_PATH / 'models' / f'lightgbm_{i_fold}_{seed}_{CURRENT_TIME}.pkl')"
   ]
  },
  {
   "cell_type": "code",
   "execution_count": 360,
   "id": "5966925c",
   "metadata": {},
   "outputs": [],
   "source": [
    "oof = np.zeros((X.shape[0], n_seed)) # cv_score\n",
    "seeds = []\n",
    "for i_seed in range(n_seed):\n",
    "    seed = FIXED_SEEDS[i_seed]\n",
    "    seed_everything(seed)\n",
    "\n",
    "    seeds.append(seed)\n",
    "    print('Seed: {}, {}/{}'.format(seed, i_seed + 1, n_seed))\n",
    "    \n",
    "    if n_fold != 1:\n",
    "        kf = KFold(n_splits=n_fold, random_state=seed, shuffle=True)\n",
    "        split_indexes = kf.split(X, Y)\n",
    "    else:\n",
    "        split_indexes = [train_test_split(np.arange(X.shape[0]), random_state=seed, shuffle = True)]\n",
    "    \n",
    "    for i_fold, (train_idx, val_idx) in enumerate(split_indexes):\n",
    "        print(\"# Fold: {}/{} (seed: {}/{})\".format(i_fold + 1, n_fold, i_seed + 1, n_seed))\n",
    "\n",
    "        # dataset\n",
    "        X_train, Y_train = X.iloc[train_idx], Y[train_idx]\n",
    "        X_val, Y_val = X.iloc[val_idx], Y[val_idx]\n",
    "\n",
    "\n",
    "        # train\n",
    "        running_train(X_train, Y_train, X_val, Y_val, i_fold=i_fold, seed=seed)\n",
    "\n",
    "        # predict on oof\n",
    "        print('predict on oof...', end='')\n",
    "        model = joblib.load( OUTPUT_PATH / 'models' / f'lightgbm_{i_fold}_{seed}_{CURRENT_TIME}.pkl')\n",
    "\n",
    "        #prediction = model.predict_proba(X_val)[:, 1]\n",
    "        prediction = model.predict(X_val)\n",
    "\n",
    "        oof[val_idx, i_seed] = prediction\n",
    "        print('  done.')"
   ]
  },
  {
   "cell_type": "code",
   "execution_count": 361,
   "id": "e056ba95",
   "metadata": {},
   "outputs": [],
   "source": [
    "if n_fold != 1:\n",
    "    Y_predicted = (np.mean(oof, axis = 1) > prediction_threshold).astype(int)\n",
    "    Y_test = funnel[['client_id', 'sale_flg']].set_index('client_id')\n",
    "    test_funnel =  funnel.set_index('client_id')\n",
    "if n_fold == 1 and n_seed == 1:\n",
    "    Y_predicted = (prediction > prediction_threshold).astype(int)\n",
    "    Y_test = funnel[['client_id', 'sale_flg']].iloc[split_indexes[0][1]].set_index('client_id')\n",
    "    test_funnel = funnel.iloc[split_indexes[0][1]].set_index('client_id')"
   ]
  },
  {
   "cell_type": "code",
   "execution_count": 362,
   "id": "9252b59c",
   "metadata": {},
   "outputs": [],
   "source": [
    "try: \n",
    "    os.mkdir(OUTPUT_PATH / 'scoring')\n",
    "except:\n",
    "    shutil.rmtree(OUTPUT_PATH / 'scoring')\n",
    "    os.mkdir(OUTPUT_PATH / 'scoring')"
   ]
  },
  {
   "cell_type": "code",
   "execution_count": 363,
   "id": "6eb418ec",
   "metadata": {},
   "outputs": [],
   "source": [
    "public_score, private_score = local_scorer.get_score(test_funnel, Y_predicted, Y_test)"
   ]
  },
  {
   "cell_type": "code",
   "execution_count": 364,
   "id": "e9303821",
   "metadata": {},
   "outputs": [],
   "source": [
    "validation_accuracy = accuracy_score(Y_test['sale_flg'], Y_predicted)\n",
    "print(f'Public ANIC {public_score} Private ANIC {private_score}')\n",
    "print(f'ANIC {1/3*public_score+ 2/3 * private_score}')\n",
    "print(f'Accuracy score: {validation_accuracy}')"
   ]
  },
  {
   "cell_type": "code",
   "execution_count": 365,
   "id": "715f4f13",
   "metadata": {},
   "outputs": [
    {
     "name": "stdout",
     "output_type": "stream",
     "text": [
      "                 client_id  sale_flg  sale_amount  contacts  feature_1  \\\n",
      "0      7513301859607023584         0          NaN         1          7   \n",
      "1      9157009756404187626         0          NaN         1          3   \n",
      "2     -1893104556496814867         0          NaN         1          5   \n",
      "3      6886062013213911831         0          NaN         1          4   \n",
      "4     -8156468515495593794         1    138018.05         1          7   \n",
      "...                    ...       ...          ...       ...        ...   \n",
      "21493  4662551505651924284         0          NaN         2          3   \n",
      "21494 -8968737688687691353         0          NaN         1          9   \n",
      "21495 -5799097497074119478         0          NaN         1          2   \n",
      "21496 -2264802671063321355         1     43882.85         2          8   \n",
      "21497  -174115151336149439         0          NaN         1          3   \n",
      "\n",
      "       client_segment  feature_2  feature_3  feature_4  feature_5  ...  \\\n",
      "0                13.0   571533.0    15717.0        0.0        0.0  ...   \n",
      "1                13.0  3642369.0    94787.0        0.0        0.0  ...   \n",
      "2                16.0   352826.0     5500.0        0.0     6822.0  ...   \n",
      "3                 3.0  6070615.0    40580.0        0.0    30401.0  ...   \n",
      "4                14.0  3642369.0    97156.0    81488.0        0.0  ...   \n",
      "...               ...        ...        ...        ...        ...  ...   \n",
      "21493             3.0  6070615.0    97616.0    21921.0    85635.0  ...   \n",
      "21494            14.0  1821184.0     2428.0     3952.0        0.0  ...   \n",
      "21495            16.0  6070615.0    64991.0        0.0    13450.0  ...   \n",
      "21496             4.0  2282408.0     5832.0    16185.0        0.0  ...   \n",
      "21497             3.0  6070615.0  1014167.0        0.0  1053209.0  ...   \n",
      "\n",
      "       feature_8 ** 2  feature_8 ** 0.5  feature_8 log  feature_9 ** 2  \\\n",
      "0        2.233555e+11        687.462726      13.066015          108.16   \n",
      "1        1.098430e+13       1820.510093      15.013744           79.21   \n",
      "2        4.183416e+10        452.254353      12.228489           79.21   \n",
      "3        3.330811e+12       1350.944484      14.417118           62.41   \n",
      "4        1.098430e+13       1820.510093      15.013744          108.16   \n",
      "...               ...               ...            ...             ...   \n",
      "21493    1.928431e+13       2095.564602      15.295157           62.41   \n",
      "21494    5.132433e+09        267.658364      11.179423          396.01   \n",
      "21495    8.544952e+12       1709.729511      14.888181           62.41   \n",
      "21496    3.148815e+10        421.246958      12.086439          320.41   \n",
      "21497    3.051196e+13       2350.268708      15.524570           98.01   \n",
      "\n",
      "       feature_9 ** 0.5  feature_9 log feature_10 ** 2  feature_10 ** 0.5  \\\n",
      "0              3.224903       2.341806    1.574523e+08         112.017856   \n",
      "1              2.983287       2.186051    5.961384e+09         277.866875   \n",
      "2              2.983287       2.186051    3.033806e+07          74.215901   \n",
      "3              2.810694       2.066863    1.646980e+09         201.452228   \n",
      "4              3.224903       2.341806    6.100860e+09         279.478085   \n",
      "...                 ...            ...             ...                ...   \n",
      "21493          2.810694       2.066863    9.530836e+09         312.451596   \n",
      "21494          4.460942       2.990720    5.953600e+06          49.396356   \n",
      "21495          2.810694       2.066863    4.224740e+09         254.947053   \n",
      "21496          4.230839       2.884801    3.416402e+07          76.452600   \n",
      "21497          3.146427       2.292535    1.655957e+10         358.725522   \n",
      "\n",
      "       feature_10 log  cluster  \n",
      "0            9.437317        4  \n",
      "1           11.254284        2  \n",
      "2            8.613957        4  \n",
      "3           10.611105        5  \n",
      "4           11.265848        2  \n",
      "...               ...      ...  \n",
      "21493       11.488899        1  \n",
      "21494        7.799753        4  \n",
      "21495       11.082112        1  \n",
      "21496        8.673342        0  \n",
      "21497       11.765115        1  \n",
      "\n",
      "[21498 rows x 54 columns]"
     ]
    }
   ],
   "source": [
    "data"
   ]
  },
  {
   "cell_type": "code",
   "execution_count": 366,
   "id": "9fe23506",
   "metadata": {},
   "outputs": [],
   "source": [
    "# data merge\n",
    "data = funnel.copy()\n",
    "data = funnel.merge(client, on=['client_id'])"
   ]
  },
  {
   "cell_type": "code",
   "execution_count": 367,
   "id": "66db3071",
   "metadata": {},
   "outputs": [
    {
     "name": "stdout",
     "output_type": "stream",
     "text": [
      "                 client_id  sale_flg  sale_amount  contacts  feature_1  \\\n",
      "0      7513301859607023584         0          NaN         1          7   \n",
      "1      9157009756404187626         0          NaN         1          3   \n",
      "2     -1893104556496814867         0          NaN         1          5   \n",
      "3      6886062013213911831         0          NaN         1          4   \n",
      "4     -8156468515495593794         1    138018.05         1          7   \n",
      "...                    ...       ...          ...       ...        ...   \n",
      "21493  4662551505651924284         0          NaN         2          3   \n",
      "21494 -8968737688687691353         0          NaN         1          9   \n",
      "21495 -5799097497074119478         0          NaN         1          2   \n",
      "21496 -2264802671063321355         1     43882.85         2          8   \n",
      "21497  -174115151336149439         0          NaN         1          3   \n",
      "\n",
      "       client_segment  feature_2  feature_3  feature_4  feature_5  ...  \\\n",
      "0                13.0   571533.0    15717.0        0.0        0.0  ...   \n",
      "1                13.0  3642369.0    94787.0        0.0        0.0  ...   \n",
      "2                16.0   352826.0     5500.0        0.0     6822.0  ...   \n",
      "3                 3.0  6070615.0    40580.0        0.0    30401.0  ...   \n",
      "4                14.0  3642369.0    97156.0    81488.0        0.0  ...   \n",
      "...               ...        ...        ...        ...        ...  ...   \n",
      "21493             3.0  6070615.0    97616.0    21921.0    85635.0  ...   \n",
      "21494            14.0  1821184.0     2428.0     3952.0        0.0  ...   \n",
      "21495            16.0  6070615.0    64991.0        0.0    13450.0  ...   \n",
      "21496             4.0  2282408.0     5832.0    16185.0        0.0  ...   \n",
      "21497             3.0  6070615.0  1014167.0        0.0  1053209.0  ...   \n",
      "\n",
      "       feature_9  feature_10  region_cd  client_gender  client_age  \\\n",
      "0           10.4     12548.0       86.0              F        33.0   \n",
      "1            8.9     77210.0        2.0              F        59.0   \n",
      "2            8.9      5508.0       52.0              M        51.0   \n",
      "3            7.9     40583.0       86.0              F        56.0   \n",
      "4           10.4     78108.0       27.0              F        34.0   \n",
      "...          ...         ...        ...            ...         ...   \n",
      "21493        7.9     97626.0       86.0              M        31.0   \n",
      "21494       19.9      2440.0       78.0              M        53.0   \n",
      "21495        7.9     64998.0       69.0              F        57.0   \n",
      "21496       17.9      5845.0       59.0              M        37.0   \n",
      "21497        9.9    128684.0       77.0              M        33.0   \n",
      "\n",
      "       client_region client_city  client_citizenship     client_education  \\\n",
      "0                  0         115              RUSSIA                  NaN   \n",
      "1                 17         668              RUSSIA                  NaN   \n",
      "2                 28          65              RUSSIA                  NaN   \n",
      "3                  0          40              RUSSIA                  NaN   \n",
      "4                 -1          -1              RUSSIA  HIGHER_PROFESSIONAL   \n",
      "...              ...         ...                 ...                  ...   \n",
      "21493              0          14              RUSSIA                  NaN   \n",
      "21494             25          33              RUSSIA                  NaN   \n",
      "21495             12         225              RUSSIA                  NaN   \n",
      "21496             37         368              RUSSIA  MIDDLE_PROFESSIONAL   \n",
      "21497              7          13              RUSSIA                  NaN   \n",
      "\n",
      "       client_job_type  \n",
      "0                  NaN  \n",
      "1                  NaN  \n",
      "2                  NaN  \n",
      "3                  NaN  \n",
      "4                  NaN  \n",
      "...                ...  \n",
      "21493              NaN  \n",
      "21494              NaN  \n",
      "21495              NaN  \n",
      "21496              NaN  \n",
      "21497              NaN  \n",
      "\n",
      "[21498 rows x 23 columns]"
     ]
    }
   ],
   "source": [
    "data"
   ]
  },
  {
   "cell_type": "code",
   "execution_count": 368,
   "id": "38b08384",
   "metadata": {},
   "outputs": [],
   "source": [
    "from sklearn.cluster import KMeans\n",
    "# Create cluster feature\n",
    "kmeans = KMeans(n_clusters=10)\n",
    "data['cluster'] = kmeans.fit_predict(data[[f'feature_{i}' for i in range(1, 11)]].fillna(0))"
   ]
  },
  {
   "cell_type": "code",
   "execution_count": 369,
   "id": "0dcca6bf",
   "metadata": {},
   "outputs": [],
   "source": [
    "# for feature_1 in [f'feature_{i}'for i in range(1, 11)]:\n",
    "#     for feature_2 in [f'feature_{i}'for i in range(1, 11)]:\n",
    "#         if feature_1 != feature_2:\n",
    "#             data[f'{feature_1} + {feature_2}'] = data[feature_1] + data[feature_2]\n",
    "#             data[f'{feature_1} * {feature_2}'] = data[feature_1] * data[feature_2]\n",
    "#             data[f'{feature_1} / {feature_2}'] = data[feature_1] / data[feature_2]\n",
    "#             data[f'{feature_1} - {feature_2}'] = data[feature_1] - data[feature_2]"
   ]
  },
  {
   "cell_type": "code",
   "execution_count": 370,
   "id": "659a2eb4",
   "metadata": {},
   "outputs": [],
   "source": [
    "%%time\n",
    "# create features\n",
    "\n",
    "# data = create_features_transactions(data)\n",
    "# data = create_features_aum(data)\n",
    "# data = create_features_balance(data)\n",
    "# data = create_features_client(data)\n",
    "# data = create_features_campaigns(data)\n",
    "# data = create_features_deals(data)\n",
    "# data = create_features_dict_mcc(data)\n",
    "# data = create_features_payments(data)\n",
    "# data = create_features_appl(data)\n",
    "# data = create_features_funnel(data)\n",
    "# data = create_features_deals(data)"
   ]
  },
  {
   "cell_type": "code",
   "execution_count": 371,
   "id": "54fff48f",
   "metadata": {},
   "outputs": [],
   "source": [
    "try:\n",
    "    os.mkdir(OUTPUT_PATH / 'preprocessors')\n",
    "except:\n",
    "    shutil.rmtree(OUTPUT_PATH / 'preprocessors')\n",
    "    os.mkdir(OUTPUT_PATH / 'preprocessors')"
   ]
  },
  {
   "cell_type": "code",
   "execution_count": 372,
   "id": "3a11529c",
   "metadata": {},
   "outputs": [],
   "source": [
    "# data encode\n",
    "\n",
    "for c in data.columns:\n",
    "    col_type = data[c].dtype\n",
    "    if col_type == 'object' or col_type.name == 'category':\n",
    "        data[c] = data[c].astype('category')"
   ]
  },
  {
   "cell_type": "code",
   "execution_count": 373,
   "id": "d5ef10df",
   "metadata": {},
   "outputs": [],
   "source": [
    "TARGET_COLUMNS =  ['sale_flg', 'sale_amount', 'contacts']"
   ]
  },
  {
   "cell_type": "code",
   "execution_count": 374,
   "id": "a94892ac",
   "metadata": {},
   "outputs": [],
   "source": [
    "X = data.drop(columns = TARGET_COLUMNS + ['client_id'])\n",
    "Y = data[TARGET_COLUMNS[0]]"
   ]
  },
  {
   "cell_type": "code",
   "execution_count": 375,
   "id": "382afd83",
   "metadata": {},
   "outputs": [],
   "source": [
    "import shutil\n",
    "try:\n",
    "    os.mkdir(OUTPUT_PATH / 'models')\n",
    "except:\n",
    "    shutil.rmtree(OUTPUT_PATH / 'models')\n",
    "    os.mkdir(OUTPUT_PATH / 'models')"
   ]
  },
  {
   "cell_type": "code",
   "execution_count": 376,
   "id": "41736ca6",
   "metadata": {},
   "outputs": [],
   "source": [
    "learning_rate = 0.5\n",
    "num_leaves = 50\n",
    "min_data_in_leaf = 1000\n",
    "feature_fraction = 0.9\n",
    "num_boost_round = 3000"
   ]
  },
  {
   "cell_type": "code",
   "execution_count": 377,
   "id": "c2f2bf0e",
   "metadata": {},
   "outputs": [],
   "source": [
    "from lightgbm import LGBMRegressor\n",
    "def running_train(X_train, Y_train, X_val, Y_val, i_fold=None, seed=None, params = None):\n",
    "    # prepare for train\n",
    "    params = {\n",
    "# #           \"objective\": \"cross_entropy\",\n",
    "#           \"num_leaves\": 256,\n",
    "#            \"max_bin\": 128,\n",
    "#           \"feature_fraction\": feature_fraction,\n",
    "#           \"min_child_samples\": 5,\n",
    "#           \"min_child_weight\": 50,\n",
    "#           \"min_split_gain\": 0.1,\n",
    "#           \"subsample\": 0.7,\n",
    "          'n_jobs': -1,\n",
    "          'random_state': seed\n",
    "          }\n",
    "    \n",
    "    params['random_state'] = seed\n",
    "    \n",
    "    \n",
    "    model = LGBMRegressor(**params) # define model here\n",
    "    \n",
    "    # Fit and save model\n",
    "    \n",
    "    if X_val is None:\n",
    "        model.fit(X_train, Y_train, verbose=False)\n",
    "    else:\n",
    "        model.fit(X_train, Y_train,   eval_set=(X_val, Y_val), early_stopping_rounds=500, verbose=False)\n",
    "    joblib.dump(model, OUTPUT_PATH / 'models' / f'lightgbm_{i_fold}_{seed}_{CURRENT_TIME}.pkl')"
   ]
  },
  {
   "cell_type": "code",
   "execution_count": 378,
   "id": "ce2db6f1",
   "metadata": {},
   "outputs": [],
   "source": [
    "oof = np.zeros((X.shape[0], n_seed)) # cv_score\n",
    "seeds = []\n",
    "for i_seed in range(n_seed):\n",
    "    seed = FIXED_SEEDS[i_seed]\n",
    "    seed_everything(seed)\n",
    "\n",
    "    seeds.append(seed)\n",
    "    print('Seed: {}, {}/{}'.format(seed, i_seed + 1, n_seed))\n",
    "    \n",
    "    if n_fold != 1:\n",
    "        kf = KFold(n_splits=n_fold, random_state=seed, shuffle=True)\n",
    "        split_indexes = kf.split(X, Y)\n",
    "    else:\n",
    "        split_indexes = [train_test_split(np.arange(X.shape[0]), random_state=seed, shuffle = True)]\n",
    "    \n",
    "    for i_fold, (train_idx, val_idx) in enumerate(split_indexes):\n",
    "        print(\"# Fold: {}/{} (seed: {}/{})\".format(i_fold + 1, n_fold, i_seed + 1, n_seed))\n",
    "\n",
    "        # dataset\n",
    "        X_train, Y_train = X.iloc[train_idx], Y[train_idx]\n",
    "        X_val, Y_val = X.iloc[val_idx], Y[val_idx]\n",
    "\n",
    "\n",
    "        # train\n",
    "        running_train(X_train, Y_train, X_val, Y_val, i_fold=i_fold, seed=seed)\n",
    "\n",
    "        # predict on oof\n",
    "        print('predict on oof...', end='')\n",
    "        model = joblib.load( OUTPUT_PATH / 'models' / f'lightgbm_{i_fold}_{seed}_{CURRENT_TIME}.pkl')\n",
    "\n",
    "        #prediction = model.predict_proba(X_val)[:, 1]\n",
    "        prediction = model.predict(X_val)\n",
    "\n",
    "        oof[val_idx, i_seed] = prediction\n",
    "        print('  done.')"
   ]
  },
  {
   "cell_type": "code",
   "execution_count": 379,
   "id": "83bcd473",
   "metadata": {},
   "outputs": [],
   "source": [
    "if n_fold != 1:\n",
    "    Y_predicted = (np.mean(oof, axis = 1) > prediction_threshold).astype(int)\n",
    "    Y_test = funnel[['client_id', 'sale_flg']].set_index('client_id')\n",
    "    test_funnel =  funnel.set_index('client_id')\n",
    "if n_fold == 1 and n_seed == 1:\n",
    "    Y_predicted = (prediction > prediction_threshold).astype(int)\n",
    "    Y_test = funnel[['client_id', 'sale_flg']].iloc[split_indexes[0][1]].set_index('client_id')\n",
    "    test_funnel = funnel.iloc[split_indexes[0][1]].set_index('client_id')"
   ]
  },
  {
   "cell_type": "code",
   "execution_count": 380,
   "id": "e0f4422b",
   "metadata": {},
   "outputs": [],
   "source": [
    "try: \n",
    "    os.mkdir(OUTPUT_PATH / 'scoring')\n",
    "except:\n",
    "    shutil.rmtree(OUTPUT_PATH / 'scoring')\n",
    "    os.mkdir(OUTPUT_PATH / 'scoring')"
   ]
  },
  {
   "cell_type": "code",
   "execution_count": 381,
   "id": "68dbf513",
   "metadata": {},
   "outputs": [],
   "source": [
    "public_score, private_score = local_scorer.get_score(test_funnel, Y_predicted, Y_test)"
   ]
  },
  {
   "cell_type": "code",
   "execution_count": 382,
   "id": "8163b736",
   "metadata": {},
   "outputs": [],
   "source": [
    "validation_accuracy = accuracy_score(Y_test['sale_flg'], Y_predicted)\n",
    "print(f'Public ANIC {public_score} Private ANIC {private_score}')\n",
    "print(f'ANIC {1/3*public_score+ 2/3 * private_score}')\n",
    "print(f'Accuracy score: {validation_accuracy}')"
   ]
  },
  {
   "cell_type": "code",
   "execution_count": 383,
   "id": "0b2df865",
   "metadata": {},
   "outputs": [],
   "source": [
    "if n_fold != 1:\n",
    "    Y_predicted = (np.mean(oof, axis = 1) > prediction_threshold).astype(int)\n",
    "    Y_test = funnel[['client_id', 'sale_flg']].set_index('client_id')\n",
    "    test_funnel =  funnel.set_index('client_id')\n",
    "if n_fold == 1 and n_seed == 1:\n",
    "    Y_predicted = (prediction > prediction_threshold).astype(int)\n",
    "    Y_test = funnel[['client_id', 'sale_flg']].iloc[split_indexes[0][1]].set_index('client_id')\n",
    "    test_funnel = funnel.iloc[split_indexes[0][1]].set_index('client_id')"
   ]
  },
  {
   "cell_type": "code",
   "execution_count": 384,
   "id": "957fc07b",
   "metadata": {},
   "outputs": [],
   "source": [
    "try: \n",
    "    os.mkdir(OUTPUT_PATH / 'scoring')\n",
    "except:\n",
    "    shutil.rmtree(OUTPUT_PATH / 'scoring')\n",
    "    os.mkdir(OUTPUT_PATH / 'scoring')"
   ]
  },
  {
   "cell_type": "code",
   "execution_count": 385,
   "id": "469fb900",
   "metadata": {},
   "outputs": [],
   "source": [
    "public_score, private_score = local_scorer.get_score(test_funnel, Y_predicted, Y_test)"
   ]
  },
  {
   "cell_type": "code",
   "execution_count": 386,
   "id": "e635fc22",
   "metadata": {},
   "outputs": [],
   "source": [
    "validation_accuracy = accuracy_score(Y_test['sale_flg'], Y_predicted)\n",
    "print(f'Public ANIC {public_score} Private ANIC {private_score}')\n",
    "print(f'ANIC {1/3*public_score+ 2/3 * private_score}')\n",
    "print(f'Accuracy score: {validation_accuracy}')"
   ]
  },
  {
   "cell_type": "code",
   "execution_count": 387,
   "id": "5e6eb772",
   "metadata": {},
   "outputs": [
    {
     "name": "stdout",
     "output_type": "stream",
     "text": [
      "<AxesSubplot:title={'center':'Feature importance'}, xlabel='Feature importance', ylabel='Features'>"
     ]
    }
   ],
   "source": [
    "import lightgbm\n",
    "import matplotlib.pyplot as plt\n",
    "plt.figure(figsize = (30, 30))\n",
    "lightgbm.plot_importance(model)"
   ]
  },
  {
   "cell_type": "code",
   "execution_count": 388,
   "id": "d4290aad",
   "metadata": {},
   "outputs": [],
   "source": [
    "from sklearn.cluster import KMeans\n",
    "# Create cluster feature\n",
    "kmeans = KMeans(n_clusters=3)\n",
    "data['cluster'] = kmeans.fit_predict(data[[f'feature_{i}' for i in range(1, 11)]].fillna(0))"
   ]
  },
  {
   "cell_type": "code",
   "execution_count": 389,
   "id": "fd35f669",
   "metadata": {},
   "outputs": [],
   "source": [
    "# for feature_1 in [f'feature_{i}'for i in range(1, 11)]:\n",
    "#     for feature_2 in [f'feature_{i}'for i in range(1, 11)]:\n",
    "#         if feature_1 != feature_2:\n",
    "#             data[f'{feature_1} + {feature_2}'] = data[feature_1] + data[feature_2]\n",
    "#             data[f'{feature_1} * {feature_2}'] = data[feature_1] * data[feature_2]\n",
    "#             data[f'{feature_1} / {feature_2}'] = data[feature_1] / data[feature_2]\n",
    "#             data[f'{feature_1} - {feature_2}'] = data[feature_1] - data[feature_2]"
   ]
  },
  {
   "cell_type": "code",
   "execution_count": 390,
   "id": "23ff92e1",
   "metadata": {},
   "outputs": [],
   "source": [
    "%%time\n",
    "# create features\n",
    "\n",
    "# data = create_features_transactions(data)\n",
    "# data = create_features_aum(data)\n",
    "# data = create_features_balance(data)\n",
    "# data = create_features_client(data)\n",
    "# data = create_features_campaigns(data)\n",
    "# data = create_features_deals(data)\n",
    "# data = create_features_dict_mcc(data)\n",
    "# data = create_features_payments(data)\n",
    "# data = create_features_appl(data)\n",
    "# data = create_features_funnel(data)\n",
    "# data = create_features_deals(data)"
   ]
  },
  {
   "cell_type": "code",
   "execution_count": 391,
   "id": "f2948868",
   "metadata": {},
   "outputs": [],
   "source": [
    "try:\n",
    "    os.mkdir(OUTPUT_PATH / 'preprocessors')\n",
    "except:\n",
    "    shutil.rmtree(OUTPUT_PATH / 'preprocessors')\n",
    "    os.mkdir(OUTPUT_PATH / 'preprocessors')"
   ]
  },
  {
   "cell_type": "code",
   "execution_count": 392,
   "id": "3fb9de23",
   "metadata": {},
   "outputs": [],
   "source": [
    "# data encode\n",
    "\n",
    "for c in data.columns:\n",
    "    col_type = data[c].dtype\n",
    "    if col_type == 'object' or col_type.name == 'category':\n",
    "        data[c] = data[c].astype('category')"
   ]
  },
  {
   "cell_type": "code",
   "execution_count": 393,
   "id": "22da92a0",
   "metadata": {},
   "outputs": [],
   "source": [
    "TARGET_COLUMNS =  ['sale_flg', 'sale_amount', 'contacts']"
   ]
  },
  {
   "cell_type": "code",
   "execution_count": 394,
   "id": "024d4229",
   "metadata": {},
   "outputs": [],
   "source": [
    "X = data.drop(columns = TARGET_COLUMNS + ['client_id'])\n",
    "Y = data[TARGET_COLUMNS[0]]"
   ]
  },
  {
   "cell_type": "code",
   "execution_count": 395,
   "id": "21a63a57",
   "metadata": {},
   "outputs": [],
   "source": [
    "import shutil\n",
    "try:\n",
    "    os.mkdir(OUTPUT_PATH / 'models')\n",
    "except:\n",
    "    shutil.rmtree(OUTPUT_PATH / 'models')\n",
    "    os.mkdir(OUTPUT_PATH / 'models')"
   ]
  },
  {
   "cell_type": "code",
   "execution_count": 396,
   "id": "608b2f7e",
   "metadata": {},
   "outputs": [],
   "source": [
    "learning_rate = 0.5\n",
    "num_leaves = 50\n",
    "min_data_in_leaf = 1000\n",
    "feature_fraction = 0.9\n",
    "num_boost_round = 3000"
   ]
  },
  {
   "cell_type": "code",
   "execution_count": 397,
   "id": "1a4094f0",
   "metadata": {},
   "outputs": [],
   "source": [
    "from lightgbm import LGBMRegressor\n",
    "def running_train(X_train, Y_train, X_val, Y_val, i_fold=None, seed=None, params = None):\n",
    "    # prepare for train\n",
    "    params = {\n",
    "# #           \"objective\": \"cross_entropy\",\n",
    "#           \"num_leaves\": 256,\n",
    "#            \"max_bin\": 128,\n",
    "#           \"feature_fraction\": feature_fraction,\n",
    "#           \"min_child_samples\": 5,\n",
    "#           \"min_child_weight\": 50,\n",
    "#           \"min_split_gain\": 0.1,\n",
    "#           \"subsample\": 0.7,\n",
    "          'n_jobs': -1,\n",
    "          'random_state': seed\n",
    "          }\n",
    "    \n",
    "    params['random_state'] = seed\n",
    "    \n",
    "    \n",
    "    model = LGBMRegressor(**params) # define model here\n",
    "    \n",
    "    # Fit and save model\n",
    "    \n",
    "    if X_val is None:\n",
    "        model.fit(X_train, Y_train, verbose=False)\n",
    "    else:\n",
    "        model.fit(X_train, Y_train,   eval_set=(X_val, Y_val), early_stopping_rounds=500, verbose=False)\n",
    "    joblib.dump(model, OUTPUT_PATH / 'models' / f'lightgbm_{i_fold}_{seed}_{CURRENT_TIME}.pkl')"
   ]
  },
  {
   "cell_type": "code",
   "execution_count": 398,
   "id": "36971f7b",
   "metadata": {},
   "outputs": [],
   "source": [
    "oof = np.zeros((X.shape[0], n_seed)) # cv_score\n",
    "seeds = []\n",
    "for i_seed in range(n_seed):\n",
    "    seed = FIXED_SEEDS[i_seed]\n",
    "    seed_everything(seed)\n",
    "\n",
    "    seeds.append(seed)\n",
    "    print('Seed: {}, {}/{}'.format(seed, i_seed + 1, n_seed))\n",
    "    \n",
    "    if n_fold != 1:\n",
    "        kf = KFold(n_splits=n_fold, random_state=seed, shuffle=True)\n",
    "        split_indexes = kf.split(X, Y)\n",
    "    else:\n",
    "        split_indexes = [train_test_split(np.arange(X.shape[0]), random_state=seed, shuffle = True)]\n",
    "    \n",
    "    for i_fold, (train_idx, val_idx) in enumerate(split_indexes):\n",
    "        print(\"# Fold: {}/{} (seed: {}/{})\".format(i_fold + 1, n_fold, i_seed + 1, n_seed))\n",
    "\n",
    "        # dataset\n",
    "        X_train, Y_train = X.iloc[train_idx], Y[train_idx]\n",
    "        X_val, Y_val = X.iloc[val_idx], Y[val_idx]\n",
    "\n",
    "\n",
    "        # train\n",
    "        running_train(X_train, Y_train, X_val, Y_val, i_fold=i_fold, seed=seed)\n",
    "\n",
    "        # predict on oof\n",
    "        print('predict on oof...', end='')\n",
    "        model = joblib.load( OUTPUT_PATH / 'models' / f'lightgbm_{i_fold}_{seed}_{CURRENT_TIME}.pkl')\n",
    "\n",
    "        #prediction = model.predict_proba(X_val)[:, 1]\n",
    "        prediction = model.predict(X_val)\n",
    "\n",
    "        oof[val_idx, i_seed] = prediction\n",
    "        print('  done.')"
   ]
  },
  {
   "cell_type": "code",
   "execution_count": 399,
   "id": "78c81fe1",
   "metadata": {},
   "outputs": [],
   "source": [
    "if n_fold != 1:\n",
    "    Y_predicted = (np.mean(oof, axis = 1) > prediction_threshold).astype(int)\n",
    "    Y_test = funnel[['client_id', 'sale_flg']].set_index('client_id')\n",
    "    test_funnel =  funnel.set_index('client_id')\n",
    "if n_fold == 1 and n_seed == 1:\n",
    "    Y_predicted = (prediction > prediction_threshold).astype(int)\n",
    "    Y_test = funnel[['client_id', 'sale_flg']].iloc[split_indexes[0][1]].set_index('client_id')\n",
    "    test_funnel = funnel.iloc[split_indexes[0][1]].set_index('client_id')"
   ]
  },
  {
   "cell_type": "code",
   "execution_count": 400,
   "id": "4aecde16",
   "metadata": {},
   "outputs": [],
   "source": [
    "try: \n",
    "    os.mkdir(OUTPUT_PATH / 'scoring')\n",
    "except:\n",
    "    shutil.rmtree(OUTPUT_PATH / 'scoring')\n",
    "    os.mkdir(OUTPUT_PATH / 'scoring')"
   ]
  },
  {
   "cell_type": "code",
   "execution_count": 401,
   "id": "5a957f2d",
   "metadata": {},
   "outputs": [],
   "source": [
    "public_score, private_score = local_scorer.get_score(test_funnel, Y_predicted, Y_test)"
   ]
  },
  {
   "cell_type": "code",
   "execution_count": 402,
   "id": "b7b78955",
   "metadata": {},
   "outputs": [],
   "source": [
    "validation_accuracy = accuracy_score(Y_test['sale_flg'], Y_predicted)\n",
    "print(f'Public ANIC {public_score} Private ANIC {private_score}')\n",
    "print(f'ANIC {1/3*public_score+ 2/3 * private_score}')\n",
    "print(f'Accuracy score: {validation_accuracy}')"
   ]
  },
  {
   "cell_type": "code",
   "execution_count": 403,
   "id": "f24cabdb",
   "metadata": {},
   "outputs": [
    {
     "name": "stdout",
     "output_type": "stream",
     "text": [
      "<AxesSubplot:title={'center':'Feature importance'}, xlabel='Feature importance', ylabel='Features'>"
     ]
    }
   ],
   "source": [
    "import lightgbm\n",
    "import matplotlib.pyplot as plt\n",
    "plt.figure(figsize = (30, 30))\n",
    "lightgbm.plot_importance(model)"
   ]
  },
  {
   "cell_type": "code",
   "execution_count": 404,
   "id": "84568b69",
   "metadata": {},
   "outputs": [],
   "source": [
    "###############\n",
    "# Config\n",
    "###############\n",
    "\n",
    "n_seed = 3\n",
    "n_fold = 3\n",
    "prediction_threshold = 0.2\n",
    "retrain_after_valid = True\n",
    "make_submission = False"
   ]
  },
  {
   "cell_type": "code",
   "execution_count": 405,
   "id": "0f2217a1",
   "metadata": {},
   "outputs": [],
   "source": [
    "# data merge\n",
    "data = funnel.copy()\n",
    "data = funnel.merge(client, on=['client_id'])"
   ]
  },
  {
   "cell_type": "code",
   "execution_count": 406,
   "id": "9d3b5bc5",
   "metadata": {},
   "outputs": [],
   "source": [
    "for feature_1 in [f'feature_{i}'for i in range(1, 11)]:\n",
    "    data[f'{feature_1} ** 2'] = data[feature_1] ** 2\n",
    "    data[f'{feature_1} ** 0.5'] = data[feature_1] ** 0.5\n",
    "    data[f'{feature_1} log'] = np.log(data[feature_1])"
   ]
  },
  {
   "cell_type": "code",
   "execution_count": 407,
   "id": "cdb6643c",
   "metadata": {},
   "outputs": [],
   "source": [
    "from sklearn.cluster import KMeans\n",
    "# Create cluster feature\n",
    "kmeans = KMeans(n_clusters=3)\n",
    "data['cluster'] = kmeans.fit_predict(data[[f'feature_{i}' for i in range(1, 11)]].fillna(0))"
   ]
  },
  {
   "cell_type": "code",
   "execution_count": 408,
   "id": "4756dc7c",
   "metadata": {},
   "outputs": [],
   "source": [
    "# for feature_1 in [f'feature_{i}'for i in range(1, 11)]:\n",
    "#     for feature_2 in [f'feature_{i}'for i in range(1, 11)]:\n",
    "#         if feature_1 != feature_2:\n",
    "#             data[f'{feature_1} + {feature_2}'] = data[feature_1] + data[feature_2]\n",
    "#             data[f'{feature_1} * {feature_2}'] = data[feature_1] * data[feature_2]\n",
    "#             data[f'{feature_1} / {feature_2}'] = data[feature_1] / data[feature_2]\n",
    "#             data[f'{feature_1} - {feature_2}'] = data[feature_1] - data[feature_2]"
   ]
  },
  {
   "cell_type": "code",
   "execution_count": 409,
   "id": "932a4643",
   "metadata": {},
   "outputs": [],
   "source": [
    "%%time\n",
    "# create features\n",
    "\n",
    "# data = create_features_transactions(data)\n",
    "# data = create_features_aum(data)\n",
    "# data = create_features_balance(data)\n",
    "# data = create_features_client(data)\n",
    "# data = create_features_campaigns(data)\n",
    "# data = create_features_deals(data)\n",
    "# data = create_features_dict_mcc(data)\n",
    "# data = create_features_payments(data)\n",
    "# data = create_features_appl(data)\n",
    "# data = create_features_funnel(data)\n",
    "# data = create_features_deals(data)"
   ]
  },
  {
   "cell_type": "code",
   "execution_count": 410,
   "id": "1808b571",
   "metadata": {},
   "outputs": [],
   "source": [
    "try:\n",
    "    os.mkdir(OUTPUT_PATH / 'preprocessors')\n",
    "except:\n",
    "    shutil.rmtree(OUTPUT_PATH / 'preprocessors')\n",
    "    os.mkdir(OUTPUT_PATH / 'preprocessors')"
   ]
  },
  {
   "cell_type": "code",
   "execution_count": 411,
   "id": "f9b5fc68",
   "metadata": {},
   "outputs": [],
   "source": [
    "# data encode\n",
    "\n",
    "for c in data.columns:\n",
    "    col_type = data[c].dtype\n",
    "    if col_type == 'object' or col_type.name == 'category':\n",
    "        data[c] = data[c].astype('category')"
   ]
  },
  {
   "cell_type": "code",
   "execution_count": 412,
   "id": "2d40419a",
   "metadata": {},
   "outputs": [],
   "source": [
    "TARGET_COLUMNS =  ['sale_flg', 'sale_amount', 'contacts']"
   ]
  },
  {
   "cell_type": "code",
   "execution_count": 413,
   "id": "1587daa9",
   "metadata": {},
   "outputs": [],
   "source": [
    "X = data.drop(columns = TARGET_COLUMNS + ['client_id'])\n",
    "Y = data[TARGET_COLUMNS[0]]"
   ]
  },
  {
   "cell_type": "code",
   "execution_count": 414,
   "id": "43d9ccd6",
   "metadata": {},
   "outputs": [],
   "source": [
    "import shutil\n",
    "try:\n",
    "    os.mkdir(OUTPUT_PATH / 'models')\n",
    "except:\n",
    "    shutil.rmtree(OUTPUT_PATH / 'models')\n",
    "    os.mkdir(OUTPUT_PATH / 'models')"
   ]
  },
  {
   "cell_type": "code",
   "execution_count": 415,
   "id": "746880a2",
   "metadata": {},
   "outputs": [],
   "source": [
    "learning_rate = 0.5\n",
    "num_leaves = 50\n",
    "min_data_in_leaf = 1000\n",
    "feature_fraction = 0.9\n",
    "num_boost_round = 3000"
   ]
  },
  {
   "cell_type": "code",
   "execution_count": 416,
   "id": "13a2297a",
   "metadata": {},
   "outputs": [],
   "source": [
    "from lightgbm import LGBMRegressor\n",
    "def running_train(X_train, Y_train, X_val, Y_val, i_fold=None, seed=None, params = None):\n",
    "    # prepare for train\n",
    "    params = {\n",
    "# #           \"objective\": \"cross_entropy\",\n",
    "#           \"num_leaves\": 256,\n",
    "#            \"max_bin\": 128,\n",
    "#           \"feature_fraction\": feature_fraction,\n",
    "#           \"min_child_samples\": 5,\n",
    "#           \"min_child_weight\": 50,\n",
    "#           \"min_split_gain\": 0.1,\n",
    "#           \"subsample\": 0.7,\n",
    "          'n_jobs': -1,\n",
    "          'random_state': seed\n",
    "          }\n",
    "    \n",
    "    params['random_state'] = seed\n",
    "    \n",
    "    \n",
    "    model = LGBMRegressor(**params) # define model here\n",
    "    \n",
    "    # Fit and save model\n",
    "    \n",
    "    if X_val is None:\n",
    "        model.fit(X_train, Y_train, verbose=False)\n",
    "    else:\n",
    "        model.fit(X_train, Y_train,   eval_set=(X_val, Y_val), early_stopping_rounds=500, verbose=False)\n",
    "    joblib.dump(model, OUTPUT_PATH / 'models' / f'lightgbm_{i_fold}_{seed}_{CURRENT_TIME}.pkl')"
   ]
  },
  {
   "cell_type": "code",
   "execution_count": 417,
   "id": "46ad2e69",
   "metadata": {},
   "outputs": [],
   "source": [
    "oof = np.zeros((X.shape[0], n_seed)) # cv_score\n",
    "seeds = []\n",
    "for i_seed in range(n_seed):\n",
    "    seed = FIXED_SEEDS[i_seed]\n",
    "    seed_everything(seed)\n",
    "\n",
    "    seeds.append(seed)\n",
    "    print('Seed: {}, {}/{}'.format(seed, i_seed + 1, n_seed))\n",
    "    \n",
    "    if n_fold != 1:\n",
    "        kf = KFold(n_splits=n_fold, random_state=seed, shuffle=True)\n",
    "        split_indexes = kf.split(X, Y)\n",
    "    else:\n",
    "        split_indexes = [train_test_split(np.arange(X.shape[0]), random_state=seed, shuffle = True)]\n",
    "    \n",
    "    for i_fold, (train_idx, val_idx) in enumerate(split_indexes):\n",
    "        print(\"# Fold: {}/{} (seed: {}/{})\".format(i_fold + 1, n_fold, i_seed + 1, n_seed))\n",
    "\n",
    "        # dataset\n",
    "        X_train, Y_train = X.iloc[train_idx], Y[train_idx]\n",
    "        X_val, Y_val = X.iloc[val_idx], Y[val_idx]\n",
    "\n",
    "\n",
    "        # train\n",
    "        running_train(X_train, Y_train, X_val, Y_val, i_fold=i_fold, seed=seed)\n",
    "\n",
    "        # predict on oof\n",
    "        print('predict on oof...', end='')\n",
    "        model = joblib.load( OUTPUT_PATH / 'models' / f'lightgbm_{i_fold}_{seed}_{CURRENT_TIME}.pkl')\n",
    "\n",
    "        #prediction = model.predict_proba(X_val)[:, 1]\n",
    "        prediction = model.predict(X_val)\n",
    "\n",
    "        oof[val_idx, i_seed] = prediction\n",
    "        print('  done.')"
   ]
  },
  {
   "cell_type": "code",
   "execution_count": 418,
   "id": "644a5876",
   "metadata": {},
   "outputs": [],
   "source": [
    "if n_fold != 1:\n",
    "    Y_predicted = (np.mean(oof, axis = 1) > prediction_threshold).astype(int)\n",
    "    Y_test = funnel[['client_id', 'sale_flg']].set_index('client_id')\n",
    "    test_funnel =  funnel.set_index('client_id')\n",
    "if n_fold == 1 and n_seed == 1:\n",
    "    Y_predicted = (prediction > prediction_threshold).astype(int)\n",
    "    Y_test = funnel[['client_id', 'sale_flg']].iloc[split_indexes[0][1]].set_index('client_id')\n",
    "    test_funnel = funnel.iloc[split_indexes[0][1]].set_index('client_id')"
   ]
  },
  {
   "cell_type": "code",
   "execution_count": 419,
   "id": "93a0df17",
   "metadata": {},
   "outputs": [],
   "source": [
    "try: \n",
    "    os.mkdir(OUTPUT_PATH / 'scoring')\n",
    "except:\n",
    "    shutil.rmtree(OUTPUT_PATH / 'scoring')\n",
    "    os.mkdir(OUTPUT_PATH / 'scoring')"
   ]
  },
  {
   "cell_type": "code",
   "execution_count": 420,
   "id": "d459712f",
   "metadata": {},
   "outputs": [],
   "source": [
    "public_score, private_score = local_scorer.get_score(test_funnel, Y_predicted, Y_test)"
   ]
  },
  {
   "cell_type": "code",
   "execution_count": 421,
   "id": "f66ecb1d",
   "metadata": {},
   "outputs": [],
   "source": [
    "validation_accuracy = accuracy_score(Y_test['sale_flg'], Y_predicted)\n",
    "print(f'Public ANIC {public_score} Private ANIC {private_score}')\n",
    "print(f'ANIC {1/3*public_score+ 2/3 * private_score}')\n",
    "print(f'Accuracy score: {validation_accuracy}')"
   ]
  },
  {
   "cell_type": "code",
   "execution_count": 422,
   "id": "c1661bc6",
   "metadata": {},
   "outputs": [],
   "source": [
    "# data merge\n",
    "data = funnel.copy()\n",
    "data = funnel.merge(client, on=['client_id'])"
   ]
  },
  {
   "cell_type": "code",
   "execution_count": 423,
   "id": "31af2ff3",
   "metadata": {},
   "outputs": [],
   "source": [
    "for feature_1 in [f'feature_{i}'for i in range(1, 11)]:\n",
    "    data[f'{feature_1} ** 2'] = data[feature_1] ** 2\n",
    "    data[f'{feature_1} ** 0.5'] = data[feature_1] ** 0.5\n",
    "    data[f'{feature_1} log'] = np.log(data[feature_1])"
   ]
  },
  {
   "cell_type": "code",
   "execution_count": 424,
   "id": "6931daa6",
   "metadata": {},
   "outputs": [],
   "source": [
    "from sklearn.cluster import KMeans\n",
    "# Create cluster feature\n",
    "kmeans = KMeans(n_clusters=3)\n",
    "data['cluster'] = kmeans.fit_predict(data[[f'feature_{i}' for i in range(1, 11)]].fillna(0))\n",
    "\n",
    "joblib.dump(model, OUTPUT_PATH / 'kmeans' / f'kmeans.pkl')"
   ]
  },
  {
   "cell_type": "code",
   "execution_count": 425,
   "id": "188c44ad",
   "metadata": {},
   "outputs": [],
   "source": [
    "from sklearn.cluster import KMeans\n",
    "# Create cluster feature\n",
    "kmeans = KMeans(n_clusters=3)\n",
    "data['cluster'] = kmeans.fit_predict(data[[f'feature_{i}' for i in range(1, 11)]].fillna(0))\n",
    "\n",
    "joblib.dump(kmeans, OUTPUT_PATH / 'kmeans' / f'kmeans.pkl')"
   ]
  },
  {
   "cell_type": "code",
   "execution_count": 426,
   "id": "07809a95",
   "metadata": {},
   "outputs": [
    {
     "name": "stdout",
     "output_type": "stream",
     "text": [
      "['../output/cluster/kmeans.pkl']"
     ]
    }
   ],
   "source": [
    "from sklearn.cluster import KMeans\n",
    "# Create cluster feature\n",
    "kmeans = KMeans(n_clusters=3)\n",
    "data['cluster'] = kmeans.fit_predict(data[[f'feature_{i}' for i in range(1, 11)]].fillna(0))\n",
    "\n",
    "joblib.dump(kmeans, OUTPUT_PATH / 'cluster' / f'kmeans.pkl')"
   ]
  },
  {
   "cell_type": "code",
   "execution_count": 427,
   "id": "8676536f",
   "metadata": {},
   "outputs": [],
   "source": [
    "# for feature_1 in [f'feature_{i}'for i in range(1, 11)]:\n",
    "#     for feature_2 in [f'feature_{i}'for i in range(1, 11)]:\n",
    "#         if feature_1 != feature_2:\n",
    "#             data[f'{feature_1} + {feature_2}'] = data[feature_1] + data[feature_2]\n",
    "#             data[f'{feature_1} * {feature_2}'] = data[feature_1] * data[feature_2]\n",
    "#             data[f'{feature_1} / {feature_2}'] = data[feature_1] / data[feature_2]\n",
    "#             data[f'{feature_1} - {feature_2}'] = data[feature_1] - data[feature_2]"
   ]
  },
  {
   "cell_type": "code",
   "execution_count": 428,
   "id": "b6d7e4b0",
   "metadata": {},
   "outputs": [],
   "source": [
    "%%time\n",
    "# create features\n",
    "\n",
    "# data = create_features_transactions(data)\n",
    "# data = create_features_aum(data)\n",
    "# data = create_features_balance(data)\n",
    "# data = create_features_client(data)\n",
    "# data = create_features_campaigns(data)\n",
    "# data = create_features_deals(data)\n",
    "# data = create_features_dict_mcc(data)\n",
    "# data = create_features_payments(data)\n",
    "# data = create_features_appl(data)\n",
    "# data = create_features_funnel(data)\n",
    "# data = create_features_deals(data)"
   ]
  },
  {
   "cell_type": "code",
   "execution_count": 429,
   "id": "b0e4aea4",
   "metadata": {},
   "outputs": [],
   "source": [
    "try:\n",
    "    os.mkdir(OUTPUT_PATH / 'preprocessors')\n",
    "except:\n",
    "    shutil.rmtree(OUTPUT_PATH / 'preprocessors')\n",
    "    os.mkdir(OUTPUT_PATH / 'preprocessors')"
   ]
  },
  {
   "cell_type": "code",
   "execution_count": 430,
   "id": "c12074b9",
   "metadata": {},
   "outputs": [],
   "source": [
    "# data encode\n",
    "\n",
    "for c in data.columns:\n",
    "    col_type = data[c].dtype\n",
    "    if col_type == 'object' or col_type.name == 'category':\n",
    "        data[c] = data[c].astype('category')"
   ]
  },
  {
   "cell_type": "code",
   "execution_count": 431,
   "id": "bc10779b",
   "metadata": {},
   "outputs": [],
   "source": [
    "TARGET_COLUMNS =  ['sale_flg', 'sale_amount', 'contacts']"
   ]
  },
  {
   "cell_type": "code",
   "execution_count": 432,
   "id": "5bfc1dd8",
   "metadata": {},
   "outputs": [],
   "source": [
    "X = data.drop(columns = TARGET_COLUMNS + ['client_id'])\n",
    "Y = data[TARGET_COLUMNS[0]]"
   ]
  },
  {
   "cell_type": "code",
   "execution_count": 433,
   "id": "d605e580",
   "metadata": {},
   "outputs": [],
   "source": [
    "import shutil\n",
    "try:\n",
    "    os.mkdir(OUTPUT_PATH / 'models')\n",
    "except:\n",
    "    shutil.rmtree(OUTPUT_PATH / 'models')\n",
    "    os.mkdir(OUTPUT_PATH / 'models')"
   ]
  },
  {
   "cell_type": "code",
   "execution_count": 434,
   "id": "b906fbe9",
   "metadata": {},
   "outputs": [],
   "source": [
    "learning_rate = 0.5\n",
    "num_leaves = 50\n",
    "min_data_in_leaf = 1000\n",
    "feature_fraction = 0.9\n",
    "num_boost_round = 3000"
   ]
  },
  {
   "cell_type": "code",
   "execution_count": 435,
   "id": "0cfd6974",
   "metadata": {},
   "outputs": [],
   "source": [
    "from lightgbm import LGBMRegressor\n",
    "def running_train(X_train, Y_train, X_val, Y_val, i_fold=None, seed=None, params = None):\n",
    "    # prepare for train\n",
    "    params = {\n",
    "# #           \"objective\": \"cross_entropy\",\n",
    "#           \"num_leaves\": 256,\n",
    "#            \"max_bin\": 128,\n",
    "#           \"feature_fraction\": feature_fraction,\n",
    "#           \"min_child_samples\": 5,\n",
    "#           \"min_child_weight\": 50,\n",
    "#           \"min_split_gain\": 0.1,\n",
    "#           \"subsample\": 0.7,\n",
    "          'n_jobs': -1,\n",
    "          'random_state': seed\n",
    "          }\n",
    "    \n",
    "    params['random_state'] = seed\n",
    "    \n",
    "    \n",
    "    model = LGBMRegressor(**params) # define model here\n",
    "    \n",
    "    # Fit and save model\n",
    "    \n",
    "    if X_val is None:\n",
    "        model.fit(X_train, Y_train, verbose=False)\n",
    "    else:\n",
    "        model.fit(X_train, Y_train,   eval_set=(X_val, Y_val), early_stopping_rounds=500, verbose=False)\n",
    "    joblib.dump(model, OUTPUT_PATH / 'models' / f'lightgbm_{i_fold}_{seed}_{CURRENT_TIME}.pkl')"
   ]
  },
  {
   "cell_type": "code",
   "execution_count": 436,
   "id": "db69d674",
   "metadata": {},
   "outputs": [],
   "source": [
    "oof = np.zeros((X.shape[0], n_seed)) # cv_score\n",
    "seeds = []\n",
    "for i_seed in range(n_seed):\n",
    "    seed = FIXED_SEEDS[i_seed]\n",
    "    seed_everything(seed)\n",
    "\n",
    "    seeds.append(seed)\n",
    "    print('Seed: {}, {}/{}'.format(seed, i_seed + 1, n_seed))\n",
    "    \n",
    "    if n_fold != 1:\n",
    "        kf = KFold(n_splits=n_fold, random_state=seed, shuffle=True)\n",
    "        split_indexes = kf.split(X, Y)\n",
    "    else:\n",
    "        split_indexes = [train_test_split(np.arange(X.shape[0]), random_state=seed, shuffle = True)]\n",
    "    \n",
    "    for i_fold, (train_idx, val_idx) in enumerate(split_indexes):\n",
    "        print(\"# Fold: {}/{} (seed: {}/{})\".format(i_fold + 1, n_fold, i_seed + 1, n_seed))\n",
    "\n",
    "        # dataset\n",
    "        X_train, Y_train = X.iloc[train_idx], Y[train_idx]\n",
    "        X_val, Y_val = X.iloc[val_idx], Y[val_idx]\n",
    "\n",
    "\n",
    "        # train\n",
    "        running_train(X_train, Y_train, X_val, Y_val, i_fold=i_fold, seed=seed)\n",
    "\n",
    "        # predict on oof\n",
    "        print('predict on oof...', end='')\n",
    "        model = joblib.load( OUTPUT_PATH / 'models' / f'lightgbm_{i_fold}_{seed}_{CURRENT_TIME}.pkl')\n",
    "\n",
    "        #prediction = model.predict_proba(X_val)[:, 1]\n",
    "        prediction = model.predict(X_val)\n",
    "\n",
    "        oof[val_idx, i_seed] = prediction\n",
    "        print('  done.')"
   ]
  },
  {
   "cell_type": "code",
   "execution_count": 437,
   "id": "421041a1",
   "metadata": {},
   "outputs": [],
   "source": [
    "if n_fold != 1:\n",
    "    Y_predicted = (np.mean(oof, axis = 1) > prediction_threshold).astype(int)\n",
    "    Y_test = funnel[['client_id', 'sale_flg']].set_index('client_id')\n",
    "    test_funnel =  funnel.set_index('client_id')\n",
    "if n_fold == 1 and n_seed == 1:\n",
    "    Y_predicted = (prediction > prediction_threshold).astype(int)\n",
    "    Y_test = funnel[['client_id', 'sale_flg']].iloc[split_indexes[0][1]].set_index('client_id')\n",
    "    test_funnel = funnel.iloc[split_indexes[0][1]].set_index('client_id')"
   ]
  },
  {
   "cell_type": "code",
   "execution_count": 438,
   "id": "15cf3d41",
   "metadata": {},
   "outputs": [],
   "source": [
    "try: \n",
    "    os.mkdir(OUTPUT_PATH / 'scoring')\n",
    "except:\n",
    "    shutil.rmtree(OUTPUT_PATH / 'scoring')\n",
    "    os.mkdir(OUTPUT_PATH / 'scoring')"
   ]
  },
  {
   "cell_type": "code",
   "execution_count": 439,
   "id": "465c9068",
   "metadata": {},
   "outputs": [],
   "source": [
    "public_score, private_score = local_scorer.get_score(test_funnel, Y_predicted, Y_test)"
   ]
  },
  {
   "cell_type": "code",
   "execution_count": 440,
   "id": "85ba85dc",
   "metadata": {},
   "outputs": [],
   "source": [
    "validation_accuracy = accuracy_score(Y_test['sale_flg'], Y_predicted)\n",
    "print(f'Public ANIC {public_score} Private ANIC {private_score}')\n",
    "print(f'ANIC {1/3*public_score+ 2/3 * private_score}')\n",
    "print(f'Accuracy score: {validation_accuracy}')"
   ]
  },
  {
   "cell_type": "code",
   "execution_count": 441,
   "id": "c014e6e9",
   "metadata": {},
   "outputs": [],
   "source": [
    "###############\n",
    "# Config\n",
    "###############\n",
    "\n",
    "n_seed = 10\n",
    "n_fold = 3\n",
    "prediction_threshold = 0.2\n",
    "retrain_after_valid = True\n",
    "make_submission = False"
   ]
  },
  {
   "cell_type": "code",
   "execution_count": 442,
   "id": "1a940c01",
   "metadata": {},
   "outputs": [],
   "source": [
    "# data merge\n",
    "data = funnel.copy()\n",
    "data = funnel.merge(client, on=['client_id'])"
   ]
  },
  {
   "cell_type": "code",
   "execution_count": 443,
   "id": "ae90f526",
   "metadata": {},
   "outputs": [],
   "source": [
    "for feature_1 in [f'feature_{i}'for i in range(1, 11)]:\n",
    "    data[f'{feature_1} ** 2'] = data[feature_1] ** 2\n",
    "    data[f'{feature_1} ** 0.5'] = data[feature_1] ** 0.5\n",
    "    data[f'{feature_1} log'] = np.log(data[feature_1])"
   ]
  },
  {
   "cell_type": "code",
   "execution_count": 444,
   "id": "1adaa4d0",
   "metadata": {},
   "outputs": [
    {
     "name": "stdout",
     "output_type": "stream",
     "text": [
      "['../output/cluster/kmeans.pkl']"
     ]
    }
   ],
   "source": [
    "from sklearn.cluster import KMeans\n",
    "# Create cluster feature\n",
    "kmeans = KMeans(n_clusters=3)\n",
    "data['cluster'] = kmeans.fit_predict(data[[f'feature_{i}' for i in range(1, 11)]].fillna(0))\n",
    "\n",
    "joblib.dump(kmeans, OUTPUT_PATH / 'cluster' / f'kmeans.pkl')"
   ]
  },
  {
   "cell_type": "code",
   "execution_count": 445,
   "id": "ca7d91ef",
   "metadata": {},
   "outputs": [],
   "source": [
    "# for feature_1 in [f'feature_{i}'for i in range(1, 11)]:\n",
    "#     for feature_2 in [f'feature_{i}'for i in range(1, 11)]:\n",
    "#         if feature_1 != feature_2:\n",
    "#             data[f'{feature_1} + {feature_2}'] = data[feature_1] + data[feature_2]\n",
    "#             data[f'{feature_1} * {feature_2}'] = data[feature_1] * data[feature_2]\n",
    "#             data[f'{feature_1} / {feature_2}'] = data[feature_1] / data[feature_2]\n",
    "#             data[f'{feature_1} - {feature_2}'] = data[feature_1] - data[feature_2]"
   ]
  },
  {
   "cell_type": "code",
   "execution_count": 446,
   "id": "46e6862b",
   "metadata": {},
   "outputs": [],
   "source": [
    "%%time\n",
    "# create features\n",
    "\n",
    "# data = create_features_transactions(data)\n",
    "# data = create_features_aum(data)\n",
    "# data = create_features_balance(data)\n",
    "# data = create_features_client(data)\n",
    "# data = create_features_campaigns(data)\n",
    "# data = create_features_deals(data)\n",
    "# data = create_features_dict_mcc(data)\n",
    "# data = create_features_payments(data)\n",
    "# data = create_features_appl(data)\n",
    "# data = create_features_funnel(data)\n",
    "# data = create_features_deals(data)"
   ]
  },
  {
   "cell_type": "code",
   "execution_count": 447,
   "id": "633c8525",
   "metadata": {},
   "outputs": [],
   "source": [
    "try:\n",
    "    os.mkdir(OUTPUT_PATH / 'preprocessors')\n",
    "except:\n",
    "    shutil.rmtree(OUTPUT_PATH / 'preprocessors')\n",
    "    os.mkdir(OUTPUT_PATH / 'preprocessors')"
   ]
  },
  {
   "cell_type": "code",
   "execution_count": 448,
   "id": "cb2bc4cf",
   "metadata": {},
   "outputs": [],
   "source": [
    "# data encode\n",
    "\n",
    "for c in data.columns:\n",
    "    col_type = data[c].dtype\n",
    "    if col_type == 'object' or col_type.name == 'category':\n",
    "        data[c] = data[c].astype('category')"
   ]
  },
  {
   "cell_type": "code",
   "execution_count": 449,
   "id": "8be290e8",
   "metadata": {},
   "outputs": [],
   "source": [
    "TARGET_COLUMNS =  ['sale_flg', 'sale_amount', 'contacts']"
   ]
  },
  {
   "cell_type": "code",
   "execution_count": 450,
   "id": "231335f6",
   "metadata": {},
   "outputs": [],
   "source": [
    "X = data.drop(columns = TARGET_COLUMNS + ['client_id'])\n",
    "Y = data[TARGET_COLUMNS[0]]"
   ]
  },
  {
   "cell_type": "code",
   "execution_count": 451,
   "id": "db0e20b6",
   "metadata": {},
   "outputs": [],
   "source": [
    "import shutil\n",
    "try:\n",
    "    os.mkdir(OUTPUT_PATH / 'models')\n",
    "except:\n",
    "    shutil.rmtree(OUTPUT_PATH / 'models')\n",
    "    os.mkdir(OUTPUT_PATH / 'models')"
   ]
  },
  {
   "cell_type": "code",
   "execution_count": 452,
   "id": "4a4b852b",
   "metadata": {},
   "outputs": [],
   "source": [
    "learning_rate = 0.5\n",
    "num_leaves = 50\n",
    "min_data_in_leaf = 1000\n",
    "feature_fraction = 0.9\n",
    "num_boost_round = 3000"
   ]
  },
  {
   "cell_type": "code",
   "execution_count": 453,
   "id": "30e2a6e8",
   "metadata": {},
   "outputs": [],
   "source": [
    "from lightgbm import LGBMRegressor\n",
    "def running_train(X_train, Y_train, X_val, Y_val, i_fold=None, seed=None, params = None):\n",
    "    # prepare for train\n",
    "    params = {\n",
    "# #           \"objective\": \"cross_entropy\",\n",
    "#           \"num_leaves\": 256,\n",
    "#            \"max_bin\": 128,\n",
    "#           \"feature_fraction\": feature_fraction,\n",
    "#           \"min_child_samples\": 5,\n",
    "#           \"min_child_weight\": 50,\n",
    "#           \"min_split_gain\": 0.1,\n",
    "#           \"subsample\": 0.7,\n",
    "          'n_jobs': -1,\n",
    "          'random_state': seed\n",
    "          }\n",
    "    \n",
    "    params['random_state'] = seed\n",
    "    \n",
    "    \n",
    "    model = LGBMRegressor(**params) # define model here\n",
    "    \n",
    "    # Fit and save model\n",
    "    \n",
    "    if X_val is None:\n",
    "        model.fit(X_train, Y_train, verbose=False)\n",
    "    else:\n",
    "        model.fit(X_train, Y_train,   eval_set=(X_val, Y_val), early_stopping_rounds=500, verbose=False)\n",
    "    joblib.dump(model, OUTPUT_PATH / 'models' / f'lightgbm_{i_fold}_{seed}_{CURRENT_TIME}.pkl')"
   ]
  },
  {
   "cell_type": "code",
   "execution_count": 454,
   "id": "9b2dcd49",
   "metadata": {},
   "outputs": [],
   "source": [
    "oof = np.zeros((X.shape[0], n_seed)) # cv_score\n",
    "seeds = []\n",
    "for i_seed in range(n_seed):\n",
    "    seed = FIXED_SEEDS[i_seed]\n",
    "    seed_everything(seed)\n",
    "\n",
    "    seeds.append(seed)\n",
    "    print('Seed: {}, {}/{}'.format(seed, i_seed + 1, n_seed))\n",
    "    \n",
    "    if n_fold != 1:\n",
    "        kf = KFold(n_splits=n_fold, random_state=seed, shuffle=True)\n",
    "        split_indexes = kf.split(X, Y)\n",
    "    else:\n",
    "        split_indexes = [train_test_split(np.arange(X.shape[0]), random_state=seed, shuffle = True)]\n",
    "    \n",
    "    for i_fold, (train_idx, val_idx) in enumerate(split_indexes):\n",
    "        print(\"# Fold: {}/{} (seed: {}/{})\".format(i_fold + 1, n_fold, i_seed + 1, n_seed))\n",
    "\n",
    "        # dataset\n",
    "        X_train, Y_train = X.iloc[train_idx], Y[train_idx]\n",
    "        X_val, Y_val = X.iloc[val_idx], Y[val_idx]\n",
    "\n",
    "\n",
    "        # train\n",
    "        running_train(X_train, Y_train, X_val, Y_val, i_fold=i_fold, seed=seed)\n",
    "\n",
    "        # predict on oof\n",
    "        print('predict on oof...', end='')\n",
    "        model = joblib.load( OUTPUT_PATH / 'models' / f'lightgbm_{i_fold}_{seed}_{CURRENT_TIME}.pkl')\n",
    "\n",
    "        #prediction = model.predict_proba(X_val)[:, 1]\n",
    "        prediction = model.predict(X_val)\n",
    "\n",
    "        oof[val_idx, i_seed] = prediction\n",
    "        print('  done.')"
   ]
  },
  {
   "cell_type": "code",
   "execution_count": 455,
   "id": "b08b39cd",
   "metadata": {},
   "outputs": [],
   "source": [
    "if n_fold != 1:\n",
    "    Y_predicted = (np.mean(oof, axis = 1) > prediction_threshold).astype(int)\n",
    "    Y_test = funnel[['client_id', 'sale_flg']].set_index('client_id')\n",
    "    test_funnel =  funnel.set_index('client_id')\n",
    "if n_fold == 1 and n_seed == 1:\n",
    "    Y_predicted = (prediction > prediction_threshold).astype(int)\n",
    "    Y_test = funnel[['client_id', 'sale_flg']].iloc[split_indexes[0][1]].set_index('client_id')\n",
    "    test_funnel = funnel.iloc[split_indexes[0][1]].set_index('client_id')"
   ]
  },
  {
   "cell_type": "code",
   "execution_count": 456,
   "id": "1e0aec4a",
   "metadata": {},
   "outputs": [],
   "source": [
    "try: \n",
    "    os.mkdir(OUTPUT_PATH / 'scoring')\n",
    "except:\n",
    "    shutil.rmtree(OUTPUT_PATH / 'scoring')\n",
    "    os.mkdir(OUTPUT_PATH / 'scoring')"
   ]
  },
  {
   "cell_type": "code",
   "execution_count": 457,
   "id": "79472622",
   "metadata": {},
   "outputs": [],
   "source": [
    "public_score, private_score = local_scorer.get_score(test_funnel, Y_predicted, Y_test)"
   ]
  },
  {
   "cell_type": "code",
   "execution_count": 458,
   "id": "52df397f",
   "metadata": {},
   "outputs": [],
   "source": [
    "validation_accuracy = accuracy_score(Y_test['sale_flg'], Y_predicted)\n",
    "print(f'Public ANIC {public_score} Private ANIC {private_score}')\n",
    "print(f'ANIC {1/3*public_score+ 2/3 * private_score}')\n",
    "print(f'Accuracy score: {validation_accuracy}')"
   ]
  },
  {
   "cell_type": "code",
   "execution_count": 459,
   "id": "10540716",
   "metadata": {},
   "outputs": [],
   "source": [
    "from lightgbm import LGBMRegressor\n",
    "def running_train(X_train, Y_train, X_val, Y_val, i_fold=None, seed=None, params = None):\n",
    "    # prepare for train\n",
    "    params = {\n",
    "# #           \"objective\": \"cross_entropy\",\n",
    "#           \"num_leaves\": 256,\n",
    "#            \"max_bin\": 128,\n",
    "#           \"feature_fraction\": feature_fraction,\n",
    "#           \"min_child_samples\": 5,\n",
    "#           \"min_child_weight\": 50,\n",
    "#           \"min_split_gain\": 0.1,\n",
    "#           \"subsample\": 0.7,\n",
    "          'n_jobs': -1,\n",
    "          'random_state': seed\n",
    "          }\n",
    "    \n",
    "    params['random_state'] = seed\n",
    "    \n",
    "    \n",
    "    model = LGBMClassifier(**params) # define model here\n",
    "    \n",
    "    # Fit and save model\n",
    "    \n",
    "    if X_val is None:\n",
    "        model.fit(X_train, Y_train, verbose=False)\n",
    "    else:\n",
    "        model.fit(X_train, Y_train,   eval_set=(X_val, Y_val), early_stopping_rounds=500, verbose=False)\n",
    "    joblib.dump(model, OUTPUT_PATH / 'models' / f'lightgbm_{i_fold}_{seed}_{CURRENT_TIME}.pkl')"
   ]
  },
  {
   "cell_type": "code",
   "execution_count": 460,
   "id": "643ccc9d",
   "metadata": {},
   "outputs": [],
   "source": [
    "oof = np.zeros((X.shape[0], n_seed)) # cv_score\n",
    "seeds = []\n",
    "for i_seed in range(n_seed):\n",
    "    seed = FIXED_SEEDS[i_seed]\n",
    "    seed_everything(seed)\n",
    "\n",
    "    seeds.append(seed)\n",
    "    print('Seed: {}, {}/{}'.format(seed, i_seed + 1, n_seed))\n",
    "    \n",
    "    if n_fold != 1:\n",
    "        kf = KFold(n_splits=n_fold, random_state=seed, shuffle=True)\n",
    "        split_indexes = kf.split(X, Y)\n",
    "    else:\n",
    "        split_indexes = [train_test_split(np.arange(X.shape[0]), random_state=seed, shuffle = True)]\n",
    "    \n",
    "    for i_fold, (train_idx, val_idx) in enumerate(split_indexes):\n",
    "        print(\"# Fold: {}/{} (seed: {}/{})\".format(i_fold + 1, n_fold, i_seed + 1, n_seed))\n",
    "\n",
    "        # dataset\n",
    "        X_train, Y_train = X.iloc[train_idx], Y[train_idx]\n",
    "        X_val, Y_val = X.iloc[val_idx], Y[val_idx]\n",
    "\n",
    "\n",
    "        # train\n",
    "        running_train(X_train, Y_train, X_val, Y_val, i_fold=i_fold, seed=seed)\n",
    "\n",
    "        # predict on oof\n",
    "        print('predict on oof...', end='')\n",
    "        model = joblib.load( OUTPUT_PATH / 'models' / f'lightgbm_{i_fold}_{seed}_{CURRENT_TIME}.pkl')\n",
    "\n",
    "        #prediction = model.predict_proba(X_val)[:, 1]\n",
    "        prediction = model.predict(X_val)\n",
    "\n",
    "        oof[val_idx, i_seed] = prediction\n",
    "        print('  done.')"
   ]
  },
  {
   "cell_type": "code",
   "execution_count": 461,
   "id": "986b7399",
   "metadata": {},
   "outputs": [],
   "source": [
    "if n_fold != 1:\n",
    "    Y_predicted = (np.mean(oof, axis = 1) > prediction_threshold).astype(int)\n",
    "    Y_test = funnel[['client_id', 'sale_flg']].set_index('client_id')\n",
    "    test_funnel =  funnel.set_index('client_id')\n",
    "if n_fold == 1 and n_seed == 1:\n",
    "    Y_predicted = (prediction > prediction_threshold).astype(int)\n",
    "    Y_test = funnel[['client_id', 'sale_flg']].iloc[split_indexes[0][1]].set_index('client_id')\n",
    "    test_funnel = funnel.iloc[split_indexes[0][1]].set_index('client_id')"
   ]
  },
  {
   "cell_type": "code",
   "execution_count": 462,
   "id": "785675ba",
   "metadata": {},
   "outputs": [],
   "source": [
    "if n_fold != 1:\n",
    "    Y_predicted = (np.mean(oof, axis = 1) > prediction_threshold).astype(int)\n",
    "    Y_test = funnel[['client_id', 'sale_flg']].set_index('client_id')\n",
    "    test_funnel =  funnel.set_index('client_id')\n",
    "if n_fold == 1 and n_seed == 1:\n",
    "    Y_predicted = (prediction > prediction_threshold).astype(int)\n",
    "    Y_test = funnel[['client_id', 'sale_flg']].iloc[split_indexes[0][1]].set_index('client_id')\n",
    "    test_funnel = funnel.iloc[split_indexes[0][1]].set_index('client_id')"
   ]
  },
  {
   "cell_type": "code",
   "execution_count": 463,
   "id": "40a2d2b3",
   "metadata": {},
   "outputs": [],
   "source": [
    "try: \n",
    "    os.mkdir(OUTPUT_PATH / 'scoring')\n",
    "except:\n",
    "    shutil.rmtree(OUTPUT_PATH / 'scoring')\n",
    "    os.mkdir(OUTPUT_PATH / 'scoring')"
   ]
  },
  {
   "cell_type": "code",
   "execution_count": 464,
   "id": "903d9259",
   "metadata": {},
   "outputs": [],
   "source": [
    "public_score, private_score = local_scorer.get_score(test_funnel, Y_predicted, Y_test)"
   ]
  },
  {
   "cell_type": "code",
   "execution_count": 465,
   "id": "bf507a94",
   "metadata": {},
   "outputs": [],
   "source": [
    "validation_accuracy = accuracy_score(Y_test['sale_flg'], Y_predicted)\n",
    "print(f'Public ANIC {public_score} Private ANIC {private_score}')\n",
    "print(f'ANIC {1/3*public_score+ 2/3 * private_score}')\n",
    "print(f'Accuracy score: {validation_accuracy}')"
   ]
  },
  {
   "cell_type": "code",
   "execution_count": 466,
   "id": "e0371950",
   "metadata": {},
   "outputs": [],
   "source": [
    "if n_fold != 1:\n",
    "    Y_predicted = (np.mean(oof, axis = 1) > 0.1).astype(int)\n",
    "    Y_test = funnel[['client_id', 'sale_flg']].set_index('client_id')\n",
    "    test_funnel =  funnel.set_index('client_id')\n",
    "if n_fold == 1 and n_seed == 1:\n",
    "    Y_predicted = (prediction > prediction_threshold).astype(int)\n",
    "    Y_test = funnel[['client_id', 'sale_flg']].iloc[split_indexes[0][1]].set_index('client_id')\n",
    "    test_funnel = funnel.iloc[split_indexes[0][1]].set_index('client_id')"
   ]
  },
  {
   "cell_type": "code",
   "execution_count": 467,
   "id": "4028fba6",
   "metadata": {},
   "outputs": [],
   "source": [
    "try: \n",
    "    os.mkdir(OUTPUT_PATH / 'scoring')\n",
    "except:\n",
    "    shutil.rmtree(OUTPUT_PATH / 'scoring')\n",
    "    os.mkdir(OUTPUT_PATH / 'scoring')"
   ]
  },
  {
   "cell_type": "code",
   "execution_count": 468,
   "id": "f5088e62",
   "metadata": {},
   "outputs": [],
   "source": [
    "public_score, private_score = local_scorer.get_score(test_funnel, Y_predicted, Y_test)"
   ]
  },
  {
   "cell_type": "code",
   "execution_count": 469,
   "id": "be3856b1",
   "metadata": {},
   "outputs": [],
   "source": [
    "validation_accuracy = accuracy_score(Y_test['sale_flg'], Y_predicted)\n",
    "print(f'Public ANIC {public_score} Private ANIC {private_score}')\n",
    "print(f'ANIC {1/3*public_score+ 2/3 * private_score}')\n",
    "print(f'Accuracy score: {validation_accuracy}')"
   ]
  },
  {
   "cell_type": "code",
   "execution_count": 470,
   "id": "dd915f3c",
   "metadata": {},
   "outputs": [],
   "source": [
    "if n_fold != 1:\n",
    "    Y_predicted = (np.mean(oof, axis = 1) > 0.25).astype(int)\n",
    "    Y_test = funnel[['client_id', 'sale_flg']].set_index('client_id')\n",
    "    test_funnel =  funnel.set_index('client_id')\n",
    "if n_fold == 1 and n_seed == 1:\n",
    "    Y_predicted = (prediction > prediction_threshold).astype(int)\n",
    "    Y_test = funnel[['client_id', 'sale_flg']].iloc[split_indexes[0][1]].set_index('client_id')\n",
    "    test_funnel = funnel.iloc[split_indexes[0][1]].set_index('client_id')"
   ]
  },
  {
   "cell_type": "code",
   "execution_count": 471,
   "id": "faf0c108",
   "metadata": {},
   "outputs": [],
   "source": [
    "try: \n",
    "    os.mkdir(OUTPUT_PATH / 'scoring')\n",
    "except:\n",
    "    shutil.rmtree(OUTPUT_PATH / 'scoring')\n",
    "    os.mkdir(OUTPUT_PATH / 'scoring')"
   ]
  },
  {
   "cell_type": "code",
   "execution_count": 472,
   "id": "34f90010",
   "metadata": {},
   "outputs": [],
   "source": [
    "public_score, private_score = local_scorer.get_score(test_funnel, Y_predicted, Y_test)"
   ]
  },
  {
   "cell_type": "code",
   "execution_count": 473,
   "id": "93fc04ca",
   "metadata": {},
   "outputs": [],
   "source": [
    "validation_accuracy = accuracy_score(Y_test['sale_flg'], Y_predicted)\n",
    "print(f'Public ANIC {public_score} Private ANIC {private_score}')\n",
    "print(f'ANIC {1/3*public_score+ 2/3 * private_score}')\n",
    "print(f'Accuracy score: {validation_accuracy}')"
   ]
  },
  {
   "cell_type": "code",
   "execution_count": 474,
   "id": "02849d59",
   "metadata": {},
   "outputs": [],
   "source": [
    "if n_fold != 1:\n",
    "    Y_predicted = (np.mean(oof, axis = 1) > 0.4).astype(int)\n",
    "    Y_test = funnel[['client_id', 'sale_flg']].set_index('client_id')\n",
    "    test_funnel =  funnel.set_index('client_id')\n",
    "if n_fold == 1 and n_seed == 1:\n",
    "    Y_predicted = (prediction > prediction_threshold).astype(int)\n",
    "    Y_test = funnel[['client_id', 'sale_flg']].iloc[split_indexes[0][1]].set_index('client_id')\n",
    "    test_funnel = funnel.iloc[split_indexes[0][1]].set_index('client_id')"
   ]
  },
  {
   "cell_type": "code",
   "execution_count": 475,
   "id": "86f222a1",
   "metadata": {},
   "outputs": [],
   "source": [
    "try: \n",
    "    os.mkdir(OUTPUT_PATH / 'scoring')\n",
    "except:\n",
    "    shutil.rmtree(OUTPUT_PATH / 'scoring')\n",
    "    os.mkdir(OUTPUT_PATH / 'scoring')"
   ]
  },
  {
   "cell_type": "code",
   "execution_count": 476,
   "id": "15646844",
   "metadata": {},
   "outputs": [],
   "source": [
    "public_score, private_score = local_scorer.get_score(test_funnel, Y_predicted, Y_test)"
   ]
  },
  {
   "cell_type": "code",
   "execution_count": 477,
   "id": "23e8b8b1",
   "metadata": {},
   "outputs": [],
   "source": [
    "validation_accuracy = accuracy_score(Y_test['sale_flg'], Y_predicted)\n",
    "print(f'Public ANIC {public_score} Private ANIC {private_score}')\n",
    "print(f'ANIC {1/3*public_score+ 2/3 * private_score}')\n",
    "print(f'Accuracy score: {validation_accuracy}')"
   ]
  },
  {
   "cell_type": "code",
   "execution_count": 478,
   "id": "46cf230b",
   "metadata": {},
   "outputs": [],
   "source": [
    "# data merge\n",
    "data = funnel.copy()\n",
    "data = funnel.merge(client, on=['client_id'])"
   ]
  },
  {
   "cell_type": "code",
   "execution_count": 479,
   "id": "eaf86612",
   "metadata": {},
   "outputs": [],
   "source": [
    "for feature_1 in [f'feature_{i}'for i in range(1, 11)]:\n",
    "    data[f'{feature_1} ** 2'] = data[feature_1] ** 2\n",
    "    data[f'{feature_1} ** 0.5'] = data[feature_1] ** 0.5\n",
    "    data[f'{feature_1} log'] = np.log(data[feature_1])"
   ]
  },
  {
   "cell_type": "code",
   "execution_count": 480,
   "id": "4a09d00f",
   "metadata": {},
   "outputs": [
    {
     "name": "stdout",
     "output_type": "stream",
     "text": [
      "['../output/cluster/kmeans.pkl']"
     ]
    }
   ],
   "source": [
    "from sklearn.cluster import KMeans\n",
    "# Create cluster feature\n",
    "kmeans = KMeans(n_clusters=3)\n",
    "data['cluster'] = kmeans.fit_predict(data[[f'feature_{i}' for i in range(1, 11)]].fillna(0))\n",
    "\n",
    "joblib.dump(kmeans, OUTPUT_PATH / 'cluster' / f'kmeans.pkl')"
   ]
  },
  {
   "cell_type": "code",
   "execution_count": 481,
   "id": "4af74e93",
   "metadata": {},
   "outputs": [],
   "source": [
    "# for feature_1 in [f'feature_{i}'for i in range(1, 11)]:\n",
    "#     for feature_2 in [f'feature_{i}'for i in range(1, 11)]:\n",
    "#         if feature_1 != feature_2:\n",
    "#             data[f'{feature_1} + {feature_2}'] = data[feature_1] + data[feature_2]\n",
    "#             data[f'{feature_1} * {feature_2}'] = data[feature_1] * data[feature_2]\n",
    "#             data[f'{feature_1} / {feature_2}'] = data[feature_1] / data[feature_2]\n",
    "#             data[f'{feature_1} - {feature_2}'] = data[feature_1] - data[feature_2]"
   ]
  },
  {
   "cell_type": "code",
   "execution_count": 482,
   "id": "4279c999",
   "metadata": {},
   "outputs": [],
   "source": [
    "%%time\n",
    "# create features\n",
    "\n",
    "# data = create_features_transactions(data)\n",
    "# data = create_features_aum(data)\n",
    "# data = create_features_balance(data)\n",
    "# data = create_features_client(data)\n",
    "# data = create_features_campaigns(data)\n",
    "# data = create_features_deals(data)\n",
    "# data = create_features_dict_mcc(data)\n",
    "# data = create_features_payments(data)\n",
    "# data = create_features_appl(data)\n",
    "# data = create_features_funnel(data)\n",
    "# data = create_features_deals(data)"
   ]
  },
  {
   "cell_type": "code",
   "execution_count": 483,
   "id": "9edc0237",
   "metadata": {},
   "outputs": [],
   "source": [
    "try:\n",
    "    os.mkdir(OUTPUT_PATH / 'preprocessors')\n",
    "except:\n",
    "    shutil.rmtree(OUTPUT_PATH / 'preprocessors')\n",
    "    os.mkdir(OUTPUT_PATH / 'preprocessors')"
   ]
  },
  {
   "cell_type": "code",
   "execution_count": 484,
   "id": "6c29d7a6",
   "metadata": {},
   "outputs": [],
   "source": [
    "# data encode\n",
    "\n",
    "for c in data.columns:\n",
    "    col_type = data[c].dtype\n",
    "    if col_type == 'object' or col_type.name == 'category':\n",
    "        data[c] = data[c].astype('category')"
   ]
  },
  {
   "cell_type": "code",
   "execution_count": 485,
   "id": "ade25b26",
   "metadata": {},
   "outputs": [],
   "source": [
    "TARGET_COLUMNS =  ['sale_flg', 'sale_amount', 'contacts']"
   ]
  },
  {
   "cell_type": "code",
   "execution_count": 486,
   "id": "d530e648",
   "metadata": {},
   "outputs": [],
   "source": [
    "X = data.drop(columns = TARGET_COLUMNS + ['client_id'])\n",
    "Y = data[TARGET_COLUMNS[0]]"
   ]
  },
  {
   "cell_type": "code",
   "execution_count": 487,
   "id": "1911b396",
   "metadata": {},
   "outputs": [
    {
     "name": "stdout",
     "output_type": "stream",
     "text": [
      "                 client_id  sale_flg  sale_amount  contacts  feature_1  \\\n",
      "0      7513301859607023584         0          NaN         1          7   \n",
      "1      9157009756404187626         0          NaN         1          3   \n",
      "2     -1893104556496814867         0          NaN         1          5   \n",
      "3      6886062013213911831         0          NaN         1          4   \n",
      "4     -8156468515495593794         1    138018.05         1          7   \n",
      "...                    ...       ...          ...       ...        ...   \n",
      "21493  4662551505651924284         0          NaN         2          3   \n",
      "21494 -8968737688687691353         0          NaN         1          9   \n",
      "21495 -5799097497074119478         0          NaN         1          2   \n",
      "21496 -2264802671063321355         1     43882.85         2          8   \n",
      "21497  -174115151336149439         0          NaN         1          3   \n",
      "\n",
      "       client_segment  feature_2  feature_3  feature_4  feature_5  ...  \\\n",
      "0                13.0   571533.0    15717.0        0.0        0.0  ...   \n",
      "1                13.0  3642369.0    94787.0        0.0        0.0  ...   \n",
      "2                16.0   352826.0     5500.0        0.0     6822.0  ...   \n",
      "3                 3.0  6070615.0    40580.0        0.0    30401.0  ...   \n",
      "4                14.0  3642369.0    97156.0    81488.0        0.0  ...   \n",
      "...               ...        ...        ...        ...        ...  ...   \n",
      "21493             3.0  6070615.0    97616.0    21921.0    85635.0  ...   \n",
      "21494            14.0  1821184.0     2428.0     3952.0        0.0  ...   \n",
      "21495            16.0  6070615.0    64991.0        0.0    13450.0  ...   \n",
      "21496             4.0  2282408.0     5832.0    16185.0        0.0  ...   \n",
      "21497             3.0  6070615.0  1014167.0        0.0  1053209.0  ...   \n",
      "\n",
      "       feature_8 ** 2  feature_8 ** 0.5  feature_8 log  feature_9 ** 2  \\\n",
      "0        2.233555e+11        687.462726      13.066015          108.16   \n",
      "1        1.098430e+13       1820.510093      15.013744           79.21   \n",
      "2        4.183416e+10        452.254353      12.228489           79.21   \n",
      "3        3.330811e+12       1350.944484      14.417118           62.41   \n",
      "4        1.098430e+13       1820.510093      15.013744          108.16   \n",
      "...               ...               ...            ...             ...   \n",
      "21493    1.928431e+13       2095.564602      15.295157           62.41   \n",
      "21494    5.132433e+09        267.658364      11.179423          396.01   \n",
      "21495    8.544952e+12       1709.729511      14.888181           62.41   \n",
      "21496    3.148815e+10        421.246958      12.086439          320.41   \n",
      "21497    3.051196e+13       2350.268708      15.524570           98.01   \n",
      "\n",
      "       feature_9 ** 0.5  feature_9 log feature_10 ** 2  feature_10 ** 0.5  \\\n",
      "0              3.224903       2.341806    1.574523e+08         112.017856   \n",
      "1              2.983287       2.186051    5.961384e+09         277.866875   \n",
      "2              2.983287       2.186051    3.033806e+07          74.215901   \n",
      "3              2.810694       2.066863    1.646980e+09         201.452228   \n",
      "4              3.224903       2.341806    6.100860e+09         279.478085   \n",
      "...                 ...            ...             ...                ...   \n",
      "21493          2.810694       2.066863    9.530836e+09         312.451596   \n",
      "21494          4.460942       2.990720    5.953600e+06          49.396356   \n",
      "21495          2.810694       2.066863    4.224740e+09         254.947053   \n",
      "21496          4.230839       2.884801    3.416402e+07          76.452600   \n",
      "21497          3.146427       2.292535    1.655957e+10         358.725522   \n",
      "\n",
      "       feature_10 log  cluster  \n",
      "0            9.437317        0  \n",
      "1           11.254284        1  \n",
      "2            8.613957        0  \n",
      "3           10.611105        2  \n",
      "4           11.265848        1  \n",
      "...               ...      ...  \n",
      "21493       11.488899        1  \n",
      "21494        7.799753        0  \n",
      "21495       11.082112        1  \n",
      "21496        8.673342        0  \n",
      "21497       11.765115        1  \n",
      "\n",
      "[21498 rows x 54 columns]"
     ]
    }
   ],
   "source": [
    "data"
   ]
  },
  {
   "cell_type": "code",
   "execution_count": 488,
   "id": "5727b424",
   "metadata": {},
   "outputs": [],
   "source": [
    "import shutil\n",
    "try:\n",
    "    os.mkdir(OUTPUT_PATH / 'models')\n",
    "except:\n",
    "    shutil.rmtree(OUTPUT_PATH / 'models')\n",
    "    os.mkdir(OUTPUT_PATH / 'models')"
   ]
  },
  {
   "cell_type": "code",
   "execution_count": 489,
   "id": "01c49cb4",
   "metadata": {},
   "outputs": [],
   "source": [
    "learning_rate = 0.5\n",
    "num_leaves = 50\n",
    "min_data_in_leaf = 1000\n",
    "feature_fraction = 0.9\n",
    "num_boost_round = 3000"
   ]
  },
  {
   "cell_type": "code",
   "execution_count": 490,
   "id": "f02bd5c0",
   "metadata": {},
   "outputs": [],
   "source": [
    "from lightgbm import LGBMRegressor\n",
    "def running_train(X_train, Y_train, X_val, Y_val, i_fold=None, seed=None, params = None):\n",
    "    # prepare for train\n",
    "    params = {\n",
    "# #           \"objective\": \"cross_entropy\",\n",
    "#           \"num_leaves\": 256,\n",
    "#            \"max_bin\": 128,\n",
    "#           \"feature_fraction\": feature_fraction,\n",
    "#           \"min_child_samples\": 5,\n",
    "#           \"min_child_weight\": 50,\n",
    "#           \"min_split_gain\": 0.1,\n",
    "#           \"subsample\": 0.7,\n",
    "          'n_jobs': -1,\n",
    "          'random_state': seed\n",
    "          }\n",
    "    \n",
    "    params['random_state'] = seed\n",
    "    \n",
    "    \n",
    "    model = LGBMClassifier(**params) # define model here\n",
    "    \n",
    "    # Fit and save model\n",
    "    \n",
    "    if X_val is None:\n",
    "        model.fit(X_train, Y_train, verbose=False)\n",
    "    else:\n",
    "        model.fit(X_train, Y_train,   eval_set=(X_val, Y_val), early_stopping_rounds=500, verbose=False)\n",
    "    joblib.dump(model, OUTPUT_PATH / 'models' / f'lightgbm_{i_fold}_{seed}_{CURRENT_TIME}.pkl')"
   ]
  },
  {
   "cell_type": "code",
   "execution_count": 491,
   "id": "b3b25ed2",
   "metadata": {},
   "outputs": [],
   "source": [
    "oof = np.zeros((X.shape[0], n_seed)) # cv_score\n",
    "seeds = []\n",
    "for i_seed in range(n_seed):\n",
    "    seed = FIXED_SEEDS[i_seed]\n",
    "    seed_everything(seed)\n",
    "\n",
    "    seeds.append(seed)\n",
    "    print('Seed: {}, {}/{}'.format(seed, i_seed + 1, n_seed))\n",
    "    \n",
    "    if n_fold != 1:\n",
    "        kf = KFold(n_splits=n_fold, random_state=seed, shuffle=True)\n",
    "        split_indexes = kf.split(X, Y)\n",
    "    else:\n",
    "        split_indexes = [train_test_split(np.arange(X.shape[0]), random_state=seed, shuffle = True)]\n",
    "    \n",
    "    for i_fold, (train_idx, val_idx) in enumerate(split_indexes):\n",
    "        print(\"# Fold: {}/{} (seed: {}/{})\".format(i_fold + 1, n_fold, i_seed + 1, n_seed))\n",
    "\n",
    "        # dataset\n",
    "        X_train, Y_train = X.iloc[train_idx], Y[train_idx]\n",
    "        X_val, Y_val = X.iloc[val_idx], Y[val_idx]\n",
    "\n",
    "\n",
    "        # train\n",
    "        running_train(X_train, Y_train, X_val, Y_val, i_fold=i_fold, seed=seed)\n",
    "\n",
    "        # predict on oof\n",
    "        print('predict on oof...', end='')\n",
    "        model = joblib.load( OUTPUT_PATH / 'models' / f'lightgbm_{i_fold}_{seed}_{CURRENT_TIME}.pkl')\n",
    "\n",
    "        #prediction = model.predict_proba(X_val)[:, 1]\n",
    "        prediction = model.predict(X_val)\n",
    "\n",
    "        oof[val_idx, i_seed] = prediction\n",
    "        print('  done.')"
   ]
  },
  {
   "cell_type": "code",
   "execution_count": 492,
   "id": "b1dd5050",
   "metadata": {},
   "outputs": [],
   "source": [
    "if n_fold != 1:\n",
    "    Y_predicted = (np.mean(oof, axis = 1) > prediction_threshold).astype(int)\n",
    "    Y_test = funnel[['client_id', 'sale_flg']].set_index('client_id')\n",
    "    test_funnel =  funnel.set_index('client_id')\n",
    "if n_fold == 1 and n_seed == 1:\n",
    "    Y_predicted = (prediction > prediction_threshold).astype(int)\n",
    "    Y_test = funnel[['client_id', 'sale_flg']].iloc[split_indexes[0][1]].set_index('client_id')\n",
    "    test_funnel = funnel.iloc[split_indexes[0][1]].set_index('client_id')"
   ]
  },
  {
   "cell_type": "code",
   "execution_count": 493,
   "id": "18334ca6",
   "metadata": {},
   "outputs": [],
   "source": [
    "try: \n",
    "    os.mkdir(OUTPUT_PATH / 'scoring')\n",
    "except:\n",
    "    shutil.rmtree(OUTPUT_PATH / 'scoring')\n",
    "    os.mkdir(OUTPUT_PATH / 'scoring')"
   ]
  },
  {
   "cell_type": "code",
   "execution_count": 494,
   "id": "aaa4975c",
   "metadata": {},
   "outputs": [],
   "source": [
    "public_score, private_score = local_scorer.get_score(test_funnel, Y_predicted, Y_test)"
   ]
  },
  {
   "cell_type": "code",
   "execution_count": 495,
   "id": "70640da7",
   "metadata": {},
   "outputs": [],
   "source": [
    "validation_accuracy = accuracy_score(Y_test['sale_flg'], Y_predicted)\n",
    "print(f'Public ANIC {public_score} Private ANIC {private_score}')\n",
    "print(f'ANIC {1/3*public_score+ 2/3 * private_score}')\n",
    "print(f'Accuracy score: {validation_accuracy}')"
   ]
  },
  {
   "cell_type": "code",
   "execution_count": 496,
   "id": "06e7352d",
   "metadata": {},
   "outputs": [],
   "source": [
    "if n_fold != 1:\n",
    "    Y_predicted = (np.mean(oof, axis = 1) > 0.15).astype(int)\n",
    "    Y_test = funnel[['client_id', 'sale_flg']].set_index('client_id')\n",
    "    test_funnel =  funnel.set_index('client_id')\n",
    "if n_fold == 1 and n_seed == 1:\n",
    "    Y_predicted = (prediction > prediction_threshold).astype(int)\n",
    "    Y_test = funnel[['client_id', 'sale_flg']].iloc[split_indexes[0][1]].set_index('client_id')\n",
    "    test_funnel = funnel.iloc[split_indexes[0][1]].set_index('client_id')"
   ]
  },
  {
   "cell_type": "code",
   "execution_count": 497,
   "id": "c1b4f8f8",
   "metadata": {},
   "outputs": [],
   "source": [
    "try: \n",
    "    os.mkdir(OUTPUT_PATH / 'scoring')\n",
    "except:\n",
    "    shutil.rmtree(OUTPUT_PATH / 'scoring')\n",
    "    os.mkdir(OUTPUT_PATH / 'scoring')"
   ]
  },
  {
   "cell_type": "code",
   "execution_count": 498,
   "id": "52f4a392",
   "metadata": {},
   "outputs": [],
   "source": [
    "public_score, private_score = local_scorer.get_score(test_funnel, Y_predicted, Y_test)"
   ]
  },
  {
   "cell_type": "code",
   "execution_count": 499,
   "id": "c6df209e",
   "metadata": {},
   "outputs": [],
   "source": [
    "validation_accuracy = accuracy_score(Y_test['sale_flg'], Y_predicted)\n",
    "print(f'Public ANIC {public_score} Private ANIC {private_score}')\n",
    "print(f'ANIC {1/3*public_score+ 2/3 * private_score}')\n",
    "print(f'Accuracy score: {validation_accuracy}')"
   ]
  },
  {
   "cell_type": "code",
   "execution_count": 500,
   "id": "85fc9199",
   "metadata": {},
   "outputs": [],
   "source": [
    "if n_fold != 1:\n",
    "    Y_predicted = (np.mean(oof, axis = 1) > 0.1).astype(int)\n",
    "    Y_test = funnel[['client_id', 'sale_flg']].set_index('client_id')\n",
    "    test_funnel =  funnel.set_index('client_id')\n",
    "if n_fold == 1 and n_seed == 1:\n",
    "    Y_predicted = (prediction > prediction_threshold).astype(int)\n",
    "    Y_test = funnel[['client_id', 'sale_flg']].iloc[split_indexes[0][1]].set_index('client_id')\n",
    "    test_funnel = funnel.iloc[split_indexes[0][1]].set_index('client_id')"
   ]
  },
  {
   "cell_type": "code",
   "execution_count": 501,
   "id": "a46f6c3c",
   "metadata": {},
   "outputs": [],
   "source": [
    "try: \n",
    "    os.mkdir(OUTPUT_PATH / 'scoring')\n",
    "except:\n",
    "    shutil.rmtree(OUTPUT_PATH / 'scoring')\n",
    "    os.mkdir(OUTPUT_PATH / 'scoring')"
   ]
  },
  {
   "cell_type": "code",
   "execution_count": 502,
   "id": "f5c790cf",
   "metadata": {},
   "outputs": [],
   "source": [
    "public_score, private_score = local_scorer.get_score(test_funnel, Y_predicted, Y_test)"
   ]
  },
  {
   "cell_type": "code",
   "execution_count": 503,
   "id": "d20c8db3",
   "metadata": {},
   "outputs": [],
   "source": [
    "validation_accuracy = accuracy_score(Y_test['sale_flg'], Y_predicted)\n",
    "print(f'Public ANIC {public_score} Private ANIC {private_score}')\n",
    "print(f'ANIC {1/3*public_score+ 2/3 * private_score}')\n",
    "print(f'Accuracy score: {validation_accuracy}')"
   ]
  },
  {
   "cell_type": "code",
   "execution_count": 504,
   "id": "5541dbae",
   "metadata": {},
   "outputs": [
    {
     "name": "stdout",
     "output_type": "stream",
     "text": [
      "array([[0., 0., 0., ..., 0., 0., 0.],\n",
      "       [0., 0., 0., ..., 0., 0., 0.],\n",
      "       [0., 0., 0., ..., 0., 0., 0.],\n",
      "       ...,\n",
      "       [0., 0., 0., ..., 0., 0., 0.],\n",
      "       [0., 0., 0., ..., 0., 0., 0.],\n",
      "       [0., 0., 0., ..., 0., 0., 0.]])"
     ]
    }
   ],
   "source": [
    "oof"
   ]
  },
  {
   "cell_type": "code",
   "execution_count": 505,
   "id": "11aa3740",
   "metadata": {},
   "outputs": [],
   "source": [
    "oof = np.zeros((X.shape[0], n_seed)) # cv_score\n",
    "seeds = []\n",
    "for i_seed in range(n_seed):\n",
    "    seed = FIXED_SEEDS[i_seed]\n",
    "    seed_everything(seed)\n",
    "\n",
    "    seeds.append(seed)\n",
    "    print('Seed: {}, {}/{}'.format(seed, i_seed + 1, n_seed))\n",
    "    \n",
    "    if n_fold != 1:\n",
    "        kf = KFold(n_splits=n_fold, random_state=seed, shuffle=True)\n",
    "        split_indexes = kf.split(X, Y)\n",
    "    else:\n",
    "        split_indexes = [train_test_split(np.arange(X.shape[0]), random_state=seed, shuffle = True)]\n",
    "    \n",
    "    for i_fold, (train_idx, val_idx) in enumerate(split_indexes):\n",
    "        print(\"# Fold: {}/{} (seed: {}/{})\".format(i_fold + 1, n_fold, i_seed + 1, n_seed))\n",
    "\n",
    "        # dataset\n",
    "        X_train, Y_train = X.iloc[train_idx], Y[train_idx]\n",
    "        X_val, Y_val = X.iloc[val_idx], Y[val_idx]\n",
    "\n",
    "\n",
    "        # train\n",
    "        running_train(X_train, Y_train, X_val, Y_val, i_fold=i_fold, seed=seed)\n",
    "\n",
    "        # predict on oof\n",
    "        print('predict on oof...', end='')\n",
    "        model = joblib.load( OUTPUT_PATH / 'models' / f'lightgbm_{i_fold}_{seed}_{CURRENT_TIME}.pkl')\n",
    "\n",
    "        prediction = model.predict_proba(X_val)[:, 1]\n",
    "        #prediction = model.predict(X_val)\n",
    "\n",
    "        oof[val_idx, i_seed] = prediction\n",
    "        print('  done.')"
   ]
  },
  {
   "cell_type": "code",
   "execution_count": 506,
   "id": "c89186ff",
   "metadata": {},
   "outputs": [],
   "source": [
    "if n_fold != 1:\n",
    "    Y_predicted = (np.mean(oof, axis = 1) > 0.1).astype(int)\n",
    "    Y_test = funnel[['client_id', 'sale_flg']].set_index('client_id')\n",
    "    test_funnel =  funnel.set_index('client_id')\n",
    "if n_fold == 1 and n_seed == 1:\n",
    "    Y_predicted = (prediction > prediction_threshold).astype(int)\n",
    "    Y_test = funnel[['client_id', 'sale_flg']].iloc[split_indexes[0][1]].set_index('client_id')\n",
    "    test_funnel = funnel.iloc[split_indexes[0][1]].set_index('client_id')"
   ]
  },
  {
   "cell_type": "code",
   "execution_count": 507,
   "id": "0894608e",
   "metadata": {},
   "outputs": [],
   "source": [
    "try: \n",
    "    os.mkdir(OUTPUT_PATH / 'scoring')\n",
    "except:\n",
    "    shutil.rmtree(OUTPUT_PATH / 'scoring')\n",
    "    os.mkdir(OUTPUT_PATH / 'scoring')"
   ]
  },
  {
   "cell_type": "code",
   "execution_count": 508,
   "id": "8305b57b",
   "metadata": {},
   "outputs": [],
   "source": [
    "public_score, private_score = local_scorer.get_score(test_funnel, Y_predicted, Y_test)"
   ]
  },
  {
   "cell_type": "code",
   "execution_count": 509,
   "id": "e07f62de",
   "metadata": {},
   "outputs": [],
   "source": [
    "validation_accuracy = accuracy_score(Y_test['sale_flg'], Y_predicted)\n",
    "print(f'Public ANIC {public_score} Private ANIC {private_score}')\n",
    "print(f'ANIC {1/3*public_score+ 2/3 * private_score}')\n",
    "print(f'Accuracy score: {validation_accuracy}')"
   ]
  },
  {
   "cell_type": "code",
   "execution_count": 510,
   "id": "d719878c",
   "metadata": {},
   "outputs": [],
   "source": [
    "if n_fold != 1:\n",
    "    Y_predicted = (np.mean(oof, axis = 1) > 0.2).astype(int)\n",
    "    Y_test = funnel[['client_id', 'sale_flg']].set_index('client_id')\n",
    "    test_funnel =  funnel.set_index('client_id')\n",
    "if n_fold == 1 and n_seed == 1:\n",
    "    Y_predicted = (prediction > prediction_threshold).astype(int)\n",
    "    Y_test = funnel[['client_id', 'sale_flg']].iloc[split_indexes[0][1]].set_index('client_id')\n",
    "    test_funnel = funnel.iloc[split_indexes[0][1]].set_index('client_id')"
   ]
  },
  {
   "cell_type": "code",
   "execution_count": 511,
   "id": "f429ec3c",
   "metadata": {},
   "outputs": [],
   "source": [
    "try: \n",
    "    os.mkdir(OUTPUT_PATH / 'scoring')\n",
    "except:\n",
    "    shutil.rmtree(OUTPUT_PATH / 'scoring')\n",
    "    os.mkdir(OUTPUT_PATH / 'scoring')"
   ]
  },
  {
   "cell_type": "code",
   "execution_count": 512,
   "id": "0158b1cd",
   "metadata": {},
   "outputs": [],
   "source": [
    "public_score, private_score = local_scorer.get_score(test_funnel, Y_predicted, Y_test)"
   ]
  },
  {
   "cell_type": "code",
   "execution_count": 513,
   "id": "f1e2c435",
   "metadata": {},
   "outputs": [],
   "source": [
    "validation_accuracy = accuracy_score(Y_test['sale_flg'], Y_predicted)\n",
    "print(f'Public ANIC {public_score} Private ANIC {private_score}')\n",
    "print(f'ANIC {1/3*public_score+ 2/3 * private_score}')\n",
    "print(f'Accuracy score: {validation_accuracy}')"
   ]
  },
  {
   "cell_type": "code",
   "execution_count": 514,
   "id": "1ca0688e",
   "metadata": {},
   "outputs": [],
   "source": [
    "if n_fold != 1:\n",
    "    Y_predicted = (np.mean(oof, axis = 1) > 0.15).astype(int)\n",
    "    Y_test = funnel[['client_id', 'sale_flg']].set_index('client_id')\n",
    "    test_funnel =  funnel.set_index('client_id')\n",
    "if n_fold == 1 and n_seed == 1:\n",
    "    Y_predicted = (prediction > prediction_threshold).astype(int)\n",
    "    Y_test = funnel[['client_id', 'sale_flg']].iloc[split_indexes[0][1]].set_index('client_id')\n",
    "    test_funnel = funnel.iloc[split_indexes[0][1]].set_index('client_id')"
   ]
  },
  {
   "cell_type": "code",
   "execution_count": 515,
   "id": "8f45472a",
   "metadata": {},
   "outputs": [],
   "source": [
    "try: \n",
    "    os.mkdir(OUTPUT_PATH / 'scoring')\n",
    "except:\n",
    "    shutil.rmtree(OUTPUT_PATH / 'scoring')\n",
    "    os.mkdir(OUTPUT_PATH / 'scoring')"
   ]
  },
  {
   "cell_type": "code",
   "execution_count": 516,
   "id": "0e95b43b",
   "metadata": {},
   "outputs": [],
   "source": [
    "public_score, private_score = local_scorer.get_score(test_funnel, Y_predicted, Y_test)"
   ]
  },
  {
   "cell_type": "code",
   "execution_count": 517,
   "id": "a47a66e5",
   "metadata": {},
   "outputs": [],
   "source": [
    "validation_accuracy = accuracy_score(Y_test['sale_flg'], Y_predicted)\n",
    "print(f'Public ANIC {public_score} Private ANIC {private_score}')\n",
    "print(f'ANIC {1/3*public_score+ 2/3 * private_score}')\n",
    "print(f'Accuracy score: {validation_accuracy}')"
   ]
  },
  {
   "cell_type": "code",
   "execution_count": 518,
   "id": "0dab538c",
   "metadata": {},
   "outputs": [],
   "source": [
    "if n_fold != 1:\n",
    "    Y_predicted = (np.mean(oof, axis = 1) > 0.1).astype(int)\n",
    "    Y_test = funnel[['client_id', 'sale_flg']].set_index('client_id')\n",
    "    test_funnel =  funnel.set_index('client_id')\n",
    "if n_fold == 1 and n_seed == 1:\n",
    "    Y_predicted = (prediction > prediction_threshold).astype(int)\n",
    "    Y_test = funnel[['client_id', 'sale_flg']].iloc[split_indexes[0][1]].set_index('client_id')\n",
    "    test_funnel = funnel.iloc[split_indexes[0][1]].set_index('client_id')"
   ]
  },
  {
   "cell_type": "code",
   "execution_count": 519,
   "id": "37630d30",
   "metadata": {},
   "outputs": [],
   "source": [
    "try: \n",
    "    os.mkdir(OUTPUT_PATH / 'scoring')\n",
    "except:\n",
    "    shutil.rmtree(OUTPUT_PATH / 'scoring')\n",
    "    os.mkdir(OUTPUT_PATH / 'scoring')"
   ]
  },
  {
   "cell_type": "code",
   "execution_count": 520,
   "id": "1061c808",
   "metadata": {},
   "outputs": [],
   "source": [
    "public_score, private_score = local_scorer.get_score(test_funnel, Y_predicted, Y_test)"
   ]
  },
  {
   "cell_type": "code",
   "execution_count": 521,
   "id": "0684653f",
   "metadata": {},
   "outputs": [],
   "source": [
    "validation_accuracy = accuracy_score(Y_test['sale_flg'], Y_predicted)\n",
    "print(f'Public ANIC {public_score} Private ANIC {private_score}')\n",
    "print(f'ANIC {1/3*public_score+ 2/3 * private_score}')\n",
    "print(f'Accuracy score: {validation_accuracy}')"
   ]
  },
  {
   "cell_type": "code",
   "execution_count": 522,
   "id": "552e74cf",
   "metadata": {},
   "outputs": [],
   "source": [
    "from lightgbm import LGBMRegressor\n",
    "def running_train(X_train, Y_train, X_val, Y_val, i_fold=None, seed=None, params = None):\n",
    "    # prepare for train\n",
    "    params = {\n",
    "# #           \"objective\": \"cross_entropy\",\n",
    "#           \"num_leaves\": 256,\n",
    "#            \"max_bin\": 128,\n",
    "#           \"feature_fraction\": feature_fraction,\n",
    "#           \"min_child_samples\": 5,\n",
    "#           \"min_child_weight\": 50,\n",
    "#           \"min_split_gain\": 0.1,\n",
    "#           \"subsample\": 0.7,\n",
    "          'n_jobs': -1,\n",
    "          'random_state': seed\n",
    "          }\n",
    "    \n",
    "    params['random_state'] = seed\n",
    "    \n",
    "    \n",
    "    model = LGBMRegressor(**params) # define model here\n",
    "    \n",
    "    # Fit and save model\n",
    "    \n",
    "    if X_val is None:\n",
    "        model.fit(X_train, Y_train, verbose=False)\n",
    "    else:\n",
    "        model.fit(X_train, Y_train,   eval_set=(X_val, Y_val), early_stopping_rounds=500, verbose=False)\n",
    "    joblib.dump(model, OUTPUT_PATH / 'models' / f'lightgbm_{i_fold}_{seed}_{CURRENT_TIME}.pkl')"
   ]
  },
  {
   "cell_type": "code",
   "execution_count": 523,
   "id": "1599e1ce",
   "metadata": {},
   "outputs": [],
   "source": [
    "oof = np.zeros((X.shape[0], n_seed)) # cv_score\n",
    "seeds = []\n",
    "for i_seed in range(n_seed):\n",
    "    seed = FIXED_SEEDS[i_seed]\n",
    "    seed_everything(seed)\n",
    "\n",
    "    seeds.append(seed)\n",
    "    print('Seed: {}, {}/{}'.format(seed, i_seed + 1, n_seed))\n",
    "    \n",
    "    if n_fold != 1:\n",
    "        kf = KFold(n_splits=n_fold, random_state=seed, shuffle=True)\n",
    "        split_indexes = kf.split(X, Y)\n",
    "    else:\n",
    "        split_indexes = [train_test_split(np.arange(X.shape[0]), random_state=seed, shuffle = True)]\n",
    "    \n",
    "    for i_fold, (train_idx, val_idx) in enumerate(split_indexes):\n",
    "        print(\"# Fold: {}/{} (seed: {}/{})\".format(i_fold + 1, n_fold, i_seed + 1, n_seed))\n",
    "\n",
    "        # dataset\n",
    "        X_train, Y_train = X.iloc[train_idx], Y[train_idx]\n",
    "        X_val, Y_val = X.iloc[val_idx], Y[val_idx]\n",
    "\n",
    "\n",
    "        # train\n",
    "        running_train(X_train, Y_train, X_val, Y_val, i_fold=i_fold, seed=seed)\n",
    "\n",
    "        # predict on oof\n",
    "        print('predict on oof...', end='')\n",
    "        model = joblib.load( OUTPUT_PATH / 'models' / f'lightgbm_{i_fold}_{seed}_{CURRENT_TIME}.pkl')\n",
    "\n",
    "        #prediction = model.predict_proba(X_val)[:, 1]\n",
    "        prediction = model.predict(X_val)\n",
    "\n",
    "        oof[val_idx, i_seed] = prediction\n",
    "        print('  done.')"
   ]
  },
  {
   "cell_type": "code",
   "execution_count": 524,
   "id": "fe8cebb6",
   "metadata": {},
   "outputs": [],
   "source": [
    "if n_fold != 1:\n",
    "    Y_predicted = (np.mean(oof, axis = 1) > prediction_threshold).astype(int)\n",
    "    Y_test = funnel[['client_id', 'sale_flg']].set_index('client_id')\n",
    "    test_funnel =  funnel.set_index('client_id')\n",
    "if n_fold == 1 and n_seed == 1:\n",
    "    Y_predicted = (prediction > prediction_threshold).astype(int)\n",
    "    Y_test = funnel[['client_id', 'sale_flg']].iloc[split_indexes[0][1]].set_index('client_id')\n",
    "    test_funnel = funnel.iloc[split_indexes[0][1]].set_index('client_id')"
   ]
  },
  {
   "cell_type": "code",
   "execution_count": 525,
   "id": "d64e90c1",
   "metadata": {},
   "outputs": [],
   "source": [
    "try: \n",
    "    os.mkdir(OUTPUT_PATH / 'scoring')\n",
    "except:\n",
    "    shutil.rmtree(OUTPUT_PATH / 'scoring')\n",
    "    os.mkdir(OUTPUT_PATH / 'scoring')"
   ]
  },
  {
   "cell_type": "code",
   "execution_count": 526,
   "id": "55d81561",
   "metadata": {},
   "outputs": [],
   "source": [
    "public_score, private_score = local_scorer.get_score(test_funnel, Y_predicted, Y_test)"
   ]
  },
  {
   "cell_type": "code",
   "execution_count": 527,
   "id": "8ea486b6",
   "metadata": {},
   "outputs": [],
   "source": [
    "validation_accuracy = accuracy_score(Y_test['sale_flg'], Y_predicted)\n",
    "print(f'Public ANIC {public_score} Private ANIC {private_score}')\n",
    "print(f'ANIC {1/3*public_score+ 2/3 * private_score}')\n",
    "print(f'Accuracy score: {validation_accuracy}')"
   ]
  },
  {
   "cell_type": "code",
   "execution_count": 528,
   "id": "ae80369c",
   "metadata": {},
   "outputs": [],
   "source": [
    "#####################\n",
    "# IMPORT LIBS\n",
    "#####################\n",
    "\n",
    "import pandas as pd\n",
    "import numpy as np\n",
    "from pathlib import Path\n",
    "import wandb\n",
    "import datetime\n",
    "import os\n",
    "import random\n",
    "import joblib\n",
    "import shutil\n",
    "\n",
    "from sklearn.model_selection import KFold\n",
    "from sklearn.model_selection import train_test_split\n",
    "from sklearn.metrics import accuracy_score\n",
    "from sklearn.preprocessing import LabelEncoder\n",
    "from scoring import local_scorer\n",
    "import scipy\n",
    "\n",
    "from lightgbm import LGBMClassifier\n",
    "\n",
    "\n",
    "#####################\n",
    "# SET CONSTANTS\n",
    "#####################\n",
    "\n",
    "INPUT_PATH = Path('../input')\n",
    "OUTPUT_PATH = Path('../output')\n",
    "TRAIN_PATH = INPUT_PATH \n",
    "\n",
    "TARGET_COLUMNS = ['sale_flg', 'sale_amount', 'contacts']\n",
    "FIXED_SEEDS = [948, 534, 432, 597, 103, 21, 2242, 17, 20, 29]\n",
    "\n",
    "RANDOM_SEED = 4444\n",
    "USE_WANDB = True\n",
    "CURRENT_TIME = str(datetime.datetime.now()).replace(' ', '_').split('.')[0]\n",
    "\n",
    "def seed_everything(seed=1234):\n",
    "    random.seed(seed)\n",
    "    os.environ['PYTHONHASHSEED'] = str(seed)\n",
    "    np.random.seed(seed)\n",
    "seed_everything(RANDOM_SEED)"
   ]
  },
  {
   "cell_type": "code",
   "execution_count": 529,
   "id": "447f6288",
   "metadata": {},
   "outputs": [],
   "source": [
    "###############\n",
    "# Config\n",
    "###############\n",
    "\n",
    "n_seed = 10\n",
    "n_fold = 3\n",
    "prediction_threshold = 0.2\n",
    "retrain_after_valid = True\n",
    "make_submission = False"
   ]
  },
  {
   "cell_type": "code",
   "execution_count": 530,
   "id": "1228db3d",
   "metadata": {},
   "outputs": [
    {
     "data": {
      "text/html": [
       "\n",
       "                Tracking run with wandb version 0.10.26<br/>\n",
       "                Syncing run <strong style=\"color:#cdcd00\">2021-04-18_07:07:27</strong> to <a href=\"https://wandb.ai\" target=\"_blank\">Weights & Biases</a> <a href=\"https://docs.wandb.com/integrations/jupyter.html\" target=\"_blank\">(Documentation)</a>.<br/>\n",
       "                Project page: <a href=\"https://wandb.ai/artkulak/idao-2021-finals\" target=\"_blank\">https://wandb.ai/artkulak/idao-2021-finals</a><br/>\n",
       "                Run page: <a href=\"https://wandb.ai/artkulak/idao-2021-finals/runs/2ge2len5\" target=\"_blank\">https://wandb.ai/artkulak/idao-2021-finals/runs/2ge2len5</a><br/>\n",
       "                Run data is saved locally in <code>/home/jupyter/idao-2021-finals/wandb/run-20210418_070730-2ge2len5</code><br/><br/>\n",
       "            "
      ],
      "text/plain": [
       "<IPython.core.display.HTML object>"
      ]
     },
     "metadata": {},
     "output_type": "display_data"
    }
   ],
   "source": [
    "if USE_WANDB:\n",
    "    wandb.login()\n",
    "    run = wandb.init(project=\"idao-2021-finals\", name = f'{CURRENT_TIME}') # todo add config here"
   ]
  },
  {
   "cell_type": "code",
   "execution_count": 531,
   "id": "729ab9a0",
   "metadata": {},
   "outputs": [],
   "source": [
    "%%time\n",
    "\n",
    "transactions = pd.read_csv(INPUT_PATH / 'trxn.csv')\n",
    "assets_under_management = pd.read_csv(INPUT_PATH / 'aum.csv')\n",
    "balance = pd.read_csv(INPUT_PATH / 'balance.csv')\n",
    "client = pd.read_csv(INPUT_PATH / 'client.csv')\n",
    "campaigns = pd.read_csv(INPUT_PATH / 'com.csv')\n",
    "deals = pd.read_csv(INPUT_PATH / 'deals.csv')\n",
    "dict_merchant_category_code = pd.read_csv(INPUT_PATH / 'dict_mcc.csv')\n",
    "payments = pd.read_csv(INPUT_PATH / 'payments.csv')\n",
    "funnel = pd.read_csv(INPUT_PATH / 'funnel.csv')\n",
    "appl = pd.read_csv(INPUT_PATH / 'appl.csv')"
   ]
  },
  {
   "cell_type": "code",
   "execution_count": 532,
   "id": "f04a2164",
   "metadata": {},
   "outputs": [],
   "source": [
    "payments = payments.sort_values(by='day_dt', ascending = False).reset_index(drop = True)"
   ]
  },
  {
   "cell_type": "code",
   "execution_count": 533,
   "id": "042d4eed",
   "metadata": {},
   "outputs": [],
   "source": [
    "transactions['mcc_cd'] = transactions['mcc_cd'].fillna(-2)\n",
    "transactions['txn_city'] = transactions['txn_city'].fillna('<UNK>')\n",
    "transactions['tsp_name'] = transactions['tsp_name'].fillna('<UNK>')\n",
    "transactions['txn_comment_2'] = transactions['txn_comment_2'].fillna('<UNK>')\n",
    "transactions = transactions.merge(dict_merchant_category_code, on='mcc_cd', how='left')\n",
    "transactions['brs_mcc_group'] = transactions['brs_mcc_group'].fillna('<UNK>')\n",
    "transactions['brs_mcc_subgroup'] = transactions['brs_mcc_subgroup'].fillna('<UNK>')\n",
    "\n",
    "balance['crncy_cd'] = balance['crncy_cd'].fillna(-2)\n",
    "balance['prod_cat_name'] = balance['prod_cat_name'].fillna('<UNK>')\n",
    "balance['prod_group_name'] = balance['prod_group_name'].fillna('<UNK>')\n",
    "\n",
    "client = client.rename(columns={\n",
    "    'gender': 'client_gender',\n",
    "    'age': 'client_age',\n",
    "    'region': 'client_region',\n",
    "    'city': 'client_city',\n",
    "    'citizenship': 'client_citizenship',\n",
    "    'education': 'client_education',\n",
    "    'job_type': 'client_job_type'\n",
    "})\n",
    "\n",
    "campaigns['prod'] = campaigns['prod'].fillna('<UNK>')\n",
    "\n",
    "deals['crncy_cd'] = deals['crncy_cd'].fillna(-2)\n",
    "deals['agrmnt_rate_active'] = deals['agrmnt_rate_active'].fillna(-2)\n",
    "deals['agrmnt_rate_passive'] = deals['agrmnt_rate_passive'].fillna(-2)\n",
    "deals['agrmnt_sum_rur'] = deals['agrmnt_sum_rur'].fillna(-2)\n",
    "deals['prod_type_name'] = deals['prod_type_name'].fillna('<UNK>')\n",
    "deals['argmnt_close_start_days'] = (pd.to_datetime(deals['agrmnt_close_dt']) - pd.to_datetime(deals['agrmnt_start_dt'])).dt.days.fillna(-2)"
   ]
  },
  {
   "cell_type": "code",
   "execution_count": 534,
   "id": "aa851f75",
   "metadata": {},
   "outputs": [],
   "source": [
    "def most_common(x, default='unknown'):\n",
    "    try:\n",
    "        # works faster then value_counts and pd.Series.mode\n",
    "        return scipy.stats.mode(x)[0][0]\n",
    "    except: \n",
    "        return default\n",
    "\n",
    "\n",
    "def get_feature_total(df, col_name):\n",
    "    return data['client_id'].map(df.groupby(['client_id', col_name]).size().index.get_level_values('client_id').value_counts()).fillna(0)\n",
    "\n",
    "\n",
    "def get_feature_most_common(df, col_name, fill_na_value):\n",
    "    return data['client_id'].map(df.groupby('client_id')[col_name].agg(lambda x: scipy.stats.mode(x)[0][0])).fillna(fill_na_value)\n",
    "\n",
    "\n",
    "def get_feature_max(df, col_name, fill_na_value):\n",
    "    return data['client_id'].map(df.groupby('client_id')[col_name].max()).fillna(fill_na_value)\n",
    "\n",
    "\n",
    "def get_feature_min(df, col_name, fill_na_value):\n",
    "    return data['client_id'].map(df.groupby('client_id')[col_name].min()).fillna(fill_na_value)\n",
    "\n",
    "\n",
    "def get_feature_mean(df, col_name, fill_na_value):\n",
    "    return data['client_id'].map(df.groupby('client_id')[col_name].mean()).fillna(fill_na_value)\n",
    "\n",
    "\n",
    "def get_feature_std(df, col_name, fill_na_value):\n",
    "    return data['client_id'].map(df.groupby('client_id')[col_name].std()).fillna(fill_na_value)\n",
    "\n",
    "\n",
    "def get_feature_max_min(df, col_name, fill_na_value):\n",
    "    return data['client_id'].map(df.groupby('client_id')[col_name].agg(lambda x: x.max() - x.min())).fillna(fill_na_value)\n",
    "\n",
    "\n",
    "def create_features_transactions(data):\n",
    "    \n",
    "    data = data.copy()\n",
    "    \n",
    "    # transaction features\n",
    "    data['total_transactions'] = data['client_id'].map(transactions.groupby('client_id').size()).fillna(0)\n",
    "    data['total_cards'] = get_feature_total(transactions, 'card_id')\n",
    "\n",
    "#     data['total_transaction_amount'] = data['client_id'].map(transactions.groupby('client_id')['tran_amt_rur'].sum()).fillna(0) # add monthly, daily, etc\n",
    "    data['mean_transaction_amt'] = get_feature_mean(transactions, 'tran_amt_rur', -1) # add monthly, daily, etc\n",
    "    data['std_transaction_amount'] = get_feature_std(transactions, 'tran_amt_rur', -1) # add monthly, daily, etc\n",
    "    \n",
    "    data['total_mcc_cd'] = get_feature_total(transactions, 'mcc_cd')\n",
    "    data['total_share_mcc_cd'] = (data['total_mcc_cd'] / data['total_transactions']).fillna(0)\n",
    "    data['most_common_mcc_cd'] = get_feature_most_common(transactions, 'mcc_cd', -1)\n",
    "    \n",
    "    data['total_merchant_cd'] = get_feature_total(transactions, 'merchant_cd')\n",
    "    data['total_share_merchant_cd'] = (data['total_merchant_cd'] / data['total_transactions']).fillna(0)\n",
    "    data['most_common_merchant_cd'] = get_feature_most_common(transactions, 'merchant_cd', -1)\n",
    "    \n",
    "    data['total_txn_city'] = get_feature_total(transactions, 'txn_city')\n",
    "    data['total_share_txn_city'] = (data['total_txn_city'] / data['total_transactions']).fillna(0)\n",
    "    data['most_common_txn_city'] = get_feature_most_common(transactions, 'txn_city', '<unknown>')\n",
    "    \n",
    "    data['total_tsp_name'] = get_feature_total(transactions, 'tsp_name')\n",
    "    data['total_share_tsp_name'] = (data['total_tsp_name'] / data['total_transactions']).fillna(0)\n",
    "    data['most_common_tsp_name'] = get_feature_most_common(transactions, 'tsp_name', '<unknown>')\n",
    "    \n",
    "    data['total_txn_comment_1'] = get_feature_total(transactions, 'txn_comment_1')\n",
    "    data['most_common_txn_comment_1'] = get_feature_most_common(transactions, 'txn_comment_1', '<unknown>')\n",
    "    \n",
    "    data['total_txn_comment_2'] = get_feature_total(transactions, 'txn_comment_2')\n",
    "    data['most_common_txn_comment_2'] = get_feature_most_common(transactions, 'txn_comment_2', '<unknown>')\n",
    "    \n",
    "    data['total_brs_mcc_group'] = get_feature_total(transactions, 'brs_mcc_group')\n",
    "    data['most_common_brs_mcc_group'] = get_feature_most_common(transactions, 'brs_mcc_group', '<unknown>')\n",
    "    \n",
    "    data['total_brs_mcc_subgroup'] = get_feature_total(transactions, 'brs_mcc_subgroup')\n",
    "    data['most_common_brs_mcc_subgroup'] = get_feature_most_common(transactions, 'brs_mcc_subgroup', '<unknown>')\n",
    "    \n",
    "    return data\n",
    "\n",
    "\n",
    "def create_features_aum(data):\n",
    "    data = data.copy()\n",
    "    \n",
    "    data['total_aum'] = data['client_id'].map(assets_under_management.groupby('client_id').size()).fillna(0)\n",
    "    \n",
    "    data['total_product_code'] = get_feature_total(assets_under_management, 'product_code')\n",
    "    data['most_common_product_code'] = get_feature_most_common(assets_under_management, 'product_code', '<unknown>').value_counts()\n",
    "    \n",
    "    data['mean_balance_rur_amt'] = get_feature_mean(assets_under_management, 'balance_rur_amt', -1)\n",
    "    data['std_balance_rur_amt'] = get_feature_std(assets_under_management, 'balance_rur_amt', -1)\n",
    "    data['max_min_balance_rur_amt'] = get_feature_max_min(assets_under_management, 'balance_rur_amt', -1)\n",
    "    \n",
    "    return data\n",
    "\n",
    "\n",
    "def create_features_balance(data):\n",
    "    data = data.copy()\n",
    "    \n",
    "    data['total_balance'] = data['client_id'].map(balance.groupby('client_id').size()).fillna(0)\n",
    "    \n",
    "    data['total_balance_crncy_cd'] = get_feature_total(balance, 'crncy_cd')\n",
    "    data['most_common_balance_crncy_cd'] = get_feature_most_common(balance, 'crncy_cd', -1)\n",
    "    \n",
    "    data['total_eop_bal_sum_rur'] = get_feature_total(balance, 'eop_bal_sum_rur')\n",
    "    data['total_share_eop_bal_sum_rur'] = (data['total_eop_bal_sum_rur'] / data['total_balance']).fillna(0)\n",
    "    data['mean_eop_bal_sum_rur'] = get_feature_mean(balance, 'eop_bal_sum_rur', -9999)\n",
    "    data['std_eop_bal_sum_rur'] = get_feature_std(balance, 'eop_bal_sum_rur', -9999)\n",
    "    \n",
    "    data['total_min_bal_sum_rur'] = get_feature_total(balance, 'min_bal_sum_rur')\n",
    "    data['total_share_min_bal_sum_rur'] = (data['total_min_bal_sum_rur'] / data['total_balance']).fillna(0)\n",
    "    data['mean_min_bal_sum_rur'] = get_feature_mean(balance, 'min_bal_sum_rur', -9999)\n",
    "    data['std_min_bal_sum_rur'] = get_feature_std(balance, 'min_bal_sum_rur', -9999)\n",
    "    \n",
    "    data['total_max_bal_sum_rur'] = get_feature_total(balance, 'max_bal_sum_rur')\n",
    "    data['total_share_max_bal_sum_rur'] = (data['total_max_bal_sum_rur'] / data['total_balance']).fillna(0)\n",
    "    data['mean_max_bal_sum_rur'] = get_feature_mean(balance, 'max_bal_sum_rur', -9999)\n",
    "    data['std_max_bal_sum_rur'] = get_feature_std(balance, 'max_bal_sum_rur', -9999)\n",
    "    \n",
    "    data['total_avg_bal_sum_rur'] = get_feature_total(balance, 'avg_bal_sum_rur')\n",
    "    data['total_share_avg_bal_sum_rur'] = (data['total_avg_bal_sum_rur'] / data['total_balance']).fillna(0)\n",
    "    data['mean_avg_bal_sum_rur'] = get_feature_mean(balance, 'avg_bal_sum_rur', -9999)\n",
    "    data['std_avg_bal_sum_rur'] = get_feature_std(balance, 'avg_bal_sum_rur', -9999)\n",
    "    data['max_min_avg_bal_sum_rur'] = get_feature_max_min(balance, 'avg_bal_sum_rur', -9999)\n",
    "    \n",
    "    data['total_prod_cat_name'] = get_feature_total(balance, 'prod_cat_name')\n",
    "    data['most_common_prod_cat_name'] = get_feature_most_common(balance, 'prod_cat_name', '<unknown>')\n",
    "    \n",
    "    data['total_prod_group_name'] = get_feature_total(balance, 'prod_group_name')\n",
    "    data['most_common_prod_group_name'] = get_feature_most_common(balance, 'prod_group_name', '<unknown>')\n",
    "    \n",
    "    return data\n",
    "\n",
    "\n",
    "def create_features_client(data):\n",
    "    data = data.copy()\n",
    "    \n",
    "#     data = data.merge(client, on='client_id')\n",
    "    data['match_client_region-region_cd'] = (data['client_region'] == data['region_cd']).astype(int)\n",
    "    data.drop('client_citizenship', axis=1)\n",
    "    \n",
    "    return data\n",
    "\n",
    "\n",
    "def create_features_campaigns(data):\n",
    "    data = data.copy()\n",
    "    \n",
    "    data['total_campaigns'] = data['client_id'].map(campaigns.groupby('client_id').size()).fillna(0)\n",
    "    \n",
    "    data['total_agr_flg'] = get_feature_total(campaigns, 'agr_flg')\n",
    "    data['mean_agr_flg'] = get_feature_mean(campaigns, 'agr_flg', -1)\n",
    "    \n",
    "    data['total_otkaz'] = get_feature_total(campaigns, 'otkaz')\n",
    "    data['mean_otkaz'] = get_feature_mean(campaigns, 'otkaz', -1)\n",
    "    \n",
    "    data['total_dumaet'] = get_feature_total(campaigns, 'dumaet')\n",
    "    data['mean_dumaet'] = get_feature_mean(campaigns, 'dumaet', -1)\n",
    "    \n",
    "    data['total_ring_up_flg'] = get_feature_total(campaigns, 'ring_up_flg')\n",
    "    data['most_common_ring_up_flg'] = get_feature_most_common(campaigns, 'ring_up_flg', -1)\n",
    "    \n",
    "    data['total_count_comm'] = get_feature_total(campaigns, 'count_comm')\n",
    "    data['most_common_count_comm'] = get_feature_most_common(campaigns, 'count_comm', -1)\n",
    "    \n",
    "    data['total_channel'] = get_feature_total(campaigns, 'channel')\n",
    "    data['most_common_channel'] = get_feature_most_common(campaigns, 'channel', '<unknown>')\n",
    "    \n",
    "    data['total_prod'] = get_feature_total(campaigns, 'prod')\n",
    "    data['most_common_prod'] = get_feature_most_common(campaigns, 'prod', '<unknown>')\n",
    "    \n",
    "    return data\n",
    "\n",
    "\n",
    "def create_features_deals(data):\n",
    "    data = data.copy()\n",
    "    \n",
    "    data['total_deals'] = data['client_id'].map(deals.groupby('client_id').size()).fillna(0)\n",
    "    \n",
    "    data['total_deals_crncy_cd'] = get_feature_total(deals, 'crncy_cd')\n",
    "    data['most_common_deals_crncy_cd'] = get_feature_most_common(deals, 'crncy_cd', -1)\n",
    "    \n",
    "    data['total_agrmnt_rate_active'] = get_feature_total(deals, 'agrmnt_rate_active')\n",
    "    data['max_agrmnt_rate_active'] = get_feature_max(deals, 'agrmnt_rate_active', -1)\n",
    "    \n",
    "    data['total_agrmnt_rate_passive'] = get_feature_total(deals, 'agrmnt_rate_passive')\n",
    "    data['max_agrmnt_rate_passive'] = get_feature_max(deals, 'agrmnt_rate_passive', -1)\n",
    "    \n",
    "    data['total_agrmnt_sum_rur'] = get_feature_total(deals, 'agrmnt_sum_rur')\n",
    "    data['mean_agrmnt_sum_rur'] = get_feature_mean(deals, 'agrmnt_sum_rur', -1)\n",
    "    data['std_agrmnt_sum_rur'] = get_feature_std(deals, 'agrmnt_sum_rur', -1)\n",
    "    \n",
    "    data['total_prod_type_name'] = get_feature_total(deals, 'prod_type_name')\n",
    "    data['most_common_prod_type_name'] = get_feature_most_common(deals, 'prod_type_name', '<unknown>')\n",
    "    \n",
    "    data['total_argmnt_close_start_days'] = get_feature_total(deals, 'argmnt_close_start_days')\n",
    "    data['max_argmnt_close_start_days'] = get_feature_max(deals, 'argmnt_close_start_days', -1)\n",
    "    data['min_argmnt_close_start_days'] = get_feature_min(deals, 'argmnt_close_start_days', -1)\n",
    "    data['mean_argmnt_close_start_days'] = get_feature_mean(deals, 'argmnt_close_start_days', -1)\n",
    "    data['std_argmnt_close_start_days'] = get_feature_std(deals, 'argmnt_close_start_days', -1)\n",
    "    \n",
    "    return data\n",
    "\n",
    "\n",
    "def create_features_dict_mcc(data):\n",
    "    data = data.copy()\n",
    "    \n",
    "    return data\n",
    "\n",
    "\n",
    "def create_features_payments(data):\n",
    "    data = data.copy()\n",
    "    \n",
    "    # payments \n",
    "    data['last_known_salary'] = data['client_id'].map(payments.groupby('client_id').apply(lambda x: x['sum_rur'].iloc[0])).fillna(-1)\n",
    "    data['total_recieved_salary'] = data['client_id'].map(payments.groupby('client_id').apply(lambda x: x['sum_rur'].sum())).fillna(-1)\n",
    "    \n",
    "    return data\n",
    "\n",
    "\n",
    "def create_features_appl(data):\n",
    "    data = data.copy()\n",
    "    \n",
    "    return data\n",
    "\n",
    "\n",
    "def create_features_funnel(data):\n",
    "    data = data.copy()\n",
    "    \n",
    "    return data"
   ]
  },
  {
   "cell_type": "code",
   "execution_count": 535,
   "id": "565ab82d",
   "metadata": {},
   "outputs": [],
   "source": [
    "# data merge\n",
    "data = funnel.copy()\n",
    "data = funnel.merge(client, on=['client_id'])"
   ]
  },
  {
   "cell_type": "code",
   "execution_count": 536,
   "id": "cd67d748",
   "metadata": {},
   "outputs": [],
   "source": [
    "for feature_1 in [f'feature_{i}'for i in range(1, 11)]:\n",
    "    data[f'{feature_1} ** 2'] = data[feature_1] ** 2\n",
    "    data[f'{feature_1} ** 0.5'] = data[feature_1] ** 0.5\n",
    "    data[f'{feature_1} log'] = np.log(data[feature_1])"
   ]
  },
  {
   "cell_type": "code",
   "execution_count": 537,
   "id": "3cc9f52f",
   "metadata": {},
   "outputs": [
    {
     "name": "stdout",
     "output_type": "stream",
     "text": [
      "['../output/cluster/kmeans.pkl']"
     ]
    }
   ],
   "source": [
    "from sklearn.cluster import KMeans\n",
    "# Create cluster feature\n",
    "kmeans = KMeans(n_clusters=3)\n",
    "data['cluster'] = kmeans.fit_predict(data[[f'feature_{i}' for i in range(1, 11)]].fillna(0))\n",
    "\n",
    "joblib.dump(kmeans, OUTPUT_PATH / 'cluster' / f'kmeans.pkl')"
   ]
  },
  {
   "cell_type": "code",
   "execution_count": 538,
   "id": "e5548df8",
   "metadata": {},
   "outputs": [],
   "source": [
    "# for feature_1 in [f'feature_{i}'for i in range(1, 11)]:\n",
    "#     for feature_2 in [f'feature_{i}'for i in range(1, 11)]:\n",
    "#         if feature_1 != feature_2:\n",
    "#             data[f'{feature_1} + {feature_2}'] = data[feature_1] + data[feature_2]\n",
    "#             data[f'{feature_1} * {feature_2}'] = data[feature_1] * data[feature_2]\n",
    "#             data[f'{feature_1} / {feature_2}'] = data[feature_1] / data[feature_2]\n",
    "#             data[f'{feature_1} - {feature_2}'] = data[feature_1] - data[feature_2]"
   ]
  },
  {
   "cell_type": "code",
   "execution_count": 539,
   "id": "18c6d531",
   "metadata": {},
   "outputs": [],
   "source": [
    "%%time\n",
    "# create features\n",
    "\n",
    "# data = create_features_transactions(data)\n",
    "# data = create_features_aum(data)\n",
    "# data = create_features_balance(data)\n",
    "# data = create_features_client(data)\n",
    "# data = create_features_campaigns(data)\n",
    "# data = create_features_deals(data)\n",
    "# data = create_features_dict_mcc(data)\n",
    "# data = create_features_payments(data)\n",
    "# data = create_features_appl(data)\n",
    "# data = create_features_funnel(data)\n",
    "# data = create_features_deals(data)"
   ]
  },
  {
   "cell_type": "code",
   "execution_count": 540,
   "id": "d7abce89",
   "metadata": {},
   "outputs": [],
   "source": [
    "try:\n",
    "    os.mkdir(OUTPUT_PATH / 'preprocessors')\n",
    "except:\n",
    "    shutil.rmtree(OUTPUT_PATH / 'preprocessors')\n",
    "    os.mkdir(OUTPUT_PATH / 'preprocessors')"
   ]
  },
  {
   "cell_type": "code",
   "execution_count": 541,
   "id": "ac987d0f",
   "metadata": {},
   "outputs": [],
   "source": [
    "# data encode\n",
    "\n",
    "for c in data.columns:\n",
    "    col_type = data[c].dtype\n",
    "    if col_type == 'object' or col_type.name == 'category':\n",
    "        data[c] = data[c].astype('category')"
   ]
  },
  {
   "cell_type": "code",
   "execution_count": 542,
   "id": "de0c78ce",
   "metadata": {},
   "outputs": [],
   "source": [
    "TARGET_COLUMNS =  ['sale_flg', 'sale_amount', 'contacts']"
   ]
  },
  {
   "cell_type": "code",
   "execution_count": 543,
   "id": "41a26e64",
   "metadata": {},
   "outputs": [],
   "source": [
    "X = data.drop(columns = TARGET_COLUMNS + ['client_id'])\n",
    "Y = data[TARGET_COLUMNS[0]]"
   ]
  },
  {
   "cell_type": "code",
   "execution_count": 544,
   "id": "ca6f948c",
   "metadata": {},
   "outputs": [],
   "source": [
    "import shutil\n",
    "try:\n",
    "    os.mkdir(OUTPUT_PATH / 'models')\n",
    "except:\n",
    "    shutil.rmtree(OUTPUT_PATH / 'models')\n",
    "    os.mkdir(OUTPUT_PATH / 'models')"
   ]
  },
  {
   "cell_type": "code",
   "execution_count": 545,
   "id": "50bbdc97",
   "metadata": {},
   "outputs": [],
   "source": [
    "learning_rate = 0.5\n",
    "num_leaves = 50\n",
    "min_data_in_leaf = 1000\n",
    "feature_fraction = 0.9\n",
    "num_boost_round = 3000"
   ]
  },
  {
   "cell_type": "code",
   "execution_count": 546,
   "id": "3e62bfba",
   "metadata": {},
   "outputs": [],
   "source": [
    "from lightgbm import LGBMRegressor\n",
    "def running_train(X_train, Y_train, X_val, Y_val, i_fold=None, seed=None, params = None):\n",
    "    # prepare for train\n",
    "    params = {\n",
    "# #           \"objective\": \"cross_entropy\",\n",
    "#           \"num_leaves\": 256,\n",
    "#            \"max_bin\": 128,\n",
    "#           \"feature_fraction\": feature_fraction,\n",
    "#           \"min_child_samples\": 5,\n",
    "#           \"min_child_weight\": 50,\n",
    "#           \"min_split_gain\": 0.1,\n",
    "#           \"subsample\": 0.7,\n",
    "          'n_jobs': -1,\n",
    "          'random_state': seed\n",
    "          }\n",
    "    \n",
    "    params['random_state'] = seed\n",
    "    \n",
    "    \n",
    "    model = LGBMRegressor(**params) # define model here\n",
    "    \n",
    "    # Fit and save model\n",
    "    \n",
    "    if X_val is None:\n",
    "        model.fit(X_train, Y_train, verbose=False)\n",
    "    else:\n",
    "        model.fit(X_train, Y_train,   eval_set=(X_val, Y_val), early_stopping_rounds=500, verbose=False)\n",
    "    joblib.dump(model, OUTPUT_PATH / 'models' / f'lightgbm_{i_fold}_{seed}_{CURRENT_TIME}.pkl')"
   ]
  },
  {
   "cell_type": "code",
   "execution_count": 547,
   "id": "60ad560a",
   "metadata": {},
   "outputs": [],
   "source": [
    "oof = np.zeros((X.shape[0], n_seed)) # cv_score\n",
    "seeds = []\n",
    "for i_seed in range(n_seed):\n",
    "    seed = FIXED_SEEDS[i_seed]\n",
    "    seed_everything(seed)\n",
    "\n",
    "    seeds.append(seed)\n",
    "    print('Seed: {}, {}/{}'.format(seed, i_seed + 1, n_seed))\n",
    "    \n",
    "    if n_fold != 1:\n",
    "        kf = KFold(n_splits=n_fold, random_state=seed, shuffle=True)\n",
    "        split_indexes = kf.split(X, Y)\n",
    "    else:\n",
    "        split_indexes = [train_test_split(np.arange(X.shape[0]), random_state=seed, shuffle = True)]\n",
    "    \n",
    "    for i_fold, (train_idx, val_idx) in enumerate(split_indexes):\n",
    "        print(\"# Fold: {}/{} (seed: {}/{})\".format(i_fold + 1, n_fold, i_seed + 1, n_seed))\n",
    "\n",
    "        # dataset\n",
    "        X_train, Y_train = X.iloc[train_idx], Y[train_idx]\n",
    "        X_val, Y_val = X.iloc[val_idx], Y[val_idx]\n",
    "\n",
    "\n",
    "        # train\n",
    "        running_train(X_train, Y_train, X_val, Y_val, i_fold=i_fold, seed=seed)\n",
    "\n",
    "        # predict on oof\n",
    "        print('predict on oof...', end='')\n",
    "        model = joblib.load( OUTPUT_PATH / 'models' / f'lightgbm_{i_fold}_{seed}_{CURRENT_TIME}.pkl')\n",
    "\n",
    "        #prediction = model.predict_proba(X_val)[:, 1]\n",
    "        prediction = model.predict(X_val)\n",
    "\n",
    "        oof[val_idx, i_seed] = prediction\n",
    "        print('  done.')"
   ]
  },
  {
   "cell_type": "code",
   "execution_count": 548,
   "id": "dbc93cef",
   "metadata": {},
   "outputs": [],
   "source": [
    "if n_fold != 1:\n",
    "    Y_predicted = (np.mean(oof, axis = 1) > prediction_threshold).astype(int)\n",
    "    Y_test = funnel[['client_id', 'sale_flg']].set_index('client_id')\n",
    "    test_funnel =  funnel.set_index('client_id')\n",
    "if n_fold == 1 and n_seed == 1:\n",
    "    Y_predicted = (prediction > prediction_threshold).astype(int)\n",
    "    Y_test = funnel[['client_id', 'sale_flg']].iloc[split_indexes[0][1]].set_index('client_id')\n",
    "    test_funnel = funnel.iloc[split_indexes[0][1]].set_index('client_id')"
   ]
  },
  {
   "cell_type": "code",
   "execution_count": 549,
   "id": "210a0eb3",
   "metadata": {},
   "outputs": [],
   "source": [
    "try: \n",
    "    os.mkdir(OUTPUT_PATH / 'scoring')\n",
    "except:\n",
    "    shutil.rmtree(OUTPUT_PATH / 'scoring')\n",
    "    os.mkdir(OUTPUT_PATH / 'scoring')"
   ]
  },
  {
   "cell_type": "code",
   "execution_count": 550,
   "id": "3aed0f37",
   "metadata": {},
   "outputs": [],
   "source": [
    "public_score, private_score = local_scorer.get_score(test_funnel, Y_predicted, Y_test)"
   ]
  },
  {
   "cell_type": "code",
   "execution_count": 551,
   "id": "37634db4",
   "metadata": {},
   "outputs": [],
   "source": [
    "validation_accuracy = accuracy_score(Y_test['sale_flg'], Y_predicted)\n",
    "print(f'Public ANIC {public_score} Private ANIC {private_score}')\n",
    "print(f'ANIC {1/3*public_score+ 2/3 * private_score}')\n",
    "print(f'Accuracy score: {validation_accuracy}')"
   ]
  },
  {
   "cell_type": "code",
   "execution_count": 552,
   "id": "f7f25b04",
   "metadata": {},
   "outputs": [],
   "source": [
    "if n_fold != 1:\n",
    "    Y_predicted = (np.mean(oof, axis = 1) > prediction_threshold).astype(int)\n",
    "    Y_test = funnel[['client_id', 'sale_flg']].set_index('client_id')\n",
    "    test_funnel =  funnel.set_index('client_id')\n",
    "if n_fold == 1 and n_seed == 1:\n",
    "    Y_predicted = (prediction > prediction_threshold).astype(int)\n",
    "    Y_test = funnel[['client_id', 'sale_flg']].iloc[split_indexes[0][1]].set_index('client_id')\n",
    "    test_funnel = funnel.iloc[split_indexes[0][1]].set_index('client_id')"
   ]
  },
  {
   "cell_type": "code",
   "execution_count": 553,
   "id": "b4ae99cb",
   "metadata": {},
   "outputs": [],
   "source": [
    "try: \n",
    "    os.mkdir(OUTPUT_PATH / 'scoring')\n",
    "except:\n",
    "    shutil.rmtree(OUTPUT_PATH / 'scoring')\n",
    "    os.mkdir(OUTPUT_PATH / 'scoring')"
   ]
  },
  {
   "cell_type": "code",
   "execution_count": 554,
   "id": "e4626585",
   "metadata": {},
   "outputs": [],
   "source": [
    "public_score, private_score = local_scorer.get_score(test_funnel, Y_predicted, Y_test)"
   ]
  },
  {
   "cell_type": "code",
   "execution_count": 555,
   "id": "334646c7",
   "metadata": {},
   "outputs": [],
   "source": [
    "validation_accuracy = accuracy_score(Y_test['sale_flg'], Y_predicted)\n",
    "print(f'Public ANIC {public_score} Private ANIC {private_score}')\n",
    "print(f'ANIC {1/3*public_score+ 2/3 * private_score}')\n",
    "print(f'Accuracy score: {validation_accuracy}')"
   ]
  },
  {
   "cell_type": "code",
   "execution_count": 556,
   "id": "1f8ab55e",
   "metadata": {},
   "outputs": [
    {
     "name": "stdout",
     "output_type": "stream",
     "text": [
      "<AxesSubplot:title={'center':'Feature importance'}, xlabel='Feature importance', ylabel='Features'>"
     ]
    }
   ],
   "source": [
    "import lightgbm\n",
    "import matplotlib.pyplot as plt\n",
    "plt.figure(figsize = (30, 30))\n",
    "lightgbm.plot_importance(model)"
   ]
  },
  {
   "cell_type": "code",
   "execution_count": 557,
   "id": "ffc66876",
   "metadata": {},
   "outputs": [
    {
     "name": "stdout",
     "output_type": "stream",
     "text": [
      "array(['client_city', 'feature_4', 'feature_6', 'feature_5', 'feature_9',\n",
      "       'client_age', 'feature_3', 'client_segment', 'client_education',\n",
      "       'client_region', 'region_cd', 'feature_2', 'feature_8',\n",
      "       'feature_1', 'feature_7', 'feature_10', 'feature_4 log',\n",
      "       'client_gender', 'feature_3 log', 'feature_6 log', 'feature_5 log',\n",
      "       'cluster', 'feature_2 ** 2', 'feature_2 ** 0.5', 'feature_10 log',\n",
      "       'feature_10 ** 0.5', 'feature_10 ** 2', 'feature_9 log',\n",
      "       'feature_9 ** 0.5', 'feature_9 ** 2'], dtype=object)"
     ]
    },
    {
     "data": {
      "text/plain": [
       "<Figure size 2160x2160 with 0 Axes>"
      ]
     },
     "metadata": {},
     "output_type": "display_data"
    },
    {
     "data": {
      "image/png": "[encoded data removed]",
      "text/plain": [
       "<Figure size 432x288 with 1 Axes>"
      ]
     },
     "metadata": {
      "needs_background": "light"
     },
     "output_type": "display_data"
    }
   ],
   "source": [
    "feature_importance = pd.DataFrame(np.array([list(X.columns),model.feature_importances_]).T)\n",
    "feature_importance.columns = ['column', 'importance']\n",
    "feature_importance['importance'] = feature_importance['importance'].map(int)\n",
    "feature_importance.sort_values(by='importance', ascending = False).iloc[:30, 0].values"
   ]
  },
  {
   "cell_type": "code",
   "execution_count": 558,
   "id": "a63379e2",
   "metadata": {},
   "outputs": [],
   "source": [
    "retrain_after_valid = False\n",
    "if retrain_after_valid:\n",
    "    running_train(X, Y, None, None, i_fold=-1, seed=4444)"
   ]
  },
  {
   "cell_type": "code",
   "execution_count": 559,
   "id": "e66e1dc6",
   "metadata": {},
   "outputs": [],
   "source": [
    "if USE_WANDB:\n",
    "    wandb.run.summary[\"validation_accuracy\"] = validation_accuracy\n",
    "    wandb.run.summary[\"anic\"] = 1/3*public_score+ 2/3 * private_score"
   ]
  },
  {
   "cell_type": "code",
   "execution_count": 560,
   "id": "c760e993",
   "metadata": {},
   "outputs": [],
   "source": [
    "if make_submission:\n",
    "    public_anic = float(input())\n",
    "    wandb.run.summary[\"public_anic\"] = public_anic"
   ]
  },
  {
   "cell_type": "code",
   "execution_count": 561,
   "id": "702fd94f",
   "metadata": {},
   "outputs": [],
   "source": [
    "make_submission = True\n",
    "if make_submission:\n",
    "    public_anic = float(input())\n",
    "    wandb.run.summary[\"public_anic\"] = public_anic"
   ]
  },
  {
   "cell_type": "code",
   "execution_count": 562,
   "id": "7a8d4a3f",
   "metadata": {},
   "outputs": [],
   "source": [
    "if USE_WANDB:\n",
    "    run.finish()"
   ]
  }
 ],
 "metadata": {
  "kernelspec": {
   "display_name": "Python 3",
   "language": "python",
   "name": "python3"
  },
  "language_info": {
   "codemirror_mode": {
    "name": "ipython",
    "version": 3
   },
   "file_extension": ".py",
   "mimetype": "text/x-python",
   "name": "python",
   "nbconvert_exporter": "python",
   "pygments_lexer": "ipython3",
   "version": "3.7.10"
  }
 },
 "nbformat": 4,
 "nbformat_minor": 5
}
