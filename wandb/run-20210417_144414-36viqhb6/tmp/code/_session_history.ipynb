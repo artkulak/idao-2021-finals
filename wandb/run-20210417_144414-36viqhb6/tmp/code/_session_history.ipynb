{
 "cells": [
  {
   "cell_type": "code",
   "execution_count": 1,
   "id": "1e69f274",
   "metadata": {},
   "outputs": [],
   "source": [
    "#####################\n",
    "# IMPORT LIBS\n",
    "#####################\n",
    "\n",
    "import pandas as pd\n",
    "import numpy as np\n",
    "from pathlib import Path\n",
    "import wandb\n",
    "import datetime\n",
    "import os\n",
    "import random\n",
    "import joblib\n",
    "\n",
    "from sklearn.model_selection import KFold\n",
    "from sklearn.model_selection import train_test_split\n",
    "from sklearn.metrics import accuracy_score\n",
    "from sklearn.preprocessing import LabelEncoder\n",
    "from scoring import local_scorer\n",
    "\n",
    "from lightgbm import LGBMClassifier\n",
    "\n",
    "\n",
    "#####################\n",
    "# SET CONSTANTS\n",
    "#####################\n",
    "\n",
    "INPUT_PATH = Path('../input')\n",
    "OUTPUT_PATH = Path('../output')\n",
    "TRAIN_PATH = INPUT_PATH \n",
    "\n",
    "TARGET_COLUMNS = ['sale_flg', 'sale_amount', 'contacts']\n",
    "FIXED_SEEDS = [948, 534, 432, 597, 103, 21, 2242, 17, 20, 29]\n",
    "\n",
    "RANDOM_SEED = 4444\n",
    "USE_WANDB = False\n",
    "CURRENT_TIME = str(datetime.datetime.now()).replace(' ', '_').split('.')[0]\n",
    "\n",
    "def seed_everything(seed=1234):\n",
    "    random.seed(seed)\n",
    "    os.environ['PYTHONHASHSEED'] = str(seed)\n",
    "    np.random.seed(seed)\n",
    "seed_everything(RANDOM_SEED)"
   ]
  },
  {
   "cell_type": "code",
   "execution_count": 2,
   "id": "bfa7a7c4",
   "metadata": {},
   "outputs": [],
   "source": [
    "###############\n",
    "# Config\n",
    "###############\n",
    "\n",
    "n_seed = 3\n",
    "n_fold = 3\n",
    "prediction_threshold = 0.2\n",
    "retrain_after_valid = True"
   ]
  },
  {
   "cell_type": "code",
   "execution_count": 3,
   "id": "e0060b08",
   "metadata": {},
   "outputs": [],
   "source": [
    "if USE_WANDB:\n",
    "    wandb.login()\n",
    "    run = wandb.init(project=\"idao-2021-finals\", name = f'{CURRENT_TIME}') # todo add config here"
   ]
  },
  {
   "cell_type": "code",
   "execution_count": 4,
   "id": "0353b06c",
   "metadata": {},
   "outputs": [],
   "source": [
    "%%time\n",
    "\n",
    "transactions = pd.read_csv(INPUT_PATH / 'trxn.csv')\n",
    "assets_under_management = pd.read_csv(INPUT_PATH / 'aum.csv')\n",
    "balance = pd.read_csv(INPUT_PATH / 'balance.csv')\n",
    "client = pd.read_csv(INPUT_PATH / 'client.csv')\n",
    "campaigns = pd.read_csv(INPUT_PATH / 'com.csv')\n",
    "deals = pd.read_csv(INPUT_PATH / 'deals.csv')\n",
    "dict_merchant_category_code = pd.read_csv(INPUT_PATH / 'dict_mcc.csv')\n",
    "payments = pd.read_csv(INPUT_PATH / 'payments.csv')\n",
    "funnel = pd.read_csv(INPUT_PATH / 'funnel.csv')\n",
    "appl = pd.read_csv(INPUT_PATH / 'appl.csv')"
   ]
  },
  {
   "cell_type": "code",
   "execution_count": 5,
   "id": "c3778b84",
   "metadata": {},
   "outputs": [],
   "source": [
    "payments = payments.sort_values(by='day_dt', ascending = False).reset_index(drop = True)"
   ]
  },
  {
   "cell_type": "code",
   "execution_count": 6,
   "id": "77c41d94",
   "metadata": {},
   "outputs": [],
   "source": [
    "def most_common(x, default='unknown'):\n",
    "    try:\n",
    "        return x.value_counts().index[0] \n",
    "    except: \n",
    "        return default\n",
    "\n",
    "\n",
    "def create_features_transactions(data):\n",
    "    \n",
    "    data = data.copy()\n",
    "    \n",
    "    # transaction features\n",
    "    data['cards_count'] = data['client_id'].map(transactions.groupby('client_id')['card_id'].count()).fillna(0)\n",
    "    data['total_transaction_amount'] = data['client_id'].map(transactions.groupby('client_id')['tran_amt_rur'].sum()).fillna(0) # add monthly, daily, etc\n",
    "    data['mean_transaction_amount'] = data['client_id'].map(transactions.groupby('client_id')['tran_amt_rur'].mean()).fillna(0) # add monthly, daily, etc\n",
    "    data['std_transaction_amount'] = data['client_id'].map(transactions.groupby('client_id')['tran_amt_rur'].std()).fillna(0) # add monthly, daily, etc\n",
    "    \n",
    "    data['most_common_mcc_cd'] = data['client_id'].map(transactions.groupby('client_id')['mcc_cd'].agg(lambda x:most_common(x))).fillna(-1)\n",
    "    data['most_common_txn_comment_1'] = data['client_id'].map(transactions.groupby('client_id')['txn_comment_1'].agg(lambda x:most_common(x, 'unknown'))).fillna('unknown')\n",
    "    data['most_common_txn_city'] = data['client_id'].map(transactions.groupby('client_id')['txn_city'].agg(lambda x: most_common(x, 'unknown'))).fillna('unknown')\n",
    "    data['most_common_txn_country'] = data['client_id'].map(transactions.groupby('client_id')['txn_country'].agg(lambda x:most_common(x, 'unknown'))).fillna('unknown')\n",
    "    \n",
    "    data['number_of_transaction_countries'] = data['client_id'].map(transactions.groupby('client_id')['txn_city'].agg(lambda x:x.value_counts().shape[0]))\n",
    "    data['number_of_transaction_cities'] = data['client_id'].map(transactions.groupby('client_id')['txn_country'].agg(lambda x:x.value_counts().shape[0]))\n",
    "    \n",
    "    return data\n",
    "\n",
    "def create_feautures_payments(data):\n",
    "    data = data.copy()\n",
    "    \n",
    "    # payments \n",
    "    data['last_known_salary'] = data['client_id'].map(payments.groupby('client_id').apply(lambda x: x['sum_rur'].iloc[0])).fillna(-1)\n",
    "    data['total_recieved_salary'] = data['client_id'].map(payments.groupby('client_id').apply(lambda x: x['sum_rur'].sum())).fillna(-1)\n",
    "    \n",
    "    return data\n",
    "\n",
    "def create_features_deals(data):\n",
    "    data = data.copy()\n",
    "    \n",
    "    data['number_of_deals'] = data['client_id'].map(deals.groupby('client_id')['crncy_cd'].count()).fillna(0)\n",
    "    data['mean_deal_sum'] = data['client_id'].map(deals.groupby('client_id')['agrmnt_sum_rur'].mean()).fillna(0)\n",
    "    \n",
    "    return data"
   ]
  },
  {
   "cell_type": "code",
   "execution_count": 7,
   "id": "5e12dfc4",
   "metadata": {},
   "outputs": [],
   "source": [
    "# data encode\n",
    "\n",
    "le = LabelEncoder()\n",
    "fill_cols = ['gender', 'citizenship', 'education', 'job_type', 'most_common_txn_comment_1', 'most_common_txn_city', 'most_common_txn_country']\n",
    "for col in fill_cols:\n",
    "    try:\n",
    "        data[col] = le.fit_transform(data[col].astype(str))\n",
    "        joblib.dump(le, OUTPUT_PATH / 'preprocessors' / f'{col}.pkl')\n",
    "    except:\n",
    "        print(f'{col} is missing')"
   ]
  },
  {
   "cell_type": "code",
   "execution_count": 8,
   "id": "3e1095f4",
   "metadata": {},
   "outputs": [],
   "source": [
    "X = data.drop(columns = TARGET_COLUMNS + ['client_id'])\n",
    "Y = data[TARGET_COLUMNS[0]]"
   ]
  },
  {
   "cell_type": "code",
   "execution_count": 9,
   "id": "1a0a8c59",
   "metadata": {},
   "outputs": [],
   "source": [
    "# data merge\n",
    "data = funnel.copy()\n",
    "data = funnel.merge(client, on=['client_id'])"
   ]
  },
  {
   "cell_type": "code",
   "execution_count": 10,
   "id": "735cd6b8",
   "metadata": {},
   "outputs": [],
   "source": [
    "# data merge\n",
    "data = funnel.copy()\n",
    "#data = funnel.merge(client, on=['client_id'])"
   ]
  },
  {
   "cell_type": "code",
   "execution_count": 11,
   "id": "3291de47",
   "metadata": {},
   "outputs": [],
   "source": [
    "# data encode\n",
    "\n",
    "le = LabelEncoder()\n",
    "fill_cols = ['gender', 'citizenship', 'education', 'job_type', 'most_common_txn_comment_1', 'most_common_txn_city', 'most_common_txn_country']\n",
    "for col in fill_cols:\n",
    "    try:\n",
    "        data[col] = le.fit_transform(data[col].astype(str))\n",
    "        joblib.dump(le, OUTPUT_PATH / 'preprocessors' / f'{col}.pkl')\n",
    "    except:\n",
    "        print(f'{col} is missing')"
   ]
  },
  {
   "cell_type": "code",
   "execution_count": 12,
   "id": "3c97823d",
   "metadata": {},
   "outputs": [],
   "source": [
    "X = data.drop(columns = TARGET_COLUMNS + ['client_id'])\n",
    "Y = data[TARGET_COLUMNS[0]]"
   ]
  },
  {
   "cell_type": "code",
   "execution_count": 13,
   "id": "b292b15d",
   "metadata": {},
   "outputs": [],
   "source": [
    "import shutil\n",
    "try:\n",
    "    os.mkdir(OUTPUT_PATH / 'models')\n",
    "except:\n",
    "    shutil.rmtree(OUTPUT_PATH / 'models')\n",
    "    os.mkdir(OUTPUT_PATH / 'models')\n",
    "    \n",
    "try:\n",
    "    os.mkdir(OUTPUT_PATH / 'preprocessors')\n",
    "except:\n",
    "    shutil.rmtree(OUTPUT_PATH / 'preprocessors')\n",
    "    os.mkdir(OUTPUT_PATH / 'preprocessors')"
   ]
  },
  {
   "cell_type": "code",
   "execution_count": 14,
   "id": "a2afe3a6",
   "metadata": {},
   "outputs": [],
   "source": [
    "def running_train(X_train, Y_train, X_val, Y_val, i_fold=None, seed=None, params = None):\n",
    "    # prepare for train\n",
    "    \n",
    "    params = {\n",
    "              \"n_jobs\":-1,\n",
    "              \"random_state\": seed\n",
    "              }\n",
    "    \n",
    "    \n",
    "    model = LGBMClassifier(**params) # define model here\n",
    "    \n",
    "    # Fit and save model\n",
    "    \n",
    "    if X_val is None:\n",
    "        model.fit(X_train, Y_train, verbose=False)\n",
    "    else:\n",
    "        model.fit(X_train, Y_train,   eval_set=(X_val, Y_val), early_stopping_rounds=500, verbose=False)\n",
    "    joblib.dump(model, OUTPUT_PATH / 'models' / f'lightgbm_{i_fold}_{seed}_{CURRENT_TIME}.pkl')"
   ]
  },
  {
   "cell_type": "code",
   "execution_count": 15,
   "id": "9fdcbb31",
   "metadata": {},
   "outputs": [],
   "source": [
    "oof = np.zeros((X.shape[0], n_seed)) # cv_score\n",
    "seeds = []\n",
    "for i_seed in range(n_seed):\n",
    "    seed = FIXED_SEEDS[i_seed]\n",
    "    seed_everything(seed)\n",
    "\n",
    "    seeds.append(seed)\n",
    "    print('Seed: {}, {}/{}'.format(seed, i_seed + 1, n_seed))\n",
    "    \n",
    "    if n_fold != 1:\n",
    "        kf = KFold(n_splits=n_fold, random_state=seed, shuffle=True)\n",
    "        split_indexes = kf.split(X, Y)\n",
    "    else:\n",
    "        split_indexes = [train_test_split(np.arange(X.shape[0]), random_state=seed, shuffle = True)]\n",
    "    \n",
    "    for i_fold, (train_idx, val_idx) in enumerate(split_indexes):\n",
    "        print(\"# Fold: {}/{} (seed: {}/{})\".format(i_fold + 1, n_fold, i_seed + 1, n_seed))\n",
    "\n",
    "        # dataset\n",
    "        X_train, Y_train = X.iloc[train_idx], Y[train_idx]\n",
    "        X_val, Y_val = X.iloc[val_idx], Y[val_idx]\n",
    "\n",
    "\n",
    "        # train\n",
    "        running_train(X_train, Y_train, X_val, Y_val, i_fold=i_fold, seed=seed)\n",
    "\n",
    "        # predict on oof\n",
    "        print('predict on oof...', end='')\n",
    "        model = joblib.load( OUTPUT_PATH / 'models' / f'lightgbm_{i_fold}_{seed}_{CURRENT_TIME}.pkl')\n",
    "\n",
    "        prediction = model.predict_proba(X_val)[:, 1]\n",
    "\n",
    "        oof[val_idx, i_seed] = prediction\n",
    "        print('  done.')"
   ]
  },
  {
   "cell_type": "code",
   "execution_count": 16,
   "id": "7fdfb2ca",
   "metadata": {},
   "outputs": [],
   "source": [
    "if n_fold != 1:\n",
    "    Y_predicted = (np.mean(oof, axis = 1) > prediction_threshold).astype(int)\n",
    "    Y_test = funnel[['client_id', 'sale_flg']].set_index('client_id')\n",
    "    test_funnel =  funnel.set_index('client_id')\n",
    "if n_fold == 1 and n_seed == 1:\n",
    "    Y_predicted = (prediction > prediction_threshold).astype(int)\n",
    "    Y_test = funnel[['client_id', 'sale_flg']].iloc[split_indexes[0][1]].set_index('client_id')\n",
    "    test_funnel = funnel.iloc[split_indexes[0][1]].set_index('client_id')"
   ]
  },
  {
   "cell_type": "code",
   "execution_count": 17,
   "id": "cfe1bf3e",
   "metadata": {},
   "outputs": [],
   "source": [
    "try: \n",
    "    os.mkdir(OUTPUT_PATH / 'scoring')\n",
    "except:\n",
    "    shutil.rmtree(OUTPUT_PATH / 'scoring')\n",
    "    os.mkdir(OUTPUT_PATH / 'scoring')"
   ]
  },
  {
   "cell_type": "code",
   "execution_count": 18,
   "id": "ecfc143e",
   "metadata": {},
   "outputs": [],
   "source": [
    "public_score, private_score = local_scorer.get_score(test_funnel, Y_predicted, Y_test)"
   ]
  },
  {
   "cell_type": "code",
   "execution_count": 19,
   "id": "7db32f9a",
   "metadata": {},
   "outputs": [],
   "source": [
    "validation_accuracy = accuracy_score(Y_test['sale_flg'], Y_predicted)\n",
    "print(f'Public ANIC {public_score} Private ANIC {private_score}')\n",
    "print(f'ANIC {1/3*public_score+ 2/3 * private_score}')\n",
    "print(f'Accuracy score: {validation_accuracy}')"
   ]
  },
  {
   "cell_type": "code",
   "execution_count": 20,
   "id": "c6c11501",
   "metadata": {},
   "outputs": [],
   "source": [
    "# data merge\n",
    "data = funnel.copy()\n",
    "data = funnel.merge(client, on=['client_id'])"
   ]
  },
  {
   "cell_type": "code",
   "execution_count": 21,
   "id": "fddb46d8",
   "metadata": {},
   "outputs": [],
   "source": [
    "# data encode\n",
    "\n",
    "le = LabelEncoder()\n",
    "fill_cols = ['gender', 'citizenship', 'education', 'job_type', 'most_common_txn_comment_1', 'most_common_txn_city', 'most_common_txn_country']\n",
    "for col in fill_cols:\n",
    "    try:\n",
    "        data[col] = le.fit_transform(data[col].astype(str))\n",
    "        joblib.dump(le, OUTPUT_PATH / 'preprocessors' / f'{col}.pkl')\n",
    "    except:\n",
    "        print(f'{col} is missing')"
   ]
  },
  {
   "cell_type": "code",
   "execution_count": 22,
   "id": "a6ad726b",
   "metadata": {},
   "outputs": [],
   "source": [
    "X = data.drop(columns = TARGET_COLUMNS + ['client_id'])\n",
    "Y = data[TARGET_COLUMNS[0]]"
   ]
  },
  {
   "cell_type": "code",
   "execution_count": 23,
   "id": "9bd5c0a1",
   "metadata": {},
   "outputs": [],
   "source": [
    "import shutil\n",
    "try:\n",
    "    os.mkdir(OUTPUT_PATH / 'models')\n",
    "except:\n",
    "    shutil.rmtree(OUTPUT_PATH / 'models')\n",
    "    os.mkdir(OUTPUT_PATH / 'models')\n",
    "    \n",
    "try:\n",
    "    os.mkdir(OUTPUT_PATH / 'preprocessors')\n",
    "except:\n",
    "    shutil.rmtree(OUTPUT_PATH / 'preprocessors')\n",
    "    os.mkdir(OUTPUT_PATH / 'preprocessors')"
   ]
  },
  {
   "cell_type": "code",
   "execution_count": 24,
   "id": "fc0500b7",
   "metadata": {},
   "outputs": [],
   "source": [
    "def running_train(X_train, Y_train, X_val, Y_val, i_fold=None, seed=None, params = None):\n",
    "    # prepare for train\n",
    "    \n",
    "    params = {\n",
    "              \"n_jobs\":-1,\n",
    "              \"random_state\": seed\n",
    "              }\n",
    "    \n",
    "    \n",
    "    model = LGBMClassifier(**params) # define model here\n",
    "    \n",
    "    # Fit and save model\n",
    "    \n",
    "    if X_val is None:\n",
    "        model.fit(X_train, Y_train, verbose=False)\n",
    "    else:\n",
    "        model.fit(X_train, Y_train,   eval_set=(X_val, Y_val), early_stopping_rounds=500, verbose=False)\n",
    "    joblib.dump(model, OUTPUT_PATH / 'models' / f'lightgbm_{i_fold}_{seed}_{CURRENT_TIME}.pkl')"
   ]
  },
  {
   "cell_type": "code",
   "execution_count": 25,
   "id": "30f8bfbb",
   "metadata": {},
   "outputs": [],
   "source": [
    "oof = np.zeros((X.shape[0], n_seed)) # cv_score\n",
    "seeds = []\n",
    "for i_seed in range(n_seed):\n",
    "    seed = FIXED_SEEDS[i_seed]\n",
    "    seed_everything(seed)\n",
    "\n",
    "    seeds.append(seed)\n",
    "    print('Seed: {}, {}/{}'.format(seed, i_seed + 1, n_seed))\n",
    "    \n",
    "    if n_fold != 1:\n",
    "        kf = KFold(n_splits=n_fold, random_state=seed, shuffle=True)\n",
    "        split_indexes = kf.split(X, Y)\n",
    "    else:\n",
    "        split_indexes = [train_test_split(np.arange(X.shape[0]), random_state=seed, shuffle = True)]\n",
    "    \n",
    "    for i_fold, (train_idx, val_idx) in enumerate(split_indexes):\n",
    "        print(\"# Fold: {}/{} (seed: {}/{})\".format(i_fold + 1, n_fold, i_seed + 1, n_seed))\n",
    "\n",
    "        # dataset\n",
    "        X_train, Y_train = X.iloc[train_idx], Y[train_idx]\n",
    "        X_val, Y_val = X.iloc[val_idx], Y[val_idx]\n",
    "\n",
    "\n",
    "        # train\n",
    "        running_train(X_train, Y_train, X_val, Y_val, i_fold=i_fold, seed=seed)\n",
    "\n",
    "        # predict on oof\n",
    "        print('predict on oof...', end='')\n",
    "        model = joblib.load( OUTPUT_PATH / 'models' / f'lightgbm_{i_fold}_{seed}_{CURRENT_TIME}.pkl')\n",
    "\n",
    "        prediction = model.predict_proba(X_val)[:, 1]\n",
    "\n",
    "        oof[val_idx, i_seed] = prediction\n",
    "        print('  done.')"
   ]
  },
  {
   "cell_type": "code",
   "execution_count": 26,
   "id": "1a69ae57",
   "metadata": {},
   "outputs": [],
   "source": [
    "if n_fold != 1:\n",
    "    Y_predicted = (np.mean(oof, axis = 1) > prediction_threshold).astype(int)\n",
    "    Y_test = funnel[['client_id', 'sale_flg']].set_index('client_id')\n",
    "    test_funnel =  funnel.set_index('client_id')\n",
    "if n_fold == 1 and n_seed == 1:\n",
    "    Y_predicted = (prediction > prediction_threshold).astype(int)\n",
    "    Y_test = funnel[['client_id', 'sale_flg']].iloc[split_indexes[0][1]].set_index('client_id')\n",
    "    test_funnel = funnel.iloc[split_indexes[0][1]].set_index('client_id')"
   ]
  },
  {
   "cell_type": "code",
   "execution_count": 27,
   "id": "4c4326c8",
   "metadata": {},
   "outputs": [],
   "source": [
    "try: \n",
    "    os.mkdir(OUTPUT_PATH / 'scoring')\n",
    "except:\n",
    "    shutil.rmtree(OUTPUT_PATH / 'scoring')\n",
    "    os.mkdir(OUTPUT_PATH / 'scoring')"
   ]
  },
  {
   "cell_type": "code",
   "execution_count": 28,
   "id": "36c98847",
   "metadata": {},
   "outputs": [],
   "source": [
    "public_score, private_score = local_scorer.get_score(test_funnel, Y_predicted, Y_test)"
   ]
  },
  {
   "cell_type": "code",
   "execution_count": 29,
   "id": "e74742e6",
   "metadata": {},
   "outputs": [],
   "source": [
    "validation_accuracy = accuracy_score(Y_test['sale_flg'], Y_predicted)\n",
    "print(f'Public ANIC {public_score} Private ANIC {private_score}')\n",
    "print(f'ANIC {1/3*public_score+ 2/3 * private_score}')\n",
    "print(f'Accuracy score: {validation_accuracy}')"
   ]
  },
  {
   "cell_type": "code",
   "execution_count": 30,
   "id": "d4592dc0",
   "metadata": {},
   "outputs": [],
   "source": [
    "if USE_WANDB:\n",
    "    wandb.run.summary[\"validation_accuracy\"] = validation_accuracy\n",
    "    wandb.run.summary[\"anic\"] = (public_score + private_score) / 2"
   ]
  },
  {
   "cell_type": "code",
   "execution_count": 31,
   "id": "eb88f00d",
   "metadata": {},
   "outputs": [],
   "source": [
    "if retrain_after_valid:\n",
    "    running_train(X, Y, None, None, i_fold=-1, seed=4444)"
   ]
  },
  {
   "cell_type": "code",
   "execution_count": 32,
   "id": "abe64706",
   "metadata": {},
   "outputs": [],
   "source": [
    "###############\n",
    "# Config\n",
    "###############\n",
    "\n",
    "n_seed = 3\n",
    "n_fold = 3\n",
    "prediction_threshold = 0.2\n",
    "retrain_after_valid = True\n",
    "make_submission = True"
   ]
  },
  {
   "cell_type": "code",
   "execution_count": 33,
   "id": "65e220c7",
   "metadata": {},
   "outputs": [],
   "source": [
    "#####################\n",
    "# IMPORT LIBS\n",
    "#####################\n",
    "\n",
    "import pandas as pd\n",
    "import numpy as np\n",
    "from pathlib import Path\n",
    "import wandb\n",
    "import datetime\n",
    "import os\n",
    "import random\n",
    "import joblib\n",
    "\n",
    "from sklearn.model_selection import KFold\n",
    "from sklearn.model_selection import train_test_split\n",
    "from sklearn.metrics import accuracy_score\n",
    "from sklearn.preprocessing import LabelEncoder\n",
    "from scoring import local_scorer\n",
    "\n",
    "from lightgbm import LGBMClassifier\n",
    "\n",
    "\n",
    "#####################\n",
    "# SET CONSTANTS\n",
    "#####################\n",
    "\n",
    "INPUT_PATH = Path('../input')\n",
    "OUTPUT_PATH = Path('../output')\n",
    "TRAIN_PATH = INPUT_PATH \n",
    "\n",
    "TARGET_COLUMNS = ['sale_flg', 'sale_amount', 'contacts']\n",
    "FIXED_SEEDS = [948, 534, 432, 597, 103, 21, 2242, 17, 20, 29]\n",
    "\n",
    "RANDOM_SEED = 4444\n",
    "USE_WANDB = False\n",
    "CURRENT_TIME = str(datetime.datetime.now()).replace(' ', '_').split('.')[0]\n",
    "\n",
    "def seed_everything(seed=1234):\n",
    "    random.seed(seed)\n",
    "    os.environ['PYTHONHASHSEED'] = str(seed)\n",
    "    np.random.seed(seed)\n",
    "seed_everything(RANDOM_SEED)"
   ]
  },
  {
   "cell_type": "code",
   "execution_count": 34,
   "id": "88f1275b",
   "metadata": {},
   "outputs": [],
   "source": [
    "###############\n",
    "# Config\n",
    "###############\n",
    "\n",
    "n_seed = 3\n",
    "n_fold = 3\n",
    "prediction_threshold = 0.2\n",
    "retrain_after_valid = True\n",
    "make_submission = True"
   ]
  },
  {
   "cell_type": "code",
   "execution_count": 35,
   "id": "e1378fea",
   "metadata": {},
   "outputs": [],
   "source": [
    "#####################\n",
    "# IMPORT LIBS\n",
    "#####################\n",
    "\n",
    "import pandas as pd\n",
    "import numpy as np\n",
    "from pathlib import Path\n",
    "import wandb\n",
    "import datetime\n",
    "import os\n",
    "import random\n",
    "import joblib\n",
    "\n",
    "from sklearn.model_selection import KFold\n",
    "from sklearn.model_selection import train_test_split\n",
    "from sklearn.metrics import accuracy_score\n",
    "from sklearn.preprocessing import LabelEncoder\n",
    "from scoring import local_scorer\n",
    "\n",
    "from lightgbm import LGBMClassifier\n",
    "\n",
    "\n",
    "#####################\n",
    "# SET CONSTANTS\n",
    "#####################\n",
    "\n",
    "INPUT_PATH = Path('../input')\n",
    "OUTPUT_PATH = Path('../output')\n",
    "TRAIN_PATH = INPUT_PATH \n",
    "\n",
    "TARGET_COLUMNS = ['sale_flg', 'sale_amount', 'contacts']\n",
    "FIXED_SEEDS = [948, 534, 432, 597, 103, 21, 2242, 17, 20, 29]\n",
    "\n",
    "RANDOM_SEED = 4444\n",
    "USE_WANDB = True\n",
    "CURRENT_TIME = str(datetime.datetime.now()).replace(' ', '_').split('.')[0]\n",
    "\n",
    "def seed_everything(seed=1234):\n",
    "    random.seed(seed)\n",
    "    os.environ['PYTHONHASHSEED'] = str(seed)\n",
    "    np.random.seed(seed)\n",
    "seed_everything(RANDOM_SEED)"
   ]
  },
  {
   "cell_type": "code",
   "execution_count": 36,
   "id": "1ebe243d",
   "metadata": {},
   "outputs": [],
   "source": [
    "###############\n",
    "# Config\n",
    "###############\n",
    "\n",
    "n_seed = 3\n",
    "n_fold = 3\n",
    "prediction_threshold = 0.2\n",
    "retrain_after_valid = True\n",
    "make_submission = True"
   ]
  },
  {
   "cell_type": "code",
   "execution_count": 37,
   "id": "78ee3091",
   "metadata": {},
   "outputs": [
    {
     "data": {
      "text/html": [
       "\n",
       "                Tracking run with wandb version 0.10.26<br/>\n",
       "                Syncing run <strong style=\"color:#cdcd00\">2021-04-17_14:44:12</strong> to <a href=\"https://wandb.ai\" target=\"_blank\">Weights & Biases</a> <a href=\"https://docs.wandb.com/integrations/jupyter.html\" target=\"_blank\">(Documentation)</a>.<br/>\n",
       "                Project page: <a href=\"https://wandb.ai/artkulak/idao-2021-finals\" target=\"_blank\">https://wandb.ai/artkulak/idao-2021-finals</a><br/>\n",
       "                Run page: <a href=\"https://wandb.ai/artkulak/idao-2021-finals/runs/36viqhb6\" target=\"_blank\">https://wandb.ai/artkulak/idao-2021-finals/runs/36viqhb6</a><br/>\n",
       "                Run data is saved locally in <code>/home/jupyter/idao-2021-finals/wandb/run-20210417_144414-36viqhb6</code><br/><br/>\n",
       "            "
      ],
      "text/plain": [
       "<IPython.core.display.HTML object>"
      ]
     },
     "metadata": {},
     "output_type": "display_data"
    }
   ],
   "source": [
    "if USE_WANDB:\n",
    "    wandb.login()\n",
    "    run = wandb.init(project=\"idao-2021-finals\", name = f'{CURRENT_TIME}') # todo add config here"
   ]
  },
  {
   "cell_type": "code",
   "execution_count": 38,
   "id": "c8e3d185",
   "metadata": {},
   "outputs": [],
   "source": [
    "%%time\n",
    "\n",
    "transactions = pd.read_csv(INPUT_PATH / 'trxn.csv')\n",
    "assets_under_management = pd.read_csv(INPUT_PATH / 'aum.csv')\n",
    "balance = pd.read_csv(INPUT_PATH / 'balance.csv')\n",
    "client = pd.read_csv(INPUT_PATH / 'client.csv')\n",
    "campaigns = pd.read_csv(INPUT_PATH / 'com.csv')\n",
    "deals = pd.read_csv(INPUT_PATH / 'deals.csv')\n",
    "dict_merchant_category_code = pd.read_csv(INPUT_PATH / 'dict_mcc.csv')\n",
    "payments = pd.read_csv(INPUT_PATH / 'payments.csv')\n",
    "funnel = pd.read_csv(INPUT_PATH / 'funnel.csv')\n",
    "appl = pd.read_csv(INPUT_PATH / 'appl.csv')"
   ]
  },
  {
   "cell_type": "code",
   "execution_count": 39,
   "id": "418bdfa1",
   "metadata": {},
   "outputs": [],
   "source": [
    "payments = payments.sort_values(by='day_dt', ascending = False).reset_index(drop = True)"
   ]
  },
  {
   "cell_type": "code",
   "execution_count": 40,
   "id": "8fab553f",
   "metadata": {},
   "outputs": [],
   "source": [
    "def most_common(x, default='unknown'):\n",
    "    try:\n",
    "        return x.value_counts().index[0] \n",
    "    except: \n",
    "        return default\n",
    "\n",
    "\n",
    "def create_features_transactions(data):\n",
    "    \n",
    "    data = data.copy()\n",
    "    \n",
    "    # transaction features\n",
    "    data['cards_count'] = data['client_id'].map(transactions.groupby('client_id')['card_id'].count()).fillna(0)\n",
    "    data['total_transaction_amount'] = data['client_id'].map(transactions.groupby('client_id')['tran_amt_rur'].sum()).fillna(0) # add monthly, daily, etc\n",
    "    data['mean_transaction_amount'] = data['client_id'].map(transactions.groupby('client_id')['tran_amt_rur'].mean()).fillna(0) # add monthly, daily, etc\n",
    "    data['std_transaction_amount'] = data['client_id'].map(transactions.groupby('client_id')['tran_amt_rur'].std()).fillna(0) # add monthly, daily, etc\n",
    "    \n",
    "    data['most_common_mcc_cd'] = data['client_id'].map(transactions.groupby('client_id')['mcc_cd'].agg(lambda x:most_common(x))).fillna(-1)\n",
    "    data['most_common_txn_comment_1'] = data['client_id'].map(transactions.groupby('client_id')['txn_comment_1'].agg(lambda x:most_common(x, 'unknown'))).fillna('unknown')\n",
    "    data['most_common_txn_city'] = data['client_id'].map(transactions.groupby('client_id')['txn_city'].agg(lambda x: most_common(x, 'unknown'))).fillna('unknown')\n",
    "    data['most_common_txn_country'] = data['client_id'].map(transactions.groupby('client_id')['txn_country'].agg(lambda x:most_common(x, 'unknown'))).fillna('unknown')\n",
    "    \n",
    "    data['number_of_transaction_countries'] = data['client_id'].map(transactions.groupby('client_id')['txn_city'].agg(lambda x:x.value_counts().shape[0]))\n",
    "    data['number_of_transaction_cities'] = data['client_id'].map(transactions.groupby('client_id')['txn_country'].agg(lambda x:x.value_counts().shape[0]))\n",
    "    \n",
    "    return data\n",
    "\n",
    "def create_feautures_payments(data):\n",
    "    data = data.copy()\n",
    "    \n",
    "    # payments \n",
    "    data['last_known_salary'] = data['client_id'].map(payments.groupby('client_id').apply(lambda x: x['sum_rur'].iloc[0])).fillna(-1)\n",
    "    data['total_recieved_salary'] = data['client_id'].map(payments.groupby('client_id').apply(lambda x: x['sum_rur'].sum())).fillna(-1)\n",
    "    \n",
    "    return data\n",
    "\n",
    "def create_features_deals(data):\n",
    "    data = data.copy()\n",
    "    \n",
    "    data['number_of_deals'] = data['client_id'].map(deals.groupby('client_id')['crncy_cd'].count()).fillna(0)\n",
    "    data['mean_deal_sum'] = data['client_id'].map(deals.groupby('client_id')['agrmnt_sum_rur'].mean()).fillna(0)\n",
    "    \n",
    "    return data"
   ]
  },
  {
   "cell_type": "code",
   "execution_count": 41,
   "id": "660040dc",
   "metadata": {},
   "outputs": [],
   "source": [
    "# data merge\n",
    "data = funnel.copy()\n",
    "data = funnel.merge(client, on=['client_id'])"
   ]
  },
  {
   "cell_type": "code",
   "execution_count": 42,
   "id": "34af0322",
   "metadata": {},
   "outputs": [],
   "source": [
    "%%time\n",
    "# create features\n",
    "\n",
    "data = create_features_transactions(data)\n",
    "data = create_feautures_payments(data)\n",
    "data = create_features_deals(data)"
   ]
  },
  {
   "cell_type": "code",
   "execution_count": 43,
   "id": "f908cb2c",
   "metadata": {},
   "outputs": [],
   "source": [
    "# data encode\n",
    "\n",
    "le = LabelEncoder()\n",
    "fill_cols = ['gender', 'citizenship', 'education', 'job_type', 'most_common_txn_comment_1', 'most_common_txn_city', 'most_common_txn_country']\n",
    "for col in fill_cols:\n",
    "    try:\n",
    "        data[col] = le.fit_transform(data[col].astype(str))\n",
    "        joblib.dump(le, OUTPUT_PATH / 'preprocessors' / f'{col}.pkl')\n",
    "    except:\n",
    "        print(f'{col} is missing')"
   ]
  },
  {
   "cell_type": "code",
   "execution_count": 44,
   "id": "4cff9cce",
   "metadata": {},
   "outputs": [],
   "source": [
    "X = data.drop(columns = TARGET_COLUMNS + ['client_id'])\n",
    "Y = data[TARGET_COLUMNS[0]]"
   ]
  },
  {
   "cell_type": "code",
   "execution_count": 45,
   "id": "3f14eb56",
   "metadata": {},
   "outputs": [],
   "source": [
    "import shutil\n",
    "try:\n",
    "    os.mkdir(OUTPUT_PATH / 'models')\n",
    "except:\n",
    "    shutil.rmtree(OUTPUT_PATH / 'models')\n",
    "    os.mkdir(OUTPUT_PATH / 'models')\n",
    "    \n",
    "try:\n",
    "    os.mkdir(OUTPUT_PATH / 'preprocessors')\n",
    "except:\n",
    "    shutil.rmtree(OUTPUT_PATH / 'preprocessors')\n",
    "    os.mkdir(OUTPUT_PATH / 'preprocessors')"
   ]
  },
  {
   "cell_type": "code",
   "execution_count": 46,
   "id": "3f7b30e4",
   "metadata": {},
   "outputs": [],
   "source": [
    "def running_train(X_train, Y_train, X_val, Y_val, i_fold=None, seed=None, params = None):\n",
    "    # prepare for train\n",
    "    \n",
    "    params = {\n",
    "              \"n_jobs\":-1,\n",
    "              \"random_state\": seed\n",
    "              }\n",
    "    \n",
    "    \n",
    "    model = LGBMClassifier(**params) # define model here\n",
    "    \n",
    "    # Fit and save model\n",
    "    \n",
    "    if X_val is None:\n",
    "        model.fit(X_train, Y_train, verbose=False)\n",
    "    else:\n",
    "        model.fit(X_train, Y_train,   eval_set=(X_val, Y_val), early_stopping_rounds=500, verbose=False)\n",
    "    joblib.dump(model, OUTPUT_PATH / 'models' / f'lightgbm_{i_fold}_{seed}_{CURRENT_TIME}.pkl')"
   ]
  },
  {
   "cell_type": "code",
   "execution_count": 47,
   "id": "58674c40",
   "metadata": {},
   "outputs": [],
   "source": [
    "oof = np.zeros((X.shape[0], n_seed)) # cv_score\n",
    "seeds = []\n",
    "for i_seed in range(n_seed):\n",
    "    seed = FIXED_SEEDS[i_seed]\n",
    "    seed_everything(seed)\n",
    "\n",
    "    seeds.append(seed)\n",
    "    print('Seed: {}, {}/{}'.format(seed, i_seed + 1, n_seed))\n",
    "    \n",
    "    if n_fold != 1:\n",
    "        kf = KFold(n_splits=n_fold, random_state=seed, shuffle=True)\n",
    "        split_indexes = kf.split(X, Y)\n",
    "    else:\n",
    "        split_indexes = [train_test_split(np.arange(X.shape[0]), random_state=seed, shuffle = True)]\n",
    "    \n",
    "    for i_fold, (train_idx, val_idx) in enumerate(split_indexes):\n",
    "        print(\"# Fold: {}/{} (seed: {}/{})\".format(i_fold + 1, n_fold, i_seed + 1, n_seed))\n",
    "\n",
    "        # dataset\n",
    "        X_train, Y_train = X.iloc[train_idx], Y[train_idx]\n",
    "        X_val, Y_val = X.iloc[val_idx], Y[val_idx]\n",
    "\n",
    "\n",
    "        # train\n",
    "        running_train(X_train, Y_train, X_val, Y_val, i_fold=i_fold, seed=seed)\n",
    "\n",
    "        # predict on oof\n",
    "        print('predict on oof...', end='')\n",
    "        model = joblib.load( OUTPUT_PATH / 'models' / f'lightgbm_{i_fold}_{seed}_{CURRENT_TIME}.pkl')\n",
    "\n",
    "        prediction = model.predict_proba(X_val)[:, 1]\n",
    "\n",
    "        oof[val_idx, i_seed] = prediction\n",
    "        print('  done.')"
   ]
  },
  {
   "cell_type": "code",
   "execution_count": 48,
   "id": "6ae93dde",
   "metadata": {},
   "outputs": [],
   "source": [
    "if n_fold != 1:\n",
    "    Y_predicted = (np.mean(oof, axis = 1) > prediction_threshold).astype(int)\n",
    "    Y_test = funnel[['client_id', 'sale_flg']].set_index('client_id')\n",
    "    test_funnel =  funnel.set_index('client_id')\n",
    "if n_fold == 1 and n_seed == 1:\n",
    "    Y_predicted = (prediction > prediction_threshold).astype(int)\n",
    "    Y_test = funnel[['client_id', 'sale_flg']].iloc[split_indexes[0][1]].set_index('client_id')\n",
    "    test_funnel = funnel.iloc[split_indexes[0][1]].set_index('client_id')"
   ]
  },
  {
   "cell_type": "code",
   "execution_count": 49,
   "id": "82503aeb",
   "metadata": {},
   "outputs": [],
   "source": [
    "try: \n",
    "    os.mkdir(OUTPUT_PATH / 'scoring')\n",
    "except:\n",
    "    shutil.rmtree(OUTPUT_PATH / 'scoring')\n",
    "    os.mkdir(OUTPUT_PATH / 'scoring')"
   ]
  },
  {
   "cell_type": "code",
   "execution_count": 50,
   "id": "23608d3f",
   "metadata": {},
   "outputs": [],
   "source": [
    "public_score, private_score = local_scorer.get_score(test_funnel, Y_predicted, Y_test)"
   ]
  },
  {
   "cell_type": "code",
   "execution_count": 51,
   "id": "0763fcd1",
   "metadata": {},
   "outputs": [],
   "source": [
    "validation_accuracy = accuracy_score(Y_test['sale_flg'], Y_predicted)\n",
    "print(f'Public ANIC {public_score} Private ANIC {private_score}')\n",
    "print(f'ANIC {1/3*public_score+ 2/3 * private_score}')\n",
    "print(f'Accuracy score: {validation_accuracy}')"
   ]
  },
  {
   "cell_type": "code",
   "execution_count": 52,
   "id": "b8ebaf79",
   "metadata": {},
   "outputs": [],
   "source": [
    "if retrain_after_valid:\n",
    "    running_train(X, Y, None, None, i_fold=-1, seed=4444)"
   ]
  },
  {
   "cell_type": "code",
   "execution_count": 53,
   "id": "47730b3b",
   "metadata": {},
   "outputs": [],
   "source": [
    "#####################\n",
    "# IMPORT LIBS\n",
    "#####################\n",
    "\n",
    "import pandas as pd\n",
    "import numpy as np\n",
    "from pathlib import Path\n",
    "import wandb\n",
    "import datetime\n",
    "import os\n",
    "import random\n",
    "import joblib\n",
    "\n",
    "from sklearn.model_selection import KFold\n",
    "from sklearn.model_selection import train_test_split\n",
    "from sklearn.metrics import accuracy_score\n",
    "from sklearn.preprocessing import LabelEncoder\n",
    "from scoring import local_scorer\n",
    "\n",
    "from lightgbm import LGBMClassifier\n",
    "\n",
    "\n",
    "#####################\n",
    "# SET CONSTANTS\n",
    "#####################\n",
    "\n",
    "INPUT_PATH = Path('../input')\n",
    "OUTPUT_PATH = Path('../output')\n",
    "TRAIN_PATH = INPUT_PATH \n",
    "\n",
    "TARGET_COLUMNS = ['sale_flg', 'sale_amount', 'contacts']\n",
    "FIXED_SEEDS = [948, 534, 432, 597, 103, 21, 2242, 17, 20, 29]\n",
    "\n",
    "RANDOM_SEED = 4444\n",
    "USE_WANDB = True\n",
    "CURRENT_TIME = str(datetime.datetime.now()).replace(' ', '_').split('.')[0]\n",
    "\n",
    "def seed_everything(seed=1234):\n",
    "    random.seed(seed)\n",
    "    os.environ['PYTHONHASHSEED'] = str(seed)\n",
    "    np.random.seed(seed)\n",
    "seed_everything(RANDOM_SEED)"
   ]
  },
  {
   "cell_type": "code",
   "execution_count": 54,
   "id": "f4203db8",
   "metadata": {},
   "outputs": [],
   "source": [
    "###############\n",
    "# Config\n",
    "###############\n",
    "\n",
    "n_seed = 3\n",
    "n_fold = 3\n",
    "prediction_threshold = 0.2\n",
    "retrain_after_valid = True\n",
    "make_submission = True"
   ]
  },
  {
   "cell_type": "code",
   "execution_count": 55,
   "id": "308c48ce",
   "metadata": {},
   "outputs": [],
   "source": [
    "if USE_WANDB:\n",
    "    wandb.login()\n",
    "    run = wandb.init(project=\"idao-2021-finals\", name = f'{CURRENT_TIME}') # todo add config here"
   ]
  }
 ],
 "metadata": {
  "kernelspec": {
   "display_name": "Python 3",
   "language": "python",
   "name": "python3"
  },
  "language_info": {
   "codemirror_mode": {
    "name": "ipython",
    "version": 3
   },
   "file_extension": ".py",
   "mimetype": "text/x-python",
   "name": "python",
   "nbconvert_exporter": "python",
   "pygments_lexer": "ipython3",
   "version": "3.7.10"
  }
 },
 "nbformat": 4,
 "nbformat_minor": 5
}
