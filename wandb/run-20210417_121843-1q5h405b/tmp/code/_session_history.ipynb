{
 "cells": [
  {
   "cell_type": "code",
   "execution_count": 1,
   "id": "17d787ff",
   "metadata": {},
   "outputs": [],
   "source": [
    "#####################\n",
    "# IMPORT LIBS\n",
    "#####################\n",
    "\n",
    "import pandas as pd\n",
    "import numpy as np\n",
    "from pathlib import Path\n",
    "import wandb\n",
    "import datetime\n",
    "import os\n",
    "import random\n",
    "import joblib\n",
    "\n",
    "from sklearn.model_selection import KFold\n",
    "from sklearn.model_selection import train_test_split\n",
    "from sklearn.metrics import accuracy_score\n",
    "from sklearn.preprocessing import LabelEncoder\n",
    "from scoring import local_scorer\n",
    "\n",
    "from lightgbm import LGBMClassifier\n",
    "\n",
    "\n",
    "#####################\n",
    "# SET CONSTANTS\n",
    "#####################\n",
    "\n",
    "INPUT_PATH = Path('../input')\n",
    "OUTPUT_PATH = Path('../output')\n",
    "TRAIN_PATH = INPUT_PATH \n",
    "\n",
    "TARGET_COLUMNS = ['sale_flg', 'sale_amount', 'contacts']\n",
    "FIXED_SEEDS = [948, 534, 432, 597, 103, 21, 2242, 17, 20, 29]\n",
    "\n",
    "RANDOM_SEED = 4444\n",
    "USE_WANDB = True\n",
    "CURRENT_TIME = str(datetime.datetime.now()).replace(' ', '_').split('.')[0]\n",
    "\n",
    "def seed_everything(seed=1234):\n",
    "    random.seed(seed)\n",
    "    os.environ['PYTHONHASHSEED'] = str(seed)\n",
    "    np.random.seed(seed)\n",
    "seed_everything(RANDOM_SEED)"
   ]
  },
  {
   "cell_type": "code",
   "execution_count": 2,
   "id": "f22ea447",
   "metadata": {},
   "outputs": [],
   "source": [
    "###############\n",
    "# Config\n",
    "###############\n",
    "\n",
    "n_seed = 5\n",
    "n_fold = 5\n",
    "prediction_threshold = 0.1"
   ]
  },
  {
   "cell_type": "code",
   "execution_count": 3,
   "id": "b5d8c3d1",
   "metadata": {},
   "outputs": [
    {
     "data": {
      "text/html": [
       "\n",
       "                Tracking run with wandb version 0.10.26<br/>\n",
       "                Syncing run <strong style=\"color:#cdcd00\">2021-04-17_12:18:43</strong> to <a href=\"https://wandb.ai\" target=\"_blank\">Weights & Biases</a> <a href=\"https://docs.wandb.com/integrations/jupyter.html\" target=\"_blank\">(Documentation)</a>.<br/>\n",
       "                Project page: <a href=\"https://wandb.ai/artkulak/idao-2021-finals\" target=\"_blank\">https://wandb.ai/artkulak/idao-2021-finals</a><br/>\n",
       "                Run page: <a href=\"https://wandb.ai/artkulak/idao-2021-finals/runs/1q5h405b\" target=\"_blank\">https://wandb.ai/artkulak/idao-2021-finals/runs/1q5h405b</a><br/>\n",
       "                Run data is saved locally in <code>/home/jupyter/idao-2021-finals/wandb/run-20210417_121843-1q5h405b</code><br/><br/>\n",
       "            "
      ],
      "text/plain": [
       "<IPython.core.display.HTML object>"
      ]
     },
     "metadata": {},
     "output_type": "display_data"
    }
   ],
   "source": [
    "if USE_WANDB:\n",
    "    wandb.login()\n",
    "    run = wandb.init(project=\"idao-2021-finals\", name = f'{CURRENT_TIME}') # todo add config here"
   ]
  },
  {
   "cell_type": "code",
   "execution_count": 4,
   "id": "05a83736",
   "metadata": {},
   "outputs": [],
   "source": [
    "%%time\n",
    "\n",
    "transactions = pd.read_csv(INPUT_PATH / 'trxn.csv')\n",
    "assets_under_management = pd.read_csv(INPUT_PATH / 'aum.csv')\n",
    "balance = pd.read_csv(INPUT_PATH / 'balance.csv')\n",
    "client = pd.read_csv(INPUT_PATH / 'client.csv')\n",
    "campaigns = pd.read_csv(INPUT_PATH / 'com.csv')\n",
    "deals = pd.read_csv(INPUT_PATH / 'deals.csv')\n",
    "dict_merchant_category_code = pd.read_csv(INPUT_PATH / 'dict_mcc.csv')\n",
    "payments = pd.read_csv(INPUT_PATH / 'payments.csv')\n",
    "funnel = pd.read_csv(INPUT_PATH / 'funnel.csv')\n",
    "appl = pd.read_csv(INPUT_PATH / 'appl.csv')"
   ]
  },
  {
   "cell_type": "code",
   "execution_count": 5,
   "id": "44234176",
   "metadata": {},
   "outputs": [],
   "source": [
    "def create_features(data):\n",
    "    \n",
    "    data = data.copy()\n",
    "    # transaction features\n",
    "    data['cards_count'] = data['client_id'].map(transactions.groupby('client_id')['card_id'].count()).fillna(0)\n",
    "    data['total_transaction_amount'] = data['client_id'].map(transactions.groupby('client_id')['tran_amt_rur'].sum()).fillna(0) # add monthly, daily, etc\n",
    "    \n",
    "    return data"
   ]
  },
  {
   "cell_type": "code",
   "execution_count": 6,
   "id": "47d73ce5",
   "metadata": {},
   "outputs": [],
   "source": [
    "# data merge\n",
    "\n",
    "data = funnel.merge(client, on=['client_id'])"
   ]
  },
  {
   "cell_type": "code",
   "execution_count": 7,
   "id": "1906fdd6",
   "metadata": {},
   "outputs": [],
   "source": [
    "# data encode\n",
    "\n",
    "le = LabelEncoder()\n",
    "fill_cols = ['gender', 'citizenship', 'education', 'job_type']\n",
    "for col in fill_cols:\n",
    "    data[col] = le.fit_transform(data[col].astype(str))\n",
    "    joblib.dump(le, OUTPUT_PATH / 'preprocessors' / f'{col}.pkl')"
   ]
  },
  {
   "cell_type": "code",
   "execution_count": 8,
   "id": "b0f8a0ad",
   "metadata": {},
   "outputs": [],
   "source": [
    "# create features\n",
    "\n",
    "data = create_features(data)"
   ]
  },
  {
   "cell_type": "code",
   "execution_count": 9,
   "id": "935eddce",
   "metadata": {},
   "outputs": [],
   "source": [
    "X = data.drop(columns = TARGET_COLUMNS + ['client_id'])\n",
    "Y = data[TARGET_COLUMNS[0]]"
   ]
  },
  {
   "cell_type": "code",
   "execution_count": 10,
   "id": "0ffaac0a",
   "metadata": {},
   "outputs": [],
   "source": [
    "import shutil\n",
    "try:\n",
    "    os.mkdir(OUTPUT_PATH / 'models')\n",
    "except:\n",
    "    shutil.rmtree(OUTPUT_PATH / 'models')\n",
    "    os.mkdir(OUTPUT_PATH / 'models')\n",
    "    \n",
    "try:\n",
    "    os.mkdir(OUTPUT_PATH / 'preprocessors')\n",
    "except:\n",
    "    shutil.rmtree(OUTPUT_PATH / 'preprocessors')\n",
    "    os.mkdir(OUTPUT_PATH / 'preprocessors')"
   ]
  },
  {
   "cell_type": "code",
   "execution_count": 11,
   "id": "ceb86e6d",
   "metadata": {},
   "outputs": [],
   "source": [
    "def running_train(X_train, Y_train, X_val, Y_val, i_fold=None, seed=None, params = None):\n",
    "    # prepare for train\n",
    "    \n",
    "    params = {\n",
    "              \"n_jobs\":-1\n",
    "              }\n",
    "    \n",
    "    \n",
    "    model = LGBMClassifier(**params) # define model here\n",
    "    \n",
    "    # Fit and save model\n",
    "    model.fit(X_train, Y_train,   eval_set=(X_val, Y_val), early_stopping_rounds=500, verbose=False)\n",
    "    joblib.dump(model, OUTPUT_PATH / 'models' / f'lightgbm_{i_fold}_{seed}_{CURRENT_TIME}.pkl')"
   ]
  },
  {
   "cell_type": "code",
   "execution_count": 12,
   "id": "32e3f557",
   "metadata": {},
   "outputs": [],
   "source": [
    "oof = np.zeros((X.shape[0], n_seed)) # cv_score\n",
    "seeds = []\n",
    "for i_seed in range(n_seed):\n",
    "    seed = FIXED_SEEDS[i_seed]\n",
    "    seed_everything(seed)\n",
    "\n",
    "    seeds.append(seed)\n",
    "    print('Seed: {}, {}/{}'.format(seed, i_seed + 1, n_seed))\n",
    "    kf = KFold(n_splits=n_fold, random_state=seed, shuffle=True)\n",
    "    for i_fold, (train_idx, val_idx) in enumerate(kf.split(X, Y)):\n",
    "        print(\"# Fold: {}/{} (seed: {}/{})\".format(i_fold + 1, n_fold, i_seed + 1, n_seed))\n",
    "\n",
    "        # dataset\n",
    "        X_train, Y_train = X.iloc[train_idx], Y[train_idx]\n",
    "        X_val, Y_val = X.iloc[val_idx], Y[val_idx]\n",
    "\n",
    "\n",
    "        # train\n",
    "        running_train(X_train, Y_train, X_val, Y_val, i_fold=i_fold, seed=seed)\n",
    "\n",
    "        # predict on oof\n",
    "        print('predict on oof...', end='')\n",
    "        model = joblib.load( OUTPUT_PATH / 'models' / f'lightgbm_{i_fold}_{seed}_{CURRENT_TIME}.pkl')\n",
    "\n",
    "        prediction = model.predict_proba(X_val)[:, 1]\n",
    "\n",
    "        oof[val_idx, i_seed] = prediction\n",
    "        print('  done.')"
   ]
  },
  {
   "cell_type": "code",
   "execution_count": 13,
   "id": "0d8ed92f",
   "metadata": {},
   "outputs": [],
   "source": [
    "Y_predicted = (np.mean(oof, axis = 1) > prediction_threshold).astype(int)"
   ]
  },
  {
   "cell_type": "code",
   "execution_count": 14,
   "id": "ab179fa4",
   "metadata": {},
   "outputs": [],
   "source": [
    "Y_test = funnel[['client_id', 'sale_flg']].set_index('client_id')"
   ]
  },
  {
   "cell_type": "code",
   "execution_count": 15,
   "id": "534d1ff2",
   "metadata": {},
   "outputs": [],
   "source": [
    "try: \n",
    "    os.mkdir(OUTPUT_PATH / 'scoring')\n",
    "except:\n",
    "    shutil.rmtree(OUTPUT_PATH / 'scoring')\n",
    "    os.mkdir(OUTPUT_PATH / 'scoring')"
   ]
  },
  {
   "cell_type": "code",
   "execution_count": 16,
   "id": "19eb05fe",
   "metadata": {},
   "outputs": [],
   "source": [
    "public_score, private_score = local_scorer.get_score(funnel.set_index('client_id'), Y_predicted, Y_test)"
   ]
  },
  {
   "cell_type": "code",
   "execution_count": 17,
   "id": "7839bf2e",
   "metadata": {},
   "outputs": [],
   "source": [
    "validation_accuracy = accuracy_score(Y, Y_predicted)\n",
    "print(f'Public ANIC {public_score} Private ANIC {private_score}')\n",
    "print(f'ANIC {(public_score+private_score)/2}')\n",
    "print(f'Accuracy score: {validation_accuracy}')"
   ]
  },
  {
   "cell_type": "code",
   "execution_count": 18,
   "id": "1d74b902",
   "metadata": {},
   "outputs": [],
   "source": [
    "if USE_WANDB:\n",
    "    wandb.run.summary[\"validation_accuracy\"] = validation_accuracy\n",
    "    wandb.run.summary[\"anic\"] = (public_score + private_score) / 2"
   ]
  },
  {
   "cell_type": "code",
   "execution_count": 19,
   "id": "4f00e196",
   "metadata": {},
   "outputs": [],
   "source": [
    "if USE_WANDB:\n",
    "    run.finish()"
   ]
  }
 ],
 "metadata": {
  "kernelspec": {
   "display_name": "Python 3",
   "language": "python",
   "name": "python3"
  },
  "language_info": {
   "codemirror_mode": {
    "name": "ipython",
    "version": 3
   },
   "file_extension": ".py",
   "mimetype": "text/x-python",
   "name": "python",
   "nbconvert_exporter": "python",
   "pygments_lexer": "ipython3",
   "version": "3.7.10"
  }
 },
 "nbformat": 4,
 "nbformat_minor": 5
}
