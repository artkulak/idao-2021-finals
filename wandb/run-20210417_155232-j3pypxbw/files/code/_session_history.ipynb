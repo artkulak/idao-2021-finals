{
 "cells": [
  {
   "cell_type": "code",
   "execution_count": 1,
   "id": "f6817395",
   "metadata": {},
   "outputs": [],
   "source": [
    "#####################\n",
    "# IMPORT LIBS\n",
    "#####################\n",
    "\n",
    "import pandas as pd\n",
    "import numpy as np\n",
    "from pathlib import Path\n",
    "import wandb\n",
    "import datetime\n",
    "import os\n",
    "import random\n",
    "import joblib\n",
    "import shutil\n",
    "\n",
    "from sklearn.model_selection import KFold\n",
    "from sklearn.model_selection import train_test_split\n",
    "from sklearn.metrics import accuracy_score\n",
    "from sklearn.preprocessing import LabelEncoder\n",
    "from scoring import local_scorer\n",
    "\n",
    "from lightgbm import LGBMClassifier\n",
    "\n",
    "\n",
    "#####################\n",
    "# SET CONSTANTS\n",
    "#####################\n",
    "\n",
    "INPUT_PATH = Path('../input')\n",
    "OUTPUT_PATH = Path('../output')\n",
    "TRAIN_PATH = INPUT_PATH \n",
    "\n",
    "TARGET_COLUMNS = ['sale_flg', 'sale_amount', 'contacts']\n",
    "FIXED_SEEDS = [948, 534, 432, 597, 103, 21, 2242, 17, 20, 29]\n",
    "\n",
    "RANDOM_SEED = 4444\n",
    "USE_WANDB = False\n",
    "CURRENT_TIME = str(datetime.datetime.now()).replace(' ', '_').split('.')[0]\n",
    "\n",
    "def seed_everything(seed=1234):\n",
    "    random.seed(seed)\n",
    "    os.environ['PYTHONHASHSEED'] = str(seed)\n",
    "    np.random.seed(seed)\n",
    "seed_everything(RANDOM_SEED)"
   ]
  },
  {
   "cell_type": "code",
   "execution_count": 2,
   "id": "669340ae",
   "metadata": {},
   "outputs": [],
   "source": [
    "###############\n",
    "# Config\n",
    "###############\n",
    "\n",
    "n_seed = 3\n",
    "n_fold = 3\n",
    "prediction_threshold = 0.2\n",
    "retrain_after_valid = True\n",
    "make_submission = True"
   ]
  },
  {
   "cell_type": "code",
   "execution_count": 3,
   "id": "90ab45ac",
   "metadata": {},
   "outputs": [],
   "source": [
    "if USE_WANDB:\n",
    "    wandb.login()\n",
    "    run = wandb.init(project=\"idao-2021-finals\", name = f'{CURRENT_TIME}') # todo add config here"
   ]
  },
  {
   "cell_type": "code",
   "execution_count": 4,
   "id": "35aa6daf",
   "metadata": {},
   "outputs": [],
   "source": [
    "%%time\n",
    "\n",
    "transactions = pd.read_csv(INPUT_PATH / 'trxn.csv')\n",
    "assets_under_management = pd.read_csv(INPUT_PATH / 'aum.csv')\n",
    "balance = pd.read_csv(INPUT_PATH / 'balance.csv')\n",
    "client = pd.read_csv(INPUT_PATH / 'client.csv')\n",
    "campaigns = pd.read_csv(INPUT_PATH / 'com.csv')\n",
    "deals = pd.read_csv(INPUT_PATH / 'deals.csv')\n",
    "dict_merchant_category_code = pd.read_csv(INPUT_PATH / 'dict_mcc.csv')\n",
    "payments = pd.read_csv(INPUT_PATH / 'payments.csv')\n",
    "funnel = pd.read_csv(INPUT_PATH / 'funnel.csv')\n",
    "appl = pd.read_csv(INPUT_PATH / 'appl.csv')"
   ]
  },
  {
   "cell_type": "code",
   "execution_count": 5,
   "id": "3f423b66",
   "metadata": {},
   "outputs": [],
   "source": [
    "payments = payments.sort_values(by='day_dt', ascending = False).reset_index(drop = True)"
   ]
  },
  {
   "cell_type": "code",
   "execution_count": 6,
   "id": "f3eb076e",
   "metadata": {},
   "outputs": [],
   "source": [
    "def most_common(x, default='unknown'):\n",
    "    try:\n",
    "        return x.value_counts().index[0] \n",
    "    except: \n",
    "        return default\n",
    "\n",
    "\n",
    "def create_features_transactions(data):\n",
    "    \n",
    "    data = data.copy()\n",
    "    \n",
    "    # transaction features\n",
    "    data['cards_count'] = data['client_id'].map(transactions.groupby('client_id')['card_id'].count()).fillna(0)\n",
    "    data['total_transaction_amount'] = data['client_id'].map(transactions.groupby('client_id')['tran_amt_rur'].sum()).fillna(0) # add monthly, daily, etc\n",
    "    data['mean_transaction_amount'] = data['client_id'].map(transactions.groupby('client_id')['tran_amt_rur'].mean()).fillna(0) # add monthly, daily, etc\n",
    "    data['std_transaction_amount'] = data['client_id'].map(transactions.groupby('client_id')['tran_amt_rur'].std()).fillna(0) # add monthly, daily, etc\n",
    "    \n",
    "    data['most_common_mcc_cd'] = data['client_id'].map(transactions.groupby('client_id')['mcc_cd'].agg(lambda x:most_common(x))).fillna(-1)\n",
    "    data['most_common_txn_comment_1'] = data['client_id'].map(transactions.groupby('client_id')['txn_comment_1'].agg(lambda x:most_common(x, 'unknown'))).fillna('unknown')\n",
    "    data['most_common_txn_city'] = data['client_id'].map(transactions.groupby('client_id')['txn_city'].agg(lambda x: most_common(x, 'unknown'))).fillna('unknown')\n",
    "    data['most_common_txn_country'] = data['client_id'].map(transactions.groupby('client_id')['txn_country'].agg(lambda x:most_common(x, 'unknown'))).fillna('unknown')\n",
    "    \n",
    "    data['number_of_transaction_countries'] = data['client_id'].map(transactions.groupby('client_id')['txn_city'].agg(lambda x:x.value_counts().shape[0]))\n",
    "    data['number_of_transaction_cities'] = data['client_id'].map(transactions.groupby('client_id')['txn_country'].agg(lambda x:x.value_counts().shape[0]))\n",
    "    \n",
    "    return data\n",
    "\n",
    "def create_feautures_payments(data):\n",
    "    data = data.copy()\n",
    "    \n",
    "    # payments \n",
    "    data['last_known_salary'] = data['client_id'].map(payments.groupby('client_id').apply(lambda x: x['sum_rur'].iloc[0])).fillna(-1)\n",
    "    data['total_recieved_salary'] = data['client_id'].map(payments.groupby('client_id').apply(lambda x: x['sum_rur'].sum())).fillna(-1)\n",
    "    \n",
    "    return data\n",
    "\n",
    "def create_features_deals(data):\n",
    "    data = data.copy()\n",
    "    \n",
    "    data['number_of_deals'] = data['client_id'].map(deals.groupby('client_id')['crncy_cd'].count()).fillna(0)\n",
    "    data['mean_deal_sum'] = data['client_id'].map(deals.groupby('client_id')['agrmnt_sum_rur'].mean()).fillna(0)\n",
    "    \n",
    "    return data"
   ]
  },
  {
   "cell_type": "code",
   "execution_count": 7,
   "id": "5ff78af7",
   "metadata": {},
   "outputs": [],
   "source": [
    "# data merge\n",
    "data = funnel.copy()\n",
    "data = funnel.merge(client, on=['client_id'])"
   ]
  },
  {
   "cell_type": "code",
   "execution_count": 8,
   "id": "ee8e4c40",
   "metadata": {},
   "outputs": [],
   "source": [
    "%%time\n",
    "# create features\n",
    "\n",
    "# data = create_features_transactions(data)\n",
    "# data = create_feautures_payments(data)\n",
    "# data = create_features_deals(data)"
   ]
  },
  {
   "cell_type": "code",
   "execution_count": 9,
   "id": "ba79410d",
   "metadata": {},
   "outputs": [],
   "source": [
    "try:\n",
    "    os.mkdir(OUTPUT_PATH / 'preprocessors')\n",
    "except:\n",
    "    shutil.rmtree(OUTPUT_PATH / 'preprocessors')\n",
    "    os.mkdir(OUTPUT_PATH / 'preprocessors')"
   ]
  },
  {
   "cell_type": "code",
   "execution_count": 10,
   "id": "6ca11715",
   "metadata": {},
   "outputs": [
    {
     "name": "stdout",
     "output_type": "stream",
     "text": [
      "                 client_id  sale_flg  sale_amount  contacts  feature_1  \\\n",
      "0      7513301859607023584         0          NaN         1          7   \n",
      "1      9157009756404187626         0          NaN         1          3   \n",
      "2     -1893104556496814867         0          NaN         1          5   \n",
      "3      6886062013213911831         0          NaN         1          4   \n",
      "4     -8156468515495593794         1    138018.05         1          7   \n",
      "...                    ...       ...          ...       ...        ...   \n",
      "21493  4662551505651924284         0          NaN         2          3   \n",
      "21494 -8968737688687691353         0          NaN         1          9   \n",
      "21495 -5799097497074119478         0          NaN         1          2   \n",
      "21496 -2264802671063321355         1     43882.85         2          8   \n",
      "21497  -174115151336149439         0          NaN         1          3   \n",
      "\n",
      "       client_segment  feature_2  feature_3  feature_4  feature_5  ...  \\\n",
      "0                13.0   571533.0    15717.0        0.0        0.0  ...   \n",
      "1                13.0  3642369.0    94787.0        0.0        0.0  ...   \n",
      "2                16.0   352826.0     5500.0        0.0     6822.0  ...   \n",
      "3                 3.0  6070615.0    40580.0        0.0    30401.0  ...   \n",
      "4                14.0  3642369.0    97156.0    81488.0        0.0  ...   \n",
      "...               ...        ...        ...        ...        ...  ...   \n",
      "21493             3.0  6070615.0    97616.0    21921.0    85635.0  ...   \n",
      "21494            14.0  1821184.0     2428.0     3952.0        0.0  ...   \n",
      "21495            16.0  6070615.0    64991.0        0.0    13450.0  ...   \n",
      "21496             4.0  2282408.0     5832.0    16185.0        0.0  ...   \n",
      "21497             3.0  6070615.0  1014167.0        0.0  1053209.0  ...   \n",
      "\n",
      "       feature_9  feature_10  region_cd  gender   age  region city  \\\n",
      "0           10.4     12548.0       86.0       F  33.0       0  115   \n",
      "1            8.9     77210.0        2.0       F  59.0      17  668   \n",
      "2            8.9      5508.0       52.0       M  51.0      28   65   \n",
      "3            7.9     40583.0       86.0       F  56.0       0   40   \n",
      "4           10.4     78108.0       27.0       F  34.0      -1   -1   \n",
      "...          ...         ...        ...     ...   ...     ...  ...   \n",
      "21493        7.9     97626.0       86.0       M  31.0       0   14   \n",
      "21494       19.9      2440.0       78.0       M  53.0      25   33   \n",
      "21495        7.9     64998.0       69.0       F  57.0      12  225   \n",
      "21496       17.9      5845.0       59.0       M  37.0      37  368   \n",
      "21497        9.9    128684.0       77.0       M  33.0       7   13   \n",
      "\n",
      "       citizenship            education  job_type  \n",
      "0           RUSSIA                  NaN       NaN  \n",
      "1           RUSSIA                  NaN       NaN  \n",
      "2           RUSSIA                  NaN       NaN  \n",
      "3           RUSSIA                  NaN       NaN  \n",
      "4           RUSSIA  HIGHER_PROFESSIONAL       NaN  \n",
      "...            ...                  ...       ...  \n",
      "21493       RUSSIA                  NaN       NaN  \n",
      "21494       RUSSIA                  NaN       NaN  \n",
      "21495       RUSSIA                  NaN       NaN  \n",
      "21496       RUSSIA  MIDDLE_PROFESSIONAL       NaN  \n",
      "21497       RUSSIA                  NaN       NaN  \n",
      "\n",
      "[21498 rows x 23 columns]"
     ]
    }
   ],
   "source": [
    "data"
   ]
  },
  {
   "cell_type": "code",
   "execution_count": 11,
   "id": "b5361cb6",
   "metadata": {},
   "outputs": [],
   "source": [
    "for c in fill_cols:\n",
    "    col_type = data[c].dtype\n",
    "    print(col_type)"
   ]
  },
  {
   "cell_type": "code",
   "execution_count": 12,
   "id": "ccdfad67",
   "metadata": {},
   "outputs": [],
   "source": [
    "fill_cols = ['gender', 'citizenship', 'education', 'job_type']\n",
    "for c in fill_cols:\n",
    "    col_type = data[c].dtype\n",
    "    print(col_type)"
   ]
  },
  {
   "cell_type": "code",
   "execution_count": 13,
   "id": "727d76d3",
   "metadata": {},
   "outputs": [],
   "source": [
    "fill_cols = ['gender', 'citizenship', 'education', 'job_type']\n",
    "for c in data.columns:\n",
    "    col_type = data[c].dtype\n",
    "    print(col_type)"
   ]
  },
  {
   "cell_type": "code",
   "execution_count": 14,
   "id": "33f0a272",
   "metadata": {},
   "outputs": [],
   "source": [
    "#####################\n",
    "# IMPORT LIBS\n",
    "#####################\n",
    "\n",
    "import pandas as pd\n",
    "import numpy as np\n",
    "from pathlib import Path\n",
    "import wandb\n",
    "import datetime\n",
    "import os\n",
    "import random\n",
    "import joblib\n",
    "import shutil\n",
    "\n",
    "from sklearn.model_selection import KFold\n",
    "from sklearn.model_selection import train_test_split\n",
    "from sklearn.metrics import accuracy_score\n",
    "from sklearn.preprocessing import LabelEncoder\n",
    "from scoring import local_scorer\n",
    "\n",
    "from lightgbm import LGBMClassifier\n",
    "\n",
    "\n",
    "#####################\n",
    "# SET CONSTANTS\n",
    "#####################\n",
    "\n",
    "INPUT_PATH = Path('../input')\n",
    "OUTPUT_PATH = Path('../output')\n",
    "TRAIN_PATH = INPUT_PATH \n",
    "\n",
    "TARGET_COLUMNS = ['sale_flg', 'sale_amount', 'contacts']\n",
    "FIXED_SEEDS = [948, 534, 432, 597, 103, 21, 2242, 17, 20, 29]\n",
    "\n",
    "RANDOM_SEED = 4444\n",
    "USE_WANDB = True\n",
    "CURRENT_TIME = str(datetime.datetime.now()).replace(' ', '_').split('.')[0]\n",
    "\n",
    "def seed_everything(seed=1234):\n",
    "    random.seed(seed)\n",
    "    os.environ['PYTHONHASHSEED'] = str(seed)\n",
    "    np.random.seed(seed)\n",
    "seed_everything(RANDOM_SEED)"
   ]
  },
  {
   "cell_type": "code",
   "execution_count": 15,
   "id": "31fd96d6",
   "metadata": {},
   "outputs": [],
   "source": [
    "###############\n",
    "# Config\n",
    "###############\n",
    "\n",
    "n_seed = 3\n",
    "n_fold = 3\n",
    "prediction_threshold = 0.2\n",
    "retrain_after_valid = True\n",
    "make_submission = True"
   ]
  },
  {
   "cell_type": "code",
   "execution_count": 16,
   "id": "c1034c6e",
   "metadata": {},
   "outputs": [],
   "source": [
    "if USE_WANDB:\n",
    "    wandb.login()\n",
    "    run = wandb.init(project=\"idao-2021-finals\", name = f'{CURRENT_TIME}') # todo add config here"
   ]
  },
  {
   "cell_type": "code",
   "execution_count": 17,
   "id": "3a8e4508",
   "metadata": {},
   "outputs": [],
   "source": [
    "%%time\n",
    "\n",
    "transactions = pd.read_csv(INPUT_PATH / 'trxn.csv')\n",
    "assets_under_management = pd.read_csv(INPUT_PATH / 'aum.csv')\n",
    "balance = pd.read_csv(INPUT_PATH / 'balance.csv')\n",
    "client = pd.read_csv(INPUT_PATH / 'client.csv')\n",
    "campaigns = pd.read_csv(INPUT_PATH / 'com.csv')\n",
    "deals = pd.read_csv(INPUT_PATH / 'deals.csv')\n",
    "dict_merchant_category_code = pd.read_csv(INPUT_PATH / 'dict_mcc.csv')\n",
    "payments = pd.read_csv(INPUT_PATH / 'payments.csv')\n",
    "funnel = pd.read_csv(INPUT_PATH / 'funnel.csv')\n",
    "appl = pd.read_csv(INPUT_PATH / 'appl.csv')"
   ]
  },
  {
   "cell_type": "code",
   "execution_count": 18,
   "id": "beaf604d",
   "metadata": {},
   "outputs": [],
   "source": [
    "payments = payments.sort_values(by='day_dt', ascending = False).reset_index(drop = True)"
   ]
  },
  {
   "cell_type": "code",
   "execution_count": 19,
   "id": "88a32530",
   "metadata": {},
   "outputs": [],
   "source": [
    "def most_common(x, default='unknown'):\n",
    "    try:\n",
    "        return x.value_counts().index[0] \n",
    "    except: \n",
    "        return default\n",
    "\n",
    "\n",
    "def create_features_transactions(data):\n",
    "    \n",
    "    data = data.copy()\n",
    "    \n",
    "    # transaction features\n",
    "    data['cards_count'] = data['client_id'].map(transactions.groupby('client_id')['card_id'].count()).fillna(0)\n",
    "    data['total_transaction_amount'] = data['client_id'].map(transactions.groupby('client_id')['tran_amt_rur'].sum()).fillna(0) # add monthly, daily, etc\n",
    "    data['mean_transaction_amount'] = data['client_id'].map(transactions.groupby('client_id')['tran_amt_rur'].mean()).fillna(0) # add monthly, daily, etc\n",
    "    data['std_transaction_amount'] = data['client_id'].map(transactions.groupby('client_id')['tran_amt_rur'].std()).fillna(0) # add monthly, daily, etc\n",
    "    \n",
    "    data['most_common_mcc_cd'] = data['client_id'].map(transactions.groupby('client_id')['mcc_cd'].agg(lambda x:most_common(x))).fillna(-1)\n",
    "    data['most_common_txn_comment_1'] = data['client_id'].map(transactions.groupby('client_id')['txn_comment_1'].agg(lambda x:most_common(x, 'unknown'))).fillna('unknown')\n",
    "    data['most_common_txn_city'] = data['client_id'].map(transactions.groupby('client_id')['txn_city'].agg(lambda x: most_common(x, 'unknown'))).fillna('unknown')\n",
    "    data['most_common_txn_country'] = data['client_id'].map(transactions.groupby('client_id')['txn_country'].agg(lambda x:most_common(x, 'unknown'))).fillna('unknown')\n",
    "    \n",
    "    data['number_of_transaction_countries'] = data['client_id'].map(transactions.groupby('client_id')['txn_city'].agg(lambda x:x.value_counts().shape[0]))\n",
    "    data['number_of_transaction_cities'] = data['client_id'].map(transactions.groupby('client_id')['txn_country'].agg(lambda x:x.value_counts().shape[0]))\n",
    "    \n",
    "    return data\n",
    "\n",
    "def create_feautures_payments(data):\n",
    "    data = data.copy()\n",
    "    \n",
    "    # payments \n",
    "    data['last_known_salary'] = data['client_id'].map(payments.groupby('client_id').apply(lambda x: x['sum_rur'].iloc[0])).fillna(-1)\n",
    "    data['total_recieved_salary'] = data['client_id'].map(payments.groupby('client_id').apply(lambda x: x['sum_rur'].sum())).fillna(-1)\n",
    "    \n",
    "    return data\n",
    "\n",
    "def create_features_deals(data):\n",
    "    data = data.copy()\n",
    "    \n",
    "    data['number_of_deals'] = data['client_id'].map(deals.groupby('client_id')['crncy_cd'].count()).fillna(0)\n",
    "    data['mean_deal_sum'] = data['client_id'].map(deals.groupby('client_id')['agrmnt_sum_rur'].mean()).fillna(0)\n",
    "    \n",
    "    return data"
   ]
  },
  {
   "cell_type": "code",
   "execution_count": 20,
   "id": "829a405c",
   "metadata": {},
   "outputs": [],
   "source": [
    "# data merge\n",
    "data = funnel.copy()\n",
    "data = funnel.merge(client, on=['client_id'])"
   ]
  },
  {
   "cell_type": "code",
   "execution_count": 21,
   "id": "d62bc812",
   "metadata": {},
   "outputs": [],
   "source": [
    "%%time\n",
    "# create features\n",
    "\n",
    "# data = create_features_transactions(data)\n",
    "# data = create_feautures_payments(data)\n",
    "# data = create_features_deals(data)"
   ]
  },
  {
   "cell_type": "code",
   "execution_count": 22,
   "id": "2634259a",
   "metadata": {},
   "outputs": [],
   "source": [
    "try:\n",
    "    os.mkdir(OUTPUT_PATH / 'preprocessors')\n",
    "except:\n",
    "    shutil.rmtree(OUTPUT_PATH / 'preprocessors')\n",
    "    os.mkdir(OUTPUT_PATH / 'preprocessors')"
   ]
  },
  {
   "cell_type": "code",
   "execution_count": 23,
   "id": "4ab86ef0",
   "metadata": {},
   "outputs": [],
   "source": [
    "# data encode\n",
    "\n",
    "fill_cols = ['gender', 'citizenship', 'education', 'job_type']\n",
    "for c in fill_cols:\n",
    "    col_type = data[c].dtype\n",
    "    if col_type == 'object' or col_type.name == 'category':\n",
    "        data[c] = data[c].astype('category')\n",
    "# for col in fill_cols:\n",
    "#     try:\n",
    "#         le = LabelEncoder()\n",
    "#         data[col] = le.fit_transform(data[col].astype(str))\n",
    "#         joblib.dump(le, OUTPUT_PATH / 'preprocessors' / f'{col}.pkl')\n",
    "#     except:\n",
    "#         print(f'{col} is missing')"
   ]
  },
  {
   "cell_type": "code",
   "execution_count": 24,
   "id": "0f81c010",
   "metadata": {},
   "outputs": [],
   "source": [
    "X = data.drop(columns = TARGET_COLUMNS + ['client_id'])\n",
    "Y = data[TARGET_COLUMNS[0]]"
   ]
  },
  {
   "cell_type": "code",
   "execution_count": 25,
   "id": "08b4633b",
   "metadata": {},
   "outputs": [],
   "source": [
    "import shutil\n",
    "try:\n",
    "    os.mkdir(OUTPUT_PATH / 'models')\n",
    "except:\n",
    "    shutil.rmtree(OUTPUT_PATH / 'models')\n",
    "    os.mkdir(OUTPUT_PATH / 'models')"
   ]
  },
  {
   "cell_type": "code",
   "execution_count": 26,
   "id": "769d1254",
   "metadata": {},
   "outputs": [],
   "source": [
    "def running_train(X_train, Y_train, X_val, Y_val, i_fold=None, seed=None, params = None):\n",
    "    # prepare for train\n",
    "    \n",
    "    params = {\n",
    "              \"n_jobs\":-1,\n",
    "              \"random_state\": seed,\n",
    "              }\n",
    "    \n",
    "    \n",
    "    model = LGBMClassifier(**params) # define model here\n",
    "    \n",
    "    # Fit and save model\n",
    "    \n",
    "    if X_val is None:\n",
    "        model.fit(X_train, Y_train, verbose=False)\n",
    "    else:\n",
    "        model.fit(X_train, Y_train,   eval_set=(X_val, Y_val), early_stopping_rounds=500, verbose=False)\n",
    "    joblib.dump(model, OUTPUT_PATH / 'models' / f'lightgbm_{i_fold}_{seed}_{CURRENT_TIME}.pkl')"
   ]
  },
  {
   "cell_type": "code",
   "execution_count": 27,
   "id": "0ae7e8ab",
   "metadata": {},
   "outputs": [],
   "source": [
    "oof = np.zeros((X.shape[0], n_seed)) # cv_score\n",
    "seeds = []\n",
    "for i_seed in range(n_seed):\n",
    "    seed = FIXED_SEEDS[i_seed]\n",
    "    seed_everything(seed)\n",
    "\n",
    "    seeds.append(seed)\n",
    "    print('Seed: {}, {}/{}'.format(seed, i_seed + 1, n_seed))\n",
    "    \n",
    "    if n_fold != 1:\n",
    "        kf = KFold(n_splits=n_fold, random_state=seed, shuffle=True)\n",
    "        split_indexes = kf.split(X, Y)\n",
    "    else:\n",
    "        split_indexes = [train_test_split(np.arange(X.shape[0]), random_state=seed, shuffle = True)]\n",
    "    \n",
    "    for i_fold, (train_idx, val_idx) in enumerate(split_indexes):\n",
    "        print(\"# Fold: {}/{} (seed: {}/{})\".format(i_fold + 1, n_fold, i_seed + 1, n_seed))\n",
    "\n",
    "        # dataset\n",
    "        X_train, Y_train = X.iloc[train_idx], Y[train_idx]\n",
    "        X_val, Y_val = X.iloc[val_idx], Y[val_idx]\n",
    "\n",
    "\n",
    "        # train\n",
    "        running_train(X_train, Y_train, X_val, Y_val, i_fold=i_fold, seed=seed)\n",
    "\n",
    "        # predict on oof\n",
    "        print('predict on oof...', end='')\n",
    "        model = joblib.load( OUTPUT_PATH / 'models' / f'lightgbm_{i_fold}_{seed}_{CURRENT_TIME}.pkl')\n",
    "\n",
    "        prediction = model.predict_proba(X_val)[:, 1]\n",
    "\n",
    "        oof[val_idx, i_seed] = prediction\n",
    "        print('  done.')"
   ]
  },
  {
   "cell_type": "code",
   "execution_count": 28,
   "id": "8a09419d",
   "metadata": {},
   "outputs": [],
   "source": [
    "if n_fold != 1:\n",
    "    Y_predicted = (np.mean(oof, axis = 1) > prediction_threshold).astype(int)\n",
    "    Y_test = funnel[['client_id', 'sale_flg']].set_index('client_id')\n",
    "    test_funnel =  funnel.set_index('client_id')\n",
    "if n_fold == 1 and n_seed == 1:\n",
    "    Y_predicted = (prediction > prediction_threshold).astype(int)\n",
    "    Y_test = funnel[['client_id', 'sale_flg']].iloc[split_indexes[0][1]].set_index('client_id')\n",
    "    test_funnel = funnel.iloc[split_indexes[0][1]].set_index('client_id')"
   ]
  },
  {
   "cell_type": "code",
   "execution_count": 29,
   "id": "1fe5d9dc",
   "metadata": {},
   "outputs": [],
   "source": [
    "try: \n",
    "    os.mkdir(OUTPUT_PATH / 'scoring')\n",
    "except:\n",
    "    shutil.rmtree(OUTPUT_PATH / 'scoring')\n",
    "    os.mkdir(OUTPUT_PATH / 'scoring')"
   ]
  },
  {
   "cell_type": "code",
   "execution_count": 30,
   "id": "b55c2647",
   "metadata": {},
   "outputs": [],
   "source": [
    "public_score, private_score = local_scorer.get_score(test_funnel, Y_predicted, Y_test)"
   ]
  },
  {
   "cell_type": "code",
   "execution_count": 31,
   "id": "8db9c47f",
   "metadata": {},
   "outputs": [],
   "source": [
    "validation_accuracy = accuracy_score(Y_test['sale_flg'], Y_predicted)\n",
    "print(f'Public ANIC {public_score} Private ANIC {private_score}')\n",
    "print(f'ANIC {1/3*public_score+ 2/3 * private_score}')\n",
    "print(f'Accuracy score: {validation_accuracy}')"
   ]
  },
  {
   "cell_type": "code",
   "execution_count": 32,
   "id": "f2f9f81f",
   "metadata": {},
   "outputs": [],
   "source": [
    "if retrain_after_valid:\n",
    "    running_train(X, Y, None, None, i_fold=-1, seed=4444)"
   ]
  },
  {
   "cell_type": "code",
   "execution_count": 33,
   "id": "c74adae6",
   "metadata": {},
   "outputs": [],
   "source": [
    "if USE_WANDB:\n",
    "    wandb.run.summary[\"validation_accuracy\"] = validation_accuracy\n",
    "    wandb.run.summary[\"anic\"] = (public_score + private_score) / 2"
   ]
  },
  {
   "cell_type": "code",
   "execution_count": 34,
   "id": "73440b2c",
   "metadata": {},
   "outputs": [],
   "source": [
    "if make_submission:\n",
    "    public_anic = float(input())\n",
    "    wandb.run.summary[\"public_anic\"] = public_anic"
   ]
  },
  {
   "cell_type": "code",
   "execution_count": 35,
   "id": "4f9c4816",
   "metadata": {},
   "outputs": [],
   "source": [
    "if USE_WANDB:\n",
    "    run.finish()"
   ]
  },
  {
   "cell_type": "code",
   "execution_count": 36,
   "id": "936faf1b",
   "metadata": {},
   "outputs": [],
   "source": [
    "#####################\n",
    "# IMPORT LIBS\n",
    "#####################\n",
    "\n",
    "import pandas as pd\n",
    "import numpy as np\n",
    "from pathlib import Path\n",
    "import wandb\n",
    "import datetime\n",
    "import os\n",
    "import random\n",
    "import joblib\n",
    "import shutil\n",
    "\n",
    "from sklearn.model_selection import KFold\n",
    "from sklearn.model_selection import train_test_split\n",
    "from sklearn.metrics import accuracy_score\n",
    "from sklearn.preprocessing import LabelEncoder\n",
    "from scoring import local_scorer\n",
    "\n",
    "from lightgbm import LGBMClassifier\n",
    "\n",
    "\n",
    "#####################\n",
    "# SET CONSTANTS\n",
    "#####################\n",
    "\n",
    "INPUT_PATH = Path('../input')\n",
    "OUTPUT_PATH = Path('../output')\n",
    "TRAIN_PATH = INPUT_PATH \n",
    "\n",
    "TARGET_COLUMNS = ['sale_flg', 'sale_amount', 'contacts']\n",
    "FIXED_SEEDS = [948, 534, 432, 597, 103, 21, 2242, 17, 20, 29]\n",
    "\n",
    "RANDOM_SEED = 4444\n",
    "USE_WANDB = True\n",
    "CURRENT_TIME = str(datetime.datetime.now()).replace(' ', '_').split('.')[0]\n",
    "\n",
    "def seed_everything(seed=1234):\n",
    "    random.seed(seed)\n",
    "    os.environ['PYTHONHASHSEED'] = str(seed)\n",
    "    np.random.seed(seed)\n",
    "seed_everything(RANDOM_SEED)"
   ]
  },
  {
   "cell_type": "code",
   "execution_count": 37,
   "id": "30b4214e",
   "metadata": {},
   "outputs": [],
   "source": [
    "###############\n",
    "# Config\n",
    "###############\n",
    "\n",
    "n_seed = 3\n",
    "n_fold = 3\n",
    "prediction_threshold = 0.1\n",
    "retrain_after_valid = True\n",
    "make_submission = False"
   ]
  },
  {
   "cell_type": "code",
   "execution_count": 38,
   "id": "e8c1eb03",
   "metadata": {},
   "outputs": [
    {
     "data": {
      "text/html": [
       "\n",
       "                Tracking run with wandb version 0.10.26<br/>\n",
       "                Syncing run <strong style=\"color:#cdcd00\">2021-04-17_15:52:31</strong> to <a href=\"https://wandb.ai\" target=\"_blank\">Weights & Biases</a> <a href=\"https://docs.wandb.com/integrations/jupyter.html\" target=\"_blank\">(Documentation)</a>.<br/>\n",
       "                Project page: <a href=\"https://wandb.ai/artkulak/idao-2021-finals\" target=\"_blank\">https://wandb.ai/artkulak/idao-2021-finals</a><br/>\n",
       "                Run page: <a href=\"https://wandb.ai/artkulak/idao-2021-finals/runs/j3pypxbw\" target=\"_blank\">https://wandb.ai/artkulak/idao-2021-finals/runs/j3pypxbw</a><br/>\n",
       "                Run data is saved locally in <code>/home/jupyter/idao-2021-finals/wandb/run-20210417_155232-j3pypxbw</code><br/><br/>\n",
       "            "
      ],
      "text/plain": [
       "<IPython.core.display.HTML object>"
      ]
     },
     "metadata": {},
     "output_type": "display_data"
    }
   ],
   "source": [
    "if USE_WANDB:\n",
    "    wandb.login()\n",
    "    run = wandb.init(project=\"idao-2021-finals\", name = f'{CURRENT_TIME}') # todo add config here"
   ]
  },
  {
   "cell_type": "code",
   "execution_count": 39,
   "id": "e40f749d",
   "metadata": {},
   "outputs": [],
   "source": [
    "%%time\n",
    "\n",
    "transactions = pd.read_csv(INPUT_PATH / 'trxn.csv')\n",
    "assets_under_management = pd.read_csv(INPUT_PATH / 'aum.csv')\n",
    "balance = pd.read_csv(INPUT_PATH / 'balance.csv')\n",
    "client = pd.read_csv(INPUT_PATH / 'client.csv')\n",
    "campaigns = pd.read_csv(INPUT_PATH / 'com.csv')\n",
    "deals = pd.read_csv(INPUT_PATH / 'deals.csv')\n",
    "dict_merchant_category_code = pd.read_csv(INPUT_PATH / 'dict_mcc.csv')\n",
    "payments = pd.read_csv(INPUT_PATH / 'payments.csv')\n",
    "funnel = pd.read_csv(INPUT_PATH / 'funnel.csv')\n",
    "appl = pd.read_csv(INPUT_PATH / 'appl.csv')"
   ]
  },
  {
   "cell_type": "code",
   "execution_count": 40,
   "id": "e98462a0",
   "metadata": {},
   "outputs": [],
   "source": [
    "payments = payments.sort_values(by='day_dt', ascending = False).reset_index(drop = True)"
   ]
  },
  {
   "cell_type": "code",
   "execution_count": 41,
   "id": "e1700d81",
   "metadata": {},
   "outputs": [],
   "source": [
    "def most_common(x, default='unknown'):\n",
    "    try:\n",
    "        return x.value_counts().index[0] \n",
    "    except: \n",
    "        return default\n",
    "\n",
    "\n",
    "def create_features_transactions(data):\n",
    "    \n",
    "    data = data.copy()\n",
    "    \n",
    "    # transaction features\n",
    "    data['cards_count'] = data['client_id'].map(transactions.groupby('client_id')['card_id'].count()).fillna(0)\n",
    "    data['total_transaction_amount'] = data['client_id'].map(transactions.groupby('client_id')['tran_amt_rur'].sum()).fillna(0) # add monthly, daily, etc\n",
    "    data['mean_transaction_amount'] = data['client_id'].map(transactions.groupby('client_id')['tran_amt_rur'].mean()).fillna(0) # add monthly, daily, etc\n",
    "    data['std_transaction_amount'] = data['client_id'].map(transactions.groupby('client_id')['tran_amt_rur'].std()).fillna(0) # add monthly, daily, etc\n",
    "    \n",
    "    data['most_common_mcc_cd'] = data['client_id'].map(transactions.groupby('client_id')['mcc_cd'].agg(lambda x:most_common(x))).fillna(-1)\n",
    "    data['most_common_txn_comment_1'] = data['client_id'].map(transactions.groupby('client_id')['txn_comment_1'].agg(lambda x:most_common(x, 'unknown'))).fillna('unknown')\n",
    "    data['most_common_txn_city'] = data['client_id'].map(transactions.groupby('client_id')['txn_city'].agg(lambda x: most_common(x, 'unknown'))).fillna('unknown')\n",
    "    data['most_common_txn_country'] = data['client_id'].map(transactions.groupby('client_id')['txn_country'].agg(lambda x:most_common(x, 'unknown'))).fillna('unknown')\n",
    "    \n",
    "    data['number_of_transaction_countries'] = data['client_id'].map(transactions.groupby('client_id')['txn_city'].agg(lambda x:x.value_counts().shape[0]))\n",
    "    data['number_of_transaction_cities'] = data['client_id'].map(transactions.groupby('client_id')['txn_country'].agg(lambda x:x.value_counts().shape[0]))\n",
    "    \n",
    "    return data\n",
    "\n",
    "def create_feautures_payments(data):\n",
    "    data = data.copy()\n",
    "    \n",
    "    # payments \n",
    "    data['last_known_salary'] = data['client_id'].map(payments.groupby('client_id').apply(lambda x: x['sum_rur'].iloc[0])).fillna(-1)\n",
    "    data['total_recieved_salary'] = data['client_id'].map(payments.groupby('client_id').apply(lambda x: x['sum_rur'].sum())).fillna(-1)\n",
    "    \n",
    "    return data\n",
    "\n",
    "def create_features_deals(data):\n",
    "    data = data.copy()\n",
    "    \n",
    "    data['number_of_deals'] = data['client_id'].map(deals.groupby('client_id')['crncy_cd'].count()).fillna(0)\n",
    "    data['mean_deal_sum'] = data['client_id'].map(deals.groupby('client_id')['agrmnt_sum_rur'].mean()).fillna(0)\n",
    "    \n",
    "    return data"
   ]
  },
  {
   "cell_type": "code",
   "execution_count": 42,
   "id": "baae971b",
   "metadata": {},
   "outputs": [],
   "source": [
    "# data merge\n",
    "data = funnel.copy()\n",
    "data = funnel.merge(client, on=['client_id'])"
   ]
  },
  {
   "cell_type": "code",
   "execution_count": 43,
   "id": "5ddae0dc",
   "metadata": {},
   "outputs": [],
   "source": [
    "%%time\n",
    "# create features\n",
    "\n",
    "# data = create_features_transactions(data)\n",
    "# data = create_feautures_payments(data)\n",
    "# data = create_features_deals(data)"
   ]
  },
  {
   "cell_type": "code",
   "execution_count": 44,
   "id": "3f654b4a",
   "metadata": {},
   "outputs": [],
   "source": [
    "try:\n",
    "    os.mkdir(OUTPUT_PATH / 'preprocessors')\n",
    "except:\n",
    "    shutil.rmtree(OUTPUT_PATH / 'preprocessors')\n",
    "    os.mkdir(OUTPUT_PATH / 'preprocessors')"
   ]
  },
  {
   "cell_type": "code",
   "execution_count": 45,
   "id": "bc732714",
   "metadata": {},
   "outputs": [],
   "source": [
    "# data encode\n",
    "\n",
    "fill_cols = ['gender', 'citizenship', 'education', 'job_type']\n",
    "for c in fill_cols:\n",
    "    col_type = data[c].dtype\n",
    "    if col_type == 'object' or col_type.name == 'category':\n",
    "        data[c] = data[c].astype('category')\n",
    "# for col in fill_cols:\n",
    "#     try:\n",
    "#         le = LabelEncoder()\n",
    "#         data[col] = le.fit_transform(data[col].astype(str))\n",
    "#         joblib.dump(le, OUTPUT_PATH / 'preprocessors' / f'{col}.pkl')\n",
    "#     except:\n",
    "#         print(f'{col} is missing')"
   ]
  },
  {
   "cell_type": "code",
   "execution_count": 46,
   "id": "88906143",
   "metadata": {},
   "outputs": [],
   "source": [
    "X = data.drop(columns = TARGET_COLUMNS + ['client_id'])\n",
    "Y = data[TARGET_COLUMNS[0]]"
   ]
  },
  {
   "cell_type": "code",
   "execution_count": 47,
   "id": "8de64750",
   "metadata": {},
   "outputs": [],
   "source": [
    "import shutil\n",
    "try:\n",
    "    os.mkdir(OUTPUT_PATH / 'models')\n",
    "except:\n",
    "    shutil.rmtree(OUTPUT_PATH / 'models')\n",
    "    os.mkdir(OUTPUT_PATH / 'models')"
   ]
  },
  {
   "cell_type": "code",
   "execution_count": 48,
   "id": "d58e66cf",
   "metadata": {},
   "outputs": [],
   "source": [
    "def running_train(X_train, Y_train, X_val, Y_val, i_fold=None, seed=None, params = None):\n",
    "    # prepare for train\n",
    "    \n",
    "    params = {\n",
    "              \"n_jobs\":-1,\n",
    "              \"random_state\": seed,\n",
    "              }\n",
    "    \n",
    "    \n",
    "    model = LGBMClassifier(**params) # define model here\n",
    "    \n",
    "    # Fit and save model\n",
    "    \n",
    "    if X_val is None:\n",
    "        model.fit(X_train, Y_train, verbose=False)\n",
    "    else:\n",
    "        model.fit(X_train, Y_train,   eval_set=(X_val, Y_val), early_stopping_rounds=500, verbose=False)\n",
    "    joblib.dump(model, OUTPUT_PATH / 'models' / f'lightgbm_{i_fold}_{seed}_{CURRENT_TIME}.pkl')"
   ]
  },
  {
   "cell_type": "code",
   "execution_count": 49,
   "id": "1a088ecd",
   "metadata": {},
   "outputs": [],
   "source": [
    "oof = np.zeros((X.shape[0], n_seed)) # cv_score\n",
    "seeds = []\n",
    "for i_seed in range(n_seed):\n",
    "    seed = FIXED_SEEDS[i_seed]\n",
    "    seed_everything(seed)\n",
    "\n",
    "    seeds.append(seed)\n",
    "    print('Seed: {}, {}/{}'.format(seed, i_seed + 1, n_seed))\n",
    "    \n",
    "    if n_fold != 1:\n",
    "        kf = KFold(n_splits=n_fold, random_state=seed, shuffle=True)\n",
    "        split_indexes = kf.split(X, Y)\n",
    "    else:\n",
    "        split_indexes = [train_test_split(np.arange(X.shape[0]), random_state=seed, shuffle = True)]\n",
    "    \n",
    "    for i_fold, (train_idx, val_idx) in enumerate(split_indexes):\n",
    "        print(\"# Fold: {}/{} (seed: {}/{})\".format(i_fold + 1, n_fold, i_seed + 1, n_seed))\n",
    "\n",
    "        # dataset\n",
    "        X_train, Y_train = X.iloc[train_idx], Y[train_idx]\n",
    "        X_val, Y_val = X.iloc[val_idx], Y[val_idx]\n",
    "\n",
    "\n",
    "        # train\n",
    "        running_train(X_train, Y_train, X_val, Y_val, i_fold=i_fold, seed=seed)\n",
    "\n",
    "        # predict on oof\n",
    "        print('predict on oof...', end='')\n",
    "        model = joblib.load( OUTPUT_PATH / 'models' / f'lightgbm_{i_fold}_{seed}_{CURRENT_TIME}.pkl')\n",
    "\n",
    "        prediction = model.predict_proba(X_val)[:, 1]\n",
    "\n",
    "        oof[val_idx, i_seed] = prediction\n",
    "        print('  done.')"
   ]
  },
  {
   "cell_type": "code",
   "execution_count": 50,
   "id": "1a8bd941",
   "metadata": {},
   "outputs": [],
   "source": [
    "if n_fold != 1:\n",
    "    Y_predicted = (np.mean(oof, axis = 1) > prediction_threshold).astype(int)\n",
    "    Y_test = funnel[['client_id', 'sale_flg']].set_index('client_id')\n",
    "    test_funnel =  funnel.set_index('client_id')\n",
    "if n_fold == 1 and n_seed == 1:\n",
    "    Y_predicted = (prediction > prediction_threshold).astype(int)\n",
    "    Y_test = funnel[['client_id', 'sale_flg']].iloc[split_indexes[0][1]].set_index('client_id')\n",
    "    test_funnel = funnel.iloc[split_indexes[0][1]].set_index('client_id')"
   ]
  },
  {
   "cell_type": "code",
   "execution_count": 51,
   "id": "a0eb1e49",
   "metadata": {},
   "outputs": [],
   "source": [
    "try: \n",
    "    os.mkdir(OUTPUT_PATH / 'scoring')\n",
    "except:\n",
    "    shutil.rmtree(OUTPUT_PATH / 'scoring')\n",
    "    os.mkdir(OUTPUT_PATH / 'scoring')"
   ]
  },
  {
   "cell_type": "code",
   "execution_count": 52,
   "id": "472fabb9",
   "metadata": {},
   "outputs": [],
   "source": [
    "public_score, private_score = local_scorer.get_score(test_funnel, Y_predicted, Y_test)"
   ]
  },
  {
   "cell_type": "code",
   "execution_count": 53,
   "id": "63db6c0f",
   "metadata": {},
   "outputs": [],
   "source": [
    "validation_accuracy = accuracy_score(Y_test['sale_flg'], Y_predicted)\n",
    "print(f'Public ANIC {public_score} Private ANIC {private_score}')\n",
    "print(f'ANIC {1/3*public_score+ 2/3 * private_score}')\n",
    "print(f'Accuracy score: {validation_accuracy}')"
   ]
  },
  {
   "cell_type": "code",
   "execution_count": 54,
   "id": "68413dab",
   "metadata": {},
   "outputs": [],
   "source": [
    "if retrain_after_valid:\n",
    "    running_train(X, Y, None, None, i_fold=-1, seed=4444)"
   ]
  },
  {
   "cell_type": "code",
   "execution_count": 55,
   "id": "aa355b4d",
   "metadata": {},
   "outputs": [],
   "source": [
    "if USE_WANDB:\n",
    "    wandb.run.summary[\"validation_accuracy\"] = validation_accuracy\n",
    "    wandb.run.summary[\"anic\"] = 1/3*public_score+ 2/3 * private_score"
   ]
  },
  {
   "cell_type": "code",
   "execution_count": 56,
   "id": "70998a54",
   "metadata": {},
   "outputs": [],
   "source": [
    "if make_submission:\n",
    "    public_anic = float(input())\n",
    "    wandb.run.summary[\"public_anic\"] = public_anic"
   ]
  },
  {
   "cell_type": "code",
   "execution_count": 57,
   "id": "6ea7cdf0",
   "metadata": {},
   "outputs": [],
   "source": [
    "if USE_WANDB:\n",
    "    run.finish()"
   ]
  }
 ],
 "metadata": {
  "kernelspec": {
   "display_name": "Python 3",
   "language": "python",
   "name": "python3"
  },
  "language_info": {
   "codemirror_mode": {
    "name": "ipython",
    "version": 3
   },
   "file_extension": ".py",
   "mimetype": "text/x-python",
   "name": "python",
   "nbconvert_exporter": "python",
   "pygments_lexer": "ipython3",
   "version": "3.7.10"
  }
 },
 "nbformat": 4,
 "nbformat_minor": 5
}
