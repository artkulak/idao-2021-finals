{
 "cells": [
  {
   "cell_type": "code",
   "execution_count": 1,
   "metadata": {},
   "outputs": [],
   "source": [
    "#####################\n",
    "# IMPORT LIBS\n",
    "#####################\n",
    "\n",
    "import lightgbm\n",
    "import matplotlib.pyplot as plt\n",
    "import pandas as pd\n",
    "import numpy as np\n",
    "import seaborn as sns\n",
    "from pathlib import Path\n",
    "import wandb\n",
    "import datetime\n",
    "import os\n",
    "import random\n",
    "import joblib\n",
    "import shutil\n",
    "\n",
    "sns.set()\n",
    "\n",
    "from sklearn.cluster import KMeans\n",
    "from sklearn.model_selection import KFold\n",
    "from sklearn.model_selection import train_test_split\n",
    "from sklearn.metrics import f1_score, precision_score, recall_score\n",
    "from sklearn.preprocessing import LabelEncoder\n",
    "from scoring import local_scorer\n",
    "import scipy\n",
    "\n",
    "from lightgbm import LGBMClassifier, LGBMRegressor\n",
    "\n",
    "\n",
    "#####################\n",
    "# SET CONSTANTS\n",
    "#####################\n",
    "\n",
    "INPUT_PATH = Path('../input')\n",
    "OUTPUT_PATH = Path('../output')\n",
    "TRAIN_PATH = INPUT_PATH \n",
    "\n",
    "TARGET_COLUMNS = ['sale_flg', 'sale_amount', 'contacts']\n",
    "FIXED_SEEDS = [948, 534, 432, 597, 103, 21, 2242, 17, 20, 29]\n",
    "\n",
    "RANDOM_SEED = 4444\n",
    "USE_WANDB = False\n",
    "CURRENT_TIME = str(datetime.datetime.now()).replace(' ', '_').split('.')[0]\n",
    "\n",
    "def seed_everything(seed=1234):\n",
    "    random.seed(seed)\n",
    "    os.environ['PYTHONHASHSEED'] = str(seed)\n",
    "    np.random.seed(seed)\n",
    "seed_everything(RANDOM_SEED)"
   ]
  },
  {
   "cell_type": "code",
   "execution_count": 3,
   "metadata": {},
   "outputs": [
    {
     "name": "stderr",
     "output_type": "stream",
     "text": [
      "/opt/conda/lib/python3.7/site-packages/decorator.py:231: DtypeWarning: Columns (10) have mixed types.Specify dtype option on import or set low_memory=False.\n",
      "  return caller(func, *(extras + args), **kw)\n"
     ]
    },
    {
     "name": "stdout",
     "output_type": "stream",
     "text": [
      "CPU times: user 6.34 s, sys: 498 ms, total: 6.84 s\n",
      "Wall time: 6.83 s\n"
     ]
    }
   ],
   "source": [
    "%%time\n",
    "\n",
    "transactions = pd.read_csv(INPUT_PATH / 'trxn.csv')\n",
    "assets_under_management = pd.read_csv(INPUT_PATH / 'aum.csv')\n",
    "balance = pd.read_csv(INPUT_PATH / 'balance.csv')\n",
    "client = pd.read_csv(INPUT_PATH / 'client.csv')\n",
    "campaigns = pd.read_csv(INPUT_PATH / 'com.csv')\n",
    "deals = pd.read_csv(INPUT_PATH / 'deals.csv')\n",
    "dict_merchant_category_code = pd.read_csv(INPUT_PATH / 'dict_mcc.csv')\n",
    "payments = pd.read_csv(INPUT_PATH / 'payments.csv')\n",
    "funnel = pd.read_csv(INPUT_PATH / 'funnel.csv')\n",
    "appl = pd.read_csv(INPUT_PATH / 'appl.csv')"
   ]
  },
  {
   "cell_type": "code",
   "execution_count": 65,
   "metadata": {},
   "outputs": [],
   "source": [
    "import googlemaps\n",
    "from datetime import datetime\n",
    "\n",
    "gmaps = googlemaps.Client(key='<YOUR-API-KEY-HERE>')\n",
    "\n",
    "# Geocoding an address\n",
    "geocode_result = gmaps.geocode('PENZA G Russia')"
   ]
  },
  {
   "cell_type": "code",
   "execution_count": 66,
   "metadata": {},
   "outputs": [
    {
     "data": {
      "text/plain": [
       "[{'address_components': [{'long_name': 'Penza',\n",
       "    'short_name': 'Penza',\n",
       "    'types': ['locality', 'political']},\n",
       "   {'long_name': 'Gorod Penza',\n",
       "    'short_name': 'Gorod Penza',\n",
       "    'types': ['administrative_area_level_2', 'political']},\n",
       "   {'long_name': 'Penza Oblast',\n",
       "    'short_name': 'Penza Oblast',\n",
       "    'types': ['administrative_area_level_1', 'political']},\n",
       "   {'long_name': 'Russia',\n",
       "    'short_name': 'RU',\n",
       "    'types': ['country', 'political']}],\n",
       "  'formatted_address': 'Penza, Penza Oblast, Russia',\n",
       "  'geometry': {'bounds': {'northeast': {'lat': 53.288824,\n",
       "     'lng': 45.23116479999999},\n",
       "    'southwest': {'lat': 53.101482, 'lng': 44.830076}},\n",
       "   'location': {'lat': 53.2272903, 'lng': 45},\n",
       "   'location_type': 'APPROXIMATE',\n",
       "   'viewport': {'northeast': {'lat': 53.288824, 'lng': 45.23116479999999},\n",
       "    'southwest': {'lat': 53.101482, 'lng': 44.830076}}},\n",
       "  'place_id': 'ChIJ0fAKpGIAQUERAanLoexs7bo',\n",
       "  'types': ['locality', 'political']}]"
      ]
     },
     "execution_count": 66,
     "metadata": {},
     "output_type": "execute_result"
    }
   ],
   "source": [
    "geocode_result"
   ]
  },
  {
   "cell_type": "code",
   "execution_count": null,
   "metadata": {},
   "outputs": [],
   "source": [
    "address_mapping = {'name': [], 'corrected_name': [], 'lat': [], 'long': []}"
   ]
  },
  {
   "cell_type": "code",
   "execution_count": 45,
   "metadata": {},
   "outputs": [],
   "source": [
    "from tqdm import tqdm_notebook"
   ]
  },
  {
   "cell_type": "code",
   "execution_count": 76,
   "metadata": {},
   "outputs": [],
   "source": [
    "address_mapping = {'name': [], 'corrected_name': [], 'lat': [], 'long': []}"
   ]
  },
  {
   "cell_type": "code",
   "execution_count": 93,
   "metadata": {},
   "outputs": [
    {
     "name": "stderr",
     "output_type": "stream",
     "text": [
      "/opt/conda/lib/python3.7/site-packages/ipykernel_launcher.py:1: TqdmDeprecationWarning: This function will be removed in tqdm==5.0.0\n",
      "Please use `tqdm.notebook.tqdm` instead of `tqdm.tqdm_notebook`\n",
      "  \"\"\"Entry point for launching an IPython kernel.\n"
     ]
    },
    {
     "data": {
      "application/vnd.jupyter.widget-view+json": {
       "model_id": "0d7b11f737d0477caae5f9962cfe3d55",
       "version_major": 2,
       "version_minor": 0
      },
      "text/plain": [
       "0it [00:00, ?it/s]"
      ]
     },
     "metadata": {},
     "output_type": "display_data"
    },
    {
     "name": "stdout",
     "output_type": "stream",
     "text": [
      "66 nan\n"
     ]
    }
   ],
   "source": [
    "for i, address in tqdm_notebook(enumerate(transactions['txn_city'].unique())):\n",
    "    if address != address:\n",
    "        print(i, address)"
   ]
  },
  {
   "cell_type": "code",
   "execution_count": 83,
   "metadata": {},
   "outputs": [
    {
     "name": "stderr",
     "output_type": "stream",
     "text": [
      "/opt/conda/lib/python3.7/site-packages/ipykernel_launcher.py:1: TqdmDeprecationWarning: This function will be removed in tqdm==5.0.0\n",
      "Please use `tqdm.notebook.tqdm` instead of `tqdm.tqdm_notebook`\n",
      "  \"\"\"Entry point for launching an IPython kernel.\n"
     ]
    },
    {
     "data": {
      "application/vnd.jupyter.widget-view+json": {
       "model_id": "06251c67c81a41f9af059569f082c323",
       "version_major": 2,
       "version_minor": 0
      },
      "text/plain": [
       "  0%|          | 0/13584 [00:00<?, ?it/s]"
      ]
     },
     "metadata": {},
     "output_type": "display_data"
    }
   ],
   "source": [
    "for address in tqdm_notebook(transactions['txn_city'].unique()):\n",
    "    if address != address:\n",
    "        corrected_name = address\n",
    "        lat = -1\n",
    "        long = -1\n",
    "    else:\n",
    "        address_mapping['name'].append(address)\n",
    "        geocode_result = gmaps.geocode(address + ' Russia')\n",
    "\n",
    "        try:\n",
    "            corrected_name = geocode_result[0]['address_components'][0]['long_name']\n",
    "            lat = geocode_result[0]['geometry']['location']['lat']\n",
    "            long = geocode_result[0]['geometry']['location']['lng']\n",
    "        except:\n",
    "            corrected_name = address\n",
    "            lat = -1\n",
    "            long = -1\n",
    "    \n",
    "    address_mapping['corrected_name'].append(corrected_name)\n",
    "    address_mapping['lat'].append(lat)\n",
    "    address_mapping['long'].append(long)"
   ]
  },
  {
   "cell_type": "code",
   "execution_count": 119,
   "metadata": {},
   "outputs": [
    {
     "data": {
      "text/plain": [
       "'KAZAN'"
      ]
     },
     "execution_count": 119,
     "metadata": {},
     "output_type": "execute_result"
    }
   ],
   "source": [
    "address_mapping['name'][68]"
   ]
  },
  {
   "cell_type": "code",
   "execution_count": 135,
   "metadata": {},
   "outputs": [
    {
     "data": {
      "text/plain": [
       "55.7878944"
      ]
     },
     "execution_count": 135,
     "metadata": {},
     "output_type": "execute_result"
    }
   ],
   "source": [
    "address_mapping['lat'][67]"
   ]
  },
  {
   "cell_type": "code",
   "execution_count": 132,
   "metadata": {},
   "outputs": [],
   "source": [
    "new_address_mapping = (address_mapping).copy()"
   ]
  },
  {
   "cell_type": "code",
   "execution_count": 140,
   "metadata": {},
   "outputs": [],
   "source": [
    "pd.DataFrame(new_address_mapping).to_csv('address_mapping.csv', index = None)"
   ]
  },
  {
   "cell_type": "code",
   "execution_count": null,
   "metadata": {},
   "outputs": [],
   "source": []
  },
  {
   "cell_type": "code",
   "execution_count": 136,
   "metadata": {},
   "outputs": [],
   "source": [
    "new_address_mapping['corrected_name'].insert(59, 'Yekaterinburg')\n",
    "new_address_mapping['lat'].insert(59, 56.838011)\n",
    "new_address_mapping['long'].insert(59,60.597465)"
   ]
  },
  {
   "cell_type": "code",
   "execution_count": 137,
   "metadata": {},
   "outputs": [
    {
     "name": "stdout",
     "output_type": "stream",
     "text": [
      "0 N. NOVGOROD -> Nizhny Novgorod\n",
      "1 RADUZHNYI -> Raduzhny\n",
      "2 RADUZHNYJ -> Raduzhny\n",
      "3 ORSK -> Orsk\n",
      "4 KSTOVO -> Kstovo\n",
      "5 SARATOV -> Saratov\n",
      "6 PENZA -> Penza\n",
      "7 PENZA G -> Penza\n",
      "8 KAZAN -> Kazan\n",
      "9 NOVOSIBIRSK -> Novosibirsk\n",
      "10 PERM -> Perm\n",
      "11 NOVOURALSK -> Novouralsk\n",
      "12 TIHVIN -> Tikhvin\n",
      "13 OREKHOVOZUEV -> Orekhovo-Zuyevo\n",
      "14 KOGALYM G -> Kogalym\n",
      "15 UFA -> Ufa\n",
      "16 KOGALYM -> Kogalym\n",
      "17 ROSTOVTNADO -> Rostov-on-Don\n",
      "18 ROSTOVNADON -> Rostov-on-Don\n",
      "19 TIKHVIN -> Tikhvin\n",
      "20 NEFTEYUGANSK -> Nefteyugansk\n",
      "21 CHEUSKINO -> Cheuskino\n",
      "22 BERDYAUSH RP -> 12\n",
      "23 SATKA -> Satka\n",
      "24 VOLGOGRAD -> Volgograd\n",
      "25 NEFTEYUANSK -> Nefteyugansk\n",
      "26 DIMITROVGRAD -> Dimitrovgrad\n",
      "27 RYAZANOVO -> Ryazanovo\n",
      "28 SANKTPETERBURG -> Saint Petersburg\n",
      "29 SANKTPETERBU -> Saint Petersburg\n",
      "30 KOROLEV G -> Gorod Korolev\n",
      "31 MOSKVA -> Moscow\n",
      "32 PYTYAH -> Pyt-Yakh\n",
      "33 KEMEROVO -> Kemerovo\n",
      "34 VLADIKAVKAZ -> Vladikavkaz\n",
      "35 BESLAN -> Beslan\n",
      "36 VLADIKAVKAZ G -> Gorod Vladikavkaz\n",
      "37 YUZHNOURALSK -> Yuzhnouralsk\n",
      "38 CHELYABINSK -> Chelyabinsk\n",
      "39 YUZHOURALSK -> Yuzhnouralsk\n",
      "40 TATARSTAN -> Republic of Tatarstan\n",
      "41 ROZHDESTVENO -> Rozhdestveno\n",
      "42 MOSKVA G -> Moscow\n",
      "43 SGONNIKOVSKIY -> SGONNIKOVSKIY\n",
      "44 GUBKIN -> Gubkin\n",
      "45 FEDOROVSKIY -> Fedorovskiy\n",
      "46 ROSTOVNADONU -> Rostov-on-Don\n",
      "47 UFA G -> Ufa\n",
      "48 NOVOMOSKOVSK -> Novomoskovsk\n",
      "49 CHERNUSHKA -> Chernushka\n",
      "50 KHANTYMANSIISK -> Khanty-Mansiysk\n",
      "51 KHANTYMANSIY -> Khanty-Mansi Autonomous Okrug\n",
      "52 ST.PETERSBURG -> Saint Petersburg\n",
      "53 MELEUZ -> Meleuz\n",
      "54 YUGORSK -> Yugorsk\n",
      "55 ZHELEZNOGORSK -> Zheleznogorsk\n",
      "56 KRASNOTURINSK -> Krasnoturyinsk\n",
      "57 LIPETSK -> Lipetsk\n",
      "58 LUCHEGORSK -> Luchegorsk\n",
      "59 EKATERINBURG -> Yekaterinburg\n",
      "60 N. NOVGOROD -> Nizhny Novgorod\n",
      "61 RADUZHNYI -> Raduzhny\n",
      "62 RADUZHNYJ -> Raduzhny\n",
      "63 ORSK -> Orsk\n",
      "64 KSTOVO -> Kstovo\n",
      "65 SARATOV -> Saratov\n",
      "66 PENZA -> Penza\n",
      "67 PENZA G -> Penza\n",
      "68 KAZAN -> Kazan\n",
      "69 NOVOSIBIRSK -> Novosibirsk\n"
     ]
    }
   ],
   "source": [
    "for i in range(70):\n",
    "    print(i, new_address_mapping['name'][i], '->', new_address_mapping['corrected_name'][i])"
   ]
  },
  {
   "cell_type": "code",
   "execution_count": 127,
   "metadata": {},
   "outputs": [
    {
     "data": {
      "text/plain": [
       "'N. NOVGOROD'"
      ]
     },
     "execution_count": 127,
     "metadata": {},
     "output_type": "execute_result"
    }
   ],
   "source": [
    "address_mapping['name'][60]"
   ]
  },
  {
   "cell_type": "code",
   "execution_count": 128,
   "metadata": {},
   "outputs": [
    {
     "data": {
      "text/plain": [
       "'Raduzhny'"
      ]
     },
     "execution_count": 128,
     "metadata": {},
     "output_type": "execute_result"
    }
   ],
   "source": [
    "address_mapping['corrected_name'][60]"
   ]
  },
  {
   "cell_type": "code",
   "execution_count": null,
   "metadata": {},
   "outputs": [],
   "source": []
  }
 ],
 "metadata": {
  "environment": {
   "name": "common-cpu.m65",
   "type": "gcloud",
   "uri": "gcr.io/deeplearning-platform-release/base-cpu:m65"
  },
  "kernelspec": {
   "display_name": "Python 3",
   "language": "python",
   "name": "python3"
  },
  "language_info": {
   "codemirror_mode": {
    "name": "ipython",
    "version": 3
   },
   "file_extension": ".py",
   "mimetype": "text/x-python",
   "name": "python",
   "nbconvert_exporter": "python",
   "pygments_lexer": "ipython3",
   "version": "3.6.6"
  }
 },
 "nbformat": 4,
 "nbformat_minor": 5
}
