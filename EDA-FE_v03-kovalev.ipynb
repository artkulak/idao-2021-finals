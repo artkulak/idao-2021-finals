{
 "cells": [
  {
   "cell_type": "code",
   "execution_count": 6,
   "id": "ce602d07",
   "metadata": {},
   "outputs": [],
   "source": [
    "from pathlib import Path\n",
    "import pandas as pd\n",
    "import numpy as np\n",
    "import os\n",
    "import scipy.stats\n",
    "import seaborn as sns\n",
    "import matplotlib.pyplot as plt\n",
    "\n",
    "INPUT_PATH = Path('../input')\n",
    "OUTPUT_PATH = Path('../output')\n",
    "pd.set_option('display.float_format', str)"
   ]
  },
  {
   "cell_type": "code",
   "execution_count": 7,
   "id": "70bb8b7a",
   "metadata": {},
   "outputs": [],
   "source": [
    "def get_feature_total(df, col_name):\n",
    "    return data['client_id'].map(df.groupby(['client_id', col_name]).size().index.get_level_values('client_id').value_counts()).fillna(0)\n",
    "\n",
    "\n",
    "def get_feature_most_common(df, col_name, fill_na_value):\n",
    "    return data['client_id'].map(df.groupby('client_id')[col_name].agg(lambda x: scipy.stats.mode(x)[0][0])).fillna(fill_na_value)\n",
    "\n",
    "\n",
    "def get_feature_max(df, col_name, fill_na_value):\n",
    "    return data['client_id'].map(df.groupby('client_id')[col_name].max()).fillna(fill_na_value)\n",
    "\n",
    "\n",
    "def get_feature_min(df, col_name, fill_na_value):\n",
    "    return data['client_id'].map(df.groupby('client_id')[col_name].min()).fillna(fill_na_value)\n",
    "\n",
    "\n",
    "def get_feature_mean(df, col_name, fill_na_value):\n",
    "    return data['client_id'].map(df.groupby('client_id')[col_name].mean()).fillna(fill_na_value)\n",
    "\n",
    "\n",
    "def get_feature_std(df, col_name, fill_na_value):\n",
    "    return data['client_id'].map(df.groupby('client_id')[col_name].std()).fillna(fill_na_value)\n",
    "\n",
    "\n",
    "def get_feature_max_min(df, col_name, fill_na_value):\n",
    "    return data['client_id'].map(df.groupby('client_id')[col_name].agg(lambda x: x.max() - x.min())).fillna(fill_na_value)\n",
    "\n",
    "\n",
    "def get_feature_timedelta(df, col_name):\n",
    "    return data['client_id'].map(df.groupby('client_id')[col_name].agg(lambda x: (x.max() - x.min()).days)).fillna(-1)\n",
    "\n",
    "\n",
    "def get_feature_diff(df, col_name1, col_name2, fill_na_value):\n",
    "    return data['client_id'].map(df.groupby('client_id')[col_name1].sum() - df.groupby('client_id')[col_name2].sum()).fillna(fill_na_value)\n",
    "\n",
    "\n",
    "def get_feature_rate(df, col_name1, col_name2, fill_na_value):\n",
    "    return data['client_id'].map(df.groupby('client_id')[col_name1].sum() / (df.groupby('client_id')[col_name2].sum() + 1e-12)).fillna(fill_na_value)\n",
    "\n",
    "\n",
    "def create_features_transactions(data):\n",
    "    \n",
    "    data['total_transactions'] = data['client_id'].map(transactions.groupby('client_id').size()).fillna(0)\n",
    "#     data['total_transactions_cards'] = get_feature_total(transactions, 'card_id')\n",
    "\n",
    "#     data['total_transaction_amount'] = data['client_id'].map(transactions.groupby('client_id')['tran_amt_rur'].sum()).fillna(0) # add monthly, daily, etc\n",
    "    data['mean_transaction_amt'] = get_feature_mean(transactions, 'tran_amt_rur', -1) # add monthly, daily, etc\n",
    "    data['std_transaction_amount'] = get_feature_std(transactions, 'tran_amt_rur', -1) # add monthly, daily, etc\n",
    "    \n",
    "    data['total_transactions_mcc_cd'] = get_feature_total(transactions, 'mcc_cd')\n",
    "    data['total_transactions_share_mcc_cd'] = (data['total_transactions_mcc_cd'] / data['total_transactions']).fillna(0)\n",
    "#     data['most_common_transactions_mcc_cd'] = get_feature_most_common(transactions, 'mcc_cd', -1)\n",
    "    \n",
    "    data['total_transactions_merchant_cd'] = get_feature_total(transactions, 'merchant_cd')\n",
    "    data['total_share_transactions_merchant_cd'] = (data['total_transactions_merchant_cd'] / data['total_transactions']).fillna(0)\n",
    "#     data['most_common_transactions_merchant_cd'] = get_feature_most_common(transactions, 'merchant_cd', -1)\n",
    "    \n",
    "    data['total_transactions_txn_city'] = get_feature_total(transactions, 'txn_city')\n",
    "    data['total_share_transactions_txn_city'] = (data['total_transactions_txn_city'] / data['total_transactions']).fillna(0)\n",
    "    data['most_common_transactions_txn_city'] = get_feature_most_common(transactions, 'txn_city', '<unknown>')\n",
    "    \n",
    "    data['total_transactions_tsp_name'] = get_feature_total(transactions, 'tsp_name')\n",
    "    data['total_share_transactions_tsp_name'] = (data['total_transactions_tsp_name'] / data['total_transactions']).fillna(0)\n",
    "    data['most_common_transactions_tsp_name'] = get_feature_most_common(transactions, 'tsp_name', '<unknown>')\n",
    "    \n",
    "#     data['total_transactions_txn_comment_1'] = get_feature_total(transactions, 'txn_comment_1')\n",
    "#     data['most_common_transactions_txn_comment_1'] = get_feature_most_common(transactions, 'txn_comment_1', '<unknown>')\n",
    "    \n",
    "#     data['total_transactions_txn_comment_2'] = get_feature_total(transactions, 'txn_comment_2')\n",
    "#     data['most_common_transactions_txn_comment_2'] = get_feature_most_common(transactions, 'txn_comment_2', '<unknown>')\n",
    "    \n",
    "#     data['total_transactions_brs_mcc_group'] = get_feature_total(transactions, 'brs_mcc_group')\n",
    "#     data['most_common_transactions_brs_mcc_group'] = get_feature_most_common(transactions, 'brs_mcc_group', '<unknown>')\n",
    "    \n",
    "#     data['total_transactions_brs_mcc_subgroup'] = get_feature_total(transactions, 'brs_mcc_subgroup')\n",
    "#     data['most_common_transactions_brs_mcc_subgroup'] = get_feature_most_common(transactions, 'brs_mcc_subgroup', '<unknown>')\n",
    "    return data\n",
    "\n",
    "\n",
    "def create_features_aum(data):\n",
    "    \n",
    "    data['total_aum'] = data['client_id'].map(assets_under_management.groupby('client_id').size()).fillna(0)\n",
    "    \n",
    "#     data['total_aum_product_code'] = get_feature_total(assets_under_management, 'product_code')\n",
    "#     data['most_common_aum_product_code'] = get_feature_most_common(assets_under_management, 'product_code', '<unknown>').value_counts()\n",
    "    \n",
    "    data['mean_aum_balance_rur_amt'] = get_feature_mean(assets_under_management, 'balance_rur_amt', -1)\n",
    "    data['std_aum_balance_rur_amt'] = get_feature_std(assets_under_management, 'balance_rur_amt', -1)\n",
    "    data['max_min_aum_balance_rur_amt'] = get_feature_max_min(assets_under_management, 'balance_rur_amt', -1)\n",
    "    \n",
    "    return data\n",
    "\n",
    "\n",
    "def create_features_balance(data):\n",
    "    \n",
    "    data['total_balance'] = data['client_id'].map(balance.groupby('client_id').size()).fillna(0)\n",
    "    \n",
    "#     data['total_balance_crncy_cd'] = get_feature_total(balance, 'crncy_cd')\n",
    "#     data['most_common_balance_crncy_cd'] = get_feature_most_common(balance, 'crncy_cd', -1)\n",
    "    \n",
    "#     data['total_balance_eop_bal_sum_rur'] = get_feature_total(balance, 'eop_bal_sum_rur')\n",
    "    data['total_share_balance_eop_bal_sum_rur'] = (get_feature_total(balance, 'eop_bal_sum_rur') / data['total_balance']).fillna(0)\n",
    "    data['mean_balance_eop_bal_sum_rur'] = get_feature_mean(balance, 'eop_bal_sum_rur', -9999)\n",
    "    data['std_balance_eop_bal_sum_rur'] = get_feature_std(balance, 'eop_bal_sum_rur', -9999)\n",
    "    \n",
    "    data['total_balance_min_bal_sum_rur'] = get_feature_total(balance, 'min_bal_sum_rur')\n",
    "    data['total_share_balance_min_bal_sum_rur'] = (data['total_balance_min_bal_sum_rur'] / data['total_balance']).fillna(0)\n",
    "    data['mean_balance_min_bal_sum_rur'] = get_feature_mean(balance, 'min_bal_sum_rur', -9999)\n",
    "    data['std_balance_min_bal_sum_rur'] = get_feature_std(balance, 'min_bal_sum_rur', -9999)\n",
    "    \n",
    "    data['total_balance_max_bal_sum_rur'] = get_feature_total(balance, 'max_bal_sum_rur')\n",
    "    data['total_share_balance_max_bal_sum_rur'] = (data['total_balance_max_bal_sum_rur'] / data['total_balance']).fillna(0)\n",
    "    data['mean_balance_max_bal_sum_rur'] = get_feature_mean(balance, 'max_bal_sum_rur', -9999)\n",
    "    data['std_balance_max_bal_sum_rur'] = get_feature_std(balance, 'max_bal_sum_rur', -9999)\n",
    "    \n",
    "    data['total_balance_avg_bal_sum_rur'] = get_feature_total(balance, 'avg_bal_sum_rur')\n",
    "    data['total_share_balance_avg_bal_sum_rur'] = (data['total_balance_avg_bal_sum_rur'] / data['total_balance']).fillna(0)\n",
    "    data['mean_balance_avg_bal_sum_rur'] = get_feature_mean(balance, 'avg_bal_sum_rur', -9999)\n",
    "#     data['std_balance_avg_bal_sum_rur'] = get_feature_std(balance, 'avg_bal_sum_rur', -9999)\n",
    "    data['max_min_balance_avg_bal_sum_rur'] = get_feature_max_min(balance, 'avg_bal_sum_rur', -9999)\n",
    "    \n",
    "#     data['total_balance_prod_cat_name'] = get_feature_total(balance, 'prod_cat_name')\n",
    "#     data['most_common_balance_prod_cat_name'] = get_feature_most_common(balance, 'prod_cat_name', '<unknown>')\n",
    "    \n",
    "    data['total_balance_prod_group_name'] = get_feature_total(balance, 'prod_group_name')\n",
    "#     data['most_common_balance_prod_group_name'] = get_feature_most_common(balance, 'prod_group_name', '<unknown>')\n",
    "\n",
    "    return data\n",
    "\n",
    "\n",
    "def create_features_client(data):\n",
    "    \n",
    "    data = data.merge(client, on='client_id')\n",
    "#     data['match_client_region-region_cd'] = (data['client_region'] == data['region_cd']).astype(int)\n",
    "    data = data.drop(['client_citizenship', 'client_job_type', 'client_gender'], axis=1)\n",
    "    \n",
    "    return data\n",
    "\n",
    "\n",
    "def create_features_campaigns(data):\n",
    "    \n",
    "    data['total_campaigns'] = data['client_id'].map(campaigns.groupby('client_id').size()).fillna(0)\n",
    "    \n",
    "#     data['total_campaigns_agr_flg'] = get_feature_total(campaigns, 'agr_flg')\n",
    "    data['mean_campaigns_agr_flg'] = get_feature_mean(campaigns, 'agr_flg', -1)\n",
    "    \n",
    "#     data['total_campaigns_otkaz'] = get_feature_total(campaigns, 'otkaz')\n",
    "    data['mean_campaigns_otkaz'] = get_feature_mean(campaigns, 'otkaz', -1)\n",
    "    \n",
    "#     data['total_campaigns_dumaet'] = get_feature_total(campaigns, 'dumaet')\n",
    "    data['mean_campaigns_dumaet'] = get_feature_mean(campaigns, 'dumaet', -1)\n",
    "    \n",
    "#     data['total_campaigns_ring_up_flg'] = get_feature_total(campaigns, 'ring_up_flg')\n",
    "#     data['most_common_campaigns_ring_up_flg'] = get_feature_most_common(campaigns, 'ring_up_flg', -1)\n",
    "    \n",
    "#     data['total_campaigns_count_comm'] = get_feature_total(campaigns, 'count_comm')\n",
    "#     data['most_common_campaigns_count_comm'] = get_feature_most_common(campaigns, 'count_comm', -1)\n",
    "    \n",
    "#     data['total_campaigns_channel'] = get_feature_total(campaigns, 'channel')\n",
    "#     data['most_common_campaigns_channel'] = get_feature_most_common(campaigns, 'channel', '<unknown>')\n",
    "    \n",
    "#     data['total_campaigns_prod'] = get_feature_total(campaigns, 'prod')\n",
    "    data['most_common_campaigns_prod'] = get_feature_most_common(campaigns, 'prod', '<unknown>')\n",
    "    \n",
    "#     data['diff_campaigns_otkaz-agr_flg'] = get_feature_diff(campaigns, 'otkaz', 'agr_flg', -999)\n",
    "    \n",
    "    data['rate_campaigns_otkaz-count_comm'] = get_feature_rate(campaigns, 'otkaz', 'count_comm', -999)\n",
    "    data['rate_campaigns_agr_flg-count_comm'] = get_feature_rate(campaigns, 'agr_flg', 'count_comm', -999)\n",
    "    data['rate_campaigns_not_ring_up_flg-count_comm'] = get_feature_rate(campaigns, 'not_ring_up_flg', 'count_comm', -999)\n",
    "    data['rate_campaigns_ring_up_flg-count_comm'] = get_feature_rate(campaigns, 'ring_up_flg', 'count_comm', -999)\n",
    "    \n",
    "    return data\n",
    "\n",
    "\n",
    "def create_features_deals(data):\n",
    "    \n",
    "    data['total_deals'] = data['client_id'].map(deals.groupby('client_id').size()).fillna(0)\n",
    "    \n",
    "#     data['total_deals_crncy_cd'] = get_feature_total(deals, 'crncy_cd')\n",
    "#     data['most_common_deals_crncy_cd'] = get_feature_most_common(deals, 'crncy_cd', -1)\n",
    "    \n",
    "    data['total_deals_agrmnt_rate_active'] = get_feature_total(deals, 'agrmnt_rate_active')\n",
    "    data['max_deals_agrmnt_rate_active'] = get_feature_max(deals, 'agrmnt_rate_active', -1)\n",
    "    \n",
    "#     data['total_deals_agrmnt_rate_passive'] = get_feature_total(deals, 'agrmnt_rate_passive')\n",
    "    data['max_deals_agrmnt_rate_passive'] = get_feature_max(deals, 'agrmnt_rate_passive', -1)\n",
    "    \n",
    "    data['total_deals_agrmnt_sum_rur'] = get_feature_total(deals, 'agrmnt_sum_rur')\n",
    "    data['mean_deals_agrmnt_sum_rur'] = get_feature_mean(deals, 'agrmnt_sum_rur', -1)\n",
    "    data['std_deals_agrmnt_sum_rur'] = get_feature_std(deals, 'agrmnt_sum_rur', -1)\n",
    "    \n",
    "    data['total_deals_prod_type_name'] = get_feature_total(deals, 'prod_type_name')\n",
    "    data['most_common_deals_prod_type_name'] = get_feature_most_common(deals, 'prod_type_name', '<unknown>')\n",
    "    \n",
    "    data['total_deals_argmnt_close_start_days'] = get_feature_total(deals, 'argmnt_close_start_days')\n",
    "    data['max_deals_argmnt_close_start_days'] = get_feature_max(deals, 'argmnt_close_start_days', -1)\n",
    "#     data['min_deals_argmnt_close_start_days'] = get_feature_min(deals, 'argmnt_close_start_days', -1)\n",
    "    data['mean_deals_argmnt_close_start_days'] = get_feature_mean(deals, 'argmnt_close_start_days', -1)\n",
    "    data['std_deals_argmnt_close_start_days'] = get_feature_std(deals, 'argmnt_close_start_days', -1)\n",
    "\n",
    "    return data\n",
    "\n",
    "\n",
    "def create_features_payments(data):\n",
    "    \n",
    "    data['total_payments'] = data['client_id'].map(payments.groupby('client_id').size()).fillna(0)\n",
    "    \n",
    "    data['mean_payments_sum_rur'] = get_feature_mean(payments, 'sum_rur', -1)\n",
    "    data['std_payments_sum_rur'] = get_feature_std(payments, 'sum_rur', -1)\n",
    "    data['min_payments_sum_rur'] = get_feature_min(payments, 'sum_rur', -1)\n",
    "    data['max_payments_sum_rur'] = get_feature_max(payments, 'sum_rur', -1)\n",
    "    \n",
    "#     data['total_payments_pmnts_name'] = get_feature_total(payments, 'pmnts_name')\n",
    "#     data['most_common_payments_pmnts_name'] = get_feature_most_common(payments, 'pmnts_name', '<unknown>')\n",
    "    \n",
    "    # payments \n",
    "#     data['last_known_salary'] = data['client_id'].map(payments.groupby('client_id').apply(lambda x: x['sum_rur'].iloc[0])).fillna(-1)\n",
    "#     data['total_recieved_salary'] = data['client_id'].map(payments.groupby('client_id').apply(lambda x: x['sum_rur'].sum())).fillna(-1)\n",
    "    \n",
    "    data['timedelta_payments_day_dt'] = get_feature_timedelta(payments, 'day_dt')\n",
    "    \n",
    "    return data\n",
    "\n",
    "\n",
    "def create_features_appl(data):\n",
    "    \n",
    "    data['total_appl'] = data['client_id'].map(appl.groupby('client_id').size()).fillna(0)\n",
    "    \n",
    "#     data['total_appl_prod_group_name'] = get_feature_total(appl, 'appl_prod_group_name')\n",
    "#     data['most_common_appl_prod_group_name'] = get_feature_most_common(appl, 'appl_prod_group_name', '<unknown>')\n",
    "    \n",
    "    data['total_appl_prod_type_name'] = get_feature_total(appl, 'appl_prod_type_name')\n",
    "    data['most_common_appl_prod_type_name'] = get_feature_most_common(appl, 'appl_prod_type_name', '<unknown>')\n",
    "    \n",
    "#     data['total_appl_stts_name_dc'] = get_feature_total(appl, 'appl_stts_name_dc')\n",
    "#     data['most_common_appl_stts_name_dc'] = get_feature_most_common(appl, 'appl_stts_name_dc', '<unknown>')\n",
    "    \n",
    "#     data['total_appl_sale_channel_name'] = get_feature_total(appl, 'appl_sale_channel_name')\n",
    "#     data['most_common_appl_sale_channel_name'] = get_feature_most_common(appl, 'appl_sale_channel_name', '<unknown>')\n",
    "    \n",
    "    data['timedelta_appl_month_end_dt'] = get_feature_timedelta(appl, 'month_end_dt')\n",
    "    \n",
    "    return data\n",
    "\n",
    "\n",
    "def create_features_funnel(data):\n",
    "    \n",
    "    return data"
   ]
  },
  {
   "cell_type": "code",
   "execution_count": 8,
   "id": "23ee76be",
   "metadata": {},
   "outputs": [
    {
     "name": "stderr",
     "output_type": "stream",
     "text": [
      "/opt/conda/lib/python3.7/site-packages/decorator.py:231: DtypeWarning: Columns (10) have mixed types.Specify dtype option on import or set low_memory=False.\n",
      "  return caller(func, *(extras + args), **kw)\n"
     ]
    },
    {
     "name": "stdout",
     "output_type": "stream",
     "text": [
      "CPU times: user 32.7 s, sys: 797 ms, total: 33.5 s\n",
      "Wall time: 33.4 s\n"
     ]
    }
   ],
   "source": [
    "%%time\n",
    "# create features\n",
    "\n",
    "funnel = pd.read_csv(INPUT_PATH / 'funnel.csv')\n",
    "\n",
    "transactions = pd.read_csv(INPUT_PATH / 'trxn.csv')\n",
    "dict_merchant_category_code = pd.read_csv(INPUT_PATH / 'dict_mcc.csv')\n",
    "\n",
    "transactions['mcc_cd'] = transactions['mcc_cd'].fillna(-2)\n",
    "transactions['txn_city'] = transactions['txn_city'].fillna('<UNK>')\n",
    "transactions['tsp_name'] = transactions['tsp_name'].fillna('<UNK>')\n",
    "transactions['txn_comment_2'] = transactions['txn_comment_2'].fillna('<UNK>')\n",
    "transactions = transactions.merge(dict_merchant_category_code, on='mcc_cd', how='left')\n",
    "transactions['brs_mcc_group'] = transactions['brs_mcc_group'].fillna('<UNK>')\n",
    "transactions['brs_mcc_subgroup'] = transactions['brs_mcc_subgroup'].fillna('<UNK>')\n",
    "\n",
    "assets_under_management = pd.read_csv(INPUT_PATH / 'aum.csv')\n",
    "\n",
    "balance = pd.read_csv(INPUT_PATH / 'balance.csv')\n",
    "balance['crncy_cd'] = balance['crncy_cd'].fillna(-2)\n",
    "balance['prod_cat_name'] = balance['prod_cat_name'].fillna('<UNK>')\n",
    "balance['prod_group_name'] = balance['prod_group_name'].fillna('<UNK>')\n",
    "\n",
    "client = pd.read_csv(INPUT_PATH / 'client.csv')\n",
    "client = client.rename(columns={\n",
    "    'gender': 'client_gender',\n",
    "    'age': 'client_age',\n",
    "    'region': 'client_region',\n",
    "    'city': 'client_city',\n",
    "    'citizenship': 'client_citizenship',\n",
    "    'education': 'client_education',\n",
    "    'job_type': 'client_job_type'\n",
    "})\n",
    "\n",
    "campaigns = pd.read_csv(INPUT_PATH / 'com.csv')\n",
    "campaigns['prod'] = campaigns['prod'].fillna('<UNK>')\n",
    "\n",
    "deals = pd.read_csv(INPUT_PATH / 'deals.csv')\n",
    "deals['crncy_cd'] = deals['crncy_cd'].fillna(-2)\n",
    "deals['agrmnt_rate_active'] = deals['agrmnt_rate_active'].fillna(-2)\n",
    "deals['agrmnt_rate_passive'] = deals['agrmnt_rate_passive'].fillna(-2)\n",
    "deals['agrmnt_sum_rur'] = deals['agrmnt_sum_rur'].fillna(-2)\n",
    "deals['prod_type_name'] = deals['prod_type_name'].fillna('<UNK>')\n",
    "deals['argmnt_close_start_days'] = (pd.to_datetime(deals['agrmnt_close_dt']) - pd.to_datetime(deals['agrmnt_start_dt'])).dt.days.fillna(-2)\n",
    "\n",
    "payments = pd.read_csv(INPUT_PATH / 'payments.csv')\n",
    "payments['day_dt'] = pd.to_datetime(payments['day_dt'])\n",
    "\n",
    "appl = pd.read_csv(INPUT_PATH / 'appl.csv')\n",
    "appl['appl_stts_name_dc'] = appl['appl_stts_name_dc'].fillna('<UNK>')\n",
    "appl['appl_sale_channel_name'] = appl['appl_sale_channel_name'].fillna('<UNK>')\n",
    "appl['month_end_dt'] = pd.to_datetime(appl['month_end_dt'])\n",
    "\n",
    "data = funnel.copy()\n",
    "\n",
    "data = create_features_transactions(data)\n",
    "data = create_features_aum(data)\n",
    "data = create_features_balance(data)\n",
    "data = create_features_client(data)\n",
    "data = create_features_campaigns(data)\n",
    "data = create_features_deals(data)\n",
    "data = create_features_payments(data)\n",
    "data = create_features_appl(data)\n",
    "data = create_features_funnel(data)"
   ]
  },
  {
   "cell_type": "code",
   "execution_count": 213,
   "id": "79359cfd",
   "metadata": {},
   "outputs": [],
   "source": [
    "def get_feature_time_since_last(df, col_name):\n",
    "    max_col_time = df[col_name].max()\n",
    "    return data['client_id'].map((max_col_time - df.groupby('client_id')[col_name].max()).dt.seconds / 3600).fillna(-1)\n",
    "\n",
    "\n",
    "def get_feature_time_since_first(df, col_name):\n",
    "    max_col_time = df[col_name].max()\n",
    "    return data['client_id'].map((max_col_time - df.groupby('client_id')[col_name].min()).dt.seconds / 3600).fillna(-1)\n",
    "\n",
    "\n",
    "def get_feature_days_since_last(df, col_name):\n",
    "    max_col_time = df[col_name].max()\n",
    "    return data['client_id'].map((max_col_time - df.groupby('client_id')[col_name].max()).dt.days).fillna(-1)\n",
    "\n",
    "\n",
    "def get_feature_days_since_first(df, col_name):\n",
    "    max_col_time = df[col_name].max()\n",
    "    return data['client_id'].map((max_col_time - df.groupby('client_id')[col_name].min()).dt.days).fillna(-1)"
   ]
  },
  {
   "cell_type": "code",
   "execution_count": 9,
   "id": "e7b41ade",
   "metadata": {},
   "outputs": [
    {
     "data": {
      "image/png": "[encoded data removed]",
      "text/plain": [
       "<Figure size 432x288 with 1 Axes>"
      ]
     },
     "metadata": {
      "needs_background": "light"
     },
     "output_type": "display_data"
    }
   ],
   "source": [
    "education_barplot = sns.barplot(x='client_education', y='sale_flg', data=data)\n",
    "for item in education_barplot.get_xticklabels():\n",
    "    item.set_rotation(80)\n",
    "plt.show()"
   ]
  },
  {
   "cell_type": "code",
   "execution_count": 10,
   "id": "b6333a06",
   "metadata": {},
   "outputs": [
    {
     "data": {
      "text/plain": [
       "0    237\n",
       "1      1\n",
       "Name: sale_flg, dtype: int64"
      ]
     },
     "execution_count": 10,
     "metadata": {},
     "output_type": "execute_result"
    }
   ],
   "source": [
    "data[data['client_education'] == 'PRIMARY_PROFESSIONAL']['sale_flg'].value_counts()"
   ]
  },
  {
   "cell_type": "raw",
   "id": "8945c145",
   "metadata": {},
   "source": [
    "txn_city_vc = transactions['txn_city'].value_counts()[transactions['txn_city'].value_counts() > 1000]\n",
    "txn_city_vc[sorted(txn_city_vc.index)][49:99]"
   ]
  },
  {
   "cell_type": "raw",
   "id": "73e65233",
   "metadata": {},
   "source": [
    "print(transactions['txn_city'].nunique())\n",
    "\n",
    "transactions['txn_city'] = transactions['txn_city'].replace({\n",
    "    'MOSKVA': 'MOSCOW',\n",
    "    'KHMANSIYSK': 'KHANTYMANSIJ',\n",
    "    'KHANTYMANSIY': 'KHANTYMANSIJ',\n",
    "    'KHANTYMANSIISK': 'KHANTYMANSIJ',\n",
    "    'HANTIMANSIYSK': 'KHANTYMANSIJ',\n",
    "    'HANTY MANSIYSK': 'KHANTYMANSIJ',\n",
    "    'HANTYMANSIYSK': 'KHANTYMANSIJ',\n",
    "    'URAY': 'URAJ',\n",
    "    'NIZHNEVARTOVSK': 'NIZHNEVARTOVS',\n",
    "    'TYUMEN': 'TJUMEN',\n",
    "    'SANKTPETERBURG': 'SANKTPETERBU',\n",
    "    'SOVETSKIY': 'SOVETSKIJ',\n",
    "    'ASTRAHAN': 'ASTRAKHAN',\n",
    "    'BELOYARSKIY': 'BELOYARSKIJ',\n",
    "    'BERYOZOVO': 'BEREZOVO',\n",
    "    'BLAGOVESHCHEN': 'BLAGOVESHHENS',\n",
    "    'FEDOROVSKIY': 'FEDOROVSKIJ',\n",
    "    'G MOSKVA': 'MOSCOW',\n",
    "    'GPRAVDINSK': 'GORNOPRAVDINS',\n",
    "    'ISHIMBAY': 'ISHIMBAJ',\n",
    "    'KOGALIM': 'KOGALYM',\n",
    "})\n",
    "\n",
    "print(transactions['txn_city'].nunique())"
   ]
  },
  {
   "cell_type": "code",
   "execution_count": 58,
   "id": "e078a3b1",
   "metadata": {},
   "outputs": [
    {
     "data": {
      "text/plain": [
       "(-1.0, 30.0]    2587\n",
       "(33.0, 36.0]    2343\n",
       "(49.0, 54.0]    2278\n",
       "(36.0, 39.0]    2256\n",
       "(54.0, 59.0]    2205\n",
       "(45.0, 49.0]    2119\n",
       "(30.0, 33.0]    2051\n",
       "(39.0, 42.0]    2005\n",
       "(59.0, 66.0]    1876\n",
       "(42.0, 45.0]    1775\n",
       "Name: bins_10_client_age, dtype: int64"
      ]
     },
     "execution_count": 58,
     "metadata": {},
     "output_type": "execute_result"
    }
   ],
   "source": [
    "age_bins = [data['client_age'].fillna(-1).quantile(x) for x in [0.0, 0.1, 0.2, 0.3, 0.4, 0.5, 0.6, 0.7, 0.8, 0.9, 1.0]]\n",
    "data['bins_10_client_age'] = pd.cut(data['client_age'], age_bins).astype(str)\n",
    "data['bins_10_client_age'].value_counts()"
   ]
  },
  {
   "cell_type": "code",
   "execution_count": 59,
   "id": "1ce76090",
   "metadata": {},
   "outputs": [
    {
     "data": {
      "text/plain": [
       "33.0-NaN                    470\n",
       "35.0-NaN                    467\n",
       "34.0-NaN                    448\n",
       "37.0-NaN                    444\n",
       "36.0-NaN                    439\n",
       "                           ... \n",
       "56.0-SCHOLASTIC_DEGREE        1\n",
       "62.0-SCHOLASTIC_DEGREE        1\n",
       "52.0-TWO_AND_MORE_HIGHER      1\n",
       "56.0-TWO_AND_MORE_HIGHER      1\n",
       "22.0-HIGHER_PROFESSIONAL      1\n",
       "Name: comb_client_age-education, Length: 317, dtype: int64"
      ]
     },
     "execution_count": 59,
     "metadata": {},
     "output_type": "execute_result"
    }
   ],
   "source": [
    "data['comb_client_age-education'] = data['client_age'].fillna(-1).astype(str) + '-' + data['client_education'].fillna('NaN')\n",
    "data['comb_client_age-education'].value_counts()"
   ]
  },
  {
   "cell_type": "code",
   "execution_count": 61,
   "id": "ca3ead61",
   "metadata": {},
   "outputs": [
    {
     "data": {
      "text/plain": [
       "(-1.0, 30.0]-NaN                  1580\n",
       "(33.0, 36.0]-NaN                  1354\n",
       "(36.0, 39.0]-NaN                  1256\n",
       "(54.0, 59.0]-NaN                  1251\n",
       "(49.0, 54.0]-NaN                  1212\n",
       "                                  ... \n",
       "(36.0, 39.0]-SCHOLASTIC_DEGREE       2\n",
       "(45.0, 49.0]-SCHOLASTIC_DEGREE       2\n",
       "(30.0, 33.0]-SCHOLASTIC_DEGREE       1\n",
       "(42.0, 45.0]-SCHOLASTIC_DEGREE       1\n",
       "(54.0, 59.0]-SCHOLASTIC_DEGREE       1\n",
       "Name: comb_bins_10_client_age-education, Length: 79, dtype: int64"
      ]
     },
     "execution_count": 61,
     "metadata": {},
     "output_type": "execute_result"
    }
   ],
   "source": [
    "data['comb_bins_10_client_age-education'] = data['bins_10_client_age'] + '-' + data['client_education'].fillna('NaN')\n",
    "data['comb_bins_10_client_age-education'].value_counts()"
   ]
  },
  {
   "cell_type": "code",
   "execution_count": 66,
   "id": "5b975bf7",
   "metadata": {},
   "outputs": [
    {
     "data": {
      "text/plain": [
       "NaN-14.0                    3505\n",
       "NaN-13.0                    3258\n",
       "NaN-3.0                     2202\n",
       "HIGHER_PROFESSIONAL-1.0     1168\n",
       "MIDDLE_PROFESSIONAL-3.0     1116\n",
       "                            ... \n",
       "TWO_AND_MORE_HIGHER-12.0       1\n",
       "TWO_AND_MORE_HIGHER-6.0        1\n",
       "SCHOLASTIC_DEGREE-2.0          1\n",
       "TWO_AND_MORE_HIGHER-15.0       1\n",
       "SCHOLASTIC_DEGREE-16.0         1\n",
       "Name: comb_client_education-segment, Length: 104, dtype: int64"
      ]
     },
     "execution_count": 66,
     "metadata": {},
     "output_type": "execute_result"
    }
   ],
   "source": [
    "data['comb_client_education-segment'] = data['client_education'].fillna('NaN') + '-' + data['client_segment'].astype(str)\n",
    "data['comb_client_education-segment'].value_counts()"
   ]
  },
  {
   "cell_type": "code",
   "execution_count": 77,
   "id": "a5b6907e",
   "metadata": {},
   "outputs": [
    {
     "data": {
      "text/plain": [
       "Timestamp('2019-08-31 23:58:15')"
      ]
     },
     "execution_count": 77,
     "metadata": {},
     "output_type": "execute_result"
    }
   ],
   "source": [
    "transactions['tran_time'] = pd.to_datetime(transactions['tran_time'])\n",
    "max_transactions_tran_time = \n",
    "max_transactions_tran_time"
   ]
  },
  {
   "cell_type": "code",
   "execution_count": 91,
   "id": "39a4080b",
   "metadata": {},
   "outputs": [
    {
     "data": {
      "text/plain": [
       "-1.0                  10262\n",
       "23.970833333333335     1890\n",
       "10.272222222222222        4\n",
       "11.445833333333333        4\n",
       "6.320833333333334         3\n",
       "                      ...  \n",
       "6.876666666666667         1\n",
       "9.571111111111112         1\n",
       "5.6025                    1\n",
       "13.585277777777778        1\n",
       "4.938611111111111         1\n",
       "Name: time_since_last_transactions_tran_time, Length: 8651, dtype: int64"
      ]
     },
     "execution_count": 91,
     "metadata": {},
     "output_type": "execute_result"
    }
   ],
   "source": [
    "data['time_since_last_transactions_tran_time'] = get_feature_time_since_last(transactions, 'tran_time')\n",
    "data['time_since_last_transactions_tran_time'].value_counts()"
   ]
  },
  {
   "cell_type": "code",
   "execution_count": 92,
   "id": "6cd7f042",
   "metadata": {},
   "outputs": [
    {
     "data": {
      "text/plain": [
       "-1.0                  10262\n",
       "23.970833333333335     2156\n",
       "8.039722222222222         4\n",
       "6.635555555555555         4\n",
       "9.370555555555555         4\n",
       "                      ...  \n",
       "23.942222222222224        1\n",
       "13.679722222222223        1\n",
       "10.241944444444444        1\n",
       "17.074444444444445        1\n",
       "11.488055555555556        1\n",
       "Name: time_since_first_transactions_tran_time, Length: 8367, dtype: int64"
      ]
     },
     "execution_count": 92,
     "metadata": {},
     "output_type": "execute_result"
    }
   ],
   "source": [
    "data['time_since_first_transactions_tran_time'] = get_feature_time_since_first(transactions, 'tran_time')\n",
    "data['time_since_first_transactions_tran_time'].value_counts()"
   ]
  },
  {
   "cell_type": "code",
   "execution_count": 94,
   "id": "1150fc17",
   "metadata": {},
   "outputs": [
    {
     "data": {
      "text/plain": [
       "0.0                    11529\n",
       "0.02111111111111086        4\n",
       "1.131111111111112          3\n",
       "2.3919444444444444         3\n",
       "1.0969444444444445         3\n",
       "                       ...  \n",
       "-0.8888888888888875        1\n",
       "3.856666666666667          1\n",
       "16.228611111111114         1\n",
       "4.522500000000001          1\n",
       "10.149444444444445         1\n",
       "Name: diff_time_since_first_last_transactions_tran_time, Length: 9752, dtype: int64"
      ]
     },
     "execution_count": 94,
     "metadata": {},
     "output_type": "execute_result"
    }
   ],
   "source": [
    "data['diff_time_since_first_last_transactions_tran_time'] = data['time_since_first_transactions_tran_time'] - data['time_since_last_transactions_tran_time']\n",
    "data['diff_time_since_first_last_transactions_tran_time'].value_counts()"
   ]
  },
  {
   "cell_type": "raw",
   "id": "a9d248b8",
   "metadata": {},
   "source": [
    "address_mapping = pd.read_csv('address_mapping.csv').rename(columns={\n",
    "    'name': 'txn_city',\n",
    "    'lat': 'txn_city_lat',\n",
    "    'long': 'txn_city_long',\n",
    "    'corrected_name': 'txn_city_corrected_name'\n",
    "})\n",
    "address_mapping = address_mapping.groupby('txn_city').first()\n",
    "address_mapping['txn_city'] = address_mapping.index\n",
    "address_mapping = address_mapping.reset_index(drop=True)\n",
    "address_mapping.to_csv('address_mapping_correct.csv', index=False)"
   ]
  },
  {
   "cell_type": "code",
   "execution_count": 131,
   "id": "85d4f072",
   "metadata": {},
   "outputs": [
    {
     "data": {
      "text/html": [
       "<div>\n",
       "<style scoped>\n",
       "    .dataframe tbody tr th:only-of-type {\n",
       "        vertical-align: middle;\n",
       "    }\n",
       "\n",
       "    .dataframe tbody tr th {\n",
       "        vertical-align: top;\n",
       "    }\n",
       "\n",
       "    .dataframe thead th {\n",
       "        text-align: right;\n",
       "    }\n",
       "</style>\n",
       "<table border=\"1\" class=\"dataframe\">\n",
       "  <thead>\n",
       "    <tr style=\"text-align: right;\">\n",
       "      <th></th>\n",
       "      <th>txn_city_corrected_name</th>\n",
       "      <th>txn_city_lat</th>\n",
       "      <th>txn_city_long</th>\n",
       "      <th>txn_city</th>\n",
       "    </tr>\n",
       "  </thead>\n",
       "  <tbody>\n",
       "    <tr>\n",
       "      <th>0</th>\n",
       "      <td>Mytishchi</td>\n",
       "      <td>55.9248562</td>\n",
       "      <td>37.7552338</td>\n",
       "      <td>. MYTISHCHIN</td>\n",
       "    </tr>\n",
       "    <tr>\n",
       "      <th>1</th>\n",
       "      <td>UNIT 101</td>\n",
       "      <td>33.1357</td>\n",
       "      <td>-117.2220905</td>\n",
       "      <td>.SU</td>\n",
       "    </tr>\n",
       "    <tr>\n",
       "      <th>2</th>\n",
       "      <td>Russia</td>\n",
       "      <td>61.52401</td>\n",
       "      <td>105.318756</td>\n",
       "      <td>A</td>\n",
       "    </tr>\n",
       "    <tr>\n",
       "      <th>3</th>\n",
       "      <td>A.G.KOLODISCH</td>\n",
       "      <td>-1.0</td>\n",
       "      <td>-1.0</td>\n",
       "      <td>A.G.KOLODISCH</td>\n",
       "    </tr>\n",
       "    <tr>\n",
       "      <th>4</th>\n",
       "      <td>A.G.SEMKOVO</td>\n",
       "      <td>-1.0</td>\n",
       "      <td>-1.0</td>\n",
       "      <td>A.G.SEMKOVO</td>\n",
       "    </tr>\n",
       "    <tr>\n",
       "      <th>...</th>\n",
       "      <td>...</td>\n",
       "      <td>...</td>\n",
       "      <td>...</td>\n",
       "      <td>...</td>\n",
       "    </tr>\n",
       "    <tr>\n",
       "      <th>13578</th>\n",
       "      <td>Bykovo</td>\n",
       "      <td>55.6222772</td>\n",
       "      <td>38.0641286</td>\n",
       "      <td>ZYKOVO</td>\n",
       "    </tr>\n",
       "    <tr>\n",
       "      <th>13579</th>\n",
       "      <td>Zyryanka</td>\n",
       "      <td>65.767376</td>\n",
       "      <td>150.841238</td>\n",
       "      <td>ZYRYANKA</td>\n",
       "    </tr>\n",
       "    <tr>\n",
       "      <th>13580</th>\n",
       "      <td>Zyukayka</td>\n",
       "      <td>58.2084997</td>\n",
       "      <td>54.70734299999999</td>\n",
       "      <td>ZYUKAJKA</td>\n",
       "    </tr>\n",
       "    <tr>\n",
       "      <th>13581</th>\n",
       "      <td>Zyukayka</td>\n",
       "      <td>58.2084997</td>\n",
       "      <td>54.70734299999999</td>\n",
       "      <td>ZYUKAYKA</td>\n",
       "    </tr>\n",
       "    <tr>\n",
       "      <th>13582</th>\n",
       "      <td>Zyuz'ki</td>\n",
       "      <td>54.6904209</td>\n",
       "      <td>31.1269325</td>\n",
       "      <td>ZYUZKI</td>\n",
       "    </tr>\n",
       "  </tbody>\n",
       "</table>\n",
       "<p>13583 rows × 4 columns</p>\n",
       "</div>"
      ],
      "text/plain": [
       "      txn_city_corrected_name  txn_city_lat     txn_city_long       txn_city\n",
       "0                   Mytishchi    55.9248562        37.7552338   . MYTISHCHIN\n",
       "1                    UNIT 101       33.1357      -117.2220905            .SU\n",
       "2                      Russia      61.52401        105.318756              A\n",
       "3               A.G.KOLODISCH          -1.0              -1.0  A.G.KOLODISCH\n",
       "4                 A.G.SEMKOVO          -1.0              -1.0    A.G.SEMKOVO\n",
       "...                       ...           ...               ...            ...\n",
       "13578                  Bykovo    55.6222772        38.0641286         ZYKOVO\n",
       "13579                Zyryanka     65.767376        150.841238       ZYRYANKA\n",
       "13580                Zyukayka    58.2084997 54.70734299999999       ZYUKAJKA\n",
       "13581                Zyukayka    58.2084997 54.70734299999999       ZYUKAYKA\n",
       "13582                 Zyuz'ki    54.6904209        31.1269325         ZYUZKI\n",
       "\n",
       "[13583 rows x 4 columns]"
      ]
     },
     "execution_count": 131,
     "metadata": {},
     "output_type": "execute_result"
    }
   ],
   "source": [
    "address_mapping = pd.read_csv('address_mapping_correct.csv')\n",
    "address_mapping"
   ]
  },
  {
   "cell_type": "code",
   "execution_count": 132,
   "id": "06bc7b7e",
   "metadata": {},
   "outputs": [
    {
     "data": {
      "text/plain": [
       "(3035705, 13)"
      ]
     },
     "execution_count": 132,
     "metadata": {},
     "output_type": "execute_result"
    }
   ],
   "source": [
    "transactions.shape"
   ]
  },
  {
   "cell_type": "code",
   "execution_count": 133,
   "id": "c59365c4",
   "metadata": {},
   "outputs": [
    {
     "data": {
      "text/plain": [
       "(3035705, 16)"
      ]
     },
     "execution_count": 133,
     "metadata": {},
     "output_type": "execute_result"
    }
   ],
   "source": [
    "transactions.merge(address_mapping, on='txn_city', how='left').shape"
   ]
  },
  {
   "cell_type": "code",
   "execution_count": 134,
   "id": "2aa71257",
   "metadata": {},
   "outputs": [],
   "source": [
    "transactions = transactions.merge(address_mapping, on='txn_city', how='left')"
   ]
  },
  {
   "cell_type": "code",
   "execution_count": 137,
   "id": "63be93d7",
   "metadata": {},
   "outputs": [
    {
     "data": {
      "text/plain": [
       "0.0      10264\n",
       "2.0       1765\n",
       "1.0       1297\n",
       "3.0       1215\n",
       "4.0        964\n",
       "         ...  \n",
       "79.0         1\n",
       "73.0         1\n",
       "68.0         1\n",
       "63.0         1\n",
       "116.0        1\n",
       "Name: total_transactions_txn_city_corrected_name, Length: 78, dtype: int64"
      ]
     },
     "execution_count": 137,
     "metadata": {},
     "output_type": "execute_result"
    }
   ],
   "source": [
    "data['total_transactions_txn_city_corrected_name'] = get_feature_total(transactions, 'txn_city_corrected_name')\n",
    "data['total_transactions_txn_city_corrected_name'].value_counts()"
   ]
  },
  {
   "cell_type": "code",
   "execution_count": 143,
   "id": "5d4e07a5",
   "metadata": {},
   "outputs": [
    {
     "data": {
      "text/plain": [
       "0           <unknown>\n",
       "1           <unknown>\n",
       "2         N. NOVGOROD\n",
       "3           RADUZHNYJ\n",
       "4           <unknown>\n",
       "             ...     \n",
       "21493    NEFTEYUGANSK\n",
       "21494       <unknown>\n",
       "21495        KONAKOVO\n",
       "21496          MOSCOW\n",
       "21497          MOSCOW\n",
       "Name: most_common_transactions_txn_city, Length: 21498, dtype: object"
      ]
     },
     "execution_count": 143,
     "metadata": {},
     "output_type": "execute_result"
    }
   ],
   "source": [
    "data['most_common_transactions_txn_city']"
   ]
  },
  {
   "cell_type": "code",
   "execution_count": 153,
   "id": "22531dd8",
   "metadata": {},
   "outputs": [
    {
     "data": {
      "text/plain": [
       "13584"
      ]
     },
     "execution_count": 153,
     "metadata": {},
     "output_type": "execute_result"
    }
   ],
   "source": [
    "len(transactions[['txn_city', 'txn_city_lat']].groupby('txn_city').first().to_dict()['txn_city_lat'])"
   ]
  },
  {
   "cell_type": "code",
   "execution_count": 154,
   "id": "474ae14b",
   "metadata": {},
   "outputs": [
    {
     "data": {
      "text/plain": [
       "0              NaN\n",
       "1              NaN\n",
       "2       56.3268684\n",
       "3        62.103942\n",
       "4              NaN\n",
       "           ...    \n",
       "21493   61.0952059\n",
       "21494          NaN\n",
       "21495   56.6965089\n",
       "21496    55.755826\n",
       "21497    55.755826\n",
       "Name: most_common_transactions_txn_city, Length: 21498, dtype: float64"
      ]
     },
     "execution_count": 154,
     "metadata": {},
     "output_type": "execute_result"
    }
   ],
   "source": [
    "data['most_common_transactions_txn_city'].map(transactions[['txn_city', 'txn_city_lat']].groupby('txn_city').first().to_dict()['txn_city_lat'])"
   ]
  },
  {
   "cell_type": "code",
   "execution_count": 157,
   "id": "5db05ebc",
   "metadata": {},
   "outputs": [],
   "source": [
    "payments['day_dt'] = pd.to_datetime(payments['day_dt'])\n",
    "payments = payments.sort_values(by='day_dt', ascending=False).reset_index(drop=True)"
   ]
  },
  {
   "cell_type": "code",
   "execution_count": 161,
   "id": "76cd6eb1",
   "metadata": {},
   "outputs": [
    {
     "data": {
      "text/plain": [
       "-99999.0    12544\n",
       "0.0           534\n",
       "1214.0         16\n",
       "-1214.0        15\n",
       "-2428.0        15\n",
       "            ...  \n",
       "-8708.0         1\n",
       "148232.0        1\n",
       "1233.0          1\n",
       "53678.0         1\n",
       "15407.0         1\n",
       "Name: diff_salary_increasted_client, Length: 7586, dtype: int64"
      ]
     },
     "execution_count": 161,
     "metadata": {},
     "output_type": "execute_result"
    }
   ],
   "source": [
    "data['diff_salary_increasted_client'] = data['client_id'].map(payments.groupby('client_id')['sum_rur'].agg(lambda x: int(x.iloc[-1] - x.iloc[0]))).fillna(-99999)\n",
    "data['diff_salary_increasted_client'].value_counts()"
   ]
  },
  {
   "cell_type": "code",
   "execution_count": 165,
   "id": "f131480d",
   "metadata": {},
   "outputs": [
    {
     "data": {
      "text/plain": [
       "-1    12544\n",
       " 1     4597\n",
       " 0     4357\n",
       "Name: bin_salary_increasted_client, dtype: int64"
      ]
     },
     "execution_count": 165,
     "metadata": {},
     "output_type": "execute_result"
    }
   ],
   "source": [
    "data['bin_salary_increasted_client'] = data['client_id'].map(payments.groupby('client_id')['sum_rur'].agg(lambda x: int(x.iloc[-1] > x.iloc[0]))).fillna(-1).astype(int)\n",
    "data['bin_salary_increasted_client'].value_counts()"
   ]
  },
  {
   "cell_type": "code",
   "execution_count": 197,
   "id": "28065cb0",
   "metadata": {},
   "outputs": [
    {
     "data": {
      "text/plain": [
       " 9    16184\n",
       " 4     5282\n",
       " 0       19\n",
       "-1       11\n",
       " 5        2\n",
       "Name: magic_feature_9-v01, dtype: int64"
      ]
     },
     "execution_count": 197,
     "metadata": {},
     "output_type": "execute_result"
    }
   ],
   "source": [
    "data['magic_feature_9-v01'] = data['feature_9'].apply(lambda x: str(x).split('.')[-1]).replace({'nan': np.nan}).fillna(-1).astype(int)\n",
    "data['magic_feature_9-v01'].value_counts()"
   ]
  },
  {
   "cell_type": "code",
   "execution_count": 198,
   "id": "2d2fe970",
   "metadata": {},
   "outputs": [
    {
     "data": {
      "text/plain": [
       " 7     4656\n",
       " 8     3180\n",
       " 10    2980\n",
       " 9     2601\n",
       " 19    1869\n",
       " 11    1761\n",
       " 14    1636\n",
       " 17    1324\n",
       " 6      489\n",
       " 15     400\n",
       " 12     184\n",
       " 13     172\n",
       " 18     136\n",
       " 16      99\n",
       "-1       11\n",
       "Name: magic_feature_9-v02, dtype: int64"
      ]
     },
     "execution_count": 198,
     "metadata": {},
     "output_type": "execute_result"
    }
   ],
   "source": [
    "data['magic_feature_9-v02'] = data['feature_9'].apply(lambda x: str(x).split('.')[0]).replace({'nan': np.nan}).fillna(-1).astype(int)\n",
    "data['magic_feature_9-v02'].value_counts()"
   ]
  },
  {
   "cell_type": "code",
   "execution_count": 203,
   "id": "70b2d67a",
   "metadata": {},
   "outputs": [
    {
     "data": {
      "text/html": [
       "<div>\n",
       "<style scoped>\n",
       "    .dataframe tbody tr th:only-of-type {\n",
       "        vertical-align: middle;\n",
       "    }\n",
       "\n",
       "    .dataframe tbody tr th {\n",
       "        vertical-align: top;\n",
       "    }\n",
       "\n",
       "    .dataframe thead th {\n",
       "        text-align: right;\n",
       "    }\n",
       "</style>\n",
       "<table border=\"1\" class=\"dataframe\">\n",
       "  <thead>\n",
       "    <tr style=\"text-align: right;\">\n",
       "      <th></th>\n",
       "      <th>client_id</th>\n",
       "      <th>month_end_dt</th>\n",
       "      <th>appl_prod_group_name</th>\n",
       "      <th>appl_prod_type_name</th>\n",
       "      <th>appl_stts_name_dc</th>\n",
       "      <th>appl_sale_channel_name</th>\n",
       "    </tr>\n",
       "  </thead>\n",
       "  <tbody>\n",
       "    <tr>\n",
       "      <th>0</th>\n",
       "      <td>6886062013213911831</td>\n",
       "      <td>2018-10-31</td>\n",
       "      <td>PILS</td>\n",
       "      <td>PILS</td>\n",
       "      <td>The consultation is over</td>\n",
       "      <td>Network</td>\n",
       "    </tr>\n",
       "    <tr>\n",
       "      <th>1</th>\n",
       "      <td>4497537671718296975</td>\n",
       "      <td>2018-10-31</td>\n",
       "      <td>PILS</td>\n",
       "      <td>PILS</td>\n",
       "      <td>The consultation is over</td>\n",
       "      <td>Network</td>\n",
       "    </tr>\n",
       "    <tr>\n",
       "      <th>2</th>\n",
       "      <td>1316154201527307743</td>\n",
       "      <td>2018-09-30</td>\n",
       "      <td>PILS</td>\n",
       "      <td>PILS</td>\n",
       "      <td>The consultation is over</td>\n",
       "      <td>Network</td>\n",
       "    </tr>\n",
       "    <tr>\n",
       "      <th>3</th>\n",
       "      <td>1316154201527307743</td>\n",
       "      <td>2018-09-30</td>\n",
       "      <td>PILS</td>\n",
       "      <td>PILS</td>\n",
       "      <td>The consultation is over</td>\n",
       "      <td>Network</td>\n",
       "    </tr>\n",
       "    <tr>\n",
       "      <th>4</th>\n",
       "      <td>1316154201527307743</td>\n",
       "      <td>2018-09-30</td>\n",
       "      <td>PILS</td>\n",
       "      <td>PILS</td>\n",
       "      <td>The consultation is over</td>\n",
       "      <td>Network</td>\n",
       "    </tr>\n",
       "    <tr>\n",
       "      <th>...</th>\n",
       "      <td>...</td>\n",
       "      <td>...</td>\n",
       "      <td>...</td>\n",
       "      <td>...</td>\n",
       "      <td>...</td>\n",
       "      <td>...</td>\n",
       "    </tr>\n",
       "    <tr>\n",
       "      <th>12025</th>\n",
       "      <td>-7051552770088413806</td>\n",
       "      <td>2019-03-31</td>\n",
       "      <td>Mortgage</td>\n",
       "      <td>Mortgage</td>\n",
       "      <td>four</td>\n",
       "      <td>&lt;UNK&gt;</td>\n",
       "    </tr>\n",
       "    <tr>\n",
       "      <th>12026</th>\n",
       "      <td>-2283863549841851654</td>\n",
       "      <td>2019-02-28</td>\n",
       "      <td>Mortgage</td>\n",
       "      <td>Mortgage</td>\n",
       "      <td>four</td>\n",
       "      <td>&lt;UNK&gt;</td>\n",
       "    </tr>\n",
       "    <tr>\n",
       "      <th>12027</th>\n",
       "      <td>4409001434092016310</td>\n",
       "      <td>2019-03-31</td>\n",
       "      <td>Mortgage</td>\n",
       "      <td>Mortgage</td>\n",
       "      <td>2</td>\n",
       "      <td>&lt;UNK&gt;</td>\n",
       "    </tr>\n",
       "    <tr>\n",
       "      <th>12028</th>\n",
       "      <td>-2119157901008689776</td>\n",
       "      <td>2018-11-30</td>\n",
       "      <td>Cards</td>\n",
       "      <td>Credit cards</td>\n",
       "      <td>Issuing a card</td>\n",
       "      <td>UCHK</td>\n",
       "    </tr>\n",
       "    <tr>\n",
       "      <th>12029</th>\n",
       "      <td>-1065664632342440074</td>\n",
       "      <td>2018-12-31</td>\n",
       "      <td>Cards</td>\n",
       "      <td>Credit cards</td>\n",
       "      <td>Issuing a card</td>\n",
       "      <td>UCHK</td>\n",
       "    </tr>\n",
       "  </tbody>\n",
       "</table>\n",
       "<p>12030 rows × 6 columns</p>\n",
       "</div>"
      ],
      "text/plain": [
       "                 client_id month_end_dt appl_prod_group_name  \\\n",
       "0      6886062013213911831   2018-10-31                 PILS   \n",
       "1      4497537671718296975   2018-10-31                 PILS   \n",
       "2      1316154201527307743   2018-09-30                 PILS   \n",
       "3      1316154201527307743   2018-09-30                 PILS   \n",
       "4      1316154201527307743   2018-09-30                 PILS   \n",
       "...                    ...          ...                  ...   \n",
       "12025 -7051552770088413806   2019-03-31             Mortgage   \n",
       "12026 -2283863549841851654   2019-02-28             Mortgage   \n",
       "12027  4409001434092016310   2019-03-31             Mortgage   \n",
       "12028 -2119157901008689776   2018-11-30                Cards   \n",
       "12029 -1065664632342440074   2018-12-31                Cards   \n",
       "\n",
       "      appl_prod_type_name         appl_stts_name_dc appl_sale_channel_name  \n",
       "0                    PILS  The consultation is over                Network  \n",
       "1                    PILS  The consultation is over                Network  \n",
       "2                    PILS  The consultation is over                Network  \n",
       "3                    PILS  The consultation is over                Network  \n",
       "4                    PILS  The consultation is over                Network  \n",
       "...                   ...                       ...                    ...  \n",
       "12025            Mortgage                      four                  <UNK>  \n",
       "12026            Mortgage                      four                  <UNK>  \n",
       "12027            Mortgage                         2                  <UNK>  \n",
       "12028        Credit cards            Issuing a card                   UCHK  \n",
       "12029        Credit cards            Issuing a card                   UCHK  \n",
       "\n",
       "[12030 rows x 6 columns]"
      ]
     },
     "execution_count": 203,
     "metadata": {},
     "output_type": "execute_result"
    }
   ],
   "source": [
    "appl"
   ]
  },
  {
   "cell_type": "code",
   "execution_count": 216,
   "id": "f22e8d00",
   "metadata": {},
   "outputs": [
    {
     "data": {
      "text/plain": [
       "-1.0     15289\n",
       "153.0      716\n",
       "274.0      683\n",
       "243.0      676\n",
       "304.0      636\n",
       "184.0      570\n",
       "0.0        525\n",
       "335.0      495\n",
       "212.0      414\n",
       "62.0       405\n",
       "31.0       402\n",
       "92.0       398\n",
       "123.0      289\n",
       "Name: days_since_last_appl_month, dtype: int64"
      ]
     },
     "execution_count": 216,
     "metadata": {},
     "output_type": "execute_result"
    }
   ],
   "source": [
    "data['days_since_last_appl_month'] = get_feature_days_since_last(appl, 'month_end_dt')\n",
    "data['days_since_last_appl_month'].value_counts()"
   ]
  },
  {
   "cell_type": "code",
   "execution_count": 217,
   "id": "db256d9f",
   "metadata": {},
   "outputs": [
    {
     "data": {
      "text/plain": [
       "-1.0     15289\n",
       "304.0      895\n",
       "274.0      814\n",
       "335.0      789\n",
       "243.0      768\n",
       "153.0      669\n",
       "184.0      557\n",
       "212.0      456\n",
       "92.0       320\n",
       "123.0      280\n",
       "0.0        242\n",
       "62.0       215\n",
       "31.0       204\n",
       "Name: days_since_first_appl_month, dtype: int64"
      ]
     },
     "execution_count": 217,
     "metadata": {},
     "output_type": "execute_result"
    }
   ],
   "source": [
    "data['days_since_first_appl_month'] = get_feature_days_since_first(appl, 'month_end_dt')\n",
    "data['days_since_first_appl_month'].value_counts()"
   ]
  },
  {
   "cell_type": "code",
   "execution_count": 221,
   "id": "f420090f",
   "metadata": {},
   "outputs": [
    {
     "data": {
      "text/html": [
       "<div>\n",
       "<style scoped>\n",
       "    .dataframe tbody tr th:only-of-type {\n",
       "        vertical-align: middle;\n",
       "    }\n",
       "\n",
       "    .dataframe tbody tr th {\n",
       "        vertical-align: top;\n",
       "    }\n",
       "\n",
       "    .dataframe thead th {\n",
       "        text-align: right;\n",
       "    }\n",
       "</style>\n",
       "<table border=\"1\" class=\"dataframe\">\n",
       "  <thead>\n",
       "    <tr style=\"text-align: right;\">\n",
       "      <th></th>\n",
       "      <th>client_id</th>\n",
       "      <th>agrmnt_start_dt</th>\n",
       "      <th>agrmnt_close_dt</th>\n",
       "      <th>crncy_cd</th>\n",
       "      <th>agrmnt_rate_active</th>\n",
       "      <th>agrmnt_rate_passive</th>\n",
       "      <th>agrmnt_sum_rur</th>\n",
       "      <th>prod_type_name</th>\n",
       "      <th>argmnt_close_start_days</th>\n",
       "    </tr>\n",
       "  </thead>\n",
       "  <tbody>\n",
       "    <tr>\n",
       "      <th>0</th>\n",
       "      <td>7513301859607023584</td>\n",
       "      <td>2010-08-12</td>\n",
       "      <td>2014-10-30</td>\n",
       "      <td>810.0</td>\n",
       "      <td>-2.0</td>\n",
       "      <td>-2.0</td>\n",
       "      <td>0.0</td>\n",
       "      <td>Cash on demand</td>\n",
       "      <td>1540.0</td>\n",
       "    </tr>\n",
       "    <tr>\n",
       "      <th>1</th>\n",
       "      <td>7513301859607023584</td>\n",
       "      <td>2013-02-15</td>\n",
       "      <td>2013-08-16</td>\n",
       "      <td>810.0</td>\n",
       "      <td>-2.0</td>\n",
       "      <td>-2.0</td>\n",
       "      <td>0.0</td>\n",
       "      <td>Cash on demand</td>\n",
       "      <td>182.0</td>\n",
       "    </tr>\n",
       "    <tr>\n",
       "      <th>2</th>\n",
       "      <td>7513301859607023584</td>\n",
       "      <td>2013-08-16</td>\n",
       "      <td>2014-02-14</td>\n",
       "      <td>810.0</td>\n",
       "      <td>-2.0</td>\n",
       "      <td>-2.0</td>\n",
       "      <td>0.0</td>\n",
       "      <td>Cash on demand</td>\n",
       "      <td>182.0</td>\n",
       "    </tr>\n",
       "    <tr>\n",
       "      <th>3</th>\n",
       "      <td>7513301859607023584</td>\n",
       "      <td>2015-07-12</td>\n",
       "      <td>2015-07-12</td>\n",
       "      <td>810.0</td>\n",
       "      <td>-2.0</td>\n",
       "      <td>-2.0</td>\n",
       "      <td>0.0</td>\n",
       "      <td>Cash on demand</td>\n",
       "      <td>0.0</td>\n",
       "    </tr>\n",
       "    <tr>\n",
       "      <th>4</th>\n",
       "      <td>7513301859607023584</td>\n",
       "      <td>2015-07-12</td>\n",
       "      <td>2015-07-12</td>\n",
       "      <td>810.0</td>\n",
       "      <td>-2.0</td>\n",
       "      <td>-2.0</td>\n",
       "      <td>0.0</td>\n",
       "      <td>Cash on demand</td>\n",
       "      <td>0.0</td>\n",
       "    </tr>\n",
       "    <tr>\n",
       "      <th>...</th>\n",
       "      <td>...</td>\n",
       "      <td>...</td>\n",
       "      <td>...</td>\n",
       "      <td>...</td>\n",
       "      <td>...</td>\n",
       "      <td>...</td>\n",
       "      <td>...</td>\n",
       "      <td>...</td>\n",
       "      <td>...</td>\n",
       "    </tr>\n",
       "    <tr>\n",
       "      <th>109011</th>\n",
       "      <td>-8242641659611256965</td>\n",
       "      <td>2011-08-10</td>\n",
       "      <td>2011-08-10</td>\n",
       "      <td>810.0</td>\n",
       "      <td>-2.0</td>\n",
       "      <td>-2.0</td>\n",
       "      <td>0.0</td>\n",
       "      <td>POST OFFICE</td>\n",
       "      <td>0.0</td>\n",
       "    </tr>\n",
       "    <tr>\n",
       "      <th>109012</th>\n",
       "      <td>-8242641659611256965</td>\n",
       "      <td>2011-08-10</td>\n",
       "      <td>2018-07-03</td>\n",
       "      <td>810.0</td>\n",
       "      <td>-2.0</td>\n",
       "      <td>3.25</td>\n",
       "      <td>13089.0</td>\n",
       "      <td>POST OFFICE</td>\n",
       "      <td>2519.0</td>\n",
       "    </tr>\n",
       "    <tr>\n",
       "      <th>109013</th>\n",
       "      <td>-8242641659611256965</td>\n",
       "      <td>2011-08-10</td>\n",
       "      <td>2011-08-10</td>\n",
       "      <td>810.0</td>\n",
       "      <td>-2.0</td>\n",
       "      <td>-2.0</td>\n",
       "      <td>0.0</td>\n",
       "      <td>POST OFFICE</td>\n",
       "      <td>0.0</td>\n",
       "    </tr>\n",
       "    <tr>\n",
       "      <th>109014</th>\n",
       "      <td>-8242641659611256965</td>\n",
       "      <td>2011-08-23</td>\n",
       "      <td>2012-09-18</td>\n",
       "      <td>810.0</td>\n",
       "      <td>-2.0</td>\n",
       "      <td>7.0</td>\n",
       "      <td>5403.0</td>\n",
       "      <td>POST OFFICE</td>\n",
       "      <td>392.0</td>\n",
       "    </tr>\n",
       "    <tr>\n",
       "      <th>109015</th>\n",
       "      <td>-4636514022054340174</td>\n",
       "      <td>2014-06-09</td>\n",
       "      <td>2017-07-31</td>\n",
       "      <td>810.0</td>\n",
       "      <td>18.75</td>\n",
       "      <td>-2.0</td>\n",
       "      <td>3299986.0</td>\n",
       "      <td>Mortgage plus</td>\n",
       "      <td>1148.0</td>\n",
       "    </tr>\n",
       "  </tbody>\n",
       "</table>\n",
       "<p>109016 rows × 9 columns</p>\n",
       "</div>"
      ],
      "text/plain": [
       "                  client_id agrmnt_start_dt agrmnt_close_dt  crncy_cd  \\\n",
       "0       7513301859607023584      2010-08-12      2014-10-30     810.0   \n",
       "1       7513301859607023584      2013-02-15      2013-08-16     810.0   \n",
       "2       7513301859607023584      2013-08-16      2014-02-14     810.0   \n",
       "3       7513301859607023584      2015-07-12      2015-07-12     810.0   \n",
       "4       7513301859607023584      2015-07-12      2015-07-12     810.0   \n",
       "...                     ...             ...             ...       ...   \n",
       "109011 -8242641659611256965      2011-08-10      2011-08-10     810.0   \n",
       "109012 -8242641659611256965      2011-08-10      2018-07-03     810.0   \n",
       "109013 -8242641659611256965      2011-08-10      2011-08-10     810.0   \n",
       "109014 -8242641659611256965      2011-08-23      2012-09-18     810.0   \n",
       "109015 -4636514022054340174      2014-06-09      2017-07-31     810.0   \n",
       "\n",
       "        agrmnt_rate_active  agrmnt_rate_passive  agrmnt_sum_rur  \\\n",
       "0                     -2.0                 -2.0             0.0   \n",
       "1                     -2.0                 -2.0             0.0   \n",
       "2                     -2.0                 -2.0             0.0   \n",
       "3                     -2.0                 -2.0             0.0   \n",
       "4                     -2.0                 -2.0             0.0   \n",
       "...                    ...                  ...             ...   \n",
       "109011                -2.0                 -2.0             0.0   \n",
       "109012                -2.0                 3.25         13089.0   \n",
       "109013                -2.0                 -2.0             0.0   \n",
       "109014                -2.0                  7.0          5403.0   \n",
       "109015               18.75                 -2.0       3299986.0   \n",
       "\n",
       "        prod_type_name  argmnt_close_start_days  \n",
       "0       Cash on demand                   1540.0  \n",
       "1       Cash on demand                    182.0  \n",
       "2       Cash on demand                    182.0  \n",
       "3       Cash on demand                      0.0  \n",
       "4       Cash on demand                      0.0  \n",
       "...                ...                      ...  \n",
       "109011     POST OFFICE                      0.0  \n",
       "109012     POST OFFICE                   2519.0  \n",
       "109013     POST OFFICE                      0.0  \n",
       "109014     POST OFFICE                    392.0  \n",
       "109015   Mortgage plus                   1148.0  \n",
       "\n",
       "[109016 rows x 9 columns]"
      ]
     },
     "execution_count": 221,
     "metadata": {},
     "output_type": "execute_result"
    }
   ],
   "source": [
    "deals"
   ]
  },
  {
   "cell_type": "code",
   "execution_count": 226,
   "id": "5d3584f3",
   "metadata": {},
   "outputs": [
    {
     "data": {
      "text/plain": [
       "0        2014-10-30\n",
       "1        2013-08-16\n",
       "2        2014-02-14\n",
       "3        2015-07-12\n",
       "4        2015-07-12\n",
       "            ...    \n",
       "109011   2011-08-10\n",
       "109012   2018-07-03\n",
       "109013   2011-08-10\n",
       "109014   2012-09-18\n",
       "109015   2017-07-31\n",
       "Name: agrmnt_close_dt, Length: 109016, dtype: datetime64[ns]"
      ]
     },
     "execution_count": 226,
     "metadata": {},
     "output_type": "execute_result"
    }
   ],
   "source": [
    "deals['agrmnt_close_dt'] = pd.to_datetime(deals['agrmnt_close_dt'])\n",
    "deals['agrmnt_close_dt']"
   ]
  },
  {
   "cell_type": "code",
   "execution_count": 232,
   "id": "115d7e3a",
   "metadata": {},
   "outputs": [
    {
     "data": {
      "text/plain": [
       "-1.0      8064\n",
       "301.0      498\n",
       "393.0      277\n",
       "260.0      270\n",
       "351.0      126\n",
       "          ... \n",
       "570.0        1\n",
       "5155.0       1\n",
       "1546.0       1\n",
       "3300.0       1\n",
       "1174.0       1\n",
       "Name: days_since_last_deals_agrmnt_close, Length: 1876, dtype: int64"
      ]
     },
     "execution_count": 232,
     "metadata": {},
     "output_type": "execute_result"
    }
   ],
   "source": [
    "data['days_since_last_deals_agrmnt_close'] = get_feature_days_since_last(deals, 'agrmnt_close_dt')\n",
    "data['days_since_last_deals_agrmnt_close'].value_counts()"
   ]
  },
  {
   "cell_type": "code",
   "execution_count": 233,
   "id": "ba171b18",
   "metadata": {},
   "outputs": [
    {
     "data": {
      "text/plain": [
       "-1.0      8064\n",
       "1369.0     207\n",
       "393.0      197\n",
       "301.0      193\n",
       "1099.0     155\n",
       "          ... \n",
       "3695.0       1\n",
       "1093.0       1\n",
       "3138.0       1\n",
       "3250.0       1\n",
       "2150.0       1\n",
       "Name: days_since_first_deals_agrmnt_close, Length: 3132, dtype: int64"
      ]
     },
     "execution_count": 233,
     "metadata": {},
     "output_type": "execute_result"
    }
   ],
   "source": [
    "data['days_since_first_deals_agrmnt_close'] = get_feature_days_since_first(deals, 'agrmnt_close_dt')\n",
    "data['days_since_first_deals_agrmnt_close'].value_counts()"
   ]
  },
  {
   "cell_type": "code",
   "execution_count": 234,
   "id": "d2b47dae",
   "metadata": {},
   "outputs": [
    {
     "data": {
      "text/html": [
       "<div>\n",
       "<style scoped>\n",
       "    .dataframe tbody tr th:only-of-type {\n",
       "        vertical-align: middle;\n",
       "    }\n",
       "\n",
       "    .dataframe tbody tr th {\n",
       "        vertical-align: top;\n",
       "    }\n",
       "\n",
       "    .dataframe thead th {\n",
       "        text-align: right;\n",
       "    }\n",
       "</style>\n",
       "<table border=\"1\" class=\"dataframe\">\n",
       "  <thead>\n",
       "    <tr style=\"text-align: right;\">\n",
       "      <th></th>\n",
       "      <th>client_id</th>\n",
       "      <th>sale_flg</th>\n",
       "      <th>sale_amount</th>\n",
       "      <th>contacts</th>\n",
       "      <th>feature_1</th>\n",
       "      <th>client_segment</th>\n",
       "      <th>feature_2</th>\n",
       "      <th>feature_3</th>\n",
       "      <th>feature_4</th>\n",
       "      <th>feature_5</th>\n",
       "      <th>feature_6</th>\n",
       "      <th>feature_7</th>\n",
       "      <th>feature_8</th>\n",
       "      <th>feature_9</th>\n",
       "      <th>feature_10</th>\n",
       "      <th>region_cd</th>\n",
       "    </tr>\n",
       "  </thead>\n",
       "  <tbody>\n",
       "    <tr>\n",
       "      <th>0</th>\n",
       "      <td>7513301859607023584</td>\n",
       "      <td>0</td>\n",
       "      <td>NaN</td>\n",
       "      <td>1</td>\n",
       "      <td>7</td>\n",
       "      <td>13.0</td>\n",
       "      <td>571533.0</td>\n",
       "      <td>15717.0</td>\n",
       "      <td>0.0</td>\n",
       "      <td>0.0</td>\n",
       "      <td>0.0</td>\n",
       "      <td>571852.0</td>\n",
       "      <td>472605.0</td>\n",
       "      <td>10.4</td>\n",
       "      <td>12548.0</td>\n",
       "      <td>86.0</td>\n",
       "    </tr>\n",
       "    <tr>\n",
       "      <th>1</th>\n",
       "      <td>9157009756404187626</td>\n",
       "      <td>0</td>\n",
       "      <td>NaN</td>\n",
       "      <td>1</td>\n",
       "      <td>3</td>\n",
       "      <td>13.0</td>\n",
       "      <td>3642369.0</td>\n",
       "      <td>94787.0</td>\n",
       "      <td>0.0</td>\n",
       "      <td>0.0</td>\n",
       "      <td>84823.0</td>\n",
       "      <td>3642369.0</td>\n",
       "      <td>3314257.0</td>\n",
       "      <td>8.9</td>\n",
       "      <td>77210.0</td>\n",
       "      <td>2.0</td>\n",
       "    </tr>\n",
       "    <tr>\n",
       "      <th>2</th>\n",
       "      <td>-1893104556496814867</td>\n",
       "      <td>0</td>\n",
       "      <td>NaN</td>\n",
       "      <td>1</td>\n",
       "      <td>5</td>\n",
       "      <td>16.0</td>\n",
       "      <td>352826.0</td>\n",
       "      <td>5500.0</td>\n",
       "      <td>0.0</td>\n",
       "      <td>6822.0</td>\n",
       "      <td>0.0</td>\n",
       "      <td>265893.0</td>\n",
       "      <td>204534.0</td>\n",
       "      <td>8.9</td>\n",
       "      <td>5508.0</td>\n",
       "      <td>52.0</td>\n",
       "    </tr>\n",
       "    <tr>\n",
       "      <th>3</th>\n",
       "      <td>6886062013213911831</td>\n",
       "      <td>0</td>\n",
       "      <td>NaN</td>\n",
       "      <td>1</td>\n",
       "      <td>4</td>\n",
       "      <td>3.0</td>\n",
       "      <td>6070615.0</td>\n",
       "      <td>40580.0</td>\n",
       "      <td>0.0</td>\n",
       "      <td>30401.0</td>\n",
       "      <td>0.0</td>\n",
       "      <td>2005731.0</td>\n",
       "      <td>1825051.0</td>\n",
       "      <td>7.9</td>\n",
       "      <td>40583.0</td>\n",
       "      <td>86.0</td>\n",
       "    </tr>\n",
       "    <tr>\n",
       "      <th>4</th>\n",
       "      <td>-8156468515495593794</td>\n",
       "      <td>1</td>\n",
       "      <td>138018.05000000002</td>\n",
       "      <td>1</td>\n",
       "      <td>7</td>\n",
       "      <td>14.0</td>\n",
       "      <td>3642369.0</td>\n",
       "      <td>97156.0</td>\n",
       "      <td>81488.0</td>\n",
       "      <td>0.0</td>\n",
       "      <td>160308.0</td>\n",
       "      <td>3642369.0</td>\n",
       "      <td>3314257.0</td>\n",
       "      <td>10.4</td>\n",
       "      <td>78108.0</td>\n",
       "      <td>27.0</td>\n",
       "    </tr>\n",
       "    <tr>\n",
       "      <th>...</th>\n",
       "      <td>...</td>\n",
       "      <td>...</td>\n",
       "      <td>...</td>\n",
       "      <td>...</td>\n",
       "      <td>...</td>\n",
       "      <td>...</td>\n",
       "      <td>...</td>\n",
       "      <td>...</td>\n",
       "      <td>...</td>\n",
       "      <td>...</td>\n",
       "      <td>...</td>\n",
       "      <td>...</td>\n",
       "      <td>...</td>\n",
       "      <td>...</td>\n",
       "      <td>...</td>\n",
       "      <td>...</td>\n",
       "    </tr>\n",
       "    <tr>\n",
       "      <th>21493</th>\n",
       "      <td>4662551505651924284</td>\n",
       "      <td>0</td>\n",
       "      <td>NaN</td>\n",
       "      <td>2</td>\n",
       "      <td>3</td>\n",
       "      <td>3.0</td>\n",
       "      <td>6070615.0</td>\n",
       "      <td>97616.0</td>\n",
       "      <td>21921.0</td>\n",
       "      <td>85635.0</td>\n",
       "      <td>89802.0</td>\n",
       "      <td>4826139.0</td>\n",
       "      <td>4391391.0</td>\n",
       "      <td>7.9</td>\n",
       "      <td>97626.0</td>\n",
       "      <td>86.0</td>\n",
       "    </tr>\n",
       "    <tr>\n",
       "      <th>21494</th>\n",
       "      <td>-8968737688687691353</td>\n",
       "      <td>0</td>\n",
       "      <td>NaN</td>\n",
       "      <td>1</td>\n",
       "      <td>9</td>\n",
       "      <td>14.0</td>\n",
       "      <td>1821184.0</td>\n",
       "      <td>2428.0</td>\n",
       "      <td>3952.0</td>\n",
       "      <td>0.0</td>\n",
       "      <td>13938.0</td>\n",
       "      <td>92273.0</td>\n",
       "      <td>71641.0</td>\n",
       "      <td>19.9</td>\n",
       "      <td>2440.0</td>\n",
       "      <td>78.0</td>\n",
       "    </tr>\n",
       "    <tr>\n",
       "      <th>21495</th>\n",
       "      <td>-5799097497074119478</td>\n",
       "      <td>0</td>\n",
       "      <td>NaN</td>\n",
       "      <td>1</td>\n",
       "      <td>2</td>\n",
       "      <td>16.0</td>\n",
       "      <td>6070615.0</td>\n",
       "      <td>64991.0</td>\n",
       "      <td>0.0</td>\n",
       "      <td>13450.0</td>\n",
       "      <td>0.0</td>\n",
       "      <td>3212569.0</td>\n",
       "      <td>2923175.0</td>\n",
       "      <td>7.9</td>\n",
       "      <td>64998.0</td>\n",
       "      <td>69.0</td>\n",
       "    </tr>\n",
       "    <tr>\n",
       "      <th>21496</th>\n",
       "      <td>-2264802671063321355</td>\n",
       "      <td>1</td>\n",
       "      <td>43882.85000000001</td>\n",
       "      <td>2</td>\n",
       "      <td>8</td>\n",
       "      <td>4.0</td>\n",
       "      <td>2282408.0</td>\n",
       "      <td>5832.0</td>\n",
       "      <td>16185.0</td>\n",
       "      <td>0.0</td>\n",
       "      <td>82182.0</td>\n",
       "      <td>230683.0</td>\n",
       "      <td>177449.0</td>\n",
       "      <td>17.9</td>\n",
       "      <td>5845.0</td>\n",
       "      <td>59.0</td>\n",
       "    </tr>\n",
       "    <tr>\n",
       "      <th>21497</th>\n",
       "      <td>-174115151336149439</td>\n",
       "      <td>0</td>\n",
       "      <td>NaN</td>\n",
       "      <td>1</td>\n",
       "      <td>3</td>\n",
       "      <td>3.0</td>\n",
       "      <td>6070615.0</td>\n",
       "      <td>1014167.0</td>\n",
       "      <td>0.0</td>\n",
       "      <td>1053209.0</td>\n",
       "      <td>0.0</td>\n",
       "      <td>6070615.0</td>\n",
       "      <td>5523763.0</td>\n",
       "      <td>9.9</td>\n",
       "      <td>128684.0</td>\n",
       "      <td>77.0</td>\n",
       "    </tr>\n",
       "  </tbody>\n",
       "</table>\n",
       "<p>21498 rows × 16 columns</p>\n",
       "</div>"
      ],
      "text/plain": [
       "                 client_id  sale_flg        sale_amount  contacts  feature_1  \\\n",
       "0      7513301859607023584         0                NaN         1          7   \n",
       "1      9157009756404187626         0                NaN         1          3   \n",
       "2     -1893104556496814867         0                NaN         1          5   \n",
       "3      6886062013213911831         0                NaN         1          4   \n",
       "4     -8156468515495593794         1 138018.05000000002         1          7   \n",
       "...                    ...       ...                ...       ...        ...   \n",
       "21493  4662551505651924284         0                NaN         2          3   \n",
       "21494 -8968737688687691353         0                NaN         1          9   \n",
       "21495 -5799097497074119478         0                NaN         1          2   \n",
       "21496 -2264802671063321355         1  43882.85000000001         2          8   \n",
       "21497  -174115151336149439         0                NaN         1          3   \n",
       "\n",
       "       client_segment  feature_2  feature_3  feature_4  feature_5  feature_6  \\\n",
       "0                13.0   571533.0    15717.0        0.0        0.0        0.0   \n",
       "1                13.0  3642369.0    94787.0        0.0        0.0    84823.0   \n",
       "2                16.0   352826.0     5500.0        0.0     6822.0        0.0   \n",
       "3                 3.0  6070615.0    40580.0        0.0    30401.0        0.0   \n",
       "4                14.0  3642369.0    97156.0    81488.0        0.0   160308.0   \n",
       "...               ...        ...        ...        ...        ...        ...   \n",
       "21493             3.0  6070615.0    97616.0    21921.0    85635.0    89802.0   \n",
       "21494            14.0  1821184.0     2428.0     3952.0        0.0    13938.0   \n",
       "21495            16.0  6070615.0    64991.0        0.0    13450.0        0.0   \n",
       "21496             4.0  2282408.0     5832.0    16185.0        0.0    82182.0   \n",
       "21497             3.0  6070615.0  1014167.0        0.0  1053209.0        0.0   \n",
       "\n",
       "       feature_7  feature_8  feature_9  feature_10  region_cd  \n",
       "0       571852.0   472605.0       10.4     12548.0       86.0  \n",
       "1      3642369.0  3314257.0        8.9     77210.0        2.0  \n",
       "2       265893.0   204534.0        8.9      5508.0       52.0  \n",
       "3      2005731.0  1825051.0        7.9     40583.0       86.0  \n",
       "4      3642369.0  3314257.0       10.4     78108.0       27.0  \n",
       "...          ...        ...        ...         ...        ...  \n",
       "21493  4826139.0  4391391.0        7.9     97626.0       86.0  \n",
       "21494    92273.0    71641.0       19.9      2440.0       78.0  \n",
       "21495  3212569.0  2923175.0        7.9     64998.0       69.0  \n",
       "21496   230683.0   177449.0       17.9      5845.0       59.0  \n",
       "21497  6070615.0  5523763.0        9.9    128684.0       77.0  \n",
       "\n",
       "[21498 rows x 16 columns]"
      ]
     },
     "execution_count": 234,
     "metadata": {},
     "output_type": "execute_result"
    }
   ],
   "source": [
    "funnel"
   ]
  },
  {
   "cell_type": "code",
   "execution_count": 239,
   "id": "2e89b79f",
   "metadata": {},
   "outputs": [
    {
     "data": {
      "text/plain": [
       "7     2675\n",
       "5     2637\n",
       "4     2516\n",
       "1     2491\n",
       "6     2388\n",
       "8     2196\n",
       "9     2012\n",
       "3     1676\n",
       "2     1122\n",
       "12     726\n",
       "11     440\n",
       "10     376\n",
       "13     163\n",
       "0       51\n",
       "14      29\n",
       "Name: feature_1, dtype: int64"
      ]
     },
     "execution_count": 239,
     "metadata": {},
     "output_type": "execute_result"
    }
   ],
   "source": [
    "funnel['feature_1'].value_counts()"
   ]
  },
  {
   "cell_type": "code",
   "execution_count": null,
   "id": "749eaf38",
   "metadata": {},
   "outputs": [],
   "source": []
  }
 ],
 "metadata": {
  "environment": {
   "name": "common-cpu.m65",
   "type": "gcloud",
   "uri": "gcr.io/deeplearning-platform-release/base-cpu:m65"
  },
  "kernelspec": {
   "display_name": "Python 3",
   "language": "python",
   "name": "python3"
  },
  "language_info": {
   "codemirror_mode": {
    "name": "ipython",
    "version": 3
   },
   "file_extension": ".py",
   "mimetype": "text/x-python",
   "name": "python",
   "nbconvert_exporter": "python",
   "pygments_lexer": "ipython3",
   "version": "3.7.10"
  }
 },
 "nbformat": 4,
 "nbformat_minor": 5
}
