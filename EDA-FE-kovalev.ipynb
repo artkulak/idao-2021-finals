{
 "cells": [
  {
   "cell_type": "code",
   "execution_count": 1,
   "metadata": {},
   "outputs": [],
   "source": [
    "from pathlib import Path\n",
    "import pandas as pd\n",
    "import numpy as np\n",
    "import os\n",
    "import scipy.stats\n",
    "import seaborn as sns\n",
    "import matplotlib.pyplot as plt\n",
    "\n",
    "INPUT_PATH = Path('../input')\n",
    "OUTPUT_PATH = Path('../output')\n",
    "pd.set_option('display.float_format', str)"
   ]
  },
  {
   "cell_type": "code",
   "execution_count": 2,
   "metadata": {},
   "outputs": [
    {
     "name": "stderr",
     "output_type": "stream",
     "text": [
      "/opt/conda/lib/python3.7/site-packages/decorator.py:231: DtypeWarning: Columns (10) have mixed types.Specify dtype option on import or set low_memory=False.\n",
      "  return caller(func, *(extras + args), **kw)\n"
     ]
    },
    {
     "name": "stdout",
     "output_type": "stream",
     "text": [
      "CPU times: user 7.06 s, sys: 498 ms, total: 7.55 s\n",
      "Wall time: 7.55 s\n"
     ]
    }
   ],
   "source": [
    "%%time\n",
    "\n",
    "transactions = pd.read_csv(INPUT_PATH / 'trxn.csv')\n",
    "assets_under_management = pd.read_csv(INPUT_PATH / 'aum.csv')\n",
    "balance = pd.read_csv(INPUT_PATH / 'balance.csv')\n",
    "client = pd.read_csv(INPUT_PATH / 'client.csv')\n",
    "campaigns = pd.read_csv(INPUT_PATH / 'com.csv')\n",
    "deals = pd.read_csv(INPUT_PATH / 'deals.csv')\n",
    "dict_merchant_category_code = pd.read_csv(INPUT_PATH / 'dict_mcc.csv')\n",
    "payments = pd.read_csv(INPUT_PATH / 'payments.csv')\n",
    "funnel = pd.read_csv(INPUT_PATH / 'funnel.csv')\n",
    "appl = pd.read_csv(INPUT_PATH / 'appl.csv')"
   ]
  },
  {
   "cell_type": "code",
   "execution_count": 3,
   "metadata": {},
   "outputs": [],
   "source": [
    "data = funnel.copy()"
   ]
  },
  {
   "cell_type": "code",
   "execution_count": 99,
   "metadata": {},
   "outputs": [],
   "source": [
    "def get_feature_total(df, col_name):\n",
    "    return data['client_id'].map(df.groupby(['client_id', col_name]).size().index.get_level_values('client_id').value_counts()).fillna(0)\n",
    "\n",
    "\n",
    "def get_feature_most_common(df, col_name, fill_na_value):\n",
    "    return data['client_id'].map(df.groupby('client_id')[col_name].agg(lambda x: scipy.stats.mode(x)[0][0])).fillna(fill_na_value)\n",
    "\n",
    "\n",
    "def get_feature_mean(df, col_name, fill_na_value):\n",
    "    return data['client_id'].map(df.groupby('client_id')[col_name].mean()).fillna(fill_na_value)\n",
    "\n",
    "\n",
    "def get_feature_std(df, col_name, fill_na_value):\n",
    "    return data['client_id'].map(df.groupby('client_id')[col_name].std()).fillna(fill_na_value)\n",
    "\n",
    "\n",
    "def get_feature_max_min(df, col_name, fill_na_value):\n",
    "    return data['client_id'].map(df.groupby('client_id')[col_name].agg(lambda x: x.max() - x.min())).fillna(fill_na_value)"
   ]
  },
  {
   "cell_type": "markdown",
   "metadata": {},
   "source": [
    "# Funnel"
   ]
  },
  {
   "cell_type": "code",
   "execution_count": 5,
   "metadata": {},
   "outputs": [
    {
     "data": {
      "text/html": [
       "<div>\n",
       "<style scoped>\n",
       "    .dataframe tbody tr th:only-of-type {\n",
       "        vertical-align: middle;\n",
       "    }\n",
       "\n",
       "    .dataframe tbody tr th {\n",
       "        vertical-align: top;\n",
       "    }\n",
       "\n",
       "    .dataframe thead th {\n",
       "        text-align: right;\n",
       "    }\n",
       "</style>\n",
       "<table border=\"1\" class=\"dataframe\">\n",
       "  <thead>\n",
       "    <tr style=\"text-align: right;\">\n",
       "      <th></th>\n",
       "      <th>client_id</th>\n",
       "      <th>sale_flg</th>\n",
       "      <th>sale_amount</th>\n",
       "      <th>contacts</th>\n",
       "      <th>feature_1</th>\n",
       "      <th>client_segment</th>\n",
       "      <th>feature_2</th>\n",
       "      <th>feature_3</th>\n",
       "      <th>feature_4</th>\n",
       "      <th>feature_5</th>\n",
       "      <th>feature_6</th>\n",
       "      <th>feature_7</th>\n",
       "      <th>feature_8</th>\n",
       "      <th>feature_9</th>\n",
       "      <th>feature_10</th>\n",
       "      <th>region_cd</th>\n",
       "    </tr>\n",
       "  </thead>\n",
       "  <tbody>\n",
       "    <tr>\n",
       "      <th>0</th>\n",
       "      <td>7513301859607023584</td>\n",
       "      <td>0</td>\n",
       "      <td>NaN</td>\n",
       "      <td>1</td>\n",
       "      <td>7</td>\n",
       "      <td>13.0</td>\n",
       "      <td>571533.0</td>\n",
       "      <td>15717.0</td>\n",
       "      <td>0.0</td>\n",
       "      <td>0.0</td>\n",
       "      <td>0.0</td>\n",
       "      <td>571852.0</td>\n",
       "      <td>472605.0</td>\n",
       "      <td>10.4</td>\n",
       "      <td>12548.0</td>\n",
       "      <td>86.0</td>\n",
       "    </tr>\n",
       "    <tr>\n",
       "      <th>1</th>\n",
       "      <td>9157009756404187626</td>\n",
       "      <td>0</td>\n",
       "      <td>NaN</td>\n",
       "      <td>1</td>\n",
       "      <td>3</td>\n",
       "      <td>13.0</td>\n",
       "      <td>3642369.0</td>\n",
       "      <td>94787.0</td>\n",
       "      <td>0.0</td>\n",
       "      <td>0.0</td>\n",
       "      <td>84823.0</td>\n",
       "      <td>3642369.0</td>\n",
       "      <td>3314257.0</td>\n",
       "      <td>8.9</td>\n",
       "      <td>77210.0</td>\n",
       "      <td>2.0</td>\n",
       "    </tr>\n",
       "    <tr>\n",
       "      <th>2</th>\n",
       "      <td>-1893104556496814867</td>\n",
       "      <td>0</td>\n",
       "      <td>NaN</td>\n",
       "      <td>1</td>\n",
       "      <td>5</td>\n",
       "      <td>16.0</td>\n",
       "      <td>352826.0</td>\n",
       "      <td>5500.0</td>\n",
       "      <td>0.0</td>\n",
       "      <td>6822.0</td>\n",
       "      <td>0.0</td>\n",
       "      <td>265893.0</td>\n",
       "      <td>204534.0</td>\n",
       "      <td>8.9</td>\n",
       "      <td>5508.0</td>\n",
       "      <td>52.0</td>\n",
       "    </tr>\n",
       "    <tr>\n",
       "      <th>3</th>\n",
       "      <td>6886062013213911831</td>\n",
       "      <td>0</td>\n",
       "      <td>NaN</td>\n",
       "      <td>1</td>\n",
       "      <td>4</td>\n",
       "      <td>3.0</td>\n",
       "      <td>6070615.0</td>\n",
       "      <td>40580.0</td>\n",
       "      <td>0.0</td>\n",
       "      <td>30401.0</td>\n",
       "      <td>0.0</td>\n",
       "      <td>2005731.0</td>\n",
       "      <td>1825051.0</td>\n",
       "      <td>7.9</td>\n",
       "      <td>40583.0</td>\n",
       "      <td>86.0</td>\n",
       "    </tr>\n",
       "    <tr>\n",
       "      <th>4</th>\n",
       "      <td>-8156468515495593794</td>\n",
       "      <td>1</td>\n",
       "      <td>138018.05000000002</td>\n",
       "      <td>1</td>\n",
       "      <td>7</td>\n",
       "      <td>14.0</td>\n",
       "      <td>3642369.0</td>\n",
       "      <td>97156.0</td>\n",
       "      <td>81488.0</td>\n",
       "      <td>0.0</td>\n",
       "      <td>160308.0</td>\n",
       "      <td>3642369.0</td>\n",
       "      <td>3314257.0</td>\n",
       "      <td>10.4</td>\n",
       "      <td>78108.0</td>\n",
       "      <td>27.0</td>\n",
       "    </tr>\n",
       "    <tr>\n",
       "      <th>...</th>\n",
       "      <td>...</td>\n",
       "      <td>...</td>\n",
       "      <td>...</td>\n",
       "      <td>...</td>\n",
       "      <td>...</td>\n",
       "      <td>...</td>\n",
       "      <td>...</td>\n",
       "      <td>...</td>\n",
       "      <td>...</td>\n",
       "      <td>...</td>\n",
       "      <td>...</td>\n",
       "      <td>...</td>\n",
       "      <td>...</td>\n",
       "      <td>...</td>\n",
       "      <td>...</td>\n",
       "      <td>...</td>\n",
       "    </tr>\n",
       "    <tr>\n",
       "      <th>21493</th>\n",
       "      <td>4662551505651924284</td>\n",
       "      <td>0</td>\n",
       "      <td>NaN</td>\n",
       "      <td>2</td>\n",
       "      <td>3</td>\n",
       "      <td>3.0</td>\n",
       "      <td>6070615.0</td>\n",
       "      <td>97616.0</td>\n",
       "      <td>21921.0</td>\n",
       "      <td>85635.0</td>\n",
       "      <td>89802.0</td>\n",
       "      <td>4826139.0</td>\n",
       "      <td>4391391.0</td>\n",
       "      <td>7.9</td>\n",
       "      <td>97626.0</td>\n",
       "      <td>86.0</td>\n",
       "    </tr>\n",
       "    <tr>\n",
       "      <th>21494</th>\n",
       "      <td>-8968737688687691353</td>\n",
       "      <td>0</td>\n",
       "      <td>NaN</td>\n",
       "      <td>1</td>\n",
       "      <td>9</td>\n",
       "      <td>14.0</td>\n",
       "      <td>1821184.0</td>\n",
       "      <td>2428.0</td>\n",
       "      <td>3952.0</td>\n",
       "      <td>0.0</td>\n",
       "      <td>13938.0</td>\n",
       "      <td>92273.0</td>\n",
       "      <td>71641.0</td>\n",
       "      <td>19.9</td>\n",
       "      <td>2440.0</td>\n",
       "      <td>78.0</td>\n",
       "    </tr>\n",
       "    <tr>\n",
       "      <th>21495</th>\n",
       "      <td>-5799097497074119478</td>\n",
       "      <td>0</td>\n",
       "      <td>NaN</td>\n",
       "      <td>1</td>\n",
       "      <td>2</td>\n",
       "      <td>16.0</td>\n",
       "      <td>6070615.0</td>\n",
       "      <td>64991.0</td>\n",
       "      <td>0.0</td>\n",
       "      <td>13450.0</td>\n",
       "      <td>0.0</td>\n",
       "      <td>3212569.0</td>\n",
       "      <td>2923175.0</td>\n",
       "      <td>7.9</td>\n",
       "      <td>64998.0</td>\n",
       "      <td>69.0</td>\n",
       "    </tr>\n",
       "    <tr>\n",
       "      <th>21496</th>\n",
       "      <td>-2264802671063321355</td>\n",
       "      <td>1</td>\n",
       "      <td>43882.85000000001</td>\n",
       "      <td>2</td>\n",
       "      <td>8</td>\n",
       "      <td>4.0</td>\n",
       "      <td>2282408.0</td>\n",
       "      <td>5832.0</td>\n",
       "      <td>16185.0</td>\n",
       "      <td>0.0</td>\n",
       "      <td>82182.0</td>\n",
       "      <td>230683.0</td>\n",
       "      <td>177449.0</td>\n",
       "      <td>17.9</td>\n",
       "      <td>5845.0</td>\n",
       "      <td>59.0</td>\n",
       "    </tr>\n",
       "    <tr>\n",
       "      <th>21497</th>\n",
       "      <td>-174115151336149439</td>\n",
       "      <td>0</td>\n",
       "      <td>NaN</td>\n",
       "      <td>1</td>\n",
       "      <td>3</td>\n",
       "      <td>3.0</td>\n",
       "      <td>6070615.0</td>\n",
       "      <td>1014167.0</td>\n",
       "      <td>0.0</td>\n",
       "      <td>1053209.0</td>\n",
       "      <td>0.0</td>\n",
       "      <td>6070615.0</td>\n",
       "      <td>5523763.0</td>\n",
       "      <td>9.9</td>\n",
       "      <td>128684.0</td>\n",
       "      <td>77.0</td>\n",
       "    </tr>\n",
       "  </tbody>\n",
       "</table>\n",
       "<p>21498 rows × 16 columns</p>\n",
       "</div>"
      ],
      "text/plain": [
       "                 client_id  sale_flg        sale_amount  contacts  feature_1  \\\n",
       "0      7513301859607023584         0                NaN         1          7   \n",
       "1      9157009756404187626         0                NaN         1          3   \n",
       "2     -1893104556496814867         0                NaN         1          5   \n",
       "3      6886062013213911831         0                NaN         1          4   \n",
       "4     -8156468515495593794         1 138018.05000000002         1          7   \n",
       "...                    ...       ...                ...       ...        ...   \n",
       "21493  4662551505651924284         0                NaN         2          3   \n",
       "21494 -8968737688687691353         0                NaN         1          9   \n",
       "21495 -5799097497074119478         0                NaN         1          2   \n",
       "21496 -2264802671063321355         1  43882.85000000001         2          8   \n",
       "21497  -174115151336149439         0                NaN         1          3   \n",
       "\n",
       "       client_segment  feature_2  feature_3  feature_4  feature_5  feature_6  \\\n",
       "0                13.0   571533.0    15717.0        0.0        0.0        0.0   \n",
       "1                13.0  3642369.0    94787.0        0.0        0.0    84823.0   \n",
       "2                16.0   352826.0     5500.0        0.0     6822.0        0.0   \n",
       "3                 3.0  6070615.0    40580.0        0.0    30401.0        0.0   \n",
       "4                14.0  3642369.0    97156.0    81488.0        0.0   160308.0   \n",
       "...               ...        ...        ...        ...        ...        ...   \n",
       "21493             3.0  6070615.0    97616.0    21921.0    85635.0    89802.0   \n",
       "21494            14.0  1821184.0     2428.0     3952.0        0.0    13938.0   \n",
       "21495            16.0  6070615.0    64991.0        0.0    13450.0        0.0   \n",
       "21496             4.0  2282408.0     5832.0    16185.0        0.0    82182.0   \n",
       "21497             3.0  6070615.0  1014167.0        0.0  1053209.0        0.0   \n",
       "\n",
       "       feature_7  feature_8  feature_9  feature_10  region_cd  \n",
       "0       571852.0   472605.0       10.4     12548.0       86.0  \n",
       "1      3642369.0  3314257.0        8.9     77210.0        2.0  \n",
       "2       265893.0   204534.0        8.9      5508.0       52.0  \n",
       "3      2005731.0  1825051.0        7.9     40583.0       86.0  \n",
       "4      3642369.0  3314257.0       10.4     78108.0       27.0  \n",
       "...          ...        ...        ...         ...        ...  \n",
       "21493  4826139.0  4391391.0        7.9     97626.0       86.0  \n",
       "21494    92273.0    71641.0       19.9      2440.0       78.0  \n",
       "21495  3212569.0  2923175.0        7.9     64998.0       69.0  \n",
       "21496   230683.0   177449.0       17.9      5845.0       59.0  \n",
       "21497  6070615.0  5523763.0        9.9    128684.0       77.0  \n",
       "\n",
       "[21498 rows x 16 columns]"
      ]
     },
     "execution_count": 5,
     "metadata": {},
     "output_type": "execute_result"
    }
   ],
   "source": [
    "funnel"
   ]
  },
  {
   "cell_type": "code",
   "execution_count": 6,
   "metadata": {},
   "outputs": [
    {
     "data": {
      "text/plain": [
       "client_id             0\n",
       "sale_flg              0\n",
       "sale_amount       17979\n",
       "contacts              0\n",
       "feature_1             0\n",
       "client_segment        0\n",
       "feature_2             0\n",
       "feature_3             0\n",
       "feature_4             0\n",
       "feature_5             0\n",
       "feature_6             0\n",
       "feature_7            11\n",
       "feature_8            11\n",
       "feature_9            11\n",
       "feature_10           11\n",
       "region_cd            34\n",
       "dtype: int64"
      ]
     },
     "execution_count": 6,
     "metadata": {},
     "output_type": "execute_result"
    }
   ],
   "source": [
    "funnel.isnull().sum()"
   ]
  },
  {
   "cell_type": "code",
   "execution_count": 7,
   "metadata": {},
   "outputs": [
    {
     "data": {
      "text/plain": [
       "0   0.8363103544515769\n",
       "1   0.1636896455484231\n",
       "Name: sale_flg, dtype: float64"
      ]
     },
     "execution_count": 7,
     "metadata": {},
     "output_type": "execute_result"
    }
   ],
   "source": [
    "funnel['sale_flg'].value_counts() / len(funnel)"
   ]
  },
  {
   "cell_type": "code",
   "execution_count": 8,
   "metadata": {},
   "outputs": [
    {
     "data": {
      "text/plain": [
       "1    17361\n",
       "2     3484\n",
       "3      577\n",
       "4       71\n",
       "5        5\n",
       "Name: contacts, dtype: int64"
      ]
     },
     "execution_count": 8,
     "metadata": {},
     "output_type": "execute_result"
    }
   ],
   "source": [
    "funnel['contacts'].value_counts()"
   ]
  },
  {
   "cell_type": "code",
   "execution_count": 9,
   "metadata": {},
   "outputs": [
    {
     "data": {
      "text/plain": [
       "86.0    3131\n",
       "77.0    1430\n",
       "54.0    1372\n",
       "78.0    1223\n",
       "66.0    1001\n",
       "        ... \n",
       "15.0      11\n",
       "83.0       5\n",
       "14.0       4\n",
       "87.0       1\n",
       "91.0       1\n",
       "Name: region_cd, Length: 75, dtype: int64"
      ]
     },
     "execution_count": 9,
     "metadata": {},
     "output_type": "execute_result"
    }
   ],
   "source": [
    "funnel['region_cd'].value_counts()"
   ]
  },
  {
   "cell_type": "markdown",
   "metadata": {},
   "source": [
    "# Transactions"
   ]
  },
  {
   "cell_type": "code",
   "execution_count": 10,
   "metadata": {},
   "outputs": [
    {
     "data": {
      "text/html": [
       "<div>\n",
       "<style scoped>\n",
       "    .dataframe tbody tr th:only-of-type {\n",
       "        vertical-align: middle;\n",
       "    }\n",
       "\n",
       "    .dataframe tbody tr th {\n",
       "        vertical-align: top;\n",
       "    }\n",
       "\n",
       "    .dataframe thead th {\n",
       "        text-align: right;\n",
       "    }\n",
       "</style>\n",
       "<table border=\"1\" class=\"dataframe\">\n",
       "  <thead>\n",
       "    <tr style=\"text-align: right;\">\n",
       "      <th></th>\n",
       "      <th>client_id</th>\n",
       "      <th>card_id</th>\n",
       "      <th>tran_time</th>\n",
       "      <th>tran_amt_rur</th>\n",
       "      <th>mcc_cd</th>\n",
       "      <th>merchant_cd</th>\n",
       "      <th>txn_country</th>\n",
       "      <th>txn_city</th>\n",
       "      <th>tsp_name</th>\n",
       "      <th>txn_comment_1</th>\n",
       "      <th>txn_comment_2</th>\n",
       "    </tr>\n",
       "  </thead>\n",
       "  <tbody>\n",
       "    <tr>\n",
       "      <th>0</th>\n",
       "      <td>-1893104556496814867</td>\n",
       "      <td>-6909844117230568380</td>\n",
       "      <td>2019-07-01 00:00:00</td>\n",
       "      <td>6071.0</td>\n",
       "      <td>6011.0</td>\n",
       "      <td>3796217713062573289</td>\n",
       "      <td>RUS</td>\n",
       "      <td>N. NOVGOROD</td>\n",
       "      <td>MOLODEZHNYY PR. DEPO</td>\n",
       "      <td>Cash withdrawal through an ATM</td>\n",
       "      <td>NaN</td>\n",
       "    </tr>\n",
       "    <tr>\n",
       "      <th>1</th>\n",
       "      <td>-1893104556496814867</td>\n",
       "      <td>-6909844117230568380</td>\n",
       "      <td>2019-07-29 00:00:00</td>\n",
       "      <td>6071.0</td>\n",
       "      <td>6011.0</td>\n",
       "      <td>3796217713062573289</td>\n",
       "      <td>RUS</td>\n",
       "      <td>N. NOVGOROD</td>\n",
       "      <td>MOLODEZHNYY PR. DEPO</td>\n",
       "      <td>Cash withdrawal through an ATM</td>\n",
       "      <td>NaN</td>\n",
       "    </tr>\n",
       "    <tr>\n",
       "      <th>2</th>\n",
       "      <td>-1893104556496814867</td>\n",
       "      <td>-6909844117230568380</td>\n",
       "      <td>2019-08-31 00:00:00</td>\n",
       "      <td>7285.0</td>\n",
       "      <td>6011.0</td>\n",
       "      <td>3796217713062573289</td>\n",
       "      <td>RUS</td>\n",
       "      <td>N. NOVGOROD</td>\n",
       "      <td>MOLODEZHNYY PR. DEPO</td>\n",
       "      <td>Cash withdrawal through an ATM</td>\n",
       "      <td>NaN</td>\n",
       "    </tr>\n",
       "    <tr>\n",
       "      <th>3</th>\n",
       "      <td>6886062013213911831</td>\n",
       "      <td>6527755410945490683</td>\n",
       "      <td>2019-08-14 10:38:33</td>\n",
       "      <td>2428.0</td>\n",
       "      <td>6011.0</td>\n",
       "      <td>-774579209084196290</td>\n",
       "      <td>RUS</td>\n",
       "      <td>RADUZHNYI</td>\n",
       "      <td>TTS SITI</td>\n",
       "      <td>Cash withdrawal through an ATM</td>\n",
       "      <td>NaN</td>\n",
       "    </tr>\n",
       "    <tr>\n",
       "      <th>4</th>\n",
       "      <td>6886062013213911831</td>\n",
       "      <td>6527755410945490683</td>\n",
       "      <td>2019-07-17 12:27:58</td>\n",
       "      <td>6071.0</td>\n",
       "      <td>6011.0</td>\n",
       "      <td>-7735007003326589238</td>\n",
       "      <td>RUS</td>\n",
       "      <td>RADUZHNYI</td>\n",
       "      <td>ODTS AGANGRAD</td>\n",
       "      <td>Cash withdrawal through an ATM</td>\n",
       "      <td>NaN</td>\n",
       "    </tr>\n",
       "    <tr>\n",
       "      <th>...</th>\n",
       "      <td>...</td>\n",
       "      <td>...</td>\n",
       "      <td>...</td>\n",
       "      <td>...</td>\n",
       "      <td>...</td>\n",
       "      <td>...</td>\n",
       "      <td>...</td>\n",
       "      <td>...</td>\n",
       "      <td>...</td>\n",
       "      <td>...</td>\n",
       "      <td>...</td>\n",
       "    </tr>\n",
       "    <tr>\n",
       "      <th>3035700</th>\n",
       "      <td>-3405096435133737788</td>\n",
       "      <td>-1484177776108621230</td>\n",
       "      <td>2018-09-06 07:41:17</td>\n",
       "      <td>728.0</td>\n",
       "      <td>6012.0</td>\n",
       "      <td>3967370607447365704</td>\n",
       "      <td>RUS</td>\n",
       "      <td>VISA DIRECT</td>\n",
       "      <td>VISA MONEY TRANSFER</td>\n",
       "      <td>Payment by card (bank transfer)</td>\n",
       "      <td>VISA MONEY TRANSFER</td>\n",
       "    </tr>\n",
       "    <tr>\n",
       "      <th>3035701</th>\n",
       "      <td>5941620754379828660</td>\n",
       "      <td>-4513708287312715087</td>\n",
       "      <td>2018-12-02 08:16:48</td>\n",
       "      <td>2550.0</td>\n",
       "      <td>6012.0</td>\n",
       "      <td>3967370607447365704</td>\n",
       "      <td>RUS</td>\n",
       "      <td>VISA DIRECT</td>\n",
       "      <td>VISA MONEY TRANSFER</td>\n",
       "      <td>Payment by card (bank transfer)</td>\n",
       "      <td>VISA MONEY TRANSFER</td>\n",
       "    </tr>\n",
       "    <tr>\n",
       "      <th>3035702</th>\n",
       "      <td>5941620754379828660</td>\n",
       "      <td>-4513708287312715087</td>\n",
       "      <td>2018-12-28 13:55:12</td>\n",
       "      <td>3642.0</td>\n",
       "      <td>6012.0</td>\n",
       "      <td>3967370607447365704</td>\n",
       "      <td>RUS</td>\n",
       "      <td>VISA DIRECT</td>\n",
       "      <td>VISA MONEY TRANSFER</td>\n",
       "      <td>Payment by card (bank transfer)</td>\n",
       "      <td>VISA MONEY TRANSFER</td>\n",
       "    </tr>\n",
       "    <tr>\n",
       "      <th>3035703</th>\n",
       "      <td>2964514409686635938</td>\n",
       "      <td>4497627322591857070</td>\n",
       "      <td>2018-12-21 09:32:26</td>\n",
       "      <td>2792.0</td>\n",
       "      <td>6012.0</td>\n",
       "      <td>3967370607447365704</td>\n",
       "      <td>RUS</td>\n",
       "      <td>VISA DIRECT</td>\n",
       "      <td>VISA MONEY TRANSFER</td>\n",
       "      <td>Payment by card (bank transfer)</td>\n",
       "      <td>VISA MONEY TRANSFER</td>\n",
       "    </tr>\n",
       "    <tr>\n",
       "      <th>3035704</th>\n",
       "      <td>-6226831769412580676</td>\n",
       "      <td>-1272519220927585782</td>\n",
       "      <td>2018-10-30 08:11:24</td>\n",
       "      <td>1214.0</td>\n",
       "      <td>6536.0</td>\n",
       "      <td>3967370607447365704</td>\n",
       "      <td>RUS</td>\n",
       "      <td>MOSCOW</td>\n",
       "      <td>MASTERCARD MONEYSEND</td>\n",
       "      <td>Payment by card (bank transfer)</td>\n",
       "      <td>MASTERCARD MONEYSEND</td>\n",
       "    </tr>\n",
       "  </tbody>\n",
       "</table>\n",
       "<p>3035705 rows × 11 columns</p>\n",
       "</div>"
      ],
      "text/plain": [
       "                   client_id              card_id            tran_time  \\\n",
       "0       -1893104556496814867 -6909844117230568380  2019-07-01 00:00:00   \n",
       "1       -1893104556496814867 -6909844117230568380  2019-07-29 00:00:00   \n",
       "2       -1893104556496814867 -6909844117230568380  2019-08-31 00:00:00   \n",
       "3        6886062013213911831  6527755410945490683  2019-08-14 10:38:33   \n",
       "4        6886062013213911831  6527755410945490683  2019-07-17 12:27:58   \n",
       "...                      ...                  ...                  ...   \n",
       "3035700 -3405096435133737788 -1484177776108621230  2018-09-06 07:41:17   \n",
       "3035701  5941620754379828660 -4513708287312715087  2018-12-02 08:16:48   \n",
       "3035702  5941620754379828660 -4513708287312715087  2018-12-28 13:55:12   \n",
       "3035703  2964514409686635938  4497627322591857070  2018-12-21 09:32:26   \n",
       "3035704 -6226831769412580676 -1272519220927585782  2018-10-30 08:11:24   \n",
       "\n",
       "         tran_amt_rur  mcc_cd          merchant_cd txn_country     txn_city  \\\n",
       "0              6071.0  6011.0  3796217713062573289         RUS  N. NOVGOROD   \n",
       "1              6071.0  6011.0  3796217713062573289         RUS  N. NOVGOROD   \n",
       "2              7285.0  6011.0  3796217713062573289         RUS  N. NOVGOROD   \n",
       "3              2428.0  6011.0  -774579209084196290         RUS    RADUZHNYI   \n",
       "4              6071.0  6011.0 -7735007003326589238         RUS    RADUZHNYI   \n",
       "...               ...     ...                  ...         ...          ...   \n",
       "3035700         728.0  6012.0  3967370607447365704         RUS  VISA DIRECT   \n",
       "3035701        2550.0  6012.0  3967370607447365704         RUS  VISA DIRECT   \n",
       "3035702        3642.0  6012.0  3967370607447365704         RUS  VISA DIRECT   \n",
       "3035703        2792.0  6012.0  3967370607447365704         RUS  VISA DIRECT   \n",
       "3035704        1214.0  6536.0  3967370607447365704         RUS       MOSCOW   \n",
       "\n",
       "                     tsp_name                    txn_comment_1  \\\n",
       "0        MOLODEZHNYY PR. DEPO   Cash withdrawal through an ATM   \n",
       "1        MOLODEZHNYY PR. DEPO   Cash withdrawal through an ATM   \n",
       "2        MOLODEZHNYY PR. DEPO   Cash withdrawal through an ATM   \n",
       "3                    TTS SITI   Cash withdrawal through an ATM   \n",
       "4               ODTS AGANGRAD   Cash withdrawal through an ATM   \n",
       "...                       ...                              ...   \n",
       "3035700   VISA MONEY TRANSFER  Payment by card (bank transfer)   \n",
       "3035701   VISA MONEY TRANSFER  Payment by card (bank transfer)   \n",
       "3035702   VISA MONEY TRANSFER  Payment by card (bank transfer)   \n",
       "3035703   VISA MONEY TRANSFER  Payment by card (bank transfer)   \n",
       "3035704  MASTERCARD MONEYSEND  Payment by card (bank transfer)   \n",
       "\n",
       "                txn_comment_2  \n",
       "0                         NaN  \n",
       "1                         NaN  \n",
       "2                         NaN  \n",
       "3                         NaN  \n",
       "4                         NaN  \n",
       "...                       ...  \n",
       "3035700   VISA MONEY TRANSFER  \n",
       "3035701   VISA MONEY TRANSFER  \n",
       "3035702   VISA MONEY TRANSFER  \n",
       "3035703   VISA MONEY TRANSFER  \n",
       "3035704  MASTERCARD MONEYSEND  \n",
       "\n",
       "[3035705 rows x 11 columns]"
      ]
     },
     "execution_count": 10,
     "metadata": {},
     "output_type": "execute_result"
    }
   ],
   "source": [
    "transactions"
   ]
  },
  {
   "cell_type": "code",
   "execution_count": 11,
   "metadata": {},
   "outputs": [
    {
     "data": {
      "text/plain": [
       "client_id              0\n",
       "card_id                0\n",
       "tran_time              0\n",
       "tran_amt_rur           0\n",
       "mcc_cd               132\n",
       "merchant_cd            0\n",
       "txn_country            0\n",
       "txn_city            5385\n",
       "tsp_name            2162\n",
       "txn_comment_1          0\n",
       "txn_comment_2    2638786\n",
       "dtype: int64"
      ]
     },
     "execution_count": 11,
     "metadata": {},
     "output_type": "execute_result"
    }
   ],
   "source": [
    "transactions.isnull().sum()"
   ]
  },
  {
   "cell_type": "code",
   "execution_count": 12,
   "metadata": {},
   "outputs": [],
   "source": [
    "transactions['mcc_cd'] = transactions['mcc_cd'].fillna(-2)\n",
    "transactions['txn_city'] = transactions['txn_city'].fillna('<UNK>')\n",
    "transactions['tsp_name'] = transactions['tsp_name'].fillna('<UNK>')\n",
    "transactions['txn_comment_2'] = transactions['txn_comment_2'].fillna('<UNK>')"
   ]
  },
  {
   "cell_type": "code",
   "execution_count": 13,
   "metadata": {},
   "outputs": [
    {
     "data": {
      "text/plain": [
       " 8247514152661289191    3101\n",
       "-9059132502179716006    2656\n",
       " 7922361971867610498    2413\n",
       "-7299536715312723669    2322\n",
       " 410746725485357352     2318\n",
       "                        ... \n",
       " 9042984261245798495       1\n",
       "-9164745288538024239       1\n",
       "-2639946325109418679       1\n",
       "-3176336415532661554       1\n",
       " 328258837130732479        1\n",
       "Name: client_id, Length: 11236, dtype: int64"
      ]
     },
     "execution_count": 13,
     "metadata": {},
     "output_type": "execute_result"
    }
   ],
   "source": [
    "transactions['client_id'].value_counts()"
   ]
  },
  {
   "cell_type": "code",
   "execution_count": 14,
   "metadata": {},
   "outputs": [
    {
     "data": {
      "text/plain": [
       "2019-02-28 00:00:00    5665\n",
       "2019-06-02 00:00:00    3819\n",
       "2019-08-14 00:00:00    3296\n",
       "2019-08-28 00:00:00    3291\n",
       "2019-07-24 00:00:00    3270\n",
       "                       ... \n",
       "2019-05-15 13:24:30       1\n",
       "2019-07-24 10:01:12       1\n",
       "2019-02-07 04:46:24       1\n",
       "2019-04-22 18:53:45       1\n",
       "2019-06-17 10:27:57       1\n",
       "Name: tran_time, Length: 2082989, dtype: int64"
      ]
     },
     "execution_count": 14,
     "metadata": {},
     "output_type": "execute_result"
    }
   ],
   "source": [
    "transactions['tran_time'].value_counts()"
   ]
  },
  {
   "cell_type": "code",
   "execution_count": 15,
   "metadata": {},
   "outputs": [
    {
     "data": {
      "text/plain": [
       "(Timestamp('2018-09-01 00:00:00'), Timestamp('2019-08-31 23:58:15'))"
      ]
     },
     "execution_count": 15,
     "metadata": {},
     "output_type": "execute_result"
    }
   ],
   "source": [
    "pd.to_datetime(transactions['tran_time']).min(), pd.to_datetime(transactions['tran_time']).max()"
   ]
  },
  {
   "cell_type": "code",
   "execution_count": 16,
   "metadata": {},
   "outputs": [
    {
     "data": {
      "text/plain": [
       "0.0       10262\n",
       "2.0         135\n",
       "11.0        120\n",
       "12.0        114\n",
       "1.0         111\n",
       "          ...  \n",
       "1060.0        1\n",
       "1244.0        1\n",
       "1146.0        1\n",
       "1346.0        1\n",
       "1174.0        1\n",
       "Name: total_transactions, Length: 1258, dtype: int64"
      ]
     },
     "execution_count": 16,
     "metadata": {},
     "output_type": "execute_result"
    }
   ],
   "source": [
    "data['total_transactions'] = data['client_id'].map(transactions.groupby('client_id').size()).fillna(0)\n",
    "data['total_transactions'].value_counts()"
   ]
  },
  {
   "cell_type": "code",
   "execution_count": 17,
   "metadata": {},
   "outputs": [
    {
     "data": {
      "text/plain": [
       "0.0     10262\n",
       "1.0      6618\n",
       "2.0      2818\n",
       "3.0      1130\n",
       "4.0       446\n",
       "5.0       155\n",
       "6.0        46\n",
       "7.0        13\n",
       "8.0         7\n",
       "9.0         2\n",
       "13.0        1\n",
       "Name: total_cards, dtype: int64"
      ]
     },
     "execution_count": 17,
     "metadata": {},
     "output_type": "execute_result"
    }
   ],
   "source": [
    "data['total_cards'] = get_feature_total(transactions, 'card_id')\n",
    "data['total_cards'].value_counts()"
   ]
  },
  {
   "cell_type": "code",
   "execution_count": 18,
   "metadata": {},
   "outputs": [
    {
     "data": {
      "text/plain": [
       "-1.0                  10262\n",
       "121.0                    46\n",
       "1214.0                    8\n",
       "24282.0                   6\n",
       "1821.0                    6\n",
       "                      ...  \n",
       "10450.125                 1\n",
       "1471.864406779661         1\n",
       "1037.6381766381767        1\n",
       "1337.5238095238096        1\n",
       "49857.3                   1\n",
       "Name: mean_transaction_amt, Length: 11121, dtype: int64"
      ]
     },
     "execution_count": 18,
     "metadata": {},
     "output_type": "execute_result"
    }
   ],
   "source": [
    "data['mean_transaction_amt'] = data['client_id'].map(transactions.groupby('client_id')['tran_amt_rur'].mean()).fillna(-1)\n",
    "data['mean_transaction_amt'].value_counts()"
   ]
  },
  {
   "cell_type": "code",
   "execution_count": 19,
   "metadata": {},
   "outputs": [
    {
     "data": {
      "text/plain": [
       "0.0     10262\n",
       "2.0       683\n",
       "1.0       620\n",
       "3.0       546\n",
       "4.0       318\n",
       "        ...  \n",
       "88.0        1\n",
       "78.0        1\n",
       "85.0        1\n",
       "79.0        1\n",
       "91.0        1\n",
       "Name: total_mcc_cd, Length: 86, dtype: int64"
      ]
     },
     "execution_count": 19,
     "metadata": {},
     "output_type": "execute_result"
    }
   ],
   "source": [
    "data['total_mcc_cd'] = get_feature_total(transactions, 'mcc_cd')\n",
    "data['total_mcc_cd'].value_counts()"
   ]
  },
  {
   "cell_type": "code",
   "execution_count": 20,
   "metadata": {},
   "outputs": [
    {
     "data": {
      "text/plain": [
       "0.0                     10262\n",
       "1.0                       229\n",
       "0.5                       162\n",
       "0.25                      150\n",
       "0.3333333333333333        140\n",
       "                        ...  \n",
       "0.1018867924528302          1\n",
       "0.051771117166212535        1\n",
       "0.06791569086651054         1\n",
       "0.04470588235294118         1\n",
       "0.0821256038647343          1\n",
       "Name: total_share_mcc_cd, Length: 4984, dtype: int64"
      ]
     },
     "execution_count": 20,
     "metadata": {},
     "output_type": "execute_result"
    }
   ],
   "source": [
    "data['total_share_mcc_cd'] = (data['total_mcc_cd'] / data['total_transactions']).fillna(0)\n",
    "data['total_share_mcc_cd'].value_counts()"
   ]
  },
  {
   "cell_type": "code",
   "execution_count": 21,
   "metadata": {},
   "outputs": [
    {
     "data": {
      "text/plain": [
       "-1.0      10262\n",
       "5411.0     5325\n",
       "6011.0     2595\n",
       "6536.0      844\n",
       "5499.0      550\n",
       "          ...  \n",
       "5977.0        1\n",
       "3011.0        1\n",
       "7273.0        1\n",
       "8011.0        1\n",
       "8071.0        1\n",
       "Name: most_common_mcc_cd, Length: 74, dtype: int64"
      ]
     },
     "execution_count": 21,
     "metadata": {},
     "output_type": "execute_result"
    }
   ],
   "source": [
    "data['most_common_mcc_cd'] = get_feature_most_common(transactions, 'mcc_cd', -1)\n",
    "data['most_common_mcc_cd'].value_counts()"
   ]
  },
  {
   "cell_type": "code",
   "execution_count": 22,
   "metadata": {},
   "outputs": [
    {
     "data": {
      "text/plain": [
       "0.0      10262\n",
       "3.0        689\n",
       "4.0        671\n",
       "2.0        641\n",
       "5.0        563\n",
       "         ...  \n",
       "199.0        1\n",
       "115.0        1\n",
       "385.0        1\n",
       "317.0        1\n",
       "209.0        1\n",
       "Name: total_merchant_cd, Length: 154, dtype: int64"
      ]
     },
     "execution_count": 22,
     "metadata": {},
     "output_type": "execute_result"
    }
   ],
   "source": [
    "data['total_merchant_cd'] = get_feature_total(transactions, 'merchant_cd')\n",
    "data['total_merchant_cd'].value_counts()"
   ]
  },
  {
   "cell_type": "code",
   "execution_count": 23,
   "metadata": {},
   "outputs": [
    {
     "data": {
      "text/plain": [
       "0.0                     10262\n",
       "1.0                       213\n",
       "0.5                       183\n",
       "0.3333333333333333        144\n",
       "0.25                      119\n",
       "                        ...  \n",
       "0.040955631399317405        1\n",
       "0.026410564225690276        1\n",
       "0.03547297297297297         1\n",
       "0.08665906499429875         1\n",
       "0.1446280991735537          1\n",
       "Name: total_share_merchant_cd, Length: 4942, dtype: int64"
      ]
     },
     "execution_count": 23,
     "metadata": {},
     "output_type": "execute_result"
    }
   ],
   "source": [
    "data['total_share_merchant_cd'] = (data['total_merchant_cd'] / data['total_transactions']).fillna(0)\n",
    "data['total_share_merchant_cd'].value_counts()"
   ]
  },
  {
   "cell_type": "code",
   "execution_count": 24,
   "metadata": {},
   "outputs": [
    {
     "data": {
      "text/plain": [
       "-1.0                      10262\n",
       "3.9673706074473656e+18     9268\n",
       "6.303729926858726e+18       346\n",
       "3.9569210638920535e+18      202\n",
       "-5.649346468447594e+18      176\n",
       "                          ...  \n",
       "-8.964917765656054e+17        1\n",
       "-4.192612835342741e+18        1\n",
       "-7.64182099647542e+18         1\n",
       "-9.16373487481942e+18         1\n",
       "-6.871520906596311e+18        1\n",
       "Name: most_common_merchant_cd, Length: 976, dtype: int64"
      ]
     },
     "execution_count": 24,
     "metadata": {},
     "output_type": "execute_result"
    }
   ],
   "source": [
    "data['most_common_merchant_cd'] = get_feature_most_common(transactions, 'merchant_cd', -1)\n",
    "data['most_common_merchant_cd'].value_counts()"
   ]
  },
  {
   "cell_type": "code",
   "execution_count": 25,
   "metadata": {},
   "outputs": [
    {
     "data": {
      "text/plain": [
       "0.0      10262\n",
       "2.0       1323\n",
       "3.0       1003\n",
       "1.0        983\n",
       "4.0        788\n",
       "         ...  \n",
       "84.0         1\n",
       "93.0         1\n",
       "100.0        1\n",
       "118.0        1\n",
       "75.0         1\n",
       "Name: total_txn_city, Length: 92, dtype: int64"
      ]
     },
     "execution_count": 25,
     "metadata": {},
     "output_type": "execute_result"
    }
   ],
   "source": [
    "data['total_txn_city'] = get_feature_total(transactions, 'txn_city')\n",
    "data['total_txn_city'].value_counts()"
   ]
  },
  {
   "cell_type": "code",
   "execution_count": 26,
   "metadata": {},
   "outputs": [
    {
     "data": {
      "text/plain": [
       "0.0                     10262\n",
       "1.0                       165\n",
       "0.5                       154\n",
       "0.2                       127\n",
       "0.25                      124\n",
       "                        ...  \n",
       "0.02113821138211382         1\n",
       "0.02556818181818182         1\n",
       "0.11009174311926606         1\n",
       "0.035758323057953144        1\n",
       "0.06623931623931624         1\n",
       "Name: total_share_txn_city, Length: 4279, dtype: int64"
      ]
     },
     "execution_count": 26,
     "metadata": {},
     "output_type": "execute_result"
    }
   ],
   "source": [
    "data['total_share_txn_city'] = (data['total_txn_city'] / data['total_transactions']).fillna(0)\n",
    "data['total_share_txn_city'].value_counts()"
   ]
  },
  {
   "cell_type": "code",
   "execution_count": 27,
   "metadata": {},
   "outputs": [
    {
     "data": {
      "text/plain": [
       "<unknown>        10262\n",
       "MOSCOW            1819\n",
       "NOVOSIBIRSK        520\n",
       "SURGUT             258\n",
       "KOGALYM            251\n",
       "                 ...  \n",
       "TUYMAZY              1\n",
       "FRYAZINO             1\n",
       "TRUBCHEVSK           1\n",
       "KAZACHI LAGER        1\n",
       "SHUMYACHI            1\n",
       "Name: most_common_txn_city, Length: 1142, dtype: int64"
      ]
     },
     "execution_count": 27,
     "metadata": {},
     "output_type": "execute_result"
    }
   ],
   "source": [
    "data['most_common_txn_city'] = get_feature_most_common(transactions, 'txn_city', '<unknown>')\n",
    "data['most_common_txn_city'].value_counts()"
   ]
  },
  {
   "cell_type": "code",
   "execution_count": 28,
   "metadata": {},
   "outputs": [
    {
     "data": {
      "text/plain": [
       "0.0      10262\n",
       "2.0        477\n",
       "3.0        443\n",
       "1.0        378\n",
       "4.0        327\n",
       "         ...  \n",
       "263.0        1\n",
       "238.0        1\n",
       "226.0        1\n",
       "298.0        1\n",
       "293.0        1\n",
       "Name: total_tsp_name, Length: 302, dtype: int64"
      ]
     },
     "execution_count": 28,
     "metadata": {},
     "output_type": "execute_result"
    }
   ],
   "source": [
    "data['total_tsp_name'] = get_feature_total(transactions, 'tsp_name')\n",
    "data['total_tsp_name'].value_counts()"
   ]
  },
  {
   "cell_type": "code",
   "execution_count": 29,
   "metadata": {},
   "outputs": [
    {
     "data": {
      "text/plain": [
       "0.0                    10262\n",
       "1.0                      263\n",
       "0.5                      210\n",
       "0.3333333333333333       169\n",
       "0.25                     133\n",
       "                       ...  \n",
       "0.3522727272727273         1\n",
       "0.206                      1\n",
       "0.12867647058823528        1\n",
       "0.17304492512479203        1\n",
       "0.27842227378190254        1\n",
       "Name: total_share_tsp_name, Length: 6030, dtype: int64"
      ]
     },
     "execution_count": 29,
     "metadata": {},
     "output_type": "execute_result"
    }
   ],
   "source": [
    "data['total_share_tsp_name'] = (data['total_tsp_name'] / data['total_transactions']).fillna(0)\n",
    "data['total_share_tsp_name'].value_counts()"
   ]
  },
  {
   "cell_type": "code",
   "execution_count": 30,
   "metadata": {},
   "outputs": [
    {
     "data": {
      "text/plain": [
       "<unknown>             10262\n",
       "OPEN.RU CARDCARD       1495\n",
       "PYATEROCHKA             876\n",
       "ATM                     700\n",
       "WWW.OPENONLINE.RU       682\n",
       "                      ...  \n",
       "BAR JIGGERPONY            1\n",
       "IP TADEVOSYAN RS          1\n",
       "KUZBASSKII BROILER        1\n",
       "MAGAZIN RADAMIR           1\n",
       "EST POVOD                 1\n",
       "Name: most_common_tsp_name, Length: 3477, dtype: int64"
      ]
     },
     "execution_count": 30,
     "metadata": {},
     "output_type": "execute_result"
    }
   ],
   "source": [
    "data['most_common_tsp_name'] = get_feature_most_common(transactions, 'tsp_name', '<unknown>')\n",
    "data['most_common_tsp_name'].value_counts()"
   ]
  },
  {
   "cell_type": "code",
   "execution_count": 31,
   "metadata": {},
   "outputs": [
    {
     "data": {
      "text/plain": [
       "0.0    10262\n",
       "3.0     2548\n",
       "4.0     2545\n",
       "5.0     2161\n",
       "2.0     2054\n",
       "6.0     1127\n",
       "1.0      714\n",
       "7.0       87\n",
       "Name: total_txn_comment_1, dtype: int64"
      ]
     },
     "execution_count": 31,
     "metadata": {},
     "output_type": "execute_result"
    }
   ],
   "source": [
    "data['total_txn_comment_1'] = get_feature_total(transactions, 'txn_comment_1')\n",
    "data['total_txn_comment_1'].value_counts()"
   ]
  },
  {
   "cell_type": "code",
   "execution_count": 32,
   "metadata": {},
   "outputs": [
    {
     "data": {
      "text/plain": [
       "<unknown>                          10262\n",
       "Payment for goods and services      8607\n",
       "Cash withdrawal through an ATM      1333\n",
       "Payment by card (bank transfer)      480\n",
       "Cash deposit by card                 440\n",
       "Cashless transfer                    369\n",
       "Cash withdrawal                        4\n",
       "Return of goods / services             3\n",
       "Name: most_common_txn_comment_1, dtype: int64"
      ]
     },
     "execution_count": 32,
     "metadata": {},
     "output_type": "execute_result"
    }
   ],
   "source": [
    "data['most_common_txn_comment_1'] = get_feature_most_common(transactions, 'txn_comment_1', '<unknown>')\n",
    "data['most_common_txn_comment_1'].value_counts()"
   ]
  },
  {
   "cell_type": "code",
   "execution_count": 33,
   "metadata": {},
   "outputs": [
    {
     "data": {
      "text/plain": [
       "0.0    10262\n",
       "4.0     3785\n",
       "3.0     2503\n",
       "1.0     2142\n",
       "2.0     2120\n",
       "5.0      686\n",
       "Name: total_txn_comment_2, dtype: int64"
      ]
     },
     "execution_count": 33,
     "metadata": {},
     "output_type": "execute_result"
    }
   ],
   "source": [
    "data['total_txn_comment_2'] = get_feature_total(transactions, 'txn_comment_2')\n",
    "data['total_txn_comment_2'].value_counts()"
   ]
  },
  {
   "cell_type": "code",
   "execution_count": 34,
   "metadata": {},
   "outputs": [
    {
     "data": {
      "text/plain": [
       "<UNK>                     10428\n",
       "<unknown>                 10262\n",
       "<manual mode>               346\n",
       "Purchase payment (web)      333\n",
       "Opening Online              111\n",
       "VISA MONEY TRANSFER          18\n",
       "Name: most_common_txn_comment_2, dtype: int64"
      ]
     },
     "execution_count": 34,
     "metadata": {},
     "output_type": "execute_result"
    }
   ],
   "source": [
    "data['most_common_txn_comment_2'] = get_feature_most_common(transactions, 'txn_comment_2', '<unknown>')\n",
    "data['most_common_txn_comment_2'].value_counts()"
   ]
  },
  {
   "cell_type": "markdown",
   "metadata": {},
   "source": [
    "# assets_under_management"
   ]
  },
  {
   "cell_type": "code",
   "execution_count": 35,
   "metadata": {},
   "outputs": [
    {
     "data": {
      "text/html": [
       "<div>\n",
       "<style scoped>\n",
       "    .dataframe tbody tr th:only-of-type {\n",
       "        vertical-align: middle;\n",
       "    }\n",
       "\n",
       "    .dataframe tbody tr th {\n",
       "        vertical-align: top;\n",
       "    }\n",
       "\n",
       "    .dataframe thead th {\n",
       "        text-align: right;\n",
       "    }\n",
       "</style>\n",
       "<table border=\"1\" class=\"dataframe\">\n",
       "  <thead>\n",
       "    <tr style=\"text-align: right;\">\n",
       "      <th></th>\n",
       "      <th>client_id</th>\n",
       "      <th>month_end_dt</th>\n",
       "      <th>balance_rur_amt</th>\n",
       "      <th>product_code</th>\n",
       "    </tr>\n",
       "  </thead>\n",
       "  <tbody>\n",
       "    <tr>\n",
       "      <th>0</th>\n",
       "      <td>-1893104556496814867</td>\n",
       "      <td>2018-12-31</td>\n",
       "      <td>44.0</td>\n",
       "      <td>Current accounts</td>\n",
       "    </tr>\n",
       "    <tr>\n",
       "      <th>1</th>\n",
       "      <td>-1893104556496814867</td>\n",
       "      <td>2019-04-30</td>\n",
       "      <td>44.0</td>\n",
       "      <td>Current accounts</td>\n",
       "    </tr>\n",
       "    <tr>\n",
       "      <th>2</th>\n",
       "      <td>-1893104556496814867</td>\n",
       "      <td>2019-06-30</td>\n",
       "      <td>6115.0</td>\n",
       "      <td>Current accounts</td>\n",
       "    </tr>\n",
       "    <tr>\n",
       "      <th>3</th>\n",
       "      <td>-1893104556496814867</td>\n",
       "      <td>2019-07-31</td>\n",
       "      <td>6115.0</td>\n",
       "      <td>Current accounts</td>\n",
       "    </tr>\n",
       "    <tr>\n",
       "      <th>4</th>\n",
       "      <td>-1893104556496814867</td>\n",
       "      <td>2019-08-31</td>\n",
       "      <td>45685.0</td>\n",
       "      <td>Current accounts</td>\n",
       "    </tr>\n",
       "    <tr>\n",
       "      <th>...</th>\n",
       "      <td>...</td>\n",
       "      <td>...</td>\n",
       "      <td>...</td>\n",
       "      <td>...</td>\n",
       "    </tr>\n",
       "    <tr>\n",
       "      <th>117387</th>\n",
       "      <td>261276908856610555</td>\n",
       "      <td>2019-05-31</td>\n",
       "      <td>60706.0</td>\n",
       "      <td>ILI</td>\n",
       "    </tr>\n",
       "    <tr>\n",
       "      <th>117388</th>\n",
       "      <td>261276908856610555</td>\n",
       "      <td>2019-07-31</td>\n",
       "      <td>60706.0</td>\n",
       "      <td>ILI</td>\n",
       "    </tr>\n",
       "    <tr>\n",
       "      <th>117389</th>\n",
       "      <td>261276908856610555</td>\n",
       "      <td>2019-06-30</td>\n",
       "      <td>60706.0</td>\n",
       "      <td>ILI</td>\n",
       "    </tr>\n",
       "    <tr>\n",
       "      <th>117390</th>\n",
       "      <td>261276908856610555</td>\n",
       "      <td>2019-08-31</td>\n",
       "      <td>60706.0</td>\n",
       "      <td>ILI</td>\n",
       "    </tr>\n",
       "    <tr>\n",
       "      <th>117391</th>\n",
       "      <td>-5571181196406810574</td>\n",
       "      <td>2019-08-31</td>\n",
       "      <td>60706.0</td>\n",
       "      <td>ILI</td>\n",
       "    </tr>\n",
       "  </tbody>\n",
       "</table>\n",
       "<p>117392 rows × 4 columns</p>\n",
       "</div>"
      ],
      "text/plain": [
       "                  client_id month_end_dt  balance_rur_amt      product_code\n",
       "0      -1893104556496814867   2018-12-31             44.0  Current accounts\n",
       "1      -1893104556496814867   2019-04-30             44.0  Current accounts\n",
       "2      -1893104556496814867   2019-06-30           6115.0  Current accounts\n",
       "3      -1893104556496814867   2019-07-31           6115.0  Current accounts\n",
       "4      -1893104556496814867   2019-08-31          45685.0  Current accounts\n",
       "...                     ...          ...              ...               ...\n",
       "117387   261276908856610555   2019-05-31          60706.0               ILI\n",
       "117388   261276908856610555   2019-07-31          60706.0               ILI\n",
       "117389   261276908856610555   2019-06-30          60706.0               ILI\n",
       "117390   261276908856610555   2019-08-31          60706.0               ILI\n",
       "117391 -5571181196406810574   2019-08-31          60706.0               ILI\n",
       "\n",
       "[117392 rows x 4 columns]"
      ]
     },
     "execution_count": 35,
     "metadata": {},
     "output_type": "execute_result"
    }
   ],
   "source": [
    "assets_under_management"
   ]
  },
  {
   "cell_type": "code",
   "execution_count": 103,
   "metadata": {},
   "outputs": [
    {
     "data": {
      "text/plain": [
       "client_id          0\n",
       "month_end_dt       0\n",
       "balance_rur_amt    0\n",
       "product_code       0\n",
       "dtype: int64"
      ]
     },
     "execution_count": 103,
     "metadata": {},
     "output_type": "execute_result"
    }
   ],
   "source": [
    "assets_under_management.isnull().sum()"
   ]
  },
  {
   "cell_type": "code",
   "execution_count": 44,
   "metadata": {},
   "outputs": [
    {
     "data": {
      "text/plain": [
       "0.0     8873\n",
       "10.0    7538\n",
       "9.0     1417\n",
       "6.0      485\n",
       "7.0      445\n",
       "8.0      380\n",
       "4.0      347\n",
       "3.0      332\n",
       "5.0      302\n",
       "1.0      287\n",
       "20.0     261\n",
       "2.0      247\n",
       "19.0      75\n",
       "13.0      72\n",
       "12.0      66\n",
       "11.0      66\n",
       "18.0      48\n",
       "16.0      48\n",
       "14.0      40\n",
       "30.0      39\n",
       "17.0      28\n",
       "15.0      19\n",
       "21.0      16\n",
       "29.0      11\n",
       "28.0       8\n",
       "27.0       7\n",
       "24.0       7\n",
       "40.0       6\n",
       "23.0       6\n",
       "22.0       5\n",
       "26.0       4\n",
       "37.0       3\n",
       "31.0       2\n",
       "38.0       2\n",
       "34.0       2\n",
       "45.0       1\n",
       "36.0       1\n",
       "39.0       1\n",
       "32.0       1\n",
       "Name: total_aum, dtype: int64"
      ]
     },
     "execution_count": 44,
     "metadata": {},
     "output_type": "execute_result"
    }
   ],
   "source": [
    "data['total_aum'] = data['client_id'].map(assets_under_management.groupby('client_id').size()).fillna(0)\n",
    "data['total_aum'].value_counts()"
   ]
  },
  {
   "cell_type": "code",
   "execution_count": 40,
   "metadata": {},
   "outputs": [
    {
     "data": {
      "text/plain": [
       "Current accounts    12159\n",
       "<unknown>            8873\n",
       "Time account          233\n",
       "Broker                154\n",
       "NSJ                    44\n",
       "UK                     29\n",
       "ILI                     6\n",
       "Name: most_common_product_code, dtype: int64"
      ]
     },
     "execution_count": 40,
     "metadata": {},
     "output_type": "execute_result"
    }
   ],
   "source": [
    "data['most_common_product_code'] = get_feature_most_common(assets_under_management, 'product_code', '<unknown>')\n",
    "data['most_common_product_code'].value_counts()"
   ]
  },
  {
   "cell_type": "code",
   "execution_count": 41,
   "metadata": {},
   "outputs": [
    {
     "data": {
      "text/plain": [
       "1.0    11694\n",
       "0.0     8873\n",
       "2.0      785\n",
       "3.0      121\n",
       "4.0       23\n",
       "5.0        2\n",
       "Name: total_product_code, dtype: int64"
      ]
     },
     "execution_count": 41,
     "metadata": {},
     "output_type": "execute_result"
    }
   ],
   "source": [
    "data['total_product_code'] = get_feature_total(assets_under_management, 'product_code')\n",
    "data['total_product_code'].value_counts()"
   ]
  },
  {
   "cell_type": "code",
   "execution_count": 55,
   "metadata": {},
   "outputs": [
    {
     "data": {
      "image/png": "[encoded data removed]",
      "text/plain": [
       "<Figure size 432x288 with 1 Axes>"
      ]
     },
     "metadata": {
      "needs_background": "light"
     },
     "output_type": "display_data"
    }
   ],
   "source": [
    "data['mean_balance_rur_amt'] = data['client_id'].map(assets_under_management.groupby('client_id')['balance_rur_amt'].mean()).fillna(-1)\n",
    "np.log1p(data['mean_balance_rur_amt'] + 1).hist(bins=20)\n",
    "plt.show()"
   ]
  },
  {
   "cell_type": "code",
   "execution_count": 58,
   "metadata": {},
   "outputs": [
    {
     "data": {
      "image/png": "[encoded data removed]",
      "text/plain": [
       "<Figure size 432x288 with 1 Axes>"
      ]
     },
     "metadata": {
      "needs_background": "light"
     },
     "output_type": "display_data"
    }
   ],
   "source": [
    "data['std_balance_rur_amt'] = data['client_id'].map(assets_under_management.groupby('client_id')['balance_rur_amt'].agg(lambda x: x.std())).fillna(-1)\n",
    "np.log1p(data['max_min_balance_rur_amt'] + 1).hist(bins=20)\n",
    "plt.show()"
   ]
  },
  {
   "cell_type": "markdown",
   "metadata": {},
   "source": [
    "# Balance"
   ]
  },
  {
   "cell_type": "code",
   "execution_count": 60,
   "metadata": {},
   "outputs": [
    {
     "data": {
      "text/html": [
       "<div>\n",
       "<style scoped>\n",
       "    .dataframe tbody tr th:only-of-type {\n",
       "        vertical-align: middle;\n",
       "    }\n",
       "\n",
       "    .dataframe tbody tr th {\n",
       "        vertical-align: top;\n",
       "    }\n",
       "\n",
       "    .dataframe thead th {\n",
       "        text-align: right;\n",
       "    }\n",
       "</style>\n",
       "<table border=\"1\" class=\"dataframe\">\n",
       "  <thead>\n",
       "    <tr style=\"text-align: right;\">\n",
       "      <th></th>\n",
       "      <th>client_id</th>\n",
       "      <th>crncy_cd</th>\n",
       "      <th>eop_bal_sum_rur</th>\n",
       "      <th>min_bal_sum_rur</th>\n",
       "      <th>max_bal_sum_rur</th>\n",
       "      <th>avg_bal_sum_rur</th>\n",
       "      <th>month_end_dt</th>\n",
       "      <th>prod_cat_name</th>\n",
       "      <th>prod_group_name</th>\n",
       "    </tr>\n",
       "  </thead>\n",
       "  <tbody>\n",
       "    <tr>\n",
       "      <th>0</th>\n",
       "      <td>7513301859607023584</td>\n",
       "      <td>810.0</td>\n",
       "      <td>0.0</td>\n",
       "      <td>0.0</td>\n",
       "      <td>0.0</td>\n",
       "      <td>0.0</td>\n",
       "      <td>2018-09-30</td>\n",
       "      <td>CURRENT ACCOUNTS</td>\n",
       "      <td>Cash on demand</td>\n",
       "    </tr>\n",
       "    <tr>\n",
       "      <th>1</th>\n",
       "      <td>7513301859607023584</td>\n",
       "      <td>810.0</td>\n",
       "      <td>0.0</td>\n",
       "      <td>0.0</td>\n",
       "      <td>0.0</td>\n",
       "      <td>0.0</td>\n",
       "      <td>2018-09-30</td>\n",
       "      <td>CURRENT ACCOUNTS</td>\n",
       "      <td>Cash on demand</td>\n",
       "    </tr>\n",
       "    <tr>\n",
       "      <th>2</th>\n",
       "      <td>7513301859607023584</td>\n",
       "      <td>810.0</td>\n",
       "      <td>0.0</td>\n",
       "      <td>0.0</td>\n",
       "      <td>0.0</td>\n",
       "      <td>0.0</td>\n",
       "      <td>2018-09-30</td>\n",
       "      <td>CURRENT ACCOUNTS</td>\n",
       "      <td>Cash on demand</td>\n",
       "    </tr>\n",
       "    <tr>\n",
       "      <th>3</th>\n",
       "      <td>7513301859607023584</td>\n",
       "      <td>810.0</td>\n",
       "      <td>0.0</td>\n",
       "      <td>0.0</td>\n",
       "      <td>0.0</td>\n",
       "      <td>0.0</td>\n",
       "      <td>2018-09-30</td>\n",
       "      <td>CURRENT ACCOUNTS</td>\n",
       "      <td>Cash on demand</td>\n",
       "    </tr>\n",
       "    <tr>\n",
       "      <th>4</th>\n",
       "      <td>7513301859607023584</td>\n",
       "      <td>810.0</td>\n",
       "      <td>0.0</td>\n",
       "      <td>0.0</td>\n",
       "      <td>0.0</td>\n",
       "      <td>0.0</td>\n",
       "      <td>2018-09-30</td>\n",
       "      <td>CURRENT ACCOUNTS</td>\n",
       "      <td>Cash on demand</td>\n",
       "    </tr>\n",
       "    <tr>\n",
       "      <th>...</th>\n",
       "      <td>...</td>\n",
       "      <td>...</td>\n",
       "      <td>...</td>\n",
       "      <td>...</td>\n",
       "      <td>...</td>\n",
       "      <td>...</td>\n",
       "      <td>...</td>\n",
       "      <td>...</td>\n",
       "      <td>...</td>\n",
       "    </tr>\n",
       "    <tr>\n",
       "      <th>1194679</th>\n",
       "      <td>8771660346321577665</td>\n",
       "      <td>810.0</td>\n",
       "      <td>0.0</td>\n",
       "      <td>0.0</td>\n",
       "      <td>0.0</td>\n",
       "      <td>0.0</td>\n",
       "      <td>2019-04-30</td>\n",
       "      <td>CAR LOANS</td>\n",
       "      <td>Car loans</td>\n",
       "    </tr>\n",
       "    <tr>\n",
       "      <th>1194680</th>\n",
       "      <td>8771660346321577665</td>\n",
       "      <td>810.0</td>\n",
       "      <td>0.0</td>\n",
       "      <td>0.0</td>\n",
       "      <td>0.0</td>\n",
       "      <td>0.0</td>\n",
       "      <td>2019-05-31</td>\n",
       "      <td>CAR LOANS</td>\n",
       "      <td>Car loans</td>\n",
       "    </tr>\n",
       "    <tr>\n",
       "      <th>1194681</th>\n",
       "      <td>8771660346321577665</td>\n",
       "      <td>810.0</td>\n",
       "      <td>0.0</td>\n",
       "      <td>0.0</td>\n",
       "      <td>0.0</td>\n",
       "      <td>0.0</td>\n",
       "      <td>2019-06-30</td>\n",
       "      <td>CAR LOANS</td>\n",
       "      <td>Car loans</td>\n",
       "    </tr>\n",
       "    <tr>\n",
       "      <th>1194682</th>\n",
       "      <td>8771660346321577665</td>\n",
       "      <td>810.0</td>\n",
       "      <td>0.0</td>\n",
       "      <td>0.0</td>\n",
       "      <td>0.0</td>\n",
       "      <td>0.0</td>\n",
       "      <td>2019-07-31</td>\n",
       "      <td>CAR LOANS</td>\n",
       "      <td>Car loans</td>\n",
       "    </tr>\n",
       "    <tr>\n",
       "      <th>1194683</th>\n",
       "      <td>8771660346321577665</td>\n",
       "      <td>810.0</td>\n",
       "      <td>0.0</td>\n",
       "      <td>0.0</td>\n",
       "      <td>0.0</td>\n",
       "      <td>0.0</td>\n",
       "      <td>2019-08-31</td>\n",
       "      <td>CAR LOANS</td>\n",
       "      <td>Car loans</td>\n",
       "    </tr>\n",
       "  </tbody>\n",
       "</table>\n",
       "<p>1194684 rows × 9 columns</p>\n",
       "</div>"
      ],
      "text/plain": [
       "                   client_id  crncy_cd  eop_bal_sum_rur  min_bal_sum_rur  \\\n",
       "0        7513301859607023584     810.0              0.0              0.0   \n",
       "1        7513301859607023584     810.0              0.0              0.0   \n",
       "2        7513301859607023584     810.0              0.0              0.0   \n",
       "3        7513301859607023584     810.0              0.0              0.0   \n",
       "4        7513301859607023584     810.0              0.0              0.0   \n",
       "...                      ...       ...              ...              ...   \n",
       "1194679  8771660346321577665     810.0              0.0              0.0   \n",
       "1194680  8771660346321577665     810.0              0.0              0.0   \n",
       "1194681  8771660346321577665     810.0              0.0              0.0   \n",
       "1194682  8771660346321577665     810.0              0.0              0.0   \n",
       "1194683  8771660346321577665     810.0              0.0              0.0   \n",
       "\n",
       "         max_bal_sum_rur  avg_bal_sum_rur month_end_dt     prod_cat_name  \\\n",
       "0                    0.0              0.0   2018-09-30  CURRENT ACCOUNTS   \n",
       "1                    0.0              0.0   2018-09-30  CURRENT ACCOUNTS   \n",
       "2                    0.0              0.0   2018-09-30  CURRENT ACCOUNTS   \n",
       "3                    0.0              0.0   2018-09-30  CURRENT ACCOUNTS   \n",
       "4                    0.0              0.0   2018-09-30  CURRENT ACCOUNTS   \n",
       "...                  ...              ...          ...               ...   \n",
       "1194679              0.0              0.0   2019-04-30         CAR LOANS   \n",
       "1194680              0.0              0.0   2019-05-31         CAR LOANS   \n",
       "1194681              0.0              0.0   2019-06-30         CAR LOANS   \n",
       "1194682              0.0              0.0   2019-07-31         CAR LOANS   \n",
       "1194683              0.0              0.0   2019-08-31         CAR LOANS   \n",
       "\n",
       "        prod_group_name  \n",
       "0        Cash on demand  \n",
       "1        Cash on demand  \n",
       "2        Cash on demand  \n",
       "3        Cash on demand  \n",
       "4        Cash on demand  \n",
       "...                 ...  \n",
       "1194679       Car loans  \n",
       "1194680       Car loans  \n",
       "1194681       Car loans  \n",
       "1194682       Car loans  \n",
       "1194683       Car loans  \n",
       "\n",
       "[1194684 rows x 9 columns]"
      ]
     },
     "execution_count": 60,
     "metadata": {},
     "output_type": "execute_result"
    }
   ],
   "source": [
    "balance"
   ]
  },
  {
   "cell_type": "code",
   "execution_count": 102,
   "metadata": {},
   "outputs": [
    {
     "data": {
      "text/plain": [
       "client_id              0\n",
       "crncy_cd             888\n",
       "eop_bal_sum_rur        0\n",
       "min_bal_sum_rur        0\n",
       "max_bal_sum_rur        0\n",
       "avg_bal_sum_rur        0\n",
       "month_end_dt           0\n",
       "prod_cat_name       1890\n",
       "prod_group_name    96080\n",
       "dtype: int64"
      ]
     },
     "execution_count": 102,
     "metadata": {},
     "output_type": "execute_result"
    }
   ],
   "source": [
    "balance.isnull().sum()"
   ]
  },
  {
   "cell_type": "code",
   "execution_count": 104,
   "metadata": {},
   "outputs": [],
   "source": [
    "balance['crncy_cd'] = balance['crncy_cd'].fillna(-2)\n",
    "balance['prod_cat_name'] = balance['prod_cat_name'].fillna('<UNK>')\n",
    "balance['prod_group_name'] = balance['prod_group_name'].fillna('<UNK>')"
   ]
  },
  {
   "cell_type": "code",
   "execution_count": 105,
   "metadata": {},
   "outputs": [
    {
     "data": {
      "text/plain": [
       " 3343956271377825812    10670\n",
       " 3841649174837982870     5865\n",
       " 3097202502652151275     5493\n",
       " 280369242567491063      5238\n",
       "-8357225692204604992     4352\n",
       "                        ...  \n",
       " 3136503123480904931        2\n",
       " 5325453404912495978        1\n",
       " 8795681619024426036        1\n",
       " 4947730604314534183        1\n",
       "-3310635477253838557        1\n",
       "Name: client_id, Length: 18625, dtype: int64"
      ]
     },
     "execution_count": 105,
     "metadata": {},
     "output_type": "execute_result"
    }
   ],
   "source": [
    "balance['client_id'].value_counts()"
   ]
  },
  {
   "cell_type": "code",
   "execution_count": 106,
   "metadata": {},
   "outputs": [
    {
     "data": {
      "text/plain": [
       "12.0      3379\n",
       "0.0       2873\n",
       "24.0      2232\n",
       "36.0      1484\n",
       "48.0      1004\n",
       "          ... \n",
       "3393.0       1\n",
       "350.0        1\n",
       "503.0        1\n",
       "610.0        1\n",
       "1056.0       1\n",
       "Name: total_balance, Length: 522, dtype: int64"
      ]
     },
     "execution_count": 106,
     "metadata": {},
     "output_type": "execute_result"
    }
   ],
   "source": [
    "data['total_balance'] = data['client_id'].map(balance.groupby('client_id').size()).fillna(0)\n",
    "data['total_balance'].value_counts()"
   ]
  },
  {
   "cell_type": "code",
   "execution_count": 107,
   "metadata": {},
   "outputs": [
    {
     "data": {
      "text/plain": [
       "1.0    17355\n",
       "0.0     2873\n",
       "2.0      867\n",
       "3.0      343\n",
       "4.0       57\n",
       "5.0        2\n",
       "8.0        1\n",
       "Name: total_crncy_cd, dtype: int64"
      ]
     },
     "execution_count": 107,
     "metadata": {},
     "output_type": "execute_result"
    }
   ],
   "source": [
    "data['total_crncy_cd'] = get_feature_total(balance, 'crncy_cd')\n",
    "data['total_crncy_cd'].value_counts()"
   ]
  },
  {
   "cell_type": "code",
   "execution_count": 108,
   "metadata": {},
   "outputs": [
    {
     "data": {
      "text/plain": [
       "810.0    18428\n",
       "-1.0      2873\n",
       "840.0      140\n",
       "978.0       51\n",
       "-2.0         3\n",
       "578.0        1\n",
       "392.0        1\n",
       "500.0        1\n",
       "Name: most_common_crncy_cd, dtype: int64"
      ]
     },
     "execution_count": 108,
     "metadata": {},
     "output_type": "execute_result"
    }
   ],
   "source": [
    "data['most_common_crncy_cd'] = get_feature_most_common(balance, 'crncy_cd', -1)\n",
    "data['most_common_crncy_cd'].value_counts()"
   ]
  },
  {
   "cell_type": "code",
   "execution_count": 109,
   "metadata": {},
   "outputs": [
    {
     "data": {
      "text/plain": [
       "1.0     7074\n",
       "0.0     2873\n",
       "2.0      782\n",
       "4.0      650\n",
       "7.0      636\n",
       "        ... \n",
       "73.0       1\n",
       "81.0       1\n",
       "64.0       1\n",
       "90.0       1\n",
       "75.0       1\n",
       "Name: total_eop_bal_sum_rur, Length: 78, dtype: int64"
      ]
     },
     "execution_count": 109,
     "metadata": {},
     "output_type": "execute_result"
    }
   ],
   "source": [
    "data['total_eop_bal_sum_rur'] = get_feature_total(balance, 'eop_bal_sum_rur')\n",
    "data['total_eop_bal_sum_rur'].value_counts()"
   ]
  },
  {
   "cell_type": "code",
   "execution_count": 110,
   "metadata": {},
   "outputs": [
    {
     "data": {
      "text/plain": [
       "0.0                     2873\n",
       "0.08333333333333333     2379\n",
       "0.041666666666666664    1548\n",
       "0.027777777777777776     813\n",
       "0.020833333333333332     511\n",
       "                        ... \n",
       "0.06265060240963856        1\n",
       "0.004464285714285714       1\n",
       "0.05619834710743802        1\n",
       "0.21714285714285714        1\n",
       "0.14754098360655737        1\n",
       "Name: total_share_eop_bal_sum_rur, Length: 2405, dtype: int64"
      ]
     },
     "execution_count": 110,
     "metadata": {},
     "output_type": "execute_result"
    }
   ],
   "source": [
    "data['total_share_eop_bal_sum_rur'] = (data['total_eop_bal_sum_rur'] / data['total_balance']).fillna(0)\n",
    "data['total_share_eop_bal_sum_rur'].value_counts()"
   ]
  },
  {
   "cell_type": "code",
   "execution_count": 111,
   "metadata": {},
   "outputs": [
    {
     "data": {
      "text/plain": [
       "0.0                    7049\n",
       "-9999.0                2873\n",
       "1.0                      50\n",
       "0.25                     44\n",
       "0.5                      39\n",
       "                       ... \n",
       "-143.752                  1\n",
       "-25.697142857142858       1\n",
       "72.41666666666667         1\n",
       "-30.285714285714285       1\n",
       "-36.0462962962963         1\n",
       "Name: mean_eop_bal_sum_rur, Length: 8515, dtype: int64"
      ]
     },
     "execution_count": 111,
     "metadata": {},
     "output_type": "execute_result"
    }
   ],
   "source": [
    "data['mean_eop_bal_sum_rur'] = get_feature_mean(balance, 'eop_bal_sum_rur', -9999)\n",
    "data['mean_eop_bal_sum_rur'].value_counts()"
   ]
  },
  {
   "cell_type": "code",
   "execution_count": 112,
   "metadata": {},
   "outputs": [
    {
     "data": {
      "text/plain": [
       "1.0     7866\n",
       "0.0     2873\n",
       "2.0     1415\n",
       "3.0      929\n",
       "4.0      722\n",
       "        ... \n",
       "68.0       1\n",
       "71.0       1\n",
       "70.0       1\n",
       "79.0       1\n",
       "75.0       1\n",
       "Name: total_min_bal_sum_rur, Length: 75, dtype: int64"
      ]
     },
     "execution_count": 112,
     "metadata": {},
     "output_type": "execute_result"
    }
   ],
   "source": [
    "data['total_min_bal_sum_rur'] = get_feature_total(balance, 'min_bal_sum_rur')\n",
    "data['total_min_bal_sum_rur'].value_counts()"
   ]
  },
  {
   "cell_type": "code",
   "execution_count": 113,
   "metadata": {},
   "outputs": [
    {
     "data": {
      "text/plain": [
       "0.0                    7838\n",
       "-9999.0                2873\n",
       "0.08333333333333333     110\n",
       "0.16666666666666666      88\n",
       "0.25                     79\n",
       "                       ... \n",
       "-14.479166666666666       1\n",
       "-407.5                    1\n",
       "134.59259259259258        1\n",
       "-31.177083333333332       1\n",
       "-11.175                   1\n",
       "Name: mean_min_bal_sum_rur, Length: 7836, dtype: int64"
      ]
     },
     "execution_count": 113,
     "metadata": {},
     "output_type": "execute_result"
    }
   ],
   "source": [
    "data['mean_min_bal_sum_rur'] = get_feature_mean(balance, 'min_bal_sum_rur', -9999)\n",
    "data['mean_min_bal_sum_rur'].value_counts()"
   ]
  },
  {
   "cell_type": "code",
   "execution_count": 114,
   "metadata": {},
   "outputs": [
    {
     "data": {
      "text/plain": [
       "1.0      6736\n",
       "0.0      2873\n",
       "12.0      758\n",
       "10.0      748\n",
       "11.0      740\n",
       "         ... \n",
       "71.0        1\n",
       "69.0        1\n",
       "112.0       1\n",
       "97.0        1\n",
       "75.0        1\n",
       "Name: total_max_bal_sum_rur, Length: 86, dtype: int64"
      ]
     },
     "execution_count": 114,
     "metadata": {},
     "output_type": "execute_result"
    }
   ],
   "source": [
    "data['total_max_bal_sum_rur'] = get_feature_total(balance, 'max_bal_sum_rur')\n",
    "data['total_max_bal_sum_rur'].value_counts()"
   ]
  },
  {
   "cell_type": "code",
   "execution_count": 115,
   "metadata": {},
   "outputs": [
    {
     "data": {
      "text/plain": [
       "0.0                    6707\n",
       "-9999.0                2873\n",
       "1.0                      32\n",
       "3.0                      24\n",
       "2.0                      21\n",
       "                       ... \n",
       "29.875370919881306        1\n",
       "-7.869565217391305        1\n",
       "-20.142857142857142       1\n",
       "16.90909090909091         1\n",
       "-20.554347826086957       1\n",
       "Name: mean_max_bal_sum_rur, Length: 9243, dtype: int64"
      ]
     },
     "execution_count": 115,
     "metadata": {},
     "output_type": "execute_result"
    }
   ],
   "source": [
    "data['mean_max_bal_sum_rur'] = get_feature_mean(balance, 'max_bal_sum_rur', -9999)\n",
    "data['mean_max_bal_sum_rur'].value_counts()"
   ]
  },
  {
   "cell_type": "code",
   "execution_count": 116,
   "metadata": {},
   "outputs": [
    {
     "data": {
      "text/plain": [
       "1.0      6775\n",
       "0.0      2873\n",
       "9.0       646\n",
       "8.0       630\n",
       "10.0      615\n",
       "         ... \n",
       "93.0        1\n",
       "92.0        1\n",
       "79.0        1\n",
       "102.0       1\n",
       "75.0        1\n",
       "Name: total_avg_bal_sum_rur, Length: 85, dtype: int64"
      ]
     },
     "execution_count": 116,
     "metadata": {},
     "output_type": "execute_result"
    }
   ],
   "source": [
    "data['total_avg_bal_sum_rur'] = get_feature_total(balance, 'avg_bal_sum_rur')\n",
    "data['total_avg_bal_sum_rur'].value_counts()"
   ]
  },
  {
   "cell_type": "code",
   "execution_count": 117,
   "metadata": {},
   "outputs": [
    {
     "data": {
      "text/plain": [
       "0.0                    6746\n",
       "-9999.0                2873\n",
       "1.0                      55\n",
       "2.0                      52\n",
       "0.3333333333333333       39\n",
       "                       ... \n",
       "-1.879120879120879        1\n",
       "-168.45833333333334       1\n",
       "-59.77777777777778        1\n",
       "-116.32142857142857       1\n",
       "7.248484848484848         1\n",
       "Name: mean_avg_bal_sum_rur, Length: 8578, dtype: int64"
      ]
     },
     "execution_count": 117,
     "metadata": {},
     "output_type": "execute_result"
    }
   ],
   "source": [
    "data['mean_avg_bal_sum_rur'] = get_feature_mean(balance, 'avg_bal_sum_rur', -9999)\n",
    "data['mean_avg_bal_sum_rur'].value_counts()"
   ]
  },
  {
   "cell_type": "code",
   "execution_count": 118,
   "metadata": {},
   "outputs": [
    {
     "data": {
      "text/plain": [
       "0.0                   6771\n",
       "-9999.0               2877\n",
       "0.5032362797401965      10\n",
       "0.2886751345948129       9\n",
       "1.4142135623730951       9\n",
       "                      ... \n",
       "695.306337677527         1\n",
       "291.3165327085645        1\n",
       "64.3157575300693         1\n",
       "67.0076199156526         1\n",
       "61.36711084847507        1\n",
       "Name: std_avg_bal_sum_rur, Length: 11395, dtype: int64"
      ]
     },
     "execution_count": 118,
     "metadata": {},
     "output_type": "execute_result"
    }
   ],
   "source": [
    "data['std_avg_bal_sum_rur'] = get_feature_std(balance, 'avg_bal_sum_rur', -9999)\n",
    "data['std_avg_bal_sum_rur'].value_counts()"
   ]
  },
  {
   "cell_type": "code",
   "execution_count": 119,
   "metadata": {},
   "outputs": [
    {
     "data": {
      "text/plain": [
       "0.0          6775\n",
       "-999999.0    2873\n",
       "1.0           273\n",
       "4.0           209\n",
       "3.0           194\n",
       "             ... \n",
       "3430.0          1\n",
       "1255.0          1\n",
       "3969.0          1\n",
       "2478.0          1\n",
       "2150.0          1\n",
       "Name: max_min_avg_bal_sum_rur, Length: 2418, dtype: int64"
      ]
     },
     "execution_count": 119,
     "metadata": {},
     "output_type": "execute_result"
    }
   ],
   "source": [
    "data['max_min_avg_bal_sum_rur'] = get_feature_max_min(balance, 'avg_bal_sum_rur', -999999)\n",
    "data['max_min_avg_bal_sum_rur'].value_counts()"
   ]
  },
  {
   "cell_type": "code",
   "execution_count": 120,
   "metadata": {},
   "outputs": [
    {
     "data": {
      "text/plain": [
       "1.0    6758\n",
       "2.0    5494\n",
       "3.0    3984\n",
       "0.0    2873\n",
       "4.0    1720\n",
       "5.0     536\n",
       "6.0     111\n",
       "7.0      21\n",
       "8.0       1\n",
       "Name: total_prod_cat_name, dtype: int64"
      ]
     },
     "execution_count": 120,
     "metadata": {},
     "output_type": "execute_result"
    }
   ],
   "source": [
    "data['total_prod_cat_name'] = get_feature_total(balance, 'prod_cat_name')\n",
    "data['total_prod_cat_name'].value_counts()"
   ]
  },
  {
   "cell_type": "code",
   "execution_count": 121,
   "metadata": {},
   "outputs": [
    {
     "data": {
      "text/plain": [
       "KN                  10338\n",
       "CURRENT ACCOUNTS     4589\n",
       "<unknown>            2873\n",
       "SALARY CARDS         1725\n",
       "DEPOSITS             1248\n",
       "DEBIT CARDS           485\n",
       "CREDIT CARDS          131\n",
       "<UNK>                  45\n",
       "CAR LOANS              30\n",
       "MORTGAGE               16\n",
       "TECHNICAL CARDS        15\n",
       "Cash on demand          3\n",
       "Name: most_common_prod_cat_name, dtype: int64"
      ]
     },
     "execution_count": 121,
     "metadata": {},
     "output_type": "execute_result"
    }
   ],
   "source": [
    "data['most_common_prod_cat_name'] = get_feature_most_common(balance, 'prod_cat_name', '<unknown>')\n",
    "data['most_common_prod_cat_name'].value_counts()"
   ]
  },
  {
   "cell_type": "code",
   "execution_count": 122,
   "metadata": {},
   "outputs": [
    {
     "data": {
      "text/plain": [
       "1.0     5913\n",
       "2.0     4004\n",
       "3.0     3075\n",
       "0.0     2873\n",
       "4.0     2465\n",
       "5.0     1594\n",
       "6.0      943\n",
       "7.0      446\n",
       "8.0      140\n",
       "9.0       39\n",
       "10.0       6\n",
       "Name: total_prod_group_name, dtype: int64"
      ]
     },
     "execution_count": 122,
     "metadata": {},
     "output_type": "execute_result"
    }
   ],
   "source": [
    "data['total_prod_group_name'] = get_feature_total(balance, 'prod_group_name')\n",
    "data['total_prod_group_name'].value_counts()"
   ]
  },
  {
   "cell_type": "code",
   "execution_count": 123,
   "metadata": {},
   "outputs": [
    {
     "data": {
      "text/plain": [
       "Cash on demand           6203\n",
       "Salary cards             5620\n",
       "<unknown>                2873\n",
       "Debit cards              2229\n",
       "<UNK>                    1959\n",
       "Time deposits            1326\n",
       "PILS                      584\n",
       "Credit card other         490\n",
       "Open_card credit card      82\n",
       "Prepaid cards              37\n",
       "Car loans                  31\n",
       "Mortgage                   24\n",
       "Credit card 120 days       24\n",
       "Technical cards            16\n",
       "Name: most_common_prod_group_name, dtype: int64"
      ]
     },
     "execution_count": 123,
     "metadata": {},
     "output_type": "execute_result"
    }
   ],
   "source": [
    "data['most_common_prod_group_name'] = get_feature_most_common(balance, 'prod_group_name', '<unknown>')\n",
    "data['most_common_prod_group_name'].value_counts()"
   ]
  },
  {
   "cell_type": "code",
   "execution_count": 124,
   "metadata": {},
   "outputs": [
    {
     "data": {
      "text/html": [
       "<div>\n",
       "<style scoped>\n",
       "    .dataframe tbody tr th:only-of-type {\n",
       "        vertical-align: middle;\n",
       "    }\n",
       "\n",
       "    .dataframe tbody tr th {\n",
       "        vertical-align: top;\n",
       "    }\n",
       "\n",
       "    .dataframe thead th {\n",
       "        text-align: right;\n",
       "    }\n",
       "</style>\n",
       "<table border=\"1\" class=\"dataframe\">\n",
       "  <thead>\n",
       "    <tr style=\"text-align: right;\">\n",
       "      <th></th>\n",
       "      <th>client_id</th>\n",
       "      <th>crncy_cd</th>\n",
       "      <th>eop_bal_sum_rur</th>\n",
       "      <th>min_bal_sum_rur</th>\n",
       "      <th>max_bal_sum_rur</th>\n",
       "      <th>avg_bal_sum_rur</th>\n",
       "      <th>month_end_dt</th>\n",
       "      <th>prod_cat_name</th>\n",
       "      <th>prod_group_name</th>\n",
       "    </tr>\n",
       "  </thead>\n",
       "  <tbody>\n",
       "    <tr>\n",
       "      <th>0</th>\n",
       "      <td>7513301859607023584</td>\n",
       "      <td>810.0</td>\n",
       "      <td>0.0</td>\n",
       "      <td>0.0</td>\n",
       "      <td>0.0</td>\n",
       "      <td>0.0</td>\n",
       "      <td>2018-09-30</td>\n",
       "      <td>CURRENT ACCOUNTS</td>\n",
       "      <td>Cash on demand</td>\n",
       "    </tr>\n",
       "    <tr>\n",
       "      <th>1</th>\n",
       "      <td>7513301859607023584</td>\n",
       "      <td>810.0</td>\n",
       "      <td>0.0</td>\n",
       "      <td>0.0</td>\n",
       "      <td>0.0</td>\n",
       "      <td>0.0</td>\n",
       "      <td>2018-09-30</td>\n",
       "      <td>CURRENT ACCOUNTS</td>\n",
       "      <td>Cash on demand</td>\n",
       "    </tr>\n",
       "    <tr>\n",
       "      <th>2</th>\n",
       "      <td>7513301859607023584</td>\n",
       "      <td>810.0</td>\n",
       "      <td>0.0</td>\n",
       "      <td>0.0</td>\n",
       "      <td>0.0</td>\n",
       "      <td>0.0</td>\n",
       "      <td>2018-09-30</td>\n",
       "      <td>CURRENT ACCOUNTS</td>\n",
       "      <td>Cash on demand</td>\n",
       "    </tr>\n",
       "    <tr>\n",
       "      <th>3</th>\n",
       "      <td>7513301859607023584</td>\n",
       "      <td>810.0</td>\n",
       "      <td>0.0</td>\n",
       "      <td>0.0</td>\n",
       "      <td>0.0</td>\n",
       "      <td>0.0</td>\n",
       "      <td>2018-09-30</td>\n",
       "      <td>CURRENT ACCOUNTS</td>\n",
       "      <td>Cash on demand</td>\n",
       "    </tr>\n",
       "    <tr>\n",
       "      <th>4</th>\n",
       "      <td>7513301859607023584</td>\n",
       "      <td>810.0</td>\n",
       "      <td>0.0</td>\n",
       "      <td>0.0</td>\n",
       "      <td>0.0</td>\n",
       "      <td>0.0</td>\n",
       "      <td>2018-09-30</td>\n",
       "      <td>CURRENT ACCOUNTS</td>\n",
       "      <td>Cash on demand</td>\n",
       "    </tr>\n",
       "    <tr>\n",
       "      <th>...</th>\n",
       "      <td>...</td>\n",
       "      <td>...</td>\n",
       "      <td>...</td>\n",
       "      <td>...</td>\n",
       "      <td>...</td>\n",
       "      <td>...</td>\n",
       "      <td>...</td>\n",
       "      <td>...</td>\n",
       "      <td>...</td>\n",
       "    </tr>\n",
       "    <tr>\n",
       "      <th>1194679</th>\n",
       "      <td>8771660346321577665</td>\n",
       "      <td>810.0</td>\n",
       "      <td>0.0</td>\n",
       "      <td>0.0</td>\n",
       "      <td>0.0</td>\n",
       "      <td>0.0</td>\n",
       "      <td>2019-04-30</td>\n",
       "      <td>CAR LOANS</td>\n",
       "      <td>Car loans</td>\n",
       "    </tr>\n",
       "    <tr>\n",
       "      <th>1194680</th>\n",
       "      <td>8771660346321577665</td>\n",
       "      <td>810.0</td>\n",
       "      <td>0.0</td>\n",
       "      <td>0.0</td>\n",
       "      <td>0.0</td>\n",
       "      <td>0.0</td>\n",
       "      <td>2019-05-31</td>\n",
       "      <td>CAR LOANS</td>\n",
       "      <td>Car loans</td>\n",
       "    </tr>\n",
       "    <tr>\n",
       "      <th>1194681</th>\n",
       "      <td>8771660346321577665</td>\n",
       "      <td>810.0</td>\n",
       "      <td>0.0</td>\n",
       "      <td>0.0</td>\n",
       "      <td>0.0</td>\n",
       "      <td>0.0</td>\n",
       "      <td>2019-06-30</td>\n",
       "      <td>CAR LOANS</td>\n",
       "      <td>Car loans</td>\n",
       "    </tr>\n",
       "    <tr>\n",
       "      <th>1194682</th>\n",
       "      <td>8771660346321577665</td>\n",
       "      <td>810.0</td>\n",
       "      <td>0.0</td>\n",
       "      <td>0.0</td>\n",
       "      <td>0.0</td>\n",
       "      <td>0.0</td>\n",
       "      <td>2019-07-31</td>\n",
       "      <td>CAR LOANS</td>\n",
       "      <td>Car loans</td>\n",
       "    </tr>\n",
       "    <tr>\n",
       "      <th>1194683</th>\n",
       "      <td>8771660346321577665</td>\n",
       "      <td>810.0</td>\n",
       "      <td>0.0</td>\n",
       "      <td>0.0</td>\n",
       "      <td>0.0</td>\n",
       "      <td>0.0</td>\n",
       "      <td>2019-08-31</td>\n",
       "      <td>CAR LOANS</td>\n",
       "      <td>Car loans</td>\n",
       "    </tr>\n",
       "  </tbody>\n",
       "</table>\n",
       "<p>1194684 rows × 9 columns</p>\n",
       "</div>"
      ],
      "text/plain": [
       "                   client_id  crncy_cd  eop_bal_sum_rur  min_bal_sum_rur  \\\n",
       "0        7513301859607023584     810.0              0.0              0.0   \n",
       "1        7513301859607023584     810.0              0.0              0.0   \n",
       "2        7513301859607023584     810.0              0.0              0.0   \n",
       "3        7513301859607023584     810.0              0.0              0.0   \n",
       "4        7513301859607023584     810.0              0.0              0.0   \n",
       "...                      ...       ...              ...              ...   \n",
       "1194679  8771660346321577665     810.0              0.0              0.0   \n",
       "1194680  8771660346321577665     810.0              0.0              0.0   \n",
       "1194681  8771660346321577665     810.0              0.0              0.0   \n",
       "1194682  8771660346321577665     810.0              0.0              0.0   \n",
       "1194683  8771660346321577665     810.0              0.0              0.0   \n",
       "\n",
       "         max_bal_sum_rur  avg_bal_sum_rur month_end_dt     prod_cat_name  \\\n",
       "0                    0.0              0.0   2018-09-30  CURRENT ACCOUNTS   \n",
       "1                    0.0              0.0   2018-09-30  CURRENT ACCOUNTS   \n",
       "2                    0.0              0.0   2018-09-30  CURRENT ACCOUNTS   \n",
       "3                    0.0              0.0   2018-09-30  CURRENT ACCOUNTS   \n",
       "4                    0.0              0.0   2018-09-30  CURRENT ACCOUNTS   \n",
       "...                  ...              ...          ...               ...   \n",
       "1194679              0.0              0.0   2019-04-30         CAR LOANS   \n",
       "1194680              0.0              0.0   2019-05-31         CAR LOANS   \n",
       "1194681              0.0              0.0   2019-06-30         CAR LOANS   \n",
       "1194682              0.0              0.0   2019-07-31         CAR LOANS   \n",
       "1194683              0.0              0.0   2019-08-31         CAR LOANS   \n",
       "\n",
       "        prod_group_name  \n",
       "0        Cash on demand  \n",
       "1        Cash on demand  \n",
       "2        Cash on demand  \n",
       "3        Cash on demand  \n",
       "4        Cash on demand  \n",
       "...                 ...  \n",
       "1194679       Car loans  \n",
       "1194680       Car loans  \n",
       "1194681       Car loans  \n",
       "1194682       Car loans  \n",
       "1194683       Car loans  \n",
       "\n",
       "[1194684 rows x 9 columns]"
      ]
     },
     "execution_count": 124,
     "metadata": {},
     "output_type": "execute_result"
    }
   ],
   "source": [
    "balance"
   ]
  },
  {
   "cell_type": "code",
   "execution_count": 125,
   "metadata": {},
   "outputs": [
    {
     "data": {
      "text/plain": [
       "0.0       986122\n",
       "1.0        10262\n",
       "2.0         7156\n",
       "6.0         6642\n",
       "3.0         6535\n",
       "           ...  \n",
       "721.0          1\n",
       "2067.0         1\n",
       "2700.0         1\n",
       "2126.0         1\n",
       "1824.0         1\n",
       "Name: max_min_bal_sum_rur, Length: 1666, dtype: int64"
      ]
     },
     "execution_count": 125,
     "metadata": {},
     "output_type": "execute_result"
    }
   ],
   "source": [
    "balance['max_min_bal_sum_rur'] = balance['max_bal_sum_rur'] - balance['min_bal_sum_rur']\n",
    "balance['max_min_bal_sum_rur'].value_counts()"
   ]
  },
  {
   "cell_type": "markdown",
   "metadata": {},
   "source": [
    "# client"
   ]
  },
  {
   "cell_type": "code",
   "execution_count": 128,
   "metadata": {},
   "outputs": [
    {
     "data": {
      "text/html": [
       "<div>\n",
       "<style scoped>\n",
       "    .dataframe tbody tr th:only-of-type {\n",
       "        vertical-align: middle;\n",
       "    }\n",
       "\n",
       "    .dataframe tbody tr th {\n",
       "        vertical-align: top;\n",
       "    }\n",
       "\n",
       "    .dataframe thead th {\n",
       "        text-align: right;\n",
       "    }\n",
       "</style>\n",
       "<table border=\"1\" class=\"dataframe\">\n",
       "  <thead>\n",
       "    <tr style=\"text-align: right;\">\n",
       "      <th></th>\n",
       "      <th>client_id</th>\n",
       "      <th>gender</th>\n",
       "      <th>age</th>\n",
       "      <th>region</th>\n",
       "      <th>city</th>\n",
       "      <th>citizenship</th>\n",
       "      <th>education</th>\n",
       "      <th>job_type</th>\n",
       "    </tr>\n",
       "  </thead>\n",
       "  <tbody>\n",
       "    <tr>\n",
       "      <th>0</th>\n",
       "      <td>7513301859607023584</td>\n",
       "      <td>F</td>\n",
       "      <td>33.0</td>\n",
       "      <td>0</td>\n",
       "      <td>115</td>\n",
       "      <td>RUSSIA</td>\n",
       "      <td>NaN</td>\n",
       "      <td>NaN</td>\n",
       "    </tr>\n",
       "    <tr>\n",
       "      <th>1</th>\n",
       "      <td>9157009756404187626</td>\n",
       "      <td>F</td>\n",
       "      <td>59.0</td>\n",
       "      <td>17</td>\n",
       "      <td>668</td>\n",
       "      <td>RUSSIA</td>\n",
       "      <td>NaN</td>\n",
       "      <td>NaN</td>\n",
       "    </tr>\n",
       "    <tr>\n",
       "      <th>2</th>\n",
       "      <td>-1893104556496814867</td>\n",
       "      <td>M</td>\n",
       "      <td>51.0</td>\n",
       "      <td>28</td>\n",
       "      <td>65</td>\n",
       "      <td>RUSSIA</td>\n",
       "      <td>NaN</td>\n",
       "      <td>NaN</td>\n",
       "    </tr>\n",
       "    <tr>\n",
       "      <th>3</th>\n",
       "      <td>6886062013213911831</td>\n",
       "      <td>F</td>\n",
       "      <td>56.0</td>\n",
       "      <td>0</td>\n",
       "      <td>40</td>\n",
       "      <td>RUSSIA</td>\n",
       "      <td>NaN</td>\n",
       "      <td>NaN</td>\n",
       "    </tr>\n",
       "    <tr>\n",
       "      <th>4</th>\n",
       "      <td>-8156468515495593794</td>\n",
       "      <td>F</td>\n",
       "      <td>34.0</td>\n",
       "      <td>-1</td>\n",
       "      <td>-1</td>\n",
       "      <td>RUSSIA</td>\n",
       "      <td>HIGHER_PROFESSIONAL</td>\n",
       "      <td>NaN</td>\n",
       "    </tr>\n",
       "    <tr>\n",
       "      <th>...</th>\n",
       "      <td>...</td>\n",
       "      <td>...</td>\n",
       "      <td>...</td>\n",
       "      <td>...</td>\n",
       "      <td>...</td>\n",
       "      <td>...</td>\n",
       "      <td>...</td>\n",
       "      <td>...</td>\n",
       "    </tr>\n",
       "    <tr>\n",
       "      <th>21493</th>\n",
       "      <td>4662551505651924284</td>\n",
       "      <td>M</td>\n",
       "      <td>31.0</td>\n",
       "      <td>0</td>\n",
       "      <td>14</td>\n",
       "      <td>RUSSIA</td>\n",
       "      <td>NaN</td>\n",
       "      <td>NaN</td>\n",
       "    </tr>\n",
       "    <tr>\n",
       "      <th>21494</th>\n",
       "      <td>-8968737688687691353</td>\n",
       "      <td>M</td>\n",
       "      <td>53.0</td>\n",
       "      <td>25</td>\n",
       "      <td>33</td>\n",
       "      <td>RUSSIA</td>\n",
       "      <td>NaN</td>\n",
       "      <td>NaN</td>\n",
       "    </tr>\n",
       "    <tr>\n",
       "      <th>21495</th>\n",
       "      <td>-5799097497074119478</td>\n",
       "      <td>F</td>\n",
       "      <td>57.0</td>\n",
       "      <td>12</td>\n",
       "      <td>225</td>\n",
       "      <td>RUSSIA</td>\n",
       "      <td>NaN</td>\n",
       "      <td>NaN</td>\n",
       "    </tr>\n",
       "    <tr>\n",
       "      <th>21496</th>\n",
       "      <td>-2264802671063321355</td>\n",
       "      <td>M</td>\n",
       "      <td>37.0</td>\n",
       "      <td>37</td>\n",
       "      <td>368</td>\n",
       "      <td>RUSSIA</td>\n",
       "      <td>MIDDLE_PROFESSIONAL</td>\n",
       "      <td>NaN</td>\n",
       "    </tr>\n",
       "    <tr>\n",
       "      <th>21497</th>\n",
       "      <td>-174115151336149439</td>\n",
       "      <td>M</td>\n",
       "      <td>33.0</td>\n",
       "      <td>7</td>\n",
       "      <td>13</td>\n",
       "      <td>RUSSIA</td>\n",
       "      <td>NaN</td>\n",
       "      <td>NaN</td>\n",
       "    </tr>\n",
       "  </tbody>\n",
       "</table>\n",
       "<p>21498 rows × 8 columns</p>\n",
       "</div>"
      ],
      "text/plain": [
       "                 client_id gender  age  region  city citizenship  \\\n",
       "0      7513301859607023584      F 33.0       0   115      RUSSIA   \n",
       "1      9157009756404187626      F 59.0      17   668      RUSSIA   \n",
       "2     -1893104556496814867      M 51.0      28    65      RUSSIA   \n",
       "3      6886062013213911831      F 56.0       0    40      RUSSIA   \n",
       "4     -8156468515495593794      F 34.0      -1    -1      RUSSIA   \n",
       "...                    ...    ...  ...     ...   ...         ...   \n",
       "21493  4662551505651924284      M 31.0       0    14      RUSSIA   \n",
       "21494 -8968737688687691353      M 53.0      25    33      RUSSIA   \n",
       "21495 -5799097497074119478      F 57.0      12   225      RUSSIA   \n",
       "21496 -2264802671063321355      M 37.0      37   368      RUSSIA   \n",
       "21497  -174115151336149439      M 33.0       7    13      RUSSIA   \n",
       "\n",
       "                 education job_type  \n",
       "0                      NaN      NaN  \n",
       "1                      NaN      NaN  \n",
       "2                      NaN      NaN  \n",
       "3                      NaN      NaN  \n",
       "4      HIGHER_PROFESSIONAL      NaN  \n",
       "...                    ...      ...  \n",
       "21493                  NaN      NaN  \n",
       "21494                  NaN      NaN  \n",
       "21495                  NaN      NaN  \n",
       "21496  MIDDLE_PROFESSIONAL      NaN  \n",
       "21497                  NaN      NaN  \n",
       "\n",
       "[21498 rows x 8 columns]"
      ]
     },
     "execution_count": 128,
     "metadata": {},
     "output_type": "execute_result"
    }
   ],
   "source": [
    "client"
   ]
  },
  {
   "cell_type": "code",
   "execution_count": 140,
   "metadata": {},
   "outputs": [],
   "source": [
    "client = client.rename(columns={\n",
    "    'gender': 'client_gender',\n",
    "    'age': 'client_age',\n",
    "    'region': 'client_region',\n",
    "    'city': 'client_city',\n",
    "    'citizenship': 'client_citizenship',\n",
    "    'education': 'client_education',\n",
    "    'job_type': 'client_job_type'\n",
    "})"
   ]
  },
  {
   "cell_type": "code",
   "execution_count": 141,
   "metadata": {},
   "outputs": [
    {
     "data": {
      "text/plain": [
       " 7829839803824199400    1\n",
       "-6460167447593483513    1\n",
       "-2704671794359580738    1\n",
       "-8131884441362639877    1\n",
       " 5890322905008911446    1\n",
       "                       ..\n",
       "-3478646164620049296    1\n",
       " 9214193408971059365    1\n",
       " 1257006377617108732    1\n",
       "-1949312882376273523    1\n",
       " 6452377182247997073    1\n",
       "Name: client_id, Length: 21498, dtype: int64"
      ]
     },
     "execution_count": 141,
     "metadata": {},
     "output_type": "execute_result"
    }
   ],
   "source": [
    "client['client_id'].value_counts()"
   ]
  },
  {
   "cell_type": "code",
   "execution_count": 143,
   "metadata": {},
   "outputs": [
    {
     "data": {
      "text/html": [
       "<div>\n",
       "<style scoped>\n",
       "    .dataframe tbody tr th:only-of-type {\n",
       "        vertical-align: middle;\n",
       "    }\n",
       "\n",
       "    .dataframe tbody tr th {\n",
       "        vertical-align: top;\n",
       "    }\n",
       "\n",
       "    .dataframe thead th {\n",
       "        text-align: right;\n",
       "    }\n",
       "</style>\n",
       "<table border=\"1\" class=\"dataframe\">\n",
       "  <thead>\n",
       "    <tr style=\"text-align: right;\">\n",
       "      <th></th>\n",
       "      <th>client_id</th>\n",
       "      <th>sale_flg</th>\n",
       "      <th>sale_amount</th>\n",
       "      <th>contacts</th>\n",
       "      <th>feature_1</th>\n",
       "      <th>client_segment</th>\n",
       "      <th>feature_2</th>\n",
       "      <th>feature_3</th>\n",
       "      <th>feature_4</th>\n",
       "      <th>feature_5</th>\n",
       "      <th>...</th>\n",
       "      <th>mean_eop_bal_sum_rur</th>\n",
       "      <th>mean_min_bal_sum_rur</th>\n",
       "      <th>mean_max_bal_sum_rur</th>\n",
       "      <th>mean_avg_bal_sum_rur</th>\n",
       "      <th>std_avg_bal_sum_rur</th>\n",
       "      <th>max_min_avg_bal_sum_rur</th>\n",
       "      <th>total_prod_cat_name</th>\n",
       "      <th>most_common_prod_cat_name</th>\n",
       "      <th>total_prod_group_name</th>\n",
       "      <th>most_common_prod_group_name</th>\n",
       "    </tr>\n",
       "  </thead>\n",
       "  <tbody>\n",
       "    <tr>\n",
       "      <th>0</th>\n",
       "      <td>7513301859607023584</td>\n",
       "      <td>0</td>\n",
       "      <td>NaN</td>\n",
       "      <td>1</td>\n",
       "      <td>7</td>\n",
       "      <td>13.0</td>\n",
       "      <td>571533.0</td>\n",
       "      <td>15717.0</td>\n",
       "      <td>0.0</td>\n",
       "      <td>0.0</td>\n",
       "      <td>...</td>\n",
       "      <td>0.0</td>\n",
       "      <td>0.0</td>\n",
       "      <td>0.0</td>\n",
       "      <td>0.0</td>\n",
       "      <td>0.0</td>\n",
       "      <td>0.0</td>\n",
       "      <td>2.0</td>\n",
       "      <td>CURRENT ACCOUNTS</td>\n",
       "      <td>2.0</td>\n",
       "      <td>Cash on demand</td>\n",
       "    </tr>\n",
       "    <tr>\n",
       "      <th>1</th>\n",
       "      <td>9157009756404187626</td>\n",
       "      <td>0</td>\n",
       "      <td>NaN</td>\n",
       "      <td>1</td>\n",
       "      <td>3</td>\n",
       "      <td>13.0</td>\n",
       "      <td>3642369.0</td>\n",
       "      <td>94787.0</td>\n",
       "      <td>0.0</td>\n",
       "      <td>0.0</td>\n",
       "      <td>...</td>\n",
       "      <td>0.0</td>\n",
       "      <td>0.0</td>\n",
       "      <td>0.0</td>\n",
       "      <td>0.0</td>\n",
       "      <td>0.0</td>\n",
       "      <td>0.0</td>\n",
       "      <td>1.0</td>\n",
       "      <td>CURRENT ACCOUNTS</td>\n",
       "      <td>1.0</td>\n",
       "      <td>Cash on demand</td>\n",
       "    </tr>\n",
       "    <tr>\n",
       "      <th>2</th>\n",
       "      <td>-1893104556496814867</td>\n",
       "      <td>0</td>\n",
       "      <td>NaN</td>\n",
       "      <td>1</td>\n",
       "      <td>5</td>\n",
       "      <td>16.0</td>\n",
       "      <td>352826.0</td>\n",
       "      <td>5500.0</td>\n",
       "      <td>0.0</td>\n",
       "      <td>6822.0</td>\n",
       "      <td>...</td>\n",
       "      <td>4.833333333333333</td>\n",
       "      <td>0.0</td>\n",
       "      <td>6.833333333333333</td>\n",
       "      <td>2.75</td>\n",
       "      <td>7.978664732214965</td>\n",
       "      <td>28.0</td>\n",
       "      <td>1.0</td>\n",
       "      <td>SALARY CARDS</td>\n",
       "      <td>1.0</td>\n",
       "      <td>Salary cards</td>\n",
       "    </tr>\n",
       "    <tr>\n",
       "      <th>3</th>\n",
       "      <td>6886062013213911831</td>\n",
       "      <td>0</td>\n",
       "      <td>NaN</td>\n",
       "      <td>1</td>\n",
       "      <td>4</td>\n",
       "      <td>3.0</td>\n",
       "      <td>6070615.0</td>\n",
       "      <td>40580.0</td>\n",
       "      <td>0.0</td>\n",
       "      <td>30401.0</td>\n",
       "      <td>...</td>\n",
       "      <td>0.5729166666666666</td>\n",
       "      <td>0.026041666666666668</td>\n",
       "      <td>1.1927083333333333</td>\n",
       "      <td>0.4270833333333333</td>\n",
       "      <td>2.065649203461869</td>\n",
       "      <td>19.0</td>\n",
       "      <td>4.0</td>\n",
       "      <td>CURRENT ACCOUNTS</td>\n",
       "      <td>3.0</td>\n",
       "      <td>Cash on demand</td>\n",
       "    </tr>\n",
       "    <tr>\n",
       "      <th>4</th>\n",
       "      <td>-8156468515495593794</td>\n",
       "      <td>1</td>\n",
       "      <td>138018.05000000002</td>\n",
       "      <td>1</td>\n",
       "      <td>7</td>\n",
       "      <td>14.0</td>\n",
       "      <td>3642369.0</td>\n",
       "      <td>97156.0</td>\n",
       "      <td>81488.0</td>\n",
       "      <td>0.0</td>\n",
       "      <td>...</td>\n",
       "      <td>0.0</td>\n",
       "      <td>0.0</td>\n",
       "      <td>0.0</td>\n",
       "      <td>0.0</td>\n",
       "      <td>0.0</td>\n",
       "      <td>0.0</td>\n",
       "      <td>1.0</td>\n",
       "      <td>KN</td>\n",
       "      <td>1.0</td>\n",
       "      <td>Debit cards</td>\n",
       "    </tr>\n",
       "    <tr>\n",
       "      <th>...</th>\n",
       "      <td>...</td>\n",
       "      <td>...</td>\n",
       "      <td>...</td>\n",
       "      <td>...</td>\n",
       "      <td>...</td>\n",
       "      <td>...</td>\n",
       "      <td>...</td>\n",
       "      <td>...</td>\n",
       "      <td>...</td>\n",
       "      <td>...</td>\n",
       "      <td>...</td>\n",
       "      <td>...</td>\n",
       "      <td>...</td>\n",
       "      <td>...</td>\n",
       "      <td>...</td>\n",
       "      <td>...</td>\n",
       "      <td>...</td>\n",
       "      <td>...</td>\n",
       "      <td>...</td>\n",
       "      <td>...</td>\n",
       "      <td>...</td>\n",
       "    </tr>\n",
       "    <tr>\n",
       "      <th>21493</th>\n",
       "      <td>4662551505651924284</td>\n",
       "      <td>0</td>\n",
       "      <td>NaN</td>\n",
       "      <td>2</td>\n",
       "      <td>3</td>\n",
       "      <td>3.0</td>\n",
       "      <td>6070615.0</td>\n",
       "      <td>97616.0</td>\n",
       "      <td>21921.0</td>\n",
       "      <td>85635.0</td>\n",
       "      <td>...</td>\n",
       "      <td>9.875</td>\n",
       "      <td>1.0</td>\n",
       "      <td>35.75</td>\n",
       "      <td>15.958333333333334</td>\n",
       "      <td>32.58764658800828</td>\n",
       "      <td>155.0</td>\n",
       "      <td>1.0</td>\n",
       "      <td>KN</td>\n",
       "      <td>2.0</td>\n",
       "      <td>Debit cards</td>\n",
       "    </tr>\n",
       "    <tr>\n",
       "      <th>21494</th>\n",
       "      <td>-8968737688687691353</td>\n",
       "      <td>0</td>\n",
       "      <td>NaN</td>\n",
       "      <td>1</td>\n",
       "      <td>9</td>\n",
       "      <td>14.0</td>\n",
       "      <td>1821184.0</td>\n",
       "      <td>2428.0</td>\n",
       "      <td>3952.0</td>\n",
       "      <td>0.0</td>\n",
       "      <td>...</td>\n",
       "      <td>-9999.0</td>\n",
       "      <td>-9999.0</td>\n",
       "      <td>-9999.0</td>\n",
       "      <td>-9999.0</td>\n",
       "      <td>-9999.0</td>\n",
       "      <td>-999999.0</td>\n",
       "      <td>0.0</td>\n",
       "      <td>&lt;unknown&gt;</td>\n",
       "      <td>0.0</td>\n",
       "      <td>&lt;unknown&gt;</td>\n",
       "    </tr>\n",
       "    <tr>\n",
       "      <th>21495</th>\n",
       "      <td>-5799097497074119478</td>\n",
       "      <td>0</td>\n",
       "      <td>NaN</td>\n",
       "      <td>1</td>\n",
       "      <td>2</td>\n",
       "      <td>16.0</td>\n",
       "      <td>6070615.0</td>\n",
       "      <td>64991.0</td>\n",
       "      <td>0.0</td>\n",
       "      <td>13450.0</td>\n",
       "      <td>...</td>\n",
       "      <td>2.9166666666666665</td>\n",
       "      <td>0.0</td>\n",
       "      <td>7.0</td>\n",
       "      <td>2.0833333333333335</td>\n",
       "      <td>6.612087187091302</td>\n",
       "      <td>23.0</td>\n",
       "      <td>1.0</td>\n",
       "      <td>SALARY CARDS</td>\n",
       "      <td>1.0</td>\n",
       "      <td>Salary cards</td>\n",
       "    </tr>\n",
       "    <tr>\n",
       "      <th>21496</th>\n",
       "      <td>-2264802671063321355</td>\n",
       "      <td>1</td>\n",
       "      <td>43882.85000000001</td>\n",
       "      <td>2</td>\n",
       "      <td>8</td>\n",
       "      <td>4.0</td>\n",
       "      <td>2282408.0</td>\n",
       "      <td>5832.0</td>\n",
       "      <td>16185.0</td>\n",
       "      <td>0.0</td>\n",
       "      <td>...</td>\n",
       "      <td>-53.629629629629626</td>\n",
       "      <td>-55.25925925925926</td>\n",
       "      <td>-53.0</td>\n",
       "      <td>-53.74074074074074</td>\n",
       "      <td>80.10454351494609</td>\n",
       "      <td>184.0</td>\n",
       "      <td>3.0</td>\n",
       "      <td>CURRENT ACCOUNTS</td>\n",
       "      <td>3.0</td>\n",
       "      <td>Cash on demand</td>\n",
       "    </tr>\n",
       "    <tr>\n",
       "      <th>21497</th>\n",
       "      <td>-174115151336149439</td>\n",
       "      <td>0</td>\n",
       "      <td>NaN</td>\n",
       "      <td>1</td>\n",
       "      <td>3</td>\n",
       "      <td>3.0</td>\n",
       "      <td>6070615.0</td>\n",
       "      <td>1014167.0</td>\n",
       "      <td>0.0</td>\n",
       "      <td>1053209.0</td>\n",
       "      <td>...</td>\n",
       "      <td>1034.6041666666667</td>\n",
       "      <td>800.90625</td>\n",
       "      <td>1712.4270833333333</td>\n",
       "      <td>1075.7708333333333</td>\n",
       "      <td>4783.365801298819</td>\n",
       "      <td>43820.0</td>\n",
       "      <td>4.0</td>\n",
       "      <td>CURRENT ACCOUNTS</td>\n",
       "      <td>4.0</td>\n",
       "      <td>Cash on demand</td>\n",
       "    </tr>\n",
       "  </tbody>\n",
       "</table>\n",
       "<p>21498 rows × 62 columns</p>\n",
       "</div>"
      ],
      "text/plain": [
       "                 client_id  sale_flg        sale_amount  contacts  feature_1  \\\n",
       "0      7513301859607023584         0                NaN         1          7   \n",
       "1      9157009756404187626         0                NaN         1          3   \n",
       "2     -1893104556496814867         0                NaN         1          5   \n",
       "3      6886062013213911831         0                NaN         1          4   \n",
       "4     -8156468515495593794         1 138018.05000000002         1          7   \n",
       "...                    ...       ...                ...       ...        ...   \n",
       "21493  4662551505651924284         0                NaN         2          3   \n",
       "21494 -8968737688687691353         0                NaN         1          9   \n",
       "21495 -5799097497074119478         0                NaN         1          2   \n",
       "21496 -2264802671063321355         1  43882.85000000001         2          8   \n",
       "21497  -174115151336149439         0                NaN         1          3   \n",
       "\n",
       "       client_segment  feature_2  feature_3  feature_4  feature_5  ...  \\\n",
       "0                13.0   571533.0    15717.0        0.0        0.0  ...   \n",
       "1                13.0  3642369.0    94787.0        0.0        0.0  ...   \n",
       "2                16.0   352826.0     5500.0        0.0     6822.0  ...   \n",
       "3                 3.0  6070615.0    40580.0        0.0    30401.0  ...   \n",
       "4                14.0  3642369.0    97156.0    81488.0        0.0  ...   \n",
       "...               ...        ...        ...        ...        ...  ...   \n",
       "21493             3.0  6070615.0    97616.0    21921.0    85635.0  ...   \n",
       "21494            14.0  1821184.0     2428.0     3952.0        0.0  ...   \n",
       "21495            16.0  6070615.0    64991.0        0.0    13450.0  ...   \n",
       "21496             4.0  2282408.0     5832.0    16185.0        0.0  ...   \n",
       "21497             3.0  6070615.0  1014167.0        0.0  1053209.0  ...   \n",
       "\n",
       "       mean_eop_bal_sum_rur  mean_min_bal_sum_rur  mean_max_bal_sum_rur  \\\n",
       "0                       0.0                   0.0                   0.0   \n",
       "1                       0.0                   0.0                   0.0   \n",
       "2         4.833333333333333                   0.0     6.833333333333333   \n",
       "3        0.5729166666666666  0.026041666666666668    1.1927083333333333   \n",
       "4                       0.0                   0.0                   0.0   \n",
       "...                     ...                   ...                   ...   \n",
       "21493                 9.875                   1.0                 35.75   \n",
       "21494               -9999.0               -9999.0               -9999.0   \n",
       "21495    2.9166666666666665                   0.0                   7.0   \n",
       "21496   -53.629629629629626    -55.25925925925926                 -53.0   \n",
       "21497    1034.6041666666667             800.90625    1712.4270833333333   \n",
       "\n",
       "       mean_avg_bal_sum_rur  std_avg_bal_sum_rur  max_min_avg_bal_sum_rur  \\\n",
       "0                       0.0                  0.0                      0.0   \n",
       "1                       0.0                  0.0                      0.0   \n",
       "2                      2.75    7.978664732214965                     28.0   \n",
       "3        0.4270833333333333    2.065649203461869                     19.0   \n",
       "4                       0.0                  0.0                      0.0   \n",
       "...                     ...                  ...                      ...   \n",
       "21493    15.958333333333334    32.58764658800828                    155.0   \n",
       "21494               -9999.0              -9999.0                -999999.0   \n",
       "21495    2.0833333333333335    6.612087187091302                     23.0   \n",
       "21496    -53.74074074074074    80.10454351494609                    184.0   \n",
       "21497    1075.7708333333333    4783.365801298819                  43820.0   \n",
       "\n",
       "       total_prod_cat_name  most_common_prod_cat_name  total_prod_group_name  \\\n",
       "0                      2.0           CURRENT ACCOUNTS                    2.0   \n",
       "1                      1.0           CURRENT ACCOUNTS                    1.0   \n",
       "2                      1.0               SALARY CARDS                    1.0   \n",
       "3                      4.0           CURRENT ACCOUNTS                    3.0   \n",
       "4                      1.0                         KN                    1.0   \n",
       "...                    ...                        ...                    ...   \n",
       "21493                  1.0                         KN                    2.0   \n",
       "21494                  0.0                  <unknown>                    0.0   \n",
       "21495                  1.0               SALARY CARDS                    1.0   \n",
       "21496                  3.0           CURRENT ACCOUNTS                    3.0   \n",
       "21497                  4.0           CURRENT ACCOUNTS                    4.0   \n",
       "\n",
       "       most_common_prod_group_name  \n",
       "0                   Cash on demand  \n",
       "1                   Cash on demand  \n",
       "2                     Salary cards  \n",
       "3                   Cash on demand  \n",
       "4                      Debit cards  \n",
       "...                            ...  \n",
       "21493                  Debit cards  \n",
       "21494                    <unknown>  \n",
       "21495                 Salary cards  \n",
       "21496               Cash on demand  \n",
       "21497               Cash on demand  \n",
       "\n",
       "[21498 rows x 62 columns]"
      ]
     },
     "execution_count": 143,
     "metadata": {},
     "output_type": "execute_result"
    }
   ],
   "source": [
    "data"
   ]
  },
  {
   "cell_type": "code",
   "execution_count": 146,
   "metadata": {},
   "outputs": [
    {
     "data": {
      "text/html": [
       "<div>\n",
       "<style scoped>\n",
       "    .dataframe tbody tr th:only-of-type {\n",
       "        vertical-align: middle;\n",
       "    }\n",
       "\n",
       "    .dataframe tbody tr th {\n",
       "        vertical-align: top;\n",
       "    }\n",
       "\n",
       "    .dataframe thead th {\n",
       "        text-align: right;\n",
       "    }\n",
       "</style>\n",
       "<table border=\"1\" class=\"dataframe\">\n",
       "  <thead>\n",
       "    <tr style=\"text-align: right;\">\n",
       "      <th></th>\n",
       "      <th>client_id</th>\n",
       "      <th>sale_flg</th>\n",
       "      <th>sale_amount</th>\n",
       "      <th>contacts</th>\n",
       "      <th>feature_1</th>\n",
       "      <th>client_segment</th>\n",
       "      <th>feature_2</th>\n",
       "      <th>feature_3</th>\n",
       "      <th>feature_4</th>\n",
       "      <th>feature_5</th>\n",
       "      <th>...</th>\n",
       "      <th>most_common_prod_cat_name</th>\n",
       "      <th>total_prod_group_name</th>\n",
       "      <th>most_common_prod_group_name</th>\n",
       "      <th>client_gender</th>\n",
       "      <th>client_age</th>\n",
       "      <th>client_region</th>\n",
       "      <th>client_city</th>\n",
       "      <th>client_citizenship</th>\n",
       "      <th>client_education</th>\n",
       "      <th>client_job_type</th>\n",
       "    </tr>\n",
       "  </thead>\n",
       "  <tbody>\n",
       "    <tr>\n",
       "      <th>0</th>\n",
       "      <td>7513301859607023584</td>\n",
       "      <td>0</td>\n",
       "      <td>NaN</td>\n",
       "      <td>1</td>\n",
       "      <td>7</td>\n",
       "      <td>13.0</td>\n",
       "      <td>571533.0</td>\n",
       "      <td>15717.0</td>\n",
       "      <td>0.0</td>\n",
       "      <td>0.0</td>\n",
       "      <td>...</td>\n",
       "      <td>CURRENT ACCOUNTS</td>\n",
       "      <td>2.0</td>\n",
       "      <td>Cash on demand</td>\n",
       "      <td>F</td>\n",
       "      <td>33.0</td>\n",
       "      <td>0</td>\n",
       "      <td>115</td>\n",
       "      <td>RUSSIA</td>\n",
       "      <td>NaN</td>\n",
       "      <td>NaN</td>\n",
       "    </tr>\n",
       "    <tr>\n",
       "      <th>1</th>\n",
       "      <td>9157009756404187626</td>\n",
       "      <td>0</td>\n",
       "      <td>NaN</td>\n",
       "      <td>1</td>\n",
       "      <td>3</td>\n",
       "      <td>13.0</td>\n",
       "      <td>3642369.0</td>\n",
       "      <td>94787.0</td>\n",
       "      <td>0.0</td>\n",
       "      <td>0.0</td>\n",
       "      <td>...</td>\n",
       "      <td>CURRENT ACCOUNTS</td>\n",
       "      <td>1.0</td>\n",
       "      <td>Cash on demand</td>\n",
       "      <td>F</td>\n",
       "      <td>59.0</td>\n",
       "      <td>17</td>\n",
       "      <td>668</td>\n",
       "      <td>RUSSIA</td>\n",
       "      <td>NaN</td>\n",
       "      <td>NaN</td>\n",
       "    </tr>\n",
       "    <tr>\n",
       "      <th>2</th>\n",
       "      <td>-1893104556496814867</td>\n",
       "      <td>0</td>\n",
       "      <td>NaN</td>\n",
       "      <td>1</td>\n",
       "      <td>5</td>\n",
       "      <td>16.0</td>\n",
       "      <td>352826.0</td>\n",
       "      <td>5500.0</td>\n",
       "      <td>0.0</td>\n",
       "      <td>6822.0</td>\n",
       "      <td>...</td>\n",
       "      <td>SALARY CARDS</td>\n",
       "      <td>1.0</td>\n",
       "      <td>Salary cards</td>\n",
       "      <td>M</td>\n",
       "      <td>51.0</td>\n",
       "      <td>28</td>\n",
       "      <td>65</td>\n",
       "      <td>RUSSIA</td>\n",
       "      <td>NaN</td>\n",
       "      <td>NaN</td>\n",
       "    </tr>\n",
       "    <tr>\n",
       "      <th>3</th>\n",
       "      <td>6886062013213911831</td>\n",
       "      <td>0</td>\n",
       "      <td>NaN</td>\n",
       "      <td>1</td>\n",
       "      <td>4</td>\n",
       "      <td>3.0</td>\n",
       "      <td>6070615.0</td>\n",
       "      <td>40580.0</td>\n",
       "      <td>0.0</td>\n",
       "      <td>30401.0</td>\n",
       "      <td>...</td>\n",
       "      <td>CURRENT ACCOUNTS</td>\n",
       "      <td>3.0</td>\n",
       "      <td>Cash on demand</td>\n",
       "      <td>F</td>\n",
       "      <td>56.0</td>\n",
       "      <td>0</td>\n",
       "      <td>40</td>\n",
       "      <td>RUSSIA</td>\n",
       "      <td>NaN</td>\n",
       "      <td>NaN</td>\n",
       "    </tr>\n",
       "    <tr>\n",
       "      <th>4</th>\n",
       "      <td>-8156468515495593794</td>\n",
       "      <td>1</td>\n",
       "      <td>138018.05000000002</td>\n",
       "      <td>1</td>\n",
       "      <td>7</td>\n",
       "      <td>14.0</td>\n",
       "      <td>3642369.0</td>\n",
       "      <td>97156.0</td>\n",
       "      <td>81488.0</td>\n",
       "      <td>0.0</td>\n",
       "      <td>...</td>\n",
       "      <td>KN</td>\n",
       "      <td>1.0</td>\n",
       "      <td>Debit cards</td>\n",
       "      <td>F</td>\n",
       "      <td>34.0</td>\n",
       "      <td>-1</td>\n",
       "      <td>-1</td>\n",
       "      <td>RUSSIA</td>\n",
       "      <td>HIGHER_PROFESSIONAL</td>\n",
       "      <td>NaN</td>\n",
       "    </tr>\n",
       "    <tr>\n",
       "      <th>...</th>\n",
       "      <td>...</td>\n",
       "      <td>...</td>\n",
       "      <td>...</td>\n",
       "      <td>...</td>\n",
       "      <td>...</td>\n",
       "      <td>...</td>\n",
       "      <td>...</td>\n",
       "      <td>...</td>\n",
       "      <td>...</td>\n",
       "      <td>...</td>\n",
       "      <td>...</td>\n",
       "      <td>...</td>\n",
       "      <td>...</td>\n",
       "      <td>...</td>\n",
       "      <td>...</td>\n",
       "      <td>...</td>\n",
       "      <td>...</td>\n",
       "      <td>...</td>\n",
       "      <td>...</td>\n",
       "      <td>...</td>\n",
       "      <td>...</td>\n",
       "    </tr>\n",
       "    <tr>\n",
       "      <th>21493</th>\n",
       "      <td>4662551505651924284</td>\n",
       "      <td>0</td>\n",
       "      <td>NaN</td>\n",
       "      <td>2</td>\n",
       "      <td>3</td>\n",
       "      <td>3.0</td>\n",
       "      <td>6070615.0</td>\n",
       "      <td>97616.0</td>\n",
       "      <td>21921.0</td>\n",
       "      <td>85635.0</td>\n",
       "      <td>...</td>\n",
       "      <td>KN</td>\n",
       "      <td>2.0</td>\n",
       "      <td>Debit cards</td>\n",
       "      <td>M</td>\n",
       "      <td>31.0</td>\n",
       "      <td>0</td>\n",
       "      <td>14</td>\n",
       "      <td>RUSSIA</td>\n",
       "      <td>NaN</td>\n",
       "      <td>NaN</td>\n",
       "    </tr>\n",
       "    <tr>\n",
       "      <th>21494</th>\n",
       "      <td>-8968737688687691353</td>\n",
       "      <td>0</td>\n",
       "      <td>NaN</td>\n",
       "      <td>1</td>\n",
       "      <td>9</td>\n",
       "      <td>14.0</td>\n",
       "      <td>1821184.0</td>\n",
       "      <td>2428.0</td>\n",
       "      <td>3952.0</td>\n",
       "      <td>0.0</td>\n",
       "      <td>...</td>\n",
       "      <td>&lt;unknown&gt;</td>\n",
       "      <td>0.0</td>\n",
       "      <td>&lt;unknown&gt;</td>\n",
       "      <td>M</td>\n",
       "      <td>53.0</td>\n",
       "      <td>25</td>\n",
       "      <td>33</td>\n",
       "      <td>RUSSIA</td>\n",
       "      <td>NaN</td>\n",
       "      <td>NaN</td>\n",
       "    </tr>\n",
       "    <tr>\n",
       "      <th>21495</th>\n",
       "      <td>-5799097497074119478</td>\n",
       "      <td>0</td>\n",
       "      <td>NaN</td>\n",
       "      <td>1</td>\n",
       "      <td>2</td>\n",
       "      <td>16.0</td>\n",
       "      <td>6070615.0</td>\n",
       "      <td>64991.0</td>\n",
       "      <td>0.0</td>\n",
       "      <td>13450.0</td>\n",
       "      <td>...</td>\n",
       "      <td>SALARY CARDS</td>\n",
       "      <td>1.0</td>\n",
       "      <td>Salary cards</td>\n",
       "      <td>F</td>\n",
       "      <td>57.0</td>\n",
       "      <td>12</td>\n",
       "      <td>225</td>\n",
       "      <td>RUSSIA</td>\n",
       "      <td>NaN</td>\n",
       "      <td>NaN</td>\n",
       "    </tr>\n",
       "    <tr>\n",
       "      <th>21496</th>\n",
       "      <td>-2264802671063321355</td>\n",
       "      <td>1</td>\n",
       "      <td>43882.85000000001</td>\n",
       "      <td>2</td>\n",
       "      <td>8</td>\n",
       "      <td>4.0</td>\n",
       "      <td>2282408.0</td>\n",
       "      <td>5832.0</td>\n",
       "      <td>16185.0</td>\n",
       "      <td>0.0</td>\n",
       "      <td>...</td>\n",
       "      <td>CURRENT ACCOUNTS</td>\n",
       "      <td>3.0</td>\n",
       "      <td>Cash on demand</td>\n",
       "      <td>M</td>\n",
       "      <td>37.0</td>\n",
       "      <td>37</td>\n",
       "      <td>368</td>\n",
       "      <td>RUSSIA</td>\n",
       "      <td>MIDDLE_PROFESSIONAL</td>\n",
       "      <td>NaN</td>\n",
       "    </tr>\n",
       "    <tr>\n",
       "      <th>21497</th>\n",
       "      <td>-174115151336149439</td>\n",
       "      <td>0</td>\n",
       "      <td>NaN</td>\n",
       "      <td>1</td>\n",
       "      <td>3</td>\n",
       "      <td>3.0</td>\n",
       "      <td>6070615.0</td>\n",
       "      <td>1014167.0</td>\n",
       "      <td>0.0</td>\n",
       "      <td>1053209.0</td>\n",
       "      <td>...</td>\n",
       "      <td>CURRENT ACCOUNTS</td>\n",
       "      <td>4.0</td>\n",
       "      <td>Cash on demand</td>\n",
       "      <td>M</td>\n",
       "      <td>33.0</td>\n",
       "      <td>7</td>\n",
       "      <td>13</td>\n",
       "      <td>RUSSIA</td>\n",
       "      <td>NaN</td>\n",
       "      <td>NaN</td>\n",
       "    </tr>\n",
       "  </tbody>\n",
       "</table>\n",
       "<p>21498 rows × 69 columns</p>\n",
       "</div>"
      ],
      "text/plain": [
       "                 client_id  sale_flg        sale_amount  contacts  feature_1  \\\n",
       "0      7513301859607023584         0                NaN         1          7   \n",
       "1      9157009756404187626         0                NaN         1          3   \n",
       "2     -1893104556496814867         0                NaN         1          5   \n",
       "3      6886062013213911831         0                NaN         1          4   \n",
       "4     -8156468515495593794         1 138018.05000000002         1          7   \n",
       "...                    ...       ...                ...       ...        ...   \n",
       "21493  4662551505651924284         0                NaN         2          3   \n",
       "21494 -8968737688687691353         0                NaN         1          9   \n",
       "21495 -5799097497074119478         0                NaN         1          2   \n",
       "21496 -2264802671063321355         1  43882.85000000001         2          8   \n",
       "21497  -174115151336149439         0                NaN         1          3   \n",
       "\n",
       "       client_segment  feature_2  feature_3  feature_4  feature_5  ...  \\\n",
       "0                13.0   571533.0    15717.0        0.0        0.0  ...   \n",
       "1                13.0  3642369.0    94787.0        0.0        0.0  ...   \n",
       "2                16.0   352826.0     5500.0        0.0     6822.0  ...   \n",
       "3                 3.0  6070615.0    40580.0        0.0    30401.0  ...   \n",
       "4                14.0  3642369.0    97156.0    81488.0        0.0  ...   \n",
       "...               ...        ...        ...        ...        ...  ...   \n",
       "21493             3.0  6070615.0    97616.0    21921.0    85635.0  ...   \n",
       "21494            14.0  1821184.0     2428.0     3952.0        0.0  ...   \n",
       "21495            16.0  6070615.0    64991.0        0.0    13450.0  ...   \n",
       "21496             4.0  2282408.0     5832.0    16185.0        0.0  ...   \n",
       "21497             3.0  6070615.0  1014167.0        0.0  1053209.0  ...   \n",
       "\n",
       "       most_common_prod_cat_name  total_prod_group_name  \\\n",
       "0               CURRENT ACCOUNTS                    2.0   \n",
       "1               CURRENT ACCOUNTS                    1.0   \n",
       "2                   SALARY CARDS                    1.0   \n",
       "3               CURRENT ACCOUNTS                    3.0   \n",
       "4                             KN                    1.0   \n",
       "...                          ...                    ...   \n",
       "21493                         KN                    2.0   \n",
       "21494                  <unknown>                    0.0   \n",
       "21495               SALARY CARDS                    1.0   \n",
       "21496           CURRENT ACCOUNTS                    3.0   \n",
       "21497           CURRENT ACCOUNTS                    4.0   \n",
       "\n",
       "       most_common_prod_group_name  client_gender  client_age  client_region  \\\n",
       "0                   Cash on demand              F        33.0              0   \n",
       "1                   Cash on demand              F        59.0             17   \n",
       "2                     Salary cards              M        51.0             28   \n",
       "3                   Cash on demand              F        56.0              0   \n",
       "4                      Debit cards              F        34.0             -1   \n",
       "...                            ...            ...         ...            ...   \n",
       "21493                  Debit cards              M        31.0              0   \n",
       "21494                    <unknown>              M        53.0             25   \n",
       "21495                 Salary cards              F        57.0             12   \n",
       "21496               Cash on demand              M        37.0             37   \n",
       "21497               Cash on demand              M        33.0              7   \n",
       "\n",
       "       client_city  client_citizenship     client_education  client_job_type  \n",
       "0              115              RUSSIA                  NaN              NaN  \n",
       "1              668              RUSSIA                  NaN              NaN  \n",
       "2               65              RUSSIA                  NaN              NaN  \n",
       "3               40              RUSSIA                  NaN              NaN  \n",
       "4               -1              RUSSIA  HIGHER_PROFESSIONAL              NaN  \n",
       "...            ...                 ...                  ...              ...  \n",
       "21493           14              RUSSIA                  NaN              NaN  \n",
       "21494           33              RUSSIA                  NaN              NaN  \n",
       "21495          225              RUSSIA                  NaN              NaN  \n",
       "21496          368              RUSSIA  MIDDLE_PROFESSIONAL              NaN  \n",
       "21497           13              RUSSIA                  NaN              NaN  \n",
       "\n",
       "[21498 rows x 69 columns]"
      ]
     },
     "execution_count": 146,
     "metadata": {},
     "output_type": "execute_result"
    }
   ],
   "source": [
    "data = data.merge(client, on='client_id')\n",
    "data"
   ]
  },
  {
   "cell_type": "code",
   "execution_count": 152,
   "metadata": {},
   "outputs": [
    {
     "data": {
      "text/plain": [
       "0         0\n",
       "1        17\n",
       "2        28\n",
       "3         0\n",
       "4        -1\n",
       "         ..\n",
       "21493     0\n",
       "21494    25\n",
       "21495    12\n",
       "21496    37\n",
       "21497     7\n",
       "Name: client_region, Length: 21498, dtype: int64"
      ]
     },
     "execution_count": 152,
     "metadata": {},
     "output_type": "execute_result"
    }
   ],
   "source": [
    "client['client_region']"
   ]
  },
  {
   "cell_type": "code",
   "execution_count": 158,
   "metadata": {},
   "outputs": [
    {
     "data": {
      "text/plain": [
       "0    21389\n",
       "1      109\n",
       "Name: match_client_region-region_cd, dtype: int64"
      ]
     },
     "execution_count": 158,
     "metadata": {},
     "output_type": "execute_result"
    }
   ],
   "source": [
    "data['match_client_region-region_cd'] = (data['client_region'] == data['region_cd']).astype(int)\n",
    "data['match_client_region-region_cd'].value_counts()"
   ]
  },
  {
   "cell_type": "code",
   "execution_count": 159,
   "metadata": {},
   "outputs": [
    {
     "data": {
      "text/html": [
       "<div>\n",
       "<style scoped>\n",
       "    .dataframe tbody tr th:only-of-type {\n",
       "        vertical-align: middle;\n",
       "    }\n",
       "\n",
       "    .dataframe tbody tr th {\n",
       "        vertical-align: top;\n",
       "    }\n",
       "\n",
       "    .dataframe thead th {\n",
       "        text-align: right;\n",
       "    }\n",
       "</style>\n",
       "<table border=\"1\" class=\"dataframe\">\n",
       "  <thead>\n",
       "    <tr style=\"text-align: right;\">\n",
       "      <th></th>\n",
       "      <th>client_id</th>\n",
       "      <th>client_gender</th>\n",
       "      <th>client_age</th>\n",
       "      <th>client_region</th>\n",
       "      <th>client_city</th>\n",
       "      <th>client_citizenship</th>\n",
       "      <th>client_education</th>\n",
       "      <th>client_job_type</th>\n",
       "    </tr>\n",
       "  </thead>\n",
       "  <tbody>\n",
       "    <tr>\n",
       "      <th>0</th>\n",
       "      <td>7513301859607023584</td>\n",
       "      <td>F</td>\n",
       "      <td>33.0</td>\n",
       "      <td>0</td>\n",
       "      <td>115</td>\n",
       "      <td>RUSSIA</td>\n",
       "      <td>NaN</td>\n",
       "      <td>NaN</td>\n",
       "    </tr>\n",
       "    <tr>\n",
       "      <th>1</th>\n",
       "      <td>9157009756404187626</td>\n",
       "      <td>F</td>\n",
       "      <td>59.0</td>\n",
       "      <td>17</td>\n",
       "      <td>668</td>\n",
       "      <td>RUSSIA</td>\n",
       "      <td>NaN</td>\n",
       "      <td>NaN</td>\n",
       "    </tr>\n",
       "    <tr>\n",
       "      <th>2</th>\n",
       "      <td>-1893104556496814867</td>\n",
       "      <td>M</td>\n",
       "      <td>51.0</td>\n",
       "      <td>28</td>\n",
       "      <td>65</td>\n",
       "      <td>RUSSIA</td>\n",
       "      <td>NaN</td>\n",
       "      <td>NaN</td>\n",
       "    </tr>\n",
       "    <tr>\n",
       "      <th>3</th>\n",
       "      <td>6886062013213911831</td>\n",
       "      <td>F</td>\n",
       "      <td>56.0</td>\n",
       "      <td>0</td>\n",
       "      <td>40</td>\n",
       "      <td>RUSSIA</td>\n",
       "      <td>NaN</td>\n",
       "      <td>NaN</td>\n",
       "    </tr>\n",
       "    <tr>\n",
       "      <th>4</th>\n",
       "      <td>-8156468515495593794</td>\n",
       "      <td>F</td>\n",
       "      <td>34.0</td>\n",
       "      <td>-1</td>\n",
       "      <td>-1</td>\n",
       "      <td>RUSSIA</td>\n",
       "      <td>HIGHER_PROFESSIONAL</td>\n",
       "      <td>NaN</td>\n",
       "    </tr>\n",
       "    <tr>\n",
       "      <th>...</th>\n",
       "      <td>...</td>\n",
       "      <td>...</td>\n",
       "      <td>...</td>\n",
       "      <td>...</td>\n",
       "      <td>...</td>\n",
       "      <td>...</td>\n",
       "      <td>...</td>\n",
       "      <td>...</td>\n",
       "    </tr>\n",
       "    <tr>\n",
       "      <th>21493</th>\n",
       "      <td>4662551505651924284</td>\n",
       "      <td>M</td>\n",
       "      <td>31.0</td>\n",
       "      <td>0</td>\n",
       "      <td>14</td>\n",
       "      <td>RUSSIA</td>\n",
       "      <td>NaN</td>\n",
       "      <td>NaN</td>\n",
       "    </tr>\n",
       "    <tr>\n",
       "      <th>21494</th>\n",
       "      <td>-8968737688687691353</td>\n",
       "      <td>M</td>\n",
       "      <td>53.0</td>\n",
       "      <td>25</td>\n",
       "      <td>33</td>\n",
       "      <td>RUSSIA</td>\n",
       "      <td>NaN</td>\n",
       "      <td>NaN</td>\n",
       "    </tr>\n",
       "    <tr>\n",
       "      <th>21495</th>\n",
       "      <td>-5799097497074119478</td>\n",
       "      <td>F</td>\n",
       "      <td>57.0</td>\n",
       "      <td>12</td>\n",
       "      <td>225</td>\n",
       "      <td>RUSSIA</td>\n",
       "      <td>NaN</td>\n",
       "      <td>NaN</td>\n",
       "    </tr>\n",
       "    <tr>\n",
       "      <th>21496</th>\n",
       "      <td>-2264802671063321355</td>\n",
       "      <td>M</td>\n",
       "      <td>37.0</td>\n",
       "      <td>37</td>\n",
       "      <td>368</td>\n",
       "      <td>RUSSIA</td>\n",
       "      <td>MIDDLE_PROFESSIONAL</td>\n",
       "      <td>NaN</td>\n",
       "    </tr>\n",
       "    <tr>\n",
       "      <th>21497</th>\n",
       "      <td>-174115151336149439</td>\n",
       "      <td>M</td>\n",
       "      <td>33.0</td>\n",
       "      <td>7</td>\n",
       "      <td>13</td>\n",
       "      <td>RUSSIA</td>\n",
       "      <td>NaN</td>\n",
       "      <td>NaN</td>\n",
       "    </tr>\n",
       "  </tbody>\n",
       "</table>\n",
       "<p>21498 rows × 8 columns</p>\n",
       "</div>"
      ],
      "text/plain": [
       "                 client_id client_gender  client_age  client_region  \\\n",
       "0      7513301859607023584             F        33.0              0   \n",
       "1      9157009756404187626             F        59.0             17   \n",
       "2     -1893104556496814867             M        51.0             28   \n",
       "3      6886062013213911831             F        56.0              0   \n",
       "4     -8156468515495593794             F        34.0             -1   \n",
       "...                    ...           ...         ...            ...   \n",
       "21493  4662551505651924284             M        31.0              0   \n",
       "21494 -8968737688687691353             M        53.0             25   \n",
       "21495 -5799097497074119478             F        57.0             12   \n",
       "21496 -2264802671063321355             M        37.0             37   \n",
       "21497  -174115151336149439             M        33.0              7   \n",
       "\n",
       "       client_city client_citizenship     client_education client_job_type  \n",
       "0              115             RUSSIA                  NaN             NaN  \n",
       "1              668             RUSSIA                  NaN             NaN  \n",
       "2               65             RUSSIA                  NaN             NaN  \n",
       "3               40             RUSSIA                  NaN             NaN  \n",
       "4               -1             RUSSIA  HIGHER_PROFESSIONAL             NaN  \n",
       "...            ...                ...                  ...             ...  \n",
       "21493           14             RUSSIA                  NaN             NaN  \n",
       "21494           33             RUSSIA                  NaN             NaN  \n",
       "21495          225             RUSSIA                  NaN             NaN  \n",
       "21496          368             RUSSIA  MIDDLE_PROFESSIONAL             NaN  \n",
       "21497           13             RUSSIA                  NaN             NaN  \n",
       "\n",
       "[21498 rows x 8 columns]"
      ]
     },
     "execution_count": 159,
     "metadata": {},
     "output_type": "execute_result"
    }
   ],
   "source": [
    "client"
   ]
  },
  {
   "cell_type": "code",
   "execution_count": 161,
   "metadata": {},
   "outputs": [
    {
     "data": {
      "text/plain": [
       "client_id                 0\n",
       "client_gender             3\n",
       "client_age                3\n",
       "client_region             0\n",
       "client_city               0\n",
       "client_citizenship        5\n",
       "client_education      12218\n",
       "client_job_type       21423\n",
       "dtype: int64"
      ]
     },
     "execution_count": 161,
     "metadata": {},
     "output_type": "execute_result"
    }
   ],
   "source": [
    "client.isnull().sum()"
   ]
  },
  {
   "cell_type": "code",
   "execution_count": 166,
   "metadata": {},
   "outputs": [
    {
     "data": {
      "text/plain": [
       "RUSSIA     21492\n",
       "UKRAINE        1\n",
       "Name: client_citizenship, dtype: int64"
      ]
     },
     "execution_count": 166,
     "metadata": {},
     "output_type": "execute_result"
    }
   ],
   "source": [
    "client['client_citizenship'].value_counts()"
   ]
  },
  {
   "cell_type": "code",
   "execution_count": 167,
   "metadata": {},
   "outputs": [
    {
     "data": {
      "text/plain": [
       "HIGHER_PROFESSIONAL            4463\n",
       "MIDDLE_PROFESSIONAL            3550\n",
       "FULL_GENERAL                    606\n",
       "HIGHER_PROFESSIONAL_PARTIAL     258\n",
       "PRIMARY_PROFESSIONAL            238\n",
       "TWO_AND_MORE_HIGHER             147\n",
       "SCHOLASTIC_DEGREE                18\n",
       "Name: client_education, dtype: int64"
      ]
     },
     "execution_count": 167,
     "metadata": {},
     "output_type": "execute_result"
    }
   ],
   "source": [
    "client['client_education'].value_counts()"
   ]
  },
  {
   "cell_type": "code",
   "execution_count": 168,
   "metadata": {},
   "outputs": [
    {
     "data": {
      "text/plain": [
       "RETIRED            40\n",
       "BUSINESS           15\n",
       "STUDENT            15\n",
       "MATERNITY_LEAVE     4\n",
       "MILITARY            1\n",
       "Name: client_job_type, dtype: int64"
      ]
     },
     "execution_count": 168,
     "metadata": {},
     "output_type": "execute_result"
    }
   ],
   "source": [
    "client['client_job_type'].value_counts()"
   ]
  },
  {
   "cell_type": "markdown",
   "metadata": {},
   "source": [
    "# campaigns"
   ]
  },
  {
   "cell_type": "code",
   "execution_count": 169,
   "metadata": {},
   "outputs": [
    {
     "data": {
      "text/html": [
       "<div>\n",
       "<style scoped>\n",
       "    .dataframe tbody tr th:only-of-type {\n",
       "        vertical-align: middle;\n",
       "    }\n",
       "\n",
       "    .dataframe tbody tr th {\n",
       "        vertical-align: top;\n",
       "    }\n",
       "\n",
       "    .dataframe thead th {\n",
       "        text-align: right;\n",
       "    }\n",
       "</style>\n",
       "<table border=\"1\" class=\"dataframe\">\n",
       "  <thead>\n",
       "    <tr style=\"text-align: right;\">\n",
       "      <th></th>\n",
       "      <th>client_id</th>\n",
       "      <th>agr_flg</th>\n",
       "      <th>otkaz</th>\n",
       "      <th>dumaet</th>\n",
       "      <th>ring_up_flg</th>\n",
       "      <th>not_ring_up_flg</th>\n",
       "      <th>count_comm</th>\n",
       "      <th>month_end_dt</th>\n",
       "      <th>channel</th>\n",
       "      <th>prod</th>\n",
       "    </tr>\n",
       "  </thead>\n",
       "  <tbody>\n",
       "    <tr>\n",
       "      <th>0</th>\n",
       "      <td>7513301859607023584</td>\n",
       "      <td>0</td>\n",
       "      <td>0</td>\n",
       "      <td>0</td>\n",
       "      <td>0</td>\n",
       "      <td>2</td>\n",
       "      <td>2</td>\n",
       "      <td>2018-12-31</td>\n",
       "      <td>CALL</td>\n",
       "      <td>Credit Card</td>\n",
       "    </tr>\n",
       "    <tr>\n",
       "      <th>1</th>\n",
       "      <td>7513301859607023584</td>\n",
       "      <td>0</td>\n",
       "      <td>0</td>\n",
       "      <td>0</td>\n",
       "      <td>0</td>\n",
       "      <td>2</td>\n",
       "      <td>2</td>\n",
       "      <td>2019-02-28</td>\n",
       "      <td>CALL</td>\n",
       "      <td>Credit Card</td>\n",
       "    </tr>\n",
       "    <tr>\n",
       "      <th>2</th>\n",
       "      <td>-8079817404148237243</td>\n",
       "      <td>0</td>\n",
       "      <td>0</td>\n",
       "      <td>0</td>\n",
       "      <td>2</td>\n",
       "      <td>0</td>\n",
       "      <td>2</td>\n",
       "      <td>2019-08-31</td>\n",
       "      <td>CALL</td>\n",
       "      <td>Credit Card</td>\n",
       "    </tr>\n",
       "    <tr>\n",
       "      <th>3</th>\n",
       "      <td>-8079817404148237243</td>\n",
       "      <td>0</td>\n",
       "      <td>0</td>\n",
       "      <td>0</td>\n",
       "      <td>2</td>\n",
       "      <td>0</td>\n",
       "      <td>2</td>\n",
       "      <td>2019-03-31</td>\n",
       "      <td>CALL</td>\n",
       "      <td>Credit Card</td>\n",
       "    </tr>\n",
       "    <tr>\n",
       "      <th>4</th>\n",
       "      <td>2897849887287086776</td>\n",
       "      <td>0</td>\n",
       "      <td>0</td>\n",
       "      <td>0</td>\n",
       "      <td>0</td>\n",
       "      <td>16</td>\n",
       "      <td>16</td>\n",
       "      <td>2019-02-28</td>\n",
       "      <td>CALL</td>\n",
       "      <td>Credit Card</td>\n",
       "    </tr>\n",
       "    <tr>\n",
       "      <th>...</th>\n",
       "      <td>...</td>\n",
       "      <td>...</td>\n",
       "      <td>...</td>\n",
       "      <td>...</td>\n",
       "      <td>...</td>\n",
       "      <td>...</td>\n",
       "      <td>...</td>\n",
       "      <td>...</td>\n",
       "      <td>...</td>\n",
       "      <td>...</td>\n",
       "    </tr>\n",
       "    <tr>\n",
       "      <th>113050</th>\n",
       "      <td>2307145364875101716</td>\n",
       "      <td>0</td>\n",
       "      <td>0</td>\n",
       "      <td>0</td>\n",
       "      <td>0</td>\n",
       "      <td>0</td>\n",
       "      <td>2</td>\n",
       "      <td>2019-05-31</td>\n",
       "      <td>SMS</td>\n",
       "      <td>Savings account</td>\n",
       "    </tr>\n",
       "    <tr>\n",
       "      <th>113051</th>\n",
       "      <td>-2262941530044003186</td>\n",
       "      <td>0</td>\n",
       "      <td>0</td>\n",
       "      <td>0</td>\n",
       "      <td>0</td>\n",
       "      <td>0</td>\n",
       "      <td>2</td>\n",
       "      <td>2019-05-31</td>\n",
       "      <td>SMS</td>\n",
       "      <td>Savings account</td>\n",
       "    </tr>\n",
       "    <tr>\n",
       "      <th>113052</th>\n",
       "      <td>-8788421051454805335</td>\n",
       "      <td>0</td>\n",
       "      <td>0</td>\n",
       "      <td>0</td>\n",
       "      <td>0</td>\n",
       "      <td>0</td>\n",
       "      <td>2</td>\n",
       "      <td>2019-05-31</td>\n",
       "      <td>SMS</td>\n",
       "      <td>Savings account</td>\n",
       "    </tr>\n",
       "    <tr>\n",
       "      <th>113053</th>\n",
       "      <td>-389524536695171379</td>\n",
       "      <td>0</td>\n",
       "      <td>0</td>\n",
       "      <td>0</td>\n",
       "      <td>0</td>\n",
       "      <td>0</td>\n",
       "      <td>2</td>\n",
       "      <td>2019-05-31</td>\n",
       "      <td>SMS</td>\n",
       "      <td>Savings account</td>\n",
       "    </tr>\n",
       "    <tr>\n",
       "      <th>113054</th>\n",
       "      <td>-2700538904239872155</td>\n",
       "      <td>0</td>\n",
       "      <td>0</td>\n",
       "      <td>0</td>\n",
       "      <td>0</td>\n",
       "      <td>0</td>\n",
       "      <td>2</td>\n",
       "      <td>2019-05-31</td>\n",
       "      <td>SMS</td>\n",
       "      <td>Savings account</td>\n",
       "    </tr>\n",
       "  </tbody>\n",
       "</table>\n",
       "<p>113055 rows × 10 columns</p>\n",
       "</div>"
      ],
      "text/plain": [
       "                  client_id  agr_flg  otkaz  dumaet  ring_up_flg  \\\n",
       "0       7513301859607023584        0      0       0            0   \n",
       "1       7513301859607023584        0      0       0            0   \n",
       "2      -8079817404148237243        0      0       0            2   \n",
       "3      -8079817404148237243        0      0       0            2   \n",
       "4       2897849887287086776        0      0       0            0   \n",
       "...                     ...      ...    ...     ...          ...   \n",
       "113050  2307145364875101716        0      0       0            0   \n",
       "113051 -2262941530044003186        0      0       0            0   \n",
       "113052 -8788421051454805335        0      0       0            0   \n",
       "113053  -389524536695171379        0      0       0            0   \n",
       "113054 -2700538904239872155        0      0       0            0   \n",
       "\n",
       "        not_ring_up_flg  count_comm month_end_dt channel             prod  \n",
       "0                     2           2   2018-12-31    CALL      Credit Card  \n",
       "1                     2           2   2019-02-28    CALL      Credit Card  \n",
       "2                     0           2   2019-08-31    CALL      Credit Card  \n",
       "3                     0           2   2019-03-31    CALL      Credit Card  \n",
       "4                    16          16   2019-02-28    CALL      Credit Card  \n",
       "...                 ...         ...          ...     ...              ...  \n",
       "113050                0           2   2019-05-31     SMS  Savings account  \n",
       "113051                0           2   2019-05-31     SMS  Savings account  \n",
       "113052                0           2   2019-05-31     SMS  Savings account  \n",
       "113053                0           2   2019-05-31     SMS  Savings account  \n",
       "113054                0           2   2019-05-31     SMS  Savings account  \n",
       "\n",
       "[113055 rows x 10 columns]"
      ]
     },
     "execution_count": 169,
     "metadata": {},
     "output_type": "execute_result"
    }
   ],
   "source": [
    "campaigns"
   ]
  },
  {
   "cell_type": "code",
   "execution_count": 173,
   "metadata": {},
   "outputs": [
    {
     "data": {
      "text/plain": [
       "client_id            0\n",
       "agr_flg              0\n",
       "otkaz                0\n",
       "dumaet               0\n",
       "ring_up_flg          0\n",
       "not_ring_up_flg      0\n",
       "count_comm           0\n",
       "month_end_dt         0\n",
       "channel              0\n",
       "prod               180\n",
       "dtype: int64"
      ]
     },
     "execution_count": 173,
     "metadata": {},
     "output_type": "execute_result"
    }
   ],
   "source": [
    "campaigns.isnull().sum()"
   ]
  },
  {
   "cell_type": "code",
   "execution_count": 216,
   "metadata": {},
   "outputs": [],
   "source": [
    "campaigns['prod'] = campaigns['prod'].fillna('<UNK>')"
   ]
  },
  {
   "cell_type": "code",
   "execution_count": 171,
   "metadata": {},
   "outputs": [
    {
     "data": {
      "text/plain": [
       "-4504021236194351903    24\n",
       " 1429814116916357790    24\n",
       " 798911191108312800     24\n",
       "-9017908488389631491    24\n",
       "-3914576643966603938    24\n",
       "                        ..\n",
       "-5285957410178806404     1\n",
       "-5160071965300690104     1\n",
       "-7947294398891154362     1\n",
       " 2066234112935869192     1\n",
       " 1980089307273557817     1\n",
       "Name: client_id, Length: 16516, dtype: int64"
      ]
     },
     "execution_count": 171,
     "metadata": {},
     "output_type": "execute_result"
    }
   ],
   "source": [
    "campaigns['client_id'].value_counts()"
   ]
  },
  {
   "cell_type": "code",
   "execution_count": 204,
   "metadata": {},
   "outputs": [
    {
     "data": {
      "text/plain": [
       "0.0     4982\n",
       "1.0     1756\n",
       "2.0     1675\n",
       "3.0     1358\n",
       "4.0     1213\n",
       "5.0     1196\n",
       "8.0     1193\n",
       "6.0     1185\n",
       "10.0    1168\n",
       "9.0     1127\n",
       "7.0     1108\n",
       "11.0     946\n",
       "12.0     751\n",
       "13.0     579\n",
       "14.0     471\n",
       "15.0     265\n",
       "16.0     174\n",
       "17.0     130\n",
       "18.0      71\n",
       "19.0      64\n",
       "20.0      41\n",
       "21.0      21\n",
       "22.0      10\n",
       "23.0       9\n",
       "24.0       5\n",
       "Name: total_campaigns, dtype: int64"
      ]
     },
     "execution_count": 204,
     "metadata": {},
     "output_type": "execute_result"
    }
   ],
   "source": [
    "data['total_campaigns'] = data['client_id'].map(campaigns.groupby('client_id').size()).fillna(0)\n",
    "data['total_campaigns'].value_counts()"
   ]
  },
  {
   "cell_type": "code",
   "execution_count": 175,
   "metadata": {},
   "outputs": [
    {
     "data": {
      "text/plain": [
       "0    111092\n",
       "1      1963\n",
       "Name: agr_flg, dtype: int64"
      ]
     },
     "execution_count": 175,
     "metadata": {},
     "output_type": "execute_result"
    }
   ],
   "source": [
    "campaigns['agr_flg'].value_counts()"
   ]
  },
  {
   "cell_type": "code",
   "execution_count": 178,
   "metadata": {},
   "outputs": [
    {
     "data": {
      "text/plain": [
       "1.0    14966\n",
       "0.0     4982\n",
       "2.0     1550\n",
       "Name: total_agr_flg, dtype: int64"
      ]
     },
     "execution_count": 178,
     "metadata": {},
     "output_type": "execute_result"
    }
   ],
   "source": [
    "data['total_agr_flg'] = get_feature_total(campaigns, 'agr_flg')\n",
    "data['total_agr_flg'].value_counts()"
   ]
  },
  {
   "cell_type": "code",
   "execution_count": 187,
   "metadata": {},
   "outputs": [
    {
     "data": {
      "text/plain": [
       "0.0                     14916\n",
       "-1.0                     4982\n",
       "0.125                     135\n",
       "0.16666666666666666       129\n",
       "0.2                       120\n",
       "0.14285714285714285       120\n",
       "0.1                       113\n",
       "0.1111111111111111        106\n",
       "0.09090909090909091       104\n",
       "0.25                      104\n",
       "0.5                        87\n",
       "0.3333333333333333         85\n",
       "0.07692307692307693        77\n",
       "0.08333333333333333        73\n",
       "0.07142857142857142        51\n",
       "1.0                        50\n",
       "0.06666666666666667        36\n",
       "0.2222222222222222         24\n",
       "0.0625                     21\n",
       "0.15384615384615385        20\n",
       "0.2857142857142857         17\n",
       "0.058823529411764705       16\n",
       "0.18181818181818182        16\n",
       "0.4                        13\n",
       "0.3                        10\n",
       "0.2727272727272727         10\n",
       "0.05555555555555555         7\n",
       "0.13333333333333333         6\n",
       "0.6666666666666666          6\n",
       "0.05                        5\n",
       "0.05263157894736842         5\n",
       "0.1875                      5\n",
       "0.42857142857142855         4\n",
       "0.23076923076923078         3\n",
       "0.045454545454545456        2\n",
       "0.047619047619047616        2\n",
       "0.3076923076923077          2\n",
       "0.11764705882352941         2\n",
       "0.10526315789473684         2\n",
       "0.6                         2\n",
       "0.09523809523809523         1\n",
       "0.17647058823529413         1\n",
       "0.4444444444444444          1\n",
       "0.21428571428571427         1\n",
       "0.375                       1\n",
       "0.35294117647058826         1\n",
       "0.5555555555555556          1\n",
       "0.08695652173913043         1\n",
       "0.041666666666666664        1\n",
       "0.36363636363636365         1\n",
       "Name: mean_agr_flg, dtype: int64"
      ]
     },
     "execution_count": 187,
     "metadata": {},
     "output_type": "execute_result"
    }
   ],
   "source": [
    "data['mean_agr_flg'] = get_feature_mean(campaigns, 'agr_flg', -1)\n",
    "data['mean_agr_flg'].value_counts()"
   ]
  },
  {
   "cell_type": "code",
   "execution_count": 190,
   "metadata": {},
   "outputs": [
    {
     "data": {
      "text/plain": [
       "0    98320\n",
       "1    14735\n",
       "Name: otkaz, dtype: int64"
      ]
     },
     "execution_count": 190,
     "metadata": {},
     "output_type": "execute_result"
    }
   ],
   "source": [
    "campaigns['otkaz'].value_counts()"
   ]
  },
  {
   "cell_type": "code",
   "execution_count": 191,
   "metadata": {},
   "outputs": [
    {
     "data": {
      "text/plain": [
       "2.0    8591\n",
       "1.0    7925\n",
       "0.0    4982\n",
       "Name: total_otkaz, dtype: int64"
      ]
     },
     "execution_count": 191,
     "metadata": {},
     "output_type": "execute_result"
    }
   ],
   "source": [
    "data['total_otkaz'] = get_feature_total(campaigns, 'otkaz')\n",
    "data['total_otkaz'].value_counts()"
   ]
  },
  {
   "cell_type": "code",
   "execution_count": 195,
   "metadata": {},
   "outputs": [
    {
     "data": {
      "text/plain": [
       "0.0                     7710\n",
       "-1.0                    4982\n",
       "0.25                     861\n",
       "0.2                      811\n",
       "0.3333333333333333       755\n",
       "                        ... \n",
       "0.23809523809523808        1\n",
       "0.041666666666666664       1\n",
       "0.4117647058823529         1\n",
       "0.8                        1\n",
       "0.5555555555555556         1\n",
       "Name: mean_otkaz, Length: 73, dtype: int64"
      ]
     },
     "execution_count": 195,
     "metadata": {},
     "output_type": "execute_result"
    }
   ],
   "source": [
    "data['mean_otkaz'] = get_feature_mean(campaigns, 'otkaz', -1)\n",
    "data['mean_otkaz'].value_counts()"
   ]
  },
  {
   "cell_type": "code",
   "execution_count": 197,
   "metadata": {},
   "outputs": [
    {
     "data": {
      "text/plain": [
       "0    111452\n",
       "1      1603\n",
       "Name: dumaet, dtype: int64"
      ]
     },
     "execution_count": 197,
     "metadata": {},
     "output_type": "execute_result"
    }
   ],
   "source": [
    "campaigns['dumaet'].value_counts()"
   ]
  },
  {
   "cell_type": "code",
   "execution_count": 198,
   "metadata": {},
   "outputs": [
    {
     "data": {
      "text/plain": [
       "1.0    15153\n",
       "0.0     4982\n",
       "2.0     1363\n",
       "Name: total_dumaet, dtype: int64"
      ]
     },
     "execution_count": 198,
     "metadata": {},
     "output_type": "execute_result"
    }
   ],
   "source": [
    "data['total_dumaet'] = get_feature_total(campaigns, 'dumaet')\n",
    "data['total_dumaet'].value_counts()"
   ]
  },
  {
   "cell_type": "code",
   "execution_count": 200,
   "metadata": {},
   "outputs": [
    {
     "data": {
      "text/plain": [
       "0.0                     15134\n",
       "-1.0                     4982\n",
       "0.1                       126\n",
       "0.09090909090909091       115\n",
       "0.14285714285714285       109\n",
       "0.1111111111111111        106\n",
       "0.125                      97\n",
       "0.16666666666666666        93\n",
       "0.08333333333333333        93\n",
       "0.2                        87\n",
       "0.07692307692307693        82\n",
       "0.07142857142857142        73\n",
       "0.25                       71\n",
       "0.3333333333333333         58\n",
       "0.5                        43\n",
       "0.06666666666666667        41\n",
       "0.0625                     34\n",
       "1.0                        19\n",
       "0.15384615384615385        15\n",
       "0.058823529411764705       13\n",
       "0.05555555555555555        11\n",
       "0.2857142857142857         11\n",
       "0.18181818181818182        11\n",
       "0.13333333333333333        11\n",
       "0.2222222222222222         11\n",
       "0.05263157894736842        11\n",
       "0.11764705882352941         6\n",
       "0.21428571428571427         6\n",
       "0.05                        5\n",
       "0.17647058823529413         4\n",
       "0.4                         3\n",
       "0.047619047619047616        3\n",
       "0.3076923076923077          2\n",
       "0.043478260869565216        2\n",
       "0.23529411764705882         2\n",
       "0.1875                      1\n",
       "0.2727272727272727          1\n",
       "0.08695652173913043         1\n",
       "0.2777777777777778          1\n",
       "0.041666666666666664        1\n",
       "0.3                         1\n",
       "0.10526315789473684         1\n",
       "0.15789473684210525         1\n",
       "Name: mean_dumaet, dtype: int64"
      ]
     },
     "execution_count": 200,
     "metadata": {},
     "output_type": "execute_result"
    }
   ],
   "source": [
    "data['mean_dumaet'] = get_feature_mean(campaigns, 'dumaet', -1)\n",
    "data['mean_dumaet'].value_counts()"
   ]
  },
  {
   "cell_type": "code",
   "execution_count": 201,
   "metadata": {},
   "outputs": [
    {
     "data": {
      "text/plain": [
       "0     84556\n",
       "4     24522\n",
       "2      3536\n",
       "8       387\n",
       "6        49\n",
       "12        4\n",
       "16        1\n",
       "Name: ring_up_flg, dtype: int64"
      ]
     },
     "execution_count": 201,
     "metadata": {},
     "output_type": "execute_result"
    }
   ],
   "source": [
    "campaigns['ring_up_flg'].value_counts()"
   ]
  },
  {
   "cell_type": "code",
   "execution_count": 202,
   "metadata": {},
   "outputs": [
    {
     "data": {
      "text/plain": [
       "2.0    9881\n",
       "0.0    4982\n",
       "1.0    4400\n",
       "3.0    2171\n",
       "4.0      63\n",
       "5.0       1\n",
       "Name: total_ring_up_flg, dtype: int64"
      ]
     },
     "execution_count": 202,
     "metadata": {},
     "output_type": "execute_result"
    }
   ],
   "source": [
    "data['total_ring_up_flg'] = get_feature_total(campaigns, 'ring_up_flg')\n",
    "data['total_ring_up_flg'].value_counts()"
   ]
  },
  {
   "cell_type": "code",
   "execution_count": 208,
   "metadata": {},
   "outputs": [
    {
     "data": {
      "text/plain": [
       "0.0     15687\n",
       "-1.0     4982\n",
       "4.0       531\n",
       "2.0       294\n",
       "8.0         3\n",
       "6.0         1\n",
       "Name: most_common_ring_up_flg, dtype: int64"
      ]
     },
     "execution_count": 208,
     "metadata": {},
     "output_type": "execute_result"
    }
   ],
   "source": [
    "data['most_common_ring_up_flg'] = get_feature_most_common(campaigns, 'ring_up_flg', -1)\n",
    "data['most_common_ring_up_flg'].value_counts()"
   ]
  },
  {
   "cell_type": "code",
   "execution_count": 210,
   "metadata": {},
   "outputs": [
    {
     "data": {
      "text/plain": [
       "4     86397\n",
       "2     18559\n",
       "8      5863\n",
       "12      888\n",
       "6       563\n",
       "16      269\n",
       "20      164\n",
       "24      129\n",
       "28       93\n",
       "10       44\n",
       "32       36\n",
       "14       27\n",
       "18       14\n",
       "36        4\n",
       "22        3\n",
       "30        1\n",
       "40        1\n",
       "Name: count_comm, dtype: int64"
      ]
     },
     "execution_count": 210,
     "metadata": {},
     "output_type": "execute_result"
    }
   ],
   "source": [
    "campaigns['count_comm'].value_counts()"
   ]
  },
  {
   "cell_type": "code",
   "execution_count": 209,
   "metadata": {},
   "outputs": [
    {
     "data": {
      "text/plain": [
       "2.0    6986\n",
       "1.0    6375\n",
       "0.0    4982\n",
       "3.0    2789\n",
       "4.0     334\n",
       "5.0      30\n",
       "7.0       1\n",
       "6.0       1\n",
       "Name: total_count_comm, dtype: int64"
      ]
     },
     "execution_count": 209,
     "metadata": {},
     "output_type": "execute_result"
    }
   ],
   "source": [
    "data['total_count_comm'] = get_feature_total(campaigns, 'count_comm')\n",
    "data['total_count_comm'].value_counts()"
   ]
  },
  {
   "cell_type": "code",
   "execution_count": 211,
   "metadata": {},
   "outputs": [
    {
     "data": {
      "text/plain": [
       "4.0     13089\n",
       "-1.0     4982\n",
       "2.0      3095\n",
       "8.0       162\n",
       "6.0        84\n",
       "12.0       41\n",
       "16.0       14\n",
       "20.0        9\n",
       "24.0        7\n",
       "28.0        5\n",
       "32.0        4\n",
       "10.0        3\n",
       "14.0        2\n",
       "22.0        1\n",
       "Name: most_common_count_comm, dtype: int64"
      ]
     },
     "execution_count": 211,
     "metadata": {},
     "output_type": "execute_result"
    }
   ],
   "source": [
    "data['most_common_count_comm'] = get_feature_most_common(campaigns, 'count_comm', -1)\n",
    "data['most_common_count_comm'].value_counts()"
   ]
  },
  {
   "cell_type": "code",
   "execution_count": 212,
   "metadata": {},
   "outputs": [
    {
     "data": {
      "text/plain": [
       "SMS      67895\n",
       "CALL     36237\n",
       "ATM       8846\n",
       "EMAIL       77\n",
       "Name: channel, dtype: int64"
      ]
     },
     "execution_count": 212,
     "metadata": {},
     "output_type": "execute_result"
    }
   ],
   "source": [
    "campaigns['channel'].value_counts()"
   ]
  },
  {
   "cell_type": "code",
   "execution_count": 214,
   "metadata": {},
   "outputs": [
    {
     "data": {
      "text/plain": [
       "2.0    10260\n",
       "0.0     4982\n",
       "1.0     3123\n",
       "3.0     3121\n",
       "4.0       12\n",
       "Name: total_channel, dtype: int64"
      ]
     },
     "execution_count": 214,
     "metadata": {},
     "output_type": "execute_result"
    }
   ],
   "source": [
    "data['total_channel'] = get_feature_total(campaigns, 'channel')\n",
    "data['total_channel'].value_counts()"
   ]
  },
  {
   "cell_type": "code",
   "execution_count": 215,
   "metadata": {},
   "outputs": [
    {
     "data": {
      "text/plain": [
       "SMS          11734\n",
       "<unknown>     4982\n",
       "CALL          4070\n",
       "ATM            706\n",
       "EMAIL            6\n",
       "Name: most_common_channel, dtype: int64"
      ]
     },
     "execution_count": 215,
     "metadata": {},
     "output_type": "execute_result"
    }
   ],
   "source": [
    "data['most_common_channel'] = get_feature_most_common(campaigns, 'channel', '<unknown>')\n",
    "data['most_common_channel'].value_counts()"
   ]
  },
  {
   "cell_type": "code",
   "execution_count": 218,
   "metadata": {},
   "outputs": [
    {
     "data": {
      "text/plain": [
       "Cash Loan                       92816\n",
       "Credit Card                     15115\n",
       "Debit Card                       2109\n",
       "Investment bundle                1057\n",
       "Mortgage                          678\n",
       "Currency exchange                 518\n",
       "Not applicable                    387\n",
       "<UNK>                             180\n",
       "Investment product                123\n",
       "Savings account                    37\n",
       "Integrated insurance product       30\n",
       "Other                               5\n",
       "Name: prod, dtype: int64"
      ]
     },
     "execution_count": 218,
     "metadata": {},
     "output_type": "execute_result"
    }
   ],
   "source": [
    "campaigns['prod'].value_counts()"
   ]
  },
  {
   "cell_type": "code",
   "execution_count": 217,
   "metadata": {},
   "outputs": [
    {
     "data": {
      "text/plain": [
       "1.0    8829\n",
       "2.0    6832\n",
       "0.0    4982\n",
       "3.0     816\n",
       "4.0      36\n",
       "5.0       3\n",
       "Name: total_prod, dtype: int64"
      ]
     },
     "execution_count": 217,
     "metadata": {},
     "output_type": "execute_result"
    }
   ],
   "source": [
    "data['total_prod'] = get_feature_total(campaigns, 'prod')\n",
    "data['total_prod'].value_counts()"
   ]
  },
  {
   "cell_type": "code",
   "execution_count": 219,
   "metadata": {},
   "outputs": [
    {
     "data": {
      "text/plain": [
       "Cash Loan                       14008\n",
       "<unknown>                        4982\n",
       "Credit Card                      1208\n",
       "Debit Card                        690\n",
       "Investment bundle                 283\n",
       "Mortgage                           93\n",
       "Currency exchange                  89\n",
       "Not applicable                     69\n",
       "<UNK>                              35\n",
       "Investment product                 25\n",
       "Savings account                     9\n",
       "Integrated insurance product        7\n",
       "Name: most_common_prod, dtype: int64"
      ]
     },
     "execution_count": 219,
     "metadata": {},
     "output_type": "execute_result"
    }
   ],
   "source": [
    "data['most_common_prod'] = get_feature_most_common(campaigns, 'prod', '<unknown>')\n",
    "data['most_common_prod'].value_counts()"
   ]
  },
  {
   "cell_type": "code",
   "execution_count": null,
   "metadata": {},
   "outputs": [],
   "source": []
  }
 ],
 "metadata": {
  "environment": {
   "name": "common-cpu.m65",
   "type": "gcloud",
   "uri": "gcr.io/deeplearning-platform-release/base-cpu:m65"
  },
  "kernelspec": {
   "display_name": "Python 3",
   "language": "python",
   "name": "python3"
  },
  "language_info": {
   "codemirror_mode": {
    "name": "ipython",
    "version": 3
   },
   "file_extension": ".py",
   "mimetype": "text/x-python",
   "name": "python",
   "nbconvert_exporter": "python",
   "pygments_lexer": "ipython3",
   "version": "3.7.10"
  }
 },
 "nbformat": 4,
 "nbformat_minor": 4
}
