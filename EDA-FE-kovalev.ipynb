{
 "cells": [
  {
   "cell_type": "code",
   "execution_count": 1,
   "metadata": {},
   "outputs": [],
   "source": [
    "from pathlib import Path\n",
    "import pandas as pd\n",
    "import numpy as np\n",
    "import os\n",
    "import scipy.stats\n",
    "import seaborn as sns\n",
    "import matplotlib.pyplot as plt\n",
    "\n",
    "INPUT_PATH = Path('../input')\n",
    "OUTPUT_PATH = Path('../output')\n",
    "pd.set_option('display.float_format', str)"
   ]
  },
  {
   "cell_type": "code",
   "execution_count": 2,
   "metadata": {},
   "outputs": [
    {
     "name": "stderr",
     "output_type": "stream",
     "text": [
      "/opt/conda/lib/python3.7/site-packages/decorator.py:231: DtypeWarning: Columns (10) have mixed types.Specify dtype option on import or set low_memory=False.\n",
      "  return caller(func, *(extras + args), **kw)\n"
     ]
    },
    {
     "name": "stdout",
     "output_type": "stream",
     "text": [
      "CPU times: user 7.06 s, sys: 498 ms, total: 7.55 s\n",
      "Wall time: 7.55 s\n"
     ]
    }
   ],
   "source": [
    "%%time\n",
    "\n",
    "transactions = pd.read_csv(INPUT_PATH / 'trxn.csv')\n",
    "assets_under_management = pd.read_csv(INPUT_PATH / 'aum.csv')\n",
    "balance = pd.read_csv(INPUT_PATH / 'balance.csv')\n",
    "client = pd.read_csv(INPUT_PATH / 'client.csv')\n",
    "campaigns = pd.read_csv(INPUT_PATH / 'com.csv')\n",
    "deals = pd.read_csv(INPUT_PATH / 'deals.csv')\n",
    "dict_merchant_category_code = pd.read_csv(INPUT_PATH / 'dict_mcc.csv')\n",
    "payments = pd.read_csv(INPUT_PATH / 'payments.csv')\n",
    "funnel = pd.read_csv(INPUT_PATH / 'funnel.csv')\n",
    "appl = pd.read_csv(INPUT_PATH / 'appl.csv')"
   ]
  },
  {
   "cell_type": "code",
   "execution_count": 3,
   "metadata": {},
   "outputs": [],
   "source": [
    "data = funnel.copy()"
   ]
  },
  {
   "cell_type": "code",
   "execution_count": 4,
   "metadata": {},
   "outputs": [],
   "source": [
    "def get_feature_total(df, col_name):\n",
    "    return data['client_id'].map(df.groupby(['client_id', col_name]).size().index.get_level_values('client_id').value_counts()).fillna(0)\n",
    "\n",
    "\n",
    "def get_feature_most_common(df, col_name, fill_na_value):\n",
    "    return data['client_id'].map(df.groupby('client_id')[col_name].agg(lambda x: scipy.stats.mode(x)[0][0])).fillna(fill_na_value)"
   ]
  },
  {
   "cell_type": "markdown",
   "metadata": {},
   "source": [
    "# Funnel"
   ]
  },
  {
   "cell_type": "code",
   "execution_count": 5,
   "metadata": {},
   "outputs": [
    {
     "data": {
      "text/html": [
       "<div>\n",
       "<style scoped>\n",
       "    .dataframe tbody tr th:only-of-type {\n",
       "        vertical-align: middle;\n",
       "    }\n",
       "\n",
       "    .dataframe tbody tr th {\n",
       "        vertical-align: top;\n",
       "    }\n",
       "\n",
       "    .dataframe thead th {\n",
       "        text-align: right;\n",
       "    }\n",
       "</style>\n",
       "<table border=\"1\" class=\"dataframe\">\n",
       "  <thead>\n",
       "    <tr style=\"text-align: right;\">\n",
       "      <th></th>\n",
       "      <th>client_id</th>\n",
       "      <th>sale_flg</th>\n",
       "      <th>sale_amount</th>\n",
       "      <th>contacts</th>\n",
       "      <th>feature_1</th>\n",
       "      <th>client_segment</th>\n",
       "      <th>feature_2</th>\n",
       "      <th>feature_3</th>\n",
       "      <th>feature_4</th>\n",
       "      <th>feature_5</th>\n",
       "      <th>feature_6</th>\n",
       "      <th>feature_7</th>\n",
       "      <th>feature_8</th>\n",
       "      <th>feature_9</th>\n",
       "      <th>feature_10</th>\n",
       "      <th>region_cd</th>\n",
       "    </tr>\n",
       "  </thead>\n",
       "  <tbody>\n",
       "    <tr>\n",
       "      <th>0</th>\n",
       "      <td>7513301859607023584</td>\n",
       "      <td>0</td>\n",
       "      <td>NaN</td>\n",
       "      <td>1</td>\n",
       "      <td>7</td>\n",
       "      <td>13.0</td>\n",
       "      <td>571533.0</td>\n",
       "      <td>15717.0</td>\n",
       "      <td>0.0</td>\n",
       "      <td>0.0</td>\n",
       "      <td>0.0</td>\n",
       "      <td>571852.0</td>\n",
       "      <td>472605.0</td>\n",
       "      <td>10.4</td>\n",
       "      <td>12548.0</td>\n",
       "      <td>86.0</td>\n",
       "    </tr>\n",
       "    <tr>\n",
       "      <th>1</th>\n",
       "      <td>9157009756404187626</td>\n",
       "      <td>0</td>\n",
       "      <td>NaN</td>\n",
       "      <td>1</td>\n",
       "      <td>3</td>\n",
       "      <td>13.0</td>\n",
       "      <td>3642369.0</td>\n",
       "      <td>94787.0</td>\n",
       "      <td>0.0</td>\n",
       "      <td>0.0</td>\n",
       "      <td>84823.0</td>\n",
       "      <td>3642369.0</td>\n",
       "      <td>3314257.0</td>\n",
       "      <td>8.9</td>\n",
       "      <td>77210.0</td>\n",
       "      <td>2.0</td>\n",
       "    </tr>\n",
       "    <tr>\n",
       "      <th>2</th>\n",
       "      <td>-1893104556496814867</td>\n",
       "      <td>0</td>\n",
       "      <td>NaN</td>\n",
       "      <td>1</td>\n",
       "      <td>5</td>\n",
       "      <td>16.0</td>\n",
       "      <td>352826.0</td>\n",
       "      <td>5500.0</td>\n",
       "      <td>0.0</td>\n",
       "      <td>6822.0</td>\n",
       "      <td>0.0</td>\n",
       "      <td>265893.0</td>\n",
       "      <td>204534.0</td>\n",
       "      <td>8.9</td>\n",
       "      <td>5508.0</td>\n",
       "      <td>52.0</td>\n",
       "    </tr>\n",
       "    <tr>\n",
       "      <th>3</th>\n",
       "      <td>6886062013213911831</td>\n",
       "      <td>0</td>\n",
       "      <td>NaN</td>\n",
       "      <td>1</td>\n",
       "      <td>4</td>\n",
       "      <td>3.0</td>\n",
       "      <td>6070615.0</td>\n",
       "      <td>40580.0</td>\n",
       "      <td>0.0</td>\n",
       "      <td>30401.0</td>\n",
       "      <td>0.0</td>\n",
       "      <td>2005731.0</td>\n",
       "      <td>1825051.0</td>\n",
       "      <td>7.9</td>\n",
       "      <td>40583.0</td>\n",
       "      <td>86.0</td>\n",
       "    </tr>\n",
       "    <tr>\n",
       "      <th>4</th>\n",
       "      <td>-8156468515495593794</td>\n",
       "      <td>1</td>\n",
       "      <td>138018.05000000002</td>\n",
       "      <td>1</td>\n",
       "      <td>7</td>\n",
       "      <td>14.0</td>\n",
       "      <td>3642369.0</td>\n",
       "      <td>97156.0</td>\n",
       "      <td>81488.0</td>\n",
       "      <td>0.0</td>\n",
       "      <td>160308.0</td>\n",
       "      <td>3642369.0</td>\n",
       "      <td>3314257.0</td>\n",
       "      <td>10.4</td>\n",
       "      <td>78108.0</td>\n",
       "      <td>27.0</td>\n",
       "    </tr>\n",
       "    <tr>\n",
       "      <th>...</th>\n",
       "      <td>...</td>\n",
       "      <td>...</td>\n",
       "      <td>...</td>\n",
       "      <td>...</td>\n",
       "      <td>...</td>\n",
       "      <td>...</td>\n",
       "      <td>...</td>\n",
       "      <td>...</td>\n",
       "      <td>...</td>\n",
       "      <td>...</td>\n",
       "      <td>...</td>\n",
       "      <td>...</td>\n",
       "      <td>...</td>\n",
       "      <td>...</td>\n",
       "      <td>...</td>\n",
       "      <td>...</td>\n",
       "    </tr>\n",
       "    <tr>\n",
       "      <th>21493</th>\n",
       "      <td>4662551505651924284</td>\n",
       "      <td>0</td>\n",
       "      <td>NaN</td>\n",
       "      <td>2</td>\n",
       "      <td>3</td>\n",
       "      <td>3.0</td>\n",
       "      <td>6070615.0</td>\n",
       "      <td>97616.0</td>\n",
       "      <td>21921.0</td>\n",
       "      <td>85635.0</td>\n",
       "      <td>89802.0</td>\n",
       "      <td>4826139.0</td>\n",
       "      <td>4391391.0</td>\n",
       "      <td>7.9</td>\n",
       "      <td>97626.0</td>\n",
       "      <td>86.0</td>\n",
       "    </tr>\n",
       "    <tr>\n",
       "      <th>21494</th>\n",
       "      <td>-8968737688687691353</td>\n",
       "      <td>0</td>\n",
       "      <td>NaN</td>\n",
       "      <td>1</td>\n",
       "      <td>9</td>\n",
       "      <td>14.0</td>\n",
       "      <td>1821184.0</td>\n",
       "      <td>2428.0</td>\n",
       "      <td>3952.0</td>\n",
       "      <td>0.0</td>\n",
       "      <td>13938.0</td>\n",
       "      <td>92273.0</td>\n",
       "      <td>71641.0</td>\n",
       "      <td>19.9</td>\n",
       "      <td>2440.0</td>\n",
       "      <td>78.0</td>\n",
       "    </tr>\n",
       "    <tr>\n",
       "      <th>21495</th>\n",
       "      <td>-5799097497074119478</td>\n",
       "      <td>0</td>\n",
       "      <td>NaN</td>\n",
       "      <td>1</td>\n",
       "      <td>2</td>\n",
       "      <td>16.0</td>\n",
       "      <td>6070615.0</td>\n",
       "      <td>64991.0</td>\n",
       "      <td>0.0</td>\n",
       "      <td>13450.0</td>\n",
       "      <td>0.0</td>\n",
       "      <td>3212569.0</td>\n",
       "      <td>2923175.0</td>\n",
       "      <td>7.9</td>\n",
       "      <td>64998.0</td>\n",
       "      <td>69.0</td>\n",
       "    </tr>\n",
       "    <tr>\n",
       "      <th>21496</th>\n",
       "      <td>-2264802671063321355</td>\n",
       "      <td>1</td>\n",
       "      <td>43882.85000000001</td>\n",
       "      <td>2</td>\n",
       "      <td>8</td>\n",
       "      <td>4.0</td>\n",
       "      <td>2282408.0</td>\n",
       "      <td>5832.0</td>\n",
       "      <td>16185.0</td>\n",
       "      <td>0.0</td>\n",
       "      <td>82182.0</td>\n",
       "      <td>230683.0</td>\n",
       "      <td>177449.0</td>\n",
       "      <td>17.9</td>\n",
       "      <td>5845.0</td>\n",
       "      <td>59.0</td>\n",
       "    </tr>\n",
       "    <tr>\n",
       "      <th>21497</th>\n",
       "      <td>-174115151336149439</td>\n",
       "      <td>0</td>\n",
       "      <td>NaN</td>\n",
       "      <td>1</td>\n",
       "      <td>3</td>\n",
       "      <td>3.0</td>\n",
       "      <td>6070615.0</td>\n",
       "      <td>1014167.0</td>\n",
       "      <td>0.0</td>\n",
       "      <td>1053209.0</td>\n",
       "      <td>0.0</td>\n",
       "      <td>6070615.0</td>\n",
       "      <td>5523763.0</td>\n",
       "      <td>9.9</td>\n",
       "      <td>128684.0</td>\n",
       "      <td>77.0</td>\n",
       "    </tr>\n",
       "  </tbody>\n",
       "</table>\n",
       "<p>21498 rows × 16 columns</p>\n",
       "</div>"
      ],
      "text/plain": [
       "                 client_id  sale_flg        sale_amount  contacts  feature_1  \\\n",
       "0      7513301859607023584         0                NaN         1          7   \n",
       "1      9157009756404187626         0                NaN         1          3   \n",
       "2     -1893104556496814867         0                NaN         1          5   \n",
       "3      6886062013213911831         0                NaN         1          4   \n",
       "4     -8156468515495593794         1 138018.05000000002         1          7   \n",
       "...                    ...       ...                ...       ...        ...   \n",
       "21493  4662551505651924284         0                NaN         2          3   \n",
       "21494 -8968737688687691353         0                NaN         1          9   \n",
       "21495 -5799097497074119478         0                NaN         1          2   \n",
       "21496 -2264802671063321355         1  43882.85000000001         2          8   \n",
       "21497  -174115151336149439         0                NaN         1          3   \n",
       "\n",
       "       client_segment  feature_2  feature_3  feature_4  feature_5  feature_6  \\\n",
       "0                13.0   571533.0    15717.0        0.0        0.0        0.0   \n",
       "1                13.0  3642369.0    94787.0        0.0        0.0    84823.0   \n",
       "2                16.0   352826.0     5500.0        0.0     6822.0        0.0   \n",
       "3                 3.0  6070615.0    40580.0        0.0    30401.0        0.0   \n",
       "4                14.0  3642369.0    97156.0    81488.0        0.0   160308.0   \n",
       "...               ...        ...        ...        ...        ...        ...   \n",
       "21493             3.0  6070615.0    97616.0    21921.0    85635.0    89802.0   \n",
       "21494            14.0  1821184.0     2428.0     3952.0        0.0    13938.0   \n",
       "21495            16.0  6070615.0    64991.0        0.0    13450.0        0.0   \n",
       "21496             4.0  2282408.0     5832.0    16185.0        0.0    82182.0   \n",
       "21497             3.0  6070615.0  1014167.0        0.0  1053209.0        0.0   \n",
       "\n",
       "       feature_7  feature_8  feature_9  feature_10  region_cd  \n",
       "0       571852.0   472605.0       10.4     12548.0       86.0  \n",
       "1      3642369.0  3314257.0        8.9     77210.0        2.0  \n",
       "2       265893.0   204534.0        8.9      5508.0       52.0  \n",
       "3      2005731.0  1825051.0        7.9     40583.0       86.0  \n",
       "4      3642369.0  3314257.0       10.4     78108.0       27.0  \n",
       "...          ...        ...        ...         ...        ...  \n",
       "21493  4826139.0  4391391.0        7.9     97626.0       86.0  \n",
       "21494    92273.0    71641.0       19.9      2440.0       78.0  \n",
       "21495  3212569.0  2923175.0        7.9     64998.0       69.0  \n",
       "21496   230683.0   177449.0       17.9      5845.0       59.0  \n",
       "21497  6070615.0  5523763.0        9.9    128684.0       77.0  \n",
       "\n",
       "[21498 rows x 16 columns]"
      ]
     },
     "execution_count": 5,
     "metadata": {},
     "output_type": "execute_result"
    }
   ],
   "source": [
    "funnel"
   ]
  },
  {
   "cell_type": "code",
   "execution_count": 6,
   "metadata": {},
   "outputs": [
    {
     "data": {
      "text/plain": [
       "client_id             0\n",
       "sale_flg              0\n",
       "sale_amount       17979\n",
       "contacts              0\n",
       "feature_1             0\n",
       "client_segment        0\n",
       "feature_2             0\n",
       "feature_3             0\n",
       "feature_4             0\n",
       "feature_5             0\n",
       "feature_6             0\n",
       "feature_7            11\n",
       "feature_8            11\n",
       "feature_9            11\n",
       "feature_10           11\n",
       "region_cd            34\n",
       "dtype: int64"
      ]
     },
     "execution_count": 6,
     "metadata": {},
     "output_type": "execute_result"
    }
   ],
   "source": [
    "funnel.isnull().sum()"
   ]
  },
  {
   "cell_type": "code",
   "execution_count": 7,
   "metadata": {},
   "outputs": [
    {
     "data": {
      "text/plain": [
       "0   0.8363103544515769\n",
       "1   0.1636896455484231\n",
       "Name: sale_flg, dtype: float64"
      ]
     },
     "execution_count": 7,
     "metadata": {},
     "output_type": "execute_result"
    }
   ],
   "source": [
    "funnel['sale_flg'].value_counts() / len(funnel)"
   ]
  },
  {
   "cell_type": "code",
   "execution_count": 8,
   "metadata": {},
   "outputs": [
    {
     "data": {
      "text/plain": [
       "1    17361\n",
       "2     3484\n",
       "3      577\n",
       "4       71\n",
       "5        5\n",
       "Name: contacts, dtype: int64"
      ]
     },
     "execution_count": 8,
     "metadata": {},
     "output_type": "execute_result"
    }
   ],
   "source": [
    "funnel['contacts'].value_counts()"
   ]
  },
  {
   "cell_type": "code",
   "execution_count": 9,
   "metadata": {},
   "outputs": [
    {
     "data": {
      "text/plain": [
       "86.0    3131\n",
       "77.0    1430\n",
       "54.0    1372\n",
       "78.0    1223\n",
       "66.0    1001\n",
       "        ... \n",
       "15.0      11\n",
       "83.0       5\n",
       "14.0       4\n",
       "87.0       1\n",
       "91.0       1\n",
       "Name: region_cd, Length: 75, dtype: int64"
      ]
     },
     "execution_count": 9,
     "metadata": {},
     "output_type": "execute_result"
    }
   ],
   "source": [
    "funnel['region_cd'].value_counts()"
   ]
  },
  {
   "cell_type": "markdown",
   "metadata": {},
   "source": [
    "# Trxn"
   ]
  },
  {
   "cell_type": "code",
   "execution_count": 10,
   "metadata": {},
   "outputs": [
    {
     "data": {
      "text/html": [
       "<div>\n",
       "<style scoped>\n",
       "    .dataframe tbody tr th:only-of-type {\n",
       "        vertical-align: middle;\n",
       "    }\n",
       "\n",
       "    .dataframe tbody tr th {\n",
       "        vertical-align: top;\n",
       "    }\n",
       "\n",
       "    .dataframe thead th {\n",
       "        text-align: right;\n",
       "    }\n",
       "</style>\n",
       "<table border=\"1\" class=\"dataframe\">\n",
       "  <thead>\n",
       "    <tr style=\"text-align: right;\">\n",
       "      <th></th>\n",
       "      <th>client_id</th>\n",
       "      <th>card_id</th>\n",
       "      <th>tran_time</th>\n",
       "      <th>tran_amt_rur</th>\n",
       "      <th>mcc_cd</th>\n",
       "      <th>merchant_cd</th>\n",
       "      <th>txn_country</th>\n",
       "      <th>txn_city</th>\n",
       "      <th>tsp_name</th>\n",
       "      <th>txn_comment_1</th>\n",
       "      <th>txn_comment_2</th>\n",
       "    </tr>\n",
       "  </thead>\n",
       "  <tbody>\n",
       "    <tr>\n",
       "      <th>0</th>\n",
       "      <td>-1893104556496814867</td>\n",
       "      <td>-6909844117230568380</td>\n",
       "      <td>2019-07-01 00:00:00</td>\n",
       "      <td>6071.0</td>\n",
       "      <td>6011.0</td>\n",
       "      <td>3796217713062573289</td>\n",
       "      <td>RUS</td>\n",
       "      <td>N. NOVGOROD</td>\n",
       "      <td>MOLODEZHNYY PR. DEPO</td>\n",
       "      <td>Cash withdrawal through an ATM</td>\n",
       "      <td>NaN</td>\n",
       "    </tr>\n",
       "    <tr>\n",
       "      <th>1</th>\n",
       "      <td>-1893104556496814867</td>\n",
       "      <td>-6909844117230568380</td>\n",
       "      <td>2019-07-29 00:00:00</td>\n",
       "      <td>6071.0</td>\n",
       "      <td>6011.0</td>\n",
       "      <td>3796217713062573289</td>\n",
       "      <td>RUS</td>\n",
       "      <td>N. NOVGOROD</td>\n",
       "      <td>MOLODEZHNYY PR. DEPO</td>\n",
       "      <td>Cash withdrawal through an ATM</td>\n",
       "      <td>NaN</td>\n",
       "    </tr>\n",
       "    <tr>\n",
       "      <th>2</th>\n",
       "      <td>-1893104556496814867</td>\n",
       "      <td>-6909844117230568380</td>\n",
       "      <td>2019-08-31 00:00:00</td>\n",
       "      <td>7285.0</td>\n",
       "      <td>6011.0</td>\n",
       "      <td>3796217713062573289</td>\n",
       "      <td>RUS</td>\n",
       "      <td>N. NOVGOROD</td>\n",
       "      <td>MOLODEZHNYY PR. DEPO</td>\n",
       "      <td>Cash withdrawal through an ATM</td>\n",
       "      <td>NaN</td>\n",
       "    </tr>\n",
       "    <tr>\n",
       "      <th>3</th>\n",
       "      <td>6886062013213911831</td>\n",
       "      <td>6527755410945490683</td>\n",
       "      <td>2019-08-14 10:38:33</td>\n",
       "      <td>2428.0</td>\n",
       "      <td>6011.0</td>\n",
       "      <td>-774579209084196290</td>\n",
       "      <td>RUS</td>\n",
       "      <td>RADUZHNYI</td>\n",
       "      <td>TTS SITI</td>\n",
       "      <td>Cash withdrawal through an ATM</td>\n",
       "      <td>NaN</td>\n",
       "    </tr>\n",
       "    <tr>\n",
       "      <th>4</th>\n",
       "      <td>6886062013213911831</td>\n",
       "      <td>6527755410945490683</td>\n",
       "      <td>2019-07-17 12:27:58</td>\n",
       "      <td>6071.0</td>\n",
       "      <td>6011.0</td>\n",
       "      <td>-7735007003326589238</td>\n",
       "      <td>RUS</td>\n",
       "      <td>RADUZHNYI</td>\n",
       "      <td>ODTS AGANGRAD</td>\n",
       "      <td>Cash withdrawal through an ATM</td>\n",
       "      <td>NaN</td>\n",
       "    </tr>\n",
       "    <tr>\n",
       "      <th>...</th>\n",
       "      <td>...</td>\n",
       "      <td>...</td>\n",
       "      <td>...</td>\n",
       "      <td>...</td>\n",
       "      <td>...</td>\n",
       "      <td>...</td>\n",
       "      <td>...</td>\n",
       "      <td>...</td>\n",
       "      <td>...</td>\n",
       "      <td>...</td>\n",
       "      <td>...</td>\n",
       "    </tr>\n",
       "    <tr>\n",
       "      <th>3035700</th>\n",
       "      <td>-3405096435133737788</td>\n",
       "      <td>-1484177776108621230</td>\n",
       "      <td>2018-09-06 07:41:17</td>\n",
       "      <td>728.0</td>\n",
       "      <td>6012.0</td>\n",
       "      <td>3967370607447365704</td>\n",
       "      <td>RUS</td>\n",
       "      <td>VISA DIRECT</td>\n",
       "      <td>VISA MONEY TRANSFER</td>\n",
       "      <td>Payment by card (bank transfer)</td>\n",
       "      <td>VISA MONEY TRANSFER</td>\n",
       "    </tr>\n",
       "    <tr>\n",
       "      <th>3035701</th>\n",
       "      <td>5941620754379828660</td>\n",
       "      <td>-4513708287312715087</td>\n",
       "      <td>2018-12-02 08:16:48</td>\n",
       "      <td>2550.0</td>\n",
       "      <td>6012.0</td>\n",
       "      <td>3967370607447365704</td>\n",
       "      <td>RUS</td>\n",
       "      <td>VISA DIRECT</td>\n",
       "      <td>VISA MONEY TRANSFER</td>\n",
       "      <td>Payment by card (bank transfer)</td>\n",
       "      <td>VISA MONEY TRANSFER</td>\n",
       "    </tr>\n",
       "    <tr>\n",
       "      <th>3035702</th>\n",
       "      <td>5941620754379828660</td>\n",
       "      <td>-4513708287312715087</td>\n",
       "      <td>2018-12-28 13:55:12</td>\n",
       "      <td>3642.0</td>\n",
       "      <td>6012.0</td>\n",
       "      <td>3967370607447365704</td>\n",
       "      <td>RUS</td>\n",
       "      <td>VISA DIRECT</td>\n",
       "      <td>VISA MONEY TRANSFER</td>\n",
       "      <td>Payment by card (bank transfer)</td>\n",
       "      <td>VISA MONEY TRANSFER</td>\n",
       "    </tr>\n",
       "    <tr>\n",
       "      <th>3035703</th>\n",
       "      <td>2964514409686635938</td>\n",
       "      <td>4497627322591857070</td>\n",
       "      <td>2018-12-21 09:32:26</td>\n",
       "      <td>2792.0</td>\n",
       "      <td>6012.0</td>\n",
       "      <td>3967370607447365704</td>\n",
       "      <td>RUS</td>\n",
       "      <td>VISA DIRECT</td>\n",
       "      <td>VISA MONEY TRANSFER</td>\n",
       "      <td>Payment by card (bank transfer)</td>\n",
       "      <td>VISA MONEY TRANSFER</td>\n",
       "    </tr>\n",
       "    <tr>\n",
       "      <th>3035704</th>\n",
       "      <td>-6226831769412580676</td>\n",
       "      <td>-1272519220927585782</td>\n",
       "      <td>2018-10-30 08:11:24</td>\n",
       "      <td>1214.0</td>\n",
       "      <td>6536.0</td>\n",
       "      <td>3967370607447365704</td>\n",
       "      <td>RUS</td>\n",
       "      <td>MOSCOW</td>\n",
       "      <td>MASTERCARD MONEYSEND</td>\n",
       "      <td>Payment by card (bank transfer)</td>\n",
       "      <td>MASTERCARD MONEYSEND</td>\n",
       "    </tr>\n",
       "  </tbody>\n",
       "</table>\n",
       "<p>3035705 rows × 11 columns</p>\n",
       "</div>"
      ],
      "text/plain": [
       "                   client_id              card_id            tran_time  \\\n",
       "0       -1893104556496814867 -6909844117230568380  2019-07-01 00:00:00   \n",
       "1       -1893104556496814867 -6909844117230568380  2019-07-29 00:00:00   \n",
       "2       -1893104556496814867 -6909844117230568380  2019-08-31 00:00:00   \n",
       "3        6886062013213911831  6527755410945490683  2019-08-14 10:38:33   \n",
       "4        6886062013213911831  6527755410945490683  2019-07-17 12:27:58   \n",
       "...                      ...                  ...                  ...   \n",
       "3035700 -3405096435133737788 -1484177776108621230  2018-09-06 07:41:17   \n",
       "3035701  5941620754379828660 -4513708287312715087  2018-12-02 08:16:48   \n",
       "3035702  5941620754379828660 -4513708287312715087  2018-12-28 13:55:12   \n",
       "3035703  2964514409686635938  4497627322591857070  2018-12-21 09:32:26   \n",
       "3035704 -6226831769412580676 -1272519220927585782  2018-10-30 08:11:24   \n",
       "\n",
       "         tran_amt_rur  mcc_cd          merchant_cd txn_country     txn_city  \\\n",
       "0              6071.0  6011.0  3796217713062573289         RUS  N. NOVGOROD   \n",
       "1              6071.0  6011.0  3796217713062573289         RUS  N. NOVGOROD   \n",
       "2              7285.0  6011.0  3796217713062573289         RUS  N. NOVGOROD   \n",
       "3              2428.0  6011.0  -774579209084196290         RUS    RADUZHNYI   \n",
       "4              6071.0  6011.0 -7735007003326589238         RUS    RADUZHNYI   \n",
       "...               ...     ...                  ...         ...          ...   \n",
       "3035700         728.0  6012.0  3967370607447365704         RUS  VISA DIRECT   \n",
       "3035701        2550.0  6012.0  3967370607447365704         RUS  VISA DIRECT   \n",
       "3035702        3642.0  6012.0  3967370607447365704         RUS  VISA DIRECT   \n",
       "3035703        2792.0  6012.0  3967370607447365704         RUS  VISA DIRECT   \n",
       "3035704        1214.0  6536.0  3967370607447365704         RUS       MOSCOW   \n",
       "\n",
       "                     tsp_name                    txn_comment_1  \\\n",
       "0        MOLODEZHNYY PR. DEPO   Cash withdrawal through an ATM   \n",
       "1        MOLODEZHNYY PR. DEPO   Cash withdrawal through an ATM   \n",
       "2        MOLODEZHNYY PR. DEPO   Cash withdrawal through an ATM   \n",
       "3                    TTS SITI   Cash withdrawal through an ATM   \n",
       "4               ODTS AGANGRAD   Cash withdrawal through an ATM   \n",
       "...                       ...                              ...   \n",
       "3035700   VISA MONEY TRANSFER  Payment by card (bank transfer)   \n",
       "3035701   VISA MONEY TRANSFER  Payment by card (bank transfer)   \n",
       "3035702   VISA MONEY TRANSFER  Payment by card (bank transfer)   \n",
       "3035703   VISA MONEY TRANSFER  Payment by card (bank transfer)   \n",
       "3035704  MASTERCARD MONEYSEND  Payment by card (bank transfer)   \n",
       "\n",
       "                txn_comment_2  \n",
       "0                         NaN  \n",
       "1                         NaN  \n",
       "2                         NaN  \n",
       "3                         NaN  \n",
       "4                         NaN  \n",
       "...                       ...  \n",
       "3035700   VISA MONEY TRANSFER  \n",
       "3035701   VISA MONEY TRANSFER  \n",
       "3035702   VISA MONEY TRANSFER  \n",
       "3035703   VISA MONEY TRANSFER  \n",
       "3035704  MASTERCARD MONEYSEND  \n",
       "\n",
       "[3035705 rows x 11 columns]"
      ]
     },
     "execution_count": 10,
     "metadata": {},
     "output_type": "execute_result"
    }
   ],
   "source": [
    "transactions"
   ]
  },
  {
   "cell_type": "code",
   "execution_count": 11,
   "metadata": {},
   "outputs": [
    {
     "data": {
      "text/plain": [
       "client_id              0\n",
       "card_id                0\n",
       "tran_time              0\n",
       "tran_amt_rur           0\n",
       "mcc_cd               132\n",
       "merchant_cd            0\n",
       "txn_country            0\n",
       "txn_city            5385\n",
       "tsp_name            2162\n",
       "txn_comment_1          0\n",
       "txn_comment_2    2638786\n",
       "dtype: int64"
      ]
     },
     "execution_count": 11,
     "metadata": {},
     "output_type": "execute_result"
    }
   ],
   "source": [
    "transactions.isnull().sum()"
   ]
  },
  {
   "cell_type": "code",
   "execution_count": 12,
   "metadata": {},
   "outputs": [],
   "source": [
    "transactions['mcc_cd'] = transactions['mcc_cd'].fillna(-2)\n",
    "transactions['txn_city'] = transactions['txn_city'].fillna('<UNK>')\n",
    "transactions['tsp_name'] = transactions['tsp_name'].fillna('<UNK>')\n",
    "transactions['txn_comment_2'] = transactions['txn_comment_2'].fillna('<UNK>')"
   ]
  },
  {
   "cell_type": "code",
   "execution_count": 13,
   "metadata": {},
   "outputs": [
    {
     "data": {
      "text/plain": [
       " 8247514152661289191    3101\n",
       "-9059132502179716006    2656\n",
       " 7922361971867610498    2413\n",
       "-7299536715312723669    2322\n",
       " 410746725485357352     2318\n",
       "                        ... \n",
       " 9042984261245798495       1\n",
       "-9164745288538024239       1\n",
       "-2639946325109418679       1\n",
       "-3176336415532661554       1\n",
       " 328258837130732479        1\n",
       "Name: client_id, Length: 11236, dtype: int64"
      ]
     },
     "execution_count": 13,
     "metadata": {},
     "output_type": "execute_result"
    }
   ],
   "source": [
    "transactions['client_id'].value_counts()"
   ]
  },
  {
   "cell_type": "code",
   "execution_count": 14,
   "metadata": {},
   "outputs": [
    {
     "data": {
      "text/plain": [
       "2019-02-28 00:00:00    5665\n",
       "2019-06-02 00:00:00    3819\n",
       "2019-08-14 00:00:00    3296\n",
       "2019-08-28 00:00:00    3291\n",
       "2019-07-24 00:00:00    3270\n",
       "                       ... \n",
       "2019-05-15 13:24:30       1\n",
       "2019-07-24 10:01:12       1\n",
       "2019-02-07 04:46:24       1\n",
       "2019-04-22 18:53:45       1\n",
       "2019-06-17 10:27:57       1\n",
       "Name: tran_time, Length: 2082989, dtype: int64"
      ]
     },
     "execution_count": 14,
     "metadata": {},
     "output_type": "execute_result"
    }
   ],
   "source": [
    "transactions['tran_time'].value_counts()"
   ]
  },
  {
   "cell_type": "code",
   "execution_count": 15,
   "metadata": {},
   "outputs": [
    {
     "data": {
      "text/plain": [
       "(Timestamp('2018-09-01 00:00:00'), Timestamp('2019-08-31 23:58:15'))"
      ]
     },
     "execution_count": 15,
     "metadata": {},
     "output_type": "execute_result"
    }
   ],
   "source": [
    "pd.to_datetime(transactions['tran_time']).min(), pd.to_datetime(transactions['tran_time']).max()"
   ]
  },
  {
   "cell_type": "code",
   "execution_count": 16,
   "metadata": {},
   "outputs": [
    {
     "data": {
      "text/plain": [
       "0.0       10262\n",
       "2.0         135\n",
       "11.0        120\n",
       "12.0        114\n",
       "1.0         111\n",
       "          ...  \n",
       "1060.0        1\n",
       "1244.0        1\n",
       "1146.0        1\n",
       "1346.0        1\n",
       "1174.0        1\n",
       "Name: total_transactions, Length: 1258, dtype: int64"
      ]
     },
     "execution_count": 16,
     "metadata": {},
     "output_type": "execute_result"
    }
   ],
   "source": [
    "data['total_transactions'] = data['client_id'].map(transactions.groupby('client_id').size()).fillna(0)\n",
    "data['total_transactions'].value_counts()"
   ]
  },
  {
   "cell_type": "code",
   "execution_count": 17,
   "metadata": {},
   "outputs": [
    {
     "data": {
      "text/plain": [
       "0.0     10262\n",
       "1.0      6618\n",
       "2.0      2818\n",
       "3.0      1130\n",
       "4.0       446\n",
       "5.0       155\n",
       "6.0        46\n",
       "7.0        13\n",
       "8.0         7\n",
       "9.0         2\n",
       "13.0        1\n",
       "Name: total_cards, dtype: int64"
      ]
     },
     "execution_count": 17,
     "metadata": {},
     "output_type": "execute_result"
    }
   ],
   "source": [
    "data['total_cards'] = get_feature_total(transactions, 'card_id')\n",
    "data['total_cards'].value_counts()"
   ]
  },
  {
   "cell_type": "code",
   "execution_count": 18,
   "metadata": {},
   "outputs": [
    {
     "data": {
      "text/plain": [
       "-1.0                  10262\n",
       "121.0                    46\n",
       "1214.0                    8\n",
       "24282.0                   6\n",
       "1821.0                    6\n",
       "                      ...  \n",
       "10450.125                 1\n",
       "1471.864406779661         1\n",
       "1037.6381766381767        1\n",
       "1337.5238095238096        1\n",
       "49857.3                   1\n",
       "Name: mean_transaction_amt, Length: 11121, dtype: int64"
      ]
     },
     "execution_count": 18,
     "metadata": {},
     "output_type": "execute_result"
    }
   ],
   "source": [
    "data['mean_transaction_amt'] = data['client_id'].map(transactions.groupby('client_id')['tran_amt_rur'].mean()).fillna(-1)\n",
    "data['mean_transaction_amt'].value_counts()"
   ]
  },
  {
   "cell_type": "code",
   "execution_count": 19,
   "metadata": {},
   "outputs": [
    {
     "data": {
      "text/plain": [
       "0.0     10262\n",
       "2.0       683\n",
       "1.0       620\n",
       "3.0       546\n",
       "4.0       318\n",
       "        ...  \n",
       "88.0        1\n",
       "78.0        1\n",
       "85.0        1\n",
       "79.0        1\n",
       "91.0        1\n",
       "Name: total_mcc_cd, Length: 86, dtype: int64"
      ]
     },
     "execution_count": 19,
     "metadata": {},
     "output_type": "execute_result"
    }
   ],
   "source": [
    "data['total_mcc_cd'] = get_feature_total(transactions, 'mcc_cd')\n",
    "data['total_mcc_cd'].value_counts()"
   ]
  },
  {
   "cell_type": "code",
   "execution_count": 20,
   "metadata": {},
   "outputs": [
    {
     "data": {
      "text/plain": [
       "0.0                     10262\n",
       "1.0                       229\n",
       "0.5                       162\n",
       "0.25                      150\n",
       "0.3333333333333333        140\n",
       "                        ...  \n",
       "0.1018867924528302          1\n",
       "0.051771117166212535        1\n",
       "0.06791569086651054         1\n",
       "0.04470588235294118         1\n",
       "0.0821256038647343          1\n",
       "Name: total_share_mcc_cd, Length: 4984, dtype: int64"
      ]
     },
     "execution_count": 20,
     "metadata": {},
     "output_type": "execute_result"
    }
   ],
   "source": [
    "data['total_share_mcc_cd'] = (data['total_mcc_cd'] / data['total_transactions']).fillna(0)\n",
    "data['total_share_mcc_cd'].value_counts()"
   ]
  },
  {
   "cell_type": "code",
   "execution_count": 21,
   "metadata": {},
   "outputs": [
    {
     "data": {
      "text/plain": [
       "-1.0      10262\n",
       "5411.0     5325\n",
       "6011.0     2595\n",
       "6536.0      844\n",
       "5499.0      550\n",
       "          ...  \n",
       "5977.0        1\n",
       "3011.0        1\n",
       "7273.0        1\n",
       "8011.0        1\n",
       "8071.0        1\n",
       "Name: most_common_mcc_cd, Length: 74, dtype: int64"
      ]
     },
     "execution_count": 21,
     "metadata": {},
     "output_type": "execute_result"
    }
   ],
   "source": [
    "data['most_common_mcc_cd'] = get_feature_most_common(transactions, 'mcc_cd', -1)\n",
    "data['most_common_mcc_cd'].value_counts()"
   ]
  },
  {
   "cell_type": "code",
   "execution_count": 22,
   "metadata": {},
   "outputs": [
    {
     "data": {
      "text/plain": [
       "0.0      10262\n",
       "3.0        689\n",
       "4.0        671\n",
       "2.0        641\n",
       "5.0        563\n",
       "         ...  \n",
       "199.0        1\n",
       "115.0        1\n",
       "385.0        1\n",
       "317.0        1\n",
       "209.0        1\n",
       "Name: total_merchant_cd, Length: 154, dtype: int64"
      ]
     },
     "execution_count": 22,
     "metadata": {},
     "output_type": "execute_result"
    }
   ],
   "source": [
    "data['total_merchant_cd'] = get_feature_total(transactions, 'merchant_cd')\n",
    "data['total_merchant_cd'].value_counts()"
   ]
  },
  {
   "cell_type": "code",
   "execution_count": 23,
   "metadata": {},
   "outputs": [
    {
     "data": {
      "text/plain": [
       "0.0                     10262\n",
       "1.0                       213\n",
       "0.5                       183\n",
       "0.3333333333333333        144\n",
       "0.25                      119\n",
       "                        ...  \n",
       "0.040955631399317405        1\n",
       "0.026410564225690276        1\n",
       "0.03547297297297297         1\n",
       "0.08665906499429875         1\n",
       "0.1446280991735537          1\n",
       "Name: total_share_merchant_cd, Length: 4942, dtype: int64"
      ]
     },
     "execution_count": 23,
     "metadata": {},
     "output_type": "execute_result"
    }
   ],
   "source": [
    "data['total_share_merchant_cd'] = (data['total_merchant_cd'] / data['total_transactions']).fillna(0)\n",
    "data['total_share_merchant_cd'].value_counts()"
   ]
  },
  {
   "cell_type": "code",
   "execution_count": 24,
   "metadata": {},
   "outputs": [
    {
     "data": {
      "text/plain": [
       "-1.0                      10262\n",
       "3.9673706074473656e+18     9268\n",
       "6.303729926858726e+18       346\n",
       "3.9569210638920535e+18      202\n",
       "-5.649346468447594e+18      176\n",
       "                          ...  \n",
       "-8.964917765656054e+17        1\n",
       "-4.192612835342741e+18        1\n",
       "-7.64182099647542e+18         1\n",
       "-9.16373487481942e+18         1\n",
       "-6.871520906596311e+18        1\n",
       "Name: most_common_merchant_cd, Length: 976, dtype: int64"
      ]
     },
     "execution_count": 24,
     "metadata": {},
     "output_type": "execute_result"
    }
   ],
   "source": [
    "data['most_common_merchant_cd'] = get_feature_most_common(transactions, 'merchant_cd', -1)\n",
    "data['most_common_merchant_cd'].value_counts()"
   ]
  },
  {
   "cell_type": "code",
   "execution_count": 25,
   "metadata": {},
   "outputs": [
    {
     "data": {
      "text/plain": [
       "0.0      10262\n",
       "2.0       1323\n",
       "3.0       1003\n",
       "1.0        983\n",
       "4.0        788\n",
       "         ...  \n",
       "84.0         1\n",
       "93.0         1\n",
       "100.0        1\n",
       "118.0        1\n",
       "75.0         1\n",
       "Name: total_txn_city, Length: 92, dtype: int64"
      ]
     },
     "execution_count": 25,
     "metadata": {},
     "output_type": "execute_result"
    }
   ],
   "source": [
    "data['total_txn_city'] = get_feature_total(transactions, 'txn_city')\n",
    "data['total_txn_city'].value_counts()"
   ]
  },
  {
   "cell_type": "code",
   "execution_count": 26,
   "metadata": {},
   "outputs": [
    {
     "data": {
      "text/plain": [
       "0.0                     10262\n",
       "1.0                       165\n",
       "0.5                       154\n",
       "0.2                       127\n",
       "0.25                      124\n",
       "                        ...  \n",
       "0.02113821138211382         1\n",
       "0.02556818181818182         1\n",
       "0.11009174311926606         1\n",
       "0.035758323057953144        1\n",
       "0.06623931623931624         1\n",
       "Name: total_share_txn_city, Length: 4279, dtype: int64"
      ]
     },
     "execution_count": 26,
     "metadata": {},
     "output_type": "execute_result"
    }
   ],
   "source": [
    "data['total_share_txn_city'] = (data['total_txn_city'] / data['total_transactions']).fillna(0)\n",
    "data['total_share_txn_city'].value_counts()"
   ]
  },
  {
   "cell_type": "code",
   "execution_count": 27,
   "metadata": {},
   "outputs": [
    {
     "data": {
      "text/plain": [
       "<unknown>        10262\n",
       "MOSCOW            1819\n",
       "NOVOSIBIRSK        520\n",
       "SURGUT             258\n",
       "KOGALYM            251\n",
       "                 ...  \n",
       "TUYMAZY              1\n",
       "FRYAZINO             1\n",
       "TRUBCHEVSK           1\n",
       "KAZACHI LAGER        1\n",
       "SHUMYACHI            1\n",
       "Name: most_common_txn_city, Length: 1142, dtype: int64"
      ]
     },
     "execution_count": 27,
     "metadata": {},
     "output_type": "execute_result"
    }
   ],
   "source": [
    "data['most_common_txn_city'] = get_feature_most_common(transactions, 'txn_city', '<unknown>')\n",
    "data['most_common_txn_city'].value_counts()"
   ]
  },
  {
   "cell_type": "code",
   "execution_count": 28,
   "metadata": {},
   "outputs": [
    {
     "data": {
      "text/plain": [
       "0.0      10262\n",
       "2.0        477\n",
       "3.0        443\n",
       "1.0        378\n",
       "4.0        327\n",
       "         ...  \n",
       "263.0        1\n",
       "238.0        1\n",
       "226.0        1\n",
       "298.0        1\n",
       "293.0        1\n",
       "Name: total_tsp_name, Length: 302, dtype: int64"
      ]
     },
     "execution_count": 28,
     "metadata": {},
     "output_type": "execute_result"
    }
   ],
   "source": [
    "data['total_tsp_name'] = get_feature_total(transactions, 'tsp_name')\n",
    "data['total_tsp_name'].value_counts()"
   ]
  },
  {
   "cell_type": "code",
   "execution_count": 29,
   "metadata": {},
   "outputs": [
    {
     "data": {
      "text/plain": [
       "0.0                    10262\n",
       "1.0                      263\n",
       "0.5                      210\n",
       "0.3333333333333333       169\n",
       "0.25                     133\n",
       "                       ...  \n",
       "0.3522727272727273         1\n",
       "0.206                      1\n",
       "0.12867647058823528        1\n",
       "0.17304492512479203        1\n",
       "0.27842227378190254        1\n",
       "Name: total_share_tsp_name, Length: 6030, dtype: int64"
      ]
     },
     "execution_count": 29,
     "metadata": {},
     "output_type": "execute_result"
    }
   ],
   "source": [
    "data['total_share_tsp_name'] = (data['total_tsp_name'] / data['total_transactions']).fillna(0)\n",
    "data['total_share_tsp_name'].value_counts()"
   ]
  },
  {
   "cell_type": "code",
   "execution_count": 30,
   "metadata": {},
   "outputs": [
    {
     "data": {
      "text/plain": [
       "<unknown>             10262\n",
       "OPEN.RU CARDCARD       1495\n",
       "PYATEROCHKA             876\n",
       "ATM                     700\n",
       "WWW.OPENONLINE.RU       682\n",
       "                      ...  \n",
       "BAR JIGGERPONY            1\n",
       "IP TADEVOSYAN RS          1\n",
       "KUZBASSKII BROILER        1\n",
       "MAGAZIN RADAMIR           1\n",
       "EST POVOD                 1\n",
       "Name: most_common_tsp_name, Length: 3477, dtype: int64"
      ]
     },
     "execution_count": 30,
     "metadata": {},
     "output_type": "execute_result"
    }
   ],
   "source": [
    "data['most_common_tsp_name'] = get_feature_most_common(transactions, 'tsp_name', '<unknown>')\n",
    "data['most_common_tsp_name'].value_counts()"
   ]
  },
  {
   "cell_type": "code",
   "execution_count": 31,
   "metadata": {},
   "outputs": [
    {
     "data": {
      "text/plain": [
       "0.0    10262\n",
       "3.0     2548\n",
       "4.0     2545\n",
       "5.0     2161\n",
       "2.0     2054\n",
       "6.0     1127\n",
       "1.0      714\n",
       "7.0       87\n",
       "Name: total_txn_comment_1, dtype: int64"
      ]
     },
     "execution_count": 31,
     "metadata": {},
     "output_type": "execute_result"
    }
   ],
   "source": [
    "data['total_txn_comment_1'] = get_feature_total(transactions, 'txn_comment_1')\n",
    "data['total_txn_comment_1'].value_counts()"
   ]
  },
  {
   "cell_type": "code",
   "execution_count": 32,
   "metadata": {},
   "outputs": [
    {
     "data": {
      "text/plain": [
       "<unknown>                          10262\n",
       "Payment for goods and services      8607\n",
       "Cash withdrawal through an ATM      1333\n",
       "Payment by card (bank transfer)      480\n",
       "Cash deposit by card                 440\n",
       "Cashless transfer                    369\n",
       "Cash withdrawal                        4\n",
       "Return of goods / services             3\n",
       "Name: most_common_txn_comment_1, dtype: int64"
      ]
     },
     "execution_count": 32,
     "metadata": {},
     "output_type": "execute_result"
    }
   ],
   "source": [
    "data['most_common_txn_comment_1'] = get_feature_most_common(transactions, 'txn_comment_1', '<unknown>')\n",
    "data['most_common_txn_comment_1'].value_counts()"
   ]
  },
  {
   "cell_type": "code",
   "execution_count": 33,
   "metadata": {},
   "outputs": [
    {
     "data": {
      "text/plain": [
       "0.0    10262\n",
       "4.0     3785\n",
       "3.0     2503\n",
       "1.0     2142\n",
       "2.0     2120\n",
       "5.0      686\n",
       "Name: total_txn_comment_2, dtype: int64"
      ]
     },
     "execution_count": 33,
     "metadata": {},
     "output_type": "execute_result"
    }
   ],
   "source": [
    "data['total_txn_comment_2'] = get_feature_total(transactions, 'txn_comment_2')\n",
    "data['total_txn_comment_2'].value_counts()"
   ]
  },
  {
   "cell_type": "code",
   "execution_count": 34,
   "metadata": {},
   "outputs": [
    {
     "data": {
      "text/plain": [
       "<UNK>                     10428\n",
       "<unknown>                 10262\n",
       "<manual mode>               346\n",
       "Purchase payment (web)      333\n",
       "Opening Online              111\n",
       "VISA MONEY TRANSFER          18\n",
       "Name: most_common_txn_comment_2, dtype: int64"
      ]
     },
     "execution_count": 34,
     "metadata": {},
     "output_type": "execute_result"
    }
   ],
   "source": [
    "data['most_common_txn_comment_2'] = get_feature_most_common(transactions, 'txn_comment_2', '<unknown>')\n",
    "data['most_common_txn_comment_2'].value_counts()"
   ]
  }
 ],
 "metadata": {
  "environment": {
   "name": "common-cpu.m65",
   "type": "gcloud",
   "uri": "gcr.io/deeplearning-platform-release/base-cpu:m65"
  },
  "kernelspec": {
   "display_name": "Python 3",
   "language": "python",
   "name": "python3"
  },
  "language_info": {
   "codemirror_mode": {
    "name": "ipython",
    "version": 3
   },
   "file_extension": ".py",
   "mimetype": "text/x-python",
   "name": "python",
   "nbconvert_exporter": "python",
   "pygments_lexer": "ipython3",
   "version": "3.7.10"
  }
 },
 "nbformat": 4,
 "nbformat_minor": 4
}
