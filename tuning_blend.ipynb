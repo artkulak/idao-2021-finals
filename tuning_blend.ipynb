{
 "cells": [
  {
   "cell_type": "code",
   "execution_count": 1,
   "id": "66d55c46",
   "metadata": {},
   "outputs": [],
   "source": [
    "import numpy as np\n",
    "import pandas as pd\n",
    "from pathlib import Path\n",
    "from scoring import local_scorer\n",
    "from tqdm import tqdm\n",
    "\n",
    "import warnings\n",
    "warnings.filterwarnings('ignore')"
   ]
  },
  {
   "cell_type": "code",
   "execution_count": 2,
   "id": "7f8dc951",
   "metadata": {},
   "outputs": [
    {
     "data": {
      "text/plain": [
       "((21498,), (21498,))"
      ]
     },
     "execution_count": 2,
     "metadata": {},
     "output_type": "execute_result"
    }
   ],
   "source": [
    "oof_cb = np.load('oof_cb.npy')\n",
    "oof_lgb_init = np.load('oof_lgb-final.npy')\n",
    "oof_lgb = oof_lgb_init.mean(axis=1)\n",
    "oof_cb.shape, oof_lgb.shape"
   ]
  },
  {
   "cell_type": "code",
   "execution_count": 3,
   "id": "f84458bf",
   "metadata": {},
   "outputs": [
    {
     "data": {
      "text/plain": [
       "(21498, 1)"
      ]
     },
     "execution_count": 3,
     "metadata": {},
     "output_type": "execute_result"
    }
   ],
   "source": [
    "INPUT_PATH = Path('../input')\n",
    "\n",
    "funnel = pd.read_csv(INPUT_PATH / 'funnel.csv')\n",
    "Y_test = funnel[['client_id', 'sale_flg']].set_index('client_id')\n",
    "test_funnel =  funnel.set_index('client_id')\n",
    "Y_test.shape"
   ]
  },
  {
   "cell_type": "code",
   "execution_count": 4,
   "id": "43bb9618",
   "metadata": {},
   "outputs": [
    {
     "name": "stderr",
     "output_type": "stream",
     "text": [
      "100%|██████████| 30/30 [00:45<00:00,  1.52s/it]\n",
      "100%|██████████| 30/30 [00:45<00:00,  1.53s/it]\n",
      "100%|██████████| 30/30 [00:45<00:00,  1.53s/it]\n",
      "100%|██████████| 30/30 [00:45<00:00,  1.51s/it]\n",
      "100%|██████████| 30/30 [00:45<00:00,  1.51s/it]\n",
      "100%|██████████| 30/30 [00:45<00:00,  1.52s/it]\n",
      "100%|██████████| 30/30 [00:45<00:00,  1.52s/it]\n",
      "100%|██████████| 30/30 [00:45<00:00,  1.51s/it]\n",
      "100%|██████████| 30/30 [00:45<00:00,  1.51s/it]\n",
      "100%|██████████| 30/30 [00:45<00:00,  1.52s/it]\n",
      "100%|██████████| 30/30 [00:45<00:00,  1.52s/it]\n"
     ]
    }
   ],
   "source": [
    "# prediction_threshold = 0.16\n",
    "w_range = np.linspace(0, 1, 11)\n",
    "t_range = np.linspace(0, 1, 101)[10:40]\n",
    "results = []\n",
    "for w in w_range:\n",
    "    for t in tqdm(t_range):\n",
    "        Y_predicted = (w * oof_cb + (1 - w) * oof_lgb > t).astype(int)\n",
    "        public_score, private_score = local_scorer.get_score(test_funnel, Y_predicted, Y_test)\n",
    "        anic = public_score / 3 + private_score * 2 / 3\n",
    "        results.append((w, t, anic))\n",
    "    # validation_precision = precision_score(Y_test['sale_flg'], Y_predicted)\n",
    "    # validation_recall = recall_score(Y_test['sale_flg'], Y_predicted)\n",
    "    # validation_f1 = f1_score(Y_test['sale_flg'], Y_predicted)\n",
    "    # print(f'Public ANIC {public_score} Private ANIC {private_score}')\n",
    "    # print(f'ANIC {1/3*public_score+ 2/3 * private_score}')\n",
    "    # print(f'Precision {validation_precision} | Recall {validation_recall} | F1 {validation_f1}')"
   ]
  },
  {
   "cell_type": "code",
   "execution_count": 5,
   "id": "207ee227",
   "metadata": {},
   "outputs": [
    {
     "data": {
      "text/plain": [
       "(0.30000000000000004, 0.15, 5703.703795701927)"
      ]
     },
     "execution_count": 5,
     "metadata": {},
     "output_type": "execute_result"
    }
   ],
   "source": [
    "sorted(results, key=lambda x: x[2], reverse=True)[0]"
   ]
  },
  {
   "cell_type": "code",
   "execution_count": 7,
   "id": "0e92359e",
   "metadata": {},
   "outputs": [
    {
     "name": "stderr",
     "output_type": "stream",
     "text": [
      "100%|██████████| 101/101 [02:34<00:00,  1.53s/it]\n"
     ]
    }
   ],
   "source": [
    "# prediction_threshold = 0.16\n",
    "w_range = np.linspace(0, 1, 101)\n",
    "t_range = [0.15]\n",
    "results = []\n",
    "for w in tqdm(w_range):\n",
    "    for t in t_range:\n",
    "        Y_predicted = (w * oof_cb + (1 - w) * oof_lgb > t).astype(int)\n",
    "        public_score, private_score = local_scorer.get_score(test_funnel, Y_predicted, Y_test)\n",
    "        anic = public_score / 3 + private_score * 2 / 3\n",
    "        results.append((w, t, anic))\n",
    "    # validation_precision = precision_score(Y_test['sale_flg'], Y_predicted)\n",
    "    # validation_recall = recall_score(Y_test['sale_flg'], Y_predicted)\n",
    "    # validation_f1 = f1_score(Y_test['sale_flg'], Y_predicted)\n",
    "    # print(f'Public ANIC {public_score} Private ANIC {private_score}')\n",
    "    # print(f'ANIC {1/3*public_score+ 2/3 * private_score}')\n",
    "    # print(f'Precision {validation_precision} | Recall {validation_recall} | F1 {validation_f1}')"
   ]
  },
  {
   "cell_type": "code",
   "execution_count": 8,
   "id": "e7bf7980",
   "metadata": {},
   "outputs": [
    {
     "data": {
      "text/plain": [
       "(0.28, 0.15, 5705.192306261049)"
      ]
     },
     "execution_count": 8,
     "metadata": {},
     "output_type": "execute_result"
    }
   ],
   "source": [
    "sorted(results, key=lambda x: x[2], reverse=True)[0]"
   ]
  },
  {
   "cell_type": "code",
   "execution_count": null,
   "id": "f837949a",
   "metadata": {},
   "outputs": [],
   "source": []
  }
 ],
 "metadata": {
  "environment": {
   "name": "common-cpu.m65",
   "type": "gcloud",
   "uri": "gcr.io/deeplearning-platform-release/base-cpu:m65"
  },
  "kernelspec": {
   "display_name": "Python 3",
   "language": "python",
   "name": "python3"
  },
  "language_info": {
   "codemirror_mode": {
    "name": "ipython",
    "version": 3
   },
   "file_extension": ".py",
   "mimetype": "text/x-python",
   "name": "python",
   "nbconvert_exporter": "python",
   "pygments_lexer": "ipython3",
   "version": "3.7.10"
  }
 },
 "nbformat": 4,
 "nbformat_minor": 5
}
