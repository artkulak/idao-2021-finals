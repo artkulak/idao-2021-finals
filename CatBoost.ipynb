{
 "cells": [
  {
   "cell_type": "code",
   "execution_count": 1,
   "id": "39c13ab9",
   "metadata": {},
   "outputs": [],
   "source": [
    "#####################\n",
    "# IMPORT LIBS\n",
    "#####################\n",
    "\n",
    "import pandas as pd\n",
    "import numpy as np\n",
    "from pathlib import Path\n",
    "import wandb\n",
    "import datetime\n",
    "import os\n",
    "import random\n",
    "import joblib\n",
    "import shutil\n",
    "\n",
    "from sklearn.model_selection import KFold\n",
    "from sklearn.model_selection import train_test_split\n",
    "from sklearn.metrics import accuracy_score\n",
    "from sklearn.preprocessing import LabelEncoder\n",
    "from scoring import local_scorer\n",
    "import scipy\n",
    "\n",
    "from lightgbm import LGBMClassifier, LGBMRegressor\n",
    "from catboost import CatBoostRegressor, CatBoostClassifier\n",
    "from xgboost import XGBClassifier\n",
    "\n",
    "\n",
    "#####################\n",
    "# SET CONSTANTS\n",
    "#####################\n",
    "\n",
    "INPUT_PATH = Path('../input')\n",
    "OUTPUT_PATH = Path('../output')\n",
    "TRAIN_PATH = INPUT_PATH \n",
    "\n",
    "TARGET_COLUMNS = ['sale_flg', 'sale_amount', 'contacts']\n",
    "FIXED_SEEDS = [948, 534, 432, 597, 103, 21, 2242, 17, 20, 29]\n",
    "\n",
    "RANDOM_SEED = 4444\n",
    "USE_WANDB = False\n",
    "CURRENT_TIME = str(datetime.datetime.now()).replace(' ', '_').split('.')[0]\n",
    "\n",
    "def seed_everything(seed=1234):\n",
    "    random.seed(seed)\n",
    "    os.environ['PYTHONHASHSEED'] = str(seed)\n",
    "    np.random.seed(seed)\n",
    "seed_everything(RANDOM_SEED)"
   ]
  },
  {
   "cell_type": "code",
   "execution_count": 2,
   "id": "68053fc8",
   "metadata": {},
   "outputs": [],
   "source": [
    "###############\n",
    "# Config\n",
    "###############\n",
    "\n",
    "n_seed = 3\n",
    "n_fold = 3\n",
    "prediction_threshold = 0.2\n",
    "retrain_after_valid = True\n",
    "make_submission = False"
   ]
  },
  {
   "cell_type": "code",
   "execution_count": 3,
   "id": "0e6c2895",
   "metadata": {},
   "outputs": [],
   "source": [
    "if USE_WANDB:\n",
    "    wandb.login()\n",
    "    run = wandb.init(project=\"idao-2021-finals\", name = f'{CURRENT_TIME}') # todo add config here"
   ]
  },
  {
   "cell_type": "code",
   "execution_count": 4,
   "id": "6bc98a25",
   "metadata": {},
   "outputs": [
    {
     "name": "stderr",
     "output_type": "stream",
     "text": [
      "/opt/conda/lib/python3.7/site-packages/decorator.py:231: DtypeWarning: Columns (10) have mixed types.Specify dtype option on import or set low_memory=False.\n",
      "  return caller(func, *(extras + args), **kw)\n"
     ]
    },
    {
     "name": "stdout",
     "output_type": "stream",
     "text": [
      "CPU times: user 9.61 s, sys: 843 ms, total: 10.5 s\n",
      "Wall time: 10.6 s\n"
     ]
    }
   ],
   "source": [
    "%%time\n",
    "\n",
    "transactions = pd.read_csv(INPUT_PATH / 'trxn.csv')\n",
    "assets_under_management = pd.read_csv(INPUT_PATH / 'aum.csv')\n",
    "balance = pd.read_csv(INPUT_PATH / 'balance.csv')\n",
    "client = pd.read_csv(INPUT_PATH / 'client.csv')\n",
    "campaigns = pd.read_csv(INPUT_PATH / 'com.csv')\n",
    "deals = pd.read_csv(INPUT_PATH / 'deals.csv')\n",
    "dict_merchant_category_code = pd.read_csv(INPUT_PATH / 'dict_mcc.csv')\n",
    "payments = pd.read_csv(INPUT_PATH / 'payments.csv')\n",
    "funnel = pd.read_csv(INPUT_PATH / 'funnel.csv')\n",
    "appl = pd.read_csv(INPUT_PATH / 'appl.csv')"
   ]
  },
  {
   "cell_type": "code",
   "execution_count": 5,
   "id": "3db7db01",
   "metadata": {},
   "outputs": [],
   "source": [
    "payments = payments.sort_values(by='day_dt', ascending = False).reset_index(drop = True)"
   ]
  },
  {
   "cell_type": "code",
   "execution_count": 17,
   "id": "5e578b69",
   "metadata": {},
   "outputs": [],
   "source": [
    "target = ((funnel['sale_flg'] * funnel['sale_amount'].fillna(0) - funnel['contacts'].fillna(0)*400/0.1) > -4000).astype(int)"
   ]
  },
  {
   "cell_type": "code",
   "execution_count": 26,
   "id": "e195b810",
   "metadata": {},
   "outputs": [
    {
     "data": {
      "text/plain": [
       "-8000.0"
      ]
     },
     "execution_count": 26,
     "metadata": {},
     "output_type": "execute_result"
    }
   ],
   "source": [
    "np.quantile(target, 0.1)"
   ]
  },
  {
   "cell_type": "code",
   "execution_count": 46,
   "id": "2d143f53",
   "metadata": {},
   "outputs": [
    {
     "data": {
      "text/plain": [
       "-964.6999999999998"
      ]
     },
     "execution_count": 46,
     "metadata": {},
     "output_type": "execute_result"
    }
   ],
   "source": [
    "np.quantile(target, 0.84)"
   ]
  },
  {
   "cell_type": "code",
   "execution_count": 47,
   "id": "6bdf5d41",
   "metadata": {},
   "outputs": [
    {
     "name": "stderr",
     "output_type": "stream",
     "text": [
      "/opt/conda/lib/python3.7/site-packages/pandas/core/indexing.py:1597: SettingWithCopyWarning: \n",
      "A value is trying to be set on a copy of a slice from a DataFrame.\n",
      "Try using .loc[row_indexer,col_indexer] = value instead\n",
      "\n",
      "See the caveats in the documentation: https://pandas.pydata.org/pandas-docs/stable/user_guide/indexing.html#returning-a-view-versus-a-copy\n",
      "  self.obj[key] = value\n",
      "/opt/conda/lib/python3.7/site-packages/pandas/core/indexing.py:1720: SettingWithCopyWarning: \n",
      "A value is trying to be set on a copy of a slice from a DataFrame.\n",
      "Try using .loc[row_indexer,col_indexer] = value instead\n",
      "\n",
      "See the caveats in the documentation: https://pandas.pydata.org/pandas-docs/stable/user_guide/indexing.html#returning-a-view-versus-a-copy\n",
      "  self._setitem_single_column(loc, value, pi)\n",
      "/opt/conda/lib/python3.7/site-packages/pandas/core/generic.py:5494: SettingWithCopyWarning: \n",
      "A value is trying to be set on a copy of a slice from a DataFrame.\n",
      "Try using .loc[row_indexer,col_indexer] = value instead\n",
      "\n",
      "See the caveats in the documentation: https://pandas.pydata.org/pandas-docs/stable/user_guide/indexing.html#returning-a-view-versus-a-copy\n",
      "  self[name] = value\n"
     ]
    },
    {
     "name": "stdout",
     "output_type": "stream",
     "text": [
      "6683.11812261606\n"
     ]
    },
    {
     "name": "stderr",
     "output_type": "stream",
     "text": [
      "/home/jupyter/idao-2021-finals/scoring/scorer.py:63: SettingWithCopyWarning: \n",
      "A value is trying to be set on a copy of a slice from a DataFrame.\n",
      "Try using .loc[row_indexer,col_indexer] = value instead\n",
      "\n",
      "See the caveats in the documentation: https://pandas.pydata.org/pandas-docs/stable/user_guide/indexing.html#returning-a-view-versus-a-copy\n",
      "  selected['gain'] = selected[SALE_FLAG] * selected[SALE_AMOUNT].fillna(0) - selected[CONTACTS] * CALL_COST\n"
     ]
    }
   ],
   "source": [
    "Y_predicted = (target > np.quantile(target, 0.84)).astype(int).values\n",
    "Y_test = funnel[['client_id', 'sale_flg']].set_index('client_id')\n",
    "test_funnel =  funnel.set_index('client_id')\n",
    "\n",
    "public_score, private_score = local_scorer.get_score(test_funnel, Y_predicted, Y_test)\n",
    "print(1/3*public_score + 2/3*private_score)"
   ]
  },
  {
   "cell_type": "code",
   "execution_count": 34,
   "id": "6d3372c3",
   "metadata": {},
   "outputs": [
    {
     "name": "stderr",
     "output_type": "stream",
     "text": [
      "/opt/conda/lib/python3.7/site-packages/seaborn/distributions.py:2557: FutureWarning: `distplot` is a deprecated function and will be removed in a future version. Please adapt your code to use either `displot` (a figure-level function with similar flexibility) or `histplot` (an axes-level function for histograms).\n",
      "  warnings.warn(msg, FutureWarning)\n"
     ]
    },
    {
     "data": {
      "text/plain": [
       "<AxesSubplot:ylabel='Density'>"
      ]
     },
     "execution_count": 34,
     "metadata": {},
     "output_type": "execute_result"
    },
    {
     "data": {
      "image/png": "[encoded data removed]",
      "text/plain": [
       "<Figure size 432x288 with 1 Axes>"
      ]
     },
     "metadata": {
      "needs_background": "light"
     },
     "output_type": "display_data"
    }
   ],
   "source": [
    "import seaborn as sns\n",
    "sns.distplot(target)"
   ]
  },
  {
   "cell_type": "markdown",
   "id": "ac936bdf",
   "metadata": {},
   "source": [
    "## Data prep"
   ]
  },
  {
   "cell_type": "code",
   "execution_count": 9,
   "id": "0088ba1e",
   "metadata": {},
   "outputs": [],
   "source": [
    "ransactions['mcc_cd'] = transactions['mcc_cd'].fillna(-2)\n",
    "transactions['txn_city'] = transactions['txn_city'].fillna('<UNK>')\n",
    "transactions['tsp_name'] = transactions['tsp_name'].fillna('<UNK>')\n",
    "transactions['txn_comment_2'] = transactions['txn_comment_2'].fillna('<UNK>')\n",
    "\n",
    "balance['crncy_cd'] = balance['crncy_cd'].fillna(-2)\n",
    "balance['prod_cat_name'] = balance['prod_cat_name'].fillna('<UNK>')\n",
    "balance['prod_group_name'] = balance['prod_group_name'].fillna('<UNK>')\n",
    "\n",
    "client = client.rename(columns={\n",
    "    'gender': 'client_gender',\n",
    "    'age': 'client_age',\n",
    "    'region': 'client_region',\n",
    "    'city': 'client_city',\n",
    "    'citizenship': 'client_citizenship',\n",
    "    'education': 'client_education',\n",
    "    'job_type': 'client_job_type'\n",
    "})"
   ]
  },
  {
   "cell_type": "code",
   "execution_count": 94,
   "id": "2aa560ee",
   "metadata": {},
   "outputs": [],
   "source": [
    "def most_common(x, default='unknown'):\n",
    "    try:\n",
    "        # works faster then value_counts and pd.Series.mode\n",
    "        return scipy.stats.mode(x)[0][0]\n",
    "    except: \n",
    "        return default\n",
    "\n",
    "\n",
    "def get_feature_total(df, col_name):\n",
    "    return data['client_id'].map(df.groupby(['client_id', col_name]).size().index.get_level_values('client_id').value_counts()).fillna(0)\n",
    "\n",
    "\n",
    "def get_feature_most_common(df, col_name, fill_na_value):\n",
    "    return data['c\n",
    "def most_common(x, default='unknown'):\n",
    "    try:\n",
    "        # works faster then value_counts and pd.Series.mode\n",
    "        return scipy.stats.mode(x)[0][0]\n",
    "    except: \n",
    "        return default\n",
    "\n",
    "\n",
    "def get_feature_total(df, col_name):\n",
    "    return data['client_id'].map(df.groupby(['client_id', col_name]).size().index.get_level_values('client_id').value_counts()).fillna(0)\n",
    "\n",
    "\n",
    "def get_feature_most_common(df, col_name, fill_na_value):\n",
    "    return data['client_id'].map(df.groupby('client_id')[col_name].agg(lambda x: scipy.stats.mode(x)[0][0])).fillna(fill_na_value)\n",
    "\n",
    "\n",
    "def get_feature_mean(df, col_name, fill_na_value):\n",
    "    return data['client_id'].map(df.groupby('client_id')[col_name].mean()).fillna(fill_na_value)\n",
    "\n",
    "\n",
    "def get_feature_std(df, col_name, fill_na_value):\n",
    "    return data['client_id'].map(df.groupby('client_id')[col_name].std()).fillna(fill_na_value)\n",
    "\n",
    "\n",
    "def get_feature_max_min(df, col_name, fill_na_value):\n",
    "    return data['client_id'].map(df.groupby('client_id')[col_name].agg(lambda x: x.max() - x.min())).fillna(fill_na_value)\n",
    "\n",
    "\n",
    "def create_features_transactions(data):\n",
    "    \n",
    "    data = data.copy()\n",
    "    \n",
    "    # transaction features\n",
    "    data['total_transactions'] = data['client_id'].map(transactions.groupby('client_id').size()).fillna(0)\n",
    "    data['total_cards'] = get_feature_total(transactions, 'card_id')\n",
    "\n",
    "#     data['total_transaction_amount'] = data['client_id'].map(transactions.groupby('client_id')['tran_amt_rur'].sum()).fillna(0) # add monthly, daily, etc\n",
    "    data['mean_transaction_amt'] = get_feature_mean(transactions, 'tran_amt_rur', -1) # add monthly, daily, etc\n",
    "    data['std_transaction_amount'] = get_feature_std(transactions, 'tran_amt_rur', -1) # add monthly, daily, etc\n",
    "    \n",
    "    data['total_mcc_cd'] = get_feature_total(transactions, 'mcc_cd')\n",
    "    data['total_share_mcc_cd'] = (data['total_mcc_cd'] / data['total_transactions']).fillna(0)\n",
    "    data['most_common_mcc_cd'] = get_feature_most_common(transactions, 'mcc_cd', -1)\n",
    "    \n",
    "    data['total_merchant_cd'] = get_feature_total(transactions, 'merchant_cd')\n",
    "    data['total_share_merchant_cd'] = (data['total_merchant_cd'] / data['total_transactions']).fillna(0)\n",
    "    data['most_common_merchant_cd'] = get_feature_most_common(transactions, 'merchant_cd', -1)\n",
    "    \n",
    "    data['total_txn_city'] = get_feature_total(transactions, 'txn_city')\n",
    "    data['total_share_txn_city'] = (data['total_txn_city'] / data['total_transactions']).fillna(0)\n",
    "    data['most_common_txn_city'] = get_feature_most_common(transactions, 'txn_city', '<unknown>')\n",
    "    \n",
    "    data['total_tsp_name'] = get_feature_total(transactions, 'tsp_name')\n",
    "    data['total_share_tsp_name'] = (data['total_tsp_name'] / data['total_transactions']).fillna(0)\n",
    "    data['most_common_tsp_name'] = get_feature_most_common(transactions, 'tsp_name', '<unknown>')\n",
    "    \n",
    "    data['total_txn_comment_1'] = get_feature_total(transactions, 'txn_comment_1')\n",
    "    data['most_common_txn_comment_1'] = get_feature_most_common(transactions, 'txn_comment_1', '<unknown>')\n",
    "    \n",
    "    data['total_txn_comment_2'] = get_feature_total(transactions, 'txn_comment_2')\n",
    "    data['most_common_txn_comment_2'] = get_feature_most_common(transactions, 'txn_comment_2', '<unknown>')\n",
    "    \n",
    "    return data\n",
    "\n",
    "\n",
    "def create_features_aum(data):\n",
    "    data = data.copy()\n",
    "    \n",
    "    data['total_aum'] = data['client_id'].map(assets_under_management.groupby('client_id').size()).fillna(0)\n",
    "    \n",
    "    data['total_product_code'] = get_feature_total(assets_under_management, 'product_code')\n",
    "    data['most_common_product_code'] = get_feature_most_common(assets_under_management, 'product_code', '<unknown>').value_counts()\n",
    "    \n",
    "    data['mean_balance_rur_amt'] = get_feature_mean(assets_under_management, 'balance_rur_amt', -1)\n",
    "    data['std_balance_rur_amt'] = get_feature_std(assets_under_management, 'balance_rur_amt', -1)\n",
    "    data['max_min_balance_rur_amt'] = get_feature_max_min(assets_under_management, 'balance_rur_amt', -1)\n",
    "    \n",
    "    return data\n",
    "\n",
    "\n",
    "def create_features_balance(data):\n",
    "    data = data.copy()\n",
    "    \n",
    "    data['total_balance'] = data['client_id'].map(balance.groupby('client_id').size()).fillna(0)\n",
    "    \n",
    "    data['total_crncy_cd'] = get_feature_total(balance, 'crncy_cd')\n",
    "    data['most_common_crncy_cd'] = get_feature_most_common(balance, 'crncy_cd', -1)\n",
    "    \n",
    "    data['total_eop_bal_sum_rur'] = get_feature_total(balance, 'eop_bal_sum_rur')\n",
    "    data['total_share_eop_bal_sum_rur'] = (data['total_eop_bal_sum_rur'] / data['total_balance']).fillna(0)\n",
    "    data['mean_eop_bal_sum_rur'] = get_feature_mean(balance, 'eop_bal_sum_rur', -9999)\n",
    "    data['std_eop_bal_sum_rur'] = get_feature_std(balance, 'eop_bal_sum_rur', -9999)\n",
    "    \n",
    "    data['total_min_bal_sum_rur'] = get_feature_total(balance, 'min_bal_sum_rur')\n",
    "    data['total_share_min_bal_sum_rur'] = (data['total_min_bal_sum_rur'] / data['total_balance']).fillna(0)\n",
    "    data['mean_min_bal_sum_rur'] = get_feature_mean(balance, 'min_bal_sum_rur', -9999)\n",
    "    data['std_min_bal_sum_rur'] = get_feature_std(balance, 'min_bal_sum_rur', -9999)\n",
    "    \n",
    "    data['total_max_bal_sum_rur'] = get_feature_total(balance, 'max_bal_sum_rur')\n",
    "    data['total_share_max_bal_sum_rur'] = (data['total_max_bal_sum_rur'] / data['total_balance']).fillna(0)\n",
    "    data['mean_max_bal_sum_rur'] = get_feature_mean(balance, 'max_bal_sum_rur', -9999)\n",
    "    data['std_max_bal_sum_rur'] = get_feature_std(balance, 'max_bal_sum_rur', -9999)\n",
    "    \n",
    "    data['total_avg_bal_sum_rur'] = get_feature_total(balance, 'avg_bal_sum_rur')\n",
    "    data['total_share_avg_bal_sum_rur'] = (data['total_avg_bal_sum_rur'] / data['total_balance']).fillna(0)\n",
    "    data['mean_avg_bal_sum_rur'] = get_feature_mean(balance, 'avg_bal_sum_rur', -9999)\n",
    "    data['std_avg_bal_sum_rur'] = get_feature_std(balance, 'avg_bal_sum_rur', -9999)\n",
    "    data['max_min_avg_bal_sum_rur'] = get_feature_max_min(balance, 'avg_bal_sum_rur', -9999)\n",
    "    \n",
    "    data['total_prod_cat_name'] = get_feature_total(balance, 'prod_cat_name')\n",
    "    data['most_common_prod_cat_name'] = get_feature_most_common(balance, 'prod_cat_name', '<unknown>')\n",
    "    \n",
    "    data['total_prod_group_name'] = get_feature_total(balance, 'prod_group_name')\n",
    "    data['most_common_prod_group_name'] = get_feature_most_common(balance, 'prod_group_name', '<unknown>')\n",
    "    \n",
    "    return data\n",
    "\n",
    "\n",
    "def create_features_client(data):\n",
    "    data = data.copy()\n",
    "    \n",
    "    data = data.merge(client, on='client_id')\n",
    "    data['match_client_region-region_cd'] = (data['client_region'] == data['region_cd']).astype(int)\n",
    "    data.drop('client_citizenship', axis=1)\n",
    "    \n",
    "    return data\n",
    "\n",
    "\n",
    "def create_features_campaigns(data):\n",
    "    data = data.copy()\n",
    "    \n",
    "    return data\n",
    "\n",
    "\n",
    "def create_features_deals(data):\n",
    "    data = data.copy()\n",
    "    \n",
    "    data['number_of_deals'] = data['client_id'].map(deals.groupby('client_id')['crncy_cd'].count()).fillna(0)\n",
    "    data['mean_deal_sum'] = data['client_id'].map(deals.groupby('client_id')['agrmnt_sum_rur'].mean()).fillna(0)\n",
    "    \n",
    "    return data\n",
    "\n",
    "\n",
    "def create_features_dict_mcc(data):\n",
    "    data = data.copy()\n",
    "    \n",
    "    return data\n",
    "\n",
    "\n",
    "def create_features_payments(data):\n",
    "    data = data.copy()\n",
    "    \n",
    "    # payments \n",
    "    data['last_known_salary'] = data['client_id'].map(payments.groupby('client_id').apply(lambda x: x['sum_rur'].iloc[0])).fillna(-1)\n",
    "    data['total_recieved_salary'] = data['client_id'].map(payments.groupby('client_id').apply(lambda x: x['sum_rur'].sum())).fillna(-1)\n",
    "    \n",
    "    return data\n",
    "\n",
    "\n",
    "def create_features_appl(data):\n",
    "    data = data.copy()\n",
    "    \n",
    "    return data\n",
    "\n",
    "\n",
    "def create_features_funnel(data):\n",
    "    data = data.copy()\n",
    "    \n",
    "    return datalient_id'].map(df.groupby('client_id')[col_name].agg(lambda x: scipy.stats.mode(x)[0][0])).fillna(fill_na_value)\n",
    "\n",
    "\n",
    "def get_feature_mean(df, col_name, fill_na_value):\n",
    "    return data['client_id'].map(df.groupby('client_id')[col_name].mean()).fillna(fill_na_value)\n",
    "\n",
    "\n",
    "def get_feature_std(df, col_name, fill_na_value):\n",
    "    return data['client_id'].map(df.groupby('client_id')[col_name].std()).fillna(fill_na_value)\n",
    "\n",
    "\n",
    "def get_feature_max_min(df, col_name, fill_na_value):\n",
    "    return data['client_id'].map(df.groupby('client_id')[col_name].agg(lambda x: x.max() - x.min())).fillna(fill_na_value)\n",
    "\n",
    "def create_features_transactions(data):\n",
    "    \n",
    "    data = data.copy()\n",
    "    \n",
    "    # transaction features\n",
    "    data['total_transactions'] = data['client_id'].map(transactions.groupby('client_id').size()).fillna(0)\n",
    "    data['total_cards'] = get_feature_total(transactions, 'card_id')\n",
    "\n",
    "#     data['total_transaction_amount'] = data['client_id'].map(transactions.groupby('client_id')['tran_amt_rur'].sum()).fillna(0) # add monthly, daily, etc\n",
    "    data['mean_transaction_amt'] = data['client_id'].map(transactions.groupby('client_id')['tran_amt_rur'].mean()).fillna(-1) # add monthly, daily, etc\n",
    "#     data['std_transaction_amount'] = data['client_id'].map(transactions.groupby('client_id')['tran_amt_rur'].std()).fillna(0) # add monthly, daily, etc\n",
    "    \n",
    "    data['total_mcc_cd'] = get_feature_total(transactions, 'mcc_cd')\n",
    "    data['total_share_mcc_cd'] = (data['total_mcc_cd'] / data['total_transactions']).fillna(0)\n",
    "    data['most_common_mcc_cd'] = get_feature_most_common(transactions, 'mcc_cd', -1)\n",
    "    \n",
    "    data['total_merchant_cd'] = get_feature_total(transactions, 'merchant_cd')\n",
    "    data['total_share_merchant_cd'] = (data['total_merchant_cd'] / data['total_transactions']).fillna(0)\n",
    "    data['most_common_merchant_cd'] = get_feature_most_common(transactions, 'merchant_cd', -1)\n",
    "    \n",
    "    data['total_txn_city'] = get_feature_total(transactions, 'txn_city')\n",
    "    data['total_share_txn_city'] = (data['total_txn_city'] / data['total_transactions']).fillna(0)\n",
    "    data['most_common_txn_city'] = get_feature_most_common(transactions, 'txn_city', '<unknown>')\n",
    "    \n",
    "    data['total_tsp_name'] = get_feature_total(transactions, 'tsp_name')\n",
    "    data['total_share_tsp_name'] = (data['total_tsp_name'] / data['total_transactions']).fillna(0)\n",
    "    data['most_common_tsp_name'] = get_feature_most_common(transactions, 'tsp_name', '<unknown>')\n",
    "    \n",
    "    data['total_txn_comment_1'] = get_feature_total(transactions, 'txn_comment_1')\n",
    "    data['most_common_txn_comment_1'] = get_feature_most_common(transactions, 'txn_comment_1', '<unknown>')\n",
    "    \n",
    "    data['total_txn_comment_2'] = get_feature_total(transactions, 'txn_comment_2')\n",
    "    data['most_common_txn_comment_2'] = get_feature_most_common(transactions, 'txn_comment_2', '<unknown>')\n",
    "    \n",
    "    return data\n",
    "\n",
    "def create_features_aum(data):\n",
    "    data = data.copy()\n",
    "    \n",
    "    data['total_aum'] = data['client_id'].map(assets_under_management.groupby('client_id').size()).fillna(0)\n",
    "    \n",
    "    data['total_product_code'] = get_feature_total(assets_under_management, 'product_code')\n",
    "    data['most_common_product_code'] = get_feature_most_common(assets_under_management, 'product_code', '<unknown>').value_counts()\n",
    "    \n",
    "    data['mean_balance_rur_amt'] = data['client_id'].map(assets_under_management.groupby('client_id')['balance_rur_amt'].mean()).fillna(-1)\n",
    "    data['std_balance_rur_amt'] = data['client_id'].map(assets_under_management.groupby('client_id')['balance_rur_amt'].mean()).fillna(-1)\n",
    "    \n",
    "    return data\n",
    "\n",
    "\n",
    "def create_features_balance(data):\n",
    "    data = data.copy()\n",
    "    \n",
    "    data['total_balance'] = data['client_id'].map(balance.groupby('client_id').size()).fillna(0)\n",
    "    \n",
    "    data['total_crncy_cd'] = get_feature_total(balance, 'crncy_cd')\n",
    "    data['most_common_crncy_cd'] = get_feature_most_common(balance, 'crncy_cd', -1)\n",
    "    \n",
    "    data['total_eop_bal_sum_rur'] = get_feature_total(balance, 'eop_bal_sum_rur')\n",
    "    data['total_share_eop_bal_sum_rur'] = (data['total_eop_bal_sum_rur'] / data['total_balance']).fillna(0)\n",
    "    data['mean_eop_bal_sum_rur'] = get_feature_mean(balance, 'eop_bal_sum_rur', -9999)\n",
    "    data['std_eop_bal_sum_rur'] = get_feature_std(balance, 'eop_bal_sum_rur', -9999)\n",
    "    \n",
    "    data['total_min_bal_sum_rur'] = get_feature_total(balance, 'min_bal_sum_rur')\n",
    "    data['total_share_min_bal_sum_rur'] = (data['total_min_bal_sum_rur'] / data['total_balance']).fillna(0)\n",
    "    data['mean_min_bal_sum_rur'] = get_feature_mean(balance, 'min_bal_sum_rur', -9999)\n",
    "    data['std_min_bal_sum_rur'] = get_feature_std(balance, 'min_bal_sum_rur', -9999)\n",
    "    \n",
    "    data['total_max_bal_sum_rur'] = get_feature_total(balance, 'max_bal_sum_rur')\n",
    "    data['total_share_max_bal_sum_rur'] = (data['total_max_bal_sum_rur'] / data['total_balance']).fillna(0)\n",
    "    data['mean_max_bal_sum_rur'] = get_feature_mean(balance, 'max_bal_sum_rur', -9999)\n",
    "    data['std_max_bal_sum_rur'] = get_feature_std(balance, 'max_bal_sum_rur', -9999)\n",
    "    \n",
    "    data['total_avg_bal_sum_rur'] = get_feature_total(balance, 'avg_bal_sum_rur')\n",
    "    data['total_share_avg_bal_sum_rur'] = (data['total_avg_bal_sum_rur'] / data['total_balance']).fillna(0)\n",
    "    data['mean_avg_bal_sum_rur'] = get_feature_mean(balance, 'avg_bal_sum_rur', -9999)\n",
    "    data['std_avg_bal_sum_rur'] = get_feature_std(balance, 'avg_bal_sum_rur', -9999)\n",
    "    data['max_min_avg_bal_sum_rur'] = get_feature_max_min(balance, 'avg_bal_sum_rur', -9999)\n",
    "    \n",
    "    data['total_prod_cat_name'] = get_feature_total(balance, 'prod_cat_name')\n",
    "    data['most_common_prod_cat_name'] = get_feature_most_common(balance, 'prod_cat_name', '<unknown>')\n",
    "    \n",
    "    data['total_prod_group_name'] = get_feature_total(balance, 'prod_group_name')\n",
    "    data['most_common_prod_group_name'] = get_feature_most_common(balance, 'prod_group_name', '<unknown>')\n",
    "    \n",
    "    return data\n",
    "\n",
    "def create_feautures_payments(data):\n",
    "    data = data.copy()\n",
    "    \n",
    "    # payments \n",
    "    data['last_known_salary'] = data['client_id'].map(payments.groupby('client_id').apply(lambda x: x['sum_rur'].iloc[0])).fillna(-1)\n",
    "    data['total_recieved_salary'] = data['client_id'].map(payments.groupby('client_id').apply(lambda x: x['sum_rur'].sum())).fillna(-1)\n",
    "    \n",
    "    return data\n",
    "\n",
    "def create_features_deals(data):\n",
    "    data = data.copy()\n",
    "    \n",
    "    data['number_of_deals'] = data['client_id'].map(deals.groupby('client_id')['crncy_cd'].count()).fillna(0)\n",
    "    data['mean_deal_sum'] = data['client_id'].map(deals.groupby('client_id')['agrmnt_sum_rur'].mean()).fillna(0)\n",
    "    \n",
    "    return data"
   ]
  },
  {
   "cell_type": "code",
   "execution_count": 160,
   "id": "92100280",
   "metadata": {},
   "outputs": [],
   "source": [
    "# data merge\n",
    "data = funnel.copy()\n",
    "data = funnel.merge(client, on=['client_id'])"
   ]
  },
  {
   "cell_type": "code",
   "execution_count": 161,
   "id": "74195024",
   "metadata": {},
   "outputs": [
    {
     "name": "stdout",
     "output_type": "stream",
     "text": [
      "CPU times: user 5 µs, sys: 1e+03 ns, total: 6 µs\n",
      "Wall time: 9.78 µs\n"
     ]
    }
   ],
   "source": [
    "%%time\n",
    "# create features\n",
    "\n",
    "# data = create_features_transactions(data)\n",
    "# data = create_features_aum(data)\n",
    "# data = create_features_balance(data)\n",
    "# data = create_feautures_payments(data)\n",
    "# data = create_features_deals(data)"
   ]
  },
  {
   "cell_type": "code",
   "execution_count": 162,
   "id": "33714177",
   "metadata": {},
   "outputs": [],
   "source": [
    "# data['sale_flg'] = data['sale_flg'] * data['sale_amount'].fillna(0) - data['contacts'] * 400 / 0.1"
   ]
  },
  {
   "cell_type": "code",
   "execution_count": 80,
   "id": "760386e4",
   "metadata": {},
   "outputs": [],
   "source": [
    "# data encode\n",
    "\n",
    "# fill_cols = ['gender', 'citizenship', 'education', 'job_type',]# 'most_common_txn_city', 'most_common_tsp_name', 'most_common_txn_comment_1', 'most_common_txn_comment_2']\n",
    "# for c in fill_cols:\n",
    "#     col_type = data[c].dtype\n",
    "#     if col_type == 'object' or col_type.name == 'category':\n",
    "#         data[c] = data[c].astype('category')"
   ]
  },
  {
   "cell_type": "code",
   "execution_count": null,
   "id": "2b622420",
   "metadata": {},
   "outputs": [],
   "source": []
  },
  {
   "cell_type": "code",
   "execution_count": 198,
   "id": "a8c9a1d8",
   "metadata": {},
   "outputs": [],
   "source": [
    "# fill_cols = ['gender', 'citizenship', 'education', 'job_type', 'most_common_txn_city', 'most_common_tsp_name', 'most_common_txn_comment_1', 'most_common_txn_comment_2']# 'most_common_txn_city', 'most_common_tsp_name', 'most_common_txn_comment_1', 'most_common_txn_comment_2']\n",
    "for c in data.columns:\n",
    "    col_type = data[c].dtype\n",
    "    if col_type == 'object' or col_type.name == 'category':\n",
    "        data[c] = data[c].astype('str')"
   ]
  },
  {
   "cell_type": "code",
   "execution_count": 164,
   "id": "f2c10c66",
   "metadata": {},
   "outputs": [],
   "source": [
    "X = data.drop(columns = TARGET_COLUMNS + ['client_id'])\n",
    "Y = data[TARGET_COLUMNS[0]]"
   ]
  },
  {
   "cell_type": "markdown",
   "id": "3abddf15",
   "metadata": {},
   "source": [
    "## Train"
   ]
  },
  {
   "cell_type": "code",
   "execution_count": 165,
   "id": "a208fe5e",
   "metadata": {},
   "outputs": [],
   "source": [
    "import shutil\n",
    "try:\n",
    "    os.mkdir(OUTPUT_PATH / 'models')\n",
    "except:\n",
    "    shutil.rmtree(OUTPUT_PATH / 'models')\n",
    "    os.mkdir(OUTPUT_PATH / 'models')"
   ]
  },
  {
   "cell_type": "code",
   "execution_count": 194,
   "id": "78218e5e",
   "metadata": {},
   "outputs": [],
   "source": [
    "cat_feats =[]\n",
    "for c in X.columns:\n",
    "    col_type = data[c].dtype\n",
    "    if col_type == 'object' or col_type.name == 'category':\n",
    "        cat_feats.append(np.argwhere(X.columns == c)[0][0])"
   ]
  },
  {
   "cell_type": "code",
   "execution_count": 190,
   "id": "c7a5e00f",
   "metadata": {},
   "outputs": [],
   "source": [
    "def running_train(X_train, Y_train, X_val, Y_val, i_fold=None, seed=None, params = None):\n",
    "    # prepare for train\n",
    "    \n",
    "    params = {\n",
    "              \"n_jobs\":-1,\n",
    "              \"random_state\": seed,\n",
    "              'objective': 'quantile',\n",
    "              }\n",
    "    \n",
    "    \n",
    "    model = LGBMRegressor(**params) # define model here\n",
    "    model = CatBoostClassifier(thread_count=-1)\n",
    "    \n",
    "    \n",
    "    # Fit and save model\n",
    "    \n",
    "    if X_val is None:\n",
    "        model.fit(X_train, Y_train, verbose=False, cat_features=cat_feats)\n",
    "    else:\n",
    "        model.fit(X_train, Y_train,   eval_set=(X_val, Y_val), early_stopping_rounds=500, verbose=False, cat_features=cat_feats)\n",
    "    #joblib.dump(model, OUTPUT_PATH / 'models' / f'catboost_{i_fold}_{seed}_{CURRENT_TIME}.pkl')\n",
    "    model.save_model(OUTPUT_PATH / 'models' / f'catboost_{i_fold}_{seed}_{CURRENT_TIME}')"
   ]
  },
  {
   "cell_type": "code",
   "execution_count": 168,
   "id": "d6cf3b9b",
   "metadata": {},
   "outputs": [
    {
     "name": "stdout",
     "output_type": "stream",
     "text": [
      "Seed: 948, 1/3\n",
      "# Fold: 1/3 (seed: 1/3)\n",
      "predict on oof...  done.\n",
      "# Fold: 2/3 (seed: 1/3)\n",
      "predict on oof...  done.\n",
      "# Fold: 3/3 (seed: 1/3)\n",
      "predict on oof...  done.\n",
      "Seed: 534, 2/3\n",
      "# Fold: 1/3 (seed: 2/3)\n",
      "predict on oof...  done.\n",
      "# Fold: 2/3 (seed: 2/3)\n",
      "predict on oof...  done.\n",
      "# Fold: 3/3 (seed: 2/3)\n",
      "predict on oof...  done.\n",
      "Seed: 432, 3/3\n",
      "# Fold: 1/3 (seed: 3/3)\n",
      "predict on oof...  done.\n",
      "# Fold: 2/3 (seed: 3/3)\n",
      "predict on oof...  done.\n",
      "# Fold: 3/3 (seed: 3/3)\n",
      "predict on oof...  done.\n"
     ]
    }
   ],
   "source": [
    "import xgboost as xgb\n",
    "oof = np.zeros((X.shape[0], n_seed)) # cv_score\n",
    "seeds = []\n",
    "for i_seed in range(n_seed):\n",
    "    seed = FIXED_SEEDS[i_seed]\n",
    "    seed_everything(seed)\n",
    "\n",
    "    seeds.append(seed)\n",
    "    print('Seed: {}, {}/{}'.format(seed, i_seed + 1, n_seed))\n",
    "    \n",
    "    if n_fold != 1:\n",
    "        kf = KFold(n_splits=n_fold, random_state=seed, shuffle=True)\n",
    "        split_indexes = kf.split(X, Y)\n",
    "    else:\n",
    "        split_indexes = [train_test_split(np.arange(X.shape[0]), random_state=seed, shuffle = True)]\n",
    "    \n",
    "    for i_fold, (train_idx, val_idx) in enumerate(split_indexes):\n",
    "        print(\"# Fold: {}/{} (seed: {}/{})\".format(i_fold + 1, n_fold, i_seed + 1, n_seed))\n",
    "\n",
    "        # dataset\n",
    "        X_train, Y_train = X.iloc[train_idx], Y[train_idx]\n",
    "        X_val, Y_val = X.iloc[val_idx], Y[val_idx]\n",
    "\n",
    "\n",
    "        # train\n",
    "        running_train(X_train, Y_train, X_val, Y_val, i_fold=i_fold, seed=seed)\n",
    "\n",
    "        # predict on oof\n",
    "        print('predict on oof...', end='')\n",
    "        model = joblib.load( OUTPUT_PATH / 'models' / f'lightgbm_{i_fold}_{seed}_{CURRENT_TIME}.pkl')\n",
    "\n",
    "        prediction = model.predict_proba(X_val)[:, 1]\n",
    "\n",
    "        oof[val_idx, i_seed] = prediction\n",
    "        print('  done.')"
   ]
  },
  {
   "cell_type": "code",
   "execution_count": 177,
   "id": "58a14348",
   "metadata": {},
   "outputs": [],
   "source": [
    "if n_fold != 1:\n",
    "    Y_predicted = (np.mean(oof, axis = 1) > prediction_threshold).astype(int)\n",
    "    Y_test = funnel[['client_id', 'sale_flg']].set_index('client_id')\n",
    "    test_funnel =  funnel.set_index('client_id')\n",
    "if n_fold == 1 and n_seed == 1:\n",
    "    Y_predicted = (prediction > prediction_threshold).astype(int)\n",
    "    Y_test = funnel[['client_id', 'sale_flg']].iloc[split_indexes[0][1]].set_index('client_id')\n",
    "    test_funnel = funnel.iloc[split_indexes[0][1]].set_index('client_id')"
   ]
  },
  {
   "cell_type": "code",
   "execution_count": 181,
   "id": "c18bed56",
   "metadata": {},
   "outputs": [],
   "source": [
    "try: \n",
    "    os.mkdir(OUTPUT_PATH / 'scoring')\n",
    "except:\n",
    "    shutil.rmtree(OUTPUT_PATH / 'scoring')\n",
    "    os.mkdir(OUTPUT_PATH / 'scoring')"
   ]
  },
  {
   "cell_type": "code",
   "execution_count": 182,
   "id": "9c15de36",
   "metadata": {},
   "outputs": [
    {
     "name": "stderr",
     "output_type": "stream",
     "text": [
      "/opt/conda/lib/python3.7/site-packages/pandas/core/indexing.py:1597: SettingWithCopyWarning: \n",
      "A value is trying to be set on a copy of a slice from a DataFrame.\n",
      "Try using .loc[row_indexer,col_indexer] = value instead\n",
      "\n",
      "See the caveats in the documentation: https://pandas.pydata.org/pandas-docs/stable/user_guide/indexing.html#returning-a-view-versus-a-copy\n",
      "  self.obj[key] = value\n",
      "/opt/conda/lib/python3.7/site-packages/pandas/core/indexing.py:1720: SettingWithCopyWarning: \n",
      "A value is trying to be set on a copy of a slice from a DataFrame.\n",
      "Try using .loc[row_indexer,col_indexer] = value instead\n",
      "\n",
      "See the caveats in the documentation: https://pandas.pydata.org/pandas-docs/stable/user_guide/indexing.html#returning-a-view-versus-a-copy\n",
      "  self._setitem_single_column(loc, value, pi)\n",
      "/opt/conda/lib/python3.7/site-packages/pandas/core/generic.py:5494: SettingWithCopyWarning: \n",
      "A value is trying to be set on a copy of a slice from a DataFrame.\n",
      "Try using .loc[row_indexer,col_indexer] = value instead\n",
      "\n",
      "See the caveats in the documentation: https://pandas.pydata.org/pandas-docs/stable/user_guide/indexing.html#returning-a-view-versus-a-copy\n",
      "  self[name] = value\n",
      "/home/jupyter/idao-2021-finals/scoring/scorer.py:63: SettingWithCopyWarning: \n",
      "A value is trying to be set on a copy of a slice from a DataFrame.\n",
      "Try using .loc[row_indexer,col_indexer] = value instead\n",
      "\n",
      "See the caveats in the documentation: https://pandas.pydata.org/pandas-docs/stable/user_guide/indexing.html#returning-a-view-versus-a-copy\n",
      "  selected['gain'] = selected[SALE_FLAG] * selected[SALE_AMOUNT].fillna(0) - selected[CONTACTS] * CALL_COST\n"
     ]
    }
   ],
   "source": [
    "public_score, private_score = local_scorer.get_score(test_funnel, Y_predicted, Y_test)"
   ]
  },
  {
   "cell_type": "code",
   "execution_count": 183,
   "id": "c665ef65",
   "metadata": {},
   "outputs": [
    {
     "name": "stdout",
     "output_type": "stream",
     "text": [
      "Public ANIC 5350.509921853201 Private ANIC 5701.379291096846\n",
      "ANIC 5584.422834682297\n",
      "Accuracy score: 0.8113778025862871\n"
     ]
    }
   ],
   "source": [
    "validation_accuracy = accuracy_score(Y_test['sale_flg'], Y_predicted)\n",
    "print(f'Public ANIC {public_score} Private ANIC {private_score}')\n",
    "print(f'ANIC {1/3*public_score+ 2/3 * private_score}')\n",
    "print(f'Accuracy score: {validation_accuracy}')"
   ]
  },
  {
   "cell_type": "code",
   "execution_count": 191,
   "id": "d016c55c",
   "metadata": {},
   "outputs": [],
   "source": [
    "if retrain_after_valid:\n",
    "    running_train(X, Y, None, None, i_fold=-1, seed=4444)"
   ]
  },
  {
   "cell_type": "code",
   "execution_count": 330,
   "id": "f61203ba",
   "metadata": {},
   "outputs": [
    {
     "ename": "AttributeError",
     "evalue": "'NoneType' object has no attribute 'summary'",
     "output_type": "error",
     "traceback": [
      "\u001b[0;31m---------------------------------------------------------------------------\u001b[0m",
      "\u001b[0;31mAttributeError\u001b[0m                            Traceback (most recent call last)",
      "\u001b[0;32m<ipython-input-330-ace4ffb020da>\u001b[0m in \u001b[0;36m<module>\u001b[0;34m\u001b[0m\n\u001b[1;32m      1\u001b[0m \u001b[0;32mif\u001b[0m \u001b[0mUSE_WANDB\u001b[0m\u001b[0;34m:\u001b[0m\u001b[0;34m\u001b[0m\u001b[0;34m\u001b[0m\u001b[0m\n\u001b[0;32m----> 2\u001b[0;31m     \u001b[0mwandb\u001b[0m\u001b[0;34m.\u001b[0m\u001b[0mrun\u001b[0m\u001b[0;34m.\u001b[0m\u001b[0msummary\u001b[0m\u001b[0;34m[\u001b[0m\u001b[0;34m\"validation_accuracy\"\u001b[0m\u001b[0;34m]\u001b[0m \u001b[0;34m=\u001b[0m \u001b[0mvalidation_accuracy\u001b[0m\u001b[0;34m\u001b[0m\u001b[0;34m\u001b[0m\u001b[0m\n\u001b[0m\u001b[1;32m      3\u001b[0m     \u001b[0mwandb\u001b[0m\u001b[0;34m.\u001b[0m\u001b[0mrun\u001b[0m\u001b[0;34m.\u001b[0m\u001b[0msummary\u001b[0m\u001b[0;34m[\u001b[0m\u001b[0;34m\"anic\"\u001b[0m\u001b[0;34m]\u001b[0m \u001b[0;34m=\u001b[0m \u001b[0;36m1\u001b[0m\u001b[0;34m/\u001b[0m\u001b[0;36m3\u001b[0m\u001b[0;34m*\u001b[0m\u001b[0mpublic_score\u001b[0m\u001b[0;34m+\u001b[0m \u001b[0;36m2\u001b[0m\u001b[0;34m/\u001b[0m\u001b[0;36m3\u001b[0m \u001b[0;34m*\u001b[0m \u001b[0mprivate_score\u001b[0m\u001b[0;34m\u001b[0m\u001b[0;34m\u001b[0m\u001b[0m\n",
      "\u001b[0;31mAttributeError\u001b[0m: 'NoneType' object has no attribute 'summary'"
     ]
    }
   ],
   "source": [
    "if USE_WANDB:\n",
    "    wandb.run.summary[\"validation_accuracy\"] = validation_accuracy\n",
    "    wandb.run.summary[\"anic\"] = 1/3*public_score+ 2/3 * private_score"
   ]
  },
  {
   "cell_type": "code",
   "execution_count": 100,
   "id": "29045205",
   "metadata": {},
   "outputs": [],
   "source": [
    "if make_submission:\n",
    "    public_anic = float(input())\n",
    "    wandb.run.summary[\"public_anic\"] = public_anic"
   ]
  },
  {
   "cell_type": "code",
   "execution_count": 101,
   "id": "a02a0132",
   "metadata": {},
   "outputs": [
    {
     "data": {
      "text/html": [
       "<br/>Waiting for W&B process to finish, PID 26812<br/>Program ended successfully."
      ],
      "text/plain": [
       "<IPython.core.display.HTML object>"
      ]
     },
     "metadata": {},
     "output_type": "display_data"
    },
    {
     "data": {
      "application/vnd.jupyter.widget-view+json": {
       "model_id": "",
       "version_major": 2,
       "version_minor": 0
      },
      "text/plain": [
       "VBox(children=(Label(value=' 0.03MB of 0.03MB uploaded (0.00MB deduped)\\r'), FloatProgress(value=1.0, max=1.0)…"
      ]
     },
     "metadata": {},
     "output_type": "display_data"
    },
    {
     "data": {
      "text/html": [
       "Find user logs for this run at: <code>/home/jupyter/idao-2021-finals/wandb/run-20210417_155338-1btmkefi/logs/debug.log</code>"
      ],
      "text/plain": [
       "<IPython.core.display.HTML object>"
      ]
     },
     "metadata": {},
     "output_type": "display_data"
    },
    {
     "data": {
      "text/html": [
       "Find internal logs for this run at: <code>/home/jupyter/idao-2021-finals/wandb/run-20210417_155338-1btmkefi/logs/debug-internal.log</code>"
      ],
      "text/plain": [
       "<IPython.core.display.HTML object>"
      ]
     },
     "metadata": {},
     "output_type": "display_data"
    },
    {
     "data": {
      "text/html": [
       "<h3>Run summary:</h3><br/><style>\n",
       "    table.wandb td:nth-child(1) { padding: 0 10px; text-align: right }\n",
       "    </style><table class=\"wandb\">\n",
       "<tr><td>validation_accuracy</td><td>0.84343</td></tr><tr><td>anic</td><td>5471.22899</td></tr></table>"
      ],
      "text/plain": [
       "<IPython.core.display.HTML object>"
      ]
     },
     "metadata": {},
     "output_type": "display_data"
    },
    {
     "data": {
      "text/html": [
       "Synced 6 W&B file(s), 0 media file(s), 0 artifact file(s) and 1 other file(s)"
      ],
      "text/plain": [
       "<IPython.core.display.HTML object>"
      ]
     },
     "metadata": {},
     "output_type": "display_data"
    },
    {
     "data": {
      "text/html": [
       "\n",
       "                    <br/>Synced <strong style=\"color:#cdcd00\">2021-04-17_15:53:38</strong>: <a href=\"https://wandb.ai/artkulak/idao-2021-finals/runs/1btmkefi\" target=\"_blank\">https://wandb.ai/artkulak/idao-2021-finals/runs/1btmkefi</a><br/>\n",
       "                "
      ],
      "text/plain": [
       "<IPython.core.display.HTML object>"
      ]
     },
     "metadata": {},
     "output_type": "display_data"
    }
   ],
   "source": [
    "if USE_WANDB:\n",
    "    run.finish()"
   ]
  }
 ],
 "metadata": {
  "environment": {
   "name": "common-cpu.m65",
   "type": "gcloud",
   "uri": "gcr.io/deeplearning-platform-release/base-cpu:m65"
  },
  "kernelspec": {
   "display_name": "Python 3",
   "language": "python",
   "name": "python3"
  },
  "language_info": {
   "codemirror_mode": {
    "name": "ipython",
    "version": 3
   },
   "file_extension": ".py",
   "mimetype": "text/x-python",
   "name": "python",
   "nbconvert_exporter": "python",
   "pygments_lexer": "ipython3",
   "version": "3.7.10"
  }
 },
 "nbformat": 4,
 "nbformat_minor": 5
}
