{
 "cells": [
  {
   "cell_type": "code",
   "execution_count": 15,
   "metadata": {},
   "outputs": [],
   "source": [
    "from pathlib import Path\n",
    "import pandas as pd\n",
    "import numpy as np\n",
    "import os\n",
    "import seaborn as sns\n",
    "import matplotlib.pyplot as plt\n",
    "\n",
    "INPUT_PATH = Path('../input')\n",
    "OUTPUT_PATH = Path('../output')\n",
    "pd.set_option('display.float_format', str)"
   ]
  },
  {
   "cell_type": "code",
   "execution_count": 46,
   "metadata": {},
   "outputs": [
    {
     "name": "stderr",
     "output_type": "stream",
     "text": [
      "/opt/conda/lib/python3.7/site-packages/decorator.py:231: DtypeWarning: Columns (10) have mixed types.Specify dtype option on import or set low_memory=False.\n",
      "  return caller(func, *(extras + args), **kw)\n"
     ]
    },
    {
     "name": "stdout",
     "output_type": "stream",
     "text": [
      "CPU times: user 6.99 s, sys: 647 ms, total: 7.64 s\n",
      "Wall time: 7.64 s\n"
     ]
    }
   ],
   "source": [
    "%%time\n",
    "\n",
    "tran = pd.read_csv(INPUT_PATH / 'trxn.csv')\n",
    "aum = pd.read_csv(INPUT_PATH / 'aum.csv')\n",
    "balance = pd.read_csv(INPUT_PATH / 'balance.csv')\n",
    "client = pd.read_csv(INPUT_PATH / 'client.csv')\n",
    "campaigns = pd.read_csv(INPUT_PATH / 'com.csv')\n",
    "deals = pd.read_csv(INPUT_PATH / 'deals.csv')\n",
    "dict_merchant_category_code = pd.read_csv(INPUT_PATH / 'dict_mcc.csv')\n",
    "payments = pd.read_csv(INPUT_PATH / 'payments.csv')\n",
    "funnel = pd.read_csv(INPUT_PATH / 'funnel.csv')\n",
    "appl = pd.read_csv(INPUT_PATH / 'appl.csv')"
   ]
  },
  {
   "cell_type": "code",
   "execution_count": 33,
   "metadata": {},
   "outputs": [],
   "source": [
    "def show_nan_number(df):\n",
    "    for col in df.columns:\n",
    "        print(f'NaNs for \"{col}\": {df[col].isna().sum()}')"
   ]
  },
  {
   "cell_type": "markdown",
   "metadata": {},
   "source": [
    "## Table look up"
   ]
  },
  {
   "cell_type": "code",
   "execution_count": 20,
   "metadata": {},
   "outputs": [
    {
     "name": "stdout",
     "output_type": "stream",
     "text": [
      "(3035705, 11)\n"
     ]
    },
    {
     "data": {
      "text/html": [
       "<div>\n",
       "<style scoped>\n",
       "    .dataframe tbody tr th:only-of-type {\n",
       "        vertical-align: middle;\n",
       "    }\n",
       "\n",
       "    .dataframe tbody tr th {\n",
       "        vertical-align: top;\n",
       "    }\n",
       "\n",
       "    .dataframe thead th {\n",
       "        text-align: right;\n",
       "    }\n",
       "</style>\n",
       "<table border=\"1\" class=\"dataframe\">\n",
       "  <thead>\n",
       "    <tr style=\"text-align: right;\">\n",
       "      <th></th>\n",
       "      <th>client_id</th>\n",
       "      <th>card_id</th>\n",
       "      <th>tran_time</th>\n",
       "      <th>tran_amt_rur</th>\n",
       "      <th>mcc_cd</th>\n",
       "      <th>merchant_cd</th>\n",
       "      <th>txn_country</th>\n",
       "      <th>txn_city</th>\n",
       "      <th>tsp_name</th>\n",
       "      <th>txn_comment_1</th>\n",
       "      <th>txn_comment_2</th>\n",
       "    </tr>\n",
       "  </thead>\n",
       "  <tbody>\n",
       "    <tr>\n",
       "      <th>0</th>\n",
       "      <td>-1893104556496814867</td>\n",
       "      <td>-6909844117230568380</td>\n",
       "      <td>2019-07-01 00:00:00</td>\n",
       "      <td>6071.0</td>\n",
       "      <td>6011.0</td>\n",
       "      <td>3796217713062573289</td>\n",
       "      <td>RUS</td>\n",
       "      <td>N. NOVGOROD</td>\n",
       "      <td>MOLODEZHNYY PR. DEPO</td>\n",
       "      <td>Cash withdrawal through an ATM</td>\n",
       "      <td>NaN</td>\n",
       "    </tr>\n",
       "    <tr>\n",
       "      <th>1</th>\n",
       "      <td>-1893104556496814867</td>\n",
       "      <td>-6909844117230568380</td>\n",
       "      <td>2019-07-29 00:00:00</td>\n",
       "      <td>6071.0</td>\n",
       "      <td>6011.0</td>\n",
       "      <td>3796217713062573289</td>\n",
       "      <td>RUS</td>\n",
       "      <td>N. NOVGOROD</td>\n",
       "      <td>MOLODEZHNYY PR. DEPO</td>\n",
       "      <td>Cash withdrawal through an ATM</td>\n",
       "      <td>NaN</td>\n",
       "    </tr>\n",
       "    <tr>\n",
       "      <th>2</th>\n",
       "      <td>-1893104556496814867</td>\n",
       "      <td>-6909844117230568380</td>\n",
       "      <td>2019-08-31 00:00:00</td>\n",
       "      <td>7285.0</td>\n",
       "      <td>6011.0</td>\n",
       "      <td>3796217713062573289</td>\n",
       "      <td>RUS</td>\n",
       "      <td>N. NOVGOROD</td>\n",
       "      <td>MOLODEZHNYY PR. DEPO</td>\n",
       "      <td>Cash withdrawal through an ATM</td>\n",
       "      <td>NaN</td>\n",
       "    </tr>\n",
       "    <tr>\n",
       "      <th>3</th>\n",
       "      <td>6886062013213911831</td>\n",
       "      <td>6527755410945490683</td>\n",
       "      <td>2019-08-14 10:38:33</td>\n",
       "      <td>2428.0</td>\n",
       "      <td>6011.0</td>\n",
       "      <td>-774579209084196290</td>\n",
       "      <td>RUS</td>\n",
       "      <td>RADUZHNYI</td>\n",
       "      <td>TTS SITI</td>\n",
       "      <td>Cash withdrawal through an ATM</td>\n",
       "      <td>NaN</td>\n",
       "    </tr>\n",
       "    <tr>\n",
       "      <th>4</th>\n",
       "      <td>6886062013213911831</td>\n",
       "      <td>6527755410945490683</td>\n",
       "      <td>2019-07-17 12:27:58</td>\n",
       "      <td>6071.0</td>\n",
       "      <td>6011.0</td>\n",
       "      <td>-7735007003326589238</td>\n",
       "      <td>RUS</td>\n",
       "      <td>RADUZHNYI</td>\n",
       "      <td>ODTS AGANGRAD</td>\n",
       "      <td>Cash withdrawal through an ATM</td>\n",
       "      <td>NaN</td>\n",
       "    </tr>\n",
       "  </tbody>\n",
       "</table>\n",
       "</div>"
      ],
      "text/plain": [
       "             client_id              card_id            tran_time  \\\n",
       "0 -1893104556496814867 -6909844117230568380  2019-07-01 00:00:00   \n",
       "1 -1893104556496814867 -6909844117230568380  2019-07-29 00:00:00   \n",
       "2 -1893104556496814867 -6909844117230568380  2019-08-31 00:00:00   \n",
       "3  6886062013213911831  6527755410945490683  2019-08-14 10:38:33   \n",
       "4  6886062013213911831  6527755410945490683  2019-07-17 12:27:58   \n",
       "\n",
       "   tran_amt_rur  mcc_cd          merchant_cd txn_country     txn_city  \\\n",
       "0        6071.0  6011.0  3796217713062573289         RUS  N. NOVGOROD   \n",
       "1        6071.0  6011.0  3796217713062573289         RUS  N. NOVGOROD   \n",
       "2        7285.0  6011.0  3796217713062573289         RUS  N. NOVGOROD   \n",
       "3        2428.0  6011.0  -774579209084196290         RUS    RADUZHNYI   \n",
       "4        6071.0  6011.0 -7735007003326589238         RUS    RADUZHNYI   \n",
       "\n",
       "               tsp_name                   txn_comment_1 txn_comment_2  \n",
       "0  MOLODEZHNYY PR. DEPO  Cash withdrawal through an ATM           NaN  \n",
       "1  MOLODEZHNYY PR. DEPO  Cash withdrawal through an ATM           NaN  \n",
       "2  MOLODEZHNYY PR. DEPO  Cash withdrawal through an ATM           NaN  \n",
       "3              TTS SITI  Cash withdrawal through an ATM           NaN  \n",
       "4         ODTS AGANGRAD  Cash withdrawal through an ATM           NaN  "
      ]
     },
     "execution_count": 20,
     "metadata": {},
     "output_type": "execute_result"
    }
   ],
   "source": [
    "# card operations\n",
    "print(tran.shape)\n",
    "tran.head()"
   ]
  },
  {
   "cell_type": "code",
   "execution_count": 34,
   "metadata": {},
   "outputs": [
    {
     "name": "stdout",
     "output_type": "stream",
     "text": [
      "NaNs for \"client_id\": 0\n",
      "NaNs for \"card_id\": 0\n",
      "NaNs for \"tran_time\": 0\n",
      "NaNs for \"tran_amt_rur\": 0\n",
      "NaNs for \"mcc_cd\": 132\n",
      "NaNs for \"merchant_cd\": 0\n",
      "NaNs for \"txn_country\": 0\n",
      "NaNs for \"txn_city\": 5385\n",
      "NaNs for \"tsp_name\": 2162\n",
      "NaNs for \"txn_comment_1\": 0\n",
      "NaNs for \"txn_comment_2\": 2638786\n"
     ]
    }
   ],
   "source": [
    "show_info(tran)"
   ]
  },
  {
   "cell_type": "code",
   "execution_count": 21,
   "metadata": {},
   "outputs": [
    {
     "data": {
      "text/plain": [
       "307"
      ]
     },
     "execution_count": 21,
     "metadata": {},
     "output_type": "execute_result"
    }
   ],
   "source": [
    "tran['mcc_cd'].nunique()"
   ]
  },
  {
   "cell_type": "code",
   "execution_count": 22,
   "metadata": {},
   "outputs": [
    {
     "data": {
      "text/plain": [
       "count            3035705.0\n",
       "mean     2744.739667391924\n",
       "std     15011.821343982692\n",
       "min                    0.0\n",
       "25%                  194.0\n",
       "50%                  486.0\n",
       "75%                 1275.0\n",
       "max              7527563.0\n",
       "Name: tran_amt_rur, dtype: float64"
      ]
     },
     "execution_count": 22,
     "metadata": {},
     "output_type": "execute_result"
    }
   ],
   "source": [
    "tran['tran_amt_rur'].describe()"
   ]
  },
  {
   "cell_type": "code",
   "execution_count": 25,
   "metadata": {},
   "outputs": [
    {
     "data": {
      "text/plain": [
       "785265           MAGNIT GM ISHIM\n",
       "998643       SEMYA NA SOLDATOVA.\n",
       "282047         KHIMCHISTKA NIKKO\n",
       "329737               PYATEROCHKA\n",
       "462088                 DNS ORION\n",
       "6650                         ATM\n",
       "194251        UNIQLO EVROPEYSKIY\n",
       "2523178                  MONETKA\n",
       "461368                OOO GARANT\n",
       "1608817         MAGNIT MM BOBINA\n",
       "1601680    MAGNIT GM NOVOCHERKAS\n",
       "2312451               OOO KORONA\n",
       "122749            OOO NORSITRANS\n",
       "2574033      ELEKTRONNAYA SHKOLA\n",
       "1489534               VETKLINIKA\n",
       "2310440       MAGNIT MM TOGORIYA\n",
       "2719319                  KHAGANI\n",
       "189913                  BLAGRKTS\n",
       "1741605           MAGAZIN MARIYA\n",
       "880758           ZELENYJJ OSTROV\n",
       "Name: tsp_name, dtype: object"
      ]
     },
     "execution_count": 25,
     "metadata": {},
     "output_type": "execute_result"
    }
   ],
   "source": [
    "tran['tsp_name'].sample(20)"
   ]
  },
  {
   "cell_type": "code",
   "execution_count": 36,
   "metadata": {},
   "outputs": [
    {
     "data": {
      "text/plain": [
       "2687443     Payment for goods and services\n",
       "3000285                  Cashless transfer\n",
       "849450      Payment for goods and services\n",
       "1005029     Payment for goods and services\n",
       "77669       Payment for goods and services\n",
       "2790473     Payment for goods and services\n",
       "2967359     Payment for goods and services\n",
       "989160      Payment for goods and services\n",
       "18152       Cash withdrawal through an ATM\n",
       "1424632     Payment for goods and services\n",
       "1403985     Payment for goods and services\n",
       "86406       Payment for goods and services\n",
       "2200888     Cash withdrawal through an ATM\n",
       "2496800     Payment for goods and services\n",
       "2632831     Payment for goods and services\n",
       "343637      Payment for goods and services\n",
       "2188275     Cash withdrawal through an ATM\n",
       "562360      Payment for goods and services\n",
       "602394                   Cashless transfer\n",
       "2039487    Payment by card (bank transfer)\n",
       "Name: txn_comment_1, dtype: object"
      ]
     },
     "execution_count": 36,
     "metadata": {},
     "output_type": "execute_result"
    }
   ],
   "source": [
    "tran['txn_comment_1'].sample(20)"
   ]
  },
  {
   "cell_type": "code",
   "execution_count": 43,
   "metadata": {},
   "outputs": [],
   "source": [
    "# tran[tran['tsp_name'].isna()]"
   ]
  },
  {
   "cell_type": "code",
   "execution_count": 45,
   "metadata": {},
   "outputs": [
    {
     "data": {
      "text/plain": [
       "array([nan, 'Opening Online', 'Purchase payment (web)', '<manual mode>',\n",
       "       'VISA MONEY TRANSFER', 'MASTERCARD MONEYSEND'], dtype=object)"
      ]
     },
     "execution_count": 45,
     "metadata": {},
     "output_type": "execute_result"
    }
   ],
   "source": [
    "tran['txn_comment_2'].unique()"
   ]
  },
  {
   "cell_type": "markdown",
   "metadata": {},
   "source": [
    "**Features:**\n",
    "\n",
    "* tran_amt_rur - amount of transaction\n",
    "* mcc_cd - category of merchant business type\n",
    "* tsp_name - transaction direction (who received the money)\n",
    "* txn_comment_1 - category of transaction\n",
    "* txn_comment_2 - mostly NaNs, no important info"
   ]
  },
  {
   "cell_type": "code",
   "execution_count": 53,
   "metadata": {},
   "outputs": [
    {
     "name": "stdout",
     "output_type": "stream",
     "text": [
      "(117392, 4)\n"
     ]
    },
    {
     "data": {
      "text/html": [
       "<div>\n",
       "<style scoped>\n",
       "    .dataframe tbody tr th:only-of-type {\n",
       "        vertical-align: middle;\n",
       "    }\n",
       "\n",
       "    .dataframe tbody tr th {\n",
       "        vertical-align: top;\n",
       "    }\n",
       "\n",
       "    .dataframe thead th {\n",
       "        text-align: right;\n",
       "    }\n",
       "</style>\n",
       "<table border=\"1\" class=\"dataframe\">\n",
       "  <thead>\n",
       "    <tr style=\"text-align: right;\">\n",
       "      <th></th>\n",
       "      <th>client_id</th>\n",
       "      <th>month_end_dt</th>\n",
       "      <th>balance_rur_amt</th>\n",
       "      <th>product_code</th>\n",
       "    </tr>\n",
       "  </thead>\n",
       "  <tbody>\n",
       "    <tr>\n",
       "      <th>93832</th>\n",
       "      <td>-1508650601755939053</td>\n",
       "      <td>2019-06-30</td>\n",
       "      <td>270717.0</td>\n",
       "      <td>Current accounts</td>\n",
       "    </tr>\n",
       "    <tr>\n",
       "      <th>108851</th>\n",
       "      <td>-7839767071081091401</td>\n",
       "      <td>2019-03-31</td>\n",
       "      <td>-12.0</td>\n",
       "      <td>Broker</td>\n",
       "    </tr>\n",
       "    <tr>\n",
       "      <th>49245</th>\n",
       "      <td>-6916069209097360878</td>\n",
       "      <td>2019-04-30</td>\n",
       "      <td>2.0</td>\n",
       "      <td>Current accounts</td>\n",
       "    </tr>\n",
       "    <tr>\n",
       "      <th>78988</th>\n",
       "      <td>410876916921664044</td>\n",
       "      <td>2018-12-31</td>\n",
       "      <td>4039.0</td>\n",
       "      <td>Current accounts</td>\n",
       "    </tr>\n",
       "    <tr>\n",
       "      <th>63021</th>\n",
       "      <td>-5016855139277913174</td>\n",
       "      <td>2019-08-31</td>\n",
       "      <td>42614.0</td>\n",
       "      <td>Current accounts</td>\n",
       "    </tr>\n",
       "    <tr>\n",
       "      <th>77145</th>\n",
       "      <td>-6032965162263481679</td>\n",
       "      <td>2018-12-31</td>\n",
       "      <td>2814.0</td>\n",
       "      <td>Current accounts</td>\n",
       "    </tr>\n",
       "    <tr>\n",
       "      <th>47684</th>\n",
       "      <td>-4898849990177348230</td>\n",
       "      <td>2019-07-31</td>\n",
       "      <td>271.0</td>\n",
       "      <td>Current accounts</td>\n",
       "    </tr>\n",
       "    <tr>\n",
       "      <th>87535</th>\n",
       "      <td>3349609315336606711</td>\n",
       "      <td>2019-04-30</td>\n",
       "      <td>91599.0</td>\n",
       "      <td>Current accounts</td>\n",
       "    </tr>\n",
       "    <tr>\n",
       "      <th>73794</th>\n",
       "      <td>4031854997948142514</td>\n",
       "      <td>2019-05-31</td>\n",
       "      <td>11039.0</td>\n",
       "      <td>Current accounts</td>\n",
       "    </tr>\n",
       "    <tr>\n",
       "      <th>86733</th>\n",
       "      <td>2537507496024398334</td>\n",
       "      <td>2019-08-31</td>\n",
       "      <td>325.0</td>\n",
       "      <td>Current accounts</td>\n",
       "    </tr>\n",
       "  </tbody>\n",
       "</table>\n",
       "</div>"
      ],
      "text/plain": [
       "                  client_id month_end_dt  balance_rur_amt      product_code\n",
       "93832  -1508650601755939053   2019-06-30         270717.0  Current accounts\n",
       "108851 -7839767071081091401   2019-03-31            -12.0            Broker\n",
       "49245  -6916069209097360878   2019-04-30              2.0  Current accounts\n",
       "78988    410876916921664044   2018-12-31           4039.0  Current accounts\n",
       "63021  -5016855139277913174   2019-08-31          42614.0  Current accounts\n",
       "77145  -6032965162263481679   2018-12-31           2814.0  Current accounts\n",
       "47684  -4898849990177348230   2019-07-31            271.0  Current accounts\n",
       "87535   3349609315336606711   2019-04-30          91599.0  Current accounts\n",
       "73794   4031854997948142514   2019-05-31          11039.0  Current accounts\n",
       "86733   2537507496024398334   2019-08-31            325.0  Current accounts"
      ]
     },
     "execution_count": 53,
     "metadata": {},
     "output_type": "execute_result"
    }
   ],
   "source": [
    "# Assets Under Management\n",
    "print(aum.shape)\n",
    "aum.sample(10)"
   ]
  },
  {
   "cell_type": "code",
   "execution_count": 55,
   "metadata": {},
   "outputs": [
    {
     "data": {
      "text/html": [
       "<div>\n",
       "<style scoped>\n",
       "    .dataframe tbody tr th:only-of-type {\n",
       "        vertical-align: middle;\n",
       "    }\n",
       "\n",
       "    .dataframe tbody tr th {\n",
       "        vertical-align: top;\n",
       "    }\n",
       "\n",
       "    .dataframe thead th {\n",
       "        text-align: right;\n",
       "    }\n",
       "</style>\n",
       "<table border=\"1\" class=\"dataframe\">\n",
       "  <thead>\n",
       "    <tr style=\"text-align: right;\">\n",
       "      <th></th>\n",
       "      <th>client_id</th>\n",
       "      <th>month_end_dt</th>\n",
       "      <th>balance_rur_amt</th>\n",
       "      <th>product_code</th>\n",
       "    </tr>\n",
       "  </thead>\n",
       "  <tbody>\n",
       "    <tr>\n",
       "      <th>77144</th>\n",
       "      <td>-6032965162263481679</td>\n",
       "      <td>2018-11-30</td>\n",
       "      <td>14625.0</td>\n",
       "      <td>Current accounts</td>\n",
       "    </tr>\n",
       "    <tr>\n",
       "      <th>77145</th>\n",
       "      <td>-6032965162263481679</td>\n",
       "      <td>2018-12-31</td>\n",
       "      <td>2814.0</td>\n",
       "      <td>Current accounts</td>\n",
       "    </tr>\n",
       "    <tr>\n",
       "      <th>77146</th>\n",
       "      <td>-6032965162263481679</td>\n",
       "      <td>2019-01-31</td>\n",
       "      <td>85.0</td>\n",
       "      <td>Current accounts</td>\n",
       "    </tr>\n",
       "    <tr>\n",
       "      <th>77143</th>\n",
       "      <td>-6032965162263481679</td>\n",
       "      <td>2019-02-28</td>\n",
       "      <td>907.0</td>\n",
       "      <td>Current accounts</td>\n",
       "    </tr>\n",
       "    <tr>\n",
       "      <th>77150</th>\n",
       "      <td>-6032965162263481679</td>\n",
       "      <td>2019-03-31</td>\n",
       "      <td>58.0</td>\n",
       "      <td>Current accounts</td>\n",
       "    </tr>\n",
       "    <tr>\n",
       "      <th>77141</th>\n",
       "      <td>-6032965162263481679</td>\n",
       "      <td>2019-04-30</td>\n",
       "      <td>3644.0</td>\n",
       "      <td>Current accounts</td>\n",
       "    </tr>\n",
       "    <tr>\n",
       "      <th>77147</th>\n",
       "      <td>-6032965162263481679</td>\n",
       "      <td>2019-05-31</td>\n",
       "      <td>1848.0</td>\n",
       "      <td>Current accounts</td>\n",
       "    </tr>\n",
       "    <tr>\n",
       "      <th>77142</th>\n",
       "      <td>-6032965162263481679</td>\n",
       "      <td>2019-06-30</td>\n",
       "      <td>3843.0</td>\n",
       "      <td>Current accounts</td>\n",
       "    </tr>\n",
       "    <tr>\n",
       "      <th>77148</th>\n",
       "      <td>-6032965162263481679</td>\n",
       "      <td>2019-07-31</td>\n",
       "      <td>107.0</td>\n",
       "      <td>Current accounts</td>\n",
       "    </tr>\n",
       "    <tr>\n",
       "      <th>77149</th>\n",
       "      <td>-6032965162263481679</td>\n",
       "      <td>2019-08-31</td>\n",
       "      <td>3574.0</td>\n",
       "      <td>Current accounts</td>\n",
       "    </tr>\n",
       "  </tbody>\n",
       "</table>\n",
       "</div>"
      ],
      "text/plain": [
       "                 client_id month_end_dt  balance_rur_amt      product_code\n",
       "77144 -6032965162263481679   2018-11-30          14625.0  Current accounts\n",
       "77145 -6032965162263481679   2018-12-31           2814.0  Current accounts\n",
       "77146 -6032965162263481679   2019-01-31             85.0  Current accounts\n",
       "77143 -6032965162263481679   2019-02-28            907.0  Current accounts\n",
       "77150 -6032965162263481679   2019-03-31             58.0  Current accounts\n",
       "77141 -6032965162263481679   2019-04-30           3644.0  Current accounts\n",
       "77147 -6032965162263481679   2019-05-31           1848.0  Current accounts\n",
       "77142 -6032965162263481679   2019-06-30           3843.0  Current accounts\n",
       "77148 -6032965162263481679   2019-07-31            107.0  Current accounts\n",
       "77149 -6032965162263481679   2019-08-31           3574.0  Current accounts"
      ]
     },
     "execution_count": 55,
     "metadata": {},
     "output_type": "execute_result"
    }
   ],
   "source": [
    "aum.query('client_id == -6032965162263481679').sort_values('month_end_dt')"
   ]
  },
  {
   "cell_type": "code",
   "execution_count": 57,
   "metadata": {},
   "outputs": [
    {
     "data": {
      "text/plain": [
       "array(['Current accounts', 'Broker', 'Time account', 'UK', 'NSJ', 'ILI'],\n",
       "      dtype=object)"
      ]
     },
     "execution_count": 57,
     "metadata": {},
     "output_type": "execute_result"
    }
   ],
   "source": [
    "aum['product_code'].unique()"
   ]
  },
  {
   "cell_type": "markdown",
   "metadata": {},
   "source": [
    "**Feature engineering:**\n",
    "\n",
    "* mean/median/other statistics of client balance"
   ]
  },
  {
   "cell_type": "code",
   "execution_count": 68,
   "metadata": {},
   "outputs": [
    {
     "name": "stdout",
     "output_type": "stream",
     "text": [
      "(1194684, 9)\n"
     ]
    },
    {
     "data": {
      "text/html": [
       "<div>\n",
       "<style scoped>\n",
       "    .dataframe tbody tr th:only-of-type {\n",
       "        vertical-align: middle;\n",
       "    }\n",
       "\n",
       "    .dataframe tbody tr th {\n",
       "        vertical-align: top;\n",
       "    }\n",
       "\n",
       "    .dataframe thead th {\n",
       "        text-align: right;\n",
       "    }\n",
       "</style>\n",
       "<table border=\"1\" class=\"dataframe\">\n",
       "  <thead>\n",
       "    <tr style=\"text-align: right;\">\n",
       "      <th></th>\n",
       "      <th>client_id</th>\n",
       "      <th>crncy_cd</th>\n",
       "      <th>eop_bal_sum_rur</th>\n",
       "      <th>min_bal_sum_rur</th>\n",
       "      <th>max_bal_sum_rur</th>\n",
       "      <th>avg_bal_sum_rur</th>\n",
       "      <th>month_end_dt</th>\n",
       "      <th>prod_cat_name</th>\n",
       "      <th>prod_group_name</th>\n",
       "    </tr>\n",
       "  </thead>\n",
       "  <tbody>\n",
       "    <tr>\n",
       "      <th>0</th>\n",
       "      <td>7513301859607023584</td>\n",
       "      <td>810.0</td>\n",
       "      <td>0.0</td>\n",
       "      <td>0.0</td>\n",
       "      <td>0.0</td>\n",
       "      <td>0.0</td>\n",
       "      <td>2018-09-30</td>\n",
       "      <td>CURRENT ACCOUNTS</td>\n",
       "      <td>Cash on demand</td>\n",
       "    </tr>\n",
       "    <tr>\n",
       "      <th>1</th>\n",
       "      <td>7513301859607023584</td>\n",
       "      <td>810.0</td>\n",
       "      <td>0.0</td>\n",
       "      <td>0.0</td>\n",
       "      <td>0.0</td>\n",
       "      <td>0.0</td>\n",
       "      <td>2018-09-30</td>\n",
       "      <td>CURRENT ACCOUNTS</td>\n",
       "      <td>Cash on demand</td>\n",
       "    </tr>\n",
       "    <tr>\n",
       "      <th>2</th>\n",
       "      <td>7513301859607023584</td>\n",
       "      <td>810.0</td>\n",
       "      <td>0.0</td>\n",
       "      <td>0.0</td>\n",
       "      <td>0.0</td>\n",
       "      <td>0.0</td>\n",
       "      <td>2018-09-30</td>\n",
       "      <td>CURRENT ACCOUNTS</td>\n",
       "      <td>Cash on demand</td>\n",
       "    </tr>\n",
       "    <tr>\n",
       "      <th>3</th>\n",
       "      <td>7513301859607023584</td>\n",
       "      <td>810.0</td>\n",
       "      <td>0.0</td>\n",
       "      <td>0.0</td>\n",
       "      <td>0.0</td>\n",
       "      <td>0.0</td>\n",
       "      <td>2018-09-30</td>\n",
       "      <td>CURRENT ACCOUNTS</td>\n",
       "      <td>Cash on demand</td>\n",
       "    </tr>\n",
       "    <tr>\n",
       "      <th>4</th>\n",
       "      <td>7513301859607023584</td>\n",
       "      <td>810.0</td>\n",
       "      <td>0.0</td>\n",
       "      <td>0.0</td>\n",
       "      <td>0.0</td>\n",
       "      <td>0.0</td>\n",
       "      <td>2018-09-30</td>\n",
       "      <td>CURRENT ACCOUNTS</td>\n",
       "      <td>Cash on demand</td>\n",
       "    </tr>\n",
       "  </tbody>\n",
       "</table>\n",
       "</div>"
      ],
      "text/plain": [
       "             client_id  crncy_cd  eop_bal_sum_rur  min_bal_sum_rur  \\\n",
       "0  7513301859607023584     810.0              0.0              0.0   \n",
       "1  7513301859607023584     810.0              0.0              0.0   \n",
       "2  7513301859607023584     810.0              0.0              0.0   \n",
       "3  7513301859607023584     810.0              0.0              0.0   \n",
       "4  7513301859607023584     810.0              0.0              0.0   \n",
       "\n",
       "   max_bal_sum_rur  avg_bal_sum_rur month_end_dt     prod_cat_name  \\\n",
       "0              0.0              0.0   2018-09-30  CURRENT ACCOUNTS   \n",
       "1              0.0              0.0   2018-09-30  CURRENT ACCOUNTS   \n",
       "2              0.0              0.0   2018-09-30  CURRENT ACCOUNTS   \n",
       "3              0.0              0.0   2018-09-30  CURRENT ACCOUNTS   \n",
       "4              0.0              0.0   2018-09-30  CURRENT ACCOUNTS   \n",
       "\n",
       "  prod_group_name  \n",
       "0  Cash on demand  \n",
       "1  Cash on demand  \n",
       "2  Cash on demand  \n",
       "3  Cash on demand  \n",
       "4  Cash on demand  "
      ]
     },
     "execution_count": 68,
     "metadata": {},
     "output_type": "execute_result"
    }
   ],
   "source": [
    "# Client balance\n",
    "print(balance.shape)\n",
    "balance.head()"
   ]
  },
  {
   "cell_type": "code",
   "execution_count": 70,
   "metadata": {},
   "outputs": [
    {
     "data": {
      "text/plain": [
       "array(['CURRENT ACCOUNTS', 'DEPOSITS', 'Cash on demand',\n",
       "       'URGENT DEPOSITS BIN', 'SALARY CARDS', 'KN', 'DEBIT CARDS',\n",
       "       'VIP DEBIT CARDS', 'CASH CREDITS (X-SALE)', 'CREDITS IN CASH OR',\n",
       "       'LENDING SALARY CLIENTS', 'LOANS FOR EMPLOYEES', nan,\n",
       "       'CREDIT CARDS', 'VIP CREDIT CARDS', 'PREAD MAP', 'TECHNICAL CARDS',\n",
       "       'MORTGAGE', 'OTHER MORTGAGE', 'CAR LOANS'], dtype=object)"
      ]
     },
     "execution_count": 70,
     "metadata": {},
     "output_type": "execute_result"
    }
   ],
   "source": [
    "balance['prod_cat_name'].unique()"
   ]
  },
  {
   "cell_type": "code",
   "execution_count": 71,
   "metadata": {},
   "outputs": [
    {
     "data": {
      "text/plain": [
       "array(['Cash on demand', 'Time deposits', 'Salary cards', 'Debit cards',\n",
       "       'PILS', nan, 'Open_card credit card', 'Credit card other', 'POS',\n",
       "       'Credit card 120 days', 'Prepaid cards', 'Technical cards',\n",
       "       'Mortgage', 'Car loans'], dtype=object)"
      ]
     },
     "execution_count": 71,
     "metadata": {},
     "output_type": "execute_result"
    }
   ],
   "source": [
    "balance['prod_group_name'].unique()"
   ]
  },
  {
   "cell_type": "code",
   "execution_count": 74,
   "metadata": {},
   "outputs": [
    {
     "data": {
      "text/plain": [
       "8"
      ]
     },
     "execution_count": 74,
     "metadata": {},
     "output_type": "execute_result"
    }
   ],
   "source": [
    "balance.query('prod_cat_name == \"KN\"').prod_group_name.nunique()"
   ]
  },
  {
   "cell_type": "code",
   "execution_count": 75,
   "metadata": {},
   "outputs": [
    {
     "data": {
      "text/plain": [
       "3"
      ]
     },
     "execution_count": 75,
     "metadata": {},
     "output_type": "execute_result"
    }
   ],
   "source": [
    "balance.query('prod_group_name == \"Debit cards\"').prod_cat_name.nunique()"
   ]
  },
  {
   "cell_type": "code",
   "execution_count": 78,
   "metadata": {},
   "outputs": [
    {
     "name": "stdout",
     "output_type": "stream",
     "text": [
      "NaNs for \"client_id\": 0\n",
      "NaNs for \"crncy_cd\": 888\n",
      "NaNs for \"eop_bal_sum_rur\": 0\n",
      "NaNs for \"min_bal_sum_rur\": 0\n",
      "NaNs for \"max_bal_sum_rur\": 0\n",
      "NaNs for \"avg_bal_sum_rur\": 0\n",
      "NaNs for \"month_end_dt\": 0\n",
      "NaNs for \"prod_cat_name\": 1890\n",
      "NaNs for \"prod_group_name\": 96080\n"
     ]
    }
   ],
   "source": [
    "show_nan_number(balance)"
   ]
  },
  {
   "cell_type": "code",
   "execution_count": null,
   "metadata": {},
   "outputs": [],
   "source": []
  },
  {
   "cell_type": "code",
   "execution_count": 26,
   "metadata": {},
   "outputs": [
    {
     "name": "stdout",
     "output_type": "stream",
     "text": [
      "(21498, 8)\n"
     ]
    },
    {
     "data": {
      "text/html": [
       "<div>\n",
       "<style scoped>\n",
       "    .dataframe tbody tr th:only-of-type {\n",
       "        vertical-align: middle;\n",
       "    }\n",
       "\n",
       "    .dataframe tbody tr th {\n",
       "        vertical-align: top;\n",
       "    }\n",
       "\n",
       "    .dataframe thead th {\n",
       "        text-align: right;\n",
       "    }\n",
       "</style>\n",
       "<table border=\"1\" class=\"dataframe\">\n",
       "  <thead>\n",
       "    <tr style=\"text-align: right;\">\n",
       "      <th></th>\n",
       "      <th>client_id</th>\n",
       "      <th>gender</th>\n",
       "      <th>age</th>\n",
       "      <th>region</th>\n",
       "      <th>city</th>\n",
       "      <th>citizenship</th>\n",
       "      <th>education</th>\n",
       "      <th>job_type</th>\n",
       "    </tr>\n",
       "  </thead>\n",
       "  <tbody>\n",
       "    <tr>\n",
       "      <th>0</th>\n",
       "      <td>7513301859607023584</td>\n",
       "      <td>F</td>\n",
       "      <td>33.0</td>\n",
       "      <td>0</td>\n",
       "      <td>115</td>\n",
       "      <td>RUSSIA</td>\n",
       "      <td>NaN</td>\n",
       "      <td>NaN</td>\n",
       "    </tr>\n",
       "    <tr>\n",
       "      <th>1</th>\n",
       "      <td>9157009756404187626</td>\n",
       "      <td>F</td>\n",
       "      <td>59.0</td>\n",
       "      <td>17</td>\n",
       "      <td>668</td>\n",
       "      <td>RUSSIA</td>\n",
       "      <td>NaN</td>\n",
       "      <td>NaN</td>\n",
       "    </tr>\n",
       "    <tr>\n",
       "      <th>2</th>\n",
       "      <td>-1893104556496814867</td>\n",
       "      <td>M</td>\n",
       "      <td>51.0</td>\n",
       "      <td>28</td>\n",
       "      <td>65</td>\n",
       "      <td>RUSSIA</td>\n",
       "      <td>NaN</td>\n",
       "      <td>NaN</td>\n",
       "    </tr>\n",
       "    <tr>\n",
       "      <th>3</th>\n",
       "      <td>6886062013213911831</td>\n",
       "      <td>F</td>\n",
       "      <td>56.0</td>\n",
       "      <td>0</td>\n",
       "      <td>40</td>\n",
       "      <td>RUSSIA</td>\n",
       "      <td>NaN</td>\n",
       "      <td>NaN</td>\n",
       "    </tr>\n",
       "    <tr>\n",
       "      <th>4</th>\n",
       "      <td>-8156468515495593794</td>\n",
       "      <td>F</td>\n",
       "      <td>34.0</td>\n",
       "      <td>-1</td>\n",
       "      <td>-1</td>\n",
       "      <td>RUSSIA</td>\n",
       "      <td>HIGHER_PROFESSIONAL</td>\n",
       "      <td>NaN</td>\n",
       "    </tr>\n",
       "  </tbody>\n",
       "</table>\n",
       "</div>"
      ],
      "text/plain": [
       "             client_id gender   age  region  city citizenship  \\\n",
       "0  7513301859607023584      F  33.0       0   115      RUSSIA   \n",
       "1  9157009756404187626      F  59.0      17   668      RUSSIA   \n",
       "2 -1893104556496814867      M  51.0      28    65      RUSSIA   \n",
       "3  6886062013213911831      F  56.0       0    40      RUSSIA   \n",
       "4 -8156468515495593794      F  34.0      -1    -1      RUSSIA   \n",
       "\n",
       "             education job_type  \n",
       "0                  NaN      NaN  \n",
       "1                  NaN      NaN  \n",
       "2                  NaN      NaN  \n",
       "3                  NaN      NaN  \n",
       "4  HIGHER_PROFESSIONAL      NaN  "
      ]
     },
     "execution_count": 26,
     "metadata": {},
     "output_type": "execute_result"
    }
   ],
   "source": [
    "# Client features\n",
    "print(client.shape)\n",
    "client.head()"
   ]
  },
  {
   "cell_type": "code",
   "execution_count": 76,
   "metadata": {},
   "outputs": [
    {
     "data": {
      "text/plain": [
       "(21498, 16)"
      ]
     },
     "execution_count": 76,
     "metadata": {},
     "output_type": "execute_result"
    }
   ],
   "source": [
    "funnel.shape"
   ]
  },
  {
   "cell_type": "code",
   "execution_count": 77,
   "metadata": {},
   "outputs": [
    {
     "name": "stdout",
     "output_type": "stream",
     "text": [
      "NaNs for \"client_id\": 0\n",
      "NaNs for \"gender\": 3\n",
      "NaNs for \"age\": 3\n",
      "NaNs for \"region\": 0\n",
      "NaNs for \"city\": 0\n",
      "NaNs for \"citizenship\": 5\n",
      "NaNs for \"education\": 12218\n",
      "NaNs for \"job_type\": 21423\n"
     ]
    }
   ],
   "source": [
    "show_nan_number(client)"
   ]
  },
  {
   "cell_type": "code",
   "execution_count": 79,
   "metadata": {},
   "outputs": [
    {
     "name": "stdout",
     "output_type": "stream",
     "text": [
      "(113055, 10)\n"
     ]
    },
    {
     "data": {
      "text/html": [
       "<div>\n",
       "<style scoped>\n",
       "    .dataframe tbody tr th:only-of-type {\n",
       "        vertical-align: middle;\n",
       "    }\n",
       "\n",
       "    .dataframe tbody tr th {\n",
       "        vertical-align: top;\n",
       "    }\n",
       "\n",
       "    .dataframe thead th {\n",
       "        text-align: right;\n",
       "    }\n",
       "</style>\n",
       "<table border=\"1\" class=\"dataframe\">\n",
       "  <thead>\n",
       "    <tr style=\"text-align: right;\">\n",
       "      <th></th>\n",
       "      <th>client_id</th>\n",
       "      <th>agr_flg</th>\n",
       "      <th>otkaz</th>\n",
       "      <th>dumaet</th>\n",
       "      <th>ring_up_flg</th>\n",
       "      <th>not_ring_up_flg</th>\n",
       "      <th>count_comm</th>\n",
       "      <th>month_end_dt</th>\n",
       "      <th>channel</th>\n",
       "      <th>prod</th>\n",
       "    </tr>\n",
       "  </thead>\n",
       "  <tbody>\n",
       "    <tr>\n",
       "      <th>0</th>\n",
       "      <td>7513301859607023584</td>\n",
       "      <td>0</td>\n",
       "      <td>0</td>\n",
       "      <td>0</td>\n",
       "      <td>0</td>\n",
       "      <td>2</td>\n",
       "      <td>2</td>\n",
       "      <td>2018-12-31</td>\n",
       "      <td>CALL</td>\n",
       "      <td>Credit Card</td>\n",
       "    </tr>\n",
       "    <tr>\n",
       "      <th>1</th>\n",
       "      <td>7513301859607023584</td>\n",
       "      <td>0</td>\n",
       "      <td>0</td>\n",
       "      <td>0</td>\n",
       "      <td>0</td>\n",
       "      <td>2</td>\n",
       "      <td>2</td>\n",
       "      <td>2019-02-28</td>\n",
       "      <td>CALL</td>\n",
       "      <td>Credit Card</td>\n",
       "    </tr>\n",
       "    <tr>\n",
       "      <th>2</th>\n",
       "      <td>-8079817404148237243</td>\n",
       "      <td>0</td>\n",
       "      <td>0</td>\n",
       "      <td>0</td>\n",
       "      <td>2</td>\n",
       "      <td>0</td>\n",
       "      <td>2</td>\n",
       "      <td>2019-08-31</td>\n",
       "      <td>CALL</td>\n",
       "      <td>Credit Card</td>\n",
       "    </tr>\n",
       "    <tr>\n",
       "      <th>3</th>\n",
       "      <td>-8079817404148237243</td>\n",
       "      <td>0</td>\n",
       "      <td>0</td>\n",
       "      <td>0</td>\n",
       "      <td>2</td>\n",
       "      <td>0</td>\n",
       "      <td>2</td>\n",
       "      <td>2019-03-31</td>\n",
       "      <td>CALL</td>\n",
       "      <td>Credit Card</td>\n",
       "    </tr>\n",
       "    <tr>\n",
       "      <th>4</th>\n",
       "      <td>2897849887287086776</td>\n",
       "      <td>0</td>\n",
       "      <td>0</td>\n",
       "      <td>0</td>\n",
       "      <td>0</td>\n",
       "      <td>16</td>\n",
       "      <td>16</td>\n",
       "      <td>2019-02-28</td>\n",
       "      <td>CALL</td>\n",
       "      <td>Credit Card</td>\n",
       "    </tr>\n",
       "  </tbody>\n",
       "</table>\n",
       "</div>"
      ],
      "text/plain": [
       "             client_id  agr_flg  otkaz  dumaet  ring_up_flg  not_ring_up_flg  \\\n",
       "0  7513301859607023584        0      0       0            0                2   \n",
       "1  7513301859607023584        0      0       0            0                2   \n",
       "2 -8079817404148237243        0      0       0            2                0   \n",
       "3 -8079817404148237243        0      0       0            2                0   \n",
       "4  2897849887287086776        0      0       0            0               16   \n",
       "\n",
       "   count_comm month_end_dt channel         prod  \n",
       "0           2   2018-12-31    CALL  Credit Card  \n",
       "1           2   2019-02-28    CALL  Credit Card  \n",
       "2           2   2019-08-31    CALL  Credit Card  \n",
       "3           2   2019-03-31    CALL  Credit Card  \n",
       "4          16   2019-02-28    CALL  Credit Card  "
      ]
     },
     "execution_count": 79,
     "metadata": {},
     "output_type": "execute_result"
    }
   ],
   "source": [
    "# previous campaigns for the client\n",
    "print(campaigns.shape)\n",
    "campaigns.head()"
   ]
  },
  {
   "cell_type": "code",
   "execution_count": 83,
   "metadata": {},
   "outputs": [
    {
     "data": {
      "text/plain": [
       "0.01736323028614391"
      ]
     },
     "execution_count": 83,
     "metadata": {},
     "output_type": "execute_result"
    }
   ],
   "source": [
    "campaigns.agr_flg.mean()"
   ]
  },
  {
   "cell_type": "code",
   "execution_count": 85,
   "metadata": {},
   "outputs": [
    {
     "data": {
      "text/plain": [
       "0.13033479279996463"
      ]
     },
     "execution_count": 85,
     "metadata": {},
     "output_type": "execute_result"
    }
   ],
   "source": [
    "campaigns.otkaz.mean()"
   ]
  },
  {
   "cell_type": "code",
   "execution_count": 86,
   "metadata": {},
   "outputs": [
    {
     "data": {
      "text/plain": [
       "0.014178939454247932"
      ]
     },
     "execution_count": 86,
     "metadata": {},
     "output_type": "execute_result"
    }
   ],
   "source": [
    "campaigns.dumaet.mean()"
   ]
  },
  {
   "cell_type": "markdown",
   "metadata": {},
   "source": [
    "**Feature engineering:**\n",
    "\n",
    "* Number of previous attempts for each clients"
   ]
  },
  {
   "cell_type": "code",
   "execution_count": 28,
   "metadata": {},
   "outputs": [
    {
     "name": "stdout",
     "output_type": "stream",
     "text": [
      "(109016, 8)\n"
     ]
    },
    {
     "data": {
      "text/html": [
       "<div>\n",
       "<style scoped>\n",
       "    .dataframe tbody tr th:only-of-type {\n",
       "        vertical-align: middle;\n",
       "    }\n",
       "\n",
       "    .dataframe tbody tr th {\n",
       "        vertical-align: top;\n",
       "    }\n",
       "\n",
       "    .dataframe thead th {\n",
       "        text-align: right;\n",
       "    }\n",
       "</style>\n",
       "<table border=\"1\" class=\"dataframe\">\n",
       "  <thead>\n",
       "    <tr style=\"text-align: right;\">\n",
       "      <th></th>\n",
       "      <th>client_id</th>\n",
       "      <th>agrmnt_start_dt</th>\n",
       "      <th>agrmnt_close_dt</th>\n",
       "      <th>crncy_cd</th>\n",
       "      <th>agrmnt_rate_active</th>\n",
       "      <th>agrmnt_rate_passive</th>\n",
       "      <th>agrmnt_sum_rur</th>\n",
       "      <th>prod_type_name</th>\n",
       "    </tr>\n",
       "  </thead>\n",
       "  <tbody>\n",
       "    <tr>\n",
       "      <th>0</th>\n",
       "      <td>7513301859607023584</td>\n",
       "      <td>2010-08-12</td>\n",
       "      <td>2014-10-30</td>\n",
       "      <td>810.0</td>\n",
       "      <td>NaN</td>\n",
       "      <td>NaN</td>\n",
       "      <td>0.0</td>\n",
       "      <td>Cash on demand</td>\n",
       "    </tr>\n",
       "    <tr>\n",
       "      <th>1</th>\n",
       "      <td>7513301859607023584</td>\n",
       "      <td>2013-02-15</td>\n",
       "      <td>2013-08-16</td>\n",
       "      <td>810.0</td>\n",
       "      <td>NaN</td>\n",
       "      <td>NaN</td>\n",
       "      <td>0.0</td>\n",
       "      <td>Cash on demand</td>\n",
       "    </tr>\n",
       "    <tr>\n",
       "      <th>2</th>\n",
       "      <td>7513301859607023584</td>\n",
       "      <td>2013-08-16</td>\n",
       "      <td>2014-02-14</td>\n",
       "      <td>810.0</td>\n",
       "      <td>NaN</td>\n",
       "      <td>NaN</td>\n",
       "      <td>0.0</td>\n",
       "      <td>Cash on demand</td>\n",
       "    </tr>\n",
       "    <tr>\n",
       "      <th>3</th>\n",
       "      <td>7513301859607023584</td>\n",
       "      <td>2015-07-12</td>\n",
       "      <td>2015-07-12</td>\n",
       "      <td>810.0</td>\n",
       "      <td>NaN</td>\n",
       "      <td>NaN</td>\n",
       "      <td>0.0</td>\n",
       "      <td>Cash on demand</td>\n",
       "    </tr>\n",
       "    <tr>\n",
       "      <th>4</th>\n",
       "      <td>7513301859607023584</td>\n",
       "      <td>2015-07-12</td>\n",
       "      <td>2015-07-12</td>\n",
       "      <td>810.0</td>\n",
       "      <td>NaN</td>\n",
       "      <td>NaN</td>\n",
       "      <td>0.0</td>\n",
       "      <td>Cash on demand</td>\n",
       "    </tr>\n",
       "  </tbody>\n",
       "</table>\n",
       "</div>"
      ],
      "text/plain": [
       "             client_id agrmnt_start_dt agrmnt_close_dt  crncy_cd  \\\n",
       "0  7513301859607023584      2010-08-12      2014-10-30     810.0   \n",
       "1  7513301859607023584      2013-02-15      2013-08-16     810.0   \n",
       "2  7513301859607023584      2013-08-16      2014-02-14     810.0   \n",
       "3  7513301859607023584      2015-07-12      2015-07-12     810.0   \n",
       "4  7513301859607023584      2015-07-12      2015-07-12     810.0   \n",
       "\n",
       "   agrmnt_rate_active  agrmnt_rate_passive  agrmnt_sum_rur  prod_type_name  \n",
       "0                 NaN                  NaN             0.0  Cash on demand  \n",
       "1                 NaN                  NaN             0.0  Cash on demand  \n",
       "2                 NaN                  NaN             0.0  Cash on demand  \n",
       "3                 NaN                  NaN             0.0  Cash on demand  \n",
       "4                 NaN                  NaN             0.0  Cash on demand  "
      ]
     },
     "execution_count": 28,
     "metadata": {},
     "output_type": "execute_result"
    }
   ],
   "source": [
    "# deals - ??\n",
    "print(deals.shape)\n",
    "deals.head()"
   ]
  },
  {
   "cell_type": "code",
   "execution_count": 88,
   "metadata": {},
   "outputs": [
    {
     "name": "stdout",
     "output_type": "stream",
     "text": [
      "NaNs for \"client_id\": 0\n",
      "NaNs for \"agrmnt_start_dt\": 0\n",
      "NaNs for \"agrmnt_close_dt\": 41789\n",
      "NaNs for \"crncy_cd\": 77\n",
      "NaNs for \"agrmnt_rate_active\": 78890\n",
      "NaNs for \"agrmnt_rate_passive\": 60279\n",
      "NaNs for \"agrmnt_sum_rur\": 3601\n",
      "NaNs for \"prod_type_name\": 8626\n"
     ]
    }
   ],
   "source": [
    "show_nan_number(deals)"
   ]
  },
  {
   "cell_type": "code",
   "execution_count": 29,
   "metadata": {},
   "outputs": [
    {
     "name": "stdout",
     "output_type": "stream",
     "text": [
      "(915, 3)\n"
     ]
    },
    {
     "data": {
      "text/html": [
       "<div>\n",
       "<style scoped>\n",
       "    .dataframe tbody tr th:only-of-type {\n",
       "        vertical-align: middle;\n",
       "    }\n",
       "\n",
       "    .dataframe tbody tr th {\n",
       "        vertical-align: top;\n",
       "    }\n",
       "\n",
       "    .dataframe thead th {\n",
       "        text-align: right;\n",
       "    }\n",
       "</style>\n",
       "<table border=\"1\" class=\"dataframe\">\n",
       "  <thead>\n",
       "    <tr style=\"text-align: right;\">\n",
       "      <th></th>\n",
       "      <th>mcc_cd</th>\n",
       "      <th>brs_mcc_group</th>\n",
       "      <th>brs_mcc_subgroup</th>\n",
       "    </tr>\n",
       "  </thead>\n",
       "  <tbody>\n",
       "    <tr>\n",
       "      <th>0</th>\n",
       "      <td>3658</td>\n",
       "      <td>Travel</td>\n",
       "      <td>Hotels</td>\n",
       "    </tr>\n",
       "    <tr>\n",
       "      <th>1</th>\n",
       "      <td>3659</td>\n",
       "      <td>Travel</td>\n",
       "      <td>Hotels</td>\n",
       "    </tr>\n",
       "    <tr>\n",
       "      <th>2</th>\n",
       "      <td>3660</td>\n",
       "      <td>Travel</td>\n",
       "      <td>Hotels</td>\n",
       "    </tr>\n",
       "    <tr>\n",
       "      <th>3</th>\n",
       "      <td>3661</td>\n",
       "      <td>Travel</td>\n",
       "      <td>Hotels</td>\n",
       "    </tr>\n",
       "    <tr>\n",
       "      <th>4</th>\n",
       "      <td>3662</td>\n",
       "      <td>Travel</td>\n",
       "      <td>Hotels</td>\n",
       "    </tr>\n",
       "  </tbody>\n",
       "</table>\n",
       "</div>"
      ],
      "text/plain": [
       "   mcc_cd brs_mcc_group brs_mcc_subgroup\n",
       "0    3658        Travel           Hotels\n",
       "1    3659        Travel           Hotels\n",
       "2    3660        Travel           Hotels\n",
       "3    3661        Travel           Hotels\n",
       "4    3662        Travel           Hotels"
      ]
     },
     "execution_count": 29,
     "metadata": {},
     "output_type": "execute_result"
    }
   ],
   "source": [
    "# merchant category mapping to group_name and subgroup_name\n",
    "print(dict_merchant_category_code.shape)\n",
    "dict_merchant_category_code.head()"
   ]
  },
  {
   "cell_type": "code",
   "execution_count": 30,
   "metadata": {},
   "outputs": [
    {
     "name": "stdout",
     "output_type": "stream",
     "text": [
      "(188068, 4)\n"
     ]
    },
    {
     "data": {
      "text/html": [
       "<div>\n",
       "<style scoped>\n",
       "    .dataframe tbody tr th:only-of-type {\n",
       "        vertical-align: middle;\n",
       "    }\n",
       "\n",
       "    .dataframe tbody tr th {\n",
       "        vertical-align: top;\n",
       "    }\n",
       "\n",
       "    .dataframe thead th {\n",
       "        text-align: right;\n",
       "    }\n",
       "</style>\n",
       "<table border=\"1\" class=\"dataframe\">\n",
       "  <thead>\n",
       "    <tr style=\"text-align: right;\">\n",
       "      <th></th>\n",
       "      <th>client_id</th>\n",
       "      <th>day_dt</th>\n",
       "      <th>sum_rur</th>\n",
       "      <th>pmnts_name</th>\n",
       "    </tr>\n",
       "  </thead>\n",
       "  <tbody>\n",
       "    <tr>\n",
       "      <th>0</th>\n",
       "      <td>-1893104556496814867</td>\n",
       "      <td>2019-06-29</td>\n",
       "      <td>6071.0</td>\n",
       "      <td>Salary receipts</td>\n",
       "    </tr>\n",
       "    <tr>\n",
       "      <th>1</th>\n",
       "      <td>-1893104556496814867</td>\n",
       "      <td>2019-08-13</td>\n",
       "      <td>45641.0</td>\n",
       "      <td>Salary receipts</td>\n",
       "    </tr>\n",
       "    <tr>\n",
       "      <th>2</th>\n",
       "      <td>-1893104556496814867</td>\n",
       "      <td>2018-10-22</td>\n",
       "      <td>6071.0</td>\n",
       "      <td>Salary receipts</td>\n",
       "    </tr>\n",
       "    <tr>\n",
       "      <th>3</th>\n",
       "      <td>-1893104556496814867</td>\n",
       "      <td>2018-09-26</td>\n",
       "      <td>6071.0</td>\n",
       "      <td>Salary receipts</td>\n",
       "    </tr>\n",
       "    <tr>\n",
       "      <th>4</th>\n",
       "      <td>-1893104556496814867</td>\n",
       "      <td>2018-09-10</td>\n",
       "      <td>5872.0</td>\n",
       "      <td>Salary receipts</td>\n",
       "    </tr>\n",
       "  </tbody>\n",
       "</table>\n",
       "</div>"
      ],
      "text/plain": [
       "             client_id      day_dt  sum_rur       pmnts_name\n",
       "0 -1893104556496814867  2019-06-29   6071.0  Salary receipts\n",
       "1 -1893104556496814867  2019-08-13  45641.0  Salary receipts\n",
       "2 -1893104556496814867  2018-10-22   6071.0  Salary receipts\n",
       "3 -1893104556496814867  2018-09-26   6071.0  Salary receipts\n",
       "4 -1893104556496814867  2018-09-10   5872.0  Salary receipts"
      ]
     },
     "execution_count": 30,
     "metadata": {},
     "output_type": "execute_result"
    }
   ],
   "source": [
    "# client salary + pension payments\n",
    "print(payments.shape)\n",
    "payments.head()"
   ]
  },
  {
   "cell_type": "code",
   "execution_count": 31,
   "metadata": {},
   "outputs": [
    {
     "name": "stdout",
     "output_type": "stream",
     "text": [
      "(21498, 16)\n"
     ]
    },
    {
     "data": {
      "text/html": [
       "<div>\n",
       "<style scoped>\n",
       "    .dataframe tbody tr th:only-of-type {\n",
       "        vertical-align: middle;\n",
       "    }\n",
       "\n",
       "    .dataframe tbody tr th {\n",
       "        vertical-align: top;\n",
       "    }\n",
       "\n",
       "    .dataframe thead th {\n",
       "        text-align: right;\n",
       "    }\n",
       "</style>\n",
       "<table border=\"1\" class=\"dataframe\">\n",
       "  <thead>\n",
       "    <tr style=\"text-align: right;\">\n",
       "      <th></th>\n",
       "      <th>client_id</th>\n",
       "      <th>sale_flg</th>\n",
       "      <th>sale_amount</th>\n",
       "      <th>contacts</th>\n",
       "      <th>feature_1</th>\n",
       "      <th>client_segment</th>\n",
       "      <th>feature_2</th>\n",
       "      <th>feature_3</th>\n",
       "      <th>feature_4</th>\n",
       "      <th>feature_5</th>\n",
       "      <th>feature_6</th>\n",
       "      <th>feature_7</th>\n",
       "      <th>feature_8</th>\n",
       "      <th>feature_9</th>\n",
       "      <th>feature_10</th>\n",
       "      <th>region_cd</th>\n",
       "    </tr>\n",
       "  </thead>\n",
       "  <tbody>\n",
       "    <tr>\n",
       "      <th>0</th>\n",
       "      <td>7513301859607023584</td>\n",
       "      <td>0</td>\n",
       "      <td>NaN</td>\n",
       "      <td>1</td>\n",
       "      <td>7</td>\n",
       "      <td>13.0</td>\n",
       "      <td>571533.0</td>\n",
       "      <td>15717.0</td>\n",
       "      <td>0.0</td>\n",
       "      <td>0.0</td>\n",
       "      <td>0.0</td>\n",
       "      <td>571852.0</td>\n",
       "      <td>472605.0</td>\n",
       "      <td>10.4</td>\n",
       "      <td>12548.0</td>\n",
       "      <td>86.0</td>\n",
       "    </tr>\n",
       "    <tr>\n",
       "      <th>1</th>\n",
       "      <td>9157009756404187626</td>\n",
       "      <td>0</td>\n",
       "      <td>NaN</td>\n",
       "      <td>1</td>\n",
       "      <td>3</td>\n",
       "      <td>13.0</td>\n",
       "      <td>3642369.0</td>\n",
       "      <td>94787.0</td>\n",
       "      <td>0.0</td>\n",
       "      <td>0.0</td>\n",
       "      <td>84823.0</td>\n",
       "      <td>3642369.0</td>\n",
       "      <td>3314257.0</td>\n",
       "      <td>8.9</td>\n",
       "      <td>77210.0</td>\n",
       "      <td>2.0</td>\n",
       "    </tr>\n",
       "    <tr>\n",
       "      <th>2</th>\n",
       "      <td>-1893104556496814867</td>\n",
       "      <td>0</td>\n",
       "      <td>NaN</td>\n",
       "      <td>1</td>\n",
       "      <td>5</td>\n",
       "      <td>16.0</td>\n",
       "      <td>352826.0</td>\n",
       "      <td>5500.0</td>\n",
       "      <td>0.0</td>\n",
       "      <td>6822.0</td>\n",
       "      <td>0.0</td>\n",
       "      <td>265893.0</td>\n",
       "      <td>204534.0</td>\n",
       "      <td>8.9</td>\n",
       "      <td>5508.0</td>\n",
       "      <td>52.0</td>\n",
       "    </tr>\n",
       "    <tr>\n",
       "      <th>3</th>\n",
       "      <td>6886062013213911831</td>\n",
       "      <td>0</td>\n",
       "      <td>NaN</td>\n",
       "      <td>1</td>\n",
       "      <td>4</td>\n",
       "      <td>3.0</td>\n",
       "      <td>6070615.0</td>\n",
       "      <td>40580.0</td>\n",
       "      <td>0.0</td>\n",
       "      <td>30401.0</td>\n",
       "      <td>0.0</td>\n",
       "      <td>2005731.0</td>\n",
       "      <td>1825051.0</td>\n",
       "      <td>7.9</td>\n",
       "      <td>40583.0</td>\n",
       "      <td>86.0</td>\n",
       "    </tr>\n",
       "    <tr>\n",
       "      <th>4</th>\n",
       "      <td>-8156468515495593794</td>\n",
       "      <td>1</td>\n",
       "      <td>138018.05</td>\n",
       "      <td>1</td>\n",
       "      <td>7</td>\n",
       "      <td>14.0</td>\n",
       "      <td>3642369.0</td>\n",
       "      <td>97156.0</td>\n",
       "      <td>81488.0</td>\n",
       "      <td>0.0</td>\n",
       "      <td>160308.0</td>\n",
       "      <td>3642369.0</td>\n",
       "      <td>3314257.0</td>\n",
       "      <td>10.4</td>\n",
       "      <td>78108.0</td>\n",
       "      <td>27.0</td>\n",
       "    </tr>\n",
       "  </tbody>\n",
       "</table>\n",
       "</div>"
      ],
      "text/plain": [
       "             client_id  sale_flg  sale_amount  contacts  feature_1  \\\n",
       "0  7513301859607023584         0          NaN         1          7   \n",
       "1  9157009756404187626         0          NaN         1          3   \n",
       "2 -1893104556496814867         0          NaN         1          5   \n",
       "3  6886062013213911831         0          NaN         1          4   \n",
       "4 -8156468515495593794         1    138018.05         1          7   \n",
       "\n",
       "   client_segment  feature_2  feature_3  feature_4  feature_5  feature_6  \\\n",
       "0            13.0   571533.0    15717.0        0.0        0.0        0.0   \n",
       "1            13.0  3642369.0    94787.0        0.0        0.0    84823.0   \n",
       "2            16.0   352826.0     5500.0        0.0     6822.0        0.0   \n",
       "3             3.0  6070615.0    40580.0        0.0    30401.0        0.0   \n",
       "4            14.0  3642369.0    97156.0    81488.0        0.0   160308.0   \n",
       "\n",
       "   feature_7  feature_8  feature_9  feature_10  region_cd  \n",
       "0   571852.0   472605.0       10.4     12548.0       86.0  \n",
       "1  3642369.0  3314257.0        8.9     77210.0        2.0  \n",
       "2   265893.0   204534.0        8.9      5508.0       52.0  \n",
       "3  2005731.0  1825051.0        7.9     40583.0       86.0  \n",
       "4  3642369.0  3314257.0       10.4     78108.0       27.0  "
      ]
     },
     "execution_count": 31,
     "metadata": {},
     "output_type": "execute_result"
    }
   ],
   "source": [
    "# primary target data and anonimised features\n",
    "print(funnel.shape)\n",
    "funnel.head()"
   ]
  },
  {
   "cell_type": "code",
   "execution_count": 8,
   "metadata": {},
   "outputs": [
    {
     "name": "stdout",
     "output_type": "stream",
     "text": [
      "(12030, 6)\n"
     ]
    },
    {
     "data": {
      "text/html": [
       "<div>\n",
       "<style scoped>\n",
       "    .dataframe tbody tr th:only-of-type {\n",
       "        vertical-align: middle;\n",
       "    }\n",
       "\n",
       "    .dataframe tbody tr th {\n",
       "        vertical-align: top;\n",
       "    }\n",
       "\n",
       "    .dataframe thead th {\n",
       "        text-align: right;\n",
       "    }\n",
       "</style>\n",
       "<table border=\"1\" class=\"dataframe\">\n",
       "  <thead>\n",
       "    <tr style=\"text-align: right;\">\n",
       "      <th></th>\n",
       "      <th>client_id</th>\n",
       "      <th>month_end_dt</th>\n",
       "      <th>appl_prod_group_name</th>\n",
       "      <th>appl_prod_type_name</th>\n",
       "      <th>appl_stts_name_dc</th>\n",
       "      <th>appl_sale_channel_name</th>\n",
       "    </tr>\n",
       "  </thead>\n",
       "  <tbody>\n",
       "    <tr>\n",
       "      <th>0</th>\n",
       "      <td>6886062013213911831</td>\n",
       "      <td>2018-10-31</td>\n",
       "      <td>PILS</td>\n",
       "      <td>PILS</td>\n",
       "      <td>The consultation is over</td>\n",
       "      <td>Network</td>\n",
       "    </tr>\n",
       "    <tr>\n",
       "      <th>1</th>\n",
       "      <td>4497537671718296975</td>\n",
       "      <td>2018-10-31</td>\n",
       "      <td>PILS</td>\n",
       "      <td>PILS</td>\n",
       "      <td>The consultation is over</td>\n",
       "      <td>Network</td>\n",
       "    </tr>\n",
       "    <tr>\n",
       "      <th>2</th>\n",
       "      <td>1316154201527307743</td>\n",
       "      <td>2018-09-30</td>\n",
       "      <td>PILS</td>\n",
       "      <td>PILS</td>\n",
       "      <td>The consultation is over</td>\n",
       "      <td>Network</td>\n",
       "    </tr>\n",
       "    <tr>\n",
       "      <th>3</th>\n",
       "      <td>1316154201527307743</td>\n",
       "      <td>2018-09-30</td>\n",
       "      <td>PILS</td>\n",
       "      <td>PILS</td>\n",
       "      <td>The consultation is over</td>\n",
       "      <td>Network</td>\n",
       "    </tr>\n",
       "    <tr>\n",
       "      <th>4</th>\n",
       "      <td>1316154201527307743</td>\n",
       "      <td>2018-09-30</td>\n",
       "      <td>PILS</td>\n",
       "      <td>PILS</td>\n",
       "      <td>The consultation is over</td>\n",
       "      <td>Network</td>\n",
       "    </tr>\n",
       "  </tbody>\n",
       "</table>\n",
       "</div>"
      ],
      "text/plain": [
       "             client_id month_end_dt appl_prod_group_name appl_prod_type_name  \\\n",
       "0  6886062013213911831   2018-10-31                 PILS                PILS   \n",
       "1  4497537671718296975   2018-10-31                 PILS                PILS   \n",
       "2  1316154201527307743   2018-09-30                 PILS                PILS   \n",
       "3  1316154201527307743   2018-09-30                 PILS                PILS   \n",
       "4  1316154201527307743   2018-09-30                 PILS                PILS   \n",
       "\n",
       "          appl_stts_name_dc appl_sale_channel_name  \n",
       "0  The consultation is over                Network  \n",
       "1  The consultation is over                Network  \n",
       "2  The consultation is over                Network  \n",
       "3  The consultation is over                Network  \n",
       "4  The consultation is over                Network  "
      ]
     },
     "execution_count": 8,
     "metadata": {},
     "output_type": "execute_result"
    }
   ],
   "source": [
    "# no info about this file was provided yet\n",
    "print(appl.shape)\n",
    "appl.head()"
   ]
  }
 ],
 "metadata": {
  "environment": {
   "name": "common-cpu.m65",
   "type": "gcloud",
   "uri": "gcr.io/deeplearning-platform-release/base-cpu:m65"
  },
  "kernelspec": {
   "display_name": "Python 3",
   "language": "python",
   "name": "python3"
  },
  "language_info": {
   "codemirror_mode": {
    "name": "ipython",
    "version": 3
   },
   "file_extension": ".py",
   "mimetype": "text/x-python",
   "name": "python",
   "nbconvert_exporter": "python",
   "pygments_lexer": "ipython3",
   "version": "3.7.10"
  }
 },
 "nbformat": 4,
 "nbformat_minor": 4
}
